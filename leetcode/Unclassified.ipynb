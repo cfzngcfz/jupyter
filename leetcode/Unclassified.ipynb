{
 "cells": [
  {
   "cell_type": "markdown",
   "id": "b95fbb50",
   "metadata": {},
   "source": [
    "# 二分查找"
   ]
  },
  {
   "cell_type": "code",
   "execution_count": 1,
   "id": "e7ed5c18",
   "metadata": {},
   "outputs": [
    {
     "name": "stdout",
     "output_type": "stream",
     "text": [
      "3\n"
     ]
    }
   ],
   "source": [
    "nums = [5,7,7,8,8,10]\n",
    "target = 8\n",
    "\n",
    "index_left = 0\n",
    "index_right = len(nums) -1\n",
    "while index_left <= index_right:\n",
    "    index_center = int((index_left + index_right)/2)\n",
    "    if nums[index_center] >= target:\n",
    "        index_right = index_center - 1\n",
    "    else:\n",
    "        index_left = index_center + 1\n",
    "\n",
    "print(index_left)"
   ]
  },
  {
   "cell_type": "markdown",
   "id": "c121e469",
   "metadata": {},
   "source": [
    "> Exercises:\n",
    "- [34. 在排序数组中查找元素的第一个和最后一个位置](https://leetcode.cn/problems/find-first-and-last-position-of-element-in-sorted-array/)\n",
    "- [704. 二分查找](https://leetcode.cn/problems/binary-search/)"
   ]
  },
  {
   "cell_type": "markdown",
   "id": "5fc42401",
   "metadata": {},
   "source": [
    "# 双指针"
   ]
  },
  {
   "cell_type": "markdown",
   "id": "5bbe8d76",
   "metadata": {},
   "source": [
    "## [15. 三数之和](https://leetcode.cn/problems/3sum/)\n",
    "给你一个整数数组$nums$，判断是否存在三元组$[nums[i], nums[j], nums[k]]$满足$i != j$、$i != k$且$j != k$，同时还满足$nums[i] + nums[j] + nums[k] == 0$。请你返回所有和为$0$且不重复的三元组。\n",
    "\n",
    "注意：答案中不可以包含重复的三元组。"
   ]
  },
  {
   "cell_type": "code",
   "execution_count": 5,
   "id": "2b503f94",
   "metadata": {
    "scrolled": true
   },
   "outputs": [
    {
     "name": "stdout",
     "output_type": "stream",
     "text": [
      "[[-1, -1, 2], [-1, 0, 1]]\n"
     ]
    }
   ],
   "source": [
    "nums = [-1,0,1,2,-1,-4]\n",
    "\n",
    "record = []\n",
    "nums.sort()\n",
    "if len(nums) > 2:\n",
    "    for ii in range(len(nums)-2):\n",
    "        index_left = ii+1\n",
    "        index_right = len(nums)-1\n",
    "        while index_left < index_right:\n",
    "            if nums[index_left] + nums[index_right] < -nums[ii]:\n",
    "                index_left += 1\n",
    "            elif nums[index_left] + nums[index_right] > -nums[ii]:\n",
    "                index_right -= 1\n",
    "            else:\n",
    "                if [nums[ii],nums[index_left],nums[index_right]] not in record:\n",
    "                    record.append([nums[ii],nums[index_left],nums[index_right]])\n",
    "                index_left += 1\n",
    "                index_right -= 1\n",
    "print(record)"
   ]
  },
  {
   "cell_type": "markdown",
   "id": "694bcce7",
   "metadata": {},
   "source": [
    "## [18. 四数之和](https://leetcode.cn/problems/4sum/)\n",
    "给你一个由$n$个整数组成的数组$nums$，和一个目标值$target$。请你找出并返回满足下述全部条件且**不重复**的四元组$[nums[a], nums[b], nums[c], nums[d]]$（若两个四元组元素一一对应，则认为两个四元组重复）：\n",
    "\n",
    "* $0 <= a, b, c, d < n$\n",
    "* $a$、$b$、$c$和$d$**互不相同**\n",
    "* $nums[a] + nums[b] + nums[c] + nums[d] == target$\n",
    "\n",
    "你可以按**任意顺序**返回答案 。"
   ]
  },
  {
   "cell_type": "code",
   "execution_count": 7,
   "id": "c04874d6",
   "metadata": {},
   "outputs": [
    {
     "name": "stdout",
     "output_type": "stream",
     "text": [
      "[[-2, -1, 1, 2], [-2, 0, 0, 2], [-1, 0, 0, 1]]\n"
     ]
    }
   ],
   "source": [
    "nums = [1,0,-1,0,-2,2]\n",
    "target = 0\n",
    "\n",
    "nums.sort()\n",
    "record = []\n",
    "if len(nums) > 3:\n",
    "    for ii in range(len(nums)-3):\n",
    "        for jj in range(ii+1,len(nums)-2):\n",
    "            index_left = jj + 1\n",
    "            index_right = len(nums) - 1\n",
    "            while index_left < index_right:\n",
    "                if nums[index_left] + nums[index_right] < target - nums[ii] - nums[jj]:\n",
    "                    index_left += 1\n",
    "                elif nums[index_left] + nums[index_right] > target - nums[ii] - nums[jj]:\n",
    "                    index_right -= 1\n",
    "                else:\n",
    "                    if [nums[ii],nums[jj],nums[index_left],nums[index_right]] not in record:\n",
    "                        record.append([nums[ii],nums[jj],nums[index_left],nums[index_right]])\n",
    "                    index_left += 1\n",
    "                    index_right -= 1\n",
    "print(record)"
   ]
  },
  {
   "cell_type": "markdown",
   "id": "cc3a59dc",
   "metadata": {},
   "source": [
    "# [56. 合并区间](https://leetcode.cn/problems/merge-intervals/)\n",
    "以数组$intervals$表示若干个区间的集合，其中单个区间为$intervals[i] = [start_i, end_i]$。请你合并所有重叠的区间，并返回**一个不重叠的区间数组，该数组需恰好覆盖输入中的所有区间**。"
   ]
  },
  {
   "cell_type": "code",
   "execution_count": null,
   "id": "9c2c48b3",
   "metadata": {},
   "outputs": [],
   "source": [
    "intervals = [[2,6],[1,3],[8,10],[15,18]]\n",
    "\n",
    "intervals.sort()\n",
    "output = [intervals[0]]\n",
    "for ii in range(1,len(intervals)):\n",
    "    if output[-1][1] < intervals[ii][0]:\n",
    "        output.append(intervals[ii])\n",
    "    else:\n",
    "        output[-1][1] = max(output[-1][1],intervals[ii][1])\n",
    "\n",
    "print(output)"
   ]
  },
  {
   "cell_type": "code",
   "execution_count": 2,
   "id": "b3ff3b58",
   "metadata": {},
   "outputs": [],
   "source": [
    "intervals = [[2,6],[1,3],[8,10],[15,18]]\n",
    "\n",
    "for ii in range(len(intervals)-1, -1, -1):\n",
    "    for jj in range(ii-1, -1 , -1):\n",
    "        if intervals[jj][1] < intervals[ii][0] or intervals[ii][1] < intervals[jj][0]:\n",
    "            continue\n",
    "        else:\n",
    "            intervals[jj][0] = min(intervals[jj][0], intervals[ii][0])\n",
    "            intervals[jj][1] = max(intervals[jj][1], intervals[ii][1])\n",
    "            intervals.pop(ii)\n",
    "            break\n",
    "\n",
    "print(output)"
   ]
  },
  {
   "cell_type": "code",
   "execution_count": 3,
   "id": "04a79c8d",
   "metadata": {},
   "outputs": [
    {
     "name": "stdout",
     "output_type": "stream",
     "text": [
      "1, 6\n",
      "8, 10\n",
      "15, 18\n"
     ]
    }
   ],
   "source": [
    "#include <vector>\n",
    "#include <algorithm>\n",
    "#include <iostream>\n",
    "\n",
    "std::vector<std::vector<int>> intervals = {{1,3},{2,6},{8,10},{15,18}};\n",
    "\n",
    "sort(intervals.begin(), intervals.end());\n",
    "std::vector<std::vector<int>> output = {intervals[0]};\n",
    "for (int ii = 1; ii < intervals.size(); ii++) {\n",
    "    if (output.back()[1] < intervals[ii][0]) {\n",
    "        output.emplace_back(intervals[ii]);\n",
    "    }\n",
    "    else {\n",
    "        output.back()[1] = std::max(output.back()[1], intervals[ii][1]);\n",
    "    }\n",
    "}\n",
    "\n",
    "for (auto interval : output) {\n",
    "    std::cout << interval[0] << \", \" << interval[1] << std::endl;\n",
    "}"
   ]
  },
  {
   "cell_type": "markdown",
   "id": "b91105de",
   "metadata": {},
   "source": [
    "# [633. 平方数之和](https://leetcode.cn/problems/sum-of-square-numbers/)\n",
    "给定一个非负整数$c$，你要判断是否存在两个整数$a$和$b$，使得$a^2 + b^2 = c$。"
   ]
  },
  {
   "cell_type": "code",
   "execution_count": 9,
   "id": "92e09d4c",
   "metadata": {},
   "outputs": [
    {
     "data": {
      "text/plain": [
       "True"
      ]
     },
     "execution_count": 9,
     "metadata": {},
     "output_type": "execute_result"
    }
   ],
   "source": [
    "import math\n",
    "def judgeSquareSum(c):\n",
    "    for a in range(int(math.sqrt(c)) + 1):\n",
    "        b = math.sqrt(c - a * a)\n",
    "        if b == int(b):\n",
    "            return True\n",
    "    return False\n",
    "judgeSquareSum(5)"
   ]
  },
  {
   "cell_type": "code",
   "execution_count": 1,
   "id": "69d0d527",
   "metadata": {},
   "outputs": [
    {
     "name": "stdout",
     "output_type": "stream",
     "text": [
      "1\n"
     ]
    }
   ],
   "source": [
    "#include <iostream>\n",
    "\n",
    "bool judgeSquareSum(int c) {\n",
    "    for (long a = 0; a * a <= c; a++) {\n",
    "        double b = sqrt(c - a * a);\n",
    "        if (b == int(b)) {\n",
    "            return true;\n",
    "        }\n",
    "    }\n",
    "    return false;\n",
    "}\n",
    "std::cout << judgeSquareSum(5) << std::endl;"
   ]
  },
  {
   "cell_type": "markdown",
   "id": "45d61783",
   "metadata": {},
   "source": [
    "# [1010. 总持续时间可被 60 整除的歌曲](https://leetcode.cn/problems/pairs-of-songs-with-total-durations-divisible-by-60/)\n",
    "在歌曲列表中，第 i 首歌曲的持续时间为 time[i] 秒。  \n",
    "返回其总持续时间（以秒为单位）可被 60 整除的歌曲对的数量。形式上，我们希望下标数字 i 和 j 满足  i < j 且有 (time[i] + time[j]) % 60 == 0。"
   ]
  },
  {
   "cell_type": "markdown",
   "id": "36bb301e",
   "metadata": {},
   "source": [
    "**思路**\n",
    "\n",
    "需要返回其总持续时间（以秒为单位）可被60整除的歌曲对的数量，因此，每首歌曲对结果的影响因素是它的持续时间除以 60 后的余数。可以用一个长度为 60 的数组 cnt，用来表示余数出现的次数。然后分情况统计歌曲对：\n",
    "\n",
    "> 1.余数为 0 的歌曲。他们需要与余数为 0 的歌曲组成对，但不能与自己组成对。歌曲对的数量为 $cnt[0]×(cnt[0]−1)/2$。  \n",
    "> 2.余数为 30 的歌曲。他们需要与余数为 30 的歌曲组成对，但不能与自己组成对。歌曲对的数量为 $cnt[30]×(cnt[30]−1)/2$。  \n",
    "> 3.余数为 i,i∈[1,29] 的歌曲。他们需要与余数为 60−i 的歌曲组成对。歌曲对的数量为$\\sum_{i=1}^{29} cnt[i]×cnt[60−i]$。  \n",
    "> 4.余数为 i,i∈[31,59] 的歌曲。已经在上一部分组对过，不需要重复计算。  \n",
    "\n",
    "把这几部分求和，就可以得到最后的对数。"
   ]
  },
  {
   "cell_type": "code",
   "execution_count": null,
   "id": "8f15fa76",
   "metadata": {},
   "outputs": [],
   "source": [
    "class Solution(object):\n",
    "    def numPairsDivisibleBy60(self, time):\n",
    "        \"\"\"\n",
    "        :type time: List[int]\n",
    "        :rtype: int\n",
    "        \"\"\"\n",
    "        dict_count = {}\n",
    "        for num in time:\n",
    "            if num % 60 not in dict_count:\n",
    "                dict_count[num % 60] = 0\n",
    "            dict_count[num % 60] += 1\n",
    "        count = 0\n",
    "        for key in dict_count.keys():\n",
    "            if key == 0 or key == 30:\n",
    "                count += dict_count[key] * (dict_count[key] - 1) / 2\n",
    "            elif 0 < key < 30:\n",
    "                if 60 - key in dict_count:\n",
    "                    count += dict_count[key] * dict_count[60-key]\n",
    "        return count"
   ]
  }
 ],
 "metadata": {
  "kernelspec": {
   "display_name": "C++14",
   "language": "C++14",
   "name": "xcpp14"
  },
  "language_info": {
   "codemirror_mode": "text/x-c++src",
   "file_extension": ".cpp",
   "mimetype": "text/x-c++src",
   "name": "c++",
   "version": "14"
  },
  "toc": {
   "base_numbering": 1,
   "nav_menu": {},
   "number_sections": true,
   "sideBar": true,
   "skip_h1_title": false,
   "title_cell": "Table of Contents",
   "title_sidebar": "Contents",
   "toc_cell": false,
   "toc_position": {
    "height": "calc(100% - 180px)",
    "left": "10px",
    "top": "150px",
    "width": "210.275px"
   },
   "toc_section_display": true,
   "toc_window_display": true
  }
 },
 "nbformat": 4,
 "nbformat_minor": 5
}
