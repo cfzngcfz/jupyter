{
 "cells": [
  {
   "cell_type": "markdown",
   "id": "b95fbb50",
   "metadata": {},
   "source": [
    "# 二分法\n"
   ]
  },
  {
   "cell_type": "code",
   "execution_count": 1,
   "id": "e7ed5c18",
   "metadata": {},
   "outputs": [
    {
     "name": "stdout",
     "output_type": "stream",
     "text": [
      "3\n"
     ]
    }
   ],
   "source": [
    "nums = [5,7,7,8,8,10]\n",
    "target = 8\n",
    "\n",
    "index_left = 0\n",
    "index_right = len(nums) -1\n",
    "while index_left <= index_right:\n",
    "    index_center = int((index_left + index_right)/2)\n",
    "    if nums[index_center] >= target:\n",
    "        index_right = index_center - 1\n",
    "    else:\n",
    "        index_left = index_center + 1\n",
    "\n",
    "print(index_left)"
   ]
  },
  {
   "cell_type": "markdown",
   "id": "c121e469",
   "metadata": {},
   "source": [
    "[34. 在排序数组中查找元素的第一个和最后一个位置](https://leetcode.cn/problems/find-first-and-last-position-of-element-in-sorted-array/)"
   ]
  },
  {
   "cell_type": "markdown",
   "id": "cc3a59dc",
   "metadata": {},
   "source": [
    "# [56. 合并区间](https://leetcode.cn/problems/merge-intervals/)"
   ]
  },
  {
   "cell_type": "code",
   "execution_count": null,
   "id": "9c2c48b3",
   "metadata": {},
   "outputs": [],
   "source": [
    "intervals = [[2,6],[1,3],[8,10],[15,18]]\n",
    "intervals.sort()\n",
    "output = [intervals[0]]\n",
    "for ii in range(1,len(intervals)):\n",
    "    if output[-1][1] < intervals[ii][0]:\n",
    "        output.append(intervals[ii])\n",
    "    else:\n",
    "        output[-1][1] = max(output[-1][1],intervals[ii][1])\n",
    "print(output)"
   ]
  },
  {
   "cell_type": "code",
   "execution_count": 2,
   "id": "b3ff3b58",
   "metadata": {},
   "outputs": [],
   "source": [
    "#include <vector>\n",
    "#include <algorithm>\n",
    "#include <iostream>"
   ]
  },
  {
   "cell_type": "code",
   "execution_count": 3,
   "id": "04a79c8d",
   "metadata": {},
   "outputs": [
    {
     "name": "stdout",
     "output_type": "stream",
     "text": [
      "1, 6\n",
      "8, 10\n",
      "15, 18\n"
     ]
    }
   ],
   "source": [
    "std::vector<std::vector<int>> intervals = {{1,3},{2,6},{8,10},{15,18}};\n",
    "\n",
    "// main\n",
    "sort(intervals.begin(), intervals.end());\n",
    "std::vector<std::vector<int>> output = {intervals[0]};\n",
    "for (int ii=1;ii<intervals.size();ii++) {\n",
    "    if (output.back()[1] < intervals[ii][0]) {\n",
    "        output.emplace_back(intervals[ii]);\n",
    "    }\n",
    "    else {\n",
    "        output.back()[1] = std::max(output.back()[1], intervals[ii][1]);\n",
    "    }\n",
    "}\n",
    "\n",
    "for (auto interval : output) {\n",
    "    std::cout << interval[0] << \", \" << interval[1] << std::endl;\n",
    "}"
   ]
  },
  {
   "cell_type": "code",
   "execution_count": null,
   "id": "a905c5e4",
   "metadata": {},
   "outputs": [],
   "source": []
  },
  {
   "cell_type": "code",
   "execution_count": 4,
   "id": "ca4d8e6d",
   "metadata": {},
   "outputs": [
    {
     "name": "stdout",
     "output_type": "stream",
     "text": [
      "1, 6\n",
      "8, 10\n",
      "15, 18\n"
     ]
    }
   ],
   "source": [
    "std::vector<std::vector<int>> intervals = {{1,3},{2,6},{8,10},{15,18}};\n",
    "\n",
    "// main\n",
    "for (int ii=intervals.size()-1;ii>-1;ii--) {\n",
    "    for (int jj=ii-1;jj>-1;jj--) {\n",
    "        if (intervals[jj][1] < intervals[ii][0] || intervals[ii][1] < intervals[jj][0]) {\n",
    "            continue;\n",
    "        }\n",
    "        else {\n",
    "            intervals[jj][0] = std::min(intervals[jj][0], intervals[ii][0]);\n",
    "            intervals[jj][1] = std::max(intervals[jj][1], intervals[ii][1]);\n",
    "            intervals.erase(intervals.begin()+ii);\n",
    "            break;\n",
    "        }\n",
    "    }\n",
    "}\n",
    "\n",
    "for (auto interval : intervals) {\n",
    "    std::cout << interval[0] << \", \" << interval[1] << std::endl;\n",
    "}"
   ]
  },
  {
   "cell_type": "markdown",
   "id": "45d61783",
   "metadata": {},
   "source": [
    "# [1010. 总持续时间可被 60 整除的歌曲](https://leetcode.cn/problems/pairs-of-songs-with-total-durations-divisible-by-60/)\n",
    "在歌曲列表中，第 i 首歌曲的持续时间为 time[i] 秒。  \n",
    "返回其总持续时间（以秒为单位）可被 60 整除的歌曲对的数量。形式上，我们希望下标数字 i 和 j 满足  i < j 且有 (time[i] + time[j]) % 60 == 0。"
   ]
  },
  {
   "cell_type": "markdown",
   "id": "36bb301e",
   "metadata": {},
   "source": [
    "**思路**\n",
    "\n",
    "需要返回其总持续时间（以秒为单位）可被60整除的歌曲对的数量，因此，每首歌曲对结果的影响因素是它的持续时间除以 60 后的余数。可以用一个长度为 60 的数组 cnt，用来表示余数出现的次数。然后分情况统计歌曲对：\n",
    "\n",
    "> 1.余数为 0 的歌曲。他们需要与余数为 0 的歌曲组成对，但不能与自己组成对。歌曲对的数量为 $cnt[0]×(cnt[0]−1)/2$。  \n",
    "> 2.余数为 30 的歌曲。他们需要与余数为 30 的歌曲组成对，但不能与自己组成对。歌曲对的数量为 $cnt[30]×(cnt[30]−1)/2$。  \n",
    "> 3.余数为 i,i∈[1,29] 的歌曲。他们需要与余数为 60−i 的歌曲组成对。歌曲对的数量为$\\sum_{i=1}^{29} cnt[i]×cnt[60−i]$。  \n",
    "> 4.余数为 i,i∈[31,59] 的歌曲。已经在上一部分组对过，不需要重复计算。  \n",
    "\n",
    "把这几部分求和，就可以得到最后的对数。"
   ]
  },
  {
   "cell_type": "code",
   "execution_count": null,
   "id": "8f15fa76",
   "metadata": {},
   "outputs": [],
   "source": [
    "class Solution(object):\n",
    "    def numPairsDivisibleBy60(self, time):\n",
    "        \"\"\"\n",
    "        :type time: List[int]\n",
    "        :rtype: int\n",
    "        \"\"\"\n",
    "        dict_count = {}\n",
    "        for num in time:\n",
    "            if num % 60 not in dict_count:\n",
    "                dict_count[num % 60] = 0\n",
    "            dict_count[num % 60] += 1\n",
    "        count = 0\n",
    "        for key in dict_count.keys():\n",
    "            if key == 0 or key == 30:\n",
    "                count += dict_count[key] * (dict_count[key] - 1) / 2\n",
    "            elif 0 < key < 30:\n",
    "                if 60 - key in dict_count:\n",
    "                    count += dict_count[key] * dict_count[60-key]\n",
    "        return count"
   ]
  }
 ],
 "metadata": {
  "kernelspec": {
   "display_name": "Python 3 (ipykernel)",
   "language": "python",
   "name": "python3"
  },
  "language_info": {
   "codemirror_mode": {
    "name": "ipython",
    "version": 3
   },
   "file_extension": ".py",
   "mimetype": "text/x-python",
   "name": "python",
   "nbconvert_exporter": "python",
   "pygments_lexer": "ipython3",
   "version": "3.9.7"
  },
  "toc": {
   "base_numbering": 1,
   "nav_menu": {},
   "number_sections": true,
   "sideBar": true,
   "skip_h1_title": false,
   "title_cell": "Table of Contents",
   "title_sidebar": "Contents",
   "toc_cell": false,
   "toc_position": {},
   "toc_section_display": true,
   "toc_window_display": true
  }
 },
 "nbformat": 4,
 "nbformat_minor": 5
}
