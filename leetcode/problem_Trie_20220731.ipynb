{
 "cells": [
  {
   "cell_type": "markdown",
   "id": "d53e41b3",
   "metadata": {},
   "source": [
    "# Trie/前缀树/字典树\n",
    "\n",
    "<font color=red>待深入研究</font>"
   ]
  },
  {
   "cell_type": "markdown",
   "id": "7022188d",
   "metadata": {},
   "source": [
    "## 208. 实现 Trie (前缀树)\n",
    "https://leetcode-cn.com/problems/implement-trie-prefix-tree/"
   ]
  },
  {
   "cell_type": "code",
   "execution_count": 4,
   "id": "8aef386c",
   "metadata": {},
   "outputs": [],
   "source": [
    "class Trie:\n",
    "    def __init__(self):\n",
    "        self.children = [None] * 26\n",
    "        self.isEnd = False\n",
    "    \n",
    "    def searchPrefix(self, prefix: str) -> \"Trie\":\n",
    "        node = self\n",
    "        for ch in prefix:\n",
    "            ch = ord(ch) - ord(\"a\")\n",
    "            if not node.children[ch]:\n",
    "                return None\n",
    "            node = node.children[ch]\n",
    "        return node\n",
    "\n",
    "    def insert(self, word: str) -> None:\n",
    "        node = self\n",
    "        for ch in word:\n",
    "            ch = ord(ch) - ord(\"a\")\n",
    "            if not node.children[ch]:\n",
    "                node.children[ch] = Trie()\n",
    "            node = node.children[ch]\n",
    "        node.isEnd = True\n",
    "\n",
    "    def search(self, word: str) -> bool:\n",
    "        node = self.searchPrefix(word)\n",
    "        return node is not None and node.isEnd\n",
    "\n",
    "    def startsWith(self, prefix: str) -> bool:\n",
    "        return self.searchPrefix(prefix) is not None\n"
   ]
  },
  {
   "cell_type": "code",
   "execution_count": 21,
   "id": "b9d17e90",
   "metadata": {},
   "outputs": [
    {
     "data": {
      "text/plain": [
       "<__main__.Trie at 0x7f8e183b0730>"
      ]
     },
     "execution_count": 21,
     "metadata": {},
     "output_type": "execute_result"
    }
   ],
   "source": [
    "obj = Trie()\n",
    "obj.insert(\"apple\")\n",
    "obj"
   ]
  },
  {
   "cell_type": "code",
   "execution_count": 22,
   "id": "028fc5f6",
   "metadata": {},
   "outputs": [
    {
     "data": {
      "text/plain": [
       "[<__main__.Trie at 0x7f8e183b0f70>,\n",
       " None,\n",
       " None,\n",
       " None,\n",
       " None,\n",
       " None,\n",
       " None,\n",
       " None,\n",
       " None,\n",
       " None,\n",
       " None,\n",
       " None,\n",
       " None,\n",
       " None,\n",
       " None,\n",
       " None,\n",
       " None,\n",
       " None,\n",
       " None,\n",
       " None,\n",
       " None,\n",
       " None,\n",
       " None,\n",
       " None,\n",
       " None,\n",
       " None]"
      ]
     },
     "execution_count": 22,
     "metadata": {},
     "output_type": "execute_result"
    }
   ],
   "source": [
    "obj.children"
   ]
  },
  {
   "cell_type": "code",
   "execution_count": 23,
   "id": "4d77d6ce",
   "metadata": {},
   "outputs": [
    {
     "data": {
      "text/plain": [
       "False"
      ]
     },
     "execution_count": 23,
     "metadata": {},
     "output_type": "execute_result"
    }
   ],
   "source": [
    "obj.isEnd"
   ]
  },
  {
   "cell_type": "code",
   "execution_count": 24,
   "id": "65f230e5",
   "metadata": {},
   "outputs": [
    {
     "data": {
      "text/plain": [
       "<__main__.Trie at 0x7f8e183b0f70>"
      ]
     },
     "execution_count": 24,
     "metadata": {},
     "output_type": "execute_result"
    }
   ],
   "source": [
    "obj.children[0]"
   ]
  },
  {
   "cell_type": "code",
   "execution_count": 25,
   "id": "a33c59ef",
   "metadata": {},
   "outputs": [
    {
     "data": {
      "text/plain": [
       "[None,\n",
       " None,\n",
       " None,\n",
       " None,\n",
       " None,\n",
       " None,\n",
       " None,\n",
       " None,\n",
       " None,\n",
       " None,\n",
       " None,\n",
       " None,\n",
       " None,\n",
       " None,\n",
       " None,\n",
       " <__main__.Trie at 0x7f8e183cc2b0>,\n",
       " None,\n",
       " None,\n",
       " None,\n",
       " None,\n",
       " None,\n",
       " None,\n",
       " None,\n",
       " None,\n",
       " None,\n",
       " None]"
      ]
     },
     "execution_count": 25,
     "metadata": {},
     "output_type": "execute_result"
    }
   ],
   "source": [
    "obj.children[0].children"
   ]
  },
  {
   "cell_type": "code",
   "execution_count": null,
   "id": "85380370",
   "metadata": {},
   "outputs": [],
   "source": [
    "print(obj.search(\"apple\"))\n",
    "print(obj.search(\"app\"))\n",
    "print(obj.startsWith(\"app\"))\n",
    "obj.insert(\"app\")\n",
    "print(obj.search(\"app\"))"
   ]
  },
  {
   "cell_type": "markdown",
   "id": "4f42129c",
   "metadata": {},
   "source": [
    "## 211. 添加与搜索单词 - 数据结构设计\n",
    "https://leetcode-cn.com/problems/design-add-and-search-words-data-structure/"
   ]
  },
  {
   "cell_type": "code",
   "execution_count": 12,
   "id": "7637923f",
   "metadata": {},
   "outputs": [],
   "source": [
    "class TrieNode:\n",
    "    def __init__(self):\n",
    "        self.children = [None] * 26\n",
    "        self.isEnd = False\n",
    "\n",
    "    def insert(self, word: str) -> None:\n",
    "        node = self\n",
    "        for ch in word:\n",
    "            ch = ord(ch) - ord('a')\n",
    "            if not node.children[ch]:\n",
    "                node.children[ch] = TrieNode()\n",
    "            node = node.children[ch]\n",
    "        node.isEnd = True\n",
    "\n",
    "\n",
    "class WordDictionary:\n",
    "    def __init__(self):\n",
    "        self.trieRoot = TrieNode()\n",
    "\n",
    "    def addWord(self, word: str) -> None:\n",
    "        self.trieRoot.insert(word)\n",
    "\n",
    "    def search(self, word: str) -> bool:\n",
    "        def dfs(index: int, node: TrieNode) -> bool:\n",
    "            if index == len(word):\n",
    "                return node.isEnd\n",
    "            ch = word[index]\n",
    "            if ch != '.':\n",
    "                child = node.children[ord(ch) - ord('a')]\n",
    "                if child is not None and dfs(index + 1, child):\n",
    "                    return True\n",
    "            else:\n",
    "                for child in node.children:\n",
    "                    if child is not None and dfs(index + 1, child):\n",
    "                        return True\n",
    "            return False\n",
    "\n",
    "        return dfs(0, self.trieRoot)"
   ]
  },
  {
   "cell_type": "code",
   "execution_count": 15,
   "id": "a1ec228d",
   "metadata": {},
   "outputs": [
    {
     "name": "stdout",
     "output_type": "stream",
     "text": [
      "False\n",
      "True\n",
      "True\n",
      "True\n"
     ]
    }
   ],
   "source": [
    "obj = WordDictionary()\n",
    "obj.addWord(\"bad\")\n",
    "obj.addWord(\"dad\")\n",
    "obj.addWord(\"mad\")\n",
    "print(obj.search(\"pad\"))\n",
    "print(obj.search(\"bad\"))\n",
    "print(obj.search(\".ad\"))\n",
    "print(obj.search(\"b..\"))"
   ]
  },
  {
   "cell_type": "markdown",
   "id": "27f6ab33",
   "metadata": {},
   "source": [
    "## 677. 键值映射  \n",
    "https://leetcode-cn.com/problems/map-sum-pairs/  \n",
    "待尝试用前缀和解题  "
   ]
  },
  {
   "cell_type": "code",
   "execution_count": null,
   "id": "b077e1c4",
   "metadata": {},
   "outputs": [],
   "source": []
  }
 ],
 "metadata": {
  "kernelspec": {
   "display_name": "Python 3 (ipykernel)",
   "language": "python",
   "name": "python3"
  },
  "language_info": {
   "codemirror_mode": {
    "name": "ipython",
    "version": 3
   },
   "file_extension": ".py",
   "mimetype": "text/x-python",
   "name": "python",
   "nbconvert_exporter": "python",
   "pygments_lexer": "ipython3",
   "version": "3.9.5"
  },
  "toc": {
   "base_numbering": 1,
   "nav_menu": {},
   "number_sections": true,
   "sideBar": true,
   "skip_h1_title": false,
   "title_cell": "Table of Contents",
   "title_sidebar": "Contents",
   "toc_cell": false,
   "toc_position": {},
   "toc_section_display": true,
   "toc_window_display": true
  }
 },
 "nbformat": 4,
 "nbformat_minor": 5
}
