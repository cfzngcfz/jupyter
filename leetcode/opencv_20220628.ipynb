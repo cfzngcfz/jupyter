{
 "cells": [
  {
   "cell_type": "markdown",
   "id": "9ee12251",
   "metadata": {},
   "source": [
    "## 图像读取\n",
    "imread  \n",
    "cv2.IMREAD_GRAYSCALE #灰度图像  \n",
    "cv2.IMREAD_COLOR    #彩色图像"
   ]
  },
  {
   "cell_type": "code",
   "execution_count": 1,
   "id": "054b349b",
   "metadata": {},
   "outputs": [],
   "source": [
    "import cv2\n",
    "import matplotlib.pyplot as plt\n",
    "import numpy as np\n",
    "%matplotlib inline"
   ]
  },
  {
   "cell_type": "code",
   "execution_count": 2,
   "id": "ccc12307",
   "metadata": {
    "collapsed": true
   },
   "outputs": [],
   "source": [
    "# img = cv2.imread('./opencv_data/dog.jpg') # opencv默认读取BGR格式\n",
    "# img = cv2.imread('./opencv_data/dog.jpg',cv2.IMREAD_COLOR) # 彩色图像\n",
    "img = cv2.imread('./opencv_data/dog.jpg', cv2.IMREAD_GRAYSCALE) #灰度图像\n",
    "cv2.imshow('Cat', img)\n",
    "cv2.waitKey(0) # 等待，0表示键盘任意键终止，如果为1000代表1000毫秒结束显示\n",
    "cv2.destroyAllWindows()"
   ]
  },
  {
   "cell_type": "code",
   "execution_count": 6,
   "id": "a7eb624d",
   "metadata": {},
   "outputs": [
    {
     "name": "stdout",
     "output_type": "stream",
     "text": [
      "shape =  (865, 1200)\n",
      "size/像素点数量 =  1038000\n",
      "<class 'numpy.ndarray'>\n",
      "uint8\n"
     ]
    },
    {
     "data": {
      "text/plain": [
       "array([[255, 255, 255, ..., 255, 255, 255],\n",
       "       [255, 255, 255, ..., 255, 255, 255],\n",
       "       [255, 255, 255, ..., 255, 255, 255],\n",
       "       ...,\n",
       "       [255, 255, 255, ..., 255, 255, 255],\n",
       "       [255, 255, 255, ..., 255, 255, 255],\n",
       "       [255, 255, 255, ..., 255, 255, 255]], dtype=uint8)"
      ]
     },
     "execution_count": 6,
     "metadata": {},
     "output_type": "execute_result"
    }
   ],
   "source": [
    "print(\"shape = \", img.shape)\n",
    "print(\"size/像素点数量 = \", img.size)\n",
    "print(type(img))\n",
    "print(img.dtype)\n",
    "img"
   ]
  },
  {
   "cell_type": "code",
   "execution_count": 7,
   "id": "fea9ceeb",
   "metadata": {},
   "outputs": [
    {
     "data": {
      "text/plain": [
       "True"
      ]
     },
     "execution_count": 7,
     "metadata": {},
     "output_type": "execute_result"
    }
   ],
   "source": [
    "cv2.imwrite('./opencv_data/dog_gray.jpg', img)"
   ]
  },
  {
   "cell_type": "markdown",
   "id": "ad4a8dd8",
   "metadata": {},
   "source": [
    "##  视频读取"
   ]
  },
  {
   "cell_type": "code",
   "execution_count": 11,
   "id": "9f4c2590",
   "metadata": {
    "collapsed": true
   },
   "outputs": [],
   "source": [
    "import cv2\n",
    "vc = cv2.VideoCapture('./opencv_data/chaplin.mp4')\n",
    "# 判断是否能够读取视频\n",
    "if vc.isOpened():\n",
    "    open, frame = vc.read()\n",
    "else:\n",
    "    open = False\n",
    "while open:\n",
    "    ret, frame = vc.read() # 读取一帧，ret bool, frame 图像\n",
    "    if frame is None:\n",
    "        break\n",
    "    if ret == True:\n",
    "        gray = cv2.cvtColor(frame, cv2.COLOR_BGR2GRAY)\n",
    "        cv2.imshow('result', gray)\n",
    "        if cv2.waitKey(10) & 0xFF == 27:\n",
    "            break\n",
    "vc.release()\n",
    "cv2.destroyAllWindows()"
   ]
  },
  {
   "cell_type": "code",
   "execution_count": 12,
   "id": "203e76cd",
   "metadata": {
    "collapsed": true
   },
   "outputs": [],
   "source": [
    "# Region Of Interest\n",
    "import cv2\n",
    "img = cv2.imread('./opencv_data/dog.jpg')\n",
    "img2 = img[50:200, 100:400] # 切片读取感兴趣的区域\n",
    "cv2.imshow('cat',img2)\n",
    "cv2.waitKey(0)\n",
    "cv2.destroyAllWindows()\n"
   ]
  },
  {
   "cell_type": "code",
   "execution_count": null,
   "id": "6e66f29f",
   "metadata": {
    "collapsed": true
   },
   "outputs": [],
   "source": []
  }
 ],
 "metadata": {
  "kernelspec": {
   "display_name": "Python 3 (ipykernel)",
   "language": "python",
   "name": "python3"
  },
  "language_info": {
   "codemirror_mode": {
    "name": "ipython",
    "version": 3
   },
   "file_extension": ".py",
   "mimetype": "text/x-python",
   "name": "python",
   "nbconvert_exporter": "python",
   "pygments_lexer": "ipython3",
   "version": "3.9.7"
  }
 },
 "nbformat": 4,
 "nbformat_minor": 5
}
