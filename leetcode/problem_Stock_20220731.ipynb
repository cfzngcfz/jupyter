{
 "cells": [
  {
   "cell_type": "markdown",
   "id": "27c54ca8",
   "metadata": {},
   "source": [
    "# 123. 买卖股票的最佳时机 III\n",
    "https://leetcode-cn.com/problems/best-time-to-buy-and-sell-stock-iii/  \n",
    "限购买次数"
   ]
  },
  {
   "cell_type": "code",
   "execution_count": 1,
   "id": "381409c2",
   "metadata": {},
   "outputs": [
    {
     "name": "stdout",
     "output_type": "stream",
     "text": [
      "6\n"
     ]
    }
   ],
   "source": [
    "prices = [3,3,5,0,0,3,1,4]\n",
    "prices = [1,4,1,4,3,1]\n",
    "\n",
    "dp = [[0]*len(prices) for _ in range(4)]\n",
    "dp[0][0] = dp[2][0] = -prices[0]\n",
    "dp[1][0] = dp[3][0] = 0\n",
    "for jj in range(1,len(prices)):\n",
    "    dp[0][jj] = max(dp[0][jj-1], -prices[jj]) #只进行过一次买操作\n",
    "    dp[1][jj] = max(dp[1][jj-1], dp[0][jj-1]+prices[jj]) #进行了一次买操作和一次卖操作，即完成了一笔交易\n",
    "    dp[2][jj] = max(dp[2][jj-1], dp[1][jj-1]-prices[jj]) #在完成了一笔交易的前提下，进行了第二次买操作\n",
    "    dp[3][jj] = max(dp[3][jj-1], dp[2][jj-1]+prices[jj]) #完成了全部两笔交易\n",
    "print(max(dp[-1]))"
   ]
  },
  {
   "cell_type": "markdown",
   "id": "248b5df0",
   "metadata": {},
   "source": [
    "# 188. 买卖股票的最佳时机 IV\n",
    "https://leetcode-cn.com/problems/best-time-to-buy-and-sell-stock-iv/  \n",
    "限购买次数\n",
    "\n",
    "同类型题目  \n",
    "question 121 买卖股票的最佳时机  \n",
    "https://leetcode-cn.com/problems/best-time-to-buy-and-sell-stock/"
   ]
  },
  {
   "cell_type": "code",
   "execution_count": 3,
   "id": "f129b388",
   "metadata": {},
   "outputs": [
    {
     "name": "stdout",
     "output_type": "stream",
     "text": [
      "7\n"
     ]
    }
   ],
   "source": [
    "prices = [3,2,6,5,0,3]\n",
    "k = 2\n",
    "\n",
    "dp = [[0]*len(prices) for _ in range(2*k)]\n",
    "for ii in range(len(dp)):\n",
    "    if ii%2 == 0:\n",
    "        dp[ii][0] = -prices[0]\n",
    "    else:\n",
    "        dp[ii][0] = 0\n",
    "for ii in range(len(dp)):\n",
    "    for jj in range(1,len(dp[0])):\n",
    "        if ii%2 == 0:\n",
    "            if ii == 0:\n",
    "                dp[ii][jj] = max(dp[ii][jj-1], -prices[jj])\n",
    "            else:\n",
    "                dp[ii][jj] = max(dp[ii][jj-1], dp[ii-1][jj-1]-prices[jj])\n",
    "        else:\n",
    "            dp[ii][jj] = max(dp[ii][jj-1], dp[ii-1][jj-1]+prices[jj])\n",
    "print(max(dp[-1]))\n"
   ]
  },
  {
   "cell_type": "markdown",
   "id": "37b46dee",
   "metadata": {},
   "source": [
    "# 122. 买卖股票的最佳时机 II\n",
    "https://leetcode-cn.com/problems/best-time-to-buy-and-sell-stock-ii/  \n",
    "不限购买次数"
   ]
  },
  {
   "cell_type": "code",
   "execution_count": 5,
   "id": "e49b7984",
   "metadata": {},
   "outputs": [
    {
     "name": "stdout",
     "output_type": "stream",
     "text": [
      "7\n"
     ]
    }
   ],
   "source": [
    "# 方法一：贪心\n",
    "\n",
    "prices = [7,1,5,3,6,4]\n",
    "# prices = [1,2,3,4,5]\n",
    "temp = 0\n",
    "for ii in range(1,len(prices)):\n",
    "    if prices[ii] > prices[ii-1]:\n",
    "        temp += prices[ii] - prices[ii-1]\n",
    "print(temp)\n"
   ]
  },
  {
   "cell_type": "code",
   "execution_count": 6,
   "id": "2df16951",
   "metadata": {},
   "outputs": [
    {
     "name": "stdout",
     "output_type": "stream",
     "text": [
      "7\n"
     ]
    }
   ],
   "source": [
    "# 方法二：动态规划\n",
    "prices = [7,1,5,3,6,4]\n",
    "# prices = [1,2,3,4,5]\n",
    "dp = [[0]*len(prices) for _ in range(2)]\n",
    "dp[0][0] = -prices[0]\n",
    "for ii in range(1,len(prices)):\n",
    "    dp[0][ii] = max(dp[0][ii-1], dp[1][ii-1]-prices[ii]) #持有状态\n",
    "    dp[1][ii] = max(dp[1][ii-1], dp[0][ii-1]+prices[ii]) #空仓状态\n",
    "print(dp[1][-1])"
   ]
  },
  {
   "cell_type": "markdown",
   "id": "5c8040e4",
   "metadata": {},
   "source": [
    "# 714. 买卖股票的最佳时机含手续费\n",
    "https://leetcode-cn.com/problems/best-time-to-buy-and-sell-stock-with-transaction-fee/  \n",
    "不限购买次数"
   ]
  },
  {
   "cell_type": "code",
   "execution_count": 9,
   "id": "ca755042",
   "metadata": {},
   "outputs": [
    {
     "name": "stdout",
     "output_type": "stream",
     "text": [
      "8\n"
     ]
    }
   ],
   "source": [
    "prices = [1, 3, 2, 8, 4, 9]\n",
    "fee = 2\n",
    "\n",
    "dp = [[0]*len(prices) for _ in range(2)]\n",
    "dp[0][0] = -prices[0]-fee\n",
    "for ii in range(1,len(prices)):\n",
    "    dp[0][ii] = max(dp[0][ii-1], dp[1][ii-1]-prices[ii]-fee) #持有状态\n",
    "    dp[1][ii] = max(dp[1][ii-1], dp[0][ii-1]+prices[ii]) #空仓状态\n",
    "print(dp[1][-1])"
   ]
  },
  {
   "cell_type": "markdown",
   "id": "3aa6ead3",
   "metadata": {},
   "source": [
    "# 309. 最佳买卖股票时机含冷冻期\n",
    "https://leetcode-cn.com/problems/best-time-to-buy-and-sell-stock-with-cooldown/  \n",
    "不限购买次数"
   ]
  },
  {
   "cell_type": "code",
   "execution_count": 11,
   "id": "ba997701",
   "metadata": {},
   "outputs": [
    {
     "name": "stdout",
     "output_type": "stream",
     "text": [
      "3\n"
     ]
    }
   ],
   "source": [
    "prices = [1,2,3,0,2]\n",
    "\n",
    "dp = [[0]*len(prices) for _ in range(2)]\n",
    "dp[0][0] = -prices[0]\n",
    "dp[1][0] = 0\n",
    "dp[0][1] = max(dp[0][0], dp[1][0]-prices[1])\n",
    "dp[1][1] = max(dp[1][0], dp[0][0]+prices[1])\n",
    "for ii in range(2,len(prices)):\n",
    "    dp[0][ii] = max(dp[0][ii-1], dp[1][ii-2]-prices[ii]) #持有状态\n",
    "    dp[1][ii] = max(dp[1][ii-1], dp[0][ii-1]+prices[ii]) #空仓状态\n",
    "print(dp[1][-1])"
   ]
  },
  {
   "cell_type": "code",
   "execution_count": null,
   "id": "f7524bbf",
   "metadata": {},
   "outputs": [],
   "source": []
  },
  {
   "cell_type": "code",
   "execution_count": null,
   "id": "88123a9b",
   "metadata": {},
   "outputs": [],
   "source": []
  }
 ],
 "metadata": {
  "kernelspec": {
   "display_name": "Python 3 (ipykernel)",
   "language": "python",
   "name": "python3"
  },
  "language_info": {
   "codemirror_mode": {
    "name": "ipython",
    "version": 3
   },
   "file_extension": ".py",
   "mimetype": "text/x-python",
   "name": "python",
   "nbconvert_exporter": "python",
   "pygments_lexer": "ipython3",
   "version": "3.9.7"
  }
 },
 "nbformat": 4,
 "nbformat_minor": 5
}
