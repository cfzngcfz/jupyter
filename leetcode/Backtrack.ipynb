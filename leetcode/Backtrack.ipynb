{
 "cells": [
  {
   "cell_type": "markdown",
   "id": "e5a0dce1",
   "metadata": {},
   "source": [
    "# 组合数\n",
    "## [39. 组合总和](https://leetcode.cn/problems/combination-sum/)"
   ]
  },
  {
   "cell_type": "code",
   "execution_count": 5,
   "id": "1d73183b",
   "metadata": {},
   "outputs": [
    {
     "name": "stdout",
     "output_type": "stream",
     "text": [
      "[[2, 2, 3], [7]]\n"
     ]
    }
   ],
   "source": [
    "candidates = [2,3,6,7]\n",
    "target = 7\n",
    "\n",
    "candidates.sort()\n",
    "record = []\n",
    "def dfs(start, visited, target):\n",
    "    for ii in range(start, len(candidates)):\n",
    "        cur = candidates[ii]\n",
    "        if cur > target:\n",
    "            return\n",
    "        elif cur == target:\n",
    "            record.append(visited + [cur])\n",
    "            return\n",
    "        else:\n",
    "            dfs(ii, visited + [cur], target - cur) # 可重复\n",
    "        \n",
    "dfs(0, [], target)\n",
    "print(record)\n"
   ]
  },
  {
   "cell_type": "markdown",
   "id": "90f4c4e0",
   "metadata": {},
   "source": [
    "## [40. 组合总和 II](https://leetcode.cn/problems/combination-sum-ii/)"
   ]
  },
  {
   "cell_type": "code",
   "execution_count": 6,
   "id": "19c42dd4",
   "metadata": {},
   "outputs": [
    {
     "name": "stdout",
     "output_type": "stream",
     "text": [
      "[[1, 1, 6], [1, 2, 5], [1, 7], [2, 6]]\n"
     ]
    }
   ],
   "source": [
    "candidates = [10,1,2,7,6,1,5]\n",
    "target = 8\n",
    "\n",
    "candidates.sort()\n",
    "record = []\n",
    "def dfs(start, visited, target):\n",
    "    for ii in range(start, len(candidates)):\n",
    "        cur = candidates[ii]\n",
    "        if ii > start and candidates[ii-1] == candidates[ii]:\n",
    "            continue\n",
    "        if cur > target:\n",
    "            return\n",
    "        elif cur == target:\n",
    "            record.append(visited + [cur])\n",
    "            return              \n",
    "        else:\n",
    "            dfs(ii+1, visited + [cur], target - cur) # 不可重复\n",
    "        \n",
    "dfs(0, [], target)\n",
    "print(record)"
   ]
  },
  {
   "cell_type": "markdown",
   "id": "988d488e",
   "metadata": {},
   "source": [
    "# 无序组合数\n",
    "## [216. 组合总和 III](https://leetcode.cn/problems/combination-sum-iii/)"
   ]
  },
  {
   "cell_type": "code",
   "execution_count": 15,
   "id": "0dbbded6",
   "metadata": {},
   "outputs": [
    {
     "name": "stdout",
     "output_type": "stream",
     "text": [
      "[[1, 3]]\n"
     ]
    }
   ],
   "source": [
    "record = []\n",
    "def backtrack(visited, remaining):\n",
    "    if len(visited) == k:\n",
    "        if sum(visited) == n:\n",
    "            record.append(visited)\n",
    "        return\n",
    "    else:\n",
    "        for ii in range(len(remaining)):\n",
    "            backtrack(visited + [remaining[ii]], remaining[ii+1:])\n",
    "backtrack([], [num + 1 for num in range(9)])\n",
    "print(record)"
   ]
  },
  {
   "cell_type": "markdown",
   "id": "a3d86fc2",
   "metadata": {},
   "source": [
    "## [77. 组合](https://leetcode.cn/problems/combinations/)"
   ]
  },
  {
   "cell_type": "code",
   "execution_count": 16,
   "id": "28bc5404",
   "metadata": {},
   "outputs": [
    {
     "name": "stdout",
     "output_type": "stream",
     "text": [
      "[[1, 2], [1, 3], [1, 4], [2, 3], [2, 4], [3, 4]]\n"
     ]
    }
   ],
   "source": [
    "n = 4\n",
    "k = 2\n",
    "\n",
    "record = []\n",
    "def backtrack(visited, remaining):\n",
    "    if len(visited) == k:\n",
    "        record.append(visited)\n",
    "    else:\n",
    "        for ii in range(len(remaining)):\n",
    "            backtrack(visited + [remaining[ii]], remaining[ii+1:])\n",
    "backtrack([], [num+1 for num in range(n)])\n",
    "\n",
    "print(record)"
   ]
  },
  {
   "cell_type": "markdown",
   "id": "ac257a53",
   "metadata": {},
   "source": [
    "# 每个位置可选或可不选，或者选择其中一个\n",
    "## [22. 括号生成](https://leetcode.cn/problems/generate-parentheses/)\n",
    "共2n个位置，每个位置由两个选择，即'('或')'"
   ]
  },
  {
   "cell_type": "code",
   "execution_count": 7,
   "id": "0e50f3bb",
   "metadata": {},
   "outputs": [
    {
     "name": "stdout",
     "output_type": "stream",
     "text": [
      "['((()))', '(()())', '(())()', '()(())', '()()()']\n"
     ]
    }
   ],
   "source": [
    "n = 3\n",
    "\n",
    "record = []\n",
    "def valid(string):\n",
    "    count = 0\n",
    "    for s in string:\n",
    "        if s == '(':\n",
    "            count += 1\n",
    "        else:\n",
    "            count -= 1\n",
    "        if count < 0:\n",
    "            return False\n",
    "    return count == 0\n",
    "def backtrack(string):\n",
    "    if len(string) == 2 * n:\n",
    "        if valid(string):\n",
    "            record.append(string)\n",
    "        return\n",
    "    else:\n",
    "        backtrack(string + '(')\n",
    "        backtrack(string + ')')\n",
    "backtrack(\"\")\n",
    "print(record)"
   ]
  },
  {
   "cell_type": "code",
   "execution_count": 8,
   "id": "11dab910",
   "metadata": {},
   "outputs": [
    {
     "name": "stdout",
     "output_type": "stream",
     "text": [
      "['((()))', '(()())', '(())()', '()(())', '()()()']\n"
     ]
    }
   ],
   "source": [
    "#回溯\n",
    "output = []\n",
    "def backtrack(list_str, num_left, num_right):\n",
    "    if len(list_str) == 2 * n:\n",
    "        output.append(''.join(list_str))\n",
    "        return\n",
    "    if num_left < n:\n",
    "        list_str.append('(')\n",
    "        backtrack(list_str, num_left+1, num_right)\n",
    "        list_str.pop()\n",
    "    if num_right < num_left:\n",
    "        list_str.append(')')\n",
    "        backtrack(list_str, num_left, num_right+1)\n",
    "        list_str.pop()\n",
    "backtrack([], 0, 0)\n",
    "print(output)"
   ]
  },
  {
   "cell_type": "markdown",
   "id": "cab46e83",
   "metadata": {},
   "source": [
    ">Exercises:  \n",
    "[78. 子集](https://leetcode.cn/problems/subsets/)  \n",
    "[17. 电话号码的字母组合](https://leetcode.cn/problems/letter-combinations-of-a-phone-number/)  "
   ]
  },
  {
   "cell_type": "markdown",
   "id": "7f4cb88b",
   "metadata": {},
   "source": [
    "# 3"
   ]
  },
  {
   "cell_type": "code",
   "execution_count": null,
   "id": "b050f586",
   "metadata": {},
   "outputs": [],
   "source": []
  }
 ],
 "metadata": {
  "kernelspec": {
   "display_name": "Python 3 (ipykernel)",
   "language": "python",
   "name": "python3"
  },
  "language_info": {
   "codemirror_mode": {
    "name": "ipython",
    "version": 3
   },
   "file_extension": ".py",
   "mimetype": "text/x-python",
   "name": "python",
   "nbconvert_exporter": "python",
   "pygments_lexer": "ipython3",
   "version": "3.9.7"
  },
  "toc": {
   "base_numbering": 1,
   "nav_menu": {},
   "number_sections": true,
   "sideBar": true,
   "skip_h1_title": false,
   "title_cell": "Table of Contents",
   "title_sidebar": "Contents",
   "toc_cell": false,
   "toc_position": {},
   "toc_section_display": true,
   "toc_window_display": false
  }
 },
 "nbformat": 4,
 "nbformat_minor": 5
}
