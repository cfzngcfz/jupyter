{
 "cells": [
  {
   "cell_type": "markdown",
   "id": "ecb4e165",
   "metadata": {},
   "source": [
    "题目 | 分类\n",
    ":- | :-\n",
    "[2. 两数相加](https://leetcode.cn/problems/add-two-numbers/) | [链表](ListNode.ipynb#problem_2)\n",
    "[17. 电话号码的字母组合](https://leetcode.cn/problems/letter-combinations-of-a-phone-number/) | [backtrack](Backtrack.ipynb#problem_17)\n",
    "[19. 删除链表的倒数第 N 个结点](https://leetcode.cn/problems/remove-nth-node-from-end-of-list/) | [链表](ListNode.ipynb#problem_19)\n",
    "[21. 合并两个有序链表](https://leetcode.cn/problems/merge-two-sorted-lists/) | [链表](ListNode.ipynb#problem_21)\n",
    "[22. 括号生成](https://leetcode.cn/problems/generate-parentheses/) | [backtrack](Backtrack.ipynb#problem_22)\n",
    "[23. 合并 K 个升序链表](https://leetcode.cn/problems/merge-k-sorted-lists/) | [链表](ListNode.ipynb#problem_23)\n",
    "[24. 两两交换链表中的节点](https://leetcode.cn/problems/swap-nodes-in-pairs/submissions/) | [链表](ListNode.ipynb#problem_24)\n",
    "[25. K 个一组翻转链表](https://leetcode.cn/problems/reverse-nodes-in-k-group/) | [链表](ListNode.ipynb#problem_25)\n",
    "[31. 下一个排列](https://leetcode.cn/problems/next-permutation/) | [backtrack](Backtrack.ipynb#problem_31)\n",
    "[39. 组合总和](https://leetcode.cn/problems/combination-sum/) | [backtrack](Backtrack.ipynb#problem_39)\n",
    "[40. 组合总和 II](https://leetcode.cn/problems/combination-sum-ii/) | [backtrack](Backtrack.ipynb#problem_40)\n",
    "[46. 全排列](https://leetcode.cn/problems/permutations/) | [backtrack](Backtrack.ipynb#problem_46)\n",
    "[47. 全排列 II](https://leetcode.cn/problems/permutations-ii/) | [backtrack](Backtrack.ipynb#problem_47)\n",
    "[61. 旋转链表](https://leetcode.cn/problems/rotate-list/) | [链表](ListNode.ipynb#problem_61)\n",
    "[77. 组合](https://leetcode.cn/problems/combinations/) | [backtrack](Backtrack.ipynb#problem_77)\n",
    "[78. 子集](https://leetcode.cn/problems/subsets/) | [backtrack](Backtrack.ipynb#problem_78)\n",
    "[82. 删除排序链表中的重复元素 II](https://leetcode.cn/problems/remove-duplicates-from-sorted-list-ii/) | [链表](ListNode.ipynb#problem_82)\n",
    "[83. 删除排序链表中的重复元素](https://leetcode.cn/problems/remove-duplicates-from-sorted-list/) | [链表](ListNode.ipynb#problem_83)\n",
    "[90. 子集 II](https://leetcode.cn/problems/subsets-ii/) | [backtrack](Backtrack.ipynb#problem_90)\n",
    "[93. 复原 IP 地址](https://leetcode.cn/problems/restore-ip-addresses/) | [backtrack](Backtrack.ipynb#problem_93)\n",
    "[94. 二叉树的中序遍历](https://leetcode.cn/problems/binary-tree-inorder-traversal/) | [二叉树](TreeNode.ipynb#problem_94)\n",
    "[102. 二叉树的层序遍历](https://leetcode.cn/problems/binary-tree-level-order-traversal/) | [二叉树](TreeNode.ipynb#problem_102)\n",
    "[104. 二叉树的最大深度](https://leetcode.cn/problems/maximum-depth-of-binary-tree/) | [二叉树](TreeNode.ipynb#problem_104)\n",
    "[112. 路径总和](https://leetcode-cn.com/problems/path-sum/) | [二叉树](TreeNode.ipynb#problem_112)\n",
    "[113. 路径总和 II](https://leetcode-cn.com/problems/path-sum-ii/) | [二叉树](TreeNode.ipynb#problem_113)\n",
    "[144. 二叉树的前序遍历](https://leetcode.cn/problems/binary-tree-preorder-traversal/) | [二叉树](TreeNode.ipynb#problem_144)\n",
    "[145. 二叉树的后序遍历](https://leetcode.cn/problems/binary-tree-postorder-traversal/) | [二叉树](TreeNode.ipynb#problem_145)\n",
    "[216. 组合总和 III](https://leetcode.cn/problems/combination-sum-iii/) | [backtrack](Backtrack.ipynb#problem_216)\n",
    "[437. 路径总和 III](https://leetcode-cn.com/problems/path-sum-iii/) | [二叉树](TreeNode.ipynb#problem_437)\n",
    "[589. N 叉树的前序遍历](https://leetcode.cn/problems/n-ary-tree-preorder-traversal/) | [二叉树](TreeNode.ipynb#problem_589)\n",
    "[590. N 叉树的后序遍历](https://leetcode.cn/problems/n-ary-tree-postorder-traversal/submissions/) | [二叉树](TreeNode.ipynb#problem_590)\n",
    "[剑指 Offer 34. 二叉树中和为某一值的路径](https://leetcode.cn/problems/er-cha-shu-zhong-he-wei-mou-yi-zhi-de-lu-jing-lcof/) | [二叉树](TreeNode.ipynb#offer_34)\n",
    "[剑指 Offer II 050. 向下的路径节点之和](https://leetcode-cn.com/problems/6eUYwP/) | [二叉树](TreeNode.ipynb#offer2_50)\n",
    "[剑指 Offer II 079. 所有子集](https://leetcode.cn/problems/TVdhkn/) | [backtrack](Backtrack.ipynb#offer2_79)"
   ]
  },
  {
   "cell_type": "code",
   "execution_count": null,
   "id": "b89ae358",
   "metadata": {},
   "outputs": [],
   "source": []
  }
 ],
 "metadata": {
  "kernelspec": {
   "display_name": "Python 3 (ipykernel)",
   "language": "python",
   "name": "python3"
  },
  "language_info": {
   "codemirror_mode": {
    "name": "ipython",
    "version": 3
   },
   "file_extension": ".py",
   "mimetype": "text/x-python",
   "name": "python",
   "nbconvert_exporter": "python",
   "pygments_lexer": "ipython3",
   "version": "3.9.7"
  },
  "toc": {
   "base_numbering": 1,
   "nav_menu": {},
   "number_sections": true,
   "sideBar": true,
   "skip_h1_title": false,
   "title_cell": "Table of Contents",
   "title_sidebar": "Contents",
   "toc_cell": false,
   "toc_position": {},
   "toc_section_display": true,
   "toc_window_display": false
  }
 },
 "nbformat": 4,
 "nbformat_minor": 5
}
