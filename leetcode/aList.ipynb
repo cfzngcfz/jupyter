{
 "cells": [
  {
   "cell_type": "markdown",
   "id": "d057e142",
   "metadata": {},
   "source": [
    "[CS-Notes/notes/Leetcode 题解](https://github.com/CyC2018/CS-Notes/blob/master/notes/Leetcode%20%E9%A2%98%E8%A7%A3%20-%20%E7%9B%AE%E5%BD%95.md)"
   ]
  },
  {
   "cell_type": "markdown",
   "id": "ecb4e165",
   "metadata": {},
   "source": [
    "\n",
    "- [X] [2. 两数相加](ListNode.ipynb#P2)\n",
    "- [ ] [17. 电话号码的字母组合](BackTrack.ipynb#problem_17)\n",
    "- [X] [19. 删除链表的倒数第 N 个结点](ListNode.ipynb#P19)\n",
    "- [X] [21. 合并两个有序链表](ListNode.ipynb#P.21)\n",
    "- [ ] [22. 括号生成](BackTrack.ipynb#problem_22)\n",
    "- [X] [23. 合并 K 个升序链表](ListNode.ipynb#P23)\n",
    "- [X] [24. 两两交换链表中的节点](ListNode.ipynb#P24)\n",
    "- [X] [25. K 个一组翻转链表](ListNode.ipynb#P25)\n",
    "- [X] [31. 下一个排列](BackTrack.ipynb#P.31)\n",
    "- [ ] [39. 组合总和](BackTrack.ipynb#problem_39)\n",
    "- [ ] [40. 组合总和 II](BackTrack.ipynb#problem_40)\n",
    "- [X] [46. 全排列](BackTrack.ipynb#P.46)\n",
    "- [ ] [47. 全排列 II](BackTrack.ipynb#problem_47)\n",
    "- [X] [61. 旋转链表](ListNode.ipynb#P61)\n",
    "- [X] [77. 组合](BackTrack.ipynb#P.77)\n",
    "- [ ] [78. 子集](BackTrack.ipynb#problem_78)\n",
    "- [X] [82. 删除排序链表中的重复元素 II](ListNode.ipynb#P82)\n",
    "- [X] [83. 删除排序链表中的重复元素](ListNode.ipynb#P83)\n",
    "- [ ] [90. 子集 II](BackTrack.ipynb#problem_90)\n",
    "- [X] [92. 反转链表 II](ListNode.ipynb#P92)\n",
    "- [ ] [93. 复原 IP 地址](BackTrack.ipynb#problem_93)\n",
    "- [X] [94. 二叉树的中序遍历](TreeNode.ipynb#P.94)\n",
    "- [ ] [101. 对称二叉树](TreeNode.ipynb#problem_101)\n",
    "- [ ] [102. 二叉树的层序遍历](TreeNode.ipynb#problem_102)\n",
    "- [X] [104. 二叉树的最大深度](TreeNode.ipynb#P.104)\n",
    "- [X] [112. 路径总和](TreeNode.ipynb#P.112)\n",
    "- [X] [113. 路径总和 II](TreeNode.ipynb#P.113)\n",
    "- [ ] [129. 求根节点到叶节点数字之和](TreeNode.ipynb#P.129)\n",
    "- [X] [144. 二叉树的前序遍历](TreeNode.ipynb#P.144)\n",
    "- [X] [145. 二叉树的后序遍历](TreeNode.ipynb#P.145)\n",
    "- [X] [206. 反转链表](ListNode.ipynb#P206)\n",
    "- [X] [216. 组合总和 III](BackTrack.ipynb#P.216)\n",
    "- [X] [377. 组合总和 Ⅳ](DynamicProgramming.ipynb#P.377)\n",
    "- [ ] [437. 路径总和 III](TreeNode.ipynb#P.437)\n",
    "- [X] [589. N 叉树的前序遍历](TreeNode.ipynb#P.589)\n",
    "- [X] [590. N 叉树的后序遍历](TreeNode.ipynb#P.590)\n",
    "- [X] [剑指 Offer 24. 反转链表](ListNode.ipynb#Offer.24)\n",
    "- [X] [剑指 Offer 34. 二叉树中和为某一值的路径](TreeNode.ipynb#Offer.34)\n",
    "- [X] [剑指 Offer II 024. 反转链表](ListNode.ipynb#Offer.II024)\n",
    "- [ ] [剑指 Offer II 049. 从根节点到叶节点的路径数字之和](TreeNode.ipynb#Offer.II049)\n",
    "- [ ] [剑指 Offer II 050. 向下的路径节点之和](TreeNode.ipynb#Offer.II050)\n",
    "- [ ] [剑指 Offer II 079. 所有子集](BackTrack.ipynb#offer2_79)\n",
    "- [X] [面试题 02.04. 分割链表](ListNode.ipynb#ms.02.04)"
   ]
  },
  {
   "cell_type": "markdown",
   "id": "3a49b745",
   "metadata": {},
   "source": [
    "# todo:\n",
    "index | problem\n",
    ":- | :-:\n",
    "1.两数之和 | Done\n",
    "2.整数反转 | Done\n",
    "3.爬楼梯 | Done\n",
    "4.对称二叉树 | Done\n",
    "5.平衡二叉树 | Done \n",
    "6.多数元素 | Done\n",
    "8.用栈实现队列 | Done \n",
    "9.字符串相加 | Done \n",
    "10.二分查找 | Done \n",
    "11.无重复字符的最长子串\n",
    "12.最长回文子串 | Done \n",
    "13.三数之和 | Done \n",
    "14.两两交换链表中的节点 | Done \n",
    "15.Pow(x,n) | Done \n",
    "16.分割链表 | Done \n",
    "18.求根到叶子节点数字之和 | Done \n",
    "19.复制带随机指针的链表\n",
    "20.二叉树的后序遍历 | Done \n",
    "21.LRU缓存机制 | [146. LRU 缓存](https://leetcode.cn/problems/lru-cache/)\n",
    "22.最大和 | Done \n",
    "23.寻找重复数 | Done \n",
    "24.递增的三元子序列 | [递增的三元子序列](https://leetcode.cn/problems/increasing-triplet-subsequence/)\n",
    "25.常数时间插入，删除和获取随。。。| [380. O(1) 时间插入、删除和获取随机元素](https://leetcode.cn/problems/insert-delete-getrandom-o1/)<br>[381. O(1) 时间插入、删除和获取随机元素 - 允许重复](https://leetcode.cn/problems/insert-delete-getrandom-o1-duplicates-allowed/)\n",
    "26.验证IP 地址 | Done \n",
    "27.有序数组中的单一元素 | Done \n",
    "28.和为K 的子数组 | [560. 和为 K 的子数组](https://leetcode.cn/problems/subarray-sum-equals-k/)\n",
    "29.平方数之和 | Done \n",
    "30.最长有效括号\n",
    "31.柱状图中最大的矩形\n",
    "32.至少有1位重复数字"
   ]
  },
  {
   "cell_type": "code",
   "execution_count": null,
   "id": "ada60507",
   "metadata": {},
   "outputs": [],
   "source": []
  }
 ],
 "metadata": {
  "kernelspec": {
   "display_name": "Python 3 (ipykernel)",
   "language": "python",
   "name": "python3"
  },
  "language_info": {
   "codemirror_mode": {
    "name": "ipython",
    "version": 3
   },
   "file_extension": ".py",
   "mimetype": "text/x-python",
   "name": "python",
   "nbconvert_exporter": "python",
   "pygments_lexer": "ipython3",
   "version": "3.9.7"
  },
  "toc": {
   "base_numbering": 1,
   "nav_menu": {},
   "number_sections": true,
   "sideBar": true,
   "skip_h1_title": false,
   "title_cell": "Table of Contents",
   "title_sidebar": "Contents",
   "toc_cell": false,
   "toc_position": {},
   "toc_section_display": true,
   "toc_window_display": false
  }
 },
 "nbformat": 4,
 "nbformat_minor": 5
}
