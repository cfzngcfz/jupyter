{
 "cells": [
  {
   "cell_type": "markdown",
   "id": "14fb65d0",
   "metadata": {},
   "source": [
    "# git\n",
    "refer to: https://www.runoob.com/manual/git-guide/  \n",
    "https://blog.csdn.net/zhouyy858/article/details/102525289"
   ]
  },
  {
   "cell_type": "code",
   "execution_count": null,
   "id": "3cc40ba6",
   "metadata": {},
   "outputs": [],
   "source": [
    "git config --global user.name \"Fangzheng Cheng\"\n",
    "git config --global user.email \"qj00182@pegasus.tech\"\n",
    "\n",
    "ssh-keygen -t rsa -C \"qj00182@pegasus.tech\"\n",
    "vim ~/.ssh/id_rsa.pub"
   ]
  },
  {
   "cell_type": "code",
   "execution_count": null,
   "id": "fa3ef9fc",
   "metadata": {},
   "outputs": [],
   "source": [
    "# 更新本地仓库至最新改动\n",
    "git pull\n",
    "\n",
    "#创建并切换至指定分支\n",
    "git checkout -b user/chengfangzheng/adjust_waypoint\n",
    "# 仅切换至指定分支\n",
    "git checkout user/chengfangzheng/improve_structure_of_RoutingResponse\n",
    "\n",
    "# 查看更新\n",
    "git status\n",
    "\n",
    "# 添加到缓存区\n",
    "git add modules/map/pnc_map/pnc_map.cc\n",
    "git add modules/map/pnc_map/pnc_map.h\n",
    "\n",
    "# 提交到head\n",
    "git commit -m \"[PPC-58][PNC]improve pnc_map\"\n",
    "# 推送到指定分支(远端仓库)\n",
    "git push origin user/chengfangzheng/user/chengfangzheng/improve_pnc_map\n",
    "\n",
    "# 临港分支\n",
    "git clone -b release_lingang_test http://gitlab.pegasus.tech/pegasus/atlas.git"
   ]
  },
  {
   "cell_type": "markdown",
   "id": "0f7ec3d9",
   "metadata": {},
   "source": [
    "# gflag in routing"
   ]
  },
  {
   "cell_type": "markdown",
   "id": "8761e734",
   "metadata": {},
   "source": [
    "## modules/routing/common/routing_gflags.h\n",
    "<code>DECLARE_bool(enable_heuristic_cost);</code>\n",
    "## modules/routing/common/routing_gflags.cc\n",
    "<code>DEFINE_bool(enable_heuristic_cost, false, \"enable heuristic cost\");</code>\n",
    "## modules/routing/conf/routing.conf\n",
    "<code>--enable_heuristic_cost=false</code>\n",
    "## code\n",
    "<code>#include \"modules/routing/common/routing_gflags.h\"\n",
    "......\n",
    "if (FLAGS_enable_heuristic_cost) {\n",
    "  ......\n",
    "}</code>\n"
   ]
  },
  {
   "cell_type": "markdown",
   "id": "bd895ed2",
   "metadata": {},
   "source": [
    "# atlas 安装"
   ]
  },
  {
   "cell_type": "code",
   "execution_count": null,
   "id": "981ae2c3",
   "metadata": {},
   "outputs": [],
   "source": [
    "http://confluence.pegasus.tech/pages/viewpage.action?spaceKey=PSTS&title=PSTS+Onboard+Guide\n",
    "根据这个链接整理"
   ]
  },
  {
   "cell_type": "markdown",
   "id": "bcc94aee",
   "metadata": {},
   "source": [
    "## 开发环境配置\n",
    "refer to: http://confluence.pegasus.tech/display/PSTS/Atlas+common+commands  \n",
    "http://confluence.pegasus.tech/pages/viewpage.action?pageId=8622043"
   ]
  },
  {
   "cell_type": "code",
   "execution_count": null,
   "id": "30fd22c9",
   "metadata": {},
   "outputs": [],
   "source": [
    "# 下载\n",
    "git clone http://gitlab.pegasus.tech/pegasus/atlas.git\n",
    "\n",
    "    \n",
    "cd atlas\n",
    "# 下载Perception models, Prediction models, HD Maps, Carla libs\n",
    "./atlas.sh download all\n",
    " \n",
    "# 进入atlas docker\n",
    "./atlas.sh dev_start\n",
    "./atlas.sh dev_into\n",
    " \n",
    "# 编译工程\n",
    "./atlas.sh build\n",
    "\n",
    "# 清除编译\n",
    "./atlas.sh clean -a\n",
    "\n",
    "# 退出docker\n",
    "exit\n",
    " \n",
    "# 在退出docker后，关闭docker\n",
    "./atlas.sh dev_stop"
   ]
  },
  {
   "cell_type": "markdown",
   "id": "9cdd9528",
   "metadata": {},
   "source": [
    "## prediction failed to start问题"
   ]
  },
  {
   "cell_type": "code",
   "execution_count": null,
   "id": "3d78f124",
   "metadata": {},
   "outputs": [],
   "source": [
    "# 退出docker\n",
    "./atlas.sh dev_stop\n",
    "# 查看docker image\n",
    "docker image list"
   ]
  },
  {
   "cell_type": "markdown",
   "id": "0c0df2e1",
   "metadata": {},
   "source": [
    "<code>REPOSITORY                            TAG       IMAGE ID       CREATED        SIZE\n",
    "harbor.pegasus.tech/infra/pegaatlas   1.3.8     4fe2fb2df258   2 weeks ago    17.4GB\n",
    "harbor.pegasus.tech/infra/pegaatlas   1.3.7     dd62004f6fe0   3 weeks ago    17.4GB\n",
    "harbor.pegasus.tech/infra/pegaatlas   1.3.5     5b98dfdc749b   7 weeks ago    19.1GB\n",
    "harbor.pegasus.tech/infra/pegaatlas   1.3.4     dc2a8b095b1a   3 months ago   19.1GB</code>"
   ]
  },
  {
   "cell_type": "code",
   "execution_count": null,
   "id": "c917e052",
   "metadata": {},
   "outputs": [],
   "source": [
    "# 删除旧的docker image\n",
    "docker image rm harbor.pegasus.tech/infra/pegaatlas:1.3.8"
   ]
  },
  {
   "cell_type": "markdown",
   "id": "b5f44f11",
   "metadata": {},
   "source": [
    "# routing module"
   ]
  },
  {
   "cell_type": "markdown",
   "id": "02f011cb",
   "metadata": {},
   "source": [
    "## bazel安装\n",
    "refer to: https://bazel.build/install/ubuntu  \n",
    "\n",
    "https://bazel.build/\n",
    "\n",
    "https://docs.bazel.build/versions/4.2.2/tutorial/cpp.html\n",
    "\n",
    "\n",
    "https://github.com/bazelbuild\n",
    "\n",
    "https://github.com/orgs/bazelbuild/repositories?type=all"
   ]
  },
  {
   "cell_type": "markdown",
   "id": "c1512c36",
   "metadata": {},
   "source": [
    "## 模块编译"
   ]
  },
  {
   "cell_type": "code",
   "execution_count": null,
   "id": "3fb635ba",
   "metadata": {},
   "outputs": [],
   "source": [
    "bazel build //modules/routing/..."
   ]
  },
  {
   "cell_type": "code",
   "execution_count": null,
   "id": "7ab6e4e3",
   "metadata": {},
   "outputs": [],
   "source": [
    "bazel build //sw_test/autobot.py"
   ]
  },
  {
   "cell_type": "markdown",
   "id": "cb99e6b0",
   "metadata": {},
   "source": [
    "## 地图生成工具"
   ]
  },
  {
   "cell_type": "code",
   "execution_count": null,
   "id": "e2f0535b",
   "metadata": {},
   "outputs": [],
   "source": [
    "# base_map.bin -> routintg_map.bin & routintg_map.txt\n",
    "dir_name=modules/map/data/demo_10km\n",
    "dir_name=modules/map/data/lingang_odd_extend\n",
    "./scripts/generate_routing_topo_graph.sh --map_dir ${dir_name}\n",
    "\n",
    "# base_map.bin -> base_map.txt\n",
    "python modules/tools/meta_hdmap_window/hdmap_window.py -m /atlas/modules/map/data/demo_10km/base_map.bin -s /atlas/modules/map/data/demo_10km/base_map.txt\n",
    "\n",
    "python modules/tools/meta_hdmap_window/hdmap_window.py -m /atlas/modules/map/data/lingang_odd_extend/base_map.bin -s /atlas/modules/map/data/lingang_odd_extend/base_map.txt\n",
    "\n",
    "\n",
    "# base_map.txt -> base_map.bin\n",
    "python modules/tools/meta_hdmap_window/hdmap_window.py -m /atlas/modules/map/data/demo_10km/base_map.txt -s /atlas/modules/map/data/demo_10km/base_map.bin\n",
    "\n",
    "python modules/tools/meta_hdmap_window/hdmap_window.py -m /atlas/modules/map/data/lingang_odd_extend/base_map.txt -s /atlas/modules/map/data/lingang_odd_extend/base_map.bin\n",
    "\n",
    "\n",
    "# base_map.txt -> base_map.bin\n",
    "bazel-bin/modules/map/tools/bin_map_generator --map_dir=${dir_name} --output_dir=${dir_name}\n",
    "\n",
    "\n",
    "# base_map.bin -> sim_map.bin & sim_map.txt\n",
    "dir_name=modules/map/data/demo_10km\n",
    "bazel-bin/modules/map/tools/sim_map_generator --map_dir=${dir_name} --output_dir=${dir_name}"
   ]
  },
  {
   "cell_type": "markdown",
   "id": "e8fed165",
   "metadata": {},
   "source": [
    "## 地图版本校验\n",
    " "
   ]
  },
  {
   "cell_type": "code",
   "execution_count": null,
   "id": "060633e5",
   "metadata": {},
   "outputs": [],
   "source": [
    "md5sum modules/map/data/demo_10km/base_map.bin"
   ]
  },
  {
   "cell_type": "markdown",
   "id": "beff2e0a",
   "metadata": {},
   "source": [
    "PS: 同一电脑生成的相同文件，MD5码一样；不同电脑生成的相同文件，MD5码不一致"
   ]
  },
  {
   "cell_type": "markdown",
   "id": "f753366c",
   "metadata": {},
   "source": [
    "# routing 测试"
   ]
  },
  {
   "cell_type": "markdown",
   "id": "a9a975b7",
   "metadata": {},
   "source": [
    "## autobot\n",
    "refer to: http://confluence.pegasus.tech/display/PSTS/How+to+Use+Test+Framework+to+Run+PnC+Simulation  "
   ]
  },
  {
   "cell_type": "markdown",
   "id": "c55e9be3",
   "metadata": {},
   "source": [
    "### routing+planning+control仿真测试"
   ]
  },
  {
   "cell_type": "code",
   "execution_count": null,
   "id": "9b05f441",
   "metadata": {},
   "outputs": [],
   "source": [
    "# Inside the docker container where you run the Atlas build.\n",
    "./bazel-bin/sw_test/autobot"
   ]
  },
  {
   "cell_type": "markdown",
   "id": "8e97c0cb",
   "metadata": {},
   "source": [
    "./bazel-bin/sw_test/autobot --no-failure_retry -case pnc_sim_demo_5km_26m"
   ]
  },
  {
   "cell_type": "code",
   "execution_count": null,
   "id": "4fb2a4cb",
   "metadata": {},
   "outputs": [],
   "source": [
    "./bazel-bin/sw_test/autobot -tag baseline # 必验步骤, 须100%通过"
   ]
  },
  {
   "cell_type": "code",
   "execution_count": null,
   "id": "27211cff",
   "metadata": {},
   "outputs": [],
   "source": [
    "./bazel-bin/sw_test/autobot -case pnc_sim_demo_10km_200\n",
    "\n",
    "# bazel build //core/meta/tools/websocket:websocket\n",
    "./bazel-bin/core/meta/tools/websocket/websocket"
   ]
  },
  {
   "cell_type": "code",
   "execution_count": null,
   "id": "bfa90c86",
   "metadata": {},
   "outputs": [],
   "source": [
    "./bazel-bin/sw_test/autobot -case pnc_sim_demo_5km_18 --no-use_perfect_control"
   ]
  },
  {
   "cell_type": "markdown",
   "id": "7406bb7d",
   "metadata": {},
   "source": [
    "### routing仿真测试\n",
    "#### 执行（不支持-case）"
   ]
  },
  {
   "cell_type": "code",
   "execution_count": null,
   "id": "1a89a83a",
   "metadata": {},
   "outputs": [],
   "source": [
    "./bazel-bin/sw_test/autobot -t route_sim"
   ]
  },
  {
   "cell_type": "markdown",
   "id": "62439911",
   "metadata": {},
   "source": [
    "#### 配置\n",
    "如需调整routing模块仿真(route_sim)的配置文件, 其在**<font color=\"red\">/atlas/sw_test/configs/sim/single_sim/route_sim_example.yaml</font>**\n",
    "\n",
    "<code>\n",
    "### Launch before test ###\n",
    "Launch:\n",
    "  map_config: <font color=\"red\">changlinroad</font> # (or <font color=\"red\">demo_5km</font>)            <font color=\"red\">step 1.选择地图, 存放路径:/atlas/modules/map/data</font>\n",
    "  vehicle_config: ES6\n",
    "  check_model: []\n",
    "  launch_modules: [routing]\n",
    "  stop_modules_after_test: True\n",
    "  cpu_stress: 0\n",
    "  gpu_stress: 0\n",
    "### Execute Test ###\n",
    "Execute:\n",
    "  test_type: sim # replay || sim\n",
    "  test_program: route_sim\n",
    "  case_path: \"/atlas/simulation/route_simulation/cases/\" # 测试用例存放路径\n",
    "  case_list: [<font color=\"red\">\"route_example_1.yaml\",                    # step 2.测试用例列表\n",
    "              \"route_example_2.yaml\",\n",
    "              \"route_example_3.yaml\",\n",
    "              \"route_example_4.yaml\",\n",
    "              \"route_example_5.yaml\",\n",
    "              \"route_example_6.yaml\",\n",
    "              \"route_example_7.yaml\",\n",
    "              \"route_example_8.yaml\",\n",
    "              \"route_example_9.yaml\",\n",
    "              \"route_example_10.yaml\",\n",
    "              \"route_example_11.yaml\",\n",
    "              \"route_example_12.yaml\",\n",
    "              \"route_example_13.yaml\",\n",
    "              \"route_example_14.yaml\",\n",
    "              \"route_example_15.yaml\",\n",
    "              \"route_example_16.yaml\",\n",
    "              \"route_example_17.yaml\",\n",
    "              \"route_example_18.yaml\",\n",
    "              \"route_example_19.yaml\",\n",
    "              \"route_example_20.yaml\",\n",
    "              \"route_example_21.yaml\",\n",
    "              \"route_example_22.yaml\",\n",
    "              \"route_example_23.yaml\",\n",
    "              \"route_example_24.yaml\",\n",
    "              \"route_example_25.yaml\",\n",
    "              \"route_example_26.yaml\",\n",
    "              \"route_example_27.yaml\",</font>\n",
    "              ]\n",
    "### Test Evaluator ####\n",
    "Evaluator:\n",
    "  module1:\n",
    "    meta:\n",
    "      topic_name: \"/atlas/routing_response\"\n",
    "      hz:\n",
    "        wait_time: 10\n",
    "        expect_value: 1\n",
    "        max_error: 5\n",
    "    function:\n",
    "      data_correct:\n",
    "        data: object_velocity\n",
    "        type: less_than_is_correct\n",
    "        value: 10\n",
    "### Test results ###\n",
    "Log:\n",
    "  path: \"/atlas/sw_test/test_results/log\"\n",
    "Bag:\n",
    "  path: \"/atlas/sw_test/test_results/bag\"\n",
    "report:\n",
    "  path: \"/atlas/sw_test/test_results/report\"\n",
    "</code>"
   ]
  },
  {
   "cell_type": "markdown",
   "id": "dde4241d",
   "metadata": {},
   "source": [
    "\n",
    "\n",
    "\n",
    "If everything is ok, you will see a window as bellow picture, congratulation, you have run pnc sim and visualization successfully.# bin->txt\n",
    "python modules/tools/meta_hdmap_window/hdmap_window.py -m /atlas/modules/tools/meta_hdmap_window/testdata/base_map.bin -s /atlas/modules/tools/meta_hdmap_window/testdata/base_map.txt"
   ]
  },
  {
   "cell_type": "markdown",
   "id": "882ce889",
   "metadata": {},
   "source": [
    "### 仿真输出\n",
    "log save to /sw_test/test_results/ folder with timestamp name.  \n",
    "lane_id sequence in routing log 源于 /atlas/modules/routing/core/navigator.cc"
   ]
  },
  {
   "cell_type": "code",
   "execution_count": null,
   "id": "28bb7647",
   "metadata": {},
   "outputs": [],
   "source": [
    "void PrintDebugData(const std::vector<NodeWithRange>& nodes) {\n",
    "  AINFO << \"Route lane id\\tis virtual\\tstart s\\tend s\";\n",
    "  for (const auto& node : nodes) {\n",
    "    AINFO << node.GetTopoNode()->LaneId() << \"\\t\"\n",
    "          << node.GetTopoNode()->IsVirtual() << \"\\t\" << node.StartS() << \"\\t\"\n",
    "          << node.EndS();\n",
    "  }\n",
    "}"
   ]
  },
  {
   "cell_type": "markdown",
   "id": "12debbd3",
   "metadata": {},
   "source": [
    "delete all logs"
   ]
  },
  {
   "cell_type": "code",
   "execution_count": null,
   "id": "ceb01e76",
   "metadata": {},
   "outputs": [],
   "source": [
    "rm -rf sw_test/test_results/"
   ]
  },
  {
   "cell_type": "markdown",
   "id": "c46c57cd",
   "metadata": {},
   "source": [
    "## route_generator\n"
   ]
  },
  {
   "cell_type": "markdown",
   "id": "02bd1941",
   "metadata": {},
   "source": [
    "### 在docker内，启动routing模块"
   ]
  },
  {
   "cell_type": "code",
   "execution_count": null,
   "id": "e7ca7aa4",
   "metadata": {},
   "outputs": [],
   "source": [
    "./bazel-bin/modules/routing/routing_main modules/routing/dag/routing.dag"
   ]
  },
  {
   "cell_type": "markdown",
   "id": "6ee271dd",
   "metadata": {},
   "source": [
    "## 发送请求前，检查地图\n",
    "<code>/modules/common/data/global_flagfile.txt</code>  \n",
    "    \n",
    "确保最后一个行是waypoint对应的地图"
   ]
  },
  {
   "cell_type": "markdown",
   "id": "a1530e12",
   "metadata": {},
   "source": [
    "### 在docker内，发送routing请求\n",
    "waypoint在/simulation/sensors/route_generator.py 中对应地图位置修改\n"
   ]
  },
  {
   "cell_type": "code",
   "execution_count": null,
   "id": "113eb34c",
   "metadata": {},
   "outputs": [],
   "source": [
    "./bazel-bin/modules/tools/road_test/route_generator --demo_10km\n",
    "./bazel-bin/modules/tools/road_test/route_generator --lingang_odd"
   ]
  },
  {
   "cell_type": "markdown",
   "id": "c85ef406",
   "metadata": {},
   "source": [
    "### log save to /data/log"
   ]
  },
  {
   "cell_type": "markdown",
   "id": "00cafdf2",
   "metadata": {},
   "source": [
    "### 在docker内，启动planning模块"
   ]
  },
  {
   "cell_type": "code",
   "execution_count": null,
   "id": "f500d8ce",
   "metadata": {},
   "outputs": [],
   "source": [
    "./bazel-bin/modules/routing/routing_main modules/routing/dag/routing.dag"
   ]
  },
  {
   "cell_type": "code",
   "execution_count": null,
   "id": "881d64a8",
   "metadata": {},
   "outputs": [],
   "source": [
    "./bazel-bin/modules/tools/road_test/route_generator --lingang_odd_extend -i to_dishui_lake_B"
   ]
  },
  {
   "cell_type": "code",
   "execution_count": null,
   "id": "fca26333",
   "metadata": {},
   "outputs": [],
   "source": [
    "./bazel-bin/modules/planning/planning_main modules/planning/dag/planning.dag"
   ]
  },
  {
   "cell_type": "code",
   "execution_count": null,
   "id": "bc832c68",
   "metadata": {},
   "outputs": [],
   "source": [
    "./bazel-bin/core/meta/tools/websocket/websocket"
   ]
  },
  {
   "cell_type": "code",
   "execution_count": null,
   "id": "6c72ed22",
   "metadata": {},
   "outputs": [],
   "source": [
    "meta_bag play xxx.bag --topics /atlas/canbus/chassis /atlas/localization/pose /atlas/prediction /atlas/control /atlas/canbus/chassis_detail /atlas/perception /atlas/perception/traffic_light"
   ]
  },
  {
   "cell_type": "markdown",
   "id": "8df453a0",
   "metadata": {},
   "source": [
    "# kaleido"
   ]
  },
  {
   "cell_type": "markdown",
   "id": "b56afd6a",
   "metadata": {},
   "source": [
    "refer to: https://foxglove.dev/docs/studio  \n",
    "http://confluence.pegasus.tech/display/PBD/Kaleido+FAQ"
   ]
  },
  {
   "cell_type": "markdown",
   "id": "f7f38eae",
   "metadata": {},
   "source": [
    "## 卸载"
   ]
  },
  {
   "cell_type": "code",
   "execution_count": null,
   "id": "28f8cfe6",
   "metadata": {},
   "outputs": [],
   "source": [
    "sudo dpkg -r kaleido-studio"
   ]
  },
  {
   "cell_type": "code",
   "execution_count": null,
   "id": "6ebde958",
   "metadata": {},
   "outputs": [],
   "source": [
    "rm -rf ~/kaleido/config/kaleido-topic.json"
   ]
  },
  {
   "cell_type": "markdown",
   "id": "065b73e5",
   "metadata": {},
   "source": [
    "## 安装"
   ]
  },
  {
   "cell_type": "code",
   "execution_count": null,
   "id": "cbb25cbf",
   "metadata": {},
   "outputs": [],
   "source": [
    "sudo dpkg -i kaleido-studio-*-linux-amd64.deb"
   ]
  },
  {
   "cell_type": "markdown",
   "id": "c19c92bb",
   "metadata": {},
   "source": [
    "## 启动"
   ]
  },
  {
   "cell_type": "code",
   "execution_count": null,
   "id": "f0ee8205",
   "metadata": {},
   "outputs": [],
   "source": [
    "kaleido-studio"
   ]
  },
  {
   "cell_type": "markdown",
   "id": "095e8f15",
   "metadata": {},
   "source": [
    "# meta_topic"
   ]
  },
  {
   "cell_type": "code",
   "execution_count": null,
   "id": "000ac54d",
   "metadata": {},
   "outputs": [],
   "source": [
    "meta_topic list"
   ]
  },
  {
   "cell_type": "code",
   "execution_count": null,
   "id": "ecd1144a",
   "metadata": {},
   "outputs": [],
   "source": [
    "meta_topic echo /atlas/routing_request"
   ]
  },
  {
   "cell_type": "code",
   "execution_count": null,
   "id": "bdd90768",
   "metadata": {},
   "outputs": [],
   "source": [
    "meta_topic echo /atlas/routing_response"
   ]
  },
  {
   "cell_type": "markdown",
   "id": "53811bda",
   "metadata": {},
   "source": [
    "# routing地图工具"
   ]
  },
  {
   "cell_type": "markdown",
   "id": "05ee996a",
   "metadata": {},
   "source": [
    "## scenario_creator 取点工具"
   ]
  },
  {
   "cell_type": "markdown",
   "id": "f3697409",
   "metadata": {},
   "source": [
    "scenario_creator.py is a tool for creating PnC simulation cases.\n",
    "\n",
    "How to generate a waypoints list data for PnC simulation.\n",
    "1. Run this tool by command \"bazel-bin/simulation/tools/scenario_creator --changlinroad\", \n",
    "(supports changlinroad, caohejing, jiangliulu, demo_5km maps now), then a matplotlib window will popup.\n",
    "2. You can move your mouse then key \"z/Z\" to zoom in map, you can key \"a/A\" to reset window limit.\n",
    "3. Move your mouse to the point where you wanna to place a ego routing point, then key \"e/E\", a blue point will be drawed on map window with point id (the first point's id is 1). move your mouse and key agian to generate next point.\n",
    "4. Move your mouse to the point where you wanna to place a npc control point, then key \"n/N\", a red point will be drawed on map window with point id (the first point's id is 1). move your mouse and key agian to generate next point.\n",
    "5. After choose all points you wanna, then key \"enter\" to generate npc trajectort, please wait a moment, the npc's position, speed and yaw\n",
    "curve will draw on the right of window.\n",
    "6. You can key \"q\" to quit matplotlib window.\n",
    "7. Switch to your terminal which you run this script, the waypoints will be printed here (utm coordinate)\n",
    "8. Finally, you can copy this waypoints txt and paste it on yaml file to create a new case.\n",
    "\n",
    "note: This tool not supports clear point created by mistake, you need restart this tool script. only supports one npc waypoints generate now.\n",
    "note: Not supports input speed when you add a new point, the default is 5mps, you can change this value on yaml file."
   ]
  },
  {
   "cell_type": "code",
   "execution_count": null,
   "id": "0e17a5e9",
   "metadata": {},
   "outputs": [],
   "source": [
    "./bazel-bin/simulation/tools/gui/scenario_creator --changlinroad"
   ]
  },
  {
   "cell_type": "code",
   "execution_count": null,
   "id": "dc748021",
   "metadata": {},
   "outputs": [],
   "source": [
    "./bazel-bin/simulation/tools/gui/scenario_creator --demo_5km"
   ]
  },
  {
   "cell_type": "markdown",
   "id": "54579976",
   "metadata": {},
   "source": [
    "快捷键|describe|描述\n",
    ":-|:-|:-\n",
    "z/Z|zoom in map window|以鼠标点为中心放大\n",
    "a/A|reset map window|还原\n",
    "e/E|move your mouse and key \"e or E\" to place a ego routing request point|取点\n",
    "n/N|move your mouse and key \"n or N\" to place a npc trajectory point|暂未使用\n",
    "enter|generate npc trajectory and print on terminal|在终端打印取点坐标\n",
    "q/Q|quit matplotlib|关闭\n"
   ]
  },
  {
   "cell_type": "markdown",
   "id": "579b283b",
   "metadata": {},
   "source": [
    "## plot_routing_response"
   ]
  },
  {
   "cell_type": "code",
   "execution_count": null,
   "id": "10274637",
   "metadata": {},
   "outputs": [],
   "source": [
    "./bazel-bin/modules/routing/tools/plot_routing_response -p sw_test/test_results/test_data/pnc_sim/pnc_replay_sim_demo_10km_1/log/routing/ -i -1"
   ]
  },
  {
   "cell_type": "code",
   "execution_count": null,
   "id": "bf059180",
   "metadata": {},
   "outputs": [],
   "source": [
    "./bazel-bin/modules/routing/tools/plot_routing_response -p ./sw_test/test_results/test_data/pnc_sim/pnc_replay_sim_demo_10km_1/log/routing/ -i -1"
   ]
  },
  {
   "cell_type": "markdown",
   "id": "4290773d",
   "metadata": {},
   "source": [
    "## check_routing_map"
   ]
  },
  {
   "cell_type": "code",
   "execution_count": null,
   "id": "463177ba",
   "metadata": {},
   "outputs": [],
   "source": [
    "./bazel-bin/modules/routing/tools/check_routing_map -p ./modules/map/data/lingang_odd/"
   ]
  },
  {
   "cell_type": "code",
   "execution_count": null,
   "id": "f9a3d695",
   "metadata": {},
   "outputs": [],
   "source": []
  },
  {
   "cell_type": "markdown",
   "id": "f8f4fe25",
   "metadata": {},
   "source": [
    "## meta_hdmap_window 可视化工具\n",
    "refer to： http://confluence.pegasus.tech/display/PPC/How+to+use+hdmap_window+tool  \n",
    "https://docs.python.org/zh-cn/3/howto/argparse.html"
   ]
  },
  {
   "cell_type": "markdown",
   "id": "792e05d6",
   "metadata": {},
   "source": [
    "### demo_5km 应用"
   ]
  },
  {
   "cell_type": "code",
   "execution_count": null,
   "id": "a5a397b6",
   "metadata": {},
   "outputs": [],
   "source": [
    "# 显示所有车道(lane)\n",
    "python modules/tools/meta_hdmap_window/hdmap_window.py -m /atlas/modules/map/data/demo_5km/base_map.bin"
   ]
  },
  {
   "cell_type": "code",
   "execution_count": null,
   "id": "c3aaa614",
   "metadata": {},
   "outputs": [],
   "source": [
    "# bin->txt\n",
    "python modules/tools/meta_hdmap_window/hdmap_window.py -m /atlas/modules/map/data/demo_5km/base_map.bin -s /atlas/modules/map/data/demo_5km/base_map.txt"
   ]
  },
  {
   "cell_type": "code",
   "execution_count": null,
   "id": "48b5d177",
   "metadata": {},
   "outputs": [],
   "source": [
    "# 显示所有车道及其id\n",
    "python modules/tools/meta_hdmap_window/hdmap_window.py -m /atlas/modules/map/data/demo_5km/base_map.bin -sl"
   ]
  },
  {
   "cell_type": "code",
   "execution_count": null,
   "id": "9aa2940d",
   "metadata": {},
   "outputs": [],
   "source": [
    "# 显示部分指定的车道(公交车站附近)\n",
    "python modules/tools/meta_hdmap_window/hdmap_window.py -m /atlas/modules/map/data/demo_5km/base_map.bin -l 52_0_-2 245_0_-1 246_0_-1 26_0_-3 26_0_-2 235_0_-1 231_0_-1 3_0_-2"
   ]
  },
  {
   "cell_type": "code",
   "execution_count": null,
   "id": "dde531dd",
   "metadata": {},
   "outputs": [],
   "source": [
    "# 显示所有道路(road)\n",
    "python modules/tools/meta_hdmap_window/roadshow.py -m /atlas/modules/map/data/demo_5km/base_map.bin"
   ]
  },
  {
   "cell_type": "markdown",
   "id": "26edd4c4",
   "metadata": {},
   "source": [
    "## map_xysl 待学习工具\n",
    "http://confluence.pegasus.tech/display/PPC/map_xysl"
   ]
  },
  {
   "cell_type": "markdown",
   "id": "d3d2d717",
   "metadata": {},
   "source": [
    "# Debug"
   ]
  },
  {
   "cell_type": "markdown",
   "id": "f5eb614e",
   "metadata": {},
   "source": [
    "atlas 中的 Log 已经从 glog 切换到了 alog，以后 glog 将不能使用（master 已变更）。请大家了解：  \n",
    "\n",
    "1> 日志文件统一放到了 atlas/data/log 目录下（以任何方式启动程序都可生成）；  \n",
    "2> 日志内容默认不显示到屏幕，如有需要，可以按照如下步骤打开：  \n",
    "    s1: 打开 atlas/config/alog/{对应模块}.yaml （程序第一次运行后创建，之后一直有效）；  \n",
    "    s2: \"MuteLog\" 项改为 false，同时 \"EchoToStderr\" 项改为 true；  \n",
    "    s3: 保存退出  \n",
    "\n",
    "更多内容可参考：http://confluence.pegasus.tech/pages/viewpage.action?spaceKey=PPS&title=ALog\n",
    "\n",
    "如有问题，咨询潘永飞"
   ]
  },
  {
   "cell_type": "code",
   "execution_count": null,
   "id": "e2cdb1c1",
   "metadata": {},
   "outputs": [],
   "source": []
  },
  {
   "cell_type": "code",
   "execution_count": null,
   "id": "dbfe2051",
   "metadata": {},
   "outputs": [],
   "source": [
    "vscode 在extensions中安装 Docker 插件\n",
    "2. 在左侧菜单中，选择Docker, 从Individual Containers中选择 harbor.pegasus.tech/infra/pegaatlas:1.3.3"
   ]
  },
  {
   "cell_type": "code",
   "execution_count": null,
   "id": "7c32748e",
   "metadata": {},
   "outputs": [],
   "source": []
  },
  {
   "cell_type": "code",
   "execution_count": null,
   "id": "594015c3",
   "metadata": {},
   "outputs": [],
   "source": [
    ".vscode -> launch.json\n",
    "\n",
    "\"program\" 修改为 \"bazel-bin/modules/prediction/script/analyze_obstacle\",\n",
    "\n",
    "按F5运行 analyze_obstacle.py"
   ]
  },
  {
   "cell_type": "markdown",
   "id": "49fa5dfa",
   "metadata": {},
   "source": [
    "# capnp\n",
    "http://capnproto.github.io/pycapnp/"
   ]
  },
  {
   "cell_type": "code",
   "execution_count": null,
   "id": "cf122de8",
   "metadata": {},
   "outputs": [],
   "source": [
    "pip install pycapnp -i https://pypi.mirrors.ustc.edu.cn/simple/"
   ]
  },
  {
   "cell_type": "markdown",
   "id": "9871e76e",
   "metadata": {},
   "source": [
    "# miniosh"
   ]
  },
  {
   "cell_type": "code",
   "execution_count": null,
   "id": "8ee7ce57",
   "metadata": {},
   "outputs": [],
   "source": [
    "minibus-log, 12345678"
   ]
  }
 ],
 "metadata": {
  "kernelspec": {
   "display_name": "Python 3 (ipykernel)",
   "language": "python",
   "name": "python3"
  },
  "language_info": {
   "codemirror_mode": {
    "name": "ipython",
    "version": 3
   },
   "file_extension": ".py",
   "mimetype": "text/x-python",
   "name": "python",
   "nbconvert_exporter": "python",
   "pygments_lexer": "ipython3",
   "version": "3.9.7"
  },
  "toc": {
   "base_numbering": 1,
   "nav_menu": {},
   "number_sections": true,
   "sideBar": true,
   "skip_h1_title": false,
   "title_cell": "Table of Contents",
   "title_sidebar": "Contents",
   "toc_cell": false,
   "toc_position": {
    "height": "calc(100% - 180px)",
    "left": "10px",
    "top": "150px",
    "width": "267.781px"
   },
   "toc_section_display": true,
   "toc_window_display": true
  },
  "vscode": {
   "interpreter": {
    "hash": "916dbcbb3f70747c44a77c7bcd40155683ae19c65e1c03b4aa3499c5328201f1"
   }
  }
 },
 "nbformat": 4,
 "nbformat_minor": 5
}
