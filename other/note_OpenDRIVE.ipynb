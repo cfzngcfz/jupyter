{
 "cells": [
  {
   "cell_type": "markdown",
   "id": "d2dd8c50",
   "metadata": {},
   "source": [
    "## OpenDRIVE\n",
    "refer to: https://www.asam.net/standards/detail/opendrive/  \n",
    "https://www.asam.net/index.php?eID=dumpFile&t=f&f=4422&token=e590561f3c39aa2260e5442e29e93f6693d1cccd"
   ]
  },
  {
   "cell_type": "markdown",
   "id": "e5097004",
   "metadata": {},
   "source": [
    "ASAM OpenDRIVE provides the exchange format specification to describe **static road networks** for driving simulation applications.  \n",
    "Dynamic content is not covered by ASAM OpenDRIVE.  \n",
    "The ASAM OpenDRIVE format provides a common base for describing road networks with **Extensible Markup Language (XML)** syntax, with the file extension **xodr**. \n"
   ]
  },
  {
   "cell_type": "code",
   "execution_count": null,
   "id": "cd398297",
   "metadata": {},
   "outputs": [],
   "source": []
  }
 ],
 "metadata": {
  "kernelspec": {
   "display_name": "Python 3 (ipykernel)",
   "language": "python",
   "name": "python3"
  },
  "language_info": {
   "codemirror_mode": {
    "name": "ipython",
    "version": 3
   },
   "file_extension": ".py",
   "mimetype": "text/x-python",
   "name": "python",
   "nbconvert_exporter": "python",
   "pygments_lexer": "ipython3",
   "version": "3.9.0"
  },
  "toc": {
   "base_numbering": 1,
   "nav_menu": {},
   "number_sections": true,
   "sideBar": true,
   "skip_h1_title": false,
   "title_cell": "Table of Contents",
   "title_sidebar": "Contents",
   "toc_cell": false,
   "toc_position": {},
   "toc_section_display": true,
   "toc_window_display": false
  }
 },
 "nbformat": 4,
 "nbformat_minor": 5
}
