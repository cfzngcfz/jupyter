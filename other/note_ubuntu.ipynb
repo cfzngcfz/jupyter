{
 "cells": [
  {
   "cell_type": "markdown",
   "id": "2a4e13d2",
   "metadata": {},
   "source": [
    "# 配置atlas\n",
    "## 更新镜像源"
   ]
  },
  {
   "cell_type": "markdown",
   "id": "b967f2c8",
   "metadata": {},
   "source": [
    "## 驱动安装"
   ]
  },
  {
   "cell_type": "code",
   "execution_count": null,
   "id": "6c136df7",
   "metadata": {},
   "outputs": [],
   "source": [
    "sudo apt-get update"
   ]
  },
  {
   "cell_type": "code",
   "execution_count": null,
   "id": "f913b2b1",
   "metadata": {},
   "outputs": [],
   "source": [
    "sudo apt-get install nvidia-driver-455"
   ]
  },
  {
   "cell_type": "code",
   "execution_count": null,
   "id": "7ba16378",
   "metadata": {},
   "outputs": [],
   "source": [
    "nvidia-smi # check"
   ]
  },
  {
   "cell_type": "markdown",
   "id": "7f238228",
   "metadata": {},
   "source": [
    "## Using Docker Image to Run Atlas Dev Build"
   ]
  },
  {
   "cell_type": "code",
   "execution_count": null,
   "id": "90a76713",
   "metadata": {},
   "outputs": [],
   "source": [
    "http://confluence.pegasus.tech/pages/viewpage.action?spaceKey=PID&title=Using+Docker+Image+to+Run++Atlas+Dev+Build"
   ]
  },
  {
   "cell_type": "markdown",
   "id": "8f495aa7",
   "metadata": {},
   "source": [
    "notice: 如果 docker images 执行失败，reboot  \n",
    "    然后再执行后续步骤"
   ]
  },
  {
   "cell_type": "markdown",
   "id": "b27e0093",
   "metadata": {},
   "source": [
    "# 工具"
   ]
  },
  {
   "cell_type": "markdown",
   "id": "18fab06e",
   "metadata": {},
   "source": [
    "## 键鼠共享(Ubuntu->Windows)\n",
    "\n",
    "用Ubuntu电脑控制Windows电脑(如果选择Windows作为服务端, 在安装时需要两次管理员权限), 安装步骤:\n",
    "\n",
    "### Ubuntu\n",
    "1) 在Ubuntu Software中搜索 Barrier  \n",
    "2) 选择 Server/服务端  \n",
    "3) 菜单栏->Barrier->Change_Settings/更改设置->去除 Enable SSL/开始SSL 勾选  \n",
    "4) 设置服务端 -> 通过拖拽显示器图标, 添加屏幕, 屏幕名设置为 Client/客户端的屏幕名  \n",
    "### Windows\n",
    "1) 下载: https://github.com/debauchee/barrier/releases  \n",
    "2) 选择 Client/客户端  \n",
    "3) 服务端IP设置为 Server/服务端的IP地址  "
   ]
  },
  {
   "cell_type": "markdown",
   "id": "dd6b6f2d",
   "metadata": {},
   "source": [
    "## Chrome扩展安装\n",
    "https://www.google.cn/chrome/\n",
    "\n",
    "如果从网上应用店直接安装,报错\"Download interrupted\"  \n",
    "* 下载 扩展包.crx  \n",
    "* 直接将其拖拽至 Chrome->设置->扩展程序(打开开发者模式)中  \n",
    "\n",
    "手势工具:https://chrome.google.com/webstore/detail/crxmouse-chrome-gestures/jlgkpaicikihijadgifklkbpdajbkhjo  \n",
    "四分屏工具:https://chrome.google.com/webstore/detail/gnome-shell-integration/gphhapmejobijbbhgpjhcjognlahblep  "
   ]
  },
  {
   "cell_type": "markdown",
   "id": "cb658aec",
   "metadata": {},
   "source": [
    "## google输入法\n",
    "refer to: https://blog.csdn.net/kan2016/article/details/105735645  \n",
    "https://blog.csdn.net/do_you_ac_today/article/details/123279735"
   ]
  },
  {
   "cell_type": "code",
   "execution_count": null,
   "id": "55b90891",
   "metadata": {},
   "outputs": [],
   "source": [
    "sudo apt install fcitx"
   ]
  },
  {
   "cell_type": "code",
   "execution_count": null,
   "id": "c33c0a1a",
   "metadata": {},
   "outputs": [],
   "source": [
    "sudo apt install fcitx-googlepinyin"
   ]
  },
  {
   "cell_type": "code",
   "execution_count": null,
   "id": "70f8aaea",
   "metadata": {},
   "outputs": [],
   "source": []
  },
  {
   "cell_type": "markdown",
   "id": "3084c462",
   "metadata": {},
   "source": [
    "## 分屏\n",
    "### 系统默认桌面二分屏\n",
    "win键+左右键  \n",
    "### 桌面四分屏\n",
    "https://blog.csdn.net/SiriusExplorer/article/details/103016747\n",
    "win键+小键盘1-9\n",
    "### 终端分屏工具"
   ]
  },
  {
   "cell_type": "code",
   "execution_count": null,
   "id": "f9c6626a",
   "metadata": {},
   "outputs": [],
   "source": [
    "sudo apt-get install terminator"
   ]
  },
  {
   "cell_type": "markdown",
   "id": "114aed27",
   "metadata": {},
   "source": [
    "## 代码对比工具\n"
   ]
  },
  {
   "cell_type": "code",
   "execution_count": null,
   "id": "18730442",
   "metadata": {},
   "outputs": [],
   "source": [
    "sudo apt install meld"
   ]
  },
  {
   "cell_type": "markdown",
   "id": "5e9c879e",
   "metadata": {},
   "source": [
    "## 截图\n",
    "https://zhuanlan.zhihu.com/p/45919661"
   ]
  },
  {
   "cell_type": "code",
   "execution_count": null,
   "id": "50e80400",
   "metadata": {},
   "outputs": [],
   "source": [
    "sudo apt install flameshot"
   ]
  },
  {
   "cell_type": "markdown",
   "id": "24f0fd0b",
   "metadata": {},
   "source": [
    "## Linux下快速搜索文件（类似Everything）待测试\n",
    "https://www.jianshu.com/p/4a62c38bec7e\n",
    "FSearch\n"
   ]
  },
  {
   "cell_type": "markdown",
   "id": "2a5c77d1",
   "metadata": {},
   "source": [
    "## 企业微信(安装键鼠共享后废弃)\n",
    "refer to: https://ubuntukylin.com/applications/108-cn.html (可显示图片, 飞鸿推荐)  \n",
    "待测试: https://www.csdn.net/tags/MtTaEg0sMDA2OTc0LWJsb2cO0O0O.html"
   ]
  },
  {
   "cell_type": "markdown",
   "id": "b72486ee",
   "metadata": {},
   "source": [
    "# 快捷键设置\n",
    "\n",
    "中英文输入法切换快捷键设置:  \n",
    "设置->键盘快捷键->打字->切换至下个输入源\n",
    "\n",
    "终端复制粘贴快捷键设置:  \n",
    "配置文件首选项->快捷键->编辑->复制 & 粘贴"
   ]
  }
 ],
 "metadata": {
  "kernelspec": {
   "display_name": "Python 3 (ipykernel)",
   "language": "python",
   "name": "python3"
  },
  "language_info": {
   "codemirror_mode": {
    "name": "ipython",
    "version": 3
   },
   "file_extension": ".py",
   "mimetype": "text/x-python",
   "name": "python",
   "nbconvert_exporter": "python",
   "pygments_lexer": "ipython3",
   "version": "3.9.7"
  },
  "toc": {
   "base_numbering": 1,
   "nav_menu": {},
   "number_sections": true,
   "sideBar": true,
   "skip_h1_title": false,
   "title_cell": "Table of Contents",
   "title_sidebar": "Contents",
   "toc_cell": false,
   "toc_position": {
    "height": "calc(100% - 180px)",
    "left": "10px",
    "top": "150px",
    "width": "295.837px"
   },
   "toc_section_display": true,
   "toc_window_display": true
  }
 },
 "nbformat": 4,
 "nbformat_minor": 5
}
