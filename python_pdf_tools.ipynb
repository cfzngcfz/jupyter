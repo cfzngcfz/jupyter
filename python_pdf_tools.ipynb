{
 "cells": [
  {
   "cell_type": "markdown",
   "id": "c9689bd6",
   "metadata": {},
   "source": [
    "- github\n",
    "    - https://github.com/madmaze/pytesseract (5.6k stars)\n",
    "    - https://github.com/JaidedAI/EasyOCR (22.7k  stars)\n",
    "    - https://github.com/py-pdf/pypdf (7.7k stars)\n",
    "    - https://github.com/colemana/PyPDF2 (79 stars)\n",
    "    - [X] https://github.com/langchain-ai/langchain (87.8k stars)\n",
    "    - https://github.com/jsvine/pdfplumber (5.8k stars)\n",
    "        - [从PDF中提取表格和文本](https://zhuanlan.zhihu.com/p/163764713)\n",
    "        - [Python提取PDF文件中的表格文本保存为Excel文件](https://cloud.tencent.com/developer/article/1778806?from=15425)\n",
    "        - [如何使用python提取pdf表格及文本，并保存到excel](https://cloud.tencent.com/developer/article/1972029?from=15425)\n",
    "        - [如何使用Python提取PDF表格及文本，并保存到Excel](https://cloud.tencent.com/developer/article/1815296?from=15425) 同上\n",
    "    - https://github.com/pdfminer/pdfminer.six (5.6k stars)\n",
    "        - https://github.com/euske/pdfminer (5.2k stars)\n",
    "            - [python提取pdf文本内容](https://cloud.tencent.com/developer/article/1406532?from=15425)\n",
    "        - https://github.com/canserhat77/pdfminer3k (23 stars)\n",
    "            - [Python使用pdfminer3k提取PDF文件中的文本](https://cloud.tencent.com/developer/article/1952344?from=15425)\n",
    "            - [Python批量提取PDF文件中的文本](https://cloud.tencent.com/developer/article/1098074?from=15425)\n",
    "    - https://github.com/pymupdf/PyMuPDF (4.4k stars)\n",
    "        - https://github.com/pymupdf/PyMuPDF-Utilities (501 stars)\n",
    "    - https://github.com/Belval/pdf2image (1.5k stars)\n",
    "    - https://github.com/pypdfium2-team/pypdfium2 (311 stars)\n",
    "    - https://github.com/timClicks/slate (425 stars)\n",
    "    - https://github.com/camelot-dev/camelot (2.8k stars)\n",
    "        - [66.如何使用Python提取PDF表格中数据](https://cloud.tencent.com/developer/article/1584601?from=15425)\n",
    "    - https://github.com/deanmalmgren/textract (3.8k stars)\n",
    "\n",
    "\n",
    "\n",
    "- refer to\n",
    "    - [从PDF和图像中提取文本，以供大型语言模型使用](https://blog.csdn.net/weixin_38739735/article/details/134636221) Pytesseract \\*, easyOCR, PyPDF2, LangChain \\*\n",
    "    - [Python--从PDF中提取文本的方法总结](https://blog.csdn.net/Achernar0208/article/details/129199937) pdfplumber, pdfminer, pymupdf \\*\n",
    "    - [用 Python 提取 PDF 文本的简单方法](https://cloud.tencent.com/developer/article/2009551?from=15425) pytesseract, pymupdf(tika)\n",
    "    - [全面指南———用python提取PDF中各类文本内容的方法](https://www.luxiangdong.com/2023/10/05/extract/) PyPDF2, Pdfminer, Pdfplumber, Pdf2image\n",
    "    - [手把手教你如何用Python从PDF文件中导出数据（附链接）](https://www.jiqizhixin.com/articles/2018-11-28-9) pdfminer, slate\n",
    "    - [如何使用语言模型从PDF和图像中提取文本](https://fuxi.163.com/database/987) PyPDF2, pytesseract\n",
    "    - [Python | PDF 提取文本的几种方法](https://cloud.tencent.com/developer/article/1825553) PyPDF2, pdfminer, textract\n",
    "    - [Python | PDF 提取文本的几种方法](https://cloud.tencent.com/developer/article/1825553?from=15425) 同上\n",
    "    - [Python PyPDF2、pdfplumber 提取 PDF 文本、图片内容](https://cloud.tencent.com/developer/article/2102074?from=15425) PyPDF2, pdfplumber\n",
    "    - [使用 Python 从 PDF 中提取特定数据](https://blog.groupdocs.cloud/zh/parser/extract-specific-data-from-pdf-using-python/) groupdocs_parser_cloud\n",
    "    - [Python是如何实现PDF文本与图片的提取的？](https://cloud.tencent.com/developer/article/2356820?from=15425) spire.pdf"
   ]
  },
  {
   "cell_type": "markdown",
   "id": "0ef87f8d",
   "metadata": {},
   "source": [
    "# LangChain"
   ]
  },
  {
   "cell_type": "code",
   "execution_count": null,
   "id": "524bed2b",
   "metadata": {},
   "outputs": [],
   "source": [
    "!conda install langchain -c conda-forge\n",
    "!conda install unstructured -c conda-forge"
   ]
  },
  {
   "cell_type": "markdown",
   "id": "647c7bb1",
   "metadata": {},
   "source": [
    "## 从图像中提取文本"
   ]
  },
  {
   "cell_type": "code",
   "execution_count": null,
   "id": "c88199ba",
   "metadata": {},
   "outputs": [],
   "source": [
    "from langchain.document_loaders.image import UnstructuredImageLoader\n",
    "def extract_text_with_langchain_image(list_dict_final_images):\n",
    "   image_list = [list(data.values())[0] for data in list_dict_final_images]\n",
    "   image_content = []\n",
    "   \n",
    "   for index, image_bytes in enumerate(image_list):\n",
    "       \n",
    "       image = Image.open(BytesIO(image_bytes))\n",
    "       loader = UnstructuredImageLoader(image)\n",
    "       data = loader.load()\n",
    "       raw_text = data[index].page_content\n",
    "                      \n",
    "       image_content.append(raw_text)\n",
    "   \n",
    "   return \"\\n\".join(image_content)\n",
    "text_with_langchain_image = extract_text_with_langchain_image(convert_pdf_to_images)\n",
    "print(text_with_langchain_image)"
   ]
  },
  {
   "cell_type": "markdown",
   "id": "89c29f64",
   "metadata": {},
   "source": [
    "## 从 PDF 中提取文本\n",
    "- https://api.python.langchain.com/en/latest/document_loaders/langchain_community.document_loaders.unstructured.UnstructuredFileLoader.html\n",
    "- [X] https://python.langchain.com/v0.2/docs/integrations/document_loaders/unstructured_file/"
   ]
  },
  {
   "cell_type": "code",
   "execution_count": null,
   "id": "ce48663a",
   "metadata": {},
   "outputs": [],
   "source": [
    "from langchain.document_loaders import UnstructuredFileLoader\n",
    "# from langchain_community.document_loaders import UnstructuredFileLoader\n",
    "def extract_text_with_langchain_pdf(pdf_file):\n",
    "   loader = UnstructuredFileLoader(pdf_file)\n",
    "   documents = loader.load()\n",
    "   pdf_pages_content = '\\n'.join(doc.page_content for doc in documents)\n",
    "   \n",
    "   return pdf_pages_content\n",
    "\n",
    "text_with_langchain_files = extract_text_with_langchain_pdf(\"Experimentation_file.pdf\")\n",
    "print(text_with_langchain_files)"
   ]
  },
  {
   "cell_type": "code",
   "execution_count": 14,
   "id": "9c58d2bc",
   "metadata": {},
   "outputs": [],
   "source": [
    "pdf_path = \"/mnt/d/github/paper/具身机器人/OpenVLA_An Open-Source Vision-Language-Action Model.pdf\""
   ]
  },
  {
   "cell_type": "code",
   "execution_count": 15,
   "id": "9ebb05dd",
   "metadata": {},
   "outputs": [
    {
     "ename": "ValueError",
     "evalue": "unstructured package not found, please install it with `pip install unstructured`",
     "output_type": "error",
     "traceback": [
      "\u001b[0;31m---------------------------------------------------------------------------\u001b[0m",
      "\u001b[0;31mModuleNotFoundError\u001b[0m                       Traceback (most recent call last)",
      "\u001b[0;32m~/miniconda3/lib/python3.9/site-packages/langchain/document_loaders/unstructured.py\u001b[0m in \u001b[0;36m__init__\u001b[0;34m(self, mode, **unstructured_kwargs)\u001b[0m\n\u001b[1;32m     31\u001b[0m         \u001b[0;32mtry\u001b[0m\u001b[0;34m:\u001b[0m\u001b[0;34m\u001b[0m\u001b[0;34m\u001b[0m\u001b[0m\n\u001b[0;32m---> 32\u001b[0;31m             \u001b[0;32mimport\u001b[0m \u001b[0munstructured\u001b[0m  \u001b[0;31m# noqa:F401\u001b[0m\u001b[0;34m\u001b[0m\u001b[0;34m\u001b[0m\u001b[0m\n\u001b[0m\u001b[1;32m     33\u001b[0m         \u001b[0;32mexcept\u001b[0m \u001b[0mImportError\u001b[0m\u001b[0;34m:\u001b[0m\u001b[0;34m\u001b[0m\u001b[0;34m\u001b[0m\u001b[0m\n",
      "\u001b[0;31mModuleNotFoundError\u001b[0m: No module named 'unstructured'",
      "\nDuring handling of the above exception, another exception occurred:\n",
      "\u001b[0;31mValueError\u001b[0m                                Traceback (most recent call last)",
      "\u001b[0;32m/tmp/ipykernel_1657/3116688630.py\u001b[0m in \u001b[0;36m<module>\u001b[0;34m\u001b[0m\n\u001b[1;32m      1\u001b[0m \u001b[0;32mfrom\u001b[0m \u001b[0mlangchain\u001b[0m\u001b[0;34m.\u001b[0m\u001b[0mdocument_loaders\u001b[0m \u001b[0;32mimport\u001b[0m \u001b[0mUnstructuredFileLoader\u001b[0m\u001b[0;34m\u001b[0m\u001b[0;34m\u001b[0m\u001b[0m\n\u001b[0;32m----> 2\u001b[0;31m \u001b[0mloader\u001b[0m \u001b[0;34m=\u001b[0m \u001b[0mUnstructuredFileLoader\u001b[0m\u001b[0;34m(\u001b[0m\u001b[0mpdf_path\u001b[0m\u001b[0;34m)\u001b[0m\u001b[0;34m\u001b[0m\u001b[0;34m\u001b[0m\u001b[0m\n\u001b[0m\u001b[1;32m      3\u001b[0m \u001b[0mdocs\u001b[0m \u001b[0;34m=\u001b[0m \u001b[0mloader\u001b[0m\u001b[0;34m.\u001b[0m\u001b[0mload\u001b[0m\u001b[0;34m(\u001b[0m\u001b[0;34m)\u001b[0m\u001b[0;34m\u001b[0m\u001b[0;34m\u001b[0m\u001b[0m\n\u001b[1;32m      4\u001b[0m \u001b[0mdocs\u001b[0m\u001b[0;34m[\u001b[0m\u001b[0;36m0\u001b[0m\u001b[0;34m]\u001b[0m\u001b[0;34m.\u001b[0m\u001b[0mpage_content\u001b[0m\u001b[0;34m[\u001b[0m\u001b[0;34m:\u001b[0m\u001b[0;36m400\u001b[0m\u001b[0;34m]\u001b[0m\u001b[0;34m\u001b[0m\u001b[0;34m\u001b[0m\u001b[0m\n",
      "\u001b[0;32m~/miniconda3/lib/python3.9/site-packages/langchain/document_loaders/unstructured.py\u001b[0m in \u001b[0;36m__init__\u001b[0;34m(self, file_path, mode, **unstructured_kwargs)\u001b[0m\n\u001b[1;32m     88\u001b[0m         \u001b[0;34m\"\"\"Initialize with file path.\"\"\"\u001b[0m\u001b[0;34m\u001b[0m\u001b[0;34m\u001b[0m\u001b[0m\n\u001b[1;32m     89\u001b[0m         \u001b[0mself\u001b[0m\u001b[0;34m.\u001b[0m\u001b[0mfile_path\u001b[0m \u001b[0;34m=\u001b[0m \u001b[0mfile_path\u001b[0m\u001b[0;34m\u001b[0m\u001b[0;34m\u001b[0m\u001b[0m\n\u001b[0;32m---> 90\u001b[0;31m         \u001b[0msuper\u001b[0m\u001b[0;34m(\u001b[0m\u001b[0;34m)\u001b[0m\u001b[0;34m.\u001b[0m\u001b[0m__init__\u001b[0m\u001b[0;34m(\u001b[0m\u001b[0mmode\u001b[0m\u001b[0;34m=\u001b[0m\u001b[0mmode\u001b[0m\u001b[0;34m,\u001b[0m \u001b[0;34m**\u001b[0m\u001b[0munstructured_kwargs\u001b[0m\u001b[0;34m)\u001b[0m\u001b[0;34m\u001b[0m\u001b[0;34m\u001b[0m\u001b[0m\n\u001b[0m\u001b[1;32m     91\u001b[0m \u001b[0;34m\u001b[0m\u001b[0m\n\u001b[1;32m     92\u001b[0m     \u001b[0;32mdef\u001b[0m \u001b[0m_get_elements\u001b[0m\u001b[0;34m(\u001b[0m\u001b[0mself\u001b[0m\u001b[0;34m)\u001b[0m \u001b[0;34m->\u001b[0m \u001b[0mList\u001b[0m\u001b[0;34m:\u001b[0m\u001b[0;34m\u001b[0m\u001b[0;34m\u001b[0m\u001b[0m\n",
      "\u001b[0;32m~/miniconda3/lib/python3.9/site-packages/langchain/document_loaders/unstructured.py\u001b[0m in \u001b[0;36m__init__\u001b[0;34m(self, mode, **unstructured_kwargs)\u001b[0m\n\u001b[1;32m     32\u001b[0m             \u001b[0;32mimport\u001b[0m \u001b[0munstructured\u001b[0m  \u001b[0;31m# noqa:F401\u001b[0m\u001b[0;34m\u001b[0m\u001b[0;34m\u001b[0m\u001b[0m\n\u001b[1;32m     33\u001b[0m         \u001b[0;32mexcept\u001b[0m \u001b[0mImportError\u001b[0m\u001b[0;34m:\u001b[0m\u001b[0;34m\u001b[0m\u001b[0;34m\u001b[0m\u001b[0m\n\u001b[0;32m---> 34\u001b[0;31m             raise ValueError(\n\u001b[0m\u001b[1;32m     35\u001b[0m                 \u001b[0;34m\"unstructured package not found, please install it with \"\u001b[0m\u001b[0;34m\u001b[0m\u001b[0;34m\u001b[0m\u001b[0m\n\u001b[1;32m     36\u001b[0m                 \u001b[0;34m\"`pip install unstructured`\"\u001b[0m\u001b[0;34m\u001b[0m\u001b[0;34m\u001b[0m\u001b[0m\n",
      "\u001b[0;31mValueError\u001b[0m: unstructured package not found, please install it with `pip install unstructured`"
     ]
    }
   ],
   "source": [
    "from langchain.document_loaders import UnstructuredFileLoader\n",
    "loader = UnstructuredFileLoader(pdf_path)\n",
    "docs = loader.load()\n",
    "docs[0].page_content[:400]"
   ]
  },
  {
   "cell_type": "code",
   "execution_count": null,
   "id": "3066b4df",
   "metadata": {},
   "outputs": [],
   "source": [
    "files = [\"./example_data/whatsapp_chat.txt\", \"./example_data/layout-parser-paper.pdf\"]\n",
    "loader = UnstructuredFileLoader(files)\n",
    "docs = loader.load()\n",
    "docs[0].page_content[:400]"
   ]
  },
  {
   "cell_type": "code",
   "execution_count": null,
   "id": "c2401dfd",
   "metadata": {},
   "outputs": [],
   "source": [
    "\"\"\"\n",
    "Partitioning Strategy:\n",
    "    Hi res(高分辨率)划分策略更准确, 但花费更长的时间处理。Fast 策略划分文档更快, 但牺牲准确性。\n",
    "Modes:\n",
    "    `single`:   所有元素中的所有文本合并为一个(默认)\n",
    "    `elements`: 保留单个元素\n",
    "    `paged`:    仅合并每页中的文本\n",
    "\"\"\"\n",
    "\n",
    "loader = UnstructuredFileLoader(\n",
    "    \"layout-parser-paper-fast.pdf\", strategy=\"fast\", mode=\"elements\"\n",
    ")\n",
    "docs = loader.load()\n",
    "docs[:5]"
   ]
  },
  {
   "cell_type": "code",
   "execution_count": null,
   "id": "f86817ef",
   "metadata": {},
   "outputs": [],
   "source": [
    "# 在提取后对非结构化元素进行后期处理\n",
    "\n",
    "from langchain_community.document_loaders import UnstructuredFileLoader\n",
    "from unstructured.cleaners.core import clean_extra_whitespace\n",
    "loader = UnstructuredFileLoader(\n",
    "    \"./example_data/layout-parser-paper.pdf\",\n",
    "    mode=\"elements\",\n",
    "    post_processors=[clean_extra_whitespace],\n",
    ")\n",
    "docs = loader.load()\n",
    "docs[:5]"
   ]
  },
  {
   "cell_type": "code",
   "execution_count": null,
   "id": "f5ea3d84",
   "metadata": {},
   "outputs": [],
   "source": [
    "key = \"WQStpBr8yRtMsMF2BAtwbHWPIDAJDH\"\n",
    "\n",
    "from langchain_community.document_loaders import UnstructuredAPIFileLoader\n",
    "filenames = [\"example_data/fake.docx\", \"example_data/fake-email.eml\"]\n",
    "loader = UnstructuredAPIFileLoader(\n",
    "    file_path=filenames[0],\n",
    "#     file_path=filenames,\n",
    "    api_key=key,\n",
    ")\n",
    "docs = loader.load()\n",
    "docs[0]"
   ]
  },
  {
   "cell_type": "code",
   "execution_count": null,
   "id": "8fc663df",
   "metadata": {},
   "outputs": [],
   "source": [
    "# Before calling the API, replace filename and ensure sdk is installed: \"pip install unstructured-client\"\n",
    "# See https://docs.unstructured.io/api-reference/api-services/sdk for more details\n",
    "\n",
    "import unstructured_client\n",
    "from unstructured_client.models import operations, shared\n",
    "\n",
    "client = unstructured_client.UnstructuredClient(\n",
    "    api_key_auth=\"WQStpBr8yRtMsMF2BAtwbHWPIDAJDH\",\n",
    "    server_url=\"https://api.unstructuredapp.io\",\n",
    ")\n",
    "\n",
    "filename = \"PATH_TO_FILE\"\n",
    "with open(filename, \"rb\") as f:\n",
    "    data = f.read()\n",
    "\n",
    "req = operations.PartitionRequest(\n",
    "    partition_parameters=shared.PartitionParameters(\n",
    "        files=shared.Files(\n",
    "            content=data,\n",
    "            file_name=filename,\n",
    "        ),\n",
    "        # --- Other partition parameters ---\n",
    "        # Note: Defining 'strategy', 'chunking_strategy', and 'output_format'\n",
    "        # parameters as strings is accepted, but will not pass strict type checking. It is\n",
    "        # advised to use the defined enum classes as shown below.\n",
    "        strategy=shared.Strategy.AUTO,  \n",
    "        languages=['eng'],\n",
    "    ),\n",
    ")\n",
    "\n",
    "try:\n",
    "    res = client.general.partition(request=req)\n",
    "    print(res.elements[0])\n",
    "except Exception as e:\n",
    "    print(e)"
   ]
  },
  {
   "cell_type": "markdown",
   "id": "5c132e3d",
   "metadata": {},
   "source": [
    "# aspose-pdf\n",
    "https://blog.aspose.com/zh/pdf/extract-text-from-pdf-in-python/"
   ]
  },
  {
   "cell_type": "code",
   "execution_count": null,
   "id": "270d1921",
   "metadata": {},
   "outputs": [],
   "source": [
    "! pip install aspose-pdf"
   ]
  },
  {
   "cell_type": "code",
   "execution_count": null,
   "id": "1b6571a2",
   "metadata": {},
   "outputs": [],
   "source": [
    "import aspose.pdf as ap\n",
    "document = ap.Document(\"input.pdf\")\n",
    "textDevice = ap.devices.TextDevice()\n",
    "textDevice.process(document.pages[1], \"extracted_text.txt\")"
   ]
  }
 ],
 "metadata": {
  "kernelspec": {
   "display_name": "Python 3 (ipykernel)",
   "language": "python",
   "name": "python3"
  },
  "language_info": {
   "codemirror_mode": {
    "name": "ipython",
    "version": 3
   },
   "file_extension": ".py",
   "mimetype": "text/x-python",
   "name": "python",
   "nbconvert_exporter": "python",
   "pygments_lexer": "ipython3",
   "version": "3.9.7"
  },
  "toc": {
   "base_numbering": 1,
   "nav_menu": {},
   "number_sections": true,
   "sideBar": true,
   "skip_h1_title": false,
   "title_cell": "Table of Contents",
   "title_sidebar": "Contents",
   "toc_cell": false,
   "toc_position": {},
   "toc_section_display": true,
   "toc_window_display": false
  }
 },
 "nbformat": 4,
 "nbformat_minor": 5
}
