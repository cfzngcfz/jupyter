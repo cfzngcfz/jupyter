{
 "cells": [
  {
   "cell_type": "code",
   "execution_count": 40,
   "id": "c75a0662",
   "metadata": {},
   "outputs": [],
   "source": [
    "#include <iostream> \n",
    "using namespace std;"
   ]
  },
  {
   "cell_type": "markdown",
   "id": "bfc5c093",
   "metadata": {},
   "source": [
    "# struct"
   ]
  },
  {
   "cell_type": "code",
   "execution_count": 41,
   "id": "4fa3e630",
   "metadata": {},
   "outputs": [],
   "source": [
    "// 自定义str_count结构\n",
    "struct str_count\n",
    "{\n",
    "    char str;\n",
    "    int count;\n",
    "};"
   ]
  },
  {
   "cell_type": "code",
   "execution_count": 42,
   "id": "5e75ad8b",
   "metadata": {},
   "outputs": [
    {
     "name": "stdout",
     "output_type": "stream",
     "text": [
      "a, 2\n",
      "b, 3\n"
     ]
    }
   ],
   "source": [
    "vector<str_count> vector_struct;\n",
    "str_count temp1; // 声明一个str_count对象\n",
    "temp1.str = 'a';\n",
    "temp1.count = 2;\n",
    "vector_struct.emplace_back(temp1);\n",
    "temp1.str = 'b';\n",
    "temp1.count = 3;\n",
    "vector_struct.emplace_back(temp1);\n",
    "\n",
    "for (auto sc : vector_struct)\n",
    "{\n",
    "    cout << sc.str << \", \" << sc.count << endl;\n",
    "}"
   ]
  },
  {
   "cell_type": "markdown",
   "id": "b7f264fa",
   "metadata": {},
   "source": [
    "# pair\n",
    "std::pair is a class template that provides a way to store two heterogeneous objects as a single unit. A pair is a specific case of a std::tuple with two elements."
   ]
  },
  {
   "cell_type": "code",
   "execution_count": 43,
   "id": "9b08393c",
   "metadata": {},
   "outputs": [],
   "source": [
    "?std::pair"
   ]
  },
  {
   "cell_type": "code",
   "execution_count": 44,
   "id": "2cb0c2c5",
   "metadata": {},
   "outputs": [
    {
     "name": "stdout",
     "output_type": "stream",
     "text": [
      "2\n",
      "1\n"
     ]
    }
   ],
   "source": [
    "pair<int, int> aa = {2,1};\n",
    "cout << aa.first << endl;\n",
    "cout << aa.second << endl;"
   ]
  },
  {
   "cell_type": "code",
   "execution_count": 45,
   "id": "1fcb73e9",
   "metadata": {},
   "outputs": [
    {
     "name": "stdout",
     "output_type": "stream",
     "text": [
      "2\n",
      "1\n"
     ]
    }
   ],
   "source": [
    "pair<int, int> aa(2,1);\n",
    "cout << aa.first << endl;\n",
    "cout << aa.second << endl;"
   ]
  },
  {
   "cell_type": "code",
   "execution_count": 46,
   "id": "5befe3c2",
   "metadata": {},
   "outputs": [
    {
     "name": "stdout",
     "output_type": "stream",
     "text": [
      "2\n",
      "1\n"
     ]
    }
   ],
   "source": [
    "pair<int, int> aa;\n",
    "aa.first = 2;\n",
    "aa.second = 1;\n",
    "cout << aa.first << endl;\n",
    "cout << aa.second << endl;"
   ]
  },
  {
   "cell_type": "code",
   "execution_count": 47,
   "id": "786ab15e",
   "metadata": {},
   "outputs": [
    {
     "name": "stdout",
     "output_type": "stream",
     "text": [
      "a, 2\n",
      "b, 3\n"
     ]
    }
   ],
   "source": [
    "vector<pair<char, int>> vector_pair;\n",
    "pair<char, int> temp2; // 声明一个pair对象\n",
    "temp2.first = 'a';\n",
    "temp2.second = 2; //pair<char, int> temp('b', 2);\n",
    "vector_pair.emplace_back(temp2);\n",
    "temp2.first = 'b';\n",
    "temp2.second = 3;\n",
    "vector_pair.emplace_back(temp2);\n",
    "\n",
    "for (auto sc : vector_pair)\n",
    "{\n",
    "    cout << sc.first << \", \" << sc.second << endl;\n",
    "}"
   ]
  },
  {
   "cell_type": "markdown",
   "id": "4529312e",
   "metadata": {},
   "source": [
    "# ListNode\n"
   ]
  },
  {
   "cell_type": "code",
   "execution_count": 48,
   "id": "83747639",
   "metadata": {},
   "outputs": [],
   "source": [
    "struct ListNode {\n",
    "    int val;\n",
    "    ListNode* next;\n",
    "    ListNode() : val(0), next(nullptr) {}\n",
    "    ListNode(int x) : val(x), next(nullptr) {}\n",
    "    ListNode(int x, ListNode* next) : val(x), next(next) {}\n",
    "};"
   ]
  },
  {
   "cell_type": "markdown",
   "id": "bb1f9f0b",
   "metadata": {},
   "source": [
    "构建一个链表，1->2->3"
   ]
  },
  {
   "cell_type": "code",
   "execution_count": 49,
   "id": "2ad3e7ed",
   "metadata": {},
   "outputs": [
    {
     "name": "stdout",
     "output_type": "stream",
     "text": [
      "1\n",
      "2\n",
      "3\n"
     ]
    }
   ],
   "source": [
    "ListNode* head = new ListNode{ 1 };\n",
    "ListNode* p = head;\n",
    "p->next = new ListNode{ 2 };\n",
    "p = p->next;\n",
    "p->next = new ListNode{ 3 };\n",
    "\n",
    "while (head != nullptr) {\n",
    "    cout << head->val << endl;\n",
    "    head = head->next;\n",
    "}"
   ]
  },
  {
   "cell_type": "markdown",
   "id": "2fa88d7d",
   "metadata": {},
   "source": [
    "构建一个空链表"
   ]
  },
  {
   "cell_type": "code",
   "execution_count": 50,
   "id": "cd1b089a",
   "metadata": {},
   "outputs": [],
   "source": [
    "ListNode* head = nullptr;\n",
    "while (head != nullptr) {\n",
    "    cout << head->val << endl;\n",
    "    head = head->next;\n",
    "}"
   ]
  },
  {
   "cell_type": "markdown",
   "id": "dc742637",
   "metadata": {},
   "source": [
    "注意: new ListNode{ }和 nullptr 的区别"
   ]
  },
  {
   "cell_type": "code",
   "execution_count": 51,
   "id": "b49b05fd",
   "metadata": {},
   "outputs": [
    {
     "name": "stdout",
     "output_type": "stream",
     "text": [
      "0\n"
     ]
    }
   ],
   "source": [
    "ListNode* head = new ListNode{ };\n",
    "while (head != nullptr) {\n",
    "    cout << head->val << endl;\n",
    "    head = head->next;\n",
    "}"
   ]
  },
  {
   "cell_type": "markdown",
   "id": "e856c089",
   "metadata": {},
   "source": [
    "# TreeNode"
   ]
  },
  {
   "cell_type": "code",
   "execution_count": 52,
   "id": "70968116",
   "metadata": {},
   "outputs": [],
   "source": [
    "struct TreeNode {\n",
    "    int val;\n",
    "    TreeNode* left;\n",
    "    TreeNode* right;\n",
    "    TreeNode() : val(0), left(nullptr), right(nullptr) {}\n",
    "    TreeNode(int x) : val(x), left(nullptr), right(nullptr) {}\n",
    "    TreeNode(int x, TreeNode* left, TreeNode* right) : val(x), left(left), right(right) {}\n",
    "};"
   ]
  },
  {
   "cell_type": "markdown",
   "id": "6b1d3dc0",
   "metadata": {},
   "source": [
    "构建一个二叉树"
   ]
  },
  {
   "cell_type": "code",
   "execution_count": 53,
   "id": "045ba49a",
   "metadata": {},
   "outputs": [],
   "source": [
    "TreeNode* root = new TreeNode{ 2 };\n",
    "root->left = new TreeNode{ 2 };\n",
    "root->right = new TreeNode{ 5 };\n",
    "root->right->left = new TreeNode{ 5 };\n",
    "root->right->right = new TreeNode{ 7 };"
   ]
  },
  {
   "cell_type": "code",
   "execution_count": 54,
   "id": "9c6c0697",
   "metadata": {},
   "outputs": [
    {
     "name": "stdout",
     "output_type": "stream",
     "text": [
      "2\n"
     ]
    }
   ],
   "source": [
    "cout << root->val << endl;"
   ]
  },
  {
   "cell_type": "code",
   "execution_count": null,
   "id": "6a3e5f4c",
   "metadata": {},
   "outputs": [],
   "source": []
  }
 ],
 "metadata": {
  "kernelspec": {
   "display_name": "C++14",
   "language": "C++14",
   "name": "xcpp14"
  },
  "language_info": {
   "codemirror_mode": "text/x-c++src",
   "file_extension": ".cpp",
   "mimetype": "text/x-c++src",
   "name": "c++",
   "version": "14"
  },
  "toc": {
   "base_numbering": 1,
   "nav_menu": {},
   "number_sections": true,
   "sideBar": true,
   "skip_h1_title": false,
   "title_cell": "Table of Contents",
   "title_sidebar": "Contents",
   "toc_cell": false,
   "toc_position": {},
   "toc_section_display": true,
   "toc_window_display": false
  }
 },
 "nbformat": 4,
 "nbformat_minor": 5
}
