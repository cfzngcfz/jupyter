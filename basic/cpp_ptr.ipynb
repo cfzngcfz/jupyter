{
 "cells": [
  {
   "cell_type": "code",
   "execution_count": 2,
   "id": "28f14e7d",
   "metadata": {},
   "outputs": [],
   "source": [
    "#include<iostream>"
   ]
  },
  {
   "cell_type": "markdown",
   "id": "0f565483",
   "metadata": {},
   "source": [
    "# & vs *\n",
    "'&' 获取变量在内存中的起始地址  \n",
    "'*' 解引用(解除引用)运算符, 获取地址在内存中存储的值"
   ]
  },
  {
   "cell_type": "code",
   "execution_count": 3,
   "id": "73d82887",
   "metadata": {},
   "outputs": [
    {
     "name": "stdout",
     "output_type": "stream",
     "text": [
      "变量(a)的地址:*\n"
     ]
    }
   ],
   "source": [
    "char a = '*';\n",
    "std::cout << \"变量(a)的地址:\" << &a << std::endl;"
   ]
  },
  {
   "cell_type": "code",
   "execution_count": 4,
   "id": "b0cf6e12",
   "metadata": {},
   "outputs": [
    {
     "name": "stdout",
     "output_type": "stream",
     "text": [
      "变量(a)的16进制地址:0x7f5a586c1029\n",
      "变量(a)的10进制地址:140026007261225\n"
     ]
    }
   ],
   "source": [
    "std::cout << \"变量(a)的16进制地址:\" << (void*)&a << std::endl;\n",
    "std::cout << \"变量(a)的10进制地址:\" << (long long)&a << std::endl;"
   ]
  },
  {
   "cell_type": "markdown",
   "id": "6bd4b5e3",
   "metadata": {},
   "source": [
    "# 指针(变量)"
   ]
  },
  {
   "cell_type": "code",
   "execution_count": 5,
   "id": "6d641a96",
   "metadata": {},
   "outputs": [
    {
     "name": "stdout",
     "output_type": "stream",
     "text": [
      "变量(a)的16进制地址:0x7f5a586c1030\n",
      "指针(a_ptr)的16进制地址:0x7f5a586c1030\n"
     ]
    }
   ],
   "source": [
    "std::string a = \"cpp\";\n",
    "std::string *a_ptr = &a; // 指针赋值, 具体而言, 声明一个指针(int *a_ptr), 并赋值为变量的地址(&a)\n",
    "std::cout << \"变量(a)的16进制地址:\" << (void*)&a << std::endl;\n",
    "std::cout << \"指针(a_ptr)的16进制地址:\" << (void*)a_ptr << std::endl;"
   ]
  },
  {
   "cell_type": "code",
   "execution_count": 6,
   "id": "a06e6f79",
   "metadata": {},
   "outputs": [
    {
     "name": "stdout",
     "output_type": "stream",
     "text": [
      "字符串变量(a)占用内存的字节 = 32\n",
      "指针(a_ptr)占用内存的字节 = 8\n"
     ]
    }
   ],
   "source": [
    "std::cout << \"字符串变量(a)占用内存的字节 = \" << sizeof(a) << std::endl;\n",
    "std::cout << \"指针(a_ptr)占用内存的字节 = \" << sizeof(a_ptr) << std::endl;"
   ]
  },
  {
   "cell_type": "code",
   "execution_count": 7,
   "id": "5d5f8fb0",
   "metadata": {},
   "outputs": [
    {
     "name": "stdout",
     "output_type": "stream",
     "text": [
      "a = cpp\n",
      "*a_ptr = cpp\n"
     ]
    },
    {
     "data": {
      "text/plain": [
       "@0x7f5a585194e0"
      ]
     },
     "execution_count": 7,
     "metadata": {},
     "output_type": "execute_result"
    }
   ],
   "source": [
    "std::cout << \"a = \" << a << std::endl;\n",
    "std::cout << \"*a_ptr = \" << *a_ptr << std::endl; // * 解引用"
   ]
  },
  {
   "cell_type": "code",
   "execution_count": 8,
   "id": "3b940417",
   "metadata": {},
   "outputs": [
    {
     "name": "stdout",
     "output_type": "stream",
     "text": [
      "a = c++\n",
      "*a_ptr = c++\n"
     ]
    },
    {
     "data": {
      "text/plain": [
       "@0x7f5a585194e0"
      ]
     },
     "execution_count": 8,
     "metadata": {},
     "output_type": "execute_result"
    }
   ],
   "source": [
    "*a_ptr = \"c++\"; // * 解引用 <=> a = \"cpp\";\n",
    "std::cout << \"a = \" << a << std::endl;\n",
    "std::cout << \"*a_ptr = \" << *a_ptr << std::endl; // * 解引用"
   ]
  },
  {
   "cell_type": "code",
   "execution_count": 9,
   "id": "aba06f24",
   "metadata": {},
   "outputs": [
    {
     "name": "stdout",
     "output_type": "stream",
     "text": [
      "a = cplusplus\n",
      "*a_ptr = cplusplus\n"
     ]
    },
    {
     "data": {
      "text/plain": [
       "@0x7f5a585194e0"
      ]
     },
     "execution_count": 9,
     "metadata": {},
     "output_type": "execute_result"
    }
   ],
   "source": [
    "a = \"cplusplus\";\n",
    "std::cout << \"a = \" << a << std::endl;\n",
    "std::cout << \"*a_ptr = \" << *a_ptr << std::endl; // * 解引用"
   ]
  },
  {
   "cell_type": "markdown",
   "id": "06d136ea",
   "metadata": {},
   "source": [
    "变量 vs 指针\n",
    "\n",
    "值|地址\n",
    ":-:|:-:\n",
    "a|&a\n",
    "*a_ptr|ptr\n",
    "\n",
    "声明一个变量, 系统在内部跟踪其内存单元;  \n",
    "声明一个指针, 其存储的值是地址, 不是值本身, 程序直接访问该内存单元"
   ]
  },
  {
   "cell_type": "markdown",
   "id": "393f5d96",
   "metadata": {},
   "source": [
    "# 指针用于函数的参数"
   ]
  },
  {
   "cell_type": "markdown",
   "id": "83994f38",
   "metadata": {},
   "source": [
    "如果把函数的形参是普通变量，形参的输入是变量的值，即实参的拷贝，在函数内部修改形参的值不会改变实参，这种方法称为**值传递**"
   ]
  },
  {
   "cell_type": "code",
   "execution_count": 10,
   "id": "b48c5048",
   "metadata": {},
   "outputs": [
    {
     "name": "stdout",
     "output_type": "stream",
     "text": [
      "a(in function1) = 2\n",
      "a(in main) = 1\n"
     ]
    }
   ],
   "source": [
    "#include<iostream>\n",
    "void function1(int a) {\n",
    "    a += 1;\n",
    "    std::cout << \"a(in function1) = \" << a << std::endl;\n",
    "}\n",
    "\n",
    "int a = 1;\n",
    "function1(a);\n",
    "std::cout << \"a(in main) = \" << a << std::endl;"
   ]
  },
  {
   "cell_type": "markdown",
   "id": "7b39da97",
   "metadata": {},
   "source": [
    "如果把函数的形参声明为指针，调用时传入实参的地址，形参的输入为实参的地址，在函数内部通过解引用的方法直接操作内存中的数据，可以修改实参的值，这种方法称为**地址传递**或**传地址**\n",
    "* 可以在函数中修改实参的值\n",
    "* 减少内存拷贝，提升性能"
   ]
  },
  {
   "cell_type": "code",
   "execution_count": 11,
   "id": "0a0a6bb2",
   "metadata": {},
   "outputs": [
    {
     "name": "stdout",
     "output_type": "stream",
     "text": [
      "a(in function1) = 2\n",
      "a(in main) = 2\n"
     ]
    }
   ],
   "source": [
    "#include<iostream>\n",
    "void function1(int *a) { // 声明一个指针\n",
    "    *a += 1;             // 解引用\n",
    "    std::cout << \"a(in function1) = \" << *a << std::endl; // 解引用\n",
    "}\n",
    "\n",
    "int a = 1;\n",
    "function1(&a); // 变量的地址\n",
    "std::cout << \"a(in main) = \" << a << std::endl;"
   ]
  },
  {
   "cell_type": "markdown",
   "id": "523ebb98",
   "metadata": {},
   "source": [
    "# const 修饰指针"
   ]
  },
  {
   "cell_type": "markdown",
   "id": "da72c7e8",
   "metadata": {},
   "source": [
    "## 常量指针\n",
    "**<font color=\"red\">不能通过解引用的方法修改内存地址中的值, 但可通过原始变量(指针指向的变量)进行修改</font>**"
   ]
  },
  {
   "cell_type": "code",
   "execution_count": 12,
   "id": "2d0a966a",
   "metadata": {},
   "outputs": [],
   "source": [
    "#include<iostream>\n",
    "int a = 1;\n",
    "const int *a_ptr = &a; // 常量指针"
   ]
  },
  {
   "cell_type": "code",
   "execution_count": 13,
   "id": "168ed1f3",
   "metadata": {},
   "outputs": [
    {
     "name": "stderr",
     "output_type": "stream",
     "text": [
      "\u001b[1minput_line_27:2:9: \u001b[0m\u001b[0;1;31merror: \u001b[0m\u001b[1mread-only variable is not assignable\u001b[0m\n",
      " *a_ptr = 2;\n",
      "\u001b[0;1;32m ~~~~~~ ^\n",
      "\u001b[0m"
     ]
    },
    {
     "ename": "Interpreter Error",
     "evalue": "",
     "output_type": "error",
     "traceback": [
      "Interpreter Error: "
     ]
    }
   ],
   "source": [
    "*a_ptr = 2;"
   ]
  },
  {
   "cell_type": "code",
   "execution_count": 14,
   "id": "58d4ab0d",
   "metadata": {},
   "outputs": [],
   "source": [
    "a = 3;"
   ]
  },
  {
   "cell_type": "code",
   "execution_count": 15,
   "id": "010e26db",
   "metadata": {},
   "outputs": [
    {
     "name": "stdout",
     "output_type": "stream",
     "text": [
      "a = 3, *a_ptr = 3\n"
     ]
    }
   ],
   "source": [
    "std::cout << \"a = \" << a << \", *a_ptr = \" << *a_ptr << std::endl;"
   ]
  },
  {
   "cell_type": "markdown",
   "id": "aabc0bd8",
   "metadata": {},
   "source": [
    "## 指针常量\n",
    "实际开发中几乎不用，用\"引用\""
   ]
  },
  {
   "cell_type": "code",
   "execution_count": null,
   "id": "42e44537",
   "metadata": {},
   "outputs": [],
   "source": [
    "#include<iostream>\n",
    "int a = 1, b = 2;\n",
    "int * const a_ptr = &a;\n",
    "*a_ptr = 2;\n",
    "std::cout << \"a = \" << a << \", *a_ptr = \" << *a_ptr << std::endl;"
   ]
  },
  {
   "cell_type": "code",
   "execution_count": null,
   "id": "415e4836",
   "metadata": {},
   "outputs": [],
   "source": [
    "指向的变量(对象)不可改变"
   ]
  },
  {
   "cell_type": "code",
   "execution_count": null,
   "id": "828b853e",
   "metadata": {},
   "outputs": [],
   "source": [
    "a_ptr = &b;"
   ]
  },
  {
   "cell_type": "markdown",
   "id": "69d7a49c",
   "metadata": {},
   "source": [
    "## 常指针常量\n",
    "指向的变量(对象)不可改变, 不能通过解引用的方法修改内存地址中的值"
   ]
  },
  {
   "cell_type": "code",
   "execution_count": null,
   "id": "f8f8c6fa",
   "metadata": {},
   "outputs": [],
   "source": [
    "int a = 1, b = 2;\n",
    "const int * const a_ptr = &a;\n",
    "*a_ptr = 2;"
   ]
  },
  {
   "cell_type": "markdown",
   "id": "ca51dd27",
   "metadata": {},
   "source": [
    "# void *\n",
    "函数的形参用void *, 表示接受任意数据类型的指针  "
   ]
  },
  {
   "cell_type": "code",
   "execution_count": 16,
   "id": "a1ce7920",
   "metadata": {},
   "outputs": [
    {
     "name": "stderr",
     "output_type": "stream",
     "text": [
      "\u001b[1minput_line_31:7:1: \u001b[0m\u001b[0;1;31merror: \u001b[0m\u001b[1mno matching function for call to 'function1'\u001b[0m\n",
      "function1(\"a\", &a);\n",
      "\u001b[0;1;32m^~~~~~~~~\n",
      "\u001b[0m\u001b[1minput_line_31:2:6: \u001b[0m\u001b[0;1;30mnote: \u001b[0mcandidate function not viable: no known conversion from 'std::string *' (aka 'basic_string<char> *') to 'int *' for 2nd argument\u001b[0m\n",
      "void function1(std::string varname, int *p) {\n",
      "\u001b[0;1;32m     ^\n",
      "\u001b[0m\u001b[1minput_line_24:1:6: \u001b[0m\u001b[0;1;30mnote: \u001b[0mcandidate function not viable: requires single argument 'a', but 2 arguments were provided\u001b[0m\n",
      "void function1(int *a) { // 声明一个指针\n",
      "\u001b[0;1;32m     ^\n",
      "\u001b[0m\u001b[1minput_line_22:1:6: \u001b[0m\u001b[0;1;30mnote: \u001b[0mcandidate function not viable: requires single argument 'a', but 2 arguments were provided\u001b[0m\n",
      "void function1(int a) {\n",
      "\u001b[0;1;32m     ^\n",
      "\u001b[0m"
     ]
    },
    {
     "ename": "Interpreter Error",
     "evalue": "",
     "output_type": "error",
     "traceback": [
      "Interpreter Error: "
     ]
    }
   ],
   "source": [
    "#include<iostream>\n",
    "// 反例\n",
    "void function1(std::string varname, int *p) {\n",
    "    std::cout << varname << \"的地址是: \" << p << std::endl;\n",
    "}\n",
    "\n",
    "std::string a = \"c++\";\n",
    "function1(\"a\", &a);"
   ]
  },
  {
   "cell_type": "code",
   "execution_count": 17,
   "id": "a0f8f333",
   "metadata": {},
   "outputs": [
    {
     "name": "stdout",
     "output_type": "stream",
     "text": [
      "a的地址: 0x7f5a586c1070\n"
     ]
    }
   ],
   "source": [
    "#include<iostream>\n",
    "void function2(std::string varname, void *p) {\n",
    "    std::cout << varname << \"的地址: \" << p << std::endl;\n",
    "}\n",
    "\n",
    "std::string a = \"c++\";\n",
    "function2(\"a\", &a);"
   ]
  },
  {
   "cell_type": "markdown",
   "id": "fa8925ac",
   "metadata": {},
   "source": [
    "**<font color=\"red\">void \\* 指针不能直接解引用, 需转换成其他类型的指针(因为解引用时，必须知道数据占用内存的大小)</font>**"
   ]
  },
  {
   "cell_type": "code",
   "execution_count": 18,
   "id": "4a8c6928",
   "metadata": {},
   "outputs": [
    {
     "name": "stderr",
     "output_type": "stream",
     "text": [
      "\u001b[1minput_line_35:3:43: \u001b[0m\u001b[0;1;35mwarning: \u001b[0m\u001b[1mISO C++ does not allow indirection on operand of type 'void *' [-Wvoid-ptr-dereference]\u001b[0m\n",
      "    std::cout << varname << \"的值: \" << *p << std::endl;\n",
      "\u001b[0;1;32m                                        ^~\n",
      "\u001b[0m\u001b[1minput_line_35:3:40: \u001b[0m\u001b[0;1;31merror: \u001b[0m\u001b[1minvalid operands to binary expression ('basic_ostream<char, std::char_traits<char> >' and 'void')\u001b[0m\n",
      "    std::cout << varname << \"的值: \" << *p << std::endl;\n",
      "\u001b[0;1;32m    ~~~~~~~~~~~~~~~~~~~~~~~~~~~~~~~~ ^  ~~\n",
      "\u001b[0m\u001b[1m/home/cfz/miniconda3/bin/../lib/gcc/x86_64-conda-linux-gnu/9.3.0/../../../../x86_64-conda-linux-gnu/include/c++/9.3.0/ostream:245:7: \u001b[0m\u001b[0;1;30mnote: \u001b[0mcandidate function not viable: cannot convert argument of incomplete type 'void' to 'const void *' for 1st argument; remove *\u001b[0m\n",
      "      operator<<(const void* __p)\n",
      "\u001b[0;1;32m      ^\n",
      "\u001b[0m\u001b[1m/home/cfz/miniconda3/bin/../lib/gcc/x86_64-conda-linux-gnu/9.3.0/../../../../x86_64-conda-linux-gnu/include/c++/9.3.0/system_error:217:5: \u001b[0m\u001b[0;1;30mnote: \u001b[0mcandidate function not viable: cannot convert argument of incomplete type 'void' to 'const std::error_code' for 2nd argument\u001b[0m\n",
      "    operator<<(basic_ostream<_CharT, _Traits>& __os, const error_code& __e)\n",
      "\u001b[0;1;32m    ^\n",
      "\u001b[0m\u001b[1m/home/cfz/miniconda3/bin/../lib/gcc/x86_64-conda-linux-gnu/9.3.0/../../../../x86_64-conda-linux-gnu/include/c++/9.3.0/ostream:108:7: \u001b[0m\u001b[0;1;30mnote: \u001b[0mcandidate function not viable: cannot convert argument of incomplete type 'void' to 'std::basic_ostream<char, std::char_traits<char> >::__ostream_type\n",
      "      &(*)(std::basic_ostream<char, std::char_traits<char> >::__ostream_type &)' (aka 'basic_ostream<char, std::char_traits<char> > &(*)(basic_ostream<char,\n",
      "      std::char_traits<char> > &)') for 1st argument\u001b[0m\n",
      "      operator<<(__ostream_type& (*__pf)(__ostream_type&))\n",
      "\u001b[0;1;32m      ^\n",
      "\u001b[0m\u001b[1m/home/cfz/miniconda3/bin/../lib/gcc/x86_64-conda-linux-gnu/9.3.0/../../../../x86_64-conda-linux-gnu/include/c++/9.3.0/ostream:117:7: \u001b[0m\u001b[0;1;30mnote: \u001b[0mcandidate function not viable: cannot convert argument of incomplete type 'void' to 'std::basic_ostream<char, std::char_traits<char> >::__ios_type\n",
      "      &(*)(std::basic_ostream<char, std::char_traits<char> >::__ios_type &)' (aka 'basic_ios<char, std::char_traits<char> > &(*)(basic_ios<char,\n",
      "      std::char_traits<char> > &)') for 1st argument\u001b[0m\n",
      "      operator<<(__ios_type& (*__pf)(__ios_type&))\n",
      "\u001b[0;1;32m      ^\n",
      "\u001b[0m\u001b[1m/home/cfz/miniconda3/bin/../lib/gcc/x86_64-conda-linux-gnu/9.3.0/../../../../x86_64-conda-linux-gnu/include/c++/9.3.0/ostream:127:7: \u001b[0m\u001b[0;1;30mnote: \u001b[0mcandidate function not viable: cannot convert argument of incomplete type 'void' to 'std::ios_base &(*)(std::ios_base &)' for 1st argument\u001b[0m\n",
      "      operator<<(ios_base& (*__pf) (ios_base&))\n",
      "\u001b[0;1;32m      ^\n",
      "\u001b[0m\u001b[1m/home/cfz/miniconda3/bin/../lib/gcc/x86_64-conda-linux-gnu/9.3.0/../../../../x86_64-conda-linux-gnu/include/c++/9.3.0/ostream:166:7: \u001b[0m\u001b[0;1;30mnote: \u001b[0mcandidate function not viable: cannot convert argument of incomplete type 'void' to 'long' for 1st argument\u001b[0m\n",
      "      operator<<(long __n)\n",
      "\u001b[0;1;32m      ^\n",
      "\u001b[0m\u001b[1m/home/cfz/miniconda3/bin/../lib/gcc/x86_64-conda-linux-gnu/9.3.0/../../../../x86_64-conda-linux-gnu/include/c++/9.3.0/ostream:170:7: \u001b[0m\u001b[0;1;30mnote: \u001b[0mcandidate function not viable: cannot convert argument of incomplete type 'void' to 'unsigned long' for 1st argument\u001b[0m\n",
      "      operator<<(unsigned long __n)\n",
      "\u001b[0;1;32m      ^\n",
      "\u001b[0m\u001b[1m/home/cfz/miniconda3/bin/../lib/gcc/x86_64-conda-linux-gnu/9.3.0/../../../../x86_64-conda-linux-gnu/include/c++/9.3.0/ostream:174:7: \u001b[0m\u001b[0;1;30mnote: \u001b[0mcandidate function not viable: cannot convert argument of incomplete type 'void' to 'bool' for 1st argument\u001b[0m\n",
      "      operator<<(bool __n)\n",
      "\u001b[0;1;32m      ^\n",
      "\u001b[0m\u001b[1m/home/cfz/miniconda3/bin/../lib/gcc/x86_64-conda-linux-gnu/9.3.0/../../../../x86_64-conda-linux-gnu/include/c++/9.3.0/ostream:178:7: \u001b[0m\u001b[0;1;30mnote: \u001b[0mcandidate function not viable: cannot convert argument of incomplete type 'void' to 'short' for 1st argument\u001b[0m\n",
      "      operator<<(short __n);\n",
      "\u001b[0;1;32m      ^\n",
      "\u001b[0m\u001b[1m/home/cfz/miniconda3/bin/../lib/gcc/x86_64-conda-linux-gnu/9.3.0/../../../../x86_64-conda-linux-gnu/include/c++/9.3.0/ostream:181:7: \u001b[0m\u001b[0;1;30mnote: \u001b[0mcandidate function not viable: cannot convert argument of incomplete type 'void' to 'unsigned short' for 1st argument\u001b[0m\n",
      "      operator<<(unsigned short __n)\n",
      "\u001b[0;1;32m      ^\n",
      "\u001b[0m\u001b[1m/home/cfz/miniconda3/bin/../lib/gcc/x86_64-conda-linux-gnu/9.3.0/../../../../x86_64-conda-linux-gnu/include/c++/9.3.0/ostream:189:7: \u001b[0m\u001b[0;1;30mnote: \u001b[0mcandidate function not viable: cannot convert argument of incomplete type 'void' to 'int' for 1st argument\u001b[0m\n",
      "      operator<<(int __n);\n",
      "\u001b[0;1;32m      ^\n",
      "\u001b[0m\u001b[1m/home/cfz/miniconda3/bin/../lib/gcc/x86_64-conda-linux-gnu/9.3.0/../../../../x86_64-conda-linux-gnu/include/c++/9.3.0/ostream:192:7: \u001b[0m\u001b[0;1;30mnote: \u001b[0mcandidate function not viable: cannot convert argument of incomplete type 'void' to 'unsigned int' for 1st argument\u001b[0m\n",
      "      operator<<(unsigned int __n)\n",
      "\u001b[0;1;32m      ^\n",
      "\u001b[0m\u001b[1m/home/cfz/miniconda3/bin/../lib/gcc/x86_64-conda-linux-gnu/9.3.0/../../../../x86_64-conda-linux-gnu/include/c++/9.3.0/ostream:201:7: \u001b[0m\u001b[0;1;30mnote: \u001b[0mcandidate function not viable: cannot convert argument of incomplete type 'void' to 'long long' for 1st argument\u001b[0m\n",
      "      operator<<(long long __n)\n",
      "\u001b[0;1;32m      ^\n",
      "\u001b[0m\u001b[1m/home/cfz/miniconda3/bin/../lib/gcc/x86_64-conda-linux-gnu/9.3.0/../../../../x86_64-conda-linux-gnu/include/c++/9.3.0/ostream:205:7: \u001b[0m\u001b[0;1;30mnote: \u001b[0mcandidate function not viable: cannot convert argument of incomplete type 'void' to 'unsigned long long' for 1st argument\u001b[0m\n",
      "      operator<<(unsigned long long __n)\n",
      "\u001b[0;1;32m      ^\n",
      "\u001b[0m\u001b[1m/home/cfz/miniconda3/bin/../lib/gcc/x86_64-conda-linux-gnu/9.3.0/../../../../x86_64-conda-linux-gnu/include/c++/9.3.0/ostream:220:7: \u001b[0m\u001b[0;1;30mnote: \u001b[0mcandidate function not viable: cannot convert argument of incomplete type 'void' to 'double' for 1st argument\u001b[0m\n",
      "      operator<<(double __f)\n",
      "\u001b[0;1;32m      ^\n",
      "\u001b[0m\u001b[1m/home/cfz/miniconda3/bin/../lib/gcc/x86_64-conda-linux-gnu/9.3.0/../../../../x86_64-conda-linux-gnu/include/c++/9.3.0/ostream:224:7: \u001b[0m\u001b[0;1;30mnote: \u001b[0mcandidate function not viable: cannot convert argument of incomplete type 'void' to 'float' for 1st argument\u001b[0m\n",
      "      operator<<(float __f)\n",
      "\u001b[0;1;32m      ^\n",
      "\u001b[0m\u001b[1m/home/cfz/miniconda3/bin/../lib/gcc/x86_64-conda-linux-gnu/9.3.0/../../../../x86_64-conda-linux-gnu/include/c++/9.3.0/ostream:232:7: \u001b[0m\u001b[0;1;30mnote: \u001b[0mcandidate function not viable: cannot convert argument of incomplete type 'void' to 'long double' for 1st argument\u001b[0m\n",
      "      operator<<(long double __f)\n",
      "\u001b[0;1;32m      ^\n",
      "\u001b[0m\u001b[1m/home/cfz/miniconda3/bin/../lib/gcc/x86_64-conda-linux-gnu/9.3.0/../../../../x86_64-conda-linux-gnu/include/c++/9.3.0/ostream:276:7: \u001b[0m\u001b[0;1;30mnote: \u001b[0mcandidate function not viable: cannot convert argument of incomplete type 'void' to 'std::basic_ostream<char, std::char_traits<char> >::__streambuf_type *'\n",
      "      (aka 'basic_streambuf<char, std::char_traits<char> > *') for 1st argument\u001b[0m\n",
      "      operator<<(__streambuf_type* __sb);\n",
      "\u001b[0;1;32m      ^\n",
      "\u001b[0m\u001b[1m/home/cfz/miniconda3/bin/../lib/gcc/x86_64-conda-linux-gnu/9.3.0/../../../../x86_64-conda-linux-gnu/include/c++/9.3.0/ostream:511:5: \u001b[0m\u001b[0;1;30mnote: \u001b[0mcandidate function not viable: cannot convert argument of incomplete type 'void' to 'char' for 2nd argument\u001b[0m\n",
      "    operator<<(basic_ostream<_CharT, _Traits>& __out, char __c)\n",
      "\u001b[0;1;32m    ^\n",
      "\u001b[0m\u001b[1m/home/cfz/miniconda3/bin/../lib/gcc/x86_64-conda-linux-gnu/9.3.0/../../../../x86_64-conda-linux-gnu/include/c++/9.3.0/ostream:517:5: \u001b[0m\u001b[0;1;30mnote: \u001b[0mcandidate function not viable: cannot convert argument of incomplete type 'void' to 'char' for 2nd argument\u001b[0m\n",
      "    operator<<(basic_ostream<char, _Traits>& __out, char __c)\n",
      "\u001b[0;1;32m    ^\n"
     ]
    },
    {
     "name": "stderr",
     "output_type": "stream",
     "text": [
      "\u001b[0m\u001b[1m/home/cfz/miniconda3/bin/../lib/gcc/x86_64-conda-linux-gnu/9.3.0/../../../../x86_64-conda-linux-gnu/include/c++/9.3.0/ostream:523:5: \u001b[0m\u001b[0;1;30mnote: \u001b[0mcandidate function not viable: cannot convert argument of incomplete type 'void' to 'signed char' for 2nd argument\u001b[0m\n",
      "    operator<<(basic_ostream<char, _Traits>& __out, signed char __c)\n",
      "\u001b[0;1;32m    ^\n",
      "\u001b[0m\u001b[1m/home/cfz/miniconda3/bin/../lib/gcc/x86_64-conda-linux-gnu/9.3.0/../../../../x86_64-conda-linux-gnu/include/c++/9.3.0/ostream:528:5: \u001b[0m\u001b[0;1;30mnote: \u001b[0mcandidate function not viable: cannot convert argument of incomplete type 'void' to 'unsigned char' for 2nd argument\u001b[0m\n",
      "    operator<<(basic_ostream<char, _Traits>& __out, unsigned char __c)\n",
      "\u001b[0;1;32m    ^\n",
      "\u001b[0m\u001b[1m/home/cfz/miniconda3/bin/../lib/gcc/x86_64-conda-linux-gnu/9.3.0/../../../../x86_64-conda-linux-gnu/include/c++/9.3.0/ostream:565:5: \u001b[0m\u001b[0;1;30mnote: \u001b[0mcandidate function not viable: cannot convert argument of incomplete type 'void' to 'const char *' for 2nd argument\u001b[0m\n",
      "    operator<<(basic_ostream<char, _Traits>& __out, const char* __s)\n",
      "\u001b[0;1;32m    ^\n",
      "\u001b[0m\u001b[1m/home/cfz/miniconda3/bin/../lib/gcc/x86_64-conda-linux-gnu/9.3.0/../../../../x86_64-conda-linux-gnu/include/c++/9.3.0/ostream:578:5: \u001b[0m\u001b[0;1;30mnote: \u001b[0mcandidate function not viable: cannot convert argument of incomplete type 'void' to 'const signed char *' for 2nd argument\u001b[0m\n",
      "    operator<<(basic_ostream<char, _Traits>& __out, const signed char* __s)\n",
      "\u001b[0;1;32m    ^\n",
      "\u001b[0m\u001b[1m/home/cfz/miniconda3/bin/../lib/gcc/x86_64-conda-linux-gnu/9.3.0/../../../../x86_64-conda-linux-gnu/include/c++/9.3.0/ostream:583:5: \u001b[0m\u001b[0;1;30mnote: \u001b[0mcandidate function not viable: cannot convert argument of incomplete type 'void' to 'const unsigned char *' for 2nd argument\u001b[0m\n",
      "    operator<<(basic_ostream<char, _Traits>& __out, const unsigned char* __s)\n",
      "\u001b[0;1;32m    ^\n",
      "\u001b[0m\u001b[1m/home/cfz/miniconda3/bin/../lib/gcc/x86_64-conda-linux-gnu/9.3.0/../../../../x86_64-conda-linux-gnu/include/c++/9.3.0/bits/ostream.tcc:321:5: \u001b[0m\u001b[0;1;30mnote: \u001b[0mcandidate function not viable: cannot convert argument of incomplete type 'void' to 'const char *' for 2nd argument\u001b[0m\n",
      "    operator<<(basic_ostream<_CharT, _Traits>& __out, const char* __s)\n",
      "\u001b[0;1;32m    ^\n",
      "\u001b[0m\u001b[1m/home/cfz/miniconda3/bin/../lib/gcc/x86_64-conda-linux-gnu/9.3.0/../../../../x86_64-conda-linux-gnu/include/c++/9.3.0/ostream:506:5: \u001b[0m\u001b[0;1;30mnote: \u001b[0mcandidate template ignored: deduced conflicting types for parameter '_CharT' ('char' vs. 'void')\u001b[0m\n",
      "    operator<<(basic_ostream<_CharT, _Traits>& __out, _CharT __c)\n",
      "\u001b[0;1;32m    ^\n",
      "\u001b[0m\u001b[1m/home/cfz/miniconda3/bin/../lib/gcc/x86_64-conda-linux-gnu/9.3.0/../../../../x86_64-conda-linux-gnu/include/c++/9.3.0/bits/basic_string.h:6416:5: \u001b[0m\u001b[0;1;30mnote: \u001b[0mcandidate template ignored: could not match 'basic_string<type-parameter-0-0, type-parameter-0-1, type-parameter-0-2>' against 'void'\u001b[0m\n",
      "    operator<<(basic_ostream<_CharT, _Traits>& __os,\n",
      "\u001b[0;1;32m    ^\n",
      "\u001b[0m\u001b[1m/home/cfz/miniconda3/bin/../lib/gcc/x86_64-conda-linux-gnu/9.3.0/../../../../x86_64-conda-linux-gnu/include/c++/9.3.0/ostream:691:5: \u001b[0m\u001b[0;1;30mnote: \u001b[0mcandidate template ignored: substitution failure [with _Ostream = std::basic_ostream<char> &, _Tp = void]: cannot form a reference to 'void'\u001b[0m\n",
      "    operator<<(_Ostream&& __os, const _Tp& __x)\n",
      "\u001b[0;1;32m    ^\n",
      "\u001b[0m\u001b[1m/home/cfz/miniconda3/bin/../lib/gcc/x86_64-conda-linux-gnu/9.3.0/../../../../x86_64-conda-linux-gnu/include/c++/9.3.0/ostream:548:5: \u001b[0m\u001b[0;1;30mnote: \u001b[0mcandidate template ignored: could not match 'const _CharT *' against 'void'\u001b[0m\n",
      "    operator<<(basic_ostream<_CharT, _Traits>& __out, const _CharT* __s)\n",
      "\u001b[0;1;32m    ^\n",
      "\u001b[0m\u001b[1m/home/cfz/miniconda3/bin/../lib/gcc/x86_64-conda-linux-gnu/9.3.0/../../../../x86_64-conda-linux-gnu/include/c++/9.3.0/bits/shared_ptr.h:66:5: \u001b[0m\u001b[0;1;30mnote: \u001b[0mcandidate template ignored: could not match '__shared_ptr<type-parameter-0-2, _Lp>' against 'void'\u001b[0m\n",
      "    operator<<(std::basic_ostream<_Ch, _Tr>& __os,\n",
      "\u001b[0;1;32m    ^\n",
      "\u001b[0m\u001b[1m/home/cfz/miniconda3/bin/../lib/gcc/x86_64-conda-linux-gnu/9.3.0/../../../../x86_64-conda-linux-gnu/include/c++/9.3.0/bits/valarray_after.h:413:5: \u001b[0m\u001b[0;1;30mnote: \u001b[0mcandidate template ignored: could not match '_Expr' against 'basic_ostream'\u001b[0m\n",
      "    _DEFINE_EXPR_BINARY_OPERATOR(<<, __shift_left)\n",
      "\u001b[0;1;32m    ^\n",
      "\u001b[0m\u001b[1m/home/cfz/miniconda3/bin/../lib/gcc/x86_64-conda-linux-gnu/9.3.0/../../../../x86_64-conda-linux-gnu/include/c++/9.3.0/bits/valarray_after.h:344:5: \u001b[0m\u001b[0;1;30mnote: \u001b[0mexpanded from macro '_DEFINE_EXPR_BINARY_OPERATOR'\u001b[0m\n",
      "    operator _Op(const _Expr<_Dom1, typename _Dom1::value_type>& __v,   \\\n",
      "\u001b[0;1;32m    ^\n",
      "\u001b[0m\u001b[1m/home/cfz/miniconda3/bin/../lib/gcc/x86_64-conda-linux-gnu/9.3.0/../../../../x86_64-conda-linux-gnu/include/c++/9.3.0/bits/valarray_after.h:413:5: \u001b[0m\u001b[0;1;30mnote: \u001b[0mcandidate template ignored: could not match '_Expr' against 'basic_ostream'\u001b[0m\n",
      "\u001b[1m/home/cfz/miniconda3/bin/../lib/gcc/x86_64-conda-linux-gnu/9.3.0/../../../../x86_64-conda-linux-gnu/include/c++/9.3.0/bits/valarray_after.h:357:5: \u001b[0m\u001b[0;1;30mnote: \u001b[0mexpanded from macro '_DEFINE_EXPR_BINARY_OPERATOR'\u001b[0m\n",
      "    operator _Op(const _Expr<_Dom, typename _Dom::value_type>& __v,     \\\n",
      "\u001b[0;1;32m    ^\n",
      "\u001b[0m\u001b[1m/home/cfz/miniconda3/bin/../lib/gcc/x86_64-conda-linux-gnu/9.3.0/../../../../x86_64-conda-linux-gnu/include/c++/9.3.0/bits/valarray_after.h:413:5: \u001b[0m\u001b[0;1;30mnote: \u001b[0mcandidate template ignored: could not match '_Expr<type-parameter-0-0, typename type-parameter-0-0::value_type>' against 'void'\u001b[0m\n",
      "\u001b[1m/home/cfz/miniconda3/bin/../lib/gcc/x86_64-conda-linux-gnu/9.3.0/../../../../x86_64-conda-linux-gnu/include/c++/9.3.0/bits/valarray_after.h:370:5: \u001b[0m\u001b[0;1;30mnote: \u001b[0mexpanded from macro '_DEFINE_EXPR_BINARY_OPERATOR'\u001b[0m\n",
      "    operator _Op(const typename _Dom::value_type& __t,                  \\\n",
      "\u001b[0;1;32m    ^\n",
      "\u001b[0m\u001b[1m/home/cfz/miniconda3/bin/../lib/gcc/x86_64-conda-linux-gnu/9.3.0/../../../../x86_64-conda-linux-gnu/include/c++/9.3.0/bits/valarray_after.h:413:5: \u001b[0m\u001b[0;1;30mnote: \u001b[0mcandidate template ignored: could not match '_Expr' against 'basic_ostream'\u001b[0m\n",
      "\u001b[1m/home/cfz/miniconda3/bin/../lib/gcc/x86_64-conda-linux-gnu/9.3.0/../../../../x86_64-conda-linux-gnu/include/c++/9.3.0/bits/valarray_after.h:383:5: \u001b[0m\u001b[0;1;30mnote: \u001b[0mexpanded from macro '_DEFINE_EXPR_BINARY_OPERATOR'\u001b[0m\n",
      "    operator _Op(const _Expr<_Dom,typename _Dom::value_type>& __e,      \\\n",
      "\u001b[0;1;32m    ^\n",
      "\u001b[0m\u001b[1m/home/cfz/miniconda3/bin/../lib/gcc/x86_64-conda-linux-gnu/9.3.0/../../../../x86_64-conda-linux-gnu/include/c++/9.3.0/bits/valarray_after.h:413:5: \u001b[0m\u001b[0;1;30mnote: \u001b[0mcandidate template ignored: could not match '_Expr<type-parameter-0-0, typename type-parameter-0-0::value_type>' against 'void'\u001b[0m\n",
      "\u001b[1m/home/cfz/miniconda3/bin/../lib/gcc/x86_64-conda-linux-gnu/9.3.0/../../../../x86_64-conda-linux-gnu/include/c++/9.3.0/bits/valarray_after.h:396:5: \u001b[0m\u001b[0;1;30mnote: \u001b[0mexpanded from macro '_DEFINE_EXPR_BINARY_OPERATOR'\u001b[0m\n",
      "    operator _Op(const valarray<typename _Dom::value_type>& __v,        \\\n",
      "\u001b[0;1;32m    ^\n",
      "\u001b[0m\u001b[1m/home/cfz/miniconda3/bin/../lib/gcc/x86_64-conda-linux-gnu/9.3.0/../../../../x86_64-conda-linux-gnu/include/c++/9.3.0/valarray:1193:1: \u001b[0m\u001b[0;1;30mnote: \u001b[0mcandidate template ignored: could not match 'valarray' against 'basic_ostream'\u001b[0m\n",
      "_DEFINE_BINARY_OPERATOR(<<, __shift_left)\n",
      "\u001b[0;1;32m^\n",
      "\u001b[0m\u001b[1m/home/cfz/miniconda3/bin/../lib/gcc/x86_64-conda-linux-gnu/9.3.0/../../../../x86_64-conda-linux-gnu/include/c++/9.3.0/valarray:1155:5: \u001b[0m\u001b[0;1;30mnote: \u001b[0mexpanded from macro '_DEFINE_BINARY_OPERATOR'\u001b[0m\n",
      "    operator _Op(const valarray<_Tp>& __v, const valarray<_Tp>& __w)    \\\n",
      "\u001b[0;1;32m    ^\n",
      "\u001b[0m\u001b[1m/home/cfz/miniconda3/bin/../lib/gcc/x86_64-conda-linux-gnu/9.3.0/../../../../x86_64-conda-linux-gnu/include/c++/9.3.0/valarray:1193:1: \u001b[0m\u001b[0;1;30mnote: \u001b[0mcandidate template ignored: could not match 'valarray' against 'basic_ostream'\u001b[0m\n",
      "\u001b[1m/home/cfz/miniconda3/bin/../lib/gcc/x86_64-conda-linux-gnu/9.3.0/../../../../x86_64-conda-linux-gnu/include/c++/9.3.0/valarray:1166:5: \u001b[0m\u001b[0;1;30mnote: \u001b[0mexpanded from macro '_DEFINE_BINARY_OPERATOR'\u001b[0m\n"
     ]
    },
    {
     "name": "stderr",
     "output_type": "stream",
     "text": [
      "    operator _Op(const valarray<_Tp>& __v,                              \\\n",
      "\u001b[0;1;32m    ^\n",
      "\u001b[0m\u001b[1m/home/cfz/miniconda3/bin/../lib/gcc/x86_64-conda-linux-gnu/9.3.0/../../../../x86_64-conda-linux-gnu/include/c++/9.3.0/valarray:1193:1: \u001b[0m\u001b[0;1;30mnote: \u001b[0mcandidate template ignored: could not match 'valarray<type-parameter-0-0>' against 'void'\u001b[0m\n",
      "\u001b[1m/home/cfz/miniconda3/bin/../lib/gcc/x86_64-conda-linux-gnu/9.3.0/../../../../x86_64-conda-linux-gnu/include/c++/9.3.0/valarray:1177:5: \u001b[0m\u001b[0;1;30mnote: \u001b[0mexpanded from macro '_DEFINE_BINARY_OPERATOR'\u001b[0m\n",
      "    operator _Op(const typename valarray<_Tp>::value_type& __t,         \\\n",
      "\u001b[0;1;32m    ^\n",
      "\u001b[0m\u001b[1m/home/cfz/miniconda3/bin/../lib/gcc/x86_64-conda-linux-gnu/9.3.0/../../../../x86_64-conda-linux-gnu/include/c++/9.3.0/complex:548:5: \u001b[0m\u001b[0;1;30mnote: \u001b[0mcandidate template ignored: could not match 'complex<type-parameter-0-0>' against 'void'\u001b[0m\n",
      "    operator<<(basic_ostream<_CharT, _Traits>& __os, const complex<_Tp>& __x)\n",
      "\u001b[0;1;32m    ^\n",
      "\u001b[0m"
     ]
    },
    {
     "ename": "Interpreter Error",
     "evalue": "",
     "output_type": "error",
     "traceback": [
      "Interpreter Error: "
     ]
    }
   ],
   "source": [
    "#include<iostream>\n",
    "// 反例\n",
    "void function3(std::string varname, void *p) {\n",
    "    std::cout << varname << \"的值: \" << *p << std::endl;\n",
    "}\n",
    "\n",
    "std::string a = \"c++\";\n",
    "function2(\"a\", &a);"
   ]
  },
  {
   "cell_type": "code",
   "execution_count": 20,
   "id": "ce78c81d",
   "metadata": {},
   "outputs": [
    {
     "name": "stdout",
     "output_type": "stream",
     "text": [
      "a的值: c++\n"
     ]
    }
   ],
   "source": [
    "#include<iostream>\n",
    "void function3(std::string varname, void *p) {\n",
    "    std::cout << varname << \"的值: \" << *(std::string *)p << std::endl;\n",
    "}\n",
    "\n",
    "std::string a = \"c++\";\n",
    "function3(\"a\", &a);"
   ]
  },
  {
   "cell_type": "markdown",
   "id": "fd986c6d",
   "metadata": {},
   "source": [
    "**<font color=\"red\">其他类型指针 赋值给 void * 指针 不需要转换</font>**  \n",
    "**<font color=\"red\">void * 指针 赋值给 其他类型指针 需要转换</font>**  "
   ]
  },
  {
   "cell_type": "code",
   "execution_count": null,
   "id": "54f82546",
   "metadata": {},
   "outputs": [],
   "source": []
  },
  {
   "cell_type": "code",
   "execution_count": null,
   "id": "8c6e8128",
   "metadata": {},
   "outputs": [],
   "source": []
  },
  {
   "cell_type": "code",
   "execution_count": null,
   "id": "746c26c6",
   "metadata": {},
   "outputs": [],
   "source": []
  }
 ],
 "metadata": {
  "kernelspec": {
   "display_name": "C++14",
   "language": "C++14",
   "name": "xcpp14"
  },
  "language_info": {
   "codemirror_mode": "text/x-c++src",
   "file_extension": ".cpp",
   "mimetype": "text/x-c++src",
   "name": "c++",
   "version": "14"
  },
  "toc": {
   "base_numbering": 1,
   "nav_menu": {},
   "number_sections": true,
   "sideBar": true,
   "skip_h1_title": false,
   "title_cell": "Table of Contents",
   "title_sidebar": "Contents",
   "toc_cell": false,
   "toc_position": {},
   "toc_section_display": true,
   "toc_window_display": true
  }
 },
 "nbformat": 4,
 "nbformat_minor": 5
}
