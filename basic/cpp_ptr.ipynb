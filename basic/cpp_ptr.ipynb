{
 "cells": [
  {
   "cell_type": "code",
   "execution_count": null,
   "id": "28f14e7d",
   "metadata": {},
   "outputs": [],
   "source": [
    "#include<iostream>"
   ]
  },
  {
   "cell_type": "markdown",
   "id": "0f565483",
   "metadata": {},
   "source": [
    "# & vs *\n",
    "'&' 获取变量在内存中的起始地址  \n",
    "'*' 解引用(解除引用)运算符, 获取地址在内存中存储的值"
   ]
  },
  {
   "cell_type": "code",
   "execution_count": null,
   "id": "73d82887",
   "metadata": {},
   "outputs": [],
   "source": [
    "char a = '*';\n",
    "std::cout << \"变量(a)的地址:\" << &a << std::endl;"
   ]
  },
  {
   "cell_type": "code",
   "execution_count": null,
   "id": "b0cf6e12",
   "metadata": {},
   "outputs": [],
   "source": [
    "std::cout << \"变量(a)的16进制地址:\" << (void*)&a << std::endl;\n",
    "std::cout << \"变量(a)的10进制地址:\" << (long long)&a << std::endl;"
   ]
  },
  {
   "cell_type": "markdown",
   "id": "6bd4b5e3",
   "metadata": {},
   "source": [
    "# 指针(变量)"
   ]
  },
  {
   "cell_type": "code",
   "execution_count": null,
   "id": "6d641a96",
   "metadata": {},
   "outputs": [],
   "source": [
    "std::string a = \"cpp\";\n",
    "std::string *a_ptr = &a; // 指针赋值, 具体而言, 声明一个指针(int *a_ptr), 并赋值为变量的地址(&a)\n",
    "std::cout << \"变量(a)的16进制地址:\" << (void*)&a << std::endl;\n",
    "std::cout << \"指针(a_ptr)的16进制地址:\" << (void*)a_ptr << std::endl;"
   ]
  },
  {
   "cell_type": "code",
   "execution_count": null,
   "id": "a06e6f79",
   "metadata": {},
   "outputs": [],
   "source": [
    "std::cout << \"字符串变量(a)占用内存的字节 = \" << sizeof(a) << std::endl;\n",
    "std::cout << \"指针(a_ptr)占用内存的字节 = \" << sizeof(a_ptr) << std::endl;"
   ]
  },
  {
   "cell_type": "code",
   "execution_count": null,
   "id": "5d5f8fb0",
   "metadata": {},
   "outputs": [],
   "source": [
    "std::cout << \"a = \" << a << std::endl;\n",
    "std::cout << \"*a_ptr = \" << *a_ptr << std::endl; // * 解引用"
   ]
  },
  {
   "cell_type": "code",
   "execution_count": null,
   "id": "3b940417",
   "metadata": {},
   "outputs": [],
   "source": [
    "*a_ptr = \"c++\"; // * 解引用 <=> a = \"cpp\";\n",
    "std::cout << \"a = \" << a << std::endl;\n",
    "std::cout << \"*a_ptr = \" << *a_ptr << std::endl; // * 解引用"
   ]
  },
  {
   "cell_type": "code",
   "execution_count": null,
   "id": "aba06f24",
   "metadata": {},
   "outputs": [],
   "source": [
    "a = \"cplusplus\";\n",
    "std::cout << \"a = \" << a << std::endl;\n",
    "std::cout << \"*a_ptr = \" << *a_ptr << std::endl; // * 解引用"
   ]
  },
  {
   "cell_type": "markdown",
   "id": "06d136ea",
   "metadata": {},
   "source": [
    "变量 vs 指针\n",
    "\n",
    "值|地址\n",
    ":-:|:-:\n",
    "a|&a\n",
    "*a_ptr|ptr\n",
    "\n",
    "声明一个变量, 系统在内部跟踪其内存单元;  \n",
    "声明一个指针, 其存储的值是地址, 不是值本身, 程序直接访问该内存单元"
   ]
  },
  {
   "cell_type": "markdown",
   "id": "393f5d96",
   "metadata": {},
   "source": [
    "# 指针用于函数的参数"
   ]
  },
  {
   "cell_type": "markdown",
   "id": "83994f38",
   "metadata": {},
   "source": [
    "如果把函数的形参是普通变量，形参的输入是变量的值，即实参的拷贝，在函数内部修改形参的值不会改变实参，这种方法称为**值传递**"
   ]
  },
  {
   "cell_type": "code",
   "execution_count": null,
   "id": "b48c5048",
   "metadata": {},
   "outputs": [],
   "source": [
    "#include<iostream>\n",
    "void function1(int a) {\n",
    "    a += 1;\n",
    "    std::cout << \"a(in function1) = \" << a << std::endl;\n",
    "}\n",
    "\n",
    "int a = 1;\n",
    "function1(a);\n",
    "std::cout << \"a(in main) = \" << a << std::endl;"
   ]
  },
  {
   "cell_type": "markdown",
   "id": "7b39da97",
   "metadata": {},
   "source": [
    "如果把函数的形参声明为指针，调用时传入实参的地址，形参的输入为实参的地址，在函数内部通过解引用的方法直接操作内存中的数据，可以修改实参的值，这种方法称为**地址传递**或**传地址**\n",
    "* 可以在函数中修改实参的值\n",
    "* 减少内存拷贝，提升性能"
   ]
  },
  {
   "cell_type": "code",
   "execution_count": null,
   "id": "0a0a6bb2",
   "metadata": {},
   "outputs": [],
   "source": [
    "#include<iostream>\n",
    "void function1(int *a) { // 声明一个指针\n",
    "    *a += 1;             // 解引用\n",
    "    std::cout << \"a(in function1) = \" << *a << std::endl; // 解引用\n",
    "}\n",
    "\n",
    "int a = 1;\n",
    "function1(&a); // 变量的地址\n",
    "std::cout << \"a(in main) = \" << a << std::endl;"
   ]
  },
  {
   "cell_type": "markdown",
   "id": "523ebb98",
   "metadata": {},
   "source": [
    "# const 修饰指针"
   ]
  },
  {
   "cell_type": "markdown",
   "id": "da72c7e8",
   "metadata": {},
   "source": [
    "## 常量指针\n",
    "**<font color=\"red\">不能通过解引用的方法修改内存地址中的值, 但可通过原始变量(指针指向的变量)进行修改</font>**"
   ]
  },
  {
   "cell_type": "code",
   "execution_count": null,
   "id": "2d0a966a",
   "metadata": {},
   "outputs": [],
   "source": [
    "#include<iostream>\n",
    "int a = 1;\n",
    "const int *a_ptr = &a; // 常量指针"
   ]
  },
  {
   "cell_type": "code",
   "execution_count": null,
   "id": "168ed1f3",
   "metadata": {},
   "outputs": [],
   "source": [
    "*a_ptr = 2;"
   ]
  },
  {
   "cell_type": "code",
   "execution_count": null,
   "id": "58d4ab0d",
   "metadata": {},
   "outputs": [],
   "source": [
    "a = 3;"
   ]
  },
  {
   "cell_type": "code",
   "execution_count": null,
   "id": "010e26db",
   "metadata": {},
   "outputs": [],
   "source": [
    "std::cout << \"a = \" << a << \", *a_ptr = \" << *a_ptr << std::endl;"
   ]
  },
  {
   "cell_type": "markdown",
   "id": "aabc0bd8",
   "metadata": {},
   "source": [
    "## 指针常量\n",
    "实际开发中几乎不用，用\"引用\""
   ]
  },
  {
   "cell_type": "code",
   "execution_count": null,
   "id": "42e44537",
   "metadata": {},
   "outputs": [],
   "source": [
    "#include<iostream>\n",
    "int a = 1, b = 2;\n",
    "int * const a_ptr = &a;\n",
    "*a_ptr = 2;\n",
    "std::cout << \"a = \" << a << \", *a_ptr = \" << *a_ptr << std::endl;"
   ]
  },
  {
   "cell_type": "code",
   "execution_count": null,
   "id": "415e4836",
   "metadata": {},
   "outputs": [],
   "source": [
    "指向的变量(对象)不可改变"
   ]
  },
  {
   "cell_type": "code",
   "execution_count": null,
   "id": "828b853e",
   "metadata": {},
   "outputs": [],
   "source": [
    "a_ptr = &b;"
   ]
  },
  {
   "cell_type": "markdown",
   "id": "69d7a49c",
   "metadata": {},
   "source": [
    "## 常指针常量\n",
    "指向的变量(对象)不可改变, 不能通过解引用的方法修改内存地址中的值"
   ]
  },
  {
   "cell_type": "code",
   "execution_count": null,
   "id": "f8f8c6fa",
   "metadata": {},
   "outputs": [],
   "source": [
    "int a = 1, b = 2;\n",
    "const int * const a_ptr = &a;\n",
    "*a_ptr = 2;"
   ]
  },
  {
   "cell_type": "markdown",
   "id": "ca51dd27",
   "metadata": {},
   "source": [
    "# void *\n",
    "函数的形参用void *, 表示接受任意数据类型的指针  "
   ]
  },
  {
   "cell_type": "code",
   "execution_count": null,
   "id": "a1ce7920",
   "metadata": {},
   "outputs": [],
   "source": [
    "#include<iostream>\n",
    "// 反例\n",
    "void function1(std::string varname, int *p) {\n",
    "    std::cout << varname << \"的地址是: \" << p << std::endl;\n",
    "}\n",
    "\n",
    "std::string a = \"c++\";\n",
    "function1(\"a\", &a);"
   ]
  },
  {
   "cell_type": "code",
   "execution_count": null,
   "id": "a0f8f333",
   "metadata": {},
   "outputs": [],
   "source": [
    "#include<iostream>\n",
    "void function2(std::string varname, void *p) {\n",
    "    std::cout << varname << \"的地址: \" << p << std::endl;\n",
    "}\n",
    "\n",
    "std::string a = \"c++\";\n",
    "function2(\"a\", &a);"
   ]
  },
  {
   "cell_type": "markdown",
   "id": "fa8925ac",
   "metadata": {},
   "source": [
    "**<font color=\"red\">void \\* 指针不能直接解引用, 需转换成其他类型的指针(因为解引用时，必须知道数据占用内存的大小)</font>**"
   ]
  },
  {
   "cell_type": "code",
   "execution_count": null,
   "id": "4a8c6928",
   "metadata": {},
   "outputs": [],
   "source": [
    "#include<iostream>\n",
    "// 反例\n",
    "void function3(std::string varname, void *p) {\n",
    "    std::cout << varname << \"的值: \" << *p << std::endl;\n",
    "}\n",
    "\n",
    "std::string a = \"c++\";\n",
    "function2(\"a\", &a);"
   ]
  },
  {
   "cell_type": "code",
   "execution_count": null,
   "id": "ce78c81d",
   "metadata": {},
   "outputs": [],
   "source": [
    "#include<iostream>\n",
    "void function3(std::string varname, void *p) {\n",
    "    std::cout << varname << \"的值: \" << *(std::string *)p << std::endl;\n",
    "}\n",
    "\n",
    "std::string a = \"c++\";\n",
    "function3(\"a\", &a);"
   ]
  },
  {
   "cell_type": "markdown",
   "id": "fd986c6d",
   "metadata": {},
   "source": [
    "**<font color=\"red\">其他类型指针 赋值给 void * 指针 不需要转换</font>**  \n",
    "**<font color=\"red\">void * 指针 赋值给 其他类型指针 需要转换</font>**  "
   ]
  },
  {
   "cell_type": "code",
   "execution_count": null,
   "id": "54f82546",
   "metadata": {},
   "outputs": [],
   "source": []
  },
  {
   "cell_type": "code",
   "execution_count": null,
   "id": "8c6e8128",
   "metadata": {},
   "outputs": [],
   "source": []
  },
  {
   "cell_type": "code",
   "execution_count": null,
   "id": "746c26c6",
   "metadata": {},
   "outputs": [],
   "source": []
  }
 ],
 "metadata": {
  "kernelspec": {
   "display_name": "C++14",
   "language": "C++14",
   "name": "xcpp14"
  },
  "language_info": {
   "codemirror_mode": "text/x-c++src",
   "file_extension": ".cpp",
   "mimetype": "text/x-c++src",
   "name": "c++",
   "version": "14"
  },
  "toc": {
   "base_numbering": 1,
   "nav_menu": {},
   "number_sections": true,
   "sideBar": true,
   "skip_h1_title": false,
   "title_cell": "Table of Contents",
   "title_sidebar": "Contents",
   "toc_cell": false,
   "toc_position": {},
   "toc_section_display": true,
   "toc_window_display": true
  }
 },
 "nbformat": 4,
 "nbformat_minor": 5
}
