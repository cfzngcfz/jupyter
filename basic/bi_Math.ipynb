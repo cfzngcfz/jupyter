{
 "cells": [
  {
   "cell_type": "markdown",
   "id": "da2ec3c5",
   "metadata": {},
   "source": [
    "# 随机\n",
    "https://docs.python.org/zh-cn/3.9/library/random.html"
   ]
  },
  {
   "cell_type": "markdown",
   "id": "2c1d3d78",
   "metadata": {},
   "source": [
    "## 随机整数"
   ]
  },
  {
   "cell_type": "code",
   "execution_count": null,
   "id": "546967c5",
   "metadata": {},
   "outputs": [],
   "source": [
    "# python 3.9\n",
    "import random\n",
    "a = 2; b = 6; step = 3\n",
    "print(\"[a,b]内随机整数\", random.randint(a, b) )\n",
    "print(\"[a,b)内随机整数\", random.randrange(a,b) )\n",
    "print(\"[0,b)内随机整数\", random.randrange(b) )\n",
    "print(\"[a,b)内步长为step的range内随机整数\", random.randrange(a,b,step) )"
   ]
  },
  {
   "cell_type": "code",
   "execution_count": null,
   "id": "7c79a452",
   "metadata": {
    "scrolled": true
   },
   "outputs": [],
   "source": [
    "//c++17\n",
    "#include<iostream>\n",
    "using namespace std;\n",
    "cout << \"a pseudo-random integral value between ​0​ and RAND_MAX (0 and RAND_MAX included).: \"\n",
    "    << rand() << \", RAND_MAX = \" << RAND_MAX << endl;\n",
    "int a = 2;\n",
    "int b = 5;\n",
    "cout << \"[a,b]内随机整数\" << a + rand()%(b-a+1)   << endl;\n",
    "cout << \"[a,b)内随机整数\" << a + rand()%(b-a)     << endl;\n",
    "cout << \"(a,b]内随机整数\" << a+1 + rand()%(b-a)   << endl;\n",
    "cout << \"(a,b)内随机整数\" << a+1 + rand()%(b-a-1) << endl;"
   ]
  },
  {
   "cell_type": "markdown",
   "id": "933e2342",
   "metadata": {},
   "source": [
    "## 随机浮点数"
   ]
  },
  {
   "cell_type": "code",
   "execution_count": null,
   "id": "df7e3320",
   "metadata": {},
   "outputs": [],
   "source": [
    "# python 3.9\n",
    "import random\n",
    "print( \"[0,1]的随机浮点数:\", random.random() )\n",
    "print( \"[a,b]的均匀分布:\", random.uniform(2.,5.) )"
   ]
  },
  {
   "cell_type": "code",
   "execution_count": null,
   "id": "48d75c86",
   "metadata": {},
   "outputs": [],
   "source": [
    "//c++17\n",
    "#include<iostream>\n",
    "using namespace std;\n",
    "cout << \"[0,1]的随机浮点数: \" << rand()*1.0/RAND_MAX << endl;"
   ]
  },
  {
   "cell_type": "code",
   "execution_count": null,
   "id": "022d378f",
   "metadata": {},
   "outputs": [],
   "source": [
    "print( \"正态/高斯分布:\", random.gauss(mu=0,sigma=1) )\n",
    "print( \"正态/高斯分布:\", random.normalvariate(mu=0,sigma=1) )\n",
    "print( \"对数正态分布:\", random.lognormvariate(mu=0,sigma=1) )\n",
    "\n",
    "print( \"指数分布:\", random.expovariate(lambd=2) ) # lambd != 0. 如果 lambd 为正，则返回值的范围为 0 到正无穷大；如果 lambd 为负，则返回值从负无穷大到 0。\n",
    "print( \" 三角分布:\", random.triangular(low=2, high=5, mode=3) ) #返回一个随机浮点数 N ，使得 low <= N <= high 并在这些边界之间使用指定的 mode 。 low 和 high 边界默认为0和1。 mode 参数默认为边界之间的中点，给出对称分布\n",
    "print( \"Beta分布:\", random.betavariate(alpha=1, beta=2) ) # alpha > 0, beta > 0\n",
    "print( \"Gamma分布:\", random.gammavariate(alpha=1, beta=2) ) # alpha > 0, beta > 0\n",
    "#           x ** (alpha - 1) * math.exp(-x / beta)\n",
    "# pdf(x) =  --------------------------------------\n",
    "#             math.gamma(alpha) * beta ** alpha\n",
    "\n",
    "print( \"冯·米塞斯分布:\", random.vonmisesvariate(mu=0.5, kappa=1) ) # mu in [0,2*pi], kappa >=0\n",
    "print( \"帕累托分布:\", random.paretovariate(alpha = 1) ) # alpha是形状参数\n",
    "print( \"威布尔分布:\", random.weibullvariate(alpha=1, beta=1) ) # alpha是比例参数，beta是形状参数"
   ]
  },
  {
   "cell_type": "markdown",
   "id": "d84f09cb",
   "metadata": {},
   "source": [
    "## 数组随机"
   ]
  },
  {
   "cell_type": "code",
   "execution_count": null,
   "id": "3fd7fe53",
   "metadata": {},
   "outputs": [],
   "source": [
    "# python 3.9\n",
    "import random\n",
    "list_color = [\"Red\", \"Pink\", \"Orange\", \"Yellow\", \"Blue\", \"Green\"]\n",
    "\n",
    "print( \"随机抽样1个:\", random.choice(list_color) )\n",
    "\n",
    "print( \"(等概率)可重复随机抽样k个:\", random.choices(list_color, k=10) )\n",
    "print( \"按权重可重复随机抽样k个:\", random.choices(list_color, weights=[1,2,3,4,5,6], k=10) )\n",
    "print( \"按累计权重可重复随机抽样k个:\", random.choices(list_color, cum_weights=[1,3,6,10,15,21], k=10) ) # 与上行命令等价\n",
    "\n",
    "print( \"无重复随机抽样k个:\", random.sample(list_color, k=3) )\n",
    "print( random.sample(['red', 'blue'], counts=[4, 2], k=5) )\n",
    "print( random.sample(['red', 'red', 'red', 'red', 'blue', 'blue'], k=5) ) # 与上行命令等价\n",
    "\n",
    "# 随机打乱原数组顺序\n",
    "print(\"before shuffle:\", list_color)\n",
    "random.shuffle(list_color)\n",
    "print(\"after shuffle:\", list_color)"
   ]
  },
  {
   "cell_type": "markdown",
   "id": "50a557a1",
   "metadata": {},
   "source": [
    "random.choices 和 random.sample 不改变原数组，生成新数组  \n",
    "random.shuffle 随机打乱原数组"
   ]
  },
  {
   "cell_type": "markdown",
   "id": "c8a300d1",
   "metadata": {},
   "source": [
    "# Inf\n",
    "refer to: https://en.cppreference.com/w/cpp/types/numeric_limits/infinity"
   ]
  },
  {
   "cell_type": "markdown",
   "id": "e467a4f2",
   "metadata": {},
   "source": [
    "## c++\n",
    "### int"
   ]
  },
  {
   "cell_type": "code",
   "execution_count": null,
   "id": "3e4f1047",
   "metadata": {
    "scrolled": true
   },
   "outputs": [],
   "source": [
    "#include <iostream>\n",
    "#include <limits>\n",
    "std::cout << \"infinity() = \" << std::numeric_limits<int>::infinity() << std::endl;\n",
    "std::cout << \"max() = \" << std::numeric_limits<int>::max() << std::endl;\n",
    "std::cout << \"min() = \" << std::numeric_limits<int>::min() << std::endl;"
   ]
  },
  {
   "cell_type": "code",
   "execution_count": null,
   "id": "5350afd6",
   "metadata": {},
   "outputs": [],
   "source": [
    "#include<iostream>\n",
    "#include<limits.h>\n",
    "std::cout << \"Inf = \" << INT_MAX << std::endl;\n",
    "std::cout << \"-Inf = \" << INT_MIN << std::endl;"
   ]
  },
  {
   "cell_type": "code",
   "execution_count": null,
   "id": "7512e989",
   "metadata": {},
   "outputs": [],
   "source": [
    "std::cout << INT_MAX+1 << std::endl;\n",
    "std::cout << INT_MIN-1 << std::endl;"
   ]
  },
  {
   "cell_type": "markdown",
   "id": "b5eff036",
   "metadata": {},
   "source": [
    "### double"
   ]
  },
  {
   "cell_type": "markdown",
   "id": "1a4023d9",
   "metadata": {},
   "source": [
    "#### 最大/最小"
   ]
  },
  {
   "cell_type": "code",
   "execution_count": null,
   "id": "147334d2",
   "metadata": {},
   "outputs": [],
   "source": [
    "#include <iostream>\n",
    "#include <limits>\n",
    "std::cout << \"infinity() = \" << std::numeric_limits<double>::infinity() << std::endl;\n",
    "std::cout << \"max() = \" << std::numeric_limits<double>::max() << std::endl;\n",
    "std::cout << \"min() = \" << std::numeric_limits<double>::min() << std::endl;"
   ]
  },
  {
   "cell_type": "code",
   "execution_count": null,
   "id": "af6892a0",
   "metadata": {},
   "outputs": [],
   "source": [
    "std::cout << \"infinity() = \" << std::numeric_limits<double>::infinity()+100.0 << std::endl;"
   ]
  },
  {
   "cell_type": "code",
   "execution_count": null,
   "id": "89d97c54",
   "metadata": {},
   "outputs": [],
   "source": [
    "#include <iostream>\n",
    "#include <limits>\n",
    "double max = std::numeric_limits<double>::max();\n",
    "double inf = std::numeric_limits<double>::infinity();\n",
    "if (inf > max) {\n",
    "    std::cout << inf << \" is greater than \" << max << '\\n';\n",
    "}"
   ]
  },
  {
   "cell_type": "code",
   "execution_count": null,
   "id": "53d67c53",
   "metadata": {},
   "outputs": [],
   "source": [
    "#include<iostream>\n",
    "#include<float.h>\n",
    "double inf = DBL_MAX;\n",
    "std::cout << \"Inf = \" << inf << std::endl;\n",
    "std::cout << \"-Inf = \" << -inf << std::endl;"
   ]
  },
  {
   "cell_type": "code",
   "execution_count": null,
   "id": "934a5946",
   "metadata": {},
   "outputs": [],
   "source": [
    "std::cout << inf+100.0 << std::endl;\n",
    "std::cout << -inf-100.0 << std::endl;"
   ]
  },
  {
   "cell_type": "markdown",
   "id": "665a92ae",
   "metadata": {},
   "source": [
    "#### 取整"
   ]
  },
  {
   "cell_type": "code",
   "execution_count": null,
   "id": "f5d83963",
   "metadata": {},
   "outputs": [],
   "source": [
    "double num = 3.1415926;\n",
    "std::cout << floor(num) << std::endl;\n",
    "std::cout << ceil(num) << std::endl;\n",
    "std::cout << round(num) << std::endl;\n",
    "std::cout << round(num * 100) / 100 << std::endl;"
   ]
  },
  {
   "cell_type": "markdown",
   "id": "5bd51180",
   "metadata": {},
   "source": [
    "### float"
   ]
  },
  {
   "cell_type": "code",
   "execution_count": null,
   "id": "210da007",
   "metadata": {},
   "outputs": [],
   "source": [
    "#include <iostream>\n",
    "#include <limits>\n",
    "std::cout << \"infinity() = \" << std::numeric_limits<float>::infinity() << std::endl;\n",
    "std::cout << \"max() = \" << std::numeric_limits<float>::max() << std::endl;\n",
    "std::cout << \"min() = \" << std::numeric_limits<float>::min() << std::endl;"
   ]
  },
  {
   "cell_type": "markdown",
   "id": "cefb0dc9",
   "metadata": {},
   "source": [
    "### long double"
   ]
  },
  {
   "cell_type": "code",
   "execution_count": null,
   "id": "3c6566b3",
   "metadata": {},
   "outputs": [],
   "source": [
    "#include <iostream>\n",
    "#include <limits>\n",
    "std::cout << \"infinity() = \" << std::numeric_limits<long double>::infinity() << std::endl;\n",
    "std::cout << \"max() = \" << std::numeric_limits<long double>::max() << std::endl;\n",
    "std::cout << \"min() = \" << std::numeric_limits<long double>::min() << std::endl;"
   ]
  },
  {
   "cell_type": "markdown",
   "id": "7cdf7ed9",
   "metadata": {},
   "source": [
    "## python"
   ]
  },
  {
   "cell_type": "code",
   "execution_count": null,
   "id": "1a946113",
   "metadata": {},
   "outputs": [],
   "source": [
    "print(float(\"inf\"))"
   ]
  },
  {
   "cell_type": "markdown",
   "id": "7bd2069b",
   "metadata": {},
   "source": [
    "# 三角函数"
   ]
  },
  {
   "cell_type": "markdown",
   "id": "37b8dfca",
   "metadata": {},
   "source": [
    "## python"
   ]
  },
  {
   "cell_type": "code",
   "execution_count": null,
   "id": "7f57ec36",
   "metadata": {},
   "outputs": [],
   "source": [
    "import math\n",
    "print(\"pi =\", math.pi)\n",
    "alpha = 45\n",
    "beta = math.radians(alpha)\n",
    "print(\"角度\", alpha, \"-> 弧度\", math.radians(alpha))\n",
    "print(\"弧度\", beta, \"-> 角度\", math.degrees(beta))\n",
    "print(\"sin(\",alpha,\") =\",math.sin(beta))\n",
    "print(\"cos(\",alpha,\") =\",math.cos(beta))\n",
    "print(\"tan(\",alpha,\") =\",math.tan(beta))\n",
    "\n",
    "\n",
    "print(\"arcsin(2**0.5/2) =\", math.asin(2**0.5/2), \"\\t\", math.degrees(math.asin(2**0.5/2)))\n",
    "print(\"arccos(2**0.5/2) =\", math.acos(2**0.5/2), \"\\t\", math.degrees(math.asin(2**0.5/2)))\n",
    "print(\"arctan(1) =\", math.atan(1), \"\\t\\t\", math.degrees(math.asin(2**0.5/2)))"
   ]
  },
  {
   "cell_type": "code",
   "execution_count": null,
   "id": "9c607c39",
   "metadata": {},
   "outputs": [],
   "source": [
    "#include<iostream>\n",
    "#include <cmath>\n",
    "\n",
    "std::cout << sin(0.7853981633974483) << std::endl;"
   ]
  },
  {
   "cell_type": "markdown",
   "id": "d4e6d6f6",
   "metadata": {},
   "source": [
    "# 指数运算"
   ]
  },
  {
   "cell_type": "code",
   "execution_count": null,
   "id": "c967da9c",
   "metadata": {
    "scrolled": true
   },
   "outputs": [],
   "source": [
    "# python 3.9\n",
    "10**2"
   ]
  },
  {
   "cell_type": "code",
   "execution_count": null,
   "id": "0dfde59c",
   "metadata": {},
   "outputs": [],
   "source": [
    "//c++17\n",
    "#include<iostream>\n",
    "#include <cmath>\n",
    "using namespace std;\n",
    "\n",
    "cout << pow(10, 2) << \", 其数据类型为:\" << typeid(pow(10, 2)).name() << endl;  \n",
    "cout << int(pow(10, 2)) << \", 其数据类型为:\" << typeid( int(pow(10, 2)) ).name() << endl;"
   ]
  },
  {
   "cell_type": "markdown",
   "id": "e45cd0e9",
   "metadata": {},
   "source": [
    "# 阶乘"
   ]
  },
  {
   "cell_type": "code",
   "execution_count": null,
   "id": "0ed4a019",
   "metadata": {},
   "outputs": [],
   "source": [
    "import math\n",
    "print(math.factorial(5))"
   ]
  },
  {
   "cell_type": "code",
   "execution_count": null,
   "id": "43b173b8",
   "metadata": {},
   "outputs": [],
   "source": [
    "def factorial(num):\n",
    "    assert(type(num) == int and num >= 0)\n",
    "    if num == 0:\n",
    "        return 1\n",
    "    else:\n",
    "        return num * factorial(num-1)\n",
    "print(factorial(5))"
   ]
  },
  {
   "cell_type": "markdown",
   "id": "93ce1bbc",
   "metadata": {},
   "source": [
    "# 排列/Permutation & 组合/Combination\n",
    "\n",
    "选排列(无重复排列): $A_n^r = \\frac{n!}{(n-r)!}$  \n",
    "\n",
    "组合 $C_n^r = \\frac{n!}{r!(n-r)!}\\implies\n",
    "\\begin{cases}\n",
    "C_n^l\\cdot C_l^r = C_n^r\\cdot C_{n-r}^{l-r}\\\\\n",
    "r \\cdot C_n^r = n \\cdot C_{n-1}^{r-1} \\implies \\sum_{r=1}^{n} C_n^r\\cdot r = n \\cdot 2^{n-1}\n",
    "\\end{cases}$  \n",
    "\n",
    "$C_n^r = 0, when\\quad r>n$  \n",
    "$C_{-a}^k = (-1)^k C_{a+k-1}^{k}$ \n",
    "\n",
    "对称 $C_{n+m}^n = C_{n+m}^m$\n",
    "\n",
    "递推 $C_{n+1}^{r+1} = C_{n}^{r} + C_{n}^{r+1} \\implies\n",
    "\\begin{cases}\n",
    "C_{n+1}^{r+1} &=& C_{n}^{r} + C_{n-1}^{r} + \\cdots + C_{r+1}^{r} + C_{r}^{r}\\\\  \n",
    "C_{n+r+1}^{r} &=& C_{n+r}^r + C_{n+r-1}^{r-1} + \\cdots + C_{n+1}^1 + C_n^0\n",
    "\\end{cases}$\n",
    "\n",
    "[^_^]:\n",
    "$C_{n+1}^{r+1} = C_{n}^{r} + C_{n}^{r+1} \\implies \\left\\{\n",
    "\\begin{aligned}\n",
    "C_{n+1}^{r+1} &=& C_{n}^{r} + C_{n-1}^{r} + \\cdots + C_{r+1}^{r} + C_{r}^{r}\\\\  \n",
    "C_{n+r+1}^{r} &=& C_{n+r}^r + C_{n+r-1}^{r-1} + \\cdots + C_{n+1}^1 + C_n^0\n",
    "\\end{aligned}\n",
    "\\right.$\n",
    "\n",
    "\n",
    "二项式定理 $(a+b)^n = \\sum_{r=0}^n C_n^r a^r b^{n-r}\\implies\n",
    "\\begin{cases}\n",
    "2^n &=& C_n^0 + C_n^1 + C_n^2 + \\cdots + C_n^n\\\\\n",
    "C_{2n}^{n} &=& (C_n^0)^2 + (C_n^1)^2 + (C_n^2)^2 + \\cdots + (C_n^n)^2\\\\\n",
    "C_{a+b}^{n} &=& C_a^{0}\\cdot C_b^n + C_a^1 \\cdot C_b^{n-1} + \\cdots + C_a^n \\cdot C_b^0\n",
    "\\end{cases}$\n",
    "\n",
    "\n",
    "\n",
    "$C_n^0 - C_n^1 + C_n^2 + \\cdots (-1)^n C_n^n= 0 \\implies C_n^0 + C_n^2 + \\cdots = C_n^1 + C_n^3 + \\cdots = 2^{n-1}$  \n",
    "\n",
    "\n",
    "https://blog.csdn.net/litble/article/details/75913032"
   ]
  },
  {
   "cell_type": "markdown",
   "id": "6fa0ceaf",
   "metadata": {},
   "source": [
    "## 排列"
   ]
  },
  {
   "cell_type": "code",
   "execution_count": null,
   "id": "133531e9",
   "metadata": {},
   "outputs": [],
   "source": [
    "from itertools import permutations\n",
    "s = [1,2,3,4]\n",
    "perms = list(permutations(s, 2))\n",
    "for perm in perms:\n",
    "    print(perm)"
   ]
  },
  {
   "cell_type": "markdown",
   "id": "ff85777c",
   "metadata": {},
   "source": [
    "## 下一个全排列"
   ]
  },
  {
   "cell_type": "code",
   "execution_count": null,
   "id": "56644b5c",
   "metadata": {},
   "outputs": [],
   "source": [
    "def next_permutation(nums):\n",
    "    label = False\n",
    "    for ii in range(len(nums)-2,-1,-1):          # 1)从后向前查找第一个i，使得nums[i] < nums[i+1]\n",
    "        if nums[ii] < nums[ii+1]:\n",
    "            label = True\n",
    "            break\n",
    "    if label == True:\n",
    "        for jj in range(len(nums)-1,-1,-1):      # 2)在区间[i+1,n)中从后向前查找第一个j，使得nums[i] < nums[j]\n",
    "            if nums[jj] > nums[ii]:\n",
    "                break\n",
    "        nums[ii], nums[jj] = nums[jj], nums[ii]  # 3)nums[i]与nums[j]互换位置\n",
    "        nums[ii+1:] = sorted(nums[ii+1:])        # 4)区间[i+1,n)升序排列\n",
    "    else:\n",
    "        nums.sort()\n",
    "    return nums\n",
    "\n",
    "print(next_permutation([3,2,1]))"
   ]
  },
  {
   "cell_type": "markdown",
   "id": "67c3ad2f",
   "metadata": {},
   "source": [
    "## 全排列hash\n",
    "逆序数: https://blog.csdn.net/ivapple/article/details/7551990?utm_source=blogxgwz7"
   ]
  },
  {
   "cell_type": "code",
   "execution_count": null,
   "id": "6eff839b",
   "metadata": {},
   "outputs": [],
   "source": [
    "import math\n",
    "def index_to_perm(index, num_or_seq):\n",
    "    if type(num_or_seq) == int:\n",
    "        assert(index >= 0 and index < math.factorial(num_or_seq))\n",
    "        list_input = [ii for ii in range(num_or_seq)]\n",
    "        num = num_or_seq\n",
    "    elif type(num_or_seq) == list or type(num_or_seq) == set:\n",
    "        num = len(num_or_seq)\n",
    "        assert(index >= 0 and index < math.factorial(num))\n",
    "        list_input = sorted(num_or_seq)\n",
    "\n",
    "    list_output = []\n",
    "    for _ in range(num):\n",
    "        temp = math.factorial(num-1)\n",
    "        list_output.append(list_input.pop(index//temp))\n",
    "        index -= index//temp*temp\n",
    "        num -= 1\n",
    "    return list_output\n",
    "\n",
    "for ii in range(math.factorial(3)):\n",
    "    print(ii, index_to_perm(ii,3), index_to_perm(ii,[jj for jj in range(3)]), index_to_perm(ii,[\"ad\",\"zf\",\"gw\"]) )"
   ]
  },
  {
   "cell_type": "code",
   "execution_count": null,
   "id": "0a87dc74",
   "metadata": {},
   "outputs": [],
   "source": [
    "# 验证\n",
    "seq = [ii for ii in range(4)]\n",
    "#seq = [1,3,2,1]\n",
    "#seq = set(['a','w','e','z'])\n",
    "\n",
    "dict1 = {}\n",
    "index = 0\n",
    "perms = list(permutations(sorted(seq), len(seq)))\n",
    "for perm in perms:\n",
    "    dict1[index] = list(perm)\n",
    "    index += 1\n",
    "\n",
    "for ii in range(math.factorial(len(seq))):\n",
    "    if index_to_perm(ii, seq)==dict1[ii]:\n",
    "        pass\n",
    "    else:\n",
    "        print(ii, index_to_perm(ii, seq), dict1[ii], index_to_perm(ii, seq)==dict1[ii])\n",
    "    #print(ii, index_to_perm(ii, seq), dict1[ii], index_to_perm(ii, seq)==dict1[ii])"
   ]
  },
  {
   "cell_type": "markdown",
   "id": "4de85882",
   "metadata": {},
   "source": [
    "## 组合"
   ]
  },
  {
   "cell_type": "code",
   "execution_count": null,
   "id": "131ff930",
   "metadata": {},
   "outputs": [],
   "source": [
    "from itertools import combinations\n",
    "s = [1,2,3,4]\n",
    "combs = list(combinations(s, 2))\n",
    "for comb in combs:\n",
    "    print(comb)"
   ]
  },
  {
   "cell_type": "code",
   "execution_count": null,
   "id": "646c2ac6",
   "metadata": {},
   "outputs": [],
   "source": [
    "nums = [ii+1 for ii in range(4)]\n",
    "k = 2\n",
    "record = []\n",
    "def backtrack(nums, comb):\n",
    "    if len(comb) == k:\n",
    "        record.append(comb)\n",
    "    else:\n",
    "        for ii in range(len(nums)):\n",
    "            backtrack(nums[ii+1:], comb+[nums[ii]])\n",
    "backtrack(nums, [])\n",
    "print(record)"
   ]
  },
  {
   "attachments": {
    "image.png": {
     "image/png": "[encoded data removed]"
    }
   },
   "cell_type": "markdown",
   "id": "93692751",
   "metadata": {},
   "source": [
    "# 正态分布\n",
    "\n",
    "![image.png](attachment:image.png)"
   ]
  },
  {
   "cell_type": "code",
   "execution_count": null,
   "id": "71da2e27",
   "metadata": {},
   "outputs": [],
   "source": [
    "import matplotlib.pyplot as plt\n",
    "import numpy\n",
    "import random\n",
    "\n",
    "mu_ = 0 # 均值\n",
    "sigma_ = 1 # 标准差\n",
    "n = 10000 # 样本数\n",
    "\n",
    "\n",
    "list_gauss = [random.gauss(mu=mu_,sigma=sigma_) for _ in range(n)]\n",
    "list_normal = [random.normalvariate(mu=mu_,sigma=sigma_) for _ in range(n)]\n",
    "\n",
    "x = numpy.linspace(-10, 10, 100)\n",
    "\n",
    "\n",
    "fig = plt.figure()\n",
    "ax0 = fig.add_subplot(121) \n",
    "ax0.hist(list_gauss, bins=100, density=True, facecolor=\"pink\", edgecolor=\"green\")#指定刻度的范围，以及步长\n",
    "\n",
    "x = numpy.linspace(-4, 4, 100)\n",
    "ax0.plot(x, 1 / numpy.sqrt(2*numpy.pi)/sigma_ * numpy.exp(-(x-mu_)**2/2/sigma_**2), linewidth=4)\n",
    "\n",
    "\n",
    "ax1 = fig.add_subplot(122) \n",
    "ax1.hist(list_normal, bins=100, density=True, facecolor=\"blue\", edgecolor=\"yellow\")#指定刻度的范围，以及步长\n",
    "ax1.plot(x, 1 / numpy.sqrt(2*numpy.pi)/sigma_ * numpy.exp(-(x-mu_)**2/2/sigma_**2), linewidth=4)"
   ]
  },
  {
   "cell_type": "markdown",
   "id": "88ac3655",
   "metadata": {},
   "source": [
    "# point-in-polygon (PIP) problem 判断一个点是否在闭区间内  \n",
    "https://en.wikipedia.org/wiki/Point_in_polygon  \n",
    "https://github.com/sasamil/PointInPolygon_Py"
   ]
  },
  {
   "cell_type": "markdown",
   "id": "fc272c65",
   "metadata": {},
   "source": [
    "# 一元三次方程求解"
   ]
  },
  {
   "cell_type": "code",
   "execution_count": null,
   "id": "6baff1b1",
   "metadata": {},
   "outputs": [],
   "source": [
    "import sympy as sp    # 导入sympy包\n",
    "x = sp.Symbol('x')    # 定义符号变量\n",
    "f = x**3 - 18*x**2 + 124*x - 288   # 定义要求解的一元三次方程\n",
    "x = sp.solve(f)       # 调用solve函数求解方程\n",
    "print(x)                     # solve函数的返回结果是一个列表"
   ]
  },
  {
   "cell_type": "markdown",
   "id": "ffd5431d",
   "metadata": {},
   "source": [
    "# 质因数分解"
   ]
  },
  {
   "cell_type": "markdown",
   "id": "d8e709ce",
   "metadata": {},
   "source": [
    "#### 650. 只有两个键的键盘  \n",
    "最初记事本上只有一个字符 'A' 。你每次可以对这个记事本进行两种操作：  \n",
    "Copy All（复制全部）：复制这个记事本中的所有字符（不允许仅复制部分字符）。  \n",
    "Paste（粘贴）：粘贴 上一次 复制的字符。  \n",
    "给你一个数字 n ，你需要使用最少的操作次数，在记事本上输出 恰好 n 个 'A' 。返回能够打印出 n 个 'A' 的最少操作次数。  \n",
    "https://leetcode-cn.com/problems/2-keys-keyboard"
   ]
  },
  {
   "cell_type": "code",
   "execution_count": null,
   "id": "78aa8356",
   "metadata": {},
   "outputs": [],
   "source": [
    "n = 30\n",
    "\n",
    "count = 0\n",
    "factor = 2\n",
    "while n > 1 and factor <= n:\n",
    "    while n%factor != 0:\n",
    "        factor += 1\n",
    "    print(\"factor = \", factor)\n",
    "    count += factor\n",
    "    n = n // factor\n",
    "        \n",
    "print(count)"
   ]
  },
  {
   "cell_type": "markdown",
   "id": "87fafed1",
   "metadata": {},
   "source": [
    "# 丑数"
   ]
  },
  {
   "cell_type": "markdown",
   "id": "4b38a07c",
   "metadata": {},
   "source": [
    "#### 263. 丑数  \n",
    "给你一个整数 n ，请你判断 n 是否为 丑数 。如果是，返回 true ；否则，返回 false 。  \n",
    "丑数 就是只包含质因数 2、3 和/或 5 的正整数。  \n",
    "https://leetcode-cn.com/problems/ugly-number"
   ]
  },
  {
   "cell_type": "code",
   "execution_count": null,
   "id": "18742fb0",
   "metadata": {},
   "outputs": [],
   "source": [
    "# python 3.9\n",
    "n = 8\n",
    "\n",
    "if n > 0:\n",
    "    while n % 5 == 0:\n",
    "        n = n // 5\n",
    "    while n % 3 == 0:\n",
    "        n = n // 3\n",
    "    while n % 2 == 0:\n",
    "        n = n // 2\n",
    "    print(n == 1)\n",
    "else:\n",
    "    print(False)"
   ]
  },
  {
   "cell_type": "markdown",
   "id": "9823831d",
   "metadata": {},
   "source": [
    "#### 264. 丑数 II  \n",
    "给你一个整数 n ，请你找出并返回第 n 个 丑数 。  \n",
    "丑数 就是只包含质因数 2、3 和/或 5 的正整数。  \n",
    "https://leetcode-cn.com/problems/ugly-number-ii/"
   ]
  },
  {
   "cell_type": "code",
   "execution_count": null,
   "id": "3b1374f3",
   "metadata": {},
   "outputs": [],
   "source": [
    "# python 3.9\n",
    "n = 12\n",
    "\n",
    "import heapq\n",
    "record = []\n",
    "set_ugly_number = set([1])\n",
    "Heap_ugly_number = [1]\n",
    "\n",
    "while len(record) < n:\n",
    "    cur = heapq.heappop(Heap_ugly_number)\n",
    "    record.append(cur)\n",
    "    for num in [2,3,5]:\n",
    "        if cur*num not in set_ugly_number:\n",
    "            set_ugly_number.add(cur*num)\n",
    "            heapq.heappush(Heap_ugly_number, cur*num)\n",
    "    \n",
    "print(record[-1])\n"
   ]
  },
  {
   "cell_type": "markdown",
   "id": "2ded4f7f",
   "metadata": {},
   "source": [
    "#### 313. 超级丑数  \n",
    "https://leetcode-cn.com/problems/super-ugly-number/"
   ]
  },
  {
   "cell_type": "code",
   "execution_count": null,
   "id": "933c10d4",
   "metadata": {},
   "outputs": [],
   "source": [
    "# python 3.9\n",
    "n = 12\n",
    "primes = [2,7,13,19]\n",
    "\n",
    "import heapq\n",
    "record = []\n",
    "set_ugly_number = set([1])\n",
    "Heap_ugly_number = [1]\n",
    "\n",
    "while len(record) < n:\n",
    "    cur = heapq.heappop(Heap_ugly_number)\n",
    "    record.append(cur)\n",
    "    for num in primes:\n",
    "        if cur*num not in set_ugly_number:\n",
    "            set_ugly_number.add(cur*num)\n",
    "            heapq.heappush(Heap_ugly_number, cur*num)\n",
    "    \n",
    "print(record[-1])\n"
   ]
  },
  {
   "cell_type": "markdown",
   "id": "9e7777f8",
   "metadata": {},
   "source": [
    "//cpp  \n",
    "#include <iostream>  \n",
    "#include <vector>  \n",
    "#include <unordered_set>  \n",
    "#include <queue>  \n",
    "using namespace std;  \n",
    "int nthSuperUglyNumber(int n, vector<int>& primes) {  \n",
    "    vector<double> record;  \n",
    "    unordered_set<double> set_ugly_number;  \n",
    "    set_ugly_number.emplace(1);  \n",
    "\n",
    "    priority_queue<double, vector<double>, greater<double> > Heap_ugly_number; // 声明一个小顶堆  \n",
    "    Heap_ugly_number.emplace(1);  \n",
    "    while (record.size() < n)  \n",
    "    {\n",
    "        double cur = Heap_ugly_number.top();  \n",
    "        Heap_ugly_number.pop();  \n",
    "        record.emplace_back(cur);  \n",
    "        for (double num : primes)  \n",
    "        {  \n",
    "            if (set_ugly_number.count(cur*num)==0)  \n",
    "            {  \n",
    "                set_ugly_number.emplace(cur * num);  \n",
    "                Heap_ugly_number.emplace(cur * num);  \n",
    "            }  \n",
    "        }  \n",
    "    }  \n",
    "    return int(record.back());  \n",
    "}  \n",
    "int main()  \n",
    "{  \n",
    "    int n = 12;  \n",
    "    vector<int> primes = { 2,7,13,19 };  \n",
    "    cout << \"output = \" << nthSuperUglyNumber(n, primes) << endl;  \n",
    "    return 0;  \n",
    "}  \n"
   ]
  },
  {
   "cell_type": "markdown",
   "id": "8e071405",
   "metadata": {},
   "source": [
    "#### 1201. 丑数 III  \n",
    "https://leetcode-cn.com/problems/ugly-number-iii/"
   ]
  },
  {
   "cell_type": "code",
   "execution_count": null,
   "id": "22c1e8cc",
   "metadata": {},
   "outputs": [],
   "source": []
  },
  {
   "cell_type": "markdown",
   "id": "5f8e798f",
   "metadata": {},
   "source": [
    "# 暂时未归类"
   ]
  },
  {
   "cell_type": "markdown",
   "id": "c99c4283",
   "metadata": {},
   "source": [
    "#### 233. 数字 1 的个数  \n",
    "https://leetcode-cn.com/problems/number-of-digit-one/"
   ]
  },
  {
   "cell_type": "code",
   "execution_count": null,
   "id": "78622e24",
   "metadata": {},
   "outputs": [],
   "source": [
    "# python 3.9\n",
    "n = 99999\n",
    "\n",
    "def count_one_in_shuwei(num,k):\n",
    "    # 第k个数位出现1的次数\n",
    "    count = num//(10**(k+1)) * 10**k \n",
    "    remaining = num%(10**(k+1))\n",
    "    if remaining < 10**k:\n",
    "        count += 0\n",
    "    elif 10**k <= remaining < 10**k*2:\n",
    "        count += remaining - 10**k + 1\n",
    "    else: # remaining >= 10**k*2\n",
    "        count += 10**k\n",
    "    return count\n",
    "    # return int(num/(10**(k+1)))*10**k + min(max(num%(10**(k+1))-10**k+1, 0), 10**k)\n",
    "\n",
    "count = 0\n",
    "for ii in range(len(str(n))):\n",
    "    count += count_one_in_shuwei(n,ii)\n",
    "print(count)"
   ]
  },
  {
   "cell_type": "markdown",
   "id": "761df2d7",
   "metadata": {},
   "source": [
    "#### 453. 最小操作次数使数组元素相等\n",
    "https://leetcode-cn.com/problems/minimum-moves-to-equal-array-elements/  \n",
    "思路：每次操作将会使 n-1 个元素增加 1，等价于 最大元素减 1"
   ]
  },
  {
   "cell_type": "code",
   "execution_count": null,
   "id": "19072b81",
   "metadata": {},
   "outputs": [],
   "source": [
    "# python 3.9\n",
    "nums = [1,2,3,1,0]\n",
    "# nums = [1,2,3]\n",
    "\n",
    "min_num = min(nums)\n",
    "count = 0\n",
    "for num in nums:\n",
    "    count += num - min_num\n",
    "print(count)"
   ]
  },
  {
   "cell_type": "markdown",
   "id": "ebe4d6c7",
   "metadata": {},
   "source": [
    "#### 166. 分数到小数\n",
    "https://leetcode-cn.com/problems/fraction-to-recurring-decimal/"
   ]
  },
  {
   "cell_type": "code",
   "execution_count": null,
   "id": "2bdc68d6",
   "metadata": {},
   "outputs": [],
   "source": [
    "#numerator = 22\n",
    "#denominator = 7\n",
    "#numerator = 4\n",
    "#denominator = 333\n",
    "numerator = -7\n",
    "denominator = 6\n",
    "\n",
    "output = \"\"\n",
    "\n",
    "if numerator < 0 and denominator < 0:\n",
    "    numerator = - numerator\n",
    "    denominator = - denominator\n",
    "elif numerator < 0 and denominator > 0:\n",
    "    output += '-'\n",
    "    numerator = -numerator\n",
    "elif numerator > 0 and denominator < 0:\n",
    "    output += '-'\n",
    "    denominator = -denominator\n",
    "\n",
    "# 整数部分\n",
    "output += str(numerator // denominator);\n",
    "numerator = numerator % denominator\n",
    "\n",
    "# 小数部分\n",
    "if numerator % denominator != 0:\n",
    "    output += '.'\n",
    "    print(\"整数部分\", output)\n",
    "    \n",
    "    # 通过模是否再次出现，判断小数部分是否循环\n",
    "    dict1 = {}\n",
    "    base = 0\n",
    "    while numerator % denominator != 0 and numerator % denominator not in dict1:\n",
    "        dict1[numerator % denominator] = base\n",
    "        print(\"分子 =\", numerator,\"分母 =\",denominator,\"分子//分母 =\",numerator//denominator,\"mod =\", numerator%denominator)\n",
    "        numerator *= 10\n",
    "        base += 1\n",
    "    \n",
    "    if numerator % denominator == 0: # 无循环小数\n",
    "        xiaoshu = str(numerator // denominator)\n",
    "        print(\"小数部分:\", (base-len(xiaoshu))*'0'+xiaoshu)\n",
    "        output += (base-len(xiaoshu))*'0'+xiaoshu\n",
    "    else: # 循环小数\n",
    "        xiaoshu = str(numerator // denominator) # 小数部分\n",
    "        xiaoshu = (base-len(xiaoshu))*'0'+xiaoshu # 补0\n",
    "        xiaoshu = xiaoshu[0:dict1[numerator % denominator]] + '(' + xiaoshu[dict1[numerator % denominator]:] + ')' # 标记循环部分\n",
    "        print(\"分子 =\", numerator,\"分母 =\",denominator,\"分子//分母 =\",numerator//denominator,\"mod =\", numerator%denominator)\n",
    "        print(\"从\",dict1[numerator % denominator]+1,\"小数开始循环\")\n",
    "        print(\"小数部分:\", (base-len(xiaoshu))*'0'+xiaoshu)\n",
    "        output += xiaoshu\n",
    "\n",
    "print(\"输出: \",output)"
   ]
  },
  {
   "cell_type": "code",
   "execution_count": null,
   "id": "88256f9e",
   "metadata": {},
   "outputs": [],
   "source": []
  }
 ],
 "metadata": {
  "kernelspec": {
   "display_name": "C++14",
   "language": "C++14",
   "name": "xcpp14"
  },
  "language_info": {
   "codemirror_mode": "text/x-c++src",
   "file_extension": ".cpp",
   "mimetype": "text/x-c++src",
   "name": "c++",
   "version": "14"
  },
  "toc": {
   "base_numbering": 1,
   "nav_menu": {},
   "number_sections": true,
   "sideBar": true,
   "skip_h1_title": false,
   "title_cell": "Table of Contents",
   "title_sidebar": "Contents",
   "toc_cell": false,
   "toc_position": {
    "height": "calc(100% - 180px)",
    "left": "10px",
    "top": "150px",
    "width": "306.875px"
   },
   "toc_section_display": true,
   "toc_window_display": true
  }
 },
 "nbformat": 4,
 "nbformat_minor": 5
}
