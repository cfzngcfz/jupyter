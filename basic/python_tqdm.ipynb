{
 "cells": [
  {
   "cell_type": "markdown",
   "id": "838b5f15",
   "metadata": {},
   "source": [
    "https://github.com/tqdm/tqdm"
   ]
  },
  {
   "cell_type": "code",
   "execution_count": null,
   "id": "9eb91207",
   "metadata": {},
   "outputs": [],
   "source": [
    "!conda install tqdm -c conda-forge"
   ]
  },
  {
   "cell_type": "code",
   "execution_count": null,
   "id": "14cbad24",
   "metadata": {},
   "outputs": [],
   "source": [
    "import time\n",
    "# from tqdm import tqdm, trange\n",
    "from tqdm.notebook import tqdm, trange"
   ]
  },
  {
   "cell_type": "code",
   "execution_count": null,
   "id": "4d7a9180",
   "metadata": {},
   "outputs": [],
   "source": [
    "for _ in tqdm(range(100)):\n",
    "    time.sleep(0.01)"
   ]
  },
  {
   "cell_type": "code",
   "execution_count": null,
   "id": "4e1ca24c",
   "metadata": {},
   "outputs": [],
   "source": [
    "for _ in trange(100):\n",
    "    time.sleep(0.01)"
   ]
  },
  {
   "cell_type": "code",
   "execution_count": null,
   "id": "03260aed",
   "metadata": {},
   "outputs": [],
   "source": [
    "for _ in tqdm(range(100),\n",
    "              desc=\"Training\", # 进度条前缀\n",
    "              mininterval=0.1, # 最小的进度显示更新间隔\n",
    "              unit=\"epoch\",    # 每次迭代的单位\n",
    "              colour=\"red\"):\n",
    "    time.sleep(0.01)"
   ]
  },
  {
   "cell_type": "code",
   "execution_count": null,
   "id": "fff0980a",
   "metadata": {},
   "outputs": [],
   "source": [
    "for i in trange(3, desc='1st loop'):\n",
    "    for j in tqdm(range(100), desc='2nd loop'):\n",
    "        time.sleep(0.01)"
   ]
  }
 ],
 "metadata": {
  "kernelspec": {
   "display_name": "Python 3 (ipykernel)",
   "language": "python",
   "name": "python3"
  },
  "language_info": {
   "codemirror_mode": {
    "name": "ipython",
    "version": 3
   },
   "file_extension": ".py",
   "mimetype": "text/x-python",
   "name": "python",
   "nbconvert_exporter": "python",
   "pygments_lexer": "ipython3",
   "version": "3.9.7"
  },
  "toc": {
   "base_numbering": 1,
   "nav_menu": {},
   "number_sections": true,
   "sideBar": true,
   "skip_h1_title": false,
   "title_cell": "Table of Contents",
   "title_sidebar": "Contents",
   "toc_cell": false,
   "toc_position": {},
   "toc_section_display": true,
   "toc_window_display": false
  }
 },
 "nbformat": 4,
 "nbformat_minor": 5
}
