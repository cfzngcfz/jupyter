{
 "cells": [
  {
   "cell_type": "markdown",
   "id": "e8555c62",
   "metadata": {},
   "source": [
    "https://github.com/pyproj4/pyproj  \n",
    "https://pyproj4.github.io/pyproj/stable/  "
   ]
  },
  {
   "cell_type": "code",
   "execution_count": null,
   "id": "3a8c7048",
   "metadata": {},
   "outputs": [],
   "source": [
    "# conda install pyproj # 安装"
   ]
  },
  {
   "cell_type": "code",
   "execution_count": null,
   "id": "b47de0ce",
   "metadata": {},
   "outputs": [],
   "source": [
    "!conda list | grep pyproj"
   ]
  },
  {
   "cell_type": "markdown",
   "id": "b203f0cb",
   "metadata": {},
   "source": [
    "# CRS\n",
    "A pythonic Coordinate Reference System manager."
   ]
  },
  {
   "cell_type": "code",
   "execution_count": null,
   "id": "ba16ef2c",
   "metadata": {},
   "outputs": [],
   "source": [
    "from pyproj import CRS"
   ]
  },
  {
   "cell_type": "markdown",
   "id": "e0913acd",
   "metadata": {},
   "source": [
    "## 初始化"
   ]
  },
  {
   "cell_type": "code",
   "execution_count": null,
   "id": "eae1e259",
   "metadata": {},
   "outputs": [],
   "source": [
    "crs = CRS.from_epsg(4326) # Make a CRS from an EPSG code"
   ]
  },
  {
   "cell_type": "code",
   "execution_count": null,
   "id": "369211ba",
   "metadata": {},
   "outputs": [],
   "source": [
    "crs"
   ]
  },
  {
   "cell_type": "markdown",
   "id": "ac4cb481",
   "metadata": {},
   "source": [
    "## 比较"
   ]
  },
  {
   "cell_type": "code",
   "execution_count": null,
   "id": "140b2a53",
   "metadata": {},
   "outputs": [],
   "source": [
    "CRS.from_epsg(4326) == CRS.from_string(\"epsg:4326\") == CRS.from_user_input(4326)"
   ]
  },
  {
   "cell_type": "code",
   "execution_count": null,
   "id": "687e26cd",
   "metadata": {},
   "outputs": [],
   "source": [
    "CRS.from_epsg(4326).equals(CRS.from_string(\"epsg:4326\"))"
   ]
  },
  {
   "cell_type": "code",
   "execution_count": null,
   "id": "e19bb793",
   "metadata": {},
   "outputs": [],
   "source": [
    "CRS.from_epsg(4326).is_exact_same(CRS.from_string(\"epsg:4326\"))"
   ]
  },
  {
   "cell_type": "markdown",
   "id": "f6a81094",
   "metadata": {},
   "source": [
    "## 属性"
   ]
  },
  {
   "cell_type": "code",
   "execution_count": null,
   "id": "014d2760",
   "metadata": {},
   "outputs": [],
   "source": [
    "crs.list_authority()"
   ]
  },
  {
   "cell_type": "code",
   "execution_count": null,
   "id": "be013aa7",
   "metadata": {},
   "outputs": [],
   "source": [
    "crs.name"
   ]
  },
  {
   "cell_type": "markdown",
   "id": "3c43decb",
   "metadata": {},
   "source": [
    "### 时区"
   ]
  },
  {
   "cell_type": "code",
   "execution_count": null,
   "id": "29de5a22",
   "metadata": {},
   "outputs": [],
   "source": [
    "CRS.from_string(\"epsg:4326\").utm_zone"
   ]
  },
  {
   "cell_type": "code",
   "execution_count": null,
   "id": "df044a57",
   "metadata": {},
   "outputs": [],
   "source": [
    "CRS.from_string(\"epsg:32649\").utm_zone"
   ]
  },
  {
   "cell_type": "markdown",
   "id": "cab12104",
   "metadata": {},
   "source": [
    "### 边界"
   ]
  },
  {
   "cell_type": "code",
   "execution_count": null,
   "id": "259e62ed",
   "metadata": {},
   "outputs": [],
   "source": [
    "crs.area_of_use"
   ]
  },
  {
   "cell_type": "code",
   "execution_count": null,
   "id": "e9f2306e",
   "metadata": {},
   "outputs": [],
   "source": [
    "crs.area_of_use.name"
   ]
  },
  {
   "cell_type": "code",
   "execution_count": null,
   "id": "4dcea1d8",
   "metadata": {},
   "outputs": [],
   "source": [
    "crs.area_of_use.bounds # 输入参数的范围"
   ]
  },
  {
   "cell_type": "code",
   "execution_count": null,
   "id": "53d8036e",
   "metadata": {},
   "outputs": [],
   "source": [
    "crs.area_of_use.east"
   ]
  },
  {
   "cell_type": "code",
   "execution_count": null,
   "id": "0dba56fc",
   "metadata": {},
   "outputs": [],
   "source": [
    "crs.area_of_use.west"
   ]
  },
  {
   "cell_type": "code",
   "execution_count": null,
   "id": "2ca89dba",
   "metadata": {},
   "outputs": [],
   "source": [
    "crs.area_of_use.south"
   ]
  },
  {
   "cell_type": "code",
   "execution_count": null,
   "id": "4378128c",
   "metadata": {},
   "outputs": [],
   "source": [
    "crs.area_of_use.north"
   ]
  },
  {
   "cell_type": "markdown",
   "id": "7206b80a",
   "metadata": {},
   "source": [
    "### 椭球"
   ]
  },
  {
   "cell_type": "code",
   "execution_count": null,
   "id": "be731f81",
   "metadata": {},
   "outputs": [],
   "source": [
    "crs.ellipsoid # 椭球体"
   ]
  },
  {
   "cell_type": "code",
   "execution_count": null,
   "id": "7b7819b9",
   "metadata": {},
   "outputs": [],
   "source": [
    "print(\"椭球长半轴 =\", crs.ellipsoid.semi_major_metre, \", 椭球短半轴 =\", crs.ellipsoid.semi_minor_metre, \", 1/扁率 =\", crs.ellipsoid.inverse_flattening)"
   ]
  },
  {
   "cell_type": "markdown",
   "id": "3533bccf",
   "metadata": {},
   "source": [
    "### 坐标系"
   ]
  },
  {
   "cell_type": "code",
   "execution_count": null,
   "id": "dfa1a441",
   "metadata": {},
   "outputs": [],
   "source": [
    "crs.coordinate_system # 坐标系统"
   ]
  },
  {
   "cell_type": "code",
   "execution_count": null,
   "id": "3666aafc",
   "metadata": {},
   "outputs": [],
   "source": [
    "crs.axis_info # 坐标轴"
   ]
  },
  {
   "cell_type": "markdown",
   "id": "faf25780",
   "metadata": {},
   "source": [
    "### 本初子午线"
   ]
  },
  {
   "cell_type": "code",
   "execution_count": null,
   "id": "57180f3f",
   "metadata": {},
   "outputs": [],
   "source": [
    "crs.prime_meridian"
   ]
  },
  {
   "cell_type": "code",
   "execution_count": null,
   "id": "bdb5b24f",
   "metadata": {},
   "outputs": [],
   "source": [
    "crs.prime_meridian.unit_name"
   ]
  },
  {
   "cell_type": "code",
   "execution_count": null,
   "id": "93f58a17",
   "metadata": {},
   "outputs": [],
   "source": [
    "crs.prime_meridian.unit_conversion_factor"
   ]
  },
  {
   "cell_type": "code",
   "execution_count": null,
   "id": "394722b2",
   "metadata": {},
   "outputs": [],
   "source": [
    "crs.prime_meridian.longitude"
   ]
  },
  {
   "cell_type": "markdown",
   "id": "ad756507",
   "metadata": {},
   "source": [
    "### 基准"
   ]
  },
  {
   "cell_type": "code",
   "execution_count": null,
   "id": "95599c84",
   "metadata": {},
   "outputs": [],
   "source": [
    "crs.datum"
   ]
  },
  {
   "cell_type": "markdown",
   "id": "5284b3e2",
   "metadata": {},
   "source": [
    "## geocentric, geographic, projected  \n",
    "refer to: https://blog.csdn.net/wuwuku123/article/details/104711203"
   ]
  },
  {
   "cell_type": "code",
   "execution_count": null,
   "id": "4ed8f90d",
   "metadata": {},
   "outputs": [],
   "source": [
    "CRS.from_string(\"epsg:4326\").type_name"
   ]
  },
  {
   "cell_type": "code",
   "execution_count": null,
   "id": "584e3664",
   "metadata": {},
   "outputs": [],
   "source": [
    "CRS.from_string(\"epsg:32649\").type_name"
   ]
  },
  {
   "cell_type": "code",
   "execution_count": null,
   "id": "aeb771f1",
   "metadata": {},
   "outputs": [],
   "source": [
    "crs.is_geocentric # 地心坐标系"
   ]
  },
  {
   "cell_type": "code",
   "execution_count": null,
   "id": "bd0e124b",
   "metadata": {},
   "outputs": [],
   "source": [
    "crs.is_geographic # 大地坐标系"
   ]
  },
  {
   "cell_type": "code",
   "execution_count": null,
   "id": "e6fb2147",
   "metadata": {},
   "outputs": [],
   "source": [
    "crs.is_projected # 投影坐标系"
   ]
  },
  {
   "cell_type": "code",
   "execution_count": null,
   "id": "49dd5292",
   "metadata": {},
   "outputs": [],
   "source": [
    "CRS.from_epsg(4326).geodetic_crs"
   ]
  },
  {
   "cell_type": "code",
   "execution_count": null,
   "id": "ed7ed4ba",
   "metadata": {},
   "outputs": [],
   "source": [
    "CRS.from_epsg(32649).geodetic_crs"
   ]
  },
  {
   "cell_type": "code",
   "execution_count": null,
   "id": "f7b30b6c",
   "metadata": {},
   "outputs": [],
   "source": [
    "CRS.from_epsg(4326).source_crs"
   ]
  },
  {
   "cell_type": "code",
   "execution_count": null,
   "id": "8f486f3f",
   "metadata": {},
   "outputs": [],
   "source": [
    "CRS.from_epsg(32649).source_crs"
   ]
  },
  {
   "cell_type": "code",
   "execution_count": null,
   "id": "f85ce586",
   "metadata": {},
   "outputs": [],
   "source": [
    "crs1 = CRS.from_epsg(32649).geodetic_crs\n",
    "crs2 = CRS.from_epsg(32649).source_crs\n",
    "crs1.is_exact_same(crs2)"
   ]
  },
  {
   "cell_type": "markdown",
   "id": "a7f6c8db",
   "metadata": {},
   "source": [
    "### **<font color=\"red\">Retrieve the geodetic CRS based on original CRS</font>**\n",
    "<font color=\"red\">根据投影CRS, 反推大地CRS</font>"
   ]
  },
  {
   "cell_type": "code",
   "execution_count": null,
   "id": "3968412c",
   "metadata": {},
   "outputs": [],
   "source": [
    "from pyproj import CRS\n",
    "crs_utm = CRS.from_epsg(32649)\n",
    "crs_wgs84 = crs_utm.geodetic_crs\n",
    "crs_wgs84.to_epsg()"
   ]
  },
  {
   "cell_type": "markdown",
   "id": "542c6410",
   "metadata": {},
   "source": [
    "## 导出"
   ]
  },
  {
   "cell_type": "code",
   "execution_count": null,
   "id": "e03ad87c",
   "metadata": {},
   "outputs": [],
   "source": [
    "CRS.from_string(\"epsg:4326\").to_epsg()"
   ]
  },
  {
   "cell_type": "code",
   "execution_count": null,
   "id": "643097e6",
   "metadata": {},
   "outputs": [],
   "source": [
    "CRS.from_string(\"epsg:4326\").to_authority()"
   ]
  },
  {
   "cell_type": "code",
   "execution_count": null,
   "id": "b48245bf",
   "metadata": {},
   "outputs": [],
   "source": [
    "CRS.from_string(\"epsg:4326\").to_string()"
   ]
  },
  {
   "cell_type": "code",
   "execution_count": null,
   "id": "6a950f41",
   "metadata": {},
   "outputs": [],
   "source": [
    "CRS.from_string(\"epsg:4326\").to_dict()"
   ]
  },
  {
   "cell_type": "code",
   "execution_count": null,
   "id": "db1eb12c",
   "metadata": {},
   "outputs": [],
   "source": [
    "CRS.from_string(\"epsg:32649\").to_dict()"
   ]
  },
  {
   "cell_type": "code",
   "execution_count": null,
   "id": "0179b5df",
   "metadata": {},
   "outputs": [],
   "source": [
    "CRS.from_string(\"epsg:4326\").to_proj4()"
   ]
  },
  {
   "cell_type": "code",
   "execution_count": null,
   "id": "f8e367d7",
   "metadata": {},
   "outputs": [],
   "source": [
    "CRS.from_string(\"epsg:32649\").to_proj4()"
   ]
  },
  {
   "cell_type": "code",
   "execution_count": null,
   "id": "804ce1d1",
   "metadata": {},
   "outputs": [],
   "source": [
    "CRS.from_string(\"epsg:4326\").to_json()\n",
    "CRS.from_string(\"epsg:4326\").to_json_dict()\n",
    "CRS.from_string(\"epsg:4326\").to_wkt()"
   ]
  },
  {
   "cell_type": "markdown",
   "id": "98cd1797",
   "metadata": {},
   "source": [
    "# **<font color=\"red\">Find UTM CRS by Latitude and Longitude</font>**\n",
    "根据经纬度, 推导UTM投影CRS"
   ]
  },
  {
   "cell_type": "code",
   "execution_count": null,
   "id": "6f120d88",
   "metadata": {},
   "outputs": [],
   "source": [
    "from pyproj import CRS\n",
    "from pyproj.aoi import AreaOfInterest\n",
    "from pyproj.database import query_utm_crs_info"
   ]
  },
  {
   "cell_type": "markdown",
   "id": "c669094c",
   "metadata": {},
   "source": [
    "## example"
   ]
  },
  {
   "cell_type": "code",
   "execution_count": null,
   "id": "35672d09",
   "metadata": {},
   "outputs": [],
   "source": [
    "lon = 113.595417400\n",
    "lat = 22.744435950\n",
    "\n",
    "utm_crs_list = query_utm_crs_info(\n",
    "    datum_name=\"WGS 84\",\n",
    "    area_of_interest=AreaOfInterest(\n",
    "        west_lon_degree=lon,\n",
    "        south_lat_degree=lat,\n",
    "        east_lon_degree=lon,\n",
    "        north_lat_degree=lat,\n",
    "    ),\n",
    ")\n"
   ]
  },
  {
   "cell_type": "code",
   "execution_count": null,
   "id": "beec642c",
   "metadata": {},
   "outputs": [],
   "source": [
    "len(utm_crs_list)"
   ]
  },
  {
   "cell_type": "code",
   "execution_count": null,
   "id": "94e6f1ff",
   "metadata": {},
   "outputs": [],
   "source": [
    "for utm_crs in utm_crs_list:\n",
    "    crs_utm = CRS.from_epsg(utm_crs.code)\n",
    "    print(crs_utm)"
   ]
  },
  {
   "cell_type": "markdown",
   "id": "041b1344",
   "metadata": {},
   "source": [
    "# Transformations from one CRS to another CRS"
   ]
  },
  {
   "cell_type": "code",
   "execution_count": null,
   "id": "6e7dd25a",
   "metadata": {},
   "outputs": [],
   "source": [
    "from pyproj import CRS\n",
    "from pyproj import Transformer"
   ]
  },
  {
   "cell_type": "markdown",
   "id": "7ab133e9",
   "metadata": {},
   "source": [
    "Note that crs_wgs84 has the latitude (north) axis first and the crs_utm has the easting axis first. This means that in the transformation, we will need to input the data with latitude first and longitude second. Also, note that the second projection is a UTM projection with bounds (-84.0, 23.81, -78.0, 84.0) which are in the form (min_x, min_y, max_x, max_y), so the transformation input/output should be within those bounds for best results.  \n",
    "请注意，crs_wgs84 首先具有纬度（北）轴，而 crs_utm 首先具有东向轴。 这意味着在转换中，我们需要先输入纬度，然后再输入经度。 另外，请注意，第二个投影是具有边界 (-84.0, 23.81, -78.0, 84.0) 的 UTM 投影，其形式为 (min_x, min_y, max_x, max_y)，因此转换输入/输出应在这些范围内 以获得最佳效果。"
   ]
  },
  {
   "cell_type": "code",
   "execution_count": null,
   "id": "5f098d8c",
   "metadata": {},
   "outputs": [],
   "source": [
    "crs_wgs84 = CRS.from_epsg(4326)\n",
    "crs_utm = CRS.from_epsg(32649)\n",
    "transformer = Transformer.from_crs(crs_wgs84, crs_utm)"
   ]
  },
  {
   "cell_type": "code",
   "execution_count": null,
   "id": "bfdd6d81",
   "metadata": {},
   "outputs": [],
   "source": [
    "transformer"
   ]
  },
  {
   "cell_type": "markdown",
   "id": "0c5a056f",
   "metadata": {},
   "source": [
    "## 比较"
   ]
  },
  {
   "cell_type": "code",
   "execution_count": null,
   "id": "99965143",
   "metadata": {},
   "outputs": [],
   "source": [
    "transformer.is_exact_same(Transformer.from_crs(4326, 32649))"
   ]
  },
  {
   "cell_type": "code",
   "execution_count": null,
   "id": "c6e5a411",
   "metadata": {},
   "outputs": [],
   "source": [
    "transformer.is_exact_same(Transformer.from_crs(\"EPSG:4326\", \"EPSG:32649\"))"
   ]
  },
  {
   "cell_type": "markdown",
   "id": "e4eb01de",
   "metadata": {},
   "source": [
    "## 属性"
   ]
  },
  {
   "cell_type": "code",
   "execution_count": null,
   "id": "5e866c68",
   "metadata": {},
   "outputs": [],
   "source": [
    "type(transformer)"
   ]
  },
  {
   "cell_type": "code",
   "execution_count": null,
   "id": "0e3a08bc",
   "metadata": {},
   "outputs": [],
   "source": [
    "transformer.name"
   ]
  },
  {
   "cell_type": "code",
   "execution_count": null,
   "id": "7f35e3a8",
   "metadata": {},
   "outputs": [],
   "source": [
    "transformer.definition"
   ]
  },
  {
   "cell_type": "code",
   "execution_count": null,
   "id": "b15a4e95",
   "metadata": {},
   "outputs": [],
   "source": [
    "transformer.description"
   ]
  },
  {
   "cell_type": "code",
   "execution_count": null,
   "id": "170f889b",
   "metadata": {},
   "outputs": [],
   "source": [
    "transformer.accuracy"
   ]
  },
  {
   "cell_type": "code",
   "execution_count": null,
   "id": "2a3fc156",
   "metadata": {},
   "outputs": [],
   "source": [
    "transformer.area_of_use"
   ]
  },
  {
   "cell_type": "code",
   "execution_count": null,
   "id": "6ff2706b",
   "metadata": {},
   "outputs": [],
   "source": [
    "transformer.is_network_enabled"
   ]
  },
  {
   "cell_type": "code",
   "execution_count": null,
   "id": "a5188930",
   "metadata": {},
   "outputs": [],
   "source": [
    "transformer.source_crs"
   ]
  },
  {
   "cell_type": "code",
   "execution_count": null,
   "id": "7bf8d232",
   "metadata": {},
   "outputs": [],
   "source": [
    "transformer.target_crs"
   ]
  },
  {
   "cell_type": "code",
   "execution_count": null,
   "id": "2e10eeab",
   "metadata": {},
   "outputs": [],
   "source": [
    "transformer.transform_bounds"
   ]
  },
  {
   "cell_type": "markdown",
   "id": "2e1d6f93",
   "metadata": {},
   "source": [
    "## **<font color=\"red\">转换/transform</font>**"
   ]
  },
  {
   "cell_type": "code",
   "execution_count": null,
   "id": "19427331",
   "metadata": {},
   "outputs": [],
   "source": [
    "import math\n",
    "lon = 113.60\n",
    "lat = 22.74\n",
    "\n",
    "lons = [113.60, 114.60, 115.60]\n",
    "lats = [22.74, 23.74, 24.74]\n",
    "\n",
    "points = [(22.74, 113.60), (23.74, 114.60), (24.74, 115.60)] #lat, lon"
   ]
  },
  {
   "cell_type": "markdown",
   "id": "4b44cba8",
   "metadata": {},
   "source": [
    "单个用法1"
   ]
  },
  {
   "cell_type": "code",
   "execution_count": null,
   "id": "2da0e877",
   "metadata": {},
   "outputs": [],
   "source": [
    "transformer = Transformer.from_crs(crs_wgs84, crs_utm)\n",
    "transformer.transform(lat, lon)"
   ]
  },
  {
   "cell_type": "markdown",
   "id": "8627b820",
   "metadata": {},
   "source": [
    "单个用法2"
   ]
  },
  {
   "cell_type": "code",
   "execution_count": null,
   "id": "3c13447f",
   "metadata": {},
   "outputs": [],
   "source": [
    "transformer.transform(lat/180*math.pi, lon/180*math.pi, radians=True) # 弧度"
   ]
  },
  {
   "cell_type": "markdown",
   "id": "b4eac9bf",
   "metadata": {},
   "source": [
    "批量用法1"
   ]
  },
  {
   "cell_type": "code",
   "execution_count": null,
   "id": "2bc12b53",
   "metadata": {},
   "outputs": [],
   "source": [
    "transformer.transform(lats, lons)"
   ]
  },
  {
   "cell_type": "markdown",
   "id": "3d119f2e",
   "metadata": {},
   "source": [
    "批量用法2"
   ]
  },
  {
   "cell_type": "code",
   "execution_count": null,
   "id": "b2acf5aa",
   "metadata": {},
   "outputs": [],
   "source": [
    "import pyproj\n",
    "for x, y in transformer.itransform(points): # 批量转换\n",
    "    print(\"utm:\\t\", x, y)\n",
    "    if transformer.has_inverse:\n",
    "        lat_, lon_ = transformer.transform(x, y, direction=pyproj.enums.TransformDirection.INVERSE) # 逆向映射\n",
    "        print(\"wgs84:\\t\", lon_, lat_)"
   ]
  },
  {
   "cell_type": "markdown",
   "id": "c2c27d4b",
   "metadata": {},
   "source": [
    "单个用法3"
   ]
  },
  {
   "cell_type": "code",
   "execution_count": null,
   "id": "47df323a",
   "metadata": {},
   "outputs": [],
   "source": [
    "transformer = Transformer.from_crs(crs_wgs84, crs_utm, always_xy=True) # 仅交换输入的顺序，输出的顺序不变\n",
    "transformer.transform(lon, lat)"
   ]
  },
  {
   "cell_type": "markdown",
   "id": "9e60f32e",
   "metadata": {},
   "source": [
    "## 导出"
   ]
  },
  {
   "cell_type": "code",
   "execution_count": null,
   "id": "7d0981d0",
   "metadata": {},
   "outputs": [],
   "source": [
    "transformer = Transformer.from_crs(crs_wgs84, crs_utm)"
   ]
  },
  {
   "cell_type": "code",
   "execution_count": null,
   "id": "19a6f347",
   "metadata": {},
   "outputs": [],
   "source": [
    "transformer.to_json()"
   ]
  },
  {
   "cell_type": "code",
   "execution_count": null,
   "id": "e714e8bb",
   "metadata": {},
   "outputs": [],
   "source": [
    "transformer.to_json_dict()"
   ]
  },
  {
   "cell_type": "code",
   "execution_count": null,
   "id": "2bf1d3de",
   "metadata": {},
   "outputs": [],
   "source": [
    "transformer.to_proj4()"
   ]
  },
  {
   "cell_type": "code",
   "execution_count": null,
   "id": "978dd7a5",
   "metadata": {},
   "outputs": [],
   "source": [
    "transformer.to_wkt()"
   ]
  },
  {
   "cell_type": "markdown",
   "id": "a76b1fcb",
   "metadata": {},
   "source": [
    "# Geodesic calculations"
   ]
  },
  {
   "cell_type": "markdown",
   "id": "95f7e49d",
   "metadata": {},
   "source": [
    "## Creating Geod class "
   ]
  },
  {
   "cell_type": "code",
   "execution_count": null,
   "id": "d2e1583a",
   "metadata": {},
   "outputs": [],
   "source": [
    "from pyproj import CRS, Geod"
   ]
  },
  {
   "cell_type": "code",
   "execution_count": null,
   "id": "07f0ce1c",
   "metadata": {},
   "outputs": [],
   "source": [
    "geod = CRS(\"epsg:4326\").get_geod()"
   ]
  },
  {
   "cell_type": "code",
   "execution_count": null,
   "id": "8a45c7b6",
   "metadata": {},
   "outputs": [],
   "source": [
    "geod"
   ]
  },
  {
   "cell_type": "code",
   "execution_count": null,
   "id": "633ff41d",
   "metadata": {},
   "outputs": [],
   "source": [
    "geod = Geod(ellps=\"WGS84\") # using an ellipsoid name"
   ]
  },
  {
   "cell_type": "code",
   "execution_count": null,
   "id": "0a89cead",
   "metadata": {},
   "outputs": [],
   "source": [
    "geod"
   ]
  },
  {
   "cell_type": "code",
   "execution_count": null,
   "id": "c4fd05d4",
   "metadata": {},
   "outputs": [],
   "source": [
    "CRS(\"epsg:4326\").get_geod() == Geod('+a=6378137 +f=0.0033528106647475126')"
   ]
  },
  {
   "cell_type": "code",
   "execution_count": null,
   "id": "5d58da53",
   "metadata": {},
   "outputs": [],
   "source": [
    "CRS(\"epsg:4326\").get_geod() == Geod(ellps=\"WGS84\")"
   ]
  },
  {
   "cell_type": "markdown",
   "id": "3e237786",
   "metadata": {},
   "source": [
    "## Geodesic line length"
   ]
  },
  {
   "cell_type": "code",
   "execution_count": null,
   "id": "030e947a",
   "metadata": {},
   "outputs": [],
   "source": [
    "lons = [-74, -102, -102, -131, -163, 163, 172, 140, 113, 88, 59, 25, -4, -14, -33, -46, -61]\n",
    "lats = [-72.9, -71.9, -74.9, -74.3, -77.5, -77.4, -71.7, -65.9, -65.7, -66.6, -66.9, -69.8, -70.0, -71.0, -77.3, -77.9, -74.7]"
   ]
  },
  {
   "cell_type": "code",
   "execution_count": null,
   "id": "b4498159",
   "metadata": {},
   "outputs": [],
   "source": [
    "geod = CRS(\"epsg:4326\").get_geod()\n",
    "length = geod.line_length(lons, lats)\n",
    "print(\"length =\", length, \"m\")"
   ]
  },
  {
   "cell_type": "code",
   "execution_count": null,
   "id": "f30ee9b5",
   "metadata": {},
   "outputs": [],
   "source": [
    "geod.line_lengths(lons, lats)"
   ]
  },
  {
   "cell_type": "code",
   "execution_count": null,
   "id": "98fa4208",
   "metadata": {},
   "outputs": [],
   "source": [
    "len(lons) - len(geod.line_lengths(lons, lats))"
   ]
  },
  {
   "cell_type": "code",
   "execution_count": null,
   "id": "b52e837f",
   "metadata": {},
   "outputs": [],
   "source": [
    "sum(geod.line_lengths(lons, lats))-length"
   ]
  },
  {
   "cell_type": "markdown",
   "id": "5e2f0038",
   "metadata": {},
   "source": [
    "## Geodesic area"
   ]
  },
  {
   "cell_type": "code",
   "execution_count": null,
   "id": "96b60f7d",
   "metadata": {},
   "outputs": [],
   "source": [
    "geod = CRS(\"epsg:4326\").get_geod()\n",
    "poly_area, poly_perimeter = geod.polygon_area_perimeter(lons, lats)\n",
    "print(\"面积 =\", poly_area, \"| 周长 =\", poly_perimeter)"
   ]
  },
  {
   "cell_type": "markdown",
   "id": "05421b66",
   "metadata": {},
   "source": [
    "## npts\n",
    "Given a single initial point and terminus point, returns a list of longitude/latitude pairs describing npts equally spaced intermediate points along the geodesic between the initial and terminus points.  \n",
    "给定一个初始点和终点，返回一个经度/纬度对列表，描述沿初始点和终点之间的测地线等间距的 npts 中间点。"
   ]
  },
  {
   "cell_type": "code",
   "execution_count": null,
   "id": "ccf4274e",
   "metadata": {},
   "outputs": [],
   "source": [
    "boston_lat = 42.+(15./60.); boston_lon = -71.-(7./60.)\n",
    "portland_lat = 45.+(31./60.); portland_lon = -123.-(41./60.)\n",
    "# find ten equally spaced points between Boston and Portland.\n",
    "lonlats = geod.npts(boston_lon,boston_lat,portland_lon,portland_lat,10)\n",
    "for lon,lat in lonlats:\n",
    "    print(lon, lat)"
   ]
  },
  {
   "cell_type": "code",
   "execution_count": null,
   "id": "e46d12e4",
   "metadata": {},
   "outputs": [],
   "source": [
    "import math\n",
    "dg2rad = math.radians(1.)\n",
    "rad2dg = math.degrees(1.)\n",
    "lonlats = geod.npts(\n",
    "   dg2rad*boston_lon,\n",
    "   dg2rad*boston_lat,\n",
    "   dg2rad*portland_lon,\n",
    "   dg2rad*portland_lat,\n",
    "   10,\n",
    "   radians=True\n",
    ")\n",
    "for lon,lat in lonlats:\n",
    "    print(rad2dg*lon, rad2dg*lat)"
   ]
  },
  {
   "cell_type": "markdown",
   "id": "c3c5e2f5",
   "metadata": {},
   "source": [
    "# other"
   ]
  },
  {
   "cell_type": "code",
   "execution_count": null,
   "id": "2a9a2860",
   "metadata": {},
   "outputs": [],
   "source": [
    "import pyproj\n",
    "pyproj.datadir.get_data_dir() # get data directory"
   ]
  },
  {
   "cell_type": "code",
   "execution_count": null,
   "id": "3808874d",
   "metadata": {},
   "outputs": [],
   "source": []
  },
  {
   "cell_type": "code",
   "execution_count": null,
   "id": "39e10ccb",
   "metadata": {},
   "outputs": [],
   "source": []
  },
  {
   "cell_type": "code",
   "execution_count": null,
   "id": "4058a4f5",
   "metadata": {},
   "outputs": [],
   "source": []
  }
 ],
 "metadata": {
  "kernelspec": {
   "display_name": "Python 3 (ipykernel)",
   "language": "python",
   "name": "python3"
  },
  "language_info": {
   "codemirror_mode": {
    "name": "ipython",
    "version": 3
   },
   "file_extension": ".py",
   "mimetype": "text/x-python",
   "name": "python",
   "nbconvert_exporter": "python",
   "pygments_lexer": "ipython3",
   "version": "3.9.7"
  },
  "toc": {
   "base_numbering": 1,
   "nav_menu": {},
   "number_sections": true,
   "sideBar": true,
   "skip_h1_title": false,
   "title_cell": "Table of Contents",
   "title_sidebar": "Contents",
   "toc_cell": false,
   "toc_position": {
    "height": "calc(100% - 180px)",
    "left": "10px",
    "top": "150px",
    "width": "165px"
   },
   "toc_section_display": true,
   "toc_window_display": true
  }
 },
 "nbformat": 4,
 "nbformat_minor": 5
}
