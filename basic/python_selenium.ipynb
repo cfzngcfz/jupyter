{
 "cells": [
  {
   "cell_type": "markdown",
   "id": "799862a6",
   "metadata": {},
   "source": [
    "# 安装\n",
    "## 安装 selenium 库"
   ]
  },
  {
   "cell_type": "code",
   "execution_count": null,
   "id": "c1b31843",
   "metadata": {},
   "outputs": [],
   "source": [
    "conda install selenium  "
   ]
  },
  {
   "cell_type": "markdown",
   "id": "04d6ba76",
   "metadata": {},
   "source": [
    "## 在 wsl2 中安装 edge 浏览器 + msedgedriver\n",
    "### 安装 edge 浏览器\n",
    "refer to: https://www.microsoft.com/zh-cn/edge/download/insider?platform=linux-deb"
   ]
  },
  {
   "cell_type": "code",
   "execution_count": null,
   "id": "c880137c",
   "metadata": {},
   "outputs": [],
   "source": [
    "# Setup\n",
    "curl https://packages.microsoft.com/keys/microsoft.asc | gpg --dearmor > microsoft.gpg\n",
    "sudo install -o root -g root -m 644 microsoft.gpg /usr/share/keyrings/\n",
    "sudo sh -c 'echo \"deb [arch=amd64 signed-by=/usr/share/keyrings/microsoft.gpg] https://packages.microsoft.com/repos/edge stable main\" > /etc/apt/sources.list.d/microsoft-edge-beta.list'\n",
    "sudo rm microsoft.gpg\n",
    "\n",
    "# Install\n",
    "sudo apt update\n",
    "sudo apt install microsoft-edge-beta\n",
    "\n",
    "# 验证安装\n",
    "microsoft-edge-beta --version"
   ]
  },
  {
   "cell_type": "markdown",
   "id": "79bd3fc3",
   "metadata": {},
   "source": [
    "### 安装 msedgedriver\n",
    "refer to: https://developer.microsoft.com/en-us/microsoft-edge/tools/webdriver/?form=MA13LH#downloads"
   ]
  },
  {
   "cell_type": "code",
   "execution_count": null,
   "id": "cf4c9a49",
   "metadata": {},
   "outputs": [],
   "source": [
    "wget -O edgedriver.zip https://msedgedriver.azureedge.net/133.0.3065.19/edgedriver_linux64.zip\n",
    "unzip edgedriver.zip\n",
    "rm -rf Driver_Notes\n",
    "sudo mv msedgedriver /usr/local/bin/\n",
    "sudo chmod +x /usr/local/bin/msedgedriver\n",
    "# 验证安装\n",
    "msedgedriver --version"
   ]
  },
  {
   "cell_type": "markdown",
   "id": "cd649354",
   "metadata": {},
   "source": [
    "### 测试 edge + msedgedriver"
   ]
  },
  {
   "cell_type": "code",
   "execution_count": null,
   "id": "cfa8eac7",
   "metadata": {},
   "outputs": [],
   "source": [
    "from selenium import webdriver\n",
    "\n",
    "browser = webdriver.Edge()\n",
    "browser.get(\"www.baidu.com\")"
   ]
  },
  {
   "cell_type": "markdown",
   "id": "a8559564",
   "metadata": {},
   "source": [
    "## 在 wsl2 中安装 chrome 浏览器 + chromedriver"
   ]
  },
  {
   "cell_type": "markdown",
   "id": "1d2038cd",
   "metadata": {},
   "source": [
    "### 安装 chrome 浏览器"
   ]
  },
  {
   "cell_type": "code",
   "execution_count": null,
   "id": "d2b46a21",
   "metadata": {},
   "outputs": [],
   "source": [
    "# 下载\n",
    "wget https://dl.google.com/linux/direct/google-chrome-stable_current_amd64.deb\n",
    "# 安装\n",
    "sudo dpkg -i google-chrome-stable_current_amd64.deb\n",
    "# 修复依赖关系\n",
    "sudo apt install --fix-broken -y\n",
    "# 再次安装\n",
    "sudo dpkg -i google-chrome-stable_current_amd64.deb\n",
    "# 验证安装\n",
    "google-chrome --version"
   ]
  },
  {
   "cell_type": "markdown",
   "id": "5c4e4d09",
   "metadata": {},
   "source": [
    "### 安装 chromedriver\n",
    "refer to: https://googlechromelabs.github.io/chrome-for-testing/#stable"
   ]
  },
  {
   "cell_type": "code",
   "execution_count": null,
   "id": "f62e0df8",
   "metadata": {},
   "outputs": [],
   "source": [
    "wget https://storage.googleapis.com/chrome-for-testing-public/132.0.6834.110/linux64/chromedriver-linux64.zip\n",
    "unzip chromedriver-linux64.zip\n",
    "sudo mv chromedriver-linux64/chromedriver /usr/local/bin/\n",
    "sudo chmod +x /usr/local/bin/chromedriver\n",
    "# 验证安装\n",
    "chromedriver --version"
   ]
  },
  {
   "cell_type": "markdown",
   "id": "bec23e0e",
   "metadata": {},
   "source": [
    "### 测试 chrome + chromedriver"
   ]
  },
  {
   "cell_type": "code",
   "execution_count": null,
   "id": "0101f8b4",
   "metadata": {},
   "outputs": [],
   "source": [
    "from selenium import webdriver\n",
    "\n",
    "browser = webdriver.Chrome()\n",
    "browser.get(\"www.baidu.com\")"
   ]
  },
  {
   "cell_type": "markdown",
   "id": "cddcbef6",
   "metadata": {},
   "source": [
    "# 应用\n",
    "gitlab: https://github.com/SeleniumHQ/selenium  \n",
    "官方文档: https://www.selenium.dev/zh-cn/documentation/  \n",
    "非官方文档: https://selenium-python.readthedocs.io/"
   ]
  },
  {
   "cell_type": "code",
   "execution_count": 4,
   "id": "919dd7f7",
   "metadata": {},
   "outputs": [],
   "source": [
    "from selenium import webdriver\n",
    "from selenium.webdriver.common.keys import Keys\n",
    "from selenium.webdriver.common.by import By\n",
    "# import os"
   ]
  },
  {
   "cell_type": "markdown",
   "id": "9c4c362d",
   "metadata": {},
   "source": [
    "## 创建浏览器对象\n",
    "### 有可视化界面"
   ]
  },
  {
   "cell_type": "code",
   "execution_count": null,
   "id": "f3184395",
   "metadata": {},
   "outputs": [],
   "source": [
    "browser = webdriver.Edge() # 打开浏览器"
   ]
  },
  {
   "cell_type": "markdown",
   "id": "e542108f",
   "metadata": {},
   "source": [
    "### 无界面浏览器\n",
    "https://blog.csdn.net/snrxian/article/details/111401194  \n",
    "my_chrome_options = webdriver.Edge.Options()  \n",
    "my_chrome_options.add_argument(\"--headless\")  \n",
    "my_chrome_options.add_argument('--window-size=1920,1080')  \n",
    "#my_chrome_options.add_argument('--no-sandbox')  \n",
    "#my_chrome_options.add_argument(\"--disable-gpu\")  \n",
    "#my_chrome_options.add_argument('--no-gpu')  \n",
    "#my_chrome_options.add_argument('--disable-setuid-sandbox')  \n",
    "#my_chrome_options.add_argument('--single-process')  \n",
    "browser = webdriver.Edge(options=my_chrome_options)\n"
   ]
  },
  {
   "cell_type": "markdown",
   "id": "6694e4e5",
   "metadata": {},
   "source": [
    "## 打开网页"
   ]
  },
  {
   "cell_type": "code",
   "execution_count": 3,
   "id": "98d56141",
   "metadata": {},
   "outputs": [],
   "source": [
    "file_path = \"file://C:/Users/CC-i7-11700/AppData/Local/Packages/CanonicalGroupLimited.Ubuntu20.04onWindows_79rhkp1fndgsc/LocalState/rootfs/code/jupyter/data/test.html\" # 打开本地网址\n",
    "browser.get(file_path) # 开始请求"
   ]
  },
  {
   "cell_type": "markdown",
   "id": "e4124638",
   "metadata": {},
   "source": [
    "## 定位元素\n",
    "find_element_by_XX 定位第一个元素  \n",
    "find_elements_by_XX 定位所有元素  \n",
    "### find_element_by_id"
   ]
  },
  {
   "cell_type": "code",
   "execution_count": 4,
   "id": "ec37ab0e",
   "metadata": {},
   "outputs": [
    {
     "name": "stdout",
     "output_type": "stream",
     "text": [
      "text: B站\n",
      "tag_name: b\n",
      "id: be88d4da-7acf-4827-b041-a1bd52be6cc6\n",
      "href的赋值: https://www.bilibili.com/\n",
      "是否可见: True\n",
      "位置: {'x': 45, 'y': 29}\n"
     ]
    }
   ],
   "source": [
    "element = browser.find_element_by_id(\"blbl\") # 定位: 1.常用网址->B站\n",
    "print(\"text:\",element.text)\n",
    "print(\"tag_name:\",element.tag_name)\n",
    "print(\"id:\",element.id)\n",
    "print(\"href的赋值:\",element.get_attribute(\"href\"))\n",
    "print(\"是否可见:\",element.is_displayed())\n",
    "print(\"位置:\",element.location)\n",
    "\n",
    "# element = browser.find_element(By.ID, \"blbl\") # 可不记\n",
    "# print(\"text:\",element.text)\n",
    "# print(\"tag_name:\",element.tag_name)\n",
    "# print(\"id:\",element.id)"
   ]
  },
  {
   "cell_type": "markdown",
   "id": "34b0816b",
   "metadata": {},
   "source": [
    "### find_element_by_name"
   ]
  },
  {
   "cell_type": "code",
   "execution_count": 5,
   "id": "76a3ce99",
   "metadata": {},
   "outputs": [
    {
     "name": "stdout",
     "output_type": "stream",
     "text": [
      "text: B站\n",
      "tag_name: b\n",
      "id: be88d4da-7acf-4827-b041-a1bd52be6cc6\n"
     ]
    }
   ],
   "source": [
    "element = browser.find_element_by_name(\"bilibili\") # 定位: 1.常用网址->B站\n",
    "print(\"text:\",element.text)\n",
    "print(\"tag_name:\",element.tag_name)\n",
    "print(\"id:\",element.id)\n",
    "\n",
    "# element = browser.find_element(By.NAME, \"bilibili\") # 可不记\n",
    "# print(\"text:\",element.text)\n",
    "# print(\"tag_name:\",element.tag_name)\n",
    "# print(\"id:\",element.id)"
   ]
  },
  {
   "cell_type": "markdown",
   "id": "ab8d09f9",
   "metadata": {},
   "source": [
    "### find_element_by_tag_name"
   ]
  },
  {
   "cell_type": "code",
   "execution_count": 6,
   "id": "5b47b3e4",
   "metadata": {},
   "outputs": [
    {
     "name": "stdout",
     "output_type": "stream",
     "text": [
      "text: B站\n",
      "tag_name: b\n",
      "id: be88d4da-7acf-4827-b041-a1bd52be6cc6\n"
     ]
    }
   ],
   "source": [
    "element = browser.find_element_by_tag_name('b') # 定位: 1.常用网址->B站\n",
    "print(\"text:\",element.text)\n",
    "print(\"tag_name:\",element.tag_name)\n",
    "print(\"id:\",element.id)\n",
    "\n",
    "# element = browser.find_element(By.TAG_NAME, 'b') # 可不记\n",
    "# print(\"text:\",element.text)\n",
    "# print(\"tag_name:\",element.tag_name)\n",
    "# print(\"id:\",element.id)"
   ]
  },
  {
   "cell_type": "markdown",
   "id": "c3268bf1",
   "metadata": {},
   "source": [
    "### find_element_by_class_name"
   ]
  },
  {
   "cell_type": "code",
   "execution_count": 7,
   "id": "410199b3",
   "metadata": {},
   "outputs": [
    {
     "name": "stdout",
     "output_type": "stream",
     "text": [
      "text: B站\n",
      "tag_name: b\n",
      "id: be88d4da-7acf-4827-b041-a1bd52be6cc6\n"
     ]
    }
   ],
   "source": [
    "element = browser.find_element_by_class_name(\"web\") # 定位: 1.常用网址->B站\n",
    "print(\"text:\",element.text)\n",
    "print(\"tag_name:\",element.tag_name)\n",
    "print(\"id:\",element.id)\n",
    "\n",
    "# element = browser.find_element(By.CLASS_NAME, \"web\") # 可不记\n",
    "# print(\"text:\",element.text)\n",
    "# print(\"tag_name:\",element.tag_name)\n",
    "# print(\"id:\",element.id)"
   ]
  },
  {
   "cell_type": "markdown",
   "id": "6a178aaf",
   "metadata": {},
   "source": [
    "### find_element_by_xpath\n",
    "\n",
    "表达式|描述\n",
    ":-:|:-\n",
    ".|当前元素  \n",
    "..|当前元素的父元素\n",
    "/|相临的绝对路径\n",
    "//|上下级关系的相对路径\n",
    "@|选择属性\n",
    "*|匹配任意元素\n",
    "@*|匹配当前元素的任意key"
   ]
  },
  {
   "cell_type": "code",
   "execution_count": 8,
   "id": "b62d804f",
   "metadata": {},
   "outputs": [
    {
     "name": "stdout",
     "output_type": "stream",
     "text": [
      "username\n",
      "username\n"
     ]
    }
   ],
   "source": [
    "# 定位: 2.登录->账号输入框\n",
    "element = browser.find_element_by_xpath(\"//input[ @name='username' ]\")            # 相对路径\n",
    "print(element.get_attribute(\"name\"))\n",
    "# element = browser.find_element(By.XPATH, \"//input[ @name='username' ]\")           # 可不记\n",
    "# print(element.get_attribute(\"name\"))\n",
    "element = browser.find_element_by_xpath(\"//input[ contains(@name,'sernam') ]\")    # contains(a, b) 如果a中含有字符串b，则返回匹配的第一个element，否则报错\n",
    "print(element.get_attribute(\"name\"))\n",
    "# element = browser.find_element_by_xpath(\"//input[ starts-with(@name,'userna') ]\") # 可不记，一是因为官方文档中未出现，二是可被contains替代\n",
    "# print(element.get_attribute(\"name\"))"
   ]
  },
  {
   "cell_type": "code",
   "execution_count": 9,
   "id": "c733f9d9",
   "metadata": {
    "scrolled": true
   },
   "outputs": [
    {
     "name": "stdout",
     "output_type": "stream",
     "text": [
      "登录\n",
      "登录\n",
      "登录\n",
      "登录\n",
      "登录\n",
      "登录\n",
      "登录\n"
     ]
    }
   ],
   "source": [
    "# 定位: 2.登录->登录\n",
    "element = browser.find_element_by_xpath(\"/html/body/form[1]/input[3]\")               # 绝对路径\n",
    "print(element.get_attribute(\"value\"))\n",
    "\n",
    "element = browser.find_element_by_xpath(\"//form[1]/input[3]\")                        # 相对路径\n",
    "print(element.get_attribute(\"value\"))\n",
    "element = browser.find_element_by_xpath(\"//form[position()=1]/input[position()=3]\")\n",
    "print(element.get_attribute(\"value\"))\n",
    "element = browser.find_element_by_xpath(\"//form[position()=1]/input[last()-1]\")\n",
    "print(element.get_attribute(\"value\"))\n",
    "\n",
    "element = browser.find_element_by_xpath(\"//form[@id='loginForm']/input[3]\")\n",
    "print(element.get_attribute(\"value\"))\n",
    "\n",
    "element = browser.find_element_by_xpath(\"//input[@name='sign in'][@type='submit']\")\n",
    "print(element.get_attribute(\"value\"))\n",
    "element = browser.find_element_by_xpath(\"//input[@name='sign in' and @type='submit']\")\n",
    "print(element.get_attribute(\"value\"))\n"
   ]
  },
  {
   "cell_type": "code",
   "execution_count": 10,
   "id": "329a9a52",
   "metadata": {},
   "outputs": [
    {
     "name": "stdout",
     "output_type": "stream",
     "text": [
      "None\n",
      "username\n",
      "password\n",
      "sign in\n",
      "clear\n",
      "\n",
      "\n",
      "username\n",
      "password\n",
      "sign in\n",
      "clear\n",
      "\n",
      "\n",
      "username\n",
      "password\n",
      "\n",
      "\n",
      "username\n",
      "password\n",
      "sign in\n",
      "clear\n",
      "\n",
      "\n",
      "bilibili\n",
      "username\n",
      "password\n",
      "sign in\n",
      "clear\n",
      "education\n"
     ]
    }
   ],
   "source": [
    "elements = browser.find_elements_by_xpath(\"//form/*\")\n",
    "for element in elements:\n",
    "    print(element.get_attribute(\"name\"))\n",
    "print(\"\\n\")\n",
    "elements = browser.find_elements_by_xpath(\"//form/input\")\n",
    "for element in elements:\n",
    "    print(element.get_attribute(\"name\"))\n",
    "print(\"\\n\")\n",
    "elements = browser.find_elements_by_xpath(\"//form/input[position()<=2]\")\n",
    "for element in elements:\n",
    "    print(element.get_attribute(\"name\"))\n",
    "print(\"\\n\")\n",
    "elements = browser.find_elements_by_xpath(\"//body//input\")\n",
    "for element in elements:\n",
    "    print(element.get_attribute(\"name\"))\n",
    "print(\"\\n\")\n",
    "elements = browser.find_elements_by_xpath(\"//*[@name]\")\n",
    "for element in elements:\n",
    "    print(element.get_attribute(\"name\"))"
   ]
  },
  {
   "cell_type": "markdown",
   "id": "548b3bab",
   "metadata": {},
   "source": [
    "#### 由子元素定位父元素"
   ]
  },
  {
   "cell_type": "code",
   "execution_count": 11,
   "id": "dd1bf7cc",
   "metadata": {},
   "outputs": [
    {
     "name": "stdout",
     "output_type": "stream",
     "text": [
      "loginForm\n"
     ]
    }
   ],
   "source": [
    "element = browser.find_element_by_xpath(\"//input[@name='username']/..\")\n",
    "print(element.get_attribute(\"id\"))"
   ]
  },
  {
   "cell_type": "markdown",
   "id": "ba71f6e5",
   "metadata": {},
   "source": [
    "#### 定位兄弟元素"
   ]
  },
  {
   "cell_type": "code",
   "execution_count": 12,
   "id": "6c3a9fb2",
   "metadata": {},
   "outputs": [
    {
     "name": "stdout",
     "output_type": "stream",
     "text": [
      "username\n",
      "sign in\n",
      "clear\n"
     ]
    }
   ],
   "source": [
    "elements = browser.find_elements_by_xpath(\"//input[@name='password']/../input[position()!=2]\")\n",
    "for element in elements:\n",
    "    print(element.get_attribute(\"name\"))"
   ]
  },
  {
   "cell_type": "markdown",
   "id": "c8b9a397",
   "metadata": {},
   "source": [
    "## find_element_by_link_text\n",
    "根据链接的完整文本定位元素\n",
    "## find_element_by_partial_link_text\n",
    "根据链接的部分文本定位元素"
   ]
  },
  {
   "cell_type": "code",
   "execution_count": 13,
   "id": "9d25448d",
   "metadata": {},
   "outputs": [
    {
     "name": "stdout",
     "output_type": "stream",
     "text": [
      "力扣 https://leetcode-cn.com/\n",
      "力扣 https://leetcode-cn.com/\n"
     ]
    }
   ],
   "source": [
    "element = browser.find_element_by_link_text(\"力扣\")\n",
    "print(element.text, element.get_attribute(\"href\"))\n",
    "# element = browser.find_element(By.LINK_TEXT, \"力扣\")       # 可不记\n",
    "# print(element.text,element.get_attribute(\"href\"))\n",
    "\n",
    "element = browser.find_element_by_partial_link_text(\"力\")\n",
    "print(element.text,element.get_attribute(\"href\"))\n",
    "# element = browser.find_element(By.PARTIAL_LINK_TEXT, \"扣\") # 可不记\n",
    "# print(element.text,element.get_attribute(\"href\"))"
   ]
  },
  {
   "cell_type": "markdown",
   "id": "e5fbaad2",
   "metadata": {},
   "source": [
    "## 下载"
   ]
  },
  {
   "cell_type": "code",
   "execution_count": 103,
   "id": "ddaaf77b",
   "metadata": {},
   "outputs": [],
   "source": [
    "import urllib\n",
    "def download_by_urllib(url, path):\n",
    "    data = urllib.request.urlopen(url).read() \n",
    "    with open(path, \"wb\") as file: \n",
    "        file.write(data)\n",
    "\n",
    "import requests\n",
    "def download_by_requests(url, path):\n",
    "    data = requests.get(url) \n",
    "    with open(path, \"wb\") as file:\n",
    "        file.write(data.content)\n",
    "        \n",
    "url = \"https://msedgedriver.azureedge.net/96.0.1054.43/edgedriver_win64.zip\"\n",
    "# download_by_urllib(url, \"./temp/test3.zip\")\n",
    "# download_by_requests(url, \"./temp/test4.zip\")"
   ]
  },
  {
   "cell_type": "code",
   "execution_count": 104,
   "id": "e4b25cf9",
   "metadata": {},
   "outputs": [],
   "source": [
    "# 3种方法待对比改进\n",
    "url = \"https://repo.anaconda.com/archive/Anaconda3-2021.11-Windows-x86_64.exe\"\n",
    "\n",
    "# import os\n",
    "import requests\n",
    "import time\n",
    "\n",
    "# 进度条模块\n",
    "def progressbar(url,path):\n",
    "    # if not os.path.exists(path):   # 看是否有该文件夹，没有则创建文件夹\n",
    "    #      os.mkdir(path)\n",
    "    start = time.time() #下载开始时间\n",
    "    response = requests.get(url, stream=True)\n",
    "    size = 0    #初始化已下载大小\n",
    "    chunk_size = 1024  # 每次下载的数据大小\n",
    "    content_size = int(response.headers['content-length'])  # 下载文件总大小\n",
    "    if response.status_code == 200:   #判断是否响应成功\n",
    "        print('Start download,[File size]:{size:.2f} MB'.format(size = content_size / chunk_size /1024))   #开始下载，显示下载文件大小\n",
    "        # filepath = path+'\\Pikachu.jpg'  #设置图片name，注：必须加上扩展名\n",
    "        with open(path,'wb') as file:   #显示进度条\n",
    "            for data in response.iter_content(chunk_size = chunk_size):\n",
    "                file.write(data)\n",
    "                size +=len(data)\n",
    "                print('\\r'+'[下载进度]:%s%.2f%%' % ('>'*int(size*50/ content_size), float(size / content_size * 100)) ,end=' ')\n",
    "        end = time.time()   #下载结束时间\n",
    "        print('Download completed!,times: %.2f秒' % (end - start))  #输出下载用时时间\n",
    "    else:\n",
    "        print('Error!')\n",
    "\n",
    "#下载皮卡丘图片\n",
    "progressbar(url,\"anaconda1.exe\")\n",
    "\n",
    "#-----------------------------------------------------------------------------#\n",
    "\n",
    "import requests\n",
    "import time\n",
    "\n",
    "def downloadFile(name, url):\n",
    "    headers = {'Proxy-Connection':'keep-alive'}\n",
    "    r = requests.get(url, stream=True, headers=headers)\n",
    "    length = float(r.headers['content-length'])\n",
    "    f = open(name, 'wb')\n",
    "    count = 0\n",
    "    count_tmp = 0\n",
    "    time1 = time.time()\n",
    "    for chunk in r.iter_content(chunk_size = 512):\n",
    "        if chunk:\n",
    "            f.write(chunk)\n",
    "            count += len(chunk)\n",
    "            if time.time() - time1 > 2:\n",
    "                p = count / length * 100\n",
    "                speed = (count - count_tmp) / 1024 / 1024 / 2\n",
    "                count_tmp = count\n",
    "                print(name + ': ' + formatFloat(p) + '%' + ' Speed: ' + formatFloat(speed) + 'M/S')\n",
    "                time1 = time.time()\n",
    "    f.close()\n",
    "    \n",
    "def formatFloat(num):\n",
    "    return '{:.2f}'.format(num)\n",
    "    \n",
    "downloadFile(\"anaconda2.exe\", url)\n",
    "\n",
    "#-----------------------------------------------------------------------------#\n",
    "\n",
    "import os\n",
    "from urllib.request import urlopen\n",
    "\n",
    "import requests\n",
    "from tqdm import tqdm\n",
    "\n",
    "\n",
    "def download_from_url(url, dst):\n",
    "    \"\"\"\n",
    "    @param: url to download file\n",
    "    @param: dst place to put the file\n",
    "    \"\"\"\n",
    "    file_size = int(urlopen(url).info().get('Content-Length', -1))\n",
    "\n",
    "\n",
    "\n",
    "    if os.path.exists(dst):\n",
    "        first_byte = os.path.getsize(dst)\n",
    "    else:\n",
    "        first_byte = 0\n",
    "    if first_byte >= file_size:\n",
    "        return file_size\n",
    "    header = {\"Range\": \"bytes=%s-%s\" % (first_byte, file_size)}\n",
    "    pbar = tqdm(\n",
    "        total=file_size, initial=first_byte,\n",
    "        unit='B', unit_scale=True, desc=url.split('/')[-1])\n",
    "    req = requests.get(url, headers=header, stream=True)\n",
    "    with(open(dst, 'ab')) as f:\n",
    "        for chunk in req.iter_content(chunk_size=1024):\n",
    "            if chunk:\n",
    "                f.write(chunk)\n",
    "                pbar.update(1024)\n",
    "    pbar.close()\n",
    "    return file_size\n",
    "\n",
    "download_from_url(url, \"anaconda3.exe\")"
   ]
  },
  {
   "cell_type": "markdown",
   "id": "f1c01d89",
   "metadata": {},
   "source": [
    "## 下拉列表\n",
    "### 单选"
   ]
  },
  {
   "cell_type": "code",
   "execution_count": 14,
   "id": "37678328",
   "metadata": {},
   "outputs": [
    {
     "name": "stdout",
     "output_type": "stream",
     "text": [
      "0 : Select a region...\n",
      "1 : Africa and Middle East\n",
      "2 : Australia/NZ\n",
      "3 : East Asia\n",
      "4 : Eurasia\n",
      "5 : EU28\n",
      "6 : non-EU Europe\n",
      "7 : Latin America\n",
      "8 : Canada/US\n",
      "9 : South Asia\n",
      "10 : SE Asia\n"
     ]
    }
   ],
   "source": [
    "from selenium.webdriver.support.ui import Select\n",
    "selectors = Select(browser.find_element_by_xpath(\"//select[@class='form-control select-region']\")) # 定位: 3.下拉菜单(单选)\n",
    "options = selectors.options # 获取所有选项\n",
    "for index, option in enumerate(options):\n",
    "    print(index, ':', option.text) # 选项的文本"
   ]
  },
  {
   "cell_type": "code",
   "execution_count": 15,
   "id": "e0694723",
   "metadata": {},
   "outputs": [],
   "source": [
    "selectors.select_by_index(2) # 选择第三个"
   ]
  },
  {
   "cell_type": "code",
   "execution_count": 16,
   "id": "5c7a46c7",
   "metadata": {},
   "outputs": [],
   "source": [
    "selectors.select_by_visible_text(\"East Asia\") # 根据可见文本选择，即East Asia"
   ]
  },
  {
   "cell_type": "code",
   "execution_count": 17,
   "id": "1e7113c7",
   "metadata": {},
   "outputs": [],
   "source": [
    "selectors.select_by_value(\"foo\") # 根据value的赋值 foo 选择,即SE Asia"
   ]
  },
  {
   "cell_type": "markdown",
   "id": "5ce13416",
   "metadata": {},
   "source": [
    "### 多选"
   ]
  },
  {
   "cell_type": "code",
   "execution_count": 18,
   "id": "f89ec59f",
   "metadata": {},
   "outputs": [],
   "source": [
    "selectors = Select(browser.find_element_by_xpath(\"//select[@multiple='multiple']\")) # 定位: 4.下拉菜单(多选)\n",
    "options = selectors.options # 获取所有选项"
   ]
  },
  {
   "cell_type": "markdown",
   "id": "21659b6a",
   "metadata": {},
   "source": [
    "#### 取消单个选项"
   ]
  },
  {
   "cell_type": "code",
   "execution_count": 19,
   "id": "04a39319",
   "metadata": {},
   "outputs": [
    {
     "name": "stdout",
     "output_type": "stream",
     "text": [
      "小学\n",
      "初中\n",
      "本科\n",
      "研究生\n",
      "博士\n",
      "博士后\n",
      "请选择\n"
     ]
    }
   ],
   "source": [
    "# 全选\n",
    "for ii in range(len(options)):\n",
    "    selectors.select_by_index(ii)\n",
    "\n",
    "selectors.deselect_by_index(4) # 取消第5个选项，即大专\n",
    "selectors.deselect_by_visible_text(\"高中\") # 根据可见文本取消选择, 即高中\n",
    "selectors.deselect_by_value('3') # 根据value='3'取消选项,即中专\n",
    "\n",
    "# 打印所有已选的选项\n",
    "for elem in selectors.all_selected_options:\n",
    "    print(elem.text)"
   ]
  },
  {
   "cell_type": "markdown",
   "id": "954ecfbf",
   "metadata": {},
   "source": [
    "#### 取消所有选项"
   ]
  },
  {
   "cell_type": "code",
   "execution_count": 20,
   "id": "119e75a5",
   "metadata": {},
   "outputs": [],
   "source": [
    "# 全选\n",
    "for ii in range(len(options)):\n",
    "    selectors.select_by_index(ii)\n",
    "selectors.deselect_all() # 取消所有选项 \n",
    "# 打印所有已选的选项\n",
    "for elem in selectors.all_selected_options:\n",
    "    print(elem.text)"
   ]
  },
  {
   "cell_type": "code",
   "execution_count": 21,
   "id": "e795c40a",
   "metadata": {},
   "outputs": [],
   "source": [
    "browser.quit() # 退出浏览器"
   ]
  },
  {
   "cell_type": "markdown",
   "id": "69584076",
   "metadata": {},
   "source": [
    "## 键入\n",
    "\n",
    "ADD = '\\ue025'  \n",
    "ALT = '\\ue00a'  \n",
    "ARROW_DOWN = '\\ue015'  \n",
    "ARROW_LEFT = '\\ue012'  \n",
    "ARROW_RIGHT = '\\ue014'  \n",
    "ARROW_UP = '\\ue013'  \n",
    "BACKSPACE = '\\ue003'  \n",
    "BACK_SPACE = '\\ue003'  \n",
    "CANCEL = '\\ue001'  \n",
    "CLEAR = '\\ue005'  \n",
    "COMMAND = '\\ue03d'  \n",
    "CONTROL = '\\ue009'  \n",
    "DECIMAL = '\\ue028'  \n",
    "DELETE = '\\ue017'  \n",
    "DIVIDE = '\\ue029'  \n",
    "DOWN = '\\ue015'  \n",
    "END = '\\ue010'  \n",
    "ENTER = '\\ue007'  \n",
    "EQUALS = '\\ue019'  \n",
    "ESCAPE = '\\ue00c'  \n",
    "F1 = '\\ue031'  \n",
    "F2 = '\\ue032'  \n",
    "F3 = '\\ue033'  \n",
    "F4 = '\\ue034'  \n",
    "F5 = '\\ue035'  \n",
    "F6 = '\\ue036'  \n",
    "F7 = '\\ue037'  \n",
    "F8 = '\\ue038'  \n",
    "F9 = '\\ue039'  \n",
    "F10 = '\\ue03a'  \n",
    "F11 = '\\ue03b'  \n",
    "F12 = '\\ue03c'  \n",
    "HELP = '\\ue002'  \n",
    "HOME = '\\ue011'  \n",
    "INSERT = '\\ue016'  \n",
    "LEFT = '\\ue012'  \n",
    "LEFT_ALT = '\\ue00a'  \n",
    "LEFT_CONTROL = '\\ue009'  \n",
    "LEFT_SHIFT = '\\ue008'  \n",
    "META = '\\ue03d'  \n",
    "MULTIPLY = '\\ue024'  \n",
    "NULL = '\\ue000'  \n",
    "NUMPAD0 = '\\ue01a'  \n",
    "NUMPAD1 = '\\ue01b'  \n",
    "NUMPAD2 = '\\ue01c'  \n",
    "NUMPAD3 = '\\ue01d'  \n",
    "NUMPAD4 = '\\ue01e'  \n",
    "NUMPAD5 = '\\ue01f'  \n",
    "NUMPAD6 = '\\ue020'  \n",
    "NUMPAD7 = '\\ue021'  \n",
    "NUMPAD8 = '\\ue022'  \n",
    "NUMPAD9 = '\\ue023'  \n",
    "PAGE_DOWN = '\\ue00f'  \n",
    "PAGE_UP = '\\ue00e'  \n",
    "PAUSE = '\\ue00b'  \n",
    "RETURN = '\\ue006'  \n",
    "RIGHT = '\\ue014'  \n",
    "SEMICOLON = '\\ue018'  \n",
    "SEPARATOR = '\\ue026'  \n",
    "SHIFT = '\\ue008'  \n",
    "SPACE = '\\ue00d'  \n",
    "SUBTRACT = '\\ue027'  \n",
    "TAB = '\\ue004'  \n",
    "UP = '\\ue013'  "
   ]
  },
  {
   "cell_type": "code",
   "execution_count": 68,
   "id": "b2be1c3f",
   "metadata": {},
   "outputs": [],
   "source": [
    "browser = webdriver.Edge() # 打开浏览器\n",
    "browser.get(\"https://www.baidu.com/\") # 开始请求"
   ]
  },
  {
   "cell_type": "code",
   "execution_count": 69,
   "id": "5756b8f9",
   "metadata": {},
   "outputs": [],
   "source": [
    "element = browser.find_element_by_id(\"kw\") # 根据id定位输入框\n",
    "element.send_keys((Keys.SHIFT,'a'), \"_b\")  # 注意：Shift有延迟"
   ]
  },
  {
   "cell_type": "code",
   "execution_count": 70,
   "id": "a56a312e",
   "metadata": {},
   "outputs": [],
   "source": [
    "element.send_keys(\"_b\", Keys.SPACE, 'A')"
   ]
  },
  {
   "cell_type": "code",
   "execution_count": 71,
   "id": "a13cd202",
   "metadata": {},
   "outputs": [],
   "source": [
    "element.clear() # 清除对象的内容"
   ]
  },
  {
   "cell_type": "code",
   "execution_count": 72,
   "id": "88decfcc",
   "metadata": {},
   "outputs": [],
   "source": [
    "element.send_keys(\"天气\", Keys.ENTER)"
   ]
  },
  {
   "cell_type": "code",
   "execution_count": 73,
   "id": "ceb106d2",
   "metadata": {},
   "outputs": [],
   "source": [
    "element.clear() # 清除对象的内容\n",
    "element.send_keys('新闻')\n",
    "browser.find_element_by_id(\"su\").click() # 点击"
   ]
  },
  {
   "cell_type": "markdown",
   "id": "9a432214",
   "metadata": {},
   "source": [
    "## 浏览器对象操作\n",
    "\n",
    "对象操作| 功能\n",
    ":-|:-\n",
    "browser.get(url) | 打开url或本地html\n",
    "browser.close() | 关闭标签页\n",
    "browser.quit() | 退出浏览器\n",
    "browser.refresh() | 刷新\n",
    "browser.forward() | 前进\n",
    "browser.back() | 后退\n",
    " | \n",
    "browser.minimize_window() | 浏览器最小化\n",
    "browser.maximize_window() | 浏览器最大化\n",
    "browser.fullscreen_window() | 全屏模式\n",
    " | \n",
    "browser.current_url | 当前url\n",
    "browser.title | 当前页签标题\n",
    "browser.name | 浏览器的名字\n",
    "browser.current_window_handle | 浏览器的当前页签句柄\n",
    "browser.window_handles | 浏览器的所有页签句柄\n",
    "browser.page_source | 源代码\n",
    " | \n",
    "browser.save_screenshot(path) | 当前窗口的屏幕截图\n",
    "browser.get_screenshot_as_file(path) | 当前窗口的屏幕截图"
   ]
  },
  {
   "cell_type": "code",
   "execution_count": 74,
   "id": "eb8ec7d8",
   "metadata": {},
   "outputs": [
    {
     "name": "stdout",
     "output_type": "stream",
     "text": [
      "current_url: https://www.baidu.com/s?ie=utf-8&f=8&rsv_bp=1&rsv_idx=1&tn=baidu&wd=%E6%96%B0%E9%97%BB&fenlei=256&oq=%25E5%25A4%25A9%25E6%25B0%2594&rsv_pq=d5461af3000f73ba&rsv_t=aa02Jw8YfijyUFANiOmr5LKMBWVkTecgGdSBQaJ5EqqZbA%2BUvg7AZBJJYDs&rqlang=cn&rsv_enter=0&rsv_dl=tb&rsv_btype=t&inputT=297&rsv_sug1=3&rsv_sug7=100&rsv_sug4=298\n",
      "title: 新闻_百度搜索\n",
      "name: msedge\n",
      "current_window_handle: CDwindow-8A0FE814F5B3FEE6FD82CA004AE4E1F3\n"
     ]
    }
   ],
   "source": [
    "print(\"current_url:\", browser.current_url)\n",
    "print(\"title:\", browser.title)\n",
    "print(\"name:\", browser.name)\n",
    "print(\"current_window_handle:\", browser.current_window_handle)"
   ]
  },
  {
   "cell_type": "code",
   "execution_count": 75,
   "id": "477103c5",
   "metadata": {},
   "outputs": [
    {
     "data": {
      "text/plain": [
       "{'height': 1669, 'width': 1523, 'x': 9, 'y': 9}"
      ]
     },
     "execution_count": 75,
     "metadata": {},
     "output_type": "execute_result"
    }
   ],
   "source": [
    "browser.get_window_rect()"
   ]
  },
  {
   "cell_type": "code",
   "execution_count": 76,
   "id": "91a7e84a",
   "metadata": {},
   "outputs": [
    {
     "data": {
      "text/plain": [
       "{'x': 9, 'y': 9}"
      ]
     },
     "execution_count": 76,
     "metadata": {},
     "output_type": "execute_result"
    }
   ],
   "source": [
    "browser.get_window_position()"
   ]
  },
  {
   "cell_type": "code",
   "execution_count": 77,
   "id": "e1083475",
   "metadata": {},
   "outputs": [
    {
     "data": {
      "text/plain": [
       "{'width': 1523, 'height': 1669}"
      ]
     },
     "execution_count": 77,
     "metadata": {},
     "output_type": "execute_result"
    }
   ],
   "source": [
    "browser.get_window_size()"
   ]
  },
  {
   "cell_type": "code",
   "execution_count": 78,
   "id": "7601110f",
   "metadata": {},
   "outputs": [
    {
     "data": {
      "text/plain": [
       "{'height': 1670, 'width': 1524, 'x': 0, 'y': 0}"
      ]
     },
     "execution_count": 78,
     "metadata": {},
     "output_type": "execute_result"
    }
   ],
   "source": [
    "browser.set_window_position(x=0, y=0, windowHandle='current')"
   ]
  },
  {
   "cell_type": "code",
   "execution_count": 79,
   "id": "a2d56664",
   "metadata": {},
   "outputs": [],
   "source": [
    "browser.set_window_size(width=150, height=160, windowHandle='current')"
   ]
  },
  {
   "cell_type": "code",
   "execution_count": 80,
   "id": "201d4166",
   "metadata": {},
   "outputs": [
    {
     "data": {
      "text/plain": [
       "{'height': 1671, 'width': 1524, 'x': 8, 'y': 8}"
      ]
     },
     "execution_count": 80,
     "metadata": {},
     "output_type": "execute_result"
    }
   ],
   "source": [
    "browser.set_window_rect(x=9, y=9, width=1523, height=1669)"
   ]
  },
  {
   "cell_type": "markdown",
   "id": "468bd92c",
   "metadata": {},
   "source": [
    "## 滚动条"
   ]
  },
  {
   "cell_type": "code",
   "execution_count": 81,
   "id": "c86a4a90",
   "metadata": {},
   "outputs": [],
   "source": [
    "#将滚动条拖至底部\n",
    "js01 = \"var q=document.documentElement.scrollTop=10000\"\n",
    "#js01 = \"window.scrollTo(0, document.body.scrollHeight)\" # 与上行命令等价\n",
    "browser.execute_script(js01)"
   ]
  },
  {
   "cell_type": "code",
   "execution_count": 82,
   "id": "bc78a99b",
   "metadata": {},
   "outputs": [],
   "source": [
    "#将滚动条拖至顶部\n",
    "js02 = \"var q=document.documentElement.scrollTop=0\"\n",
    "browser.execute_script(js02)"
   ]
  },
  {
   "cell_type": "code",
   "execution_count": 83,
   "id": "a758df97",
   "metadata": {},
   "outputs": [],
   "source": [
    "#将滚动条拖至第500个像素处\n",
    "js03 = \"var q=document.documentElement.scrollTop=500\"\n",
    "browser.execute_script(js03)"
   ]
  },
  {
   "cell_type": "markdown",
   "id": "9f9874a9",
   "metadata": {},
   "source": [
    "## 页签操作"
   ]
  },
  {
   "cell_type": "code",
   "execution_count": 84,
   "id": "babff4be",
   "metadata": {},
   "outputs": [
    {
     "name": "stdout",
     "output_type": "stream",
     "text": [
      "当前页签句柄:  CDwindow-8A0FE814F5B3FEE6FD82CA004AE4E1F3\n",
      "当前页签句柄 before switch_to:  CDwindow-8A0FE814F5B3FEE6FD82CA004AE4E1F3\n",
      "当前页签句柄 after switch_to:  CDwindow-BDED7A89F360D14D11C83DC3C8B26624\n"
     ]
    }
   ],
   "source": [
    "window01 = browser.current_window_handle # 浏览器的当前页签句柄\n",
    "print(\"当前页签句柄: \", window01)\n",
    "\n",
    "browser.execute_script('window.open()')  # 打开一个新的空白网页窗口\n",
    "\n",
    "window_all = browser.window_handles      # 浏览器的所有页签句柄\n",
    "for window in window_all:\n",
    "    if window != window01:\n",
    "        window02 = window\n",
    "\n",
    "print(\"当前页签句柄 before switch_to: \", browser.current_window_handle)\n",
    "browser.switch_to.window(window02)       # 切换页签\n",
    "print(\"当前页签句柄 after switch_to: \", browser.current_window_handle)\n",
    "browser.get(\"https://www.baidu.com/\")"
   ]
  },
  {
   "cell_type": "code",
   "execution_count": 85,
   "id": "c037dc6f",
   "metadata": {},
   "outputs": [],
   "source": [
    "browser.close() # 关闭标签页"
   ]
  },
  {
   "cell_type": "code",
   "execution_count": 86,
   "id": "16fdb688",
   "metadata": {},
   "outputs": [],
   "source": [
    "browser.quit() # 退出浏览器"
   ]
  },
  {
   "cell_type": "markdown",
   "id": "446c3ed5",
   "metadata": {},
   "source": [
    "## 拖拽（待细化）"
   ]
  },
  {
   "cell_type": "code",
   "execution_count": 87,
   "id": "7c91ef8b",
   "metadata": {},
   "outputs": [
    {
     "name": "stdout",
     "output_type": "stream",
     "text": [
      "请拖拽我！\n",
      "\n",
      "请放置到这里！\n"
     ]
    }
   ],
   "source": [
    "from selenium import webdriver\n",
    "from selenium.webdriver import ActionChains\n",
    "\n",
    "browser = webdriver.Edge()#打开浏览器\n",
    "browser.set_window_size(240, 320) # 设置浏览器大小\n",
    "browser.set_window_position(0,0) # 设置浏览器位置\n",
    "browser.maximize_window() # 浏览器最大化\n",
    "req_url = \"http://www.runoob.com/try/try.php?filename=jqueryui-api-droppable\"\n",
    "browser.get(req_url)#开始请求\n",
    "\n",
    "browser.switch_to.frame('iframeResult') # 通过switch_to.frame切换到frame。因为需要移动对象在frame中，需要先切换至frame。\n",
    "source = browser.find_element_by_id('draggable') # 获取拖拽目标的起点，该元素在frame(id=\"iframeResult\")中\n",
    "print(source.text)\n",
    "\n",
    "browser.switch_to.default_content() # 返回上一级\n",
    "## or\n",
    "#browser.switch_to.parent_frame() #切换至frame的上一级\n",
    "logo = browser.find_element_by_class_name('logo') # 获取logo的元素，该元素在frame(id=\"iframeResult\")的上一级中\n",
    "print(logo.text)\n",
    "\n",
    "browser.switch_to.frame('iframeResult') # 通过switch_to.frame切换到frame。因为需要移动对象在frame中，需要先切换至frame。\n",
    "target = browser.find_element_by_id('droppable') # 获取拖拽目标的终点，该元素在frame(id=\"iframeResult\")中\n",
    "print(target.text)\n",
    "\n",
    "action_chains01 = ActionChains(browser)\n",
    "action_chains01.drag_and_drop(source, target).perform() # 执行拖拽操作\n",
    "\n",
    "#对话框操作\n",
    "alert01 = browser.switch_to.alert # 通过switch_to.alert切换到alert\n",
    "alert01.dismiss()  #关闭对话框\n",
    "browser.execute_script(\"alert('请关闭Alert!')\") # 自创一个Alert\n",
    "alert01.accept()   #点击对话框中的确定按钮\n",
    "\n",
    "#browser.switch_to.frame(\"frameName.0.child\") # 通过“.”操作符你还可以获得子frame，并通过下标指定任意frame # （未测试）\n",
    "\n",
    "##ActionChains类操作鼠标事件\n",
    "#ActionChains(browser).context_click(element).perform() # 鼠标右击\n",
    "#ActionChains(browser).double_click(element).perform() # 鼠标双击\n",
    "#ActionChains(browser).click(element).perform() # 鼠标点击\n",
    "#ActionChains(browser).click_and_hold(element).perform() # 按住鼠标左键不动\n",
    "#ActionChains(browser).move_to_element(element).perform() # 移动到某个元素\n",
    "#ActionChains(browser).move_by_offset(xoffset,yoffset).perform() # 移动到某个坐标\n",
    "#ActionChains(browser).drag_and_drop_by_offset(source,xoffset,yoffset).perform() # 按照坐标移动"
   ]
  },
  {
   "cell_type": "markdown",
   "id": "ddf36164",
   "metadata": {},
   "source": [
    "## 等待\n",
    "### 显示等待\n",
    "http://selenium-python.readthedocs.io/api.html#module-selenium.webdriver.support.expected_conditions"
   ]
  },
  {
   "cell_type": "code",
   "execution_count": null,
   "id": "5cd4cca5",
   "metadata": {},
   "outputs": [],
   "source": [
    "from selenium.webdriver.common.by import By\n",
    "from selenium.webdriver.support.ui import WebDriverWait\n",
    "from selenium.webdriver.support import expected_conditions\n",
    "\n",
    "WebDriverWait(browser,1).until( expected_conditions.presence_of_element_located((By.ID, 'id_name')) )\n",
    "WebDriverWait(browser,1).until( expected_conditions.presence_of_element_located((By.XPATH,\"//tbody/tr[@role='row']/td[1]/a\")) )"
   ]
  },
  {
   "cell_type": "markdown",
   "id": "db441d2c",
   "metadata": {},
   "source": [
    "WebDriverWait(browser, timeout, poll_frequency=0.5, ignored_exceptions=None)  \n",
    "browser:浏览器  \n",
    "timeout:最长超时时间，默认以秒为单位  \n",
    "poll_frequency:休眠时间的间隔（步长）时间，默认为0.5 秒  \n",
    "ignored_exceptions:超时后的异常信息，默认情况下抛NoSuchElementException异常。  \n",
    "\n",
    "expected_conditions.presence_of_element_located(locator)        # 判断定位(的元素)是否存在(存在包含可见和不可见)  \n",
    "expected_conditions.presence_of_all_elements_located(locator)   # 判断至少有一个定位(的元素)存在  \n",
    "\n",
    "Visibility means that the element is not only displayed but also has a height and width that is greater than 0.\n",
    "expected_conditions.visibility_of(element)                      # 判断元素是否可见 \n",
    "expected_conditions.visibility_of_element_located(locator)      # 判断定位(的元素)是否可见  \n",
    "expected_conditions.visibility_of_all_elements_located(locator) # 判断所有定位(的元素)是否可见  \n",
    "expected_conditions.visibility_of_any_elements_located(locator) # 判断至少有一个定位(的元素)可见  \n",
    "expected_conditions.invisibility_of_element_located(locator)    # 判断定位(的元素)是否不可见  \n",
    "\n",
    "expected_conditions.staleness_of(locator)                       # 判断不再新加载定位(的元素)，即所有定位(的元素)全部加载完毕  \n",
    "\n",
    "expected_conditions.element_to_be_clickable(locator)            # 判断定位定位(的元素)是否可点击  \n",
    "expected_conditions.alert_is_present                            # 判断 alert 是否存在  \n",
    "expected_conditions.frame_to_be_available_and_switch_to_it(locator) # 判断是否可切换至该frame  \n",
    "\n",
    "\n",
    "expected_conditions.title_is(str)        # 判断标题是否等于str  \n",
    "expected_conditions.title_contains(str)  # 判断标题是否包含区分大小写的str  \n",
    "\n",
    "expected_conditions.url_changes(url)     # 判断url是否改变  \n",
    "expected_conditions.url_contains(str)    # 判断当前url是否包含区分大小写的str  \n",
    "expected_conditions.url_to_be(str)       # 判断当前url是否等于str \n",
    "expected_conditions.url_matches(pattern) # 判断当前url是否与 pattern 匹配\n",
    "\n",
    "expected_conditions.text_to_be_present_in_element(locator, text_) # 判断给定的文本是否出现在定位的元素中  \n",
    "expected_conditions.text_to_be_present_in_element_value(locator, text_)  \n",
    "\n",
    "expected_conditions.new_window_is_opened(current_handles) # 判断新窗口是否打开  \n",
    "expected_conditions.number_of_windows_to_be(num_windows)  # 判断窗口的数量是否等于num_windows  \n",
    "\n",
    "expected_conditions.element_to_be_selected(element)                             # 判断给定的元素是否被选中  \n",
    "expected_conditions.element_located_to_be_selected(locator)                     # 判断定位的元素是否被选中  \n",
    "expected_conditions.element_selection_state_to_be(element, is_selected)         # checking if the given element is selected。其中，is_selected布尔变量  \n",
    "expected_conditions.element_located_selection_state_to_be(locator, is_selected) # locate an element and check if the selection state specified is in that state。其中，is_selected布尔变量  "
   ]
  },
  {
   "cell_type": "markdown",
   "id": "12ebfbac",
   "metadata": {},
   "source": [
    "### 隐式等待"
   ]
  },
  {
   "cell_type": "markdown",
   "id": "aa957304",
   "metadata": {},
   "source": [
    "browser.implicitly_wait(10)  \n",
    "设置了一个最长等待时间，如果在规定时间内网页加载完成，则执行下一步，否则一直等到时间截止，然后执行下一步。  \n",
    "注意这里有一个弊端，那就是程序会一直等待整个页面加载完成，也就是一般情况下你看到浏览器标签栏那个小圈不再转，才会执行下一步。  "
   ]
  },
  {
   "cell_type": "markdown",
   "id": "8a5c2053",
   "metadata": {},
   "source": [
    "## cookie\n",
    "暂时没搞懂"
   ]
  },
  {
   "cell_type": "code",
   "execution_count": null,
   "id": "024b92c4",
   "metadata": {},
   "outputs": [],
   "source": [
    "req_url = 'https://www.baidu.com/'\n",
    "browser = webdriver.Chrome()#打开浏览器\n",
    "browser.get(req_url)#开始请求\n",
    "#cookie = {'name':'foo','value':'bar'}\n",
    "browser.get_cookies() # 获取所有cookie\n",
    "#browser.add_cookie(cookie) # 添加一个新的cookie\n",
    "#browser.delete_all_cookies() #删除所有的cookie"
   ]
  },
  {
   "cell_type": "code",
   "execution_count": null,
   "id": "0f003f5e",
   "metadata": {},
   "outputs": [],
   "source": []
  },
  {
   "cell_type": "code",
   "execution_count": null,
   "id": "0a81d25a",
   "metadata": {},
   "outputs": [],
   "source": []
  }
 ],
 "metadata": {
  "kernelspec": {
   "display_name": "Python 3 (ipykernel)",
   "language": "python",
   "name": "python3"
  },
  "language_info": {
   "codemirror_mode": {
    "name": "ipython",
    "version": 3
   },
   "file_extension": ".py",
   "mimetype": "text/x-python",
   "name": "python",
   "nbconvert_exporter": "python",
   "pygments_lexer": "ipython3",
   "version": "3.9.7"
  },
  "toc": {
   "base_numbering": 1,
   "nav_menu": {},
   "number_sections": true,
   "sideBar": true,
   "skip_h1_title": false,
   "title_cell": "Table of Contents",
   "title_sidebar": "Contents",
   "toc_cell": false,
   "toc_position": {
    "height": "calc(100% - 180px)",
    "left": "10px",
    "top": "150px",
    "width": "306.875px"
   },
   "toc_section_display": true,
   "toc_window_display": true
  }
 },
 "nbformat": 4,
 "nbformat_minor": 5
}
