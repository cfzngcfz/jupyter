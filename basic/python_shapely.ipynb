{
 "cells": [
  {
   "cell_type": "markdown",
   "id": "9389a7be",
   "metadata": {},
   "source": [
    "https://shapely.readthedocs.io/en/stable/  \n",
    "Shapely is a Python package for set-theoretic analysis and manipulation of planar features using (via Python’s ctypes module) functions from the well known and widely deployed GEOS library.(https://libgeos.org/)\n",
    "GEOS, a port of the Java Topology Suite (JTS), is the geometry engine of the PostGIS spatial extension for the PostgreSQL RDBMS.\n",
    "* Shapely does not support coordinate system transformations.\n",
    "* Shapely is a planar geometry library and z, the height above or below the plane, is ignored in geometric analysis. \n",
    "\n",
    "refer to: https://www.cnblogs.com/giserliu/p/4993697.html  \n",
    "https://blog.csdn.net/linzi1994/article/details/106484538\n",
    "\n",
    "\n",
    "https://web.archive.org/web/20160719195511/http://www.vividsolutions.com/jts/discussion.htm"
   ]
  },
  {
   "cell_type": "code",
   "execution_count": null,
   "id": "1bf3480b",
   "metadata": {},
   "outputs": [],
   "source": [
    "# conda install shapely --channel conda-forge"
   ]
  },
  {
   "cell_type": "markdown",
   "id": "910bef43",
   "metadata": {},
   "source": [
    "# object\n",
    "## Point"
   ]
  },
  {
   "cell_type": "code",
   "execution_count": 86,
   "id": "97d8e1f3",
   "metadata": {},
   "outputs": [],
   "source": [
    "from shapely.geometry import Point"
   ]
  },
  {
   "cell_type": "markdown",
   "id": "d84bc5fb",
   "metadata": {},
   "source": [
    "### 构造"
   ]
  },
  {
   "cell_type": "code",
   "execution_count": 87,
   "id": "8e0442db",
   "metadata": {},
   "outputs": [
    {
     "data": {
      "text/plain": [
       "True"
      ]
     },
     "execution_count": 87,
     "metadata": {},
     "output_type": "execute_result"
    }
   ],
   "source": [
    "Point(0.0, 0.0) == Point((0.0, 0.0)) == Point(0, 0) == Point((0, 0)) "
   ]
  },
  {
   "cell_type": "code",
   "execution_count": 88,
   "id": "361541ac",
   "metadata": {},
   "outputs": [],
   "source": [
    "point = Point(0.0, 0.0)"
   ]
  },
  {
   "cell_type": "code",
   "execution_count": 89,
   "id": "77b1c808",
   "metadata": {},
   "outputs": [
    {
     "data": {
      "image/svg+xml": [
       "<svg xmlns=\"http://www.w3.org/2000/svg\" xmlns:xlink=\"http://www.w3.org/1999/xlink\" width=\"100.0\" height=\"100.0\" viewBox=\"-1.0 -1.0 2.0 2.0\" preserveAspectRatio=\"xMinYMin meet\"><g transform=\"matrix(1,0,0,-1,0,0.0)\"><circle cx=\"0.0\" cy=\"0.0\" r=\"0.06\" stroke=\"#555555\" stroke-width=\"0.02\" fill=\"#66cc99\" opacity=\"0.6\" /></g></svg>"
      ],
      "text/plain": [
       "<shapely.geometry.point.Point at 0x7f96709ce670>"
      ]
     },
     "execution_count": 89,
     "metadata": {},
     "output_type": "execute_result"
    }
   ],
   "source": [
    "point"
   ]
  },
  {
   "cell_type": "code",
   "execution_count": 95,
   "id": "8966a3e5",
   "metadata": {},
   "outputs": [
    {
     "name": "stdout",
     "output_type": "stream",
     "text": [
      "POINT (0 0)\n"
     ]
    }
   ],
   "source": [
    "print(point)"
   ]
  },
  {
   "cell_type": "code",
   "execution_count": 85,
   "id": "e470a3d4",
   "metadata": {},
   "outputs": [
    {
     "name": "stdout",
     "output_type": "stream",
     "text": [
      "Point\n",
      "area = 0.0\n",
      "length = 0.0\n",
      "(min_x, min_y, max_x, max_y) = (0.0, 0.0, 0.0, 0.0)\n"
     ]
    }
   ],
   "source": [
    "print(point.geom_type)\n",
    "print(\"area =\", point.area)\n",
    "print(\"length =\", point.length)\n",
    "print(\"(min_x, min_y, max_x, max_y) =\", point.bounds)"
   ]
  },
  {
   "cell_type": "markdown",
   "id": "5b3a3f18",
   "metadata": {},
   "source": [
    "### 坐标"
   ]
  },
  {
   "cell_type": "code",
   "execution_count": 90,
   "id": "531bfb41",
   "metadata": {},
   "outputs": [
    {
     "data": {
      "text/plain": [
       "[(0.0, 0.0)]"
      ]
     },
     "execution_count": 90,
     "metadata": {},
     "output_type": "execute_result"
    }
   ],
   "source": [
    "list(point.coords)"
   ]
  },
  {
   "cell_type": "code",
   "execution_count": 91,
   "id": "eea7c0b0",
   "metadata": {},
   "outputs": [
    {
     "data": {
      "text/plain": [
       "[(0.0, 0.0)]"
      ]
     },
     "execution_count": 91,
     "metadata": {},
     "output_type": "execute_result"
    }
   ],
   "source": [
    "point.coords[:]"
   ]
  },
  {
   "cell_type": "code",
   "execution_count": 92,
   "id": "7853eecd",
   "metadata": {},
   "outputs": [
    {
     "name": "stdout",
     "output_type": "stream",
     "text": [
      "x = 0.0 , y = 0.0\n"
     ]
    }
   ],
   "source": [
    "print(\"x =\", point.x, \", y =\", point.y)"
   ]
  },
  {
   "cell_type": "markdown",
   "id": "b1888bb6",
   "metadata": {},
   "source": [
    "### buffer"
   ]
  },
  {
   "cell_type": "code",
   "execution_count": 97,
   "id": "f245a373",
   "metadata": {},
   "outputs": [],
   "source": [
    "patch = Point(0.0, 0.0).buffer(10.0)"
   ]
  },
  {
   "cell_type": "code",
   "execution_count": 98,
   "id": "d321bb11",
   "metadata": {},
   "outputs": [
    {
     "data": {
      "image/svg+xml": [
       "<svg xmlns=\"http://www.w3.org/2000/svg\" xmlns:xlink=\"http://www.w3.org/1999/xlink\" width=\"100.0\" height=\"100.0\" viewBox=\"-10.8 -10.8 21.6 21.6\" preserveAspectRatio=\"xMinYMin meet\"><g transform=\"matrix(1,0,0,-1,0,0.0)\"><path fill-rule=\"evenodd\" fill=\"#66cc99\" stroke=\"#555555\" stroke-width=\"0.43200000000000005\" opacity=\"0.6\" d=\"M 10.0,0.0 L 9.95184726672197,-0.980171403295606 L 9.807852804032304,-1.9509032201612824 L 9.569403357322088,-2.902846772544623 L 9.238795325112868,-3.826834323650898 L 8.819212643483551,-4.7139673682599765 L 8.314696123025453,-5.555702330196022 L 7.73010453362737,-6.343932841636455 L 7.0710678118654755,-7.071067811865475 L 6.343932841636455,-7.73010453362737 L 5.555702330196023,-8.314696123025453 L 4.713967368259978,-8.81921264348355 L 3.8268343236508984,-9.238795325112868 L 2.902846772544623,-9.56940335732209 L 1.9509032201612833,-9.807852804032304 L 0.9801714032956077,-9.951847266721968 L 6.123233995736766e-16,-10.0 L -0.9801714032956065,-9.95184726672197 L -1.950903220161282,-9.807852804032304 L -2.9028467725446214,-9.56940335732209 L -3.826834323650897,-9.238795325112868 L -4.713967368259977,-8.819212643483551 L -5.55570233019602,-8.314696123025454 L -6.3439328416364535,-7.730104533627371 L -7.071067811865475,-7.0710678118654755 L -7.73010453362737,-6.343932841636455 L -8.314696123025453,-5.555702330196022 L -8.81921264348355,-4.713967368259978 L -9.238795325112868,-3.826834323650899 L -9.569403357322088,-2.902846772544624 L -9.807852804032304,-1.9509032201612861 L -9.951847266721968,-0.9801714032956083 L -10.0,-1.2246467991473533e-15 L -9.95184726672197,0.9801714032956059 L -9.807852804032304,1.9509032201612837 L -9.56940335732209,2.902846772544621 L -9.238795325112868,3.8268343236508966 L -8.819212643483551,4.7139673682599765 L -8.314696123025454,5.55570233019602 L -7.730104533627371,6.343932841636453 L -7.071067811865477,7.071067811865475 L -6.343932841636459,7.730104533627367 L -5.555702330196022,8.314696123025453 L -4.713967368259978,8.81921264348355 L -3.8268343236509033,9.238795325112864 L -2.9028467725446245,9.569403357322088 L -1.9509032201612866,9.807852804032303 L -0.9801714032956045,9.95184726672197 L -1.8369701987210296e-15,10.0 L 0.9801714032956009,9.95184726672197 L 1.950903220161283,9.807852804032304 L 2.9028467725446205,9.56940335732209 L 3.8268343236509,9.238795325112866 L 4.713967368259976,8.819212643483551 L 5.555702330196018,8.314696123025454 L 6.343932841636456,7.730104533627369 L 7.071067811865474,7.071067811865477 L 7.730104533627367,6.343932841636459 L 8.314696123025453,5.555702330196022 L 8.819212643483548,4.713967368259979 L 9.238795325112864,3.826834323650904 L 9.569403357322088,2.902846772544625 L 9.807852804032303,1.9509032201612873 L 9.95184726672197,0.980171403295605 L 10.0,0.0 z\" /></g></svg>"
      ],
      "text/plain": [
       "<shapely.geometry.polygon.Polygon at 0x7f96709208b0>"
      ]
     },
     "execution_count": 98,
     "metadata": {},
     "output_type": "execute_result"
    }
   ],
   "source": [
    "patch"
   ]
  },
  {
   "cell_type": "code",
   "execution_count": 99,
   "id": "6fb7921f",
   "metadata": {},
   "outputs": [],
   "source": [
    "donut = Point(0, 0).buffer(2.0).difference(Point(0, 0).buffer(1.0))"
   ]
  },
  {
   "cell_type": "code",
   "execution_count": 102,
   "id": "6d60b9cd",
   "metadata": {},
   "outputs": [
    {
     "data": {
      "image/svg+xml": [
       "<svg xmlns=\"http://www.w3.org/2000/svg\" xmlns:xlink=\"http://www.w3.org/1999/xlink\" width=\"100.0\" height=\"100.0\" viewBox=\"-2.16 -2.16 4.32 4.32\" preserveAspectRatio=\"xMinYMin meet\"><g transform=\"matrix(1,0,0,-1,0,0.0)\"><path fill-rule=\"evenodd\" fill=\"#66cc99\" stroke=\"#555555\" stroke-width=\"0.0864\" opacity=\"0.6\" d=\"M 1.9903694533443939,-0.1960342806591212 L 1.9615705608064609,-0.3901806440322565 L 1.9138806714644176,-0.5805693545089247 L 1.8477590650225735,-0.7653668647301796 L 1.76384252869671,-0.9427934736519953 L 1.6629392246050905,-1.1111404660392044 L 1.546020906725474,-1.268786568327291 L 1.4142135623730951,-1.414213562373095 L 1.268786568327291,-1.546020906725474 L 1.1111404660392046,-1.6629392246050905 L 0.9427934736519956,-1.7638425286967099 L 0.7653668647301797,-1.8477590650225735 L 0.5805693545089247,-1.9138806714644179 L 0.39018064403225666,-1.9615705608064609 L 0.19603428065912154,-1.9903694533443936 L 1.2246467991473532e-16,-2.0 L -0.1960342806591213,-1.9903694533443939 L -0.3901806440322564,-1.9615705608064609 L -0.5805693545089243,-1.9138806714644179 L -0.7653668647301795,-1.8477590650225735 L -0.9427934736519954,-1.76384252869671 L -1.111140466039204,-1.662939224605091 L -1.2687865683272908,-1.5460209067254742 L -1.414213562373095,-1.4142135623730951 L -1.546020906725474,-1.268786568327291 L -1.6629392246050907,-1.1111404660392044 L -1.7638425286967099,-0.9427934736519957 L -1.8477590650225735,-0.7653668647301798 L -1.9138806714644176,-0.5805693545089248 L -1.9615705608064609,-0.3901806440322572 L -1.9903694533443936,-0.19603428065912165 L -2.0,-2.4492935982947064e-16 L -1.9903694533443939,0.19603428065912118 L -1.9615705608064609,0.3901806440322567 L -1.9138806714644179,0.5805693545089242 L -1.8477590650225737,0.7653668647301793 L -1.76384252869671,0.9427934736519953 L -1.662939224605091,1.111140466039204 L -1.5460209067254742,1.2687865683272905 L -1.4142135623730954,1.414213562373095 L -1.2687865683272919,1.5460209067254733 L -1.1111404660392044,1.6629392246050905 L -0.9427934736519957,1.7638425286967099 L -0.7653668647301807,1.847759065022573 L -0.5805693545089249,1.9138806714644176 L -0.39018064403225733,1.9615705608064606 L -0.1960342806591209,1.9903694533443939 L -3.6739403974420594e-16,2.0 L 0.19603428065912018,1.9903694533443939 L 0.3901806440322566,1.9615705608064609 L 0.5805693545089241,1.9138806714644179 L 0.76536686473018,1.8477590650225733 L 0.9427934736519952,1.76384252869671 L 1.1111404660392037,1.662939224605091 L 1.2687865683272912,1.5460209067254738 L 1.4142135623730947,1.4142135623730954 L 1.5460209067254733,1.2687865683272919 L 1.6629392246050905,1.1111404660392044 L 1.7638425286967097,0.9427934736519958 L 1.847759065022573,0.7653668647301808 L 1.9138806714644176,0.580569354508925 L 1.9615705608064606,0.39018064403225744 L 1.9903694533443939,0.196034280659121 L 2.0,0.0 L 1.9903694533443939,-0.1960342806591212 z M 0.9951847266721969,0.0980171403295605 L 0.9807852804032303,0.19509032201612872 L 0.9569403357322088,0.2902846772544625 L 0.9238795325112865,0.3826834323650904 L 0.8819212643483548,0.4713967368259979 L 0.8314696123025452,0.5555702330196022 L 0.7730104533627367,0.6343932841636459 L 0.7071067811865474,0.7071067811865477 L 0.6343932841636456,0.7730104533627369 L 0.5555702330196018,0.8314696123025455 L 0.4713967368259976,0.881921264348355 L 0.38268343236509,0.9238795325112866 L 0.29028467725446205,0.9569403357322089 L 0.1950903220161283,0.9807852804032304 L 0.09801714032956009,0.9951847266721969 L -1.8369701987210297e-16,1.0 L -0.09801714032956045,0.9951847266721969 L -0.19509032201612866,0.9807852804032303 L -0.29028467725446244,0.9569403357322088 L -0.38268343236509034,0.9238795325112865 L -0.47139673682599786,0.8819212643483549 L -0.5555702330196022,0.8314696123025452 L -0.6343932841636459,0.7730104533627367 L -0.7071067811865477,0.7071067811865475 L -0.7730104533627371,0.6343932841636453 L -0.8314696123025455,0.555570233019602 L -0.881921264348355,0.47139673682599764 L -0.9238795325112868,0.38268343236508967 L -0.9569403357322089,0.2902846772544621 L -0.9807852804032304,0.19509032201612836 L -0.9951847266721969,0.09801714032956059 L -1.0,-1.2246467991473532e-16 L -0.9951847266721968,-0.09801714032956083 L -0.9807852804032304,-0.1950903220161286 L -0.9569403357322088,-0.2902846772544624 L -0.9238795325112867,-0.3826834323650899 L -0.8819212643483549,-0.47139673682599786 L -0.8314696123025453,-0.5555702330196022 L -0.773010453362737,-0.6343932841636455 L -0.7071067811865475,-0.7071067811865476 L -0.6343932841636454,-0.7730104533627371 L -0.555570233019602,-0.8314696123025455 L -0.4713967368259977,-0.881921264348355 L -0.3826834323650897,-0.9238795325112867 L -0.29028467725446216,-0.9569403357322089 L -0.1950903220161282,-0.9807852804032304 L -0.09801714032956065,-0.9951847266721969 L 6.123233995736766e-17,-1.0 L 0.09801714032956077,-0.9951847266721968 L 0.19509032201612833,-0.9807852804032304 L 0.29028467725446233,-0.9569403357322089 L 0.38268343236508984,-0.9238795325112867 L 0.4713967368259978,-0.8819212643483549 L 0.5555702330196023,-0.8314696123025452 L 0.6343932841636455,-0.773010453362737 L 0.7071067811865476,-0.7071067811865475 L 0.773010453362737,-0.6343932841636455 L 0.8314696123025452,-0.5555702330196022 L 0.881921264348355,-0.47139673682599764 L 0.9238795325112867,-0.3826834323650898 L 0.9569403357322088,-0.29028467725446233 L 0.9807852804032304,-0.19509032201612825 L 0.9951847266721969,-0.0980171403295606 L 1.0,0.0 L 0.9951847266721969,0.0980171403295605 z\" /></g></svg>"
      ],
      "text/plain": [
       "<shapely.geometry.polygon.Polygon at 0x7f9670b24070>"
      ]
     },
     "execution_count": 102,
     "metadata": {},
     "output_type": "execute_result"
    }
   ],
   "source": [
    "donut"
   ]
  },
  {
   "cell_type": "code",
   "execution_count": 100,
   "id": "e00d6648",
   "metadata": {},
   "outputs": [
    {
     "name": "stdout",
     "output_type": "stream",
     "text": [
      "POINT (0 0)\n"
     ]
    }
   ],
   "source": [
    "print(donut.centroid)"
   ]
  },
  {
   "cell_type": "code",
   "execution_count": 101,
   "id": "e255b985",
   "metadata": {},
   "outputs": [
    {
     "name": "stdout",
     "output_type": "stream",
     "text": [
      "POINT (1.4975923633360986 0.0490085701647802)\n"
     ]
    }
   ],
   "source": [
    "print(donut.representative_point())"
   ]
  },
  {
   "cell_type": "markdown",
   "id": "2c994b85",
   "metadata": {},
   "source": [
    "## LineString"
   ]
  },
  {
   "cell_type": "code",
   "execution_count": 61,
   "id": "2bf9a6fe",
   "metadata": {},
   "outputs": [],
   "source": [
    "from shapely.geometry import LineString"
   ]
  },
  {
   "cell_type": "markdown",
   "id": "fe7626c2",
   "metadata": {},
   "source": [
    "### 构造"
   ]
  },
  {
   "cell_type": "code",
   "execution_count": 132,
   "id": "21f13973",
   "metadata": {},
   "outputs": [],
   "source": [
    "line = LineString([(0, 0), (1, 1), (0, 2), (2, 2), (3, 1), (1, 0)])"
   ]
  },
  {
   "cell_type": "code",
   "execution_count": 133,
   "id": "9d753c3e",
   "metadata": {},
   "outputs": [
    {
     "data": {
      "image/svg+xml": [
       "<svg xmlns=\"http://www.w3.org/2000/svg\" xmlns:xlink=\"http://www.w3.org/1999/xlink\" width=\"100.0\" height=\"100.0\" viewBox=\"-0.12 -0.12 3.24 2.24\" preserveAspectRatio=\"xMinYMin meet\"><g transform=\"matrix(1,0,0,-1,0,2.0)\"><polyline fill=\"none\" stroke=\"#66cc99\" stroke-width=\"0.06480000000000001\" points=\"0.0,0.0 1.0,1.0 0.0,2.0 2.0,2.0 3.0,1.0 1.0,0.0\" opacity=\"0.8\" /></g></svg>"
      ],
      "text/plain": [
       "<shapely.geometry.linestring.LineString at 0x7f9670b35160>"
      ]
     },
     "execution_count": 133,
     "metadata": {},
     "output_type": "execute_result"
    }
   ],
   "source": [
    "line"
   ]
  },
  {
   "cell_type": "code",
   "execution_count": 134,
   "id": "ef80e75f",
   "metadata": {},
   "outputs": [
    {
     "name": "stdout",
     "output_type": "stream",
     "text": [
      "LineString\n",
      "area = 0.0\n",
      "length = 8.478708664619074\n",
      "(min_x, min_y, max_x, max_y) = (0.0, 0.0, 3.0, 2.0)\n"
     ]
    }
   ],
   "source": [
    "print(line.geom_type)\n",
    "print(\"area =\", line.area)\n",
    "print(\"length =\", line.length)\n",
    "print(\"(min_x, min_y, max_x, max_y) =\", line.bounds)"
   ]
  },
  {
   "cell_type": "markdown",
   "id": "743de7c3",
   "metadata": {},
   "source": [
    "### 坐标"
   ]
  },
  {
   "cell_type": "code",
   "execution_count": 135,
   "id": "ccdc1003",
   "metadata": {},
   "outputs": [
    {
     "data": {
      "text/plain": [
       "[(0.0, 0.0), (1.0, 1.0), (0.0, 2.0), (2.0, 2.0), (3.0, 1.0), (1.0, 0.0)]"
      ]
     },
     "execution_count": 135,
     "metadata": {},
     "output_type": "execute_result"
    }
   ],
   "source": [
    "list(line.coords)"
   ]
  },
  {
   "cell_type": "code",
   "execution_count": 136,
   "id": "d26508a2",
   "metadata": {},
   "outputs": [
    {
     "data": {
      "text/plain": [
       "[(0.0, 0.0), (1.0, 1.0), (0.0, 2.0), (2.0, 2.0), (3.0, 1.0), (1.0, 0.0)]"
      ]
     },
     "execution_count": 136,
     "metadata": {},
     "output_type": "execute_result"
    }
   ],
   "source": [
    "line.coords[:]"
   ]
  },
  {
   "cell_type": "code",
   "execution_count": 137,
   "id": "6def1561",
   "metadata": {},
   "outputs": [
    {
     "data": {
      "text/plain": [
       "[(1.0, 1.0), (0.0, 2.0), (2.0, 2.0), (3.0, 1.0), (1.0, 0.0)]"
      ]
     },
     "execution_count": 137,
     "metadata": {},
     "output_type": "execute_result"
    }
   ],
   "source": [
    "line.coords[1:]"
   ]
  },
  {
   "cell_type": "markdown",
   "id": "01b2b7a2",
   "metadata": {},
   "source": [
    "## LinearRing\n",
    "* 有序序列中的重复点是允许的，但可能会导致性能损失，因此应避免\n",
    "* LinearRing 不能与自身交叉，也不能在单个点上接触自身"
   ]
  },
  {
   "cell_type": "code",
   "execution_count": 138,
   "id": "bf71068c",
   "metadata": {},
   "outputs": [],
   "source": [
    "from shapely.geometry import LinearRing"
   ]
  },
  {
   "cell_type": "markdown",
   "id": "21ac7519",
   "metadata": {},
   "source": [
    "### 构造"
   ]
  },
  {
   "cell_type": "code",
   "execution_count": 139,
   "id": "7619feb9",
   "metadata": {},
   "outputs": [],
   "source": [
    "ring = LinearRing([(0, 0), (0, 2), (1, 1), (2, 2), (2, 0), (1, 0.8), (0, 0)])"
   ]
  },
  {
   "cell_type": "code",
   "execution_count": 140,
   "id": "687b3cb5",
   "metadata": {},
   "outputs": [
    {
     "data": {
      "image/svg+xml": [
       "<svg xmlns=\"http://www.w3.org/2000/svg\" xmlns:xlink=\"http://www.w3.org/1999/xlink\" width=\"100.0\" height=\"100.0\" viewBox=\"-0.08 -0.08 2.16 2.16\" preserveAspectRatio=\"xMinYMin meet\"><g transform=\"matrix(1,0,0,-1,0,2.0)\"><polyline fill=\"none\" stroke=\"#66cc99\" stroke-width=\"0.0432\" points=\"0.0,0.0 0.0,2.0 1.0,1.0 2.0,2.0 2.0,0.0 1.0,0.8 0.0,0.0\" opacity=\"0.8\" /></g></svg>"
      ],
      "text/plain": [
       "<shapely.geometry.polygon.LinearRing at 0x7f9670b356d0>"
      ]
     },
     "execution_count": 140,
     "metadata": {},
     "output_type": "execute_result"
    }
   ],
   "source": [
    "ring"
   ]
  },
  {
   "cell_type": "code",
   "execution_count": 141,
   "id": "a4ff4248",
   "metadata": {},
   "outputs": [
    {
     "name": "stdout",
     "output_type": "stream",
     "text": [
      "LinearRing\n",
      "area = 0.0\n",
      "length = 9.389676819719329\n",
      "(min_x, min_y, max_x, max_y) = (0.0, 0.0, 2.0, 2.0)\n"
     ]
    }
   ],
   "source": [
    "print(ring.geom_type)\n",
    "print(\"area =\", ring.area)\n",
    "print(\"length =\", ring.length)\n",
    "print(\"(min_x, min_y, max_x, max_y) =\", ring.bounds)"
   ]
  },
  {
   "cell_type": "markdown",
   "id": "760fe00b",
   "metadata": {},
   "source": [
    "### 坐标"
   ]
  },
  {
   "cell_type": "code",
   "execution_count": 142,
   "id": "ad3b41f7",
   "metadata": {},
   "outputs": [
    {
     "data": {
      "text/plain": [
       "[(0.0, 0.0),\n",
       " (0.0, 2.0),\n",
       " (1.0, 1.0),\n",
       " (2.0, 2.0),\n",
       " (2.0, 0.0),\n",
       " (1.0, 0.8),\n",
       " (0.0, 0.0)]"
      ]
     },
     "execution_count": 142,
     "metadata": {},
     "output_type": "execute_result"
    }
   ],
   "source": [
    "list(ring.coords)"
   ]
  },
  {
   "cell_type": "markdown",
   "id": "f11547cc",
   "metadata": {},
   "source": [
    "## Polygon\n",
    "有效多边形的环不能相互交叉，但只能在一个点上接触"
   ]
  },
  {
   "cell_type": "code",
   "execution_count": null,
   "id": "7aa4d61b",
   "metadata": {},
   "outputs": [],
   "source": [
    "from shapely.geometry import Polygon"
   ]
  },
  {
   "cell_type": "markdown",
   "id": "6e984e75",
   "metadata": {},
   "source": [
    "### 构造"
   ]
  },
  {
   "cell_type": "code",
   "execution_count": 180,
   "id": "e29ad3c8",
   "metadata": {},
   "outputs": [],
   "source": [
    "ring = LinearRing([(0, 0), (1, 1), (1, 0)])"
   ]
  },
  {
   "cell_type": "code",
   "execution_count": 181,
   "id": "baf78517",
   "metadata": {},
   "outputs": [
    {
     "data": {
      "image/svg+xml": [
       "<svg xmlns=\"http://www.w3.org/2000/svg\" xmlns:xlink=\"http://www.w3.org/1999/xlink\" width=\"100.0\" height=\"100.0\" viewBox=\"-0.04 -0.04 1.08 1.08\" preserveAspectRatio=\"xMinYMin meet\"><g transform=\"matrix(1,0,0,-1,0,1.0)\"><polyline fill=\"none\" stroke=\"#66cc99\" stroke-width=\"0.0216\" points=\"0.0,0.0 1.0,1.0 1.0,0.0 0.0,0.0\" opacity=\"0.8\" /></g></svg>"
      ],
      "text/plain": [
       "<shapely.geometry.polygon.LinearRing at 0x7f9651e555e0>"
      ]
     },
     "execution_count": 181,
     "metadata": {},
     "output_type": "execute_result"
    }
   ],
   "source": [
    "ring"
   ]
  },
  {
   "cell_type": "code",
   "execution_count": 182,
   "id": "45437db7",
   "metadata": {},
   "outputs": [],
   "source": [
    "# case 1\n",
    "polygon = Polygon(ring)"
   ]
  },
  {
   "cell_type": "code",
   "execution_count": 183,
   "id": "20a00fb9",
   "metadata": {},
   "outputs": [
    {
     "data": {
      "image/svg+xml": [
       "<svg xmlns=\"http://www.w3.org/2000/svg\" xmlns:xlink=\"http://www.w3.org/1999/xlink\" width=\"100.0\" height=\"100.0\" viewBox=\"-0.04 -0.04 1.08 1.08\" preserveAspectRatio=\"xMinYMin meet\"><g transform=\"matrix(1,0,0,-1,0,1.0)\"><path fill-rule=\"evenodd\" fill=\"#66cc99\" stroke=\"#555555\" stroke-width=\"0.0216\" opacity=\"0.6\" d=\"M 0.0,0.0 L 1.0,1.0 L 1.0,0.0 L 0.0,0.0 z\" /></g></svg>"
      ],
      "text/plain": [
       "<shapely.geometry.polygon.Polygon at 0x7f9651e55a60>"
      ]
     },
     "execution_count": 183,
     "metadata": {},
     "output_type": "execute_result"
    }
   ],
   "source": [
    "polygon"
   ]
  },
  {
   "cell_type": "code",
   "execution_count": 184,
   "id": "0e0ae61d",
   "metadata": {},
   "outputs": [
    {
     "data": {
      "text/plain": [
       "True"
      ]
     },
     "execution_count": 184,
     "metadata": {},
     "output_type": "execute_result"
    }
   ],
   "source": [
    "Polygon([(0, 0), (1, 1), (1, 0)]) == Polygon(ring)"
   ]
  },
  {
   "cell_type": "code",
   "execution_count": 185,
   "id": "2f03056e",
   "metadata": {},
   "outputs": [
    {
     "data": {
      "image/svg+xml": [
       "<svg xmlns=\"http://www.w3.org/2000/svg\" xmlns:xlink=\"http://www.w3.org/1999/xlink\" width=\"100.0\" height=\"100.0\" viewBox=\"-1.12 -1.12 3.24 3.24\" preserveAspectRatio=\"xMinYMin meet\"><g transform=\"matrix(1,0,0,-1,0,1.0)\"><path fill-rule=\"evenodd\" fill=\"#66cc99\" stroke=\"#555555\" stroke-width=\"0.06480000000000001\" opacity=\"0.6\" d=\"M 0.0,-1.0 L -0.09801714032956045,-0.9951847266721969 L -0.19509032201612866,-0.9807852804032303 L -0.29028467725446244,-0.9569403357322088 L -0.38268343236509034,-0.9238795325112865 L -0.47139673682599786,-0.8819212643483549 L -0.5555702330196022,-0.8314696123025452 L -0.6343932841636459,-0.7730104533627367 L -0.7071067811865477,-0.7071067811865475 L -0.7730104533627371,-0.6343932841636453 L -0.8314696123025455,-0.555570233019602 L -0.881921264348355,-0.47139673682599764 L -0.9238795325112868,-0.38268343236508967 L -0.9569403357322089,-0.2902846772544621 L -0.9807852804032304,-0.19509032201612836 L -0.9951847266721969,-0.09801714032956059 L -1.0,1.2246467991473532e-16 L -0.9951847266721968,0.09801714032956083 L -0.9807852804032304,0.1950903220161286 L -0.9569403357322088,0.2902846772544624 L -0.9238795325112867,0.3826834323650899 L -0.8819212643483549,0.47139673682599786 L -0.8314696123025453,0.5555702330196022 L -0.773010453362737,0.6343932841636455 L -0.7071067811865475,0.7071067811865475 L 0.29289321881345254,1.7071067811865475 L 0.3656067158363546,1.773010453362737 L 0.44442976698039804,1.8314696123025453 L 0.5286032631740023,1.881921264348355 L 0.6173165676349103,1.9238795325112867 L 0.7097153227455378,1.956940335732209 L 0.8049096779838718,1.9807852804032304 L 0.9019828596704393,1.995184726672197 L 1.0,2.0 L 1.0980171403295609,1.9951847266721967 L 1.1950903220161284,1.9807852804032304 L 1.2902846772544623,1.956940335732209 L 1.3826834323650898,1.9238795325112867 L 1.471396736825998,1.881921264348355 L 1.5555702330196022,1.8314696123025453 L 1.6343932841636455,1.7730104533627369 L 1.7071067811865475,1.7071067811865475 L 1.7730104533627369,1.6343932841636453 L 1.8314696123025453,1.5555702330196022 L 1.881921264348355,1.4713967368259977 L 1.9238795325112867,1.3826834323650898 L 1.956940335732209,1.2902846772544623 L 1.9807852804032304,1.1950903220161284 L 1.995184726672197,1.0980171403295607 L 2.0,1.0 L 2.0,0.0 L 1.995184726672197,-0.0980171403295606 L 1.9807852804032304,-0.19509032201612825 L 1.9569403357322088,-0.29028467725446233 L 1.9238795325112867,-0.3826834323650898 L 1.881921264348355,-0.47139673682599764 L 1.8314696123025453,-0.5555702330196022 L 1.7730104533627369,-0.6343932841636455 L 1.7071067811865475,-0.7071067811865475 L 1.6343932841636455,-0.773010453362737 L 1.5555702330196022,-0.8314696123025452 L 1.471396736825998,-0.8819212643483549 L 1.3826834323650898,-0.9238795325112867 L 1.2902846772544623,-0.9569403357322089 L 1.1950903220161284,-0.9807852804032304 L 1.0980171403295609,-0.9951847266721968 L 1.0,-1.0 L 0.0,-1.0 z\" /></g></svg>"
      ],
      "text/plain": [
       "<shapely.geometry.polygon.Polygon at 0x7f9651e555b0>"
      ]
     },
     "execution_count": 185,
     "metadata": {},
     "output_type": "execute_result"
    }
   ],
   "source": [
    "# case 2\n",
    "Polygon(polygon).buffer(1.0)"
   ]
  },
  {
   "cell_type": "code",
   "execution_count": 186,
   "id": "416a86d9",
   "metadata": {},
   "outputs": [
    {
     "data": {
      "image/svg+xml": [
       "<svg xmlns=\"http://www.w3.org/2000/svg\" xmlns:xlink=\"http://www.w3.org/1999/xlink\" width=\"100.0\" height=\"100.0\" viewBox=\"-1.12 -1.12 3.24 3.24\" preserveAspectRatio=\"xMinYMin meet\"><g transform=\"matrix(1,0,0,-1,0,1.0)\"><path fill-rule=\"evenodd\" fill=\"#66cc99\" stroke=\"#555555\" stroke-width=\"0.06480000000000001\" opacity=\"0.6\" d=\"M 0.0,-1.0 L -0.09801714032956045,-0.9951847266721969 L -0.19509032201612866,-0.9807852804032303 L -0.29028467725446244,-0.9569403357322088 L -0.38268343236509034,-0.9238795325112865 L -0.47139673682599786,-0.8819212643483549 L -0.5555702330196022,-0.8314696123025452 L -0.6343932841636459,-0.7730104533627367 L -0.7071067811865477,-0.7071067811865475 L -0.7730104533627371,-0.6343932841636453 L -0.8314696123025455,-0.555570233019602 L -0.881921264348355,-0.47139673682599764 L -0.9238795325112868,-0.38268343236508967 L -0.9569403357322089,-0.2902846772544621 L -0.9807852804032304,-0.19509032201612836 L -0.9951847266721969,-0.09801714032956059 L -1.0,1.2246467991473532e-16 L -0.9951847266721968,0.09801714032956083 L -0.9807852804032304,0.1950903220161286 L -0.9569403357322088,0.2902846772544624 L -0.9238795325112867,0.3826834323650899 L -0.8819212643483549,0.47139673682599786 L -0.8314696123025453,0.5555702330196022 L -0.773010453362737,0.6343932841636455 L -0.7071067811865475,0.7071067811865475 L 0.29289321881345254,1.7071067811865475 L 0.3656067158363546,1.773010453362737 L 0.44442976698039804,1.8314696123025453 L 0.5286032631740023,1.881921264348355 L 0.6173165676349103,1.9238795325112867 L 0.7097153227455378,1.956940335732209 L 0.8049096779838718,1.9807852804032304 L 0.9019828596704393,1.995184726672197 L 1.0,2.0 L 1.0980171403295609,1.9951847266721967 L 1.1950903220161284,1.9807852804032304 L 1.2902846772544623,1.956940335732209 L 1.3826834323650898,1.9238795325112867 L 1.471396736825998,1.881921264348355 L 1.5555702330196022,1.8314696123025453 L 1.6343932841636455,1.7730104533627369 L 1.7071067811865475,1.7071067811865475 L 1.7730104533627369,1.6343932841636453 L 1.8314696123025453,1.5555702330196022 L 1.881921264348355,1.4713967368259977 L 1.9238795325112867,1.3826834323650898 L 1.956940335732209,1.2902846772544623 L 1.9807852804032304,1.1950903220161284 L 1.995184726672197,1.0980171403295607 L 2.0,1.0 L 2.0,0.0 L 1.995184726672197,-0.0980171403295606 L 1.9807852804032304,-0.19509032201612825 L 1.9569403357322088,-0.29028467725446233 L 1.9238795325112867,-0.3826834323650898 L 1.881921264348355,-0.47139673682599764 L 1.8314696123025453,-0.5555702330196022 L 1.7730104533627369,-0.6343932841636455 L 1.7071067811865475,-0.7071067811865475 L 1.6343932841636455,-0.773010453362737 L 1.5555702330196022,-0.8314696123025452 L 1.471396736825998,-0.8819212643483549 L 1.3826834323650898,-0.9238795325112867 L 1.2902846772544623,-0.9569403357322089 L 1.1950903220161284,-0.9807852804032304 L 1.0980171403295609,-0.9951847266721968 L 1.0,-1.0 L 0.0,-1.0 z M 0.0,0.0 L 1.0,1.0 L 1.0,0.0 L 0.0,0.0 z\" /></g></svg>"
      ],
      "text/plain": [
       "<shapely.geometry.polygon.Polygon at 0x7f968874e9d0>"
      ]
     },
     "execution_count": 186,
     "metadata": {},
     "output_type": "execute_result"
    }
   ],
   "source": [
    "# case 3\n",
    "Polygon(polygon.buffer(1.0).exterior, [ring])"
   ]
  },
  {
   "cell_type": "code",
   "execution_count": 156,
   "id": "27686354",
   "metadata": {},
   "outputs": [],
   "source": [
    "# case 4\n",
    "exter = [(0, 0), (0, 2), (2, 2), (2, 0), (0, 0)]\n",
    "inter = [(1, 0), (0.5, 0.5), (1, 1), (1.5, 0.5), (1, 0)]\n",
    "polygon = Polygon(exter, [inter])"
   ]
  },
  {
   "cell_type": "code",
   "execution_count": 157,
   "id": "b0fe9571",
   "metadata": {},
   "outputs": [
    {
     "data": {
      "image/svg+xml": [
       "<svg xmlns=\"http://www.w3.org/2000/svg\" xmlns:xlink=\"http://www.w3.org/1999/xlink\" width=\"100.0\" height=\"100.0\" viewBox=\"-0.08 -0.08 2.16 2.16\" preserveAspectRatio=\"xMinYMin meet\"><g transform=\"matrix(1,0,0,-1,0,2.0)\"><path fill-rule=\"evenodd\" fill=\"#66cc99\" stroke=\"#555555\" stroke-width=\"0.0432\" opacity=\"0.6\" d=\"M 0.0,0.0 L 0.0,2.0 L 2.0,2.0 L 2.0,0.0 L 0.0,0.0 z M 1.0,0.0 L 0.5,0.5 L 1.0,1.0 L 1.5,0.5 L 1.0,0.0 z\" /></g></svg>"
      ],
      "text/plain": [
       "<shapely.geometry.polygon.Polygon at 0x7f9670ae6d60>"
      ]
     },
     "execution_count": 157,
     "metadata": {},
     "output_type": "execute_result"
    }
   ],
   "source": [
    "polygon"
   ]
  },
  {
   "cell_type": "code",
   "execution_count": 158,
   "id": "72dc5cbb",
   "metadata": {},
   "outputs": [
    {
     "name": "stdout",
     "output_type": "stream",
     "text": [
      "Polygon\n",
      "area = 3.5\n",
      "length = 10.82842712474619\n",
      "(min_x, min_y, max_x, max_y) = (0.0, 0.0, 2.0, 2.0)\n"
     ]
    }
   ],
   "source": [
    "print(polygon.geom_type)\n",
    "print(\"area =\", polygon.area)\n",
    "print(\"length =\", polygon.length)\n",
    "print(\"(min_x, min_y, max_x, max_y) =\", polygon.bounds)"
   ]
  },
  {
   "cell_type": "markdown",
   "id": "3b549f5c",
   "metadata": {},
   "source": [
    "### 坐标"
   ]
  },
  {
   "cell_type": "code",
   "execution_count": 159,
   "id": "5055026d",
   "metadata": {},
   "outputs": [
    {
     "data": {
      "text/plain": [
       "[(0.0, 0.0), (0.0, 2.0), (2.0, 2.0), (2.0, 0.0), (0.0, 0.0)]"
      ]
     },
     "execution_count": 159,
     "metadata": {},
     "output_type": "execute_result"
    }
   ],
   "source": [
    "list(polygon.exterior.coords)"
   ]
  },
  {
   "cell_type": "code",
   "execution_count": 163,
   "id": "734da214",
   "metadata": {},
   "outputs": [
    {
     "data": {
      "text/plain": [
       "[<shapely.geometry.polygon.LinearRing at 0x7f96709cedf0>]"
      ]
     },
     "execution_count": 163,
     "metadata": {},
     "output_type": "execute_result"
    }
   ],
   "source": [
    "list(polygon.interiors)"
   ]
  },
  {
   "cell_type": "code",
   "execution_count": 168,
   "id": "ca06cf6a",
   "metadata": {},
   "outputs": [],
   "source": [
    "interior = polygon.interiors[0]"
   ]
  },
  {
   "cell_type": "code",
   "execution_count": 169,
   "id": "d1423bcf",
   "metadata": {},
   "outputs": [
    {
     "data": {
      "text/plain": [
       "[(1.0, 0.0), (0.5, 0.5), (1.0, 1.0), (1.5, 0.5), (1.0, 0.0)]"
      ]
     },
     "execution_count": 169,
     "metadata": {},
     "output_type": "execute_result"
    }
   ],
   "source": [
    "list(interior.coords)"
   ]
  },
  {
   "cell_type": "code",
   "execution_count": null,
   "id": "265fedee",
   "metadata": {},
   "outputs": [],
   "source": []
  },
  {
   "cell_type": "code",
   "execution_count": null,
   "id": "8687ade9",
   "metadata": {},
   "outputs": [],
   "source": []
  },
  {
   "cell_type": "markdown",
   "id": "97e15895",
   "metadata": {},
   "source": [
    "### 距离"
   ]
  },
  {
   "cell_type": "code",
   "execution_count": 146,
   "id": "0d5571e6",
   "metadata": {},
   "outputs": [
    {
     "data": {
      "text/plain": [
       "1.0"
      ]
     },
     "execution_count": 146,
     "metadata": {},
     "output_type": "execute_result"
    }
   ],
   "source": [
    "polygon.distance(Point(3,1))"
   ]
  },
  {
   "cell_type": "code",
   "execution_count": 147,
   "id": "7bf30c48",
   "metadata": {},
   "outputs": [
    {
     "data": {
      "text/plain": [
       "3.1622776601683795"
      ]
     },
     "execution_count": 147,
     "metadata": {},
     "output_type": "execute_result"
    }
   ],
   "source": [
    "Point(3,1).hausdorff_distance(polygon)"
   ]
  },
  {
   "cell_type": "code",
   "execution_count": 148,
   "id": "8b823dfa",
   "metadata": {},
   "outputs": [
    {
     "data": {
      "text/plain": [
       "3.1622776601683795"
      ]
     },
     "execution_count": 148,
     "metadata": {},
     "output_type": "execute_result"
    }
   ],
   "source": [
    "polygon.hausdorff_distance(Point(3,1))"
   ]
  },
  {
   "cell_type": "code",
   "execution_count": 67,
   "id": "07839b35",
   "metadata": {},
   "outputs": [
    {
     "data": {
      "text/plain": [
       "2.23606797749979"
      ]
     },
     "execution_count": 67,
     "metadata": {},
     "output_type": "execute_result"
    }
   ],
   "source": [
    "max(Point(2,1).hausdorff_distance(Point(0,0)),\n",
    "    Point(2,1).hausdorff_distance(Point(1,0)),\n",
    "    Point(2,1).hausdorff_distance(Point(1,2)),\n",
    "    Point(2,1).hausdorff_distance(Point(0,1)))"
   ]
  },
  {
   "cell_type": "code",
   "execution_count": 69,
   "id": "9dcdf44f",
   "metadata": {},
   "outputs": [
    {
     "name": "stdout",
     "output_type": "stream",
     "text": [
      "POINT (0.75 1.5)\n"
     ]
    }
   ],
   "source": [
    "print(polygon.representative_point()) # a cheaply computed point"
   ]
  },
  {
   "cell_type": "code",
   "execution_count": 72,
   "id": "9137a401",
   "metadata": {},
   "outputs": [
    {
     "name": "stdout",
     "output_type": "stream",
     "text": [
      "POINT (0.5555555555555556 0.7777777777777778)\n"
     ]
    }
   ],
   "source": [
    "print(polygon.centroid) # centroid(质心)"
   ]
  },
  {
   "cell_type": "code",
   "execution_count": 41,
   "id": "8f448ded",
   "metadata": {},
   "outputs": [
    {
     "data": {
      "text/plain": [
       "1.0"
      ]
     },
     "execution_count": 41,
     "metadata": {},
     "output_type": "execute_result"
    }
   ],
   "source": [
    "polygon.minimum_clearance"
   ]
  },
  {
   "cell_type": "markdown",
   "id": "e635f8d6",
   "metadata": {},
   "source": [
    "minimum_clearance: the smallest distance by which a node could be moved to produce an invalid geometry.  \n",
    "This can be thought of as a measure of the robustness of a geometry, where larger values of minimum clearance indicate a more robust geometry. If no minimum clearance exists for a geometry, such as a point, this will return math.infinity."
   ]
  },
  {
   "cell_type": "markdown",
   "id": "4bc2047b",
   "metadata": {},
   "source": [
    "## box\n",
    "默认情况下按逆时针顺序排列"
   ]
  },
  {
   "cell_type": "code",
   "execution_count": 194,
   "id": "fe48ea84",
   "metadata": {},
   "outputs": [],
   "source": [
    "from shapely.geometry import box"
   ]
  },
  {
   "cell_type": "code",
   "execution_count": 195,
   "id": "c002e18f",
   "metadata": {},
   "outputs": [],
   "source": [
    "block = box(0.0, 0.0, 1.0, 1.0)"
   ]
  },
  {
   "cell_type": "code",
   "execution_count": 196,
   "id": "b3f4ac15",
   "metadata": {},
   "outputs": [
    {
     "data": {
      "image/svg+xml": [
       "<svg xmlns=\"http://www.w3.org/2000/svg\" xmlns:xlink=\"http://www.w3.org/1999/xlink\" width=\"100.0\" height=\"100.0\" viewBox=\"-0.04 -0.04 1.08 1.08\" preserveAspectRatio=\"xMinYMin meet\"><g transform=\"matrix(1,0,0,-1,0,1.0)\"><path fill-rule=\"evenodd\" fill=\"#66cc99\" stroke=\"#555555\" stroke-width=\"0.0216\" opacity=\"0.6\" d=\"M 1.0,0.0 L 1.0,1.0 L 0.0,1.0 L 0.0,0.0 L 1.0,0.0 z\" /></g></svg>"
      ],
      "text/plain": [
       "<shapely.geometry.polygon.Polygon at 0x7f9670b36070>"
      ]
     },
     "execution_count": 196,
     "metadata": {},
     "output_type": "execute_result"
    }
   ],
   "source": [
    "block"
   ]
  },
  {
   "cell_type": "code",
   "execution_count": 197,
   "id": "d5095d55",
   "metadata": {},
   "outputs": [
    {
     "data": {
      "text/plain": [
       "[(1.0, 0.0), (1.0, 1.0), (0.0, 1.0), (0.0, 0.0), (1.0, 0.0)]"
      ]
     },
     "execution_count": 197,
     "metadata": {},
     "output_type": "execute_result"
    }
   ],
   "source": [
    "list(block.exterior.coords)"
   ]
  },
  {
   "cell_type": "code",
   "execution_count": 202,
   "id": "2a855c5b",
   "metadata": {},
   "outputs": [],
   "source": [
    "polygon = Polygon([(1.0, 0.0), (1.0, 1.0), (0.0, 1.0), (0.0, 0.0)])"
   ]
  },
  {
   "cell_type": "markdown",
   "id": "b0cc4338",
   "metadata": {},
   "source": [
    "### shapely.geometry.polygon.orient()\n",
    "具有已知方向的多边形"
   ]
  },
  {
   "cell_type": "code",
   "execution_count": 206,
   "id": "7b381254",
   "metadata": {},
   "outputs": [
    {
     "data": {
      "text/plain": [
       "[(1.0, 0.0), (1.0, 1.0), (0.0, 1.0), (0.0, 0.0), (1.0, 0.0)]"
      ]
     },
     "execution_count": 206,
     "metadata": {},
     "output_type": "execute_result"
    }
   ],
   "source": [
    "import shapely\n",
    "polygon = Polygon([(1.0, 0.0), (1.0, 1.0), (0.0, 1.0), (0.0, 0.0)])\n",
    "list(shapely.geometry.polygon.orient(polygon, sign=1.0).exterior.coords) # 逆时针"
   ]
  },
  {
   "cell_type": "code",
   "execution_count": 208,
   "id": "fe7a130d",
   "metadata": {},
   "outputs": [
    {
     "data": {
      "text/plain": [
       "[(1.0, 0.0), (0.0, 0.0), (0.0, 1.0), (1.0, 1.0), (1.0, 0.0)]"
      ]
     },
     "execution_count": 208,
     "metadata": {},
     "output_type": "execute_result"
    }
   ],
   "source": [
    "list(shapely.geometry.polygon.orient(polygon, sign=-1.0).exterior.coords) # 顺时针"
   ]
  },
  {
   "cell_type": "markdown",
   "id": "391ca145",
   "metadata": {},
   "source": [
    "## MultiPoint"
   ]
  },
  {
   "cell_type": "code",
   "execution_count": 221,
   "id": "6ee48b18",
   "metadata": {},
   "outputs": [],
   "source": [
    "from shapely.geometry import MultiPoint"
   ]
  },
  {
   "cell_type": "markdown",
   "id": "8be2e5df",
   "metadata": {},
   "source": [
    "### 构造"
   ]
  },
  {
   "cell_type": "code",
   "execution_count": 225,
   "id": "259e00d9",
   "metadata": {},
   "outputs": [
    {
     "data": {
      "text/plain": [
       "True"
      ]
     },
     "execution_count": 225,
     "metadata": {},
     "output_type": "execute_result"
    }
   ],
   "source": [
    "MultiPoint([(0.0, 0.0), (1.0, 1.0)]) == MultiPoint([Point(0.0, 0.0), Point(1.0, 1.0)])"
   ]
  },
  {
   "cell_type": "code",
   "execution_count": 222,
   "id": "db3480f0",
   "metadata": {},
   "outputs": [],
   "source": [
    "points = MultiPoint([(0.0, 0.0), (1.0, 1.0)])"
   ]
  },
  {
   "cell_type": "code",
   "execution_count": 223,
   "id": "386729b7",
   "metadata": {},
   "outputs": [
    {
     "name": "stdout",
     "output_type": "stream",
     "text": [
      "MultiPoint\n",
      "area = 0.0\n",
      "length = 0.0\n",
      "(min_x, min_y, max_x, max_y) = (0.0, 0.0, 1.0, 1.0)\n"
     ]
    }
   ],
   "source": [
    "print(points.geom_type)\n",
    "print(\"area =\", points.area)\n",
    "print(\"length =\", points.length)\n",
    "print(\"(min_x, min_y, max_x, max_y) =\", points.bounds)"
   ]
  },
  {
   "cell_type": "markdown",
   "id": "5db0029e",
   "metadata": {},
   "source": [
    "### 元素"
   ]
  },
  {
   "cell_type": "code",
   "execution_count": 224,
   "id": "9ac82ca0",
   "metadata": {},
   "outputs": [
    {
     "data": {
      "text/plain": [
       "[<shapely.geometry.point.Point at 0x7f9651c54b50>,\n",
       " <shapely.geometry.point.Point at 0x7f9651b6b040>]"
      ]
     },
     "execution_count": 224,
     "metadata": {},
     "output_type": "execute_result"
    }
   ],
   "source": [
    "list(points.geoms)"
   ]
  },
  {
   "cell_type": "markdown",
   "id": "82f09b73",
   "metadata": {},
   "source": [
    "## MultiLineString"
   ]
  },
  {
   "cell_type": "code",
   "execution_count": 231,
   "id": "50fb3602",
   "metadata": {},
   "outputs": [],
   "source": [
    "from shapely.geometry import MultiLineString"
   ]
  },
  {
   "cell_type": "markdown",
   "id": "f3016e64",
   "metadata": {},
   "source": [
    "### 构建"
   ]
  },
  {
   "cell_type": "code",
   "execution_count": 237,
   "id": "1ace0de8",
   "metadata": {},
   "outputs": [
    {
     "data": {
      "text/plain": [
       "True"
      ]
     },
     "execution_count": 237,
     "metadata": {},
     "output_type": "execute_result"
    }
   ],
   "source": [
    "MultiLineString([((0, 0), (1, 1)), ((-1, 0), (1, 0))]) == MultiLineString([LineString([(0, 0), (1, 1)]), LineString([(-1, 0), (1, 0)])])"
   ]
  },
  {
   "cell_type": "code",
   "execution_count": 232,
   "id": "a48793d3",
   "metadata": {},
   "outputs": [],
   "source": [
    "lines = MultiLineString([((0, 0), (1, 1)), ((-1, 0), (1, 0))])"
   ]
  },
  {
   "cell_type": "code",
   "execution_count": 233,
   "id": "f97d1aac",
   "metadata": {},
   "outputs": [
    {
     "name": "stdout",
     "output_type": "stream",
     "text": [
      "MultiLineString\n",
      "area = 0.0\n",
      "length = 3.414213562373095\n",
      "(min_x, min_y, max_x, max_y) = (-1.0, 0.0, 1.0, 1.0)\n"
     ]
    }
   ],
   "source": [
    "print(lines.geom_type)\n",
    "print(\"area =\", lines.area)\n",
    "print(\"length =\", lines.length)\n",
    "print(\"(min_x, min_y, max_x, max_y) =\", lines.bounds)"
   ]
  },
  {
   "cell_type": "markdown",
   "id": "185e1d01",
   "metadata": {},
   "source": [
    "### 元素"
   ]
  },
  {
   "cell_type": "code",
   "execution_count": 235,
   "id": "d7dd3292",
   "metadata": {},
   "outputs": [
    {
     "data": {
      "text/plain": [
       "[<shapely.geometry.linestring.LineString at 0x7f9651c7f2b0>,\n",
       " <shapely.geometry.linestring.LineString at 0x7f9651c7f160>]"
      ]
     },
     "execution_count": 235,
     "metadata": {},
     "output_type": "execute_result"
    }
   ],
   "source": [
    "list(lines.geoms)"
   ]
  },
  {
   "cell_type": "markdown",
   "id": "48b45456",
   "metadata": {},
   "source": [
    "## MultiPolygon"
   ]
  },
  {
   "cell_type": "code",
   "execution_count": null,
   "id": "f1f36081",
   "metadata": {},
   "outputs": [],
   "source": [
    "from shapely.geometry import MultiPolygon"
   ]
  },
  {
   "cell_type": "markdown",
   "id": "4b36065e",
   "metadata": {},
   "source": [
    "### 构造"
   ]
  },
  {
   "cell_type": "code",
   "execution_count": null,
   "id": "55254b2c",
   "metadata": {},
   "outputs": [],
   "source": []
  },
  {
   "cell_type": "code",
   "execution_count": null,
   "id": "d97c5f07",
   "metadata": {},
   "outputs": [],
   "source": []
  },
  {
   "cell_type": "code",
   "execution_count": null,
   "id": "21a63262",
   "metadata": {},
   "outputs": [],
   "source": []
  },
  {
   "cell_type": "markdown",
   "id": "25c7341d",
   "metadata": {},
   "source": [
    "# Collections"
   ]
  },
  {
   "cell_type": "code",
   "execution_count": 212,
   "id": "cbbeb621",
   "metadata": {},
   "outputs": [],
   "source": [
    "a = LineString([(0, 0), (1, 1), (1,2), (2,2)])\n",
    "b = LineString([(0, 0), (1, 1), (2,1), (2,2)])\n",
    "x = a.intersection(b)"
   ]
  },
  {
   "cell_type": "code",
   "execution_count": 214,
   "id": "b4feaecc",
   "metadata": {},
   "outputs": [
    {
     "data": {
      "image/svg+xml": [
       "<svg xmlns=\"http://www.w3.org/2000/svg\" xmlns:xlink=\"http://www.w3.org/1999/xlink\" width=\"100.0\" height=\"100.0\" viewBox=\"-0.08 -0.08 2.16 2.16\" preserveAspectRatio=\"xMinYMin meet\"><g transform=\"matrix(1,0,0,-1,0,2.0)\"><g><polyline fill=\"none\" stroke=\"#66cc99\" stroke-width=\"0.0432\" points=\"0.0,0.0 1.0,1.0\" opacity=\"0.8\" /><circle cx=\"2.0\" cy=\"2.0\" r=\"0.0648\" stroke=\"#555555\" stroke-width=\"0.0216\" fill=\"#66cc99\" opacity=\"0.6\" /></g></g></svg>"
      ],
      "text/plain": [
       "<shapely.geometry.collection.GeometryCollection at 0x7f9651e9bf10>"
      ]
     },
     "execution_count": 214,
     "metadata": {},
     "output_type": "execute_result"
    }
   ],
   "source": [
    "x"
   ]
  },
  {
   "cell_type": "code",
   "execution_count": 218,
   "id": "967f49a1",
   "metadata": {},
   "outputs": [
    {
     "data": {
      "text/plain": [
       "[<shapely.geometry.linestring.LineString at 0x7f9651bcd310>,\n",
       " <shapely.geometry.point.Point at 0x7f9651bcdfa0>]"
      ]
     },
     "execution_count": 218,
     "metadata": {},
     "output_type": "execute_result"
    }
   ],
   "source": [
    "list(x.geoms)"
   ]
  },
  {
   "cell_type": "code",
   "execution_count": null,
   "id": "21b8fd90",
   "metadata": {},
   "outputs": [],
   "source": []
  },
  {
   "cell_type": "markdown",
   "id": "22585742",
   "metadata": {},
   "source": [
    "# 判断点在多边形内\n",
    "https://www.jianshu.com/p/7c995b711d7b  \n",
    "**<font color=\"red\">geopandas 读取 shp</font>** 待研究"
   ]
  },
  {
   "cell_type": "code",
   "execution_count": 29,
   "id": "b7685c9d",
   "metadata": {},
   "outputs": [],
   "source": [
    "from shapely.geometry import Point\n",
    "from shapely.geometry import Polygon\n",
    "polygon = Polygon([(0,0), (0,2), (2,2), (2,0)])"
   ]
  },
  {
   "cell_type": "code",
   "execution_count": 30,
   "id": "cd4b232b",
   "metadata": {},
   "outputs": [
    {
     "data": {
      "text/plain": [
       "True"
      ]
     },
     "execution_count": 30,
     "metadata": {},
     "output_type": "execute_result"
    }
   ],
   "source": [
    "polygon.intersects(Point(0,0))"
   ]
  },
  {
   "cell_type": "code",
   "execution_count": 31,
   "id": "d74ec6a0",
   "metadata": {},
   "outputs": [
    {
     "data": {
      "text/plain": [
       "False"
      ]
     },
     "execution_count": 31,
     "metadata": {},
     "output_type": "execute_result"
    }
   ],
   "source": [
    "Point(0,0).within(polygon)"
   ]
  },
  {
   "cell_type": "code",
   "execution_count": 32,
   "id": "b1fc42c6",
   "metadata": {},
   "outputs": [
    {
     "data": {
      "text/plain": [
       "True"
      ]
     },
     "execution_count": 32,
     "metadata": {},
     "output_type": "execute_result"
    }
   ],
   "source": [
    "polygon.intersects(Point(1,1))"
   ]
  },
  {
   "cell_type": "code",
   "execution_count": 33,
   "id": "5c8ddab7",
   "metadata": {},
   "outputs": [
    {
     "data": {
      "text/plain": [
       "True"
      ]
     },
     "execution_count": 33,
     "metadata": {},
     "output_type": "execute_result"
    }
   ],
   "source": [
    "Point(1,1).within(polygon)"
   ]
  },
  {
   "cell_type": "code",
   "execution_count": 34,
   "id": "0f096f77",
   "metadata": {},
   "outputs": [
    {
     "data": {
      "text/plain": [
       "False"
      ]
     },
     "execution_count": 34,
     "metadata": {},
     "output_type": "execute_result"
    }
   ],
   "source": [
    "polygon.intersects(Point(-1,-1))"
   ]
  },
  {
   "cell_type": "code",
   "execution_count": 35,
   "id": "6a180286",
   "metadata": {},
   "outputs": [
    {
     "data": {
      "text/plain": [
       "False"
      ]
     },
     "execution_count": 35,
     "metadata": {},
     "output_type": "execute_result"
    }
   ],
   "source": [
    "Point(-1,-1).within(polygon)"
   ]
  },
  {
   "cell_type": "code",
   "execution_count": null,
   "id": "9be92aab",
   "metadata": {},
   "outputs": [],
   "source": []
  }
 ],
 "metadata": {
  "kernelspec": {
   "display_name": "Python 3 (ipykernel)",
   "language": "python",
   "name": "python3"
  },
  "language_info": {
   "codemirror_mode": {
    "name": "ipython",
    "version": 3
   },
   "file_extension": ".py",
   "mimetype": "text/x-python",
   "name": "python",
   "nbconvert_exporter": "python",
   "pygments_lexer": "ipython3",
   "version": "3.9.7"
  },
  "toc": {
   "base_numbering": 1,
   "nav_menu": {},
   "number_sections": true,
   "sideBar": true,
   "skip_h1_title": false,
   "title_cell": "Table of Contents",
   "title_sidebar": "Contents",
   "toc_cell": false,
   "toc_position": {
    "height": "calc(100% - 180px)",
    "left": "10px",
    "top": "150px",
    "width": "297.438px"
   },
   "toc_section_display": true,
   "toc_window_display": true
  }
 },
 "nbformat": 4,
 "nbformat_minor": 5
}
