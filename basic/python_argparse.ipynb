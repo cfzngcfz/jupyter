{
 "cells": [
  {
   "cell_type": "markdown",
   "id": "91f185f1",
   "metadata": {},
   "source": [
    "refer to: https://docs.python.org/3/library/argparse.html#module-argparse"
   ]
  },
  {
   "cell_type": "code",
   "execution_count": null,
   "id": "8dec71c2",
   "metadata": {},
   "outputs": [],
   "source": [
    "import argparse"
   ]
  },
  {
   "cell_type": "markdown",
   "id": "693f0753",
   "metadata": {},
   "source": [
    "# ArgumentParser()\n",
    "创建一个 ArgumentParser 对象"
   ]
  },
  {
   "cell_type": "code",
   "execution_count": null,
   "id": "dc2161e0",
   "metadata": {},
   "outputs": [],
   "source": [
    "parser = argparse.ArgumentParser(description='Process some integers.') # 创建一个 ArgumentParser 对象"
   ]
  },
  {
   "cell_type": "markdown",
   "id": "7bfb1ec0",
   "metadata": {},
   "source": [
    "## prog\n",
    "设置程序名"
   ]
  },
  {
   "cell_type": "code",
   "execution_count": null,
   "id": "63b8319e",
   "metadata": {},
   "outputs": [],
   "source": [
    "parser = argparse.ArgumentParser()\n",
    "parser.print_help()"
   ]
  },
  {
   "cell_type": "code",
   "execution_count": null,
   "id": "0781205f",
   "metadata": {},
   "outputs": [],
   "source": [
    "import sys\n",
    "sys.argv[0]"
   ]
  },
  {
   "cell_type": "code",
   "execution_count": null,
   "id": "8a0acaa0",
   "metadata": {},
   "outputs": [],
   "source": [
    "parser = argparse.ArgumentParser(prog='test')\n",
    "parser.print_help()"
   ]
  },
  {
   "cell_type": "markdown",
   "id": "754d74c5",
   "metadata": {},
   "source": [
    "## usage\n",
    "设置 usage 本文内容"
   ]
  },
  {
   "cell_type": "code",
   "execution_count": null,
   "id": "e83b34d8",
   "metadata": {},
   "outputs": [],
   "source": [
    "parser = argparse.ArgumentParser(prog='test',\n",
    "                                 usage=\"%(prog)s [options] !!new change of 'usage' in here!!\")\n",
    "parser.print_help()"
   ]
  },
  {
   "cell_type": "markdown",
   "id": "8e32ae87",
   "metadata": {},
   "source": [
    "%(prog)s 指代 the program name"
   ]
  },
  {
   "cell_type": "markdown",
   "id": "554c9e09",
   "metadata": {},
   "source": [
    "## description\n",
    "设置 usage 与 optional arguments 之间的文本内容"
   ]
  },
  {
   "cell_type": "code",
   "execution_count": null,
   "id": "6ea47e5c",
   "metadata": {},
   "outputs": [],
   "source": [
    "parser = argparse.ArgumentParser(prog='test',\n",
    "                                 usage='%(prog)s [options]',\n",
    "                                 description='''this description of %(prog)s was indented weird but that is okay !!new change of 'description' in here!!''')\n",
    "parser.print_help()"
   ]
  },
  {
   "cell_type": "markdown",
   "id": "016a4f7c",
   "metadata": {},
   "source": [
    "## epilog\n",
    "设置 optional arguments 后的文本内容"
   ]
  },
  {
   "cell_type": "code",
   "execution_count": null,
   "id": "6b7f2f39",
   "metadata": {},
   "outputs": [],
   "source": [
    "parser = argparse.ArgumentParser(prog='test',\n",
    "                                 usage='%(prog)s [options]',\n",
    "                                 description='''this description of %(prog)s was indented weird but that is okay''',\n",
    "                                 epilog='''likewise for this epilog whose whitespace will be cleaned up and whose words will be wrapped across a couple lines !!new change of 'epilog' in here!!''')\n",
    "parser.print_help()"
   ]
  },
  {
   "cell_type": "markdown",
   "id": "82156dee",
   "metadata": {},
   "source": [
    "## formatter_class\n",
    "ArgumentParser objects allow the help formatting to be customized by specifying an alternate formatting class. Currently, there are four such classes:\n",
    "* argparse.RawDescriptionHelpFormatter 不自动换行\n",
    "* argparse.RawTextHelpFormatter 不自动换行\n",
    "* argparse.ArgumentDefaultsHelpFormatter 默认,自动换行\n",
    "* argparse.MetavarTypeHelpFormatter 自动换行"
   ]
  },
  {
   "cell_type": "code",
   "execution_count": null,
   "id": "5b75a2f5",
   "metadata": {},
   "outputs": [],
   "source": [
    "parser = argparse.ArgumentParser(prog='test',\n",
    "                                 formatter_class=argparse.RawDescriptionHelpFormatter,\n",
    "                                 usage='%(prog)s [options]',\n",
    "                                 description='''this description of %(prog)s was indented weird but that is okay''',\n",
    "                                 epilog='''likewise for this epilog whose whitespace will be cleaned up and whose words will be wrapped across a couple lines''')\n",
    "parser.print_help()"
   ]
  },
  {
   "cell_type": "code",
   "execution_count": null,
   "id": "0e266442",
   "metadata": {},
   "outputs": [],
   "source": [
    "parser = argparse.ArgumentParser(prog='test',\n",
    "                                 formatter_class=argparse.RawTextHelpFormatter,\n",
    "                                 usage='%(prog)s [options]',\n",
    "                                 description='''this description of %(prog)s was indented weird but that is okay''',\n",
    "                                 epilog='''likewise for this epilog whose whitespace will be cleaned up and whose words will be wrapped across a couple lines''')\n",
    "parser.print_help()"
   ]
  },
  {
   "cell_type": "code",
   "execution_count": null,
   "id": "2469503a",
   "metadata": {},
   "outputs": [],
   "source": [
    "parser = argparse.ArgumentParser(prog='test',\n",
    "                                 formatter_class=argparse.ArgumentDefaultsHelpFormatter,\n",
    "                                 usage='%(prog)s [options]',\n",
    "                                 description='''this description of %(prog)s was indented weird but that is okay''',\n",
    "                                 epilog='''likewise for this epilog whose whitespace will be cleaned up and whose words will be wrapped across a couple lines''')\n",
    "parser.print_help()"
   ]
  },
  {
   "cell_type": "code",
   "execution_count": null,
   "id": "c5a42d34",
   "metadata": {},
   "outputs": [],
   "source": [
    "parser = argparse.ArgumentParser(prog='test',\n",
    "                                 formatter_class=argparse.MetavarTypeHelpFormatter,\n",
    "                                 usage='%(prog)s [options]',\n",
    "                                 description='''this description of %(prog)s was indented weird but that is okay''',\n",
    "                                 epilog='''likewise for this epilog whose whitespace will be cleaned up and whose words will be wrapped across a couple lines''')\n",
    "parser.print_help()"
   ]
  },
  {
   "cell_type": "markdown",
   "id": "747bcab2",
   "metadata": {},
   "source": [
    "## prefix_chars\n",
    "许多命令行会使用 - 当作前缀，比如 -f/--foo。如果解析器需要支持不同的或者额外的字符，比如像 +f 或者 /foo 的选项，可以在参数解析构建器中使用 prefix_chars= 参数。  \n",
    "prefix_chars= 参数默认使用 '-'。 提供一组不包括 - 的字符将导致 -f/--foo 选项不被允许。  "
   ]
  },
  {
   "cell_type": "code",
   "execution_count": null,
   "id": "8af2532e",
   "metadata": {},
   "outputs": [],
   "source": [
    "parser = argparse.ArgumentParser(prog='test', prefix_chars='-+')\n",
    "parser.add_argument('-f')\n",
    "parser.add_argument('++bar')\n",
    "parser.parse_args('-f X ++bar Y'.split())\n",
    "parser.print_help()"
   ]
  },
  {
   "cell_type": "code",
   "execution_count": null,
   "id": "15eb5437",
   "metadata": {},
   "outputs": [],
   "source": [
    "'-f X ++bar Y'.split()"
   ]
  },
  {
   "cell_type": "markdown",
   "id": "be129250",
   "metadata": {},
   "source": [
    "## argument_default"
   ]
  },
  {
   "cell_type": "code",
   "execution_count": null,
   "id": "1c9f2531",
   "metadata": {},
   "outputs": [],
   "source": [
    "parser = argparse.ArgumentParser()\n",
    "parser.add_argument('--foo')\n",
    "parser.add_argument('bar', nargs='?')\n",
    "parser.parse_args('--foo 1 BAR'.split())"
   ]
  },
  {
   "cell_type": "code",
   "execution_count": null,
   "id": "0dad432a",
   "metadata": {},
   "outputs": [],
   "source": [
    "parser.parse_args([])"
   ]
  },
  {
   "cell_type": "code",
   "execution_count": null,
   "id": "a21d9614",
   "metadata": {},
   "outputs": [],
   "source": [
    "parser = argparse.ArgumentParser(argument_default=argparse.SUPPRESS) # 全局禁止在 parse_args() 中创建属性\n",
    "parser.add_argument('--foo')\n",
    "parser.add_argument('bar', nargs='?')\n",
    "parser.parse_args('--foo 1 BAR'.split())\n",
    "parser.parse_args([])"
   ]
  },
  {
   "cell_type": "markdown",
   "id": "fc290e36",
   "metadata": {},
   "source": [
    "## allow_abbrev"
   ]
  },
  {
   "cell_type": "code",
   "execution_count": null,
   "id": "c6065932",
   "metadata": {},
   "outputs": [],
   "source": [
    "parser = argparse.ArgumentParser(prog='test', allow_abbrev=False)\n",
    "parser.add_argument('--foobar', action='store_true')\n",
    "parser.add_argument('--foonley', action='store_false')\n",
    "parser.parse_args('--foon'.split())"
   ]
  },
  {
   "cell_type": "code",
   "execution_count": null,
   "id": "5847eebe",
   "metadata": {},
   "outputs": [],
   "source": [
    "parser = argparse.ArgumentParser(prog='test', allow_abbrev=True)\n",
    "parser.add_argument('--foobar', action='store_true')\n",
    "parser.add_argument('--foonley', action='store_false')\n",
    "parser.parse_args('--foon'.split())"
   ]
  },
  {
   "cell_type": "markdown",
   "id": "fd49308b",
   "metadata": {},
   "source": [
    "## conflict_handler"
   ]
  },
  {
   "cell_type": "markdown",
   "id": "2861a9bb",
   "metadata": {},
   "source": [
    "parser = argparse.ArgumentParser(prog='test')  \n",
    "parser.add_argument('-f', '--foo', help='old foo help')  \n",
    "parser.add_argument('--foo', help='new foo help')  "
   ]
  },
  {
   "cell_type": "code",
   "execution_count": null,
   "id": "3b89f4c9",
   "metadata": {},
   "outputs": [],
   "source": [
    "parser = argparse.ArgumentParser(prog='test', conflict_handler='resolve')\n",
    "parser.add_argument('-f', '--foo', help='old foo help')\n",
    "parser.add_argument('--foo', help='new foo help')\n",
    "parser.print_help()"
   ]
  },
  {
   "cell_type": "markdown",
   "id": "78a9ee2b",
   "metadata": {},
   "source": [
    "## add_help"
   ]
  },
  {
   "cell_type": "code",
   "execution_count": null,
   "id": "e1cc14e5",
   "metadata": {},
   "outputs": [],
   "source": [
    "parser = argparse.ArgumentParser(prog='test')\n",
    "parser.add_argument('--foo', help='foo help')\n",
    "parser.print_help()"
   ]
  },
  {
   "cell_type": "code",
   "execution_count": null,
   "id": "c9d35581",
   "metadata": {},
   "outputs": [],
   "source": [
    "parser = argparse.ArgumentParser(prog='test', add_help=False)\n",
    "parser.add_argument('--foo', help='foo help')\n",
    "parser.print_help()"
   ]
  },
  {
   "cell_type": "markdown",
   "id": "559777cd",
   "metadata": {},
   "source": [
    "# add_argument()"
   ]
  },
  {
   "cell_type": "markdown",
   "id": "e1dad0e7",
   "metadata": {},
   "source": [
    "## name or flags\n"
   ]
  },
  {
   "cell_type": "code",
   "execution_count": null,
   "id": "4c4daf46",
   "metadata": {},
   "outputs": [],
   "source": [
    "parser = argparse.ArgumentParser(prog='test')\n",
    "parser.add_argument('-f', '--foo') # flag, which is optional argument\n",
    "parser.add_argument('bar')         # positional argument, which is required\n",
    "parser.add_argument('car')\n",
    "parser.print_help()"
   ]
  },
  {
   "cell_type": "code",
   "execution_count": null,
   "id": "8f6c6332",
   "metadata": {},
   "outputs": [],
   "source": [
    "parser.parse_args('CAR DAR'.split())"
   ]
  },
  {
   "cell_type": "code",
   "execution_count": null,
   "id": "efc4293e",
   "metadata": {},
   "outputs": [],
   "source": [
    "parser.parse_args('BAR --foo FOO DAR'.split())"
   ]
  },
  {
   "cell_type": "code",
   "execution_count": null,
   "id": "732ad1c1",
   "metadata": {},
   "outputs": [],
   "source": [
    "parser.parse_args('BAR --foo FOO'.split()) # 缺少 positional argument, 报错"
   ]
  },
  {
   "cell_type": "markdown",
   "id": "d558f421",
   "metadata": {},
   "source": [
    "## action"
   ]
  },
  {
   "cell_type": "markdown",
   "id": "42e1d13e",
   "metadata": {},
   "source": [
    "### action='store'\n",
    "This just stores the argument’s value. This is the default action  \n",
    "这只是存储参数的值。 这是默认操作"
   ]
  },
  {
   "cell_type": "code",
   "execution_count": null,
   "id": "e043c4a7",
   "metadata": {},
   "outputs": [],
   "source": [
    "parser = argparse.ArgumentParser()\n",
    "parser.add_argument('--foa')\n",
    "parser.parse_args('--foa 1'.split())"
   ]
  },
  {
   "cell_type": "code",
   "execution_count": null,
   "id": "927afbec",
   "metadata": {},
   "outputs": [],
   "source": [
    "parser = argparse.ArgumentParser()\n",
    "parser.add_argument('--fob', action='store')\n",
    "parser.parse_args('--fob 2'.split())"
   ]
  },
  {
   "cell_type": "markdown",
   "id": "c4eda6ce",
   "metadata": {},
   "source": [
    "### action='store_const'\n",
    "This stores the value specified by the const keyword argument. The 'store_const' action is most commonly used with optional arguments that specify some sort of flag.  \n",
    "这存储由 const 关键字参数指定的值。 'store_const' 操作最常与指定某种标志的可选参数一起使用。"
   ]
  },
  {
   "cell_type": "code",
   "execution_count": null,
   "id": "4e5b6a32",
   "metadata": {},
   "outputs": [],
   "source": [
    "parser = argparse.ArgumentParser()\n",
    "parser.add_argument('--foc', action='store_const', const=42)\n",
    "parser.parse_args('--foc'.split())"
   ]
  },
  {
   "cell_type": "code",
   "execution_count": null,
   "id": "ce1f5bd4",
   "metadata": {},
   "outputs": [],
   "source": [
    "parser = argparse.ArgumentParser()\n",
    "parser.add_argument('--foc', action='store_const', const=42)\n",
    "parser.parse_args('--foc 2'.split())"
   ]
  },
  {
   "cell_type": "code",
   "execution_count": null,
   "id": "396f3164",
   "metadata": {},
   "outputs": [],
   "source": [
    "parser = argparse.ArgumentParser()\n",
    "parser.add_argument('--fod', action='store_const', const='##')\n",
    "parser.parse_args('--fod'.split())"
   ]
  },
  {
   "cell_type": "markdown",
   "id": "869856f3",
   "metadata": {},
   "source": [
    "### action='store_true' or 'store_false'\n",
    "These are special cases of 'store_const' used for storing the values True and False respectively."
   ]
  },
  {
   "cell_type": "code",
   "execution_count": null,
   "id": "18de4380",
   "metadata": {},
   "outputs": [],
   "source": [
    "parser = argparse.ArgumentParser()\n",
    "parser.add_argument('--foe', action='store_true')\n",
    "parser.add_argument('--fof', action='store_false')\n",
    "parser.add_argument('--fog', action=argparse.BooleanOptionalAction)\n",
    "parser.add_argument('--foh', action=argparse.BooleanOptionalAction)\n",
    "parser.parse_args('--foe --fof --fog --no-foh'.split())"
   ]
  },
  {
   "cell_type": "markdown",
   "id": "2d22c561",
   "metadata": {},
   "source": [
    "### action='append'\n",
    "This stores a list, and appends each argument value to the list. This is useful to allow an option to be specified multiple times."
   ]
  },
  {
   "cell_type": "code",
   "execution_count": null,
   "id": "ec5c1e2f",
   "metadata": {},
   "outputs": [],
   "source": [
    "parser = argparse.ArgumentParser()\n",
    "parser.add_argument('--foi', action='append')\n",
    "parser.parse_args('--foi 2 --foi 4'.split())"
   ]
  },
  {
   "cell_type": "code",
   "execution_count": null,
   "id": "1f92ee7e",
   "metadata": {},
   "outputs": [],
   "source": [
    "parser = argparse.ArgumentParser()\n",
    "parser.add_argument('--foi', action='append', type=int)\n",
    "parser.parse_args('--foi 2 --foi 4'.split())"
   ]
  },
  {
   "cell_type": "code",
   "execution_count": null,
   "id": "0ae49116",
   "metadata": {},
   "outputs": [],
   "source": [
    "parser = argparse.ArgumentParser()\n",
    "parser.add_argument(\"--foj\", action=\"extend\", nargs=\"+\")\n",
    "# parser.add_argument(\"--foj\", action=\"extend\", nargs=\"+\", type=str)\n",
    "parser.parse_args(\"--foj 1 --foj 2 3 4\".split())"
   ]
  },
  {
   "cell_type": "code",
   "execution_count": null,
   "id": "a55f509e",
   "metadata": {},
   "outputs": [],
   "source": [
    "parser = argparse.ArgumentParser()\n",
    "# parser.add_argument(\"--foj\", action=\"extend\", nargs=\"+\", type=str)\n",
    "parser.add_argument(\"--foj\", action=\"extend\", nargs=\"+\", type=int)\n",
    "parser.parse_args(\"--foj 1 --foj 2 3 4\".split())"
   ]
  },
  {
   "cell_type": "markdown",
   "id": "93bc3840",
   "metadata": {},
   "source": [
    "### action='append_const'\n",
    "This stores a list, and appends the value specified by the const keyword argument to the list. (Note that the const keyword argument defaults to None.) The 'append_const' action is typically useful when multiple arguments need to store constants to the same list.<span id='const02'></span>"
   ]
  },
  {
   "cell_type": "code",
   "execution_count": null,
   "id": "b6c39765",
   "metadata": {},
   "outputs": [],
   "source": [
    "# parser = argparse.ArgumentParser()\n",
    "parser.add_argument('--str', dest='types', action='append_const', const=str)\n",
    "parser.add_argument('--int', dest='types', action='append_const', const=int)\n",
    "parser.parse_args('--str --int'.split())"
   ]
  },
  {
   "cell_type": "markdown",
   "id": "0e14b8c9",
   "metadata": {},
   "source": [
    "### action='count'\n",
    "This counts the number of times a keyword argument occurs. For example, this is useful for increasing verbosity levels (**<font color=\"red\">没搞懂??</font>**)"
   ]
  },
  {
   "cell_type": "code",
   "execution_count": null,
   "id": "5828988e",
   "metadata": {},
   "outputs": [],
   "source": [
    "parser = argparse.ArgumentParser()\n",
    "parser.add_argument('--verbose', '-v', action='count', default=0)\n",
    "parser.parse_args(['-vvvv'])"
   ]
  },
  {
   "cell_type": "markdown",
   "id": "549d265c",
   "metadata": {},
   "source": [
    "## nargs\n",
    "'?' -> 单个, '*' or '+' -> 多个/追加"
   ]
  },
  {
   "cell_type": "markdown",
   "id": "4ed2cdd3",
   "metadata": {},
   "source": [
    "### nargs=int"
   ]
  },
  {
   "cell_type": "code",
   "execution_count": null,
   "id": "0bd3beb7",
   "metadata": {},
   "outputs": [],
   "source": [
    "parser = argparse.ArgumentParser()\n",
    "parser.add_argument('--foo', nargs=2)\n",
    "parser.add_argument('bar', nargs=1)\n",
    "parser.parse_args('c --foo a b'.split())"
   ]
  },
  {
   "cell_type": "code",
   "execution_count": null,
   "id": "954323ad",
   "metadata": {},
   "outputs": [],
   "source": [
    "parser.parse_args('--foo a c b'.split())"
   ]
  },
  {
   "cell_type": "markdown",
   "id": "1d0ae360",
   "metadata": {},
   "source": [
    "Notice: nargs=1 会产生一个单元素列表。这和默认的元素本身是不同的"
   ]
  },
  {
   "cell_type": "markdown",
   "id": "49b7091f",
   "metadata": {},
   "source": [
    "### nargs='?'\n",
    "如果不提供 nargs 命名参数，则消耗参数的数目将被 action 决定。通常这意味着单一项目（非列表）消耗单一命令行参数。"
   ]
  },
  {
   "cell_type": "markdown",
   "id": "3f4a5be2",
   "metadata": {},
   "source": [
    "example 1<span id='const03'></span>"
   ]
  },
  {
   "cell_type": "code",
   "execution_count": null,
   "id": "31aeea63",
   "metadata": {},
   "outputs": [],
   "source": [
    "parser = argparse.ArgumentParser()\n",
    "parser.add_argument('--foo', nargs='?', const='c', default='d')\n",
    "parser.add_argument('bar', nargs='?', default='d')\n",
    "parser.parse_args('XX --foo YY'.split()) # ?从命令行中消耗一个参数，并产生一个单项"
   ]
  },
  {
   "cell_type": "code",
   "execution_count": null,
   "id": "2814fe4a",
   "metadata": {},
   "outputs": [],
   "source": [
    "parser.parse_args('XX --foo'.split()) # 选项字符串'--foo'出现但没有跟随命令行参数，则会产生 const 值"
   ]
  },
  {
   "cell_type": "code",
   "execution_count": null,
   "id": "d3d2d6ff",
   "metadata": {},
   "outputs": [],
   "source": [
    "parser.parse_args('--foo'.split()) # 选项字符串'--foo'出现但没有跟随命令行参数，则会产生 const 值"
   ]
  },
  {
   "cell_type": "code",
   "execution_count": null,
   "id": "27bf0b25",
   "metadata": {},
   "outputs": [],
   "source": [
    "parser.parse_args('XX'.split()) # 如果当前没有命令行参数'--foo'，则会产生 default 值"
   ]
  },
  {
   "cell_type": "code",
   "execution_count": null,
   "id": "b17ecc67",
   "metadata": {},
   "outputs": [],
   "source": [
    "parser.parse_args([]) # 如果当前没有命令行参数，则会产生 default 值"
   ]
  },
  {
   "cell_type": "markdown",
   "id": "494a3382",
   "metadata": {},
   "source": [
    "example 2"
   ]
  },
  {
   "cell_type": "code",
   "execution_count": null,
   "id": "a4fa872d",
   "metadata": {},
   "outputs": [],
   "source": [
    "parser = argparse.ArgumentParser()\n",
    "parser.add_argument('--foo', nargs='?', default='d')\n",
    "parser.add_argument('bar', nargs='?', default='d')\n",
    "parser.parse_args('XX --foo'.split())"
   ]
  },
  {
   "cell_type": "code",
   "execution_count": null,
   "id": "4bf3c6fb",
   "metadata": {},
   "outputs": [],
   "source": [
    "parser.parse_args('XX'.split())"
   ]
  },
  {
   "cell_type": "code",
   "execution_count": null,
   "id": "4e526e64",
   "metadata": {},
   "outputs": [],
   "source": [
    "parser.parse_args('--foo'.split())"
   ]
  },
  {
   "cell_type": "markdown",
   "id": "0c6377d8",
   "metadata": {},
   "source": [
    "example 3"
   ]
  },
  {
   "cell_type": "code",
   "execution_count": null,
   "id": "6fab2542",
   "metadata": {},
   "outputs": [],
   "source": [
    "parser = argparse.ArgumentParser()\n",
    "parser.add_argument('infile', nargs='?', type=argparse.FileType('r'), default=sys.stdin) # ?指代可选的输入或输出文件\n",
    "parser.add_argument('outfile', nargs='?', type=argparse.FileType('w'), default=sys.stdout)\n",
    "parser.parse_args([])"
   ]
  },
  {
   "cell_type": "markdown",
   "id": "eb3db918",
   "metadata": {},
   "source": [
    "parser.parse_args(['input.txt', 'output.txt'])"
   ]
  },
  {
   "cell_type": "markdown",
   "id": "f3e4a993",
   "metadata": {},
   "source": [
    "### nargs='*' & nargs='+'\n",
    "相同点: 所有当前命令行参数被聚集到一个列表中  \n",
    "不同点: 命令行参数为空时, nargs='*'不会报错, nargs='+'会报错\n",
    "#### example nargs='*' "
   ]
  },
  {
   "cell_type": "code",
   "execution_count": null,
   "id": "05eb0f8c",
   "metadata": {},
   "outputs": [],
   "source": [
    "parser = argparse.ArgumentParser()\n",
    "parser.add_argument('--foo', nargs='*')\n",
    "parser.add_argument('--bar', nargs='*')\n",
    "parser.add_argument('baz', nargs='*')\n",
    "parser.parse_args('a b --foo x y --bar 1 2'.split())"
   ]
  },
  {
   "cell_type": "code",
   "execution_count": null,
   "id": "384748ff",
   "metadata": {},
   "outputs": [],
   "source": [
    "parser.parse_args('a b c --foo x y --bar 1 2'.split())"
   ]
  },
  {
   "cell_type": "code",
   "execution_count": null,
   "id": "56f156c2",
   "metadata": {},
   "outputs": [],
   "source": [
    "parser.parse_args('a b --foo x y c --bar 1 2'.split())"
   ]
  },
  {
   "cell_type": "code",
   "execution_count": null,
   "id": "52088a53",
   "metadata": {},
   "outputs": [],
   "source": [
    "parser.parse_args('a b --foo x y --bar 1 2 c'.split())"
   ]
  },
  {
   "cell_type": "code",
   "execution_count": null,
   "id": "ae798c4b",
   "metadata": {},
   "outputs": [],
   "source": [
    "parser.parse_args([])"
   ]
  },
  {
   "cell_type": "markdown",
   "id": "d4ece1b6",
   "metadata": {},
   "source": [
    "#### example nargs='+' "
   ]
  },
  {
   "cell_type": "code",
   "execution_count": null,
   "id": "67d443eb",
   "metadata": {},
   "outputs": [],
   "source": [
    "parser = argparse.ArgumentParser()\n",
    "parser.add_argument('--foo', nargs='+')\n",
    "parser.add_argument('--bar', nargs='+')\n",
    "parser.add_argument('baz', nargs='+')\n",
    "parser.parse_args('a b --foo x y --bar 1 2'.split())"
   ]
  },
  {
   "cell_type": "code",
   "execution_count": null,
   "id": "22af5587",
   "metadata": {
    "scrolled": true
   },
   "outputs": [],
   "source": [
    "parser.parse_args([])"
   ]
  },
  {
   "cell_type": "markdown",
   "id": "1837c7bd",
   "metadata": {},
   "source": [
    "example 3"
   ]
  },
  {
   "cell_type": "code",
   "execution_count": null,
   "id": "a1ee1e22",
   "metadata": {},
   "outputs": [],
   "source": [
    "parser = argparse.ArgumentParser()\n",
    "parser.add_argument(\n",
    "    'integers', metavar='int', type=int, choices=range(10),\n",
    "    nargs='+', help='an integer in the range 0..9')\n",
    "parser.add_argument(\n",
    "    '--sum', dest='accumulate', action='store_const', const=sum,\n",
    "    default=max, help='sum the integers (default: find the max)')\n",
    "parser.parse_args('1 2 3 4'.split())"
   ]
  },
  {
   "cell_type": "code",
   "execution_count": null,
   "id": "3a28ab25",
   "metadata": {},
   "outputs": [],
   "source": [
    "parser.parse_args('1 2 3 4 --sum'.split())"
   ]
  },
  {
   "cell_type": "markdown",
   "id": "e33b8ef7",
   "metadata": {},
   "source": [
    "## const "
   ]
  },
  {
   "cell_type": "markdown",
   "id": "977a9882",
   "metadata": {},
   "source": [
    "* 当 add_argument() 通过 action='store_const' 或 action='append_const 调用时。这些动作将 const 值添加到 parse_args() 返回的对象的属性中, see [example 1](#const01) and [example 2](#const02).\n",
    "\n",
    "* 当 add_argument() 通过选项（例如 -f 或 --foo）调用并且 nargs='?' 时。这会创建一个可以跟随零个或一个命令行参数的选项。当解析命令行时，如果选项后没有参数，则将用 const 代替, see [example 3](#const03)."
   ]
  },
  {
   "cell_type": "markdown",
   "id": "38e3fcc5",
   "metadata": {},
   "source": [
    "## default"
   ]
  },
  {
   "cell_type": "markdown",
   "id": "da7a0240",
   "metadata": {},
   "source": [
    "example 1"
   ]
  },
  {
   "cell_type": "code",
   "execution_count": null,
   "id": "3c685a01",
   "metadata": {},
   "outputs": [],
   "source": [
    "parser = argparse.ArgumentParser()\n",
    "parser.add_argument('--foo', default=42)\n",
    "parser.parse_args('--foo 2'.split())"
   ]
  },
  {
   "cell_type": "code",
   "execution_count": null,
   "id": "7d8f4729",
   "metadata": {},
   "outputs": [],
   "source": [
    "parser.parse_args([])"
   ]
  },
  {
   "cell_type": "markdown",
   "id": "f6deba15",
   "metadata": {},
   "source": [
    "example 2"
   ]
  },
  {
   "cell_type": "code",
   "execution_count": null,
   "id": "d86e9c8a",
   "metadata": {},
   "outputs": [],
   "source": [
    "parser = argparse.ArgumentParser()\n",
    "parser.add_argument('--foo', default=argparse.SUPPRESS)\n",
    "parser.parse_args('--foo 1'.split())"
   ]
  },
  {
   "cell_type": "code",
   "execution_count": null,
   "id": "4f583885",
   "metadata": {},
   "outputs": [],
   "source": [
    "parser.parse_args([])"
   ]
  },
  {
   "cell_type": "markdown",
   "id": "c45a1912",
   "metadata": {},
   "source": [
    "example 3"
   ]
  },
  {
   "cell_type": "code",
   "execution_count": null,
   "id": "4ddf3065",
   "metadata": {},
   "outputs": [],
   "source": [
    "parser = argparse.ArgumentParser()\n",
    "parser.add_argument('foo', nargs='?', default=42)\n",
    "parser.parse_args('a'.split())"
   ]
  },
  {
   "cell_type": "code",
   "execution_count": null,
   "id": "a789d691",
   "metadata": {},
   "outputs": [],
   "source": [
    "parser.parse_args([])"
   ]
  },
  {
   "cell_type": "markdown",
   "id": "b940debf",
   "metadata": {},
   "source": [
    "example 4"
   ]
  },
  {
   "cell_type": "code",
   "execution_count": null,
   "id": "d01c08ee",
   "metadata": {},
   "outputs": [],
   "source": [
    "parser = argparse.ArgumentParser()\n",
    "parser.add_argument('foo', nargs='*', default=42)\n",
    "parser.parse_args('a b c'.split())"
   ]
  },
  {
   "cell_type": "code",
   "execution_count": null,
   "id": "c79771f9",
   "metadata": {},
   "outputs": [],
   "source": [
    "parser.parse_args([])"
   ]
  },
  {
   "cell_type": "markdown",
   "id": "84da3082",
   "metadata": {},
   "source": [
    "example 5"
   ]
  },
  {
   "cell_type": "code",
   "execution_count": null,
   "id": "0f6ce0f8",
   "metadata": {},
   "outputs": [],
   "source": [
    "parser = argparse.ArgumentParser()\n",
    "parser.add_argument('foo', nargs='+', default=42)\n",
    "parser.parse_args('a b c'.split())"
   ]
  },
  {
   "cell_type": "code",
   "execution_count": null,
   "id": "2e976ac5",
   "metadata": {},
   "outputs": [],
   "source": [
    "parser.parse_args([])"
   ]
  },
  {
   "cell_type": "markdown",
   "id": "0fa5af3d",
   "metadata": {},
   "source": [
    "## type"
   ]
  },
  {
   "cell_type": "code",
   "execution_count": null,
   "id": "84fae72c",
   "metadata": {},
   "outputs": [],
   "source": [
    "parser = argparse.ArgumentParser()\n",
    "parser.add_argument('string')\n",
    "parser.add_argument('count', type=int)\n",
    "parser.add_argument('distance', type=float)\n",
    "parser.add_argument('char->int', type=ord)\n",
    "parser.parse_args('a 2 6.8 a'.split())"
   ]
  },
  {
   "cell_type": "code",
   "execution_count": null,
   "id": "179c0d75",
   "metadata": {},
   "outputs": [],
   "source": [
    "import pathlib\n",
    "parser = argparse.ArgumentParser()\n",
    "parser.add_argument('street', type=ascii)\n",
    "parser.add_argument('source_file', type=open)\n",
    "parser.add_argument('dest_file', type=argparse.FileType('w', encoding='latin-1'))\n",
    "parser.add_argument('datapath', type=pathlib.Path)"
   ]
  },
  {
   "cell_type": "markdown",
   "id": "f6e370ae",
   "metadata": {},
   "source": [
    "## choices\n",
    "命令行参数只能在choices指定的容器(list,range,set,dict)内"
   ]
  },
  {
   "cell_type": "code",
   "execution_count": null,
   "id": "5f8db6ad",
   "metadata": {},
   "outputs": [],
   "source": [
    "parser = argparse.ArgumentParser(prog='game.py')\n",
    "parser.add_argument('move', choices=['rock', 'paper', 'scissors'])\n",
    "parser.parse_args('rock'.split())"
   ]
  },
  {
   "cell_type": "markdown",
   "id": "f9e164b8",
   "metadata": {},
   "source": [
    "parser.parse_args(['fire']) # 报错"
   ]
  },
  {
   "cell_type": "code",
   "execution_count": null,
   "id": "3b6815d9",
   "metadata": {},
   "outputs": [],
   "source": [
    "parser = argparse.ArgumentParser(prog='game.py')\n",
    "parser.add_argument('move', choices=set(['rock', 'paper', 'scissors']))\n",
    "parser.parse_args('rock'.split())"
   ]
  },
  {
   "cell_type": "code",
   "execution_count": null,
   "id": "d6de418b",
   "metadata": {},
   "outputs": [],
   "source": [
    "parser = argparse.ArgumentParser(prog='game.py')\n",
    "parser.add_argument('move', choices={'rock':1, 'paper':2, 'scissors':3})\n",
    "parser.parse_args('rock'.split())"
   ]
  },
  {
   "cell_type": "code",
   "execution_count": null,
   "id": "1542a549",
   "metadata": {},
   "outputs": [],
   "source": [
    "parser = argparse.ArgumentParser(prog='doors.py')\n",
    "parser.add_argument('door', type=int, choices=range(1, 4))\n",
    "parser.parse_args('3'.split())"
   ]
  },
  {
   "cell_type": "markdown",
   "id": "ed1872b4",
   "metadata": {},
   "source": [
    "parser.parse_args(['4']) #报错"
   ]
  },
  {
   "cell_type": "markdown",
   "id": "70213094",
   "metadata": {},
   "source": [
    "## required\n",
    "将 optional argument 强制变为 required argument, 如果命令行输入中缺失会报错"
   ]
  },
  {
   "cell_type": "markdown",
   "id": "df760036",
   "metadata": {},
   "source": [
    "example 1"
   ]
  },
  {
   "cell_type": "code",
   "execution_count": null,
   "id": "815d9c2f",
   "metadata": {},
   "outputs": [],
   "source": [
    "parser = argparse.ArgumentParser()\n",
    "parser.add_argument('--foo')\n",
    "parser.print_help()"
   ]
  },
  {
   "cell_type": "code",
   "execution_count": null,
   "id": "feb16a50",
   "metadata": {},
   "outputs": [],
   "source": [
    "parser.parse_args('--foo BAR'.split())"
   ]
  },
  {
   "cell_type": "markdown",
   "id": "dfa0d179",
   "metadata": {},
   "source": [
    "example 2"
   ]
  },
  {
   "cell_type": "code",
   "execution_count": null,
   "id": "45ed75bf",
   "metadata": {},
   "outputs": [],
   "source": [
    "parser = argparse.ArgumentParser()\n",
    "parser.add_argument('--foo', required=True)\n",
    "parser.print_help()"
   ]
  },
  {
   "cell_type": "code",
   "execution_count": null,
   "id": "b54abf99",
   "metadata": {},
   "outputs": [],
   "source": [
    "parser.parse_args('--foo BAR'.split())"
   ]
  },
  {
   "cell_type": "code",
   "execution_count": null,
   "id": "42013d6b",
   "metadata": {},
   "outputs": [],
   "source": [
    "parser.parse_args([])"
   ]
  },
  {
   "cell_type": "markdown",
   "id": "aca28fdd",
   "metadata": {},
   "source": [
    "## help"
   ]
  },
  {
   "cell_type": "code",
   "execution_count": null,
   "id": "a9a08149",
   "metadata": {},
   "outputs": [],
   "source": [
    "parser = argparse.ArgumentParser(prog='frobble')\n",
    "parser.add_argument('bar', nargs='?', type=int, default=42,\n",
    "                    help='the bar to %(prog)s (default: %(default)s)')\n",
    "parser.print_help()"
   ]
  },
  {
   "cell_type": "markdown",
   "id": "eecc8f2c",
   "metadata": {},
   "source": [
    "## metavar"
   ]
  },
  {
   "cell_type": "code",
   "execution_count": null,
   "id": "4f8deb82",
   "metadata": {},
   "outputs": [],
   "source": [
    "parser = argparse.ArgumentParser()\n",
    "parser.add_argument('--foo')\n",
    "parser.add_argument('bar')\n",
    "parser.print_help()"
   ]
  },
  {
   "cell_type": "markdown",
   "id": "788ac9c0",
   "metadata": {},
   "source": [
    "By default, for positional argument actions, the dest value is used directly, and for optional argument actions, the dest value is uppercased. So, a single positional argument with dest='bar' will be referred to as bar. A single optional argument --foo that should be followed by a single command-line argument will be referred to as FOO.\n",
    "\n",
    "metavar only changes the displayed name, such as example 1, but the name of the attribute on the parse_args() object is still determined by the dest value.\n",
    "\n",
    "example 1"
   ]
  },
  {
   "cell_type": "code",
   "execution_count": null,
   "id": "c7880d45",
   "metadata": {},
   "outputs": [],
   "source": [
    "parser = argparse.ArgumentParser()\n",
    "parser.add_argument('--foo', metavar='YYY')\n",
    "parser.add_argument('bar', metavar='XXX')\n",
    "parser.print_help()"
   ]
  },
  {
   "cell_type": "markdown",
   "id": "29b955cc",
   "metadata": {},
   "source": [
    "example 2  \n",
    "不同的 nargs 值可能导致 metavar 被多次使用。 提供一个元组给 metavar 即为每个参数指定不同的显示信息:"
   ]
  },
  {
   "cell_type": "code",
   "execution_count": null,
   "id": "c5e47c69",
   "metadata": {},
   "outputs": [],
   "source": [
    "parser = argparse.ArgumentParser(prog='PROG')\n",
    "parser.add_argument('-x', nargs=2)\n",
    "parser.add_argument('--foo', nargs=2, metavar=('bar', 'baz'))\n",
    "parser.print_help()"
   ]
  },
  {
   "cell_type": "markdown",
   "id": "11974a7c",
   "metadata": {},
   "source": [
    "## dest"
   ]
  },
  {
   "cell_type": "markdown",
   "id": "8ca113c4",
   "metadata": {},
   "source": [
    "example 1  \n",
    "For positional argument actions, dest 的值设置为add_argument() 的第一个参数"
   ]
  },
  {
   "cell_type": "code",
   "execution_count": null,
   "id": "3c319d71",
   "metadata": {},
   "outputs": [],
   "source": [
    "parser = argparse.ArgumentParser()\n",
    "parser.add_argument('bar')\n",
    "parser.print_help()"
   ]
  },
  {
   "cell_type": "markdown",
   "id": "95cc3532",
   "metadata": {},
   "source": [
    "example 2  \n",
    "For optional argument actions, 如果有长选项字符串，dest的值设置为<font color=\"red\">第一个长选项字符串</font>(不包含开头的 --).  \n",
    "任何内部的 - 字符都将被转换为 _ 字符以确保字符串是有效的属性名称。"
   ]
  },
  {
   "cell_type": "code",
   "execution_count": null,
   "id": "36661b86",
   "metadata": {},
   "outputs": [],
   "source": [
    "parser = argparse.ArgumentParser()\n",
    "parser.add_argument('-f', '--foo-bar', '--foo')\n",
    "parser.print_help()"
   ]
  },
  {
   "cell_type": "code",
   "execution_count": null,
   "id": "95cededd",
   "metadata": {},
   "outputs": [],
   "source": [
    "parser = argparse.ArgumentParser()\n",
    "parser.add_argument('-f', '--foo', '--foo-bar')\n",
    "parser.print_help()"
   ]
  },
  {
   "cell_type": "markdown",
   "id": "81c83c46",
   "metadata": {},
   "source": [
    "example 3  \n",
    "For optional argument actions, 如果没有长选项字符串，则 dest 的值设置为第一个短选项字符串(不包含开头的 -)"
   ]
  },
  {
   "cell_type": "code",
   "execution_count": null,
   "id": "89dc9a11",
   "metadata": {},
   "outputs": [],
   "source": [
    "parser = argparse.ArgumentParser()\n",
    "parser.add_argument('-x', '-y')\n",
    "parser.print_help()"
   ]
  },
  {
   "cell_type": "markdown",
   "id": "05cca0b1",
   "metadata": {},
   "source": [
    "### example 4 (flag, dest, metavar, optional argument)"
   ]
  },
  {
   "cell_type": "code",
   "execution_count": null,
   "id": "d3e1a589",
   "metadata": {},
   "outputs": [],
   "source": [
    "parser = argparse.ArgumentParser()\n",
    "parser.add_argument('-f', '--foo', dest='fx', metavar='fy') # -f, --foo are flags, -f 短选项/short options, --foo 长选项/long options\n",
    "parser.print_help()"
   ]
  },
  {
   "cell_type": "code",
   "execution_count": null,
   "id": "23c328b2",
   "metadata": {},
   "outputs": [],
   "source": [
    "args = parser.parse_args('--foo BAR'.split())\n",
    "print(args)"
   ]
  },
  {
   "cell_type": "code",
   "execution_count": null,
   "id": "00b998da",
   "metadata": {},
   "outputs": [],
   "source": [
    "vars(args)"
   ]
  },
  {
   "cell_type": "code",
   "execution_count": null,
   "id": "29c5d061",
   "metadata": {},
   "outputs": [],
   "source": [
    "args.fx # fx is dest"
   ]
  },
  {
   "cell_type": "markdown",
   "id": "58a07383",
   "metadata": {},
   "source": [
    "* -f, --foo are flags, 对应命令行的输入, -f 短选项/short options, --foo 长选项/long options\n",
    "* fx is dest, in Namespace, 有点类似dict的key  \n",
    "* fy is metavar, which is the displayed name of dest in print_help()  \n",
    "* ('--foo', dest='fx', metavar='fy') is optional argument"
   ]
  },
  {
   "cell_type": "markdown",
   "id": "ebb07dc9",
   "metadata": {},
   "source": [
    "# parse_args()"
   ]
  },
  {
   "cell_type": "markdown",
   "id": "08507e2b",
   "metadata": {},
   "source": [
    "对于长选项（名称长度超过一个字符的选项），选项和值也可以作为单个命令行参数传入，使用 = 分隔它们即可"
   ]
  },
  {
   "cell_type": "code",
   "execution_count": null,
   "id": "d147deb5",
   "metadata": {},
   "outputs": [],
   "source": [
    "parser = argparse.ArgumentParser()\n",
    "parser.add_argument('--foo')\n",
    "parser.parse_args('--foo FOO'.split())"
   ]
  },
  {
   "cell_type": "code",
   "execution_count": null,
   "id": "de6ccaa7",
   "metadata": {},
   "outputs": [],
   "source": [
    "parser.parse_args('--foo=FOO'.split())"
   ]
  },
  {
   "cell_type": "markdown",
   "id": "a6100c38",
   "metadata": {},
   "source": [
    "对于短选项（长度只有一个字符的选项），选项和它的值可以拼接在一起"
   ]
  },
  {
   "cell_type": "code",
   "execution_count": null,
   "id": "f0ca44b1",
   "metadata": {},
   "outputs": [],
   "source": [
    "parser = argparse.ArgumentParser()\n",
    "parser.add_argument('-x')\n",
    "parser.parse_args('-x Y'.split())"
   ]
  },
  {
   "cell_type": "code",
   "execution_count": null,
   "id": "441c4af4",
   "metadata": {},
   "outputs": [],
   "source": [
    "parser.parse_args('-x=Y'.split())"
   ]
  },
  {
   "cell_type": "code",
   "execution_count": null,
   "id": "79070b52",
   "metadata": {},
   "outputs": [],
   "source": [
    "parser.parse_args('-xY'.split())"
   ]
  },
  {
   "cell_type": "markdown",
   "id": "e54f91a1",
   "metadata": {},
   "source": [
    "# * & **"
   ]
  },
  {
   "cell_type": "markdown",
   "id": "dd6d1122",
   "metadata": {},
   "source": [
    "## * & ** 在函数定义的输入参数中\n",
    "- \\* 将不定数量的普通变量, 以元组(tuple)的形式传递给函数\n",
    "- \\** 将不定数量的键值对变量, 以字典(dict)的形式传递给函数\n",
    "- 解析顺序: \n",
    "    1. 单个普通变量\n",
    "    2. 若干普通变量, 例如 \\*args\n",
    "    3. 单个键值对变量, 例如 kwarg\n",
    "    4. 若干键值对变量, 例如 \\*\\*kwargs<br>\n",
    "注意: 顺序打乱会报错"
   ]
  },
  {
   "cell_type": "code",
   "execution_count": 1,
   "id": "464f9e6e",
   "metadata": {},
   "outputs": [
    {
     "name": "stdout",
     "output_type": "stream",
     "text": [
      "args = (1, 2, 3)\n"
     ]
    }
   ],
   "source": [
    "def func(*args):\n",
    "    print(\"args =\", args)\n",
    "func(1, 2, 3)"
   ]
  },
  {
   "cell_type": "code",
   "execution_count": 2,
   "id": "53a1ade5",
   "metadata": {},
   "outputs": [
    {
     "name": "stdout",
     "output_type": "stream",
     "text": [
      "param = 1\n",
      "args = (2, 3)\n"
     ]
    }
   ],
   "source": [
    "def func(param, *args):\n",
    "    print(\"param =\", param)\n",
    "    print(\"args =\", args)\n",
    "func(1, 2, 3)"
   ]
  },
  {
   "cell_type": "code",
   "execution_count": 3,
   "id": "70b576b9",
   "metadata": {},
   "outputs": [
    {
     "name": "stdout",
     "output_type": "stream",
     "text": [
      "kwargs = {'a': 1, 'b': 2, 'c': 3}\n"
     ]
    }
   ],
   "source": [
    "def func(**kwargs):\n",
    "    print(\"kwargs =\", kwargs)\n",
    "func(a=1, b=2, c=3)"
   ]
  },
  {
   "cell_type": "code",
   "execution_count": 4,
   "id": "aaf7da04",
   "metadata": {},
   "outputs": [
    {
     "name": "stdout",
     "output_type": "stream",
     "text": [
      "param = 4\n",
      "kwargs = {'a': 1, 'b': 2, 'c': 3}\n"
     ]
    }
   ],
   "source": [
    "def func(param, **kwargs):\n",
    "    print(\"param =\", param)\n",
    "    print(\"kwargs =\", kwargs)\n",
    "func(4, a=1, b=2, c=3)"
   ]
  },
  {
   "cell_type": "code",
   "execution_count": 5,
   "id": "6317c8cd",
   "metadata": {},
   "outputs": [
    {
     "name": "stdout",
     "output_type": "stream",
     "text": [
      "param = 4\n",
      "args = (5, 6, 7)\n",
      "kwargs = {'a': 1, 'b': 2, 'c': 3}\n"
     ]
    }
   ],
   "source": [
    "def func(param, *args, **kwargs):\n",
    "    print(\"param =\", param)\n",
    "    print(\"args =\", args)\n",
    "    print(\"kwargs =\", kwargs)\n",
    "func(4, 5, 6, 7, a=1, b=2, c=3)"
   ]
  },
  {
   "cell_type": "code",
   "execution_count": 6,
   "id": "95015c5d",
   "metadata": {},
   "outputs": [
    {
     "name": "stdout",
     "output_type": "stream",
     "text": [
      "param = 4\n",
      "args = (5, 6, 7)\n",
      "kwarg = 9\n",
      "kwargs = {'a': 1, 'b': 2, 'c': 3}\n"
     ]
    }
   ],
   "source": [
    "def func(param, *args, kwarg=None, **kwargs):\n",
    "    print(\"param =\", param)\n",
    "    print(\"args =\", args)\n",
    "    print(\"kwarg =\", kwarg)\n",
    "    print(\"kwargs =\", kwargs)\n",
    "func(4, 5, 6, 7, kwarg=9, a=1, b=2, c=3)"
   ]
  },
  {
   "cell_type": "code",
   "execution_count": 7,
   "id": "6f824b75",
   "metadata": {},
   "outputs": [
    {
     "name": "stdout",
     "output_type": "stream",
     "text": [
      "param = 4\n",
      "args = (5, 6, 7)\n",
      "kwarg = 9\n",
      "kwargs = {'a': 1, 'b': 2, 'c': 3}\n"
     ]
    }
   ],
   "source": [
    "func(4, 5, 6, 7, a=1, b=2, c=3, kwarg=9)"
   ]
  },
  {
   "cell_type": "markdown",
   "id": "af99ce2c",
   "metadata": {},
   "source": [
    "## * & ** 对数组、元素和字典执行 unpack 操作\n",
    "- \\* 将数组(list) 或 元组(tuple) unpack 为若干独立的元素\n",
    "- \\* 将字典(dict) unpack 为若干独立的键"
   ]
  },
  {
   "cell_type": "code",
   "execution_count": 8,
   "id": "5f1d5d1f",
   "metadata": {},
   "outputs": [],
   "source": [
    "List = [4, 5, 6]\n",
    "Tuple = (7, 8, 9)\n",
    "Dict = {'a': 1, 'b': 2, 'c': 3}"
   ]
  },
  {
   "cell_type": "code",
   "execution_count": 9,
   "id": "e694dffc",
   "metadata": {},
   "outputs": [
    {
     "data": {
      "text/plain": [
       "[3, 4, 5, 6, 7]"
      ]
     },
     "execution_count": 9,
     "metadata": {},
     "output_type": "execute_result"
    }
   ],
   "source": [
    "[3, *List, 7]"
   ]
  },
  {
   "cell_type": "code",
   "execution_count": 10,
   "id": "f93f5fdd",
   "metadata": {},
   "outputs": [
    {
     "data": {
      "text/plain": [
       "(3, 4, 5, 6, 7)"
      ]
     },
     "execution_count": 10,
     "metadata": {},
     "output_type": "execute_result"
    }
   ],
   "source": [
    "(3, *List, 7)"
   ]
  },
  {
   "cell_type": "code",
   "execution_count": 11,
   "id": "7f6092ba",
   "metadata": {},
   "outputs": [
    {
     "data": {
      "text/plain": [
       "{3, 4, 5, 6, 7}"
      ]
     },
     "execution_count": 11,
     "metadata": {},
     "output_type": "execute_result"
    }
   ],
   "source": [
    "{3, *List, 7}"
   ]
  },
  {
   "cell_type": "code",
   "execution_count": 12,
   "id": "6b6e7c5b",
   "metadata": {},
   "outputs": [
    {
     "data": {
      "text/plain": [
       "[3, 7, 8, 9, 7]"
      ]
     },
     "execution_count": 12,
     "metadata": {},
     "output_type": "execute_result"
    }
   ],
   "source": [
    "[3, *Tuple, 7]"
   ]
  },
  {
   "cell_type": "code",
   "execution_count": 13,
   "id": "35a7e053",
   "metadata": {},
   "outputs": [
    {
     "data": {
      "text/plain": [
       "(3, 7, 8, 9, 7)"
      ]
     },
     "execution_count": 13,
     "metadata": {},
     "output_type": "execute_result"
    }
   ],
   "source": [
    "(3, *Tuple, 7)"
   ]
  },
  {
   "cell_type": "code",
   "execution_count": 14,
   "id": "9272390b",
   "metadata": {},
   "outputs": [
    {
     "data": {
      "text/plain": [
       "{3, 7, 8, 9}"
      ]
     },
     "execution_count": 14,
     "metadata": {},
     "output_type": "execute_result"
    }
   ],
   "source": [
    "{3, *Tuple, 7}"
   ]
  },
  {
   "cell_type": "code",
   "execution_count": 15,
   "id": "3a21c039",
   "metadata": {},
   "outputs": [
    {
     "data": {
      "text/plain": [
       "[3, 'a', 'b', 'c', 7]"
      ]
     },
     "execution_count": 15,
     "metadata": {},
     "output_type": "execute_result"
    }
   ],
   "source": [
    "[3, *Dict, 7]"
   ]
  },
  {
   "cell_type": "code",
   "execution_count": 16,
   "id": "a92cbfd1",
   "metadata": {},
   "outputs": [
    {
     "data": {
      "text/plain": [
       "(3, 'a', 'b', 'c', 7)"
      ]
     },
     "execution_count": 16,
     "metadata": {},
     "output_type": "execute_result"
    }
   ],
   "source": [
    "(3, *Dict, 7)"
   ]
  },
  {
   "cell_type": "code",
   "execution_count": 17,
   "id": "b1751f6b",
   "metadata": {},
   "outputs": [
    {
     "data": {
      "text/plain": [
       "{3, 7, 'a', 'b', 'c'}"
      ]
     },
     "execution_count": 17,
     "metadata": {},
     "output_type": "execute_result"
    }
   ],
   "source": [
    "{3, *Dict, 7}"
   ]
  },
  {
   "cell_type": "code",
   "execution_count": 18,
   "id": "98c79d29",
   "metadata": {},
   "outputs": [
    {
     "name": "stdout",
     "output_type": "stream",
     "text": [
      "first = 4\n",
      "rest = [5, 6]\n"
     ]
    }
   ],
   "source": [
    "first, *rest = List\n",
    "print(\"first =\", first)\n",
    "print(\"rest =\", rest)"
   ]
  },
  {
   "cell_type": "code",
   "execution_count": 19,
   "id": "bb6c139f",
   "metadata": {},
   "outputs": [
    {
     "name": "stdout",
     "output_type": "stream",
     "text": [
      "first = 7\n",
      "rest = [8, 9]\n"
     ]
    }
   ],
   "source": [
    "first, *rest = Tuple\n",
    "print(\"first =\", first)\n",
    "print(\"rest =\", rest)"
   ]
  },
  {
   "cell_type": "code",
   "execution_count": 20,
   "id": "76b22202",
   "metadata": {},
   "outputs": [
    {
     "name": "stdout",
     "output_type": "stream",
     "text": [
      "first = a\n",
      "rest = ['b', 'c']\n"
     ]
    }
   ],
   "source": [
    "first, *rest = Dict\n",
    "print(\"first =\", first)\n",
    "print(\"rest =\", rest)"
   ]
  },
  {
   "cell_type": "markdown",
   "id": "6e8cdf22",
   "metadata": {},
   "source": [
    "- ** 将字典(dict) unpack 为若干独立的键值对"
   ]
  },
  {
   "cell_type": "code",
   "execution_count": 21,
   "id": "18d4df46",
   "metadata": {},
   "outputs": [
    {
     "data": {
      "text/plain": [
       "{'d': 0, 'a': 1, 'b': 2, 'c': 3, 'e': -1}"
      ]
     },
     "execution_count": 21,
     "metadata": {},
     "output_type": "execute_result"
    }
   ],
   "source": [
    "{'d': 0, **Dict, 'e': -1}"
   ]
  },
  {
   "cell_type": "markdown",
   "id": "9bf22a00",
   "metadata": {},
   "source": [
    "- \\* 将 `range` unpack 为若干独立的元素"
   ]
  },
  {
   "cell_type": "code",
   "execution_count": 22,
   "id": "6b0df93b",
   "metadata": {},
   "outputs": [
    {
     "data": {
      "text/plain": [
       "range"
      ]
     },
     "execution_count": 22,
     "metadata": {},
     "output_type": "execute_result"
    }
   ],
   "source": [
    "type(range(1, 4))"
   ]
  },
  {
   "cell_type": "code",
   "execution_count": 23,
   "id": "88688392",
   "metadata": {},
   "outputs": [
    {
     "data": {
      "text/plain": [
       "[0, 1, 2, 3, 5, 6, 7]"
      ]
     },
     "execution_count": 23,
     "metadata": {},
     "output_type": "execute_result"
    }
   ],
   "source": [
    "[0, *range(1, 4), 5, *range(6, 8)]"
   ]
  },
  {
   "cell_type": "code",
   "execution_count": 24,
   "id": "48ab3726",
   "metadata": {},
   "outputs": [
    {
     "data": {
      "text/plain": [
       "(0, 1, 2, 3, 5, 6, 7)"
      ]
     },
     "execution_count": 24,
     "metadata": {},
     "output_type": "execute_result"
    }
   ],
   "source": [
    "(0, *range(1, 4), 5, *range(6, 8))"
   ]
  },
  {
   "cell_type": "code",
   "execution_count": 25,
   "id": "a9864433",
   "metadata": {},
   "outputs": [
    {
     "data": {
      "text/plain": [
       "{0, 1, 2, 3, 5, 6, 7}"
      ]
     },
     "execution_count": 25,
     "metadata": {},
     "output_type": "execute_result"
    }
   ],
   "source": [
    "{0, *range(1, 4), 5, *range(6, 8)}"
   ]
  },
  {
   "cell_type": "markdown",
   "id": "3efd2901",
   "metadata": {},
   "source": [
    "## * & ** 执行 unpack 操作后, 传入函数"
   ]
  },
  {
   "cell_type": "code",
   "execution_count": 26,
   "id": "2b3a5bb4",
   "metadata": {},
   "outputs": [],
   "source": [
    "List = [4, 5, 6]\n",
    "Tuple = (7, 8, 9)\n",
    "Dict = {'a': 1, 'b': 2, 'c': 3}"
   ]
  },
  {
   "cell_type": "code",
   "execution_count": 27,
   "id": "2fab5637",
   "metadata": {},
   "outputs": [],
   "source": [
    "def func(a, b, c):\n",
    "    print(\"a =\", a)\n",
    "    print(\"b =\", b)\n",
    "    print(\"c =\", c)"
   ]
  },
  {
   "cell_type": "code",
   "execution_count": 28,
   "id": "a099e658",
   "metadata": {},
   "outputs": [
    {
     "name": "stdout",
     "output_type": "stream",
     "text": [
      "a = 4\n",
      "b = 5\n",
      "c = 6\n"
     ]
    }
   ],
   "source": [
    "func(*List)"
   ]
  },
  {
   "cell_type": "code",
   "execution_count": 29,
   "id": "5724267b",
   "metadata": {},
   "outputs": [
    {
     "name": "stdout",
     "output_type": "stream",
     "text": [
      "a = 7\n",
      "b = 8\n",
      "c = 9\n"
     ]
    }
   ],
   "source": [
    "func(*Tuple)"
   ]
  },
  {
   "cell_type": "code",
   "execution_count": 30,
   "id": "8dd845f8",
   "metadata": {},
   "outputs": [
    {
     "name": "stdout",
     "output_type": "stream",
     "text": [
      "a = a\n",
      "b = b\n",
      "c = c\n"
     ]
    }
   ],
   "source": [
    "func(*Dict)"
   ]
  },
  {
   "cell_type": "code",
   "execution_count": 31,
   "id": "60b6eced",
   "metadata": {},
   "outputs": [
    {
     "name": "stdout",
     "output_type": "stream",
     "text": [
      "a = 1\n",
      "b = 2\n",
      "c = 3\n"
     ]
    }
   ],
   "source": [
    "func(**Dict)"
   ]
  },
  {
   "cell_type": "code",
   "execution_count": 32,
   "id": "4778adca",
   "metadata": {},
   "outputs": [
    {
     "name": "stdout",
     "output_type": "stream",
     "text": [
      "a = 100\n",
      "b = 10\n",
      "c = lee\n"
     ]
    }
   ],
   "source": [
    "obj = {'b':10, 'c':'lee'}\n",
    "func(100, **obj)"
   ]
  },
  {
   "cell_type": "code",
   "execution_count": 33,
   "id": "47196c0b",
   "metadata": {},
   "outputs": [],
   "source": [
    "def func(*args, kwarg=None, **kwargs):\n",
    "    print(\"args =\", args)\n",
    "    print(\"kwarg =\", kwarg)\n",
    "    print(\"kwargs =\", kwargs)"
   ]
  },
  {
   "cell_type": "code",
   "execution_count": 34,
   "id": "48123809",
   "metadata": {},
   "outputs": [
    {
     "name": "stdout",
     "output_type": "stream",
     "text": [
      "args = (4, 5, 6)\n",
      "kwarg = None\n",
      "kwargs = {}\n"
     ]
    }
   ],
   "source": [
    "func(*List)"
   ]
  },
  {
   "cell_type": "code",
   "execution_count": 35,
   "id": "7d21a787",
   "metadata": {},
   "outputs": [
    {
     "name": "stdout",
     "output_type": "stream",
     "text": [
      "args = (7, 8, 9)\n",
      "kwarg = None\n",
      "kwargs = {}\n"
     ]
    }
   ],
   "source": [
    "func(*Tuple)"
   ]
  },
  {
   "cell_type": "code",
   "execution_count": 36,
   "id": "1d6bd433",
   "metadata": {},
   "outputs": [
    {
     "name": "stdout",
     "output_type": "stream",
     "text": [
      "args = ('a', 'b', 'c')\n",
      "kwarg = None\n",
      "kwargs = {}\n"
     ]
    }
   ],
   "source": [
    "func(*Dict)"
   ]
  },
  {
   "cell_type": "code",
   "execution_count": 37,
   "id": "e058b945",
   "metadata": {},
   "outputs": [
    {
     "name": "stdout",
     "output_type": "stream",
     "text": [
      "args = ()\n",
      "kwarg = None\n",
      "kwargs = {'a': 1, 'b': 2, 'c': 3}\n"
     ]
    }
   ],
   "source": [
    "func(**Dict)"
   ]
  },
  {
   "cell_type": "code",
   "execution_count": 38,
   "id": "2cb67550",
   "metadata": {},
   "outputs": [
    {
     "name": "stdout",
     "output_type": "stream",
     "text": [
      "args = ()\n",
      "kwarg = 4\n",
      "kwargs = {'a': 1, 'b': 2, 'c': 3}\n"
     ]
    }
   ],
   "source": [
    "func(**Dict, kwarg=4)"
   ]
  },
  {
   "cell_type": "code",
   "execution_count": 39,
   "id": "0b82a762",
   "metadata": {},
   "outputs": [
    {
     "name": "stdout",
     "output_type": "stream",
     "text": [
      "args = ()\n",
      "kwarg = 4\n",
      "kwargs = {'a': 1, 'b': 2, 'c': 3, 'd': 0, 'e': -1}\n"
     ]
    }
   ],
   "source": [
    "inputs = {\"kwarg\": 4, \"d\": 0, \"e\": -1}\n",
    "func(**Dict, **inputs)"
   ]
  },
  {
   "cell_type": "code",
   "execution_count": 40,
   "id": "87e9a47e",
   "metadata": {},
   "outputs": [
    {
     "name": "stdout",
     "output_type": "stream",
     "text": [
      "args = ([4, 5, 6], {'a': 1, 'b': 2, 'c': 3})\n",
      "kwarg = None\n",
      "kwargs = {}\n"
     ]
    }
   ],
   "source": [
    "func(List, Dict)"
   ]
  },
  {
   "cell_type": "code",
   "execution_count": 41,
   "id": "fce8f7de",
   "metadata": {},
   "outputs": [
    {
     "name": "stdout",
     "output_type": "stream",
     "text": [
      "args = (4, 5, 6, {'a': 1, 'b': 2, 'c': 3})\n",
      "kwarg = None\n",
      "kwargs = {}\n"
     ]
    }
   ],
   "source": [
    "func(*List, Dict)"
   ]
  },
  {
   "cell_type": "code",
   "execution_count": 42,
   "id": "c31706ad",
   "metadata": {},
   "outputs": [
    {
     "name": "stdout",
     "output_type": "stream",
     "text": [
      "args = ([4, 5, 6], 'a', 'b', 'c')\n",
      "kwarg = None\n",
      "kwargs = {}\n"
     ]
    }
   ],
   "source": [
    "func(List, *Dict)"
   ]
  },
  {
   "cell_type": "code",
   "execution_count": 43,
   "id": "a70ee10e",
   "metadata": {},
   "outputs": [
    {
     "name": "stdout",
     "output_type": "stream",
     "text": [
      "args = ([4, 5, 6],)\n",
      "kwarg = None\n",
      "kwargs = {'a': 1, 'b': 2, 'c': 3}\n"
     ]
    }
   ],
   "source": [
    "func(List, **Dict)"
   ]
  },
  {
   "cell_type": "code",
   "execution_count": 44,
   "id": "a44a8f87",
   "metadata": {},
   "outputs": [
    {
     "name": "stdout",
     "output_type": "stream",
     "text": [
      "args = (4, 5, 6)\n",
      "kwarg = None\n",
      "kwargs = {'a': 1, 'b': 2, 'c': 3}\n"
     ]
    }
   ],
   "source": [
    "func(*List, **Dict)"
   ]
  },
  {
   "cell_type": "markdown",
   "id": "1f9e5dfc",
   "metadata": {},
   "source": [
    "## 混合示例"
   ]
  },
  {
   "cell_type": "code",
   "execution_count": 45,
   "id": "71921568",
   "metadata": {},
   "outputs": [],
   "source": [
    "def f(x, y, *myArgs, **myKW):\n",
    "    print(\"# x      = {}\".format(x))\n",
    "    print(\"# y      = {}\".format(y))\n",
    "    print(\"# myArgs = {}\".format(myArgs))\n",
    "    print(\"# myKW   = {}\".format(myKW))\n",
    "\n",
    "# Define a list for demonstration purposes\n",
    "myList    = [\"Left\", \"Right\", \"Up\", \"Down\"]\n",
    "# Define a dictionary for demonstration purposes\n",
    "myDict    = {\"Wubba\": \"lubba\", \"Dub\": \"dub\"}\n",
    "# Define a dictionary to feed y\n",
    "myArgDict = {'y': \"Why?\", 'y0': \"Why not?\", \"q\": \"Here is a cue!\"}"
   ]
  },
  {
   "cell_type": "code",
   "execution_count": 46,
   "id": "487a798a",
   "metadata": {},
   "outputs": [
    {
     "name": "stdout",
     "output_type": "stream",
     "text": [
      "# x      = myEx\n",
      "# y      = Left\n",
      "# myArgs = ('Right', 'Up', 'Down')\n",
      "# myKW   = {'Wubba': 'lubba', 'Dub': 'dub'}\n"
     ]
    }
   ],
   "source": [
    "# The 1st elem of myList feeds y\n",
    "f(\"myEx\", *myList, **myDict)"
   ]
  },
  {
   "cell_type": "code",
   "execution_count": 47,
   "id": "fde22c57",
   "metadata": {},
   "outputs": [
    {
     "name": "stdout",
     "output_type": "stream",
     "text": [
      "# x      = myEx\n",
      "# y      = Why?\n",
      "# myArgs = ()\n",
      "# myKW   = {'y0': 'Why not?', 'q': 'Here is a cue!'}\n"
     ]
    }
   ],
   "source": [
    "# y is matched and fed first\n",
    "# The rest of myArgDict becomes additional arguments feeding myKW\n",
    "f(\"myEx\", **myArgDict)"
   ]
  },
  {
   "cell_type": "code",
   "execution_count": 48,
   "id": "d6ebcbcd",
   "metadata": {},
   "outputs": [
    {
     "name": "stdout",
     "output_type": "stream",
     "text": [
      "# x      = myEx\n",
      "# y      = y\n",
      "# myArgs = ('y0', 'q')\n",
      "# myKW   = {}\n"
     ]
    }
   ],
   "source": [
    "# The rest of myArgDict becomes additional arguments feeding myArgs\n",
    "f(\"myEx\", *myArgDict)"
   ]
  },
  {
   "cell_type": "code",
   "execution_count": 49,
   "id": "6277495f",
   "metadata": {},
   "outputs": [
    {
     "name": "stdout",
     "output_type": "stream",
     "text": [
      "# x      = myEx\n",
      "# y      = 4\n",
      "# myArgs = (42, 420, 'Left', 'Right', 'Up', 'Down', 'Wubba', 'Dub')\n",
      "# myKW   = {'Wubba': 'lubba', 'Dub': 'dub'}\n"
     ]
    }
   ],
   "source": [
    "# Feed extra arguments manually and append even more from my list\n",
    "f(\"myEx\", 4, 42, 420, *myList, *myDict, **myDict)"
   ]
  },
  {
   "cell_type": "code",
   "execution_count": 50,
   "id": "c0dddbf8",
   "metadata": {},
   "outputs": [
    {
     "name": "stdout",
     "output_type": "stream",
     "text": [
      "# x      = ['Left', 'Right', 'Up', 'Down']\n",
      "# y      = {'Wubba': 'lubba', 'Dub': 'dub'}\n",
      "# myArgs = ()\n",
      "# myKW   = {}\n"
     ]
    }
   ],
   "source": [
    "# Without the stars, the entire provided list and dict become x, and y:\n",
    "f(myList, myDict)"
   ]
  },
  {
   "cell_type": "markdown",
   "id": "7189cc41",
   "metadata": {},
   "source": [
    "# 查看当前函数被谁调用"
   ]
  },
  {
   "cell_type": "code",
   "execution_count": 1,
   "id": "fa2a6ea6",
   "metadata": {},
   "outputs": [
    {
     "name": "stdout",
     "output_type": "stream",
     "text": [
      "function b is called by <FrameSummary file /tmp/ipykernel_28430/3295794188.py, line 11 in <module>>\n",
      "function a is called by function b\n"
     ]
    },
    {
     "data": {
      "text/plain": [
       "8"
      ]
     },
     "execution_count": 1,
     "metadata": {},
     "output_type": "execute_result"
    }
   ],
   "source": [
    "import traceback\n",
    "def a(num):\n",
    "    s = traceback.extract_stack()\n",
    "    print(\"function a is called by function\", s[-2][2])\n",
    "    return num + 1\n",
    "def b(num):\n",
    "    s = traceback.extract_stack()\n",
    "    print(\"function b is called by\", s[-2])\n",
    "    return a(num) * 2\n",
    "\n",
    "b(3)"
   ]
  },
  {
   "cell_type": "markdown",
   "id": "8ccfae61",
   "metadata": {},
   "source": [
    "# 查看函数、类所在的定义文件"
   ]
  },
  {
   "cell_type": "code",
   "execution_count": null,
   "id": "3ce4054f",
   "metadata": {},
   "outputs": [],
   "source": [
    "import sys, os\n",
    "print(os.path.abspath(sys.modules[<要查的类>.__module__].__file__))"
   ]
  }
 ],
 "metadata": {
  "kernelspec": {
   "display_name": "Python 3 (ipykernel)",
   "language": "python",
   "name": "python3"
  },
  "language_info": {
   "codemirror_mode": {
    "name": "ipython",
    "version": 3
   },
   "file_extension": ".py",
   "mimetype": "text/x-python",
   "name": "python",
   "nbconvert_exporter": "python",
   "pygments_lexer": "ipython3",
   "version": "3.9.7"
  },
  "toc": {
   "base_numbering": 1,
   "nav_menu": {},
   "number_sections": true,
   "sideBar": true,
   "skip_h1_title": false,
   "title_cell": "Table of Contents",
   "title_sidebar": "Contents",
   "toc_cell": false,
   "toc_position": {
    "height": "calc(100% - 180px)",
    "left": "10px",
    "top": "150px",
    "width": "248px"
   },
   "toc_section_display": true,
   "toc_window_display": true
  }
 },
 "nbformat": 4,
 "nbformat_minor": 5
}
