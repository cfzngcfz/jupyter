{
 "cells": [
  {
   "cell_type": "markdown",
   "id": "3d36e8c4",
   "metadata": {},
   "source": [
    "# 位运算\n",
    "\n",
    "https://blog.csdn.net/qq_41020281/article/details/80245374"
   ]
  },
  {
   "cell_type": "markdown",
   "id": "a59a9b82",
   "metadata": {},
   "source": [
    "## python"
   ]
  },
  {
   "cell_type": "code",
   "execution_count": null,
   "id": "b32e86d6",
   "metadata": {
    "scrolled": true
   },
   "outputs": [],
   "source": [
    "num1 = 10 #\"1010\"\n",
    "num2 = 3 #\"0011\""
   ]
  },
  {
   "cell_type": "code",
   "execution_count": null,
   "id": "e8a32b26",
   "metadata": {},
   "outputs": [],
   "source": [
    "# 按位与\n",
    "print( bin(num1 & num2)[2:] )\n",
    "print( 1&1 == 1 )\n",
    "print( 0&1 == 0 )\n",
    "print( 1&0 == 0 )\n",
    "print( 0&0 == 0 )"
   ]
  },
  {
   "cell_type": "code",
   "execution_count": null,
   "id": "cae59655",
   "metadata": {},
   "outputs": [],
   "source": [
    "# 按位或\n",
    "print( bin(num1 | num2)[2:] )\n",
    "print( 1|1 == 1 )\n",
    "print( 0|1 == 1 )\n",
    "print( 1|0 == 1 )\n",
    "print( 0|0 == 0 )"
   ]
  },
  {
   "cell_type": "code",
   "execution_count": null,
   "id": "6f8e9d98",
   "metadata": {},
   "outputs": [],
   "source": [
    "# 按位异或\n",
    "print( bin(num1 ^ num2)[2:] )\n",
    "print( 1^1 == 0 )\n",
    "print( 0^1 == 1 )\n",
    "print( 1^0 == 1 )\n",
    "print( 0^0 == 0 )"
   ]
  },
  {
   "cell_type": "code",
   "execution_count": null,
   "id": "29ee5701",
   "metadata": {},
   "outputs": [],
   "source": [
    "# 按位取反，即 ~x = -（x+1）\n",
    "print( bin(~num1) )\n",
    "print( ~num1 == -(num1+1) )"
   ]
  },
  {
   "cell_type": "code",
   "execution_count": null,
   "id": "ece2e1ad",
   "metadata": {},
   "outputs": [],
   "source": [
    "# 按位左移 \n",
    "print( bin(num1 << 1)[2:] ) #在右侧增加一个0\n",
    "print( bin(num2 << 1)[2:] )\n",
    "print( 1<<9 == 2**9)"
   ]
  },
  {
   "cell_type": "code",
   "execution_count": null,
   "id": "df18c3c7",
   "metadata": {},
   "outputs": [],
   "source": [
    "# 按位右移\n",
    "print( bin(num1 >> 1)[2:] ) #在右侧删除一位\n",
    "print( bin(num2 >> 1)[2:] )"
   ]
  },
  {
   "cell_type": "markdown",
   "id": "49ab6f44",
   "metadata": {},
   "source": [
    "## c++"
   ]
  },
  {
   "cell_type": "code",
   "execution_count": 1,
   "id": "e468827d",
   "metadata": {},
   "outputs": [],
   "source": [
    "#include<iostream>\n",
    "#include<bitset>\n",
    "using namespace std;  //命名空间\n",
    "int num1 = 10; //\"1010\"\n",
    "int num2 = 3;  //\"0011\""
   ]
  },
  {
   "cell_type": "code",
   "execution_count": 4,
   "id": "28003cff",
   "metadata": {},
   "outputs": [
    {
     "name": "stdout",
     "output_type": "stream",
     "text": [
      "2 -> 00000010\n",
      "1\n",
      "0\n",
      "0\n",
      "0\n"
     ]
    }
   ],
   "source": [
    "// 按位与\n",
    "int num3 = num1 & num2;\n",
    "cout << num3 << \" -> \"<< bitset<8>( num3 ).to_string() << endl;\n",
    "cout << int(1&1) << endl;\n",
    "cout << int(0&1) << endl;\n",
    "cout << int(1&0) << endl;\n",
    "cout << int(0&0) << endl;"
   ]
  },
  {
   "cell_type": "code",
   "execution_count": 5,
   "id": "2ce272b3",
   "metadata": {},
   "outputs": [
    {
     "name": "stdout",
     "output_type": "stream",
     "text": [
      "11 -> 00001011\n",
      "1\n",
      "1\n",
      "1\n",
      "0\n"
     ]
    }
   ],
   "source": [
    "// 按位或\n",
    "int num3 = num1 | num2;\n",
    "cout << num3 << \" -> \"<< bitset<8>( num3 ).to_string() << endl;\n",
    "cout << int(1|1) << endl;\n",
    "cout << int(0|1) << endl;\n",
    "cout << int(1|0) << endl;\n",
    "cout << int(0|0) << endl;"
   ]
  },
  {
   "cell_type": "code",
   "execution_count": 6,
   "id": "433ab468",
   "metadata": {},
   "outputs": [
    {
     "name": "stdout",
     "output_type": "stream",
     "text": [
      "9 -> 00001001\n",
      "0\n",
      "1\n",
      "1\n",
      "0\n"
     ]
    },
    {
     "data": {
      "text/plain": [
       "@0x7f170703bba0"
      ]
     },
     "execution_count": 6,
     "metadata": {},
     "output_type": "execute_result"
    }
   ],
   "source": [
    "// 按位异或\n",
    "int num3 = num1 ^ num2;\n",
    "cout << num3 << \" -> \"<< bitset<8>( num3 ).to_string() << endl;\n",
    "cout << int(1^1) << endl;\n",
    "cout << int(0^1) << endl;\n",
    "cout << int(1^0) << endl;\n",
    "cout << int(0^0) << endl;"
   ]
  },
  {
   "cell_type": "code",
   "execution_count": 9,
   "id": "7586ae34",
   "metadata": {},
   "outputs": [
    {
     "name": "stdout",
     "output_type": "stream",
     "text": [
      "-11 = -11\n"
     ]
    },
    {
     "data": {
      "text/plain": [
       "@0x7f170703bba0"
      ]
     },
     "execution_count": 9,
     "metadata": {},
     "output_type": "execute_result"
    }
   ],
   "source": [
    "// 按位取反，即 ~x = -（x+1）\n",
    "int num3 = ~num1;\n",
    "cout << num3 << \" = \" << -(num1+1) << endl;\n",
    "// -(num1+1) )"
   ]
  },
  {
   "cell_type": "code",
   "execution_count": 18,
   "id": "70165efa",
   "metadata": {},
   "outputs": [
    {
     "name": "stdout",
     "output_type": "stream",
     "text": [
      "10 -> 00001010\n",
      "20 -> 00010100\n",
      "3 -> 00000011\n",
      "6 -> 00000110\n",
      "512 = 512\n"
     ]
    }
   ],
   "source": [
    "// 按位左移\n",
    "int num3 = num1 << 1; // 在右侧增加一个0\n",
    "cout << num1 << \" -> \" << bitset<8>( num1 ).to_string() << endl;\n",
    "cout << num3 << \" -> \" << bitset<8>( num3 ).to_string() << endl;\n",
    "\n",
    "num3 = num2 << 1;\n",
    "cout << num2 << \" -> \" << bitset<8>( num2 ).to_string() << endl;\n",
    "cout << num3 << \" -> \" << bitset<8>( num3 ).to_string() << endl;\n",
    "\n",
    "cout << int(1<<9) << \" = \" << int(pow(2,9)) << endl; "
   ]
  },
  {
   "cell_type": "code",
   "execution_count": 19,
   "id": "e6735570",
   "metadata": {},
   "outputs": [
    {
     "name": "stdout",
     "output_type": "stream",
     "text": [
      "10 -> 00001010\n",
      "5 -> 00000101\n",
      "3 -> 00000011\n",
      "1 -> 00000001\n"
     ]
    },
    {
     "data": {
      "text/plain": [
       "@0x7f170703bba0"
      ]
     },
     "execution_count": 19,
     "metadata": {},
     "output_type": "execute_result"
    }
   ],
   "source": [
    "// 按位右移\n",
    "int num3 = num1 >> 1; // 在右侧删除一位\n",
    "cout << num1 << \" -> \" << bitset<8>( num1 ).to_string() << endl;\n",
    "cout << num3 << \" -> \" << bitset<8>( num3 ).to_string() << endl;\n",
    "\n",
    "num3 = num2 >> 1;\n",
    "cout << num2 << \" -> \" << bitset<8>( num2 ).to_string() << endl;\n",
    "cout << num3 << \" -> \" << bitset<8>( num3 ).to_string() << endl;"
   ]
  },
  {
   "cell_type": "code",
   "execution_count": null,
   "id": "2f9eb83b",
   "metadata": {},
   "outputs": [],
   "source": []
  }
 ],
 "metadata": {
  "kernelspec": {
   "display_name": "C++17",
   "language": "C++17",
   "name": "xcpp17"
  },
  "language_info": {
   "codemirror_mode": "text/x-c++src",
   "file_extension": ".cpp",
   "mimetype": "text/x-c++src",
   "name": "c++",
   "version": "17"
  },
  "toc": {
   "base_numbering": 1,
   "nav_menu": {},
   "number_sections": true,
   "sideBar": true,
   "skip_h1_title": false,
   "title_cell": "Table of Contents",
   "title_sidebar": "Contents",
   "toc_cell": false,
   "toc_position": {},
   "toc_section_display": true,
   "toc_window_display": false
  }
 },
 "nbformat": 4,
 "nbformat_minor": 5
}
