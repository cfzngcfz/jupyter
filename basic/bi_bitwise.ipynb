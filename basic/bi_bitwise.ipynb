{
 "cells": [
  {
   "cell_type": "markdown",
   "id": "3d36e8c4",
   "metadata": {},
   "source": [
    "# 位运算\n",
    "\n",
    "https://blog.csdn.net/qq_41020281/article/details/80245374"
   ]
  },
  {
   "cell_type": "markdown",
   "id": "a0a16fed",
   "metadata": {},
   "source": [
    "## 按位与(&)"
   ]
  },
  {
   "cell_type": "code",
   "execution_count": 3,
   "id": "e8a32b26",
   "metadata": {},
   "outputs": [
    {
     "name": "stdout",
     "output_type": "stream",
     "text": [
      "10\n",
      "True\n",
      "True\n",
      "True\n",
      "True\n"
     ]
    }
   ],
   "source": [
    "num1 = 10 #\"1010\"\n",
    "num2 = 3  #\"0011\n",
    "\n",
    "print( bin(num1 & num2)[2:] )\n",
    "print( 1&1 == 1 )\n",
    "print( 0&1 == 0 )\n",
    "print( 1&0 == 0 )\n",
    "print( 0&0 == 0 )"
   ]
  },
  {
   "cell_type": "code",
   "execution_count": 1,
   "id": "28003cff",
   "metadata": {},
   "outputs": [
    {
     "name": "stdout",
     "output_type": "stream",
     "text": [
      "2 -> 00000010\n",
      "1\n",
      "0\n",
      "0\n",
      "0\n"
     ]
    }
   ],
   "source": [
    "#include<iostream>\n",
    "#include<bitset>\n",
    "int num1 = 10; //\"1010\"\n",
    "int num2 = 3;  //\"0011\"\n",
    "\n",
    "int num3 = num1 & num2;\n",
    "std::cout << num3 << \" -> \"<< std::bitset<8>(num3).to_string() << std::endl;\n",
    "std::cout << int(1&1) << std::endl;\n",
    "std::cout << int(0&1) << std::endl;\n",
    "std::cout << int(1&0) << std::endl;\n",
    "std::cout << int(0&0) << std::endl;"
   ]
  },
  {
   "cell_type": "markdown",
   "id": "49c16815",
   "metadata": {},
   "source": [
    "## 按位或(|)"
   ]
  },
  {
   "cell_type": "code",
   "execution_count": 4,
   "id": "cae59655",
   "metadata": {},
   "outputs": [
    {
     "name": "stdout",
     "output_type": "stream",
     "text": [
      "1011\n",
      "True\n",
      "True\n",
      "True\n",
      "True\n"
     ]
    }
   ],
   "source": [
    "num1 = 10 #\"1010\"\n",
    "num2 = 3  #\"0011\n",
    "\n",
    "print( bin(num1 | num2)[2:] )\n",
    "print( 1|1 == 1 )\n",
    "print( 0|1 == 1 )\n",
    "print( 1|0 == 1 )\n",
    "print( 0|0 == 0 )"
   ]
  },
  {
   "cell_type": "code",
   "execution_count": 2,
   "id": "2ce272b3",
   "metadata": {},
   "outputs": [
    {
     "name": "stdout",
     "output_type": "stream",
     "text": [
      "11 -> 00001011\n",
      "1\n",
      "1\n",
      "1\n",
      "0\n"
     ]
    }
   ],
   "source": [
    "#include<iostream>\n",
    "#include<bitset>\n",
    "int num1 = 10; //\"1010\"\n",
    "int num2 = 3;  //\"0011\"\n",
    "\n",
    "int num3 = num1 | num2;\n",
    "std::cout << num3 << \" -> \"<< std::bitset<8>(num3).to_string() << std::endl;\n",
    "std::cout << int(1|1) << std::endl;\n",
    "std::cout << int(0|1) << std::endl;\n",
    "std::cout << int(1|0) << std::endl;\n",
    "std::cout << int(0|0) << std::endl;"
   ]
  },
  {
   "cell_type": "markdown",
   "id": "d8dc98d4",
   "metadata": {},
   "source": [
    "## 按位异或(^)"
   ]
  },
  {
   "cell_type": "code",
   "execution_count": 5,
   "id": "6f8e9d98",
   "metadata": {},
   "outputs": [
    {
     "name": "stdout",
     "output_type": "stream",
     "text": [
      "1001\n",
      "True\n",
      "True\n",
      "True\n",
      "True\n"
     ]
    }
   ],
   "source": [
    "num1 = 10 #\"1010\"\n",
    "num2 = 3  #\"0011\n",
    "\n",
    "print( bin(num1 ^ num2)[2:] )\n",
    "print( 1^1 == 0 )\n",
    "print( 0^1 == 1 )\n",
    "print( 1^0 == 1 )\n",
    "print( 0^0 == 0 )"
   ]
  },
  {
   "cell_type": "code",
   "execution_count": 3,
   "id": "433ab468",
   "metadata": {},
   "outputs": [
    {
     "name": "stdout",
     "output_type": "stream",
     "text": [
      "9 -> 00001001\n",
      "0\n",
      "1\n",
      "1\n",
      "0\n"
     ]
    }
   ],
   "source": [
    "#include<iostream>\n",
    "#include<bitset>\n",
    "int num1 = 10; //\"1010\"\n",
    "int num2 = 3;  //\"0011\"\n",
    "\n",
    "int num3 = num1 ^ num2;\n",
    "std::cout << num3 << \" -> \"<< std::bitset<8>(num3).to_string() << std::endl;\n",
    "std::cout << int(1^1) << std::endl;\n",
    "std::cout << int(0^1) << std::endl;\n",
    "std::cout << int(1^0) << std::endl;\n",
    "std::cout << int(0^0) << std::endl;"
   ]
  },
  {
   "cell_type": "markdown",
   "id": "a57f4a7a",
   "metadata": {},
   "source": [
    "## 按位取反(~)\n",
    "即 ~x = -(x+1)"
   ]
  },
  {
   "cell_type": "code",
   "execution_count": 6,
   "id": "29ee5701",
   "metadata": {},
   "outputs": [
    {
     "name": "stdout",
     "output_type": "stream",
     "text": [
      "-0b1011\n",
      "True\n"
     ]
    }
   ],
   "source": [
    "num1 = 10 #\"1010\"\n",
    "\n",
    "print( bin(~num1) )\n",
    "print( ~num1 == -(num1+1) )"
   ]
  },
  {
   "cell_type": "code",
   "execution_count": 5,
   "id": "7586ae34",
   "metadata": {},
   "outputs": [
    {
     "name": "stdout",
     "output_type": "stream",
     "text": [
      "-11 = -11\n"
     ]
    }
   ],
   "source": [
    "#include<iostream>\n",
    "#include<bitset>\n",
    "int num1 = 10; //\"1010\"\n",
    "\n",
    "int num3 = ~num1;\n",
    "std::cout << num3 << \" = \" << -(num1 + 1) << std::endl;"
   ]
  },
  {
   "cell_type": "markdown",
   "id": "09770996",
   "metadata": {},
   "source": [
    "## 按位左移\n",
    "在右侧增加一个0"
   ]
  },
  {
   "cell_type": "code",
   "execution_count": 7,
   "id": "ece2e1ad",
   "metadata": {},
   "outputs": [
    {
     "name": "stdout",
     "output_type": "stream",
     "text": [
      "10100\n",
      "110\n",
      "True\n"
     ]
    }
   ],
   "source": [
    "num1 = 10 #\"1010\"\n",
    "num2 = 3  #\"0011\n",
    "\n",
    "print( bin(num1 << 1)[2:] )\n",
    "print( bin(num2 << 1)[2:] )\n",
    "print( 1<<9 == 2**9)"
   ]
  },
  {
   "cell_type": "code",
   "execution_count": 6,
   "id": "70165efa",
   "metadata": {},
   "outputs": [
    {
     "name": "stdout",
     "output_type": "stream",
     "text": [
      "10 -> 00001010\n",
      "20 -> 00010100\n",
      "3 -> 00000011\n",
      "6 -> 00000110\n",
      "512 = 512\n"
     ]
    }
   ],
   "source": [
    "#include<iostream>\n",
    "#include<bitset>\n",
    "int num1 = 10; //\"1010\"\n",
    "int num2 = 3;  //\"0011\"\n",
    "\n",
    "int num3 = num1 << 1;\n",
    "std::cout << num1 << \" -> \" << std::bitset<8>( num1 ).to_string() << std::endl;\n",
    "std::cout << num3 << \" -> \" << std::bitset<8>( num3 ).to_string() << std::endl;\n",
    "\n",
    "num3 = num2 << 1;\n",
    "std::cout << num2 << \" -> \" << std::bitset<8>(num2).to_string() << std::endl;\n",
    "std::cout << num3 << \" -> \" << std::bitset<8>(num3).to_string() << std::endl;\n",
    "\n",
    "std::cout << int(1<<9) << \" = \" << int(pow(2,9)) << std::endl; "
   ]
  },
  {
   "cell_type": "markdown",
   "id": "0f5e41ac",
   "metadata": {},
   "source": [
    "## 按位右移\n",
    "在右侧删除一位"
   ]
  },
  {
   "cell_type": "code",
   "execution_count": 9,
   "id": "df18c3c7",
   "metadata": {},
   "outputs": [
    {
     "name": "stdout",
     "output_type": "stream",
     "text": [
      "101\n",
      "1\n"
     ]
    }
   ],
   "source": [
    "num1 = 10 #\"1010\"\n",
    "num2 = 3  #\"0011\n",
    "\n",
    "print( bin(num1 >> 1)[2:] )\n",
    "print( bin(num2 >> 1)[2:] )"
   ]
  },
  {
   "cell_type": "code",
   "execution_count": 7,
   "id": "e6735570",
   "metadata": {},
   "outputs": [
    {
     "name": "stdout",
     "output_type": "stream",
     "text": [
      "10 -> 00001010\n",
      "5 -> 00000101\n",
      "3 -> 00000011\n",
      "1 -> 00000001\n"
     ]
    }
   ],
   "source": [
    "#include<iostream>\n",
    "#include<bitset>\n",
    "int num1 = 10; //\"1010\"\n",
    "int num2 = 3;  //\"0011\"\n",
    "\n",
    "int num3 = num1 >> 1; // 在右侧删除一位\n",
    "std::cout << num1 << \" -> \" << std::bitset<8>(num1).to_string() << std::endl;\n",
    "std::cout << num3 << \" -> \" << std::bitset<8>(num3).to_string() << std::endl;\n",
    "\n",
    "num3 = num2 >> 1;\n",
    "std::cout << num2 << \" -> \" << std::bitset<8>(num2).to_string() << std::endl;\n",
    "std::cout << num3 << \" -> \" << std::bitset<8>(num3).to_string() << std::endl;"
   ]
  },
  {
   "attachments": {
    "image.png": {
     "image/png": "[encoded data removed]"
    }
   },
   "cell_type": "markdown",
   "id": "7327db0e",
   "metadata": {},
   "source": [
    "# 进制转换\n",
    "![image.png](attachment:image.png)\n",
    "refer to: https://blog.csdn.net/qq_41020281/article/details/80245374"
   ]
  },
  {
   "cell_type": "markdown",
   "id": "5074bdde",
   "metadata": {},
   "source": [
    "## 十进制->二进制(字符串)"
   ]
  },
  {
   "cell_type": "code",
   "execution_count": 10,
   "id": "1eb7133f",
   "metadata": {},
   "outputs": [
    {
     "name": "stdout",
     "output_type": "stream",
     "text": [
      "0b10010\n"
     ]
    }
   ],
   "source": [
    "print(bin(18))"
   ]
  },
  {
   "cell_type": "markdown",
   "id": "2d7eccc5",
   "metadata": {},
   "source": [
    "## 二进制(字符串)->十进制"
   ]
  },
  {
   "cell_type": "code",
   "execution_count": 11,
   "id": "0e57160f",
   "metadata": {},
   "outputs": [
    {
     "name": "stdout",
     "output_type": "stream",
     "text": [
      "18\n",
      "18\n"
     ]
    }
   ],
   "source": [
    "print(int(\"0b10010\", 2))\n",
    "print(int(\"10010\", 2))"
   ]
  },
  {
   "cell_type": "markdown",
   "id": "3c3cb949",
   "metadata": {},
   "source": [
    "## 十进制->八进制(字符串)"
   ]
  },
  {
   "cell_type": "code",
   "execution_count": 14,
   "id": "4834cef7",
   "metadata": {},
   "outputs": [
    {
     "name": "stdout",
     "output_type": "stream",
     "text": [
      "0o22\n"
     ]
    }
   ],
   "source": [
    "print(oct(18))"
   ]
  },
  {
   "cell_type": "markdown",
   "id": "02a21e8c",
   "metadata": {},
   "source": [
    "## 八进制(字符串)->十进制"
   ]
  },
  {
   "cell_type": "code",
   "execution_count": 15,
   "id": "ed1f6937",
   "metadata": {},
   "outputs": [
    {
     "name": "stdout",
     "output_type": "stream",
     "text": [
      "18\n",
      "18\n"
     ]
    }
   ],
   "source": [
    "print(int('0o22', 8))\n",
    "print(int(\"22\", 8))"
   ]
  },
  {
   "cell_type": "markdown",
   "id": "fcd12401",
   "metadata": {},
   "source": [
    "## 十进制->十六进制(字符串)"
   ]
  },
  {
   "cell_type": "code",
   "execution_count": 17,
   "id": "f15ee965",
   "metadata": {},
   "outputs": [
    {
     "name": "stdout",
     "output_type": "stream",
     "text": [
      "0x12\n"
     ]
    }
   ],
   "source": [
    "print(hex(18))"
   ]
  },
  {
   "cell_type": "markdown",
   "id": "6d0763d1",
   "metadata": {},
   "source": [
    "## 十六进制(字符串)->十进制"
   ]
  },
  {
   "cell_type": "code",
   "execution_count": 18,
   "id": "19b54494",
   "metadata": {},
   "outputs": [
    {
     "name": "stdout",
     "output_type": "stream",
     "text": [
      "18\n",
      "18\n"
     ]
    }
   ],
   "source": [
    "print(int(\"0x12\", 16))\n",
    "print(int(\"12\", 16))"
   ]
  },
  {
   "cell_type": "code",
   "execution_count": null,
   "id": "ad235b6c",
   "metadata": {},
   "outputs": [],
   "source": []
  }
 ],
 "metadata": {
  "kernelspec": {
   "display_name": "Python 3 (ipykernel)",
   "language": "python",
   "name": "python3"
  },
  "language_info": {
   "codemirror_mode": {
    "name": "ipython",
    "version": 3
   },
   "file_extension": ".py",
   "mimetype": "text/x-python",
   "name": "python",
   "nbconvert_exporter": "python",
   "pygments_lexer": "ipython3",
   "version": "3.9.7"
  },
  "toc": {
   "base_numbering": 1,
   "nav_menu": {},
   "number_sections": true,
   "sideBar": true,
   "skip_h1_title": false,
   "title_cell": "Table of Contents",
   "title_sidebar": "Contents",
   "toc_cell": false,
   "toc_position": {
    "height": "calc(100% - 180px)",
    "left": "10px",
    "top": "150px",
    "width": "295.837px"
   },
   "toc_section_display": true,
   "toc_window_display": true
  }
 },
 "nbformat": 4,
 "nbformat_minor": 5
}
