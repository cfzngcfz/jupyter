{
 "cells": [
  {
   "cell_type": "markdown",
   "id": "1ccc2c5d",
   "metadata": {},
   "source": [
    "string\n",
    "\n",
    "cpp:\n",
    "https://en.cppreference.com/w/cpp/string/basic_string  \n",
    "http://c.biancheng.net/view/400.html  \n",
    "\n",
    "# 基本操作"
   ]
  },
  {
   "cell_type": "code",
   "execution_count": null,
   "id": "6e929485",
   "metadata": {},
   "outputs": [],
   "source": [
    "# python\n",
    "str1 = '0123456789'\n",
    "print('显示全部字符串',str1[:])\n",
    "print('逆序显示全部字符串',str1[::-1])\n",
    "print(\"显示第3个字符串\",str1[2])\n",
    "print(\"显示倒数第1个字符串\",str1[-1])\n",
    "print(\"显示倒数第3个字符串\",str1[-3])\n",
    "print(\"显示[0,3)字符串\",str1[0:3])\n",
    "print(\"显示[6,len(str1))字符串\",str1[6:])\n",
    "print(\"显示[0,倒数第3个)字符串\",str1[:-3])\n",
    "print(\"显示[倒数第3个,倒数第1个)字符串\",str1[-3:-1])\n",
    "print(\"显示[倒数第3个,len(str1))字符串\",str1[-3:])\n",
    "\n",
    "print('中间三个字符用A替换',str1[:3]+'A'*3+str1[-3:])"
   ]
  },
  {
   "cell_type": "code",
   "execution_count": null,
   "id": "b4271e31",
   "metadata": {},
   "outputs": [],
   "source": [
    "// C++\n",
    "\n",
    "#include<iostream> \n",
    "#include<string>\n",
    "using namespace std;\n",
    "\n",
    "string str1 = \"abc\";\n",
    "cout << \"first char: \" << str1.at(0) << endl;\n",
    "cout << \"first char: \" << str1[0] << endl;\n",
    "cout << \"first char: \" << str1.front() << endl;\n",
    "cout << \"last char: \" << str1.back() << endl;"
   ]
  },
  {
   "cell_type": "markdown",
   "id": "244d3aa8",
   "metadata": {},
   "source": [
    "## 插入"
   ]
  },
  {
   "cell_type": "code",
   "execution_count": null,
   "id": "3c0e60cd",
   "metadata": {},
   "outputs": [],
   "source": [
    "#include<iostream> \n",
    "#include<string>\n",
    "using namespace std;"
   ]
  },
  {
   "cell_type": "markdown",
   "id": "bf2df589",
   "metadata": {},
   "source": [
    "### 插入字符"
   ]
  },
  {
   "cell_type": "code",
   "execution_count": null,
   "id": "771526b1",
   "metadata": {},
   "outputs": [],
   "source": [
    "string str1 = \"abc\";\n",
    "// basic_string& insert( size_type index, size_type count, CharT ch );\n",
    "str1.insert(1, 2, '*'); // 在第2个位置插入n个字符\n",
    "cout << str1 << endl;"
   ]
  },
  {
   "cell_type": "code",
   "execution_count": null,
   "id": "e2cc2524",
   "metadata": {},
   "outputs": [],
   "source": [
    "string str1 = \"abc\";\n",
    "// iterator insert( const_iterator pos, CharT ch );\n",
    "str1.insert(str1.begin()+1, '*'); // 在第2个位置插入1个字符\n",
    "cout << str1 << endl;"
   ]
  },
  {
   "cell_type": "code",
   "execution_count": null,
   "id": "5692bcc7",
   "metadata": {},
   "outputs": [],
   "source": [
    "string str1 = \"abc\";\n",
    "// iterator insert( const_iterator pos, size_type count, CharT ch );\n",
    "str1.insert(str1.begin()+1, 2, '*'); // 在第2个位置插入n个字符\n",
    "cout << str1 << endl;"
   ]
  },
  {
   "cell_type": "markdown",
   "id": "d310c88f",
   "metadata": {},
   "source": [
    "### 插入字符串"
   ]
  },
  {
   "cell_type": "code",
   "execution_count": null,
   "id": "580c8235",
   "metadata": {},
   "outputs": [],
   "source": [
    "string str2 = \"abc\";\n",
    "// basic_string& insert( size_type index, const basic_string& str );\n",
    "str2.insert(1, \"**\");  // 第2个位置插入字符串\n",
    "cout << str2 << endl;\n"
   ]
  },
  {
   "cell_type": "code",
   "execution_count": null,
   "id": "5cea443f",
   "metadata": {},
   "outputs": [],
   "source": [
    "string str6 = \"abc\";\n",
    "string str7 = \"**\";\n",
    "// iterator insert( const_iterator pos, InputIt first, InputIt last );\n",
    "str6.insert(str6.begin()+1, begin(str7), end(str7));  // 第2个位置插入字符串\"E-E\"\n",
    "cout << str6 << endl;"
   ]
  },
  {
   "cell_type": "markdown",
   "id": "61de93a2",
   "metadata": {},
   "source": [
    "### 插入部分字符串"
   ]
  },
  {
   "cell_type": "code",
   "execution_count": null,
   "id": "0c0e8b67",
   "metadata": {},
   "outputs": [],
   "source": [
    "string str3 = \"abc\";\n",
    "// basic_string& insert( size_type index, const basic_string& str, size_type index_str, size_type count = npos );\n",
    "str3.insert(1, \"123456789\", 2); // 在第2个位置，插入字符串的前2位\n",
    "cout << str3 << endl;"
   ]
  },
  {
   "cell_type": "code",
   "execution_count": null,
   "id": "ed84228a",
   "metadata": {},
   "outputs": [],
   "source": [
    "string str4 = \"abc\";\n",
    "str4.insert(1, \"123456789\", 2, 3); // 在第2个位置，插入字符串从第3个开始3个字符\n",
    "cout << str4 << endl;"
   ]
  },
  {
   "cell_type": "markdown",
   "id": "c6c7dcf6",
   "metadata": {},
   "source": [
    "## 删除"
   ]
  },
  {
   "cell_type": "code",
   "execution_count": null,
   "id": "997bdcf1",
   "metadata": {},
   "outputs": [],
   "source": [
    "#include<iostream> \n",
    "#include<string>\n",
    "using namespace std;"
   ]
  },
  {
   "cell_type": "code",
   "execution_count": null,
   "id": "3a8de8c3",
   "metadata": {},
   "outputs": [],
   "source": [
    "string str1 = \"abcdefg\";\n",
    "// basic_string& erase( size_type index = 0, size_type count = npos );\n",
    "str1.erase(2); //  删除第3即以后所有字符\n",
    "cout << str1 << endl;"
   ]
  },
  {
   "cell_type": "code",
   "execution_count": null,
   "id": "4609821f",
   "metadata": {},
   "outputs": [],
   "source": [
    "string str2 = \"abcdefg\";\n",
    "str2.erase(2,1); // 删除第3位开始的1个字符\n",
    "cout << str2 << endl;"
   ]
  },
  {
   "cell_type": "code",
   "execution_count": null,
   "id": "8aaa35e3",
   "metadata": {},
   "outputs": [],
   "source": [
    "string str3 = \"abcdefg\";\n",
    "// iterator erase( iterator position );\n",
    "str3.erase(str3.begin()+2); // 删除第3位的字符\n",
    "cout << str3 << endl;"
   ]
  },
  {
   "cell_type": "code",
   "execution_count": null,
   "id": "31c2c392",
   "metadata": {},
   "outputs": [],
   "source": [
    "string str4 = \"abcdefg\";\n",
    "// iterator erase( iterator first, iterator last );\n",
    "str4.erase(str4.begin()+2, str4.begin()+4); // 删除[3,5)位字符\n",
    "cout << str4 << endl;"
   ]
  },
  {
   "cell_type": "code",
   "execution_count": null,
   "id": "6df3b89b",
   "metadata": {},
   "outputs": [],
   "source": [
    "string str1 = \"abcdefg\";\n",
    "str1.pop_back(); // removes the last character\n",
    "cout << str1 << endl;"
   ]
  },
  {
   "cell_type": "markdown",
   "id": "8ac2da7f",
   "metadata": {},
   "source": [
    "## 片段"
   ]
  },
  {
   "cell_type": "code",
   "execution_count": null,
   "id": "1b5e5bd1",
   "metadata": {},
   "outputs": [],
   "source": [
    "string str = \"abcdefg\";\n",
    "// basic_string substr( size_type pos = 0, size_type count = npos ) const;\n",
    "cout << str.substr(2) << endl; // 字符串的第3位开始到末尾"
   ]
  },
  {
   "cell_type": "code",
   "execution_count": null,
   "id": "b316d7d0",
   "metadata": {},
   "outputs": [],
   "source": [
    "cout << str.substr(2, 4) << endl; // 字符串从第3位开始的4个字符"
   ]
  },
  {
   "cell_type": "code",
   "execution_count": null,
   "id": "90b80497",
   "metadata": {},
   "outputs": [],
   "source": [
    "cout << str << endl; // 字符串的第3位开始到末尾"
   ]
  },
  {
   "cell_type": "markdown",
   "id": "e0136be0",
   "metadata": {},
   "source": [
    "## 拼接"
   ]
  },
  {
   "cell_type": "code",
   "execution_count": null,
   "id": "7b82d56b",
   "metadata": {},
   "outputs": [],
   "source": [
    "# python\n",
    "print(\"'a'与'b'用空格拼接:\", 'a'+'b')\n",
    "print(['a','b','c'], \"用空格拼接:\", \"\".join(['a','b','c']))\n",
    "print(['a','b','c'], \"用'|'拼接:\", \"|\".join(['a','b','c']))\n",
    "print(set(['a','b','c']), \"用空格拼接:\", \"\".join(set(['a','b','c'])))\n",
    "print({'a':'1','b':'2','c':'3'}, \"用空格拼接:\", \"\".join({'a':'1','b':'2','c':'3'}))"
   ]
  },
  {
   "cell_type": "code",
   "execution_count": null,
   "id": "5555e1d0",
   "metadata": {},
   "outputs": [],
   "source": [
    "// cpp\n",
    "#include<string>\n",
    "#include<iostream>\n",
    "using namespace std;\n",
    "\n",
    "string str1 = \"a\";\n",
    "str1 += '.'; // 末尾添加一个字符\n",
    "cout << str1 << endl;\n",
    "str1 += \"DD\"; // 末尾添加一个字符串\n",
    "cout << str1 << endl;"
   ]
  },
  {
   "cell_type": "code",
   "execution_count": null,
   "id": "ab085f72",
   "metadata": {},
   "outputs": [],
   "source": [
    "// 小结：+= 可替代 push_back() 和 append()\n",
    "string str1 = \"\";\n",
    "//void push_back( CharT ch );\n",
    "str1.push_back('a');  // appends a character to the end\n",
    "cout << \"1) \" << str1 << endl;\n",
    "\n",
    "// basic_string& append( size_type count, CharT ch );\n",
    "str1.append(1, '.'); // 在字符串末尾，添加n个字符\n",
    "cout << \"2) \" << str1 << endl;\n",
    "\n",
    "// basic_string& append( const basic_string& str );\n",
    "str1.append(\"BB\"); // 在字符串末尾，添加字符串\n",
    "cout << \"3) \" << str1 << endl;\n",
    "\n",
    "string str2 = \"123456789\";\n",
    "// basic_string& append( const basic_string& str, size_type pos, size_type count = npos );\n",
    "str1.append(str2, 5); // 在字符串末尾，添加str2从第6位开始的所有字符\n",
    "cout << \"4) \" << str1 << endl;\n",
    "\n",
    "str1.append(str2, 8, 3); // 在字符串末尾，添加str2从第9位开始的3个字符，即仅添加9\n",
    "cout << \"5) \" << str1 << endl;\n",
    "\n",
    "// basic_string& append( InputIt first, InputIt last );\n",
    "str1.append(begin(str2), begin(str2)+3); // 在字符串末尾，添加str2的[0,3)位\n",
    "cout << \"6) \" << str1 << endl;\n",
    "\n",
    "// basic_string& append( std::initializer_list<CharT> ilist );\n",
    "str1.append({'l', 'i', 's', 't' });\n",
    "cout << \"7) \" << str1 << endl;"
   ]
  },
  {
   "cell_type": "markdown",
   "id": "a0ced66f",
   "metadata": {},
   "source": [
    "## 替换"
   ]
  },
  {
   "cell_type": "code",
   "execution_count": null,
   "id": "d4972532",
   "metadata": {},
   "outputs": [],
   "source": [
    "str1 = '01e01z01'\n",
    "print(\"用'A'替换全部'01':\", str1.replace('01', 'A') )\n",
    "print(\"用'A'替换全部'01':\", str1.replace('01', 'A', -1) )\n",
    "print(\"用'A'替换前2个'01':\", str1.replace('01', 'A', 2) )"
   ]
  },
  {
   "cell_type": "code",
   "execution_count": null,
   "id": "f31e1b46",
   "metadata": {},
   "outputs": [],
   "source": [
    "// cpp 替换为 n个char 或 string\n",
    "#include<iostream> \n",
    "#include<string>\n",
    "using namespace std;\n",
    "\n",
    "string str1 = \"abcdefghi\";\n",
    "// basic_string& replace( size_type pos, size_type count, size_type count2, CharT ch );\n",
    "cout << str1.replace(3, 3, 1, '.') << endl; // 将str1从4位开始的3个字符 替换为1个字符'.'"
   ]
  },
  {
   "cell_type": "code",
   "execution_count": null,
   "id": "8835ae4c",
   "metadata": {},
   "outputs": [],
   "source": [
    "string str1 = \"abcdefghi\", str2 = \"123456789\";\n",
    "// basic_string& replace( size_type pos, size_type count, const basic_string& str );\n",
    "cout << str1.replace(3, 3, str2) << endl; // 将str1从4位开始的3个字符 替换为str2"
   ]
  },
  {
   "cell_type": "code",
   "execution_count": null,
   "id": "ab8cd2cb",
   "metadata": {},
   "outputs": [],
   "source": [
    "string str1 = \"abcdefghi\", str2 = \"123456789\";\n",
    "cout << str1.replace(3, 3, str2, 3) << endl; // 将str1从4位开始的3个字符 替换为str2从4位开始的所有字符"
   ]
  },
  {
   "cell_type": "code",
   "execution_count": null,
   "id": "286b0ae8",
   "metadata": {},
   "outputs": [],
   "source": [
    "string str1 = \"abcdefghi\", str2 = \"123456789\";\n",
    "// basic_string& replace( size_type pos, size_type count, const basic_string& str, size_type pos2, size_type count2 );\n",
    "cout << str1.replace(3, 3, str2, 3, 3) << endl; // 将str1从4位开始的3个字符 替换为str2从4位开始的3个字符"
   ]
  },
  {
   "cell_type": "code",
   "execution_count": null,
   "id": "7f1ac971",
   "metadata": {},
   "outputs": [],
   "source": [
    "string str1 = \"abcdefghi\", str2 = \"123456789\";\n",
    "// basic_string& replace( const_iterator first, const_iterator last, size_type count2, CharT ch );\n",
    "cout << str1.replace(str1.begin()+3, str1.begin()+6, 2, '.') << endl; // 将str1的[3,6)位 替换为2个字符'.'"
   ]
  },
  {
   "cell_type": "code",
   "execution_count": null,
   "id": "aa337f3d",
   "metadata": {},
   "outputs": [],
   "source": [
    "string str1 = \"abcdefghi\", str2 = \"123456789\";\n",
    "// basic_string& replace( const_iterator first, const_iterator last, const basic_string& str );\n",
    "cout << str1.replace(str1.begin()+3, str1.begin()+6, str2) << endl; // 将str1的[3,6)位 替换为str2"
   ]
  },
  {
   "cell_type": "code",
   "execution_count": null,
   "id": "ecf4c790",
   "metadata": {},
   "outputs": [],
   "source": [
    "string str1 = \"abcdefghi\", str2 = \"123456789\";\n",
    "// basic_string& replace( const_iterator first, const_iterator last, InputIt first2, InputIt last2 );\n",
    "cout << str1.replace(str1.begin()+3, str1.begin()+6, begin(str2), end(str2)) << endl; // 将str1的[3,6)位 替换为str2"
   ]
  },
  {
   "cell_type": "code",
   "execution_count": null,
   "id": "779d4e91",
   "metadata": {},
   "outputs": [],
   "source": [
    "string str1 = \"abcdefghi\", str2 = \"123456789\";\n",
    "cout << str1.replace(str1.begin()+3, str1.begin()+6, str2.begin()+2, str2.begin()+7) << endl; // 将str1的[3,6)位 替换为str2的[2,7)"
   ]
  },
  {
   "cell_type": "code",
   "execution_count": null,
   "id": "35a230bb",
   "metadata": {},
   "outputs": [],
   "source": [
    "string str1 = \"abcdefghi\", str2 = \"123456789\";\n",
    "cout << str1.replace(str1.begin()+3, str1.begin()+6, begin(str2)+2, begin(str2)+7) << endl; // 将str1的[3,6)位 替换为str2的[2,7)"
   ]
  },
  {
   "cell_type": "code",
   "execution_count": null,
   "id": "812675a2",
   "metadata": {},
   "outputs": [],
   "source": [
    "// cpp 替换1个字符\n",
    "string str1 = \"abcdefghi\";\n",
    "str1[4] = '-'; // str[2] = \"m\"; 报错，原因\"\"表示字符串，''表示字符，\"m\"其实是\"m\\0\"\n",
    "cout << str1 << endl;"
   ]
  },
  {
   "cell_type": "markdown",
   "id": "7cd83d32",
   "metadata": {},
   "source": [
    "## 反转"
   ]
  },
  {
   "cell_type": "code",
   "execution_count": null,
   "id": "32f6ce7c",
   "metadata": {},
   "outputs": [],
   "source": [
    "# python\n",
    "str1 = \"abcde\"\n",
    "print(str1[::-1])"
   ]
  },
  {
   "cell_type": "code",
   "execution_count": null,
   "id": "1f4dfcea",
   "metadata": {},
   "outputs": [],
   "source": [
    "// cpp\n",
    "#include<string>\n",
    "#include<algorithm>\n",
    "#include<iostream>\n",
    "using namespace std;\n",
    "\n",
    "string str1 = \"abcde\";\n",
    "reverse(str1.begin(), str1.end());\n",
    "std::cout << \"after reverse: \" << str1 << std::endl;"
   ]
  },
  {
   "cell_type": "markdown",
   "id": "a18e3aa1",
   "metadata": {},
   "source": [
    "## 排序"
   ]
  },
  {
   "cell_type": "code",
   "execution_count": null,
   "id": "6705ab95",
   "metadata": {},
   "outputs": [],
   "source": [
    "# python 3.9\n",
    "str1 = \"43210\"\n",
    "print( \"\".join( sorted(list(str1)) ) )\n",
    "\n",
    "list1 = list(str1)\n",
    "list1.sort()\n",
    "print( \"\".join(list1) ) "
   ]
  },
  {
   "cell_type": "code",
   "execution_count": null,
   "id": "7b955078",
   "metadata": {},
   "outputs": [],
   "source": [
    "// cpp\n",
    "#include<string>\n",
    "#include<algorithm>\n",
    "#include<iostream>\n",
    "using namespace std;\n",
    "\n",
    "string str1 = \"debca\";\n",
    "sort(str1.begin(), str1.end());\n",
    "cout << \"after sort: \" << str1 << endl;"
   ]
  },
  {
   "cell_type": "code",
   "execution_count": null,
   "id": "a3934305",
   "metadata": {},
   "outputs": [],
   "source": [
    "string str1 = \"43210\";\n",
    "sort(str1.begin(), str1.end());\n",
    "cout << \"after sort: \" << str1 << endl;"
   ]
  },
  {
   "cell_type": "markdown",
   "id": "02b66381",
   "metadata": {},
   "source": [
    "## 分割"
   ]
  },
  {
   "cell_type": "code",
   "execution_count": null,
   "id": "a86cb81e",
   "metadata": {},
   "outputs": [],
   "source": [
    "str1 = ' e f g h '\n",
    "print('按空格分割:', str1.split())\n",
    "print('按空格分割,保留首尾空格:', str1.split(' '))\n",
    "print(\"以第一个' '进行分割:\", str1.split(' ',1))\n",
    "print(\"以前二个' '进行分割:\", str1.split(' ',2))\n",
    "print(\"以前二个' '进行分割，分割后的第2个元素:\", str1.split(' ',2)[1])\n",
    "\n",
    "print(\"<[www.baidu.com]>\", \"取[]之间的网址:\", \"<[www.baidu.com]>\".split(\"[\")[1].split(\"]\")[0])"
   ]
  },
  {
   "cell_type": "code",
   "execution_count": null,
   "id": "174ad841",
   "metadata": {},
   "outputs": [],
   "source": [
    "vector<string> split(string input_str, string delim) {\n",
    "    vector<string> output;\n",
    "    while (input_str.size() > 0)\n",
    "    {\n",
    "        int index = input_str.find(delim);\n",
    "        if (index != -1)\n",
    "        {\n",
    "            output.emplace_back(input_str.substr(0, index));\n",
    "            input_str.erase(0, index + delim.size());\n",
    "        }\n",
    "        else\n",
    "        {\n",
    "            output.emplace_back(input_str);\n",
    "            input_str = \"\";\n",
    "        }\n",
    "    }\n",
    "    return output;\n",
    "}"
   ]
  },
  {
   "cell_type": "markdown",
   "id": "2c269f2d",
   "metadata": {},
   "source": [
    "## 查找与统计"
   ]
  },
  {
   "cell_type": "code",
   "execution_count": null,
   "id": "290fd490",
   "metadata": {},
   "outputs": [],
   "source": [
    "# python\n",
    "str1 = '01201301'\n",
    "print(str1,\"从左往右在[0,len(str1))内，查找第一个'01'出现的索引:\",str1.find('01'), str1.find('01')==str1.index('01'))\n",
    "print(str1,\"从左往右在[1,len(str1))内，查找第一个'01'出现的索引:\",str1.find('01',1), str1.find('01',1)==str1.index('01',1))\n",
    "print(str1,\"从左往右在[1,4)内，查找第一个'01'出现的索引:\",str1.find('01',1,4))\n",
    "# print(str1,\"从左往右在[1,4)内，查找第一个'01'出现的索引:\",str1.index('01',1,4))\n",
    "# find()与index()的区别：如果找不到指定的字符串时，find()返回-1，index()则会报错\n",
    "print(str1,\"从左往右在[1,5)内，查找第一个'01'出现的索引:\",str1.find('01',1,5), str1.find('01',1,5)==str1.index('01',1,5))\n",
    "print(str1,\"从右往左在[0,len(str1))内，查找第一个'01'出现的索引:\",str1.rfind('01'), str1.rfind('01')==str1.rindex('01'))\n",
    "print(str1,\"从右往左在[0,7)内，查找第一个'01'出现的索引:\",str1.rfind('01',0,7), str1.rfind('01',0,7)==str1.rindex('01',0,7))\n",
    "\n",
    "print(str1,\"是否以'01'开头?\",str1.startswith('01'))\n",
    "print(str1,\"是否以'10'开头?\",str1.startswith('10'))\n",
    "print(str1,\"是否以'01'结尾?\",str1.endswith('01'))\n",
    "print(str1,\"是否以'10'结尾?\",str1.endswith('10'))\n",
    "\n",
    "print(str1,\"在[0,len(str1))内，'10'出现的频数:\",str1.count('01'))\n",
    "print(str1,\"在[1,7)内，'10'出现的频数:\",str1.count('01',1,7))\n",
    "\n",
    "count = 0\n",
    "for elem in list(str1): \n",
    "    if elem == '1':\n",
    "        count += 1\n",
    "print(count == str1.count('1'))"
   ]
  },
  {
   "cell_type": "markdown",
   "id": "d32fe575",
   "metadata": {},
   "source": [
    "## 填充"
   ]
  },
  {
   "cell_type": "code",
   "execution_count": null,
   "id": "5dbde830",
   "metadata": {},
   "outputs": [],
   "source": [
    "# python\n",
    "list_fruit = ['Apple', 'Blueberry', 'Cherry', 'Kiwifruit', 'Mango']\n",
    "max_len = 0\n",
    "for ss in list_fruit:\n",
    "    max_len = max(max_len, len(ss))\n",
    "for ss in list_fruit:\n",
    "    print(ss.rjust(max_len, ' '),'左侧填充空格，右对齐')\n",
    "    print(ss.rjust(max_len, '*'),'左侧填充*，右对齐')\n",
    "    print(ss.ljust(max_len, ' '),'右侧填充空格，左对齐')\n",
    "    print(ss.ljust(max_len, '*'),'右侧填充*，左对齐')\n",
    "\n",
    "list_str = ['1','11','1011', '11011']\n",
    "for ss in list_str:\n",
    "    print(ss.zfill(4)) # 若未达到指定的长度，则在左侧填充0"
   ]
  },
  {
   "cell_type": "markdown",
   "id": "d1d5cc90",
   "metadata": {},
   "source": [
    "## 字符串比较"
   ]
  },
  {
   "cell_type": "code",
   "execution_count": null,
   "id": "11c9f9a0",
   "metadata": {},
   "outputs": [],
   "source": [
    "# python\n",
    "import operator\n",
    "str1 = 'abcd'\n",
    "print('ab<'+str1+'?', operator.lt('ab',str1))\n",
    "print('ba<'+str1+'?', operator.lt('ba',str1))\n",
    "print('ab<='+str1+'?', operator.le('ab',str1))\n",
    "print('ba<='+str1+'?', operator.le('ba',str1))\n",
    "print('ab='+str1+'?', operator.eq('ab', str1))\n",
    "print('abcd='+str1+'?', operator.eq('abcd',str1))\n",
    "print('ab!='+str1+'?', operator.ne('ab', str1))\n",
    "print('abcd!='+str1+'?', operator.ne('abcd',str1))\n",
    "print(str1+'>ab?', operator.gt(str1,'ab'))\n",
    "print(str1+'>ba?', operator.gt(str1,'ba'))\n",
    "print(str1+'>=ab?', operator.ge(str1,'ab'))\n",
    "print(str1+'>=ba?', operator.ge(str1,'ba'))\n",
    "\n",
    "num1, num2 = 1, 2\n",
    "print(str(num1)+'<'+str(num2)+'?', operator.lt(num1, num2)) # less than\n",
    "print(str(num1)+'<='+str(num2)+'?', operator.le(num1, num2)) # less than or equal to\n",
    "print(str(num1)+'=='+str(num2)+'?', operator.eq(num1, num2)) # equal to\n",
    "print(str(num1)+'!='+str(num2)+'?', operator.ne(num1, num2)) # not equal to\n",
    "print(str(num1)+'>'+str(num2)+'?', operator.gt(num1, num2)) # greater than\n",
    "print(str(num1)+'>='+str(num2)+'?', operator.ge(num1, num2)) # greater than or equal to\n"
   ]
  },
  {
   "cell_type": "markdown",
   "id": "6c676c83",
   "metadata": {},
   "source": [
    "# 特殊字符（大小写、数字、转义）"
   ]
  },
  {
   "cell_type": "markdown",
   "id": "e2a14943",
   "metadata": {},
   "source": [
    "## 大小写与整数"
   ]
  },
  {
   "cell_type": "code",
   "execution_count": null,
   "id": "2a5b5369",
   "metadata": {},
   "outputs": [],
   "source": [
    "# python\n",
    "print('a 对应的int =', ord('a')) # 97\n",
    "print('A 对应的int =', ord('A')) # 65\n",
    "\n",
    "print('第97个字符 =', chr(97))   # 'a'\n",
    "print('第65个字符 =', chr(65))   # 'A'"
   ]
  },
  {
   "cell_type": "code",
   "execution_count": null,
   "id": "da4d19e2",
   "metadata": {},
   "outputs": [],
   "source": [
    "#include<iostream>\n",
    "using namespace std;\n",
    "for (int ii=0;ii<26;ii++) {\n",
    "    cout << char('A' + ii) << \", \";\n",
    "}"
   ]
  },
  {
   "cell_type": "markdown",
   "id": "739eaf46",
   "metadata": {},
   "source": [
    "## 大小写转换"
   ]
  },
  {
   "cell_type": "code",
   "execution_count": null,
   "id": "1319b39d",
   "metadata": {},
   "outputs": [],
   "source": [
    "#include<iostream>\n",
    "using namespace std;\n",
    "\n",
    "cout << char('a' - 32) << endl; // A\n",
    "cout << char('A' + 32) << endl; // a"
   ]
  },
  {
   "cell_type": "code",
   "execution_count": null,
   "id": "1d5f5f85",
   "metadata": {},
   "outputs": [],
   "source": [
    "cout << ('B' >= 'A' && 'B' <= 'Z') << endl;"
   ]
  },
  {
   "cell_type": "code",
   "execution_count": null,
   "id": "6b3f4b59",
   "metadata": {},
   "outputs": [],
   "source": [
    "str1 = \"Leet Code\"\n",
    "print('全部大写:',str1.upper())\n",
    "print('全部小写:',str1.lower())\n",
    "print('大小写对调:',str1.swapcase())"
   ]
  },
  {
   "cell_type": "code",
   "execution_count": null,
   "id": "058ba7a0",
   "metadata": {},
   "outputs": [],
   "source": [
    "print('leet code', '首字母大写:','leet code'.capitalize())\n",
    "print('leet. code', '首字母大写:','leet. code'.capitalize())\n",
    "print('leet.code', '首字母大写:','leet.code'.capitalize())\n",
    "\n",
    "print('\\nleet code', '转化为标题格式:','leet code'.title())\n",
    "print('leet. code', '转化为标题格式:','leet. code'.title())\n",
    "print('leet.code', '转化为标题格式:','leet.code'.title())"
   ]
  },
  {
   "cell_type": "markdown",
   "id": "039ee36e",
   "metadata": {},
   "source": [
    "## 判断"
   ]
  },
  {
   "cell_type": "code",
   "execution_count": null,
   "id": "57df582d",
   "metadata": {},
   "outputs": [],
   "source": [
    "print('LeetCode', '全是字母?','LeetCode'.isalpha())\n",
    "print('Leet Code', '全是字母?','Leet Code'.isalpha())\n",
    "\n",
    "print('\\nLEETCODE', '全是大写?','LEETCODE'.isupper())\n",
    "print('*A', '全是大写?','*A'.isupper())\n",
    "print('leetcode', '全是小写?','leetcode'.islower())\n",
    "\n",
    "print('\\nLeet Code', '是标题格式?','Leet Code'.istitle())\n",
    "print('Leet code', '是标题格式?','Leet code'.istitle())"
   ]
  },
  {
   "cell_type": "code",
   "execution_count": null,
   "id": "9995245b",
   "metadata": {},
   "outputs": [],
   "source": [
    "\"\"\"\n",
    "isdigit(), isdecimal() 和 isnumeric() 的区别\n",
    "\n",
    "isdigit()\n",
    "输出:  输入类型 \n",
    "True:  Unicode数字, byte数字(单字节), 全角数字(双字节), 罗马数字\n",
    "False: 汉字数字\n",
    "Error: 无\n",
    "\n",
    "isdecimal()\n",
    "输出:  输入类型 \n",
    "True:  Unicode数字, 全角数字(双字节)\n",
    "False: 罗马数字, 汉字数字\n",
    "Error: byte数字(单字节)\n",
    "\n",
    "isnumeric()\n",
    "输出:  输入类型 \n",
    "True:  Unicode数字, 全角数字(双字节), 罗马数字, 汉字数字\n",
    "False: 无\n",
    "Error: byte数字(单字节)\n",
    "\n",
    "参考：https://www.cnblogs.com/zhouzhishuai/p/8478904.html\n",
    "\"\"\"\n",
    "for ss in ['1','1.111','三叁','八佰','Ⅲ','Ⅷ', u'1001']:\n",
    "    print(ss, '| is digit?', ss.isdigit(), '| is numeric?', ss.isnumeric(), '| is decimal?', ss.isdecimal())\n",
    "    \n",
    "print(b'123', \"| is digit?\", b'123'.isdigit())\n",
    "\n",
    "print('LeetCode', '全是字母?','LeetCode'.isalpha())\n",
    "print('Leet Code', '全是字母?','Leet Code'.isalpha())\n",
    "print('666888', '全是数字?','666888'.isdigit())\n",
    "print('666 888', '全是数字?','666 888'.isdigit())\n",
    "print('LeetCode666', '全是字母或数字?','LeetCode666'.isalnum())\n",
    "print('LeetCode 666', '全是字母或数字?','LeetCode 666'.isalnum())"
   ]
  },
  {
   "cell_type": "markdown",
   "id": "114f9e13",
   "metadata": {},
   "source": [
    "## 转义"
   ]
  },
  {
   "cell_type": "code",
   "execution_count": null,
   "id": "461fa4b3",
   "metadata": {},
   "outputs": [],
   "source": [
    "#------------------------字符串前缀 b/u/r-------------------------------------#\n",
    "\"\"\"\n",
    "u'str'表示unicode编码格式字符串，python3中字符串默认格式是unicode编码格式，因此在python3中 u'str'等效于'str'\n",
    "b'str'表示bytes编码格式字符串，python2中字符串默认格式是bytes编码格式，因此在python2中 b'str'等效于'str'\n",
    "r'str'表示显示字符串原内容，不执行转义机制\n",
    "\"\"\"\n",
    "print('转义机制：','\\n\\n\\n','原字符：',r'\\n\\n\\n')"
   ]
  },
  {
   "cell_type": "markdown",
   "id": "5a781c6d",
   "metadata": {},
   "source": [
    "# 空格"
   ]
  },
  {
   "cell_type": "markdown",
   "id": "78fdb32a",
   "metadata": {},
   "source": [
    "## 删除空格"
   ]
  },
  {
   "cell_type": "code",
   "execution_count": null,
   "id": "bba54dbe",
   "metadata": {},
   "outputs": [],
   "source": [
    "str1 = ' e f g h '\n",
    "print('删除两侧空格:', str1.strip())\n",
    "print('删除左侧空格:', str1.lstrip())\n",
    "print('删除右侧空格:', str1.rstrip())\n",
    "print('删除全部空格:', str1.replace(\" \", \"\"))"
   ]
  },
  {
   "cell_type": "markdown",
   "id": "3936c85c",
   "metadata": {},
   "source": [
    "## 空格判断"
   ]
  },
  {
   "cell_type": "code",
   "execution_count": null,
   "id": "cb4cc1bf",
   "metadata": {},
   "outputs": [],
   "source": [
    "print('\\n  ', '全是空格?','  '.isspace())\n",
    "print('leet code', '全是空格?','leet code'.isspace())"
   ]
  },
  {
   "cell_type": "markdown",
   "id": "c1cebb0e",
   "metadata": {},
   "source": [
    "# 进制转化\n",
    "\n",
    "https://blog.csdn.net/qq_41020281/article/details/80245374"
   ]
  },
  {
   "cell_type": "markdown",
   "id": "57e1163b",
   "metadata": {},
   "source": [
    "## 数字与字符串转换\n",
    "\n",
    "* **<font color=red>整数 or 浮点数 -> 字符串: to_string </font>**  \n",
    "* **<font color=red>字符串 -> 整数: stoi/stol/stoll  </font>**   \n",
    "此外，int stoi( const std::string& str, std::size_t* pos = nullptr, int base = 10 ) 可以将base进制的string转成10进制整数  \n",
    "例如，stoi(\"10010\",nullptr,2) 将2进制的\"10010\"转成10进制整数，即18  \n",
    "* **<font color=red>字符串 -> 浮点数: stof/stod/stold  </font>**"
   ]
  },
  {
   "cell_type": "code",
   "execution_count": null,
   "id": "69872cb9",
   "metadata": {},
   "outputs": [],
   "source": [
    "// to_string(): converts an integral or floating point value to string (basic_string<char>)\n",
    "//https://en.cppreference.com/w/cpp/string/basic_string/to_string\n",
    "cout << \"==== to_string ====\" << endl;\n",
    "cout << typeid(to_string(3)).name() << endl;\n",
    "cout << to_string(3) << endl;\n",
    "cout << to_string(3.1415) << endl;\n",
    "cout << to_string(1e+40) << endl;\n",
    "cout << to_string(1e-40) << endl;\n",
    "\n",
    "\n",
    "cout << \"==== const char* vs string ====\" << endl;\n",
    "const char* str1 = \"3.14159\";\n",
    "const char* str2 = \"3.14159 with words\";\n",
    "const char* str3 = \"words and 3.14159\";\n",
    "string str4 = \"3.14159\";\n",
    "string str5 = \"3.14159 with words\";\n",
    "string str6 = \"words and 3.14159\";\n",
    "cout << typeid(\"3.14159\").name() << endl;\n",
    "cout << typeid(str1).name() << endl;\n",
    "cout << typeid(str4).name() << endl;\n",
    "\n",
    "\n",
    "// atoi/atol/atoll: converts a byte string (const char*) to an integer value (int/long/long long)\n",
    "// https://en.cppreference.com/w/cpp/string/byte/atoi\n",
    "cout << \"==== atoi/atol/atoll ====\" << endl;\n",
    "cout << typeid(atoi(str1)).name() << endl;\n",
    "cout << atoi(str1) << endl;\n",
    "cout << atoi(str2) << endl;\n",
    "cout << atoi(str3) << endl;\n",
    "cout << typeid(atol(str1)).name() << endl;\n",
    "cout << atol(str1) << endl;\n",
    "cout << atol(str2) << endl;\n",
    "cout << atol(str3) << endl;\n",
    "cout << typeid(atoll(str1)).name() << endl;\n",
    "cout << atoll(str1) << endl;\n",
    "cout << atoll(str2) << endl;\n",
    "cout << atoll(str3) << endl;\n",
    "\n",
    "\n",
    "// atof: converts a byte string (const char*) to a floating point value (double)\n",
    "// https://en.cppreference.com/w/cpp/string/byte/atof\n",
    "cout << \"==== atof ====\" << endl;\n",
    "cout << typeid(atof(str1)).name() << endl;\n",
    "cout << atof(str1) << endl;\n",
    "cout << atof(str2) << endl;\n",
    "cout << atof(str3) << endl;\n",
    "\n",
    "\n",
    "// strtol/strtoll: converts a byte string (const char*) to an integer value (long/long long)\n",
    "// https://en.cppreference.com/w/cpp/string/byte/strtol\n",
    "char* str_end;\n",
    "cout << \"==== strtol/strtoll ====\" << endl;\n",
    "cout << typeid(strtol(str1, &str_end, 10)).name() << endl;\n",
    "cout << strtol(str1, &str_end, 10) << endl;\n",
    "cout << strtol(str2, &str_end, 10) << endl;\n",
    "cout << strtol(str3, &str_end, 10) << endl;\n",
    "// 10进制的18 <-> 2进制的10010 <-> 8进制的22 <-> 16进制的12\n",
    "// https://blog.csdn.net/hou09tian/article/details/110630832\n",
    "cout << strtol(\"18\", &str_end, 10) << endl;\n",
    "cout << strtol(\"10010\", &str_end, 2) << endl;   // 2进制字符串->10进制数\n",
    "cout << strtol(\"22\", &str_end, 8) << endl;      // 8进制字符串->10进制数\n",
    "cout << strtol(\"022\", &str_end, 0) << endl;     // 8进制字符串->10进制数\n",
    "cout << strtol(\"12\", &str_end, 16) << endl;     //16进制字符串->10进制数\n",
    "cout << strtol(\"0x12\", &str_end, 0) << endl;    //16进制字符串->10进制数\n",
    "\n",
    "\n",
    "// strtof/strtod/strtold: converts a byte string (const char*) to a floating point value (float/double/long double)\n",
    "// https://en.cppreference.com/w/cpp/string/byte/strtof\n",
    "// char* str_end;\n",
    "cout << \"==== strtof/strtod/strtold ====\" << endl;\n",
    "cout << typeid(strtof(str1, &str_end)).name() << endl;\n",
    "cout << strtof(str1, &str_end) << endl;\n",
    "cout << strtof(str2, &str_end) << endl;\n",
    "cout << strtof(str3, &str_end) << endl;\n",
    "cout << typeid(strtod(str1, &str_end)).name() << endl;\n",
    "cout << strtod(str1, &str_end) << endl;\n",
    "cout << strtod(str2, &str_end) << endl;\n",
    "cout << strtod(str3, &str_end) << endl;\n",
    "cout << typeid(strtold(str1, &str_end)).name() << endl;\n",
    "cout << strtold(str1, &str_end) << endl;\n",
    "cout << strtold(str2, &str_end) << endl;\n",
    "cout << strtold(str3, &str_end) << endl;\n",
    "\n",
    "\n",
    "// stoi/stol/stoll: converts a string (const char* or string) to a signed integer (int/long/long long)\n",
    "// https://en.cppreference.com/w/cpp/string/basic_string/stol\n",
    "cout << \"==== stoi/stol/stoll ====\" << endl;\n",
    "cout << typeid(stoi(str1)).name() << endl;\n",
    "cout << stoi(str1) << endl;\n",
    "cout << stoi(str1, nullptr) << endl;\n",
    "cout << stoi(str1, nullptr, 10) << endl;\n",
    "cout << stoi(str2) << endl;\n",
    "cout << stoi(str4) << endl;\n",
    "cout << stoi(str5) << endl;\n",
    "// 10进制的18 <-> 2进制的10010 <-> 8进制的22 <-> 16进制的12\n",
    "cout << stoi(\"18\", nullptr, 10) << endl;\n",
    "cout << stoi(\"10010\", nullptr, 2) << endl;   // 2进制字符串->10进制数\n",
    "cout << stoi(\"22\", nullptr, 8) << endl;      // 8进制字符串->10进制数\n",
    "cout << stoi(\"022\", nullptr, 0) << endl;     // 8进制字符串->10进制数\n",
    "cout << stoi(\"12\", nullptr, 16) << endl;     //16进制字符串->10进制数\n",
    "cout << stoi(\"0x12\", nullptr, 0) << endl;    //16进制字符串->10进制数\n",
    "\n",
    "\n",
    "// stof/stod/stold: converts a string (const char* or string) to a floating point value(float/double/long double)\n",
    "// https://en.cppreference.com/w/cpp/string/basic_string/stof\n",
    "cout << \"==== stof/stod/stold ====\" << endl;\n",
    "cout << typeid(stod(str4)).name() << endl;\n",
    "cout << stod(str1) << endl;\n",
    "cout << stod(str2, nullptr) << endl;\n",
    "cout << stod(str4) << endl;\n",
    "cout << stod(str5) << endl;\n",
    "\n",
    "\n",
    "\n",
    "//stoul/stoull: converts a string to an unsigned integer\n",
    "//https://en.cppreference.com/w/cpp/string/basic_string/stoul\n",
    "//strtoul/strtoull: converts a byte string to an unsigned integer value\n",
    "//https://en.cppreference.com/w/cpp/string/byte/strtoul\n",
    "//to_chars: converts an integer or floating-point value to a character sequence\n",
    "//https://en.cppreference.com/w/cpp/utility/to_chars\n",
    "//from_chars: converts a character sequence to an integer or floating-point value\n",
    "//https://en.cppreference.com/w/cpp/utility/from_chars"
   ]
  },
  {
   "cell_type": "code",
   "execution_count": null,
   "id": "add51529",
   "metadata": {},
   "outputs": [],
   "source": []
  },
  {
   "cell_type": "code",
   "execution_count": null,
   "id": "0c6bafbd",
   "metadata": {},
   "outputs": [],
   "source": []
  },
  {
   "cell_type": "markdown",
   "id": "9344dbab",
   "metadata": {},
   "source": [
    "## 十进制转二进制"
   ]
  },
  {
   "cell_type": "code",
   "execution_count": null,
   "id": "cb717633",
   "metadata": {},
   "outputs": [],
   "source": [
    "# python\n",
    "bin(18)"
   ]
  },
  {
   "cell_type": "code",
   "execution_count": null,
   "id": "28532684",
   "metadata": {},
   "outputs": [],
   "source": [
    "// cpp\n",
    "#include<iostream>\n",
    "#include<bitset>\n",
    "using namespace std;\n",
    "\n",
    "int num = 18;\n",
    "cout << bitset<32>(num).to_string() << endl; // 32是二进制的长度"
   ]
  },
  {
   "cell_type": "markdown",
   "id": "881f76af",
   "metadata": {},
   "source": [
    "## 二进制转十进制"
   ]
  },
  {
   "cell_type": "code",
   "execution_count": null,
   "id": "2329d979",
   "metadata": {},
   "outputs": [],
   "source": [
    "# python\n",
    "int(\"0b10010\",2)"
   ]
  },
  {
   "cell_type": "code",
   "execution_count": null,
   "id": "7f154dd6",
   "metadata": {},
   "outputs": [],
   "source": [
    "# python\n",
    "int(\"10010\",2)"
   ]
  },
  {
   "cell_type": "code",
   "execution_count": null,
   "id": "85ed6cfc",
   "metadata": {},
   "outputs": [],
   "source": [
    "// cpp\n",
    "#include<iostream>\n",
    "#include<string>\n",
    "using namespace std;\n",
    "\n",
    "cout << stoi(\"10010\", nullptr, 2) << endl;\n",
    "cout << stoi(\"000010010\", nullptr, 2) << endl;"
   ]
  },
  {
   "cell_type": "markdown",
   "id": "16f40a48",
   "metadata": {},
   "source": [
    "## 十进制转八进制\n"
   ]
  },
  {
   "cell_type": "code",
   "execution_count": null,
   "id": "67f73ce1",
   "metadata": {},
   "outputs": [],
   "source": [
    "# python\n",
    "oct(18)"
   ]
  },
  {
   "cell_type": "markdown",
   "id": "1a533cc2",
   "metadata": {},
   "source": [
    "## 八进制转十进制"
   ]
  },
  {
   "cell_type": "code",
   "execution_count": null,
   "id": "cab47e83",
   "metadata": {},
   "outputs": [],
   "source": [
    "# python\n",
    "int('0o22',8)"
   ]
  },
  {
   "cell_type": "code",
   "execution_count": null,
   "id": "bbf8fca0",
   "metadata": {},
   "outputs": [],
   "source": [
    "# python\n",
    "int(\"22\",8)"
   ]
  },
  {
   "cell_type": "code",
   "execution_count": null,
   "id": "e9252719",
   "metadata": {},
   "outputs": [],
   "source": [
    "// cpp\n",
    "#include<iostream>\n",
    "#include<string>\n",
    "using namespace std;\n",
    "\n",
    "cout << stoi(\"22\", nullptr, 8) << endl;"
   ]
  },
  {
   "cell_type": "markdown",
   "id": "e2004231",
   "metadata": {},
   "source": [
    "## 十进制转十六进制"
   ]
  },
  {
   "cell_type": "code",
   "execution_count": null,
   "id": "43681a09",
   "metadata": {},
   "outputs": [],
   "source": [
    "# python\n",
    "hex(18)"
   ]
  },
  {
   "cell_type": "code",
   "execution_count": null,
   "id": "e20bd539",
   "metadata": {
    "scrolled": true
   },
   "outputs": [],
   "source": [
    "# 405. 数字转换为十六进制数\n",
    "# https://leetcode-cn.com/problems/convert-a-number-to-hexadecimal/\n",
    "# python\n",
    "num = 18\n",
    "\n",
    "if num != 0:\n",
    "    if num < 0:\n",
    "        num = 4294967295 + 1 + num\n",
    "    dict1 = {0:'0',1:'1',2:'2',3:'3',4:'4',5:'5',6:'6',7:'7',\n",
    "             8:'8',9:'9',10:'a',11:'b',12:'c',13:'d',14:'e',15:'f'}\n",
    "    output = \"\"\n",
    "    \n",
    "    while num > 0:\n",
    "        output += dict1[num%16]\n",
    "        num -= num%16\n",
    "        num /= 16\n",
    "    print(output[::-1])\n",
    "else:\n",
    "    print('0')"
   ]
  },
  {
   "cell_type": "markdown",
   "id": "94826eee",
   "metadata": {},
   "source": [
    "## 十六进制转十进制"
   ]
  },
  {
   "cell_type": "code",
   "execution_count": null,
   "id": "8724842d",
   "metadata": {},
   "outputs": [],
   "source": [
    "# python\n",
    "int(\"0x12\",16)"
   ]
  },
  {
   "cell_type": "code",
   "execution_count": null,
   "id": "490ab6d9",
   "metadata": {},
   "outputs": [],
   "source": [
    "# python\n",
    "int(\"12\",16)"
   ]
  },
  {
   "cell_type": "code",
   "execution_count": null,
   "id": "946a8892",
   "metadata": {},
   "outputs": [],
   "source": [
    "#include<iostream>\n",
    "#include<string>\n",
    "using namespace std;\n",
    "\n",
    "cout << stoi(\"12\", nullptr, 16) << endl;"
   ]
  },
  {
   "cell_type": "markdown",
   "id": "568cf3ae",
   "metadata": {},
   "source": [
    "# 全角/半角转换"
   ]
  },
  {
   "cell_type": "code",
   "execution_count": null,
   "id": "fa273132",
   "metadata": {},
   "outputs": [],
   "source": [
    "def strQ2B(ustring):\n",
    "    \"\"\"全角转半角\"\"\"\n",
    "    rstring = \"\"\n",
    "    for uchar in ustring:\n",
    "        inside_code = ord(uchar)\n",
    "        if inside_code == 12288:    #全角空格直接转换\n",
    "            inside_code = 32\n",
    "        elif (inside_code >= 65281 and inside_code <= 65374):    #全角字符（除空格）根据关系转化\n",
    "            inside_code -= 65248\n",
    "        rstring += chr(inside_code)\n",
    "    return rstring\n",
    "\n",
    "print(strQ2B('Ｇ３２０'))"
   ]
  },
  {
   "cell_type": "code",
   "execution_count": null,
   "id": "feb00f60",
   "metadata": {},
   "outputs": [],
   "source": [
    "def strB2Q(ustring):\n",
    "    \"\"\"半角转全角\"\"\"\n",
    "    rstring = \"\"\n",
    "    for uchar in ustring:\n",
    "        inside_code = ord(uchar)\n",
    "        if inside_code == 32:      #半角空格直接转化\n",
    "            inside_code = 12288\n",
    "        elif inside_code >= 32 and inside_code <= 126:             #半角字符（除空格）根据关系转化\n",
    "            inside_code += 65248\n",
    "        rstring += chr(inside_code)\n",
    "    return rstring\n",
    "print(strB2Q('G320'))"
   ]
  },
  {
   "cell_type": "code",
   "execution_count": null,
   "id": "89916ce5",
   "metadata": {},
   "outputs": [],
   "source": []
  }
 ],
 "metadata": {
  "kernelspec": {
   "display_name": "C++14",
   "language": "C++14",
   "name": "xcpp14"
  },
  "language_info": {
   "codemirror_mode": "text/x-c++src",
   "file_extension": ".cpp",
   "mimetype": "text/x-c++src",
   "name": "c++",
   "version": "14"
  },
  "toc": {
   "base_numbering": 1,
   "nav_menu": {},
   "number_sections": true,
   "sideBar": true,
   "skip_h1_title": false,
   "title_cell": "Table of Contents",
   "title_sidebar": "Contents",
   "toc_cell": false,
   "toc_position": {
    "height": "584px",
    "left": "31px",
    "top": "164.8px",
    "width": "306.875px"
   },
   "toc_section_display": true,
   "toc_window_display": true
  }
 },
 "nbformat": 4,
 "nbformat_minor": 5
}
