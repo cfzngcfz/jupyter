{
 "cells": [
  {
   "cell_type": "markdown",
   "id": "659c7f57",
   "metadata": {},
   "source": [
    "# enumerate() 函数\n",
    "用于将一个可遍历的数据对象(如列表、元组或字符串)组合为一个索引序列，同时列出数据和数据下标"
   ]
  },
  {
   "cell_type": "code",
   "execution_count": 1,
   "id": "c40964b6",
   "metadata": {},
   "outputs": [],
   "source": [
    "list_fruit = ['Apple', 'Blueberry', 'Cherry', 'Kiwifruit', 'Mango']"
   ]
  },
  {
   "cell_type": "code",
   "execution_count": 2,
   "id": "01e9fd8d",
   "metadata": {},
   "outputs": [
    {
     "name": "stdout",
     "output_type": "stream",
     "text": [
      "0 Apple\n",
      "1 Blueberry\n",
      "2 Cherry\n",
      "3 Kiwifruit\n",
      "4 Mango\n"
     ]
    }
   ],
   "source": [
    "for index, fruit in enumerate(list_fruit):\n",
    "    print(index, fruit)"
   ]
  },
  {
   "cell_type": "code",
   "execution_count": 3,
   "id": "68582575",
   "metadata": {},
   "outputs": [
    {
     "name": "stdout",
     "output_type": "stream",
     "text": [
      "1 Apple\n",
      "2 Blueberry\n",
      "3 Cherry\n",
      "4 Kiwifruit\n",
      "5 Mango\n"
     ]
    }
   ],
   "source": [
    "for index, fruit in enumerate(list_fruit, start=1):\n",
    "    print(index, fruit)"
   ]
  },
  {
   "cell_type": "code",
   "execution_count": null,
   "id": "d5e3e654",
   "metadata": {},
   "outputs": [],
   "source": []
  }
 ],
 "metadata": {
  "kernelspec": {
   "display_name": "Python 3 (ipykernel)",
   "language": "python",
   "name": "python3"
  },
  "language_info": {
   "codemirror_mode": {
    "name": "ipython",
    "version": 3
   },
   "file_extension": ".py",
   "mimetype": "text/x-python",
   "name": "python",
   "nbconvert_exporter": "python",
   "pygments_lexer": "ipython3",
   "version": "3.9.5"
  },
  "toc": {
   "base_numbering": 1,
   "nav_menu": {},
   "number_sections": true,
   "sideBar": true,
   "skip_h1_title": false,
   "title_cell": "Table of Contents",
   "title_sidebar": "Contents",
   "toc_cell": false,
   "toc_position": {},
   "toc_section_display": true,
   "toc_window_display": true
  }
 },
 "nbformat": 4,
 "nbformat_minor": 5
}
