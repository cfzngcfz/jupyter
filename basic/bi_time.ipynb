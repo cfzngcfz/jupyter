{
 "cells": [
  {
   "cell_type": "code",
   "execution_count": 2,
   "id": "92555cf1",
   "metadata": {},
   "outputs": [
    {
     "name": "stdout",
     "output_type": "stream",
     "text": [
      "本地日期和时间：Mon Jun 20 11:04:43 2022\n",
      "\n",
      "UTC 日期和时间：Mon Jun 20 03:04:43 2022\n",
      "\n",
      "1970 到目前经过秒数:1655694283\n",
      "年: 2022\n",
      "月: 6\n",
      "日: 20\n",
      "时间: 3:4:43\n"
     ]
    }
   ],
   "source": [
    "#include <iostream>\n",
    "#include <ctime>\n",
    " \n",
    "using namespace std;\n",
    " \n",
    "// 基于当前系统的当前日期/时间\n",
    "time_t now = time(0);\n",
    "   \n",
    "// 把 now 转换为字符串形式\n",
    "char* dt = ctime(&now);\n",
    " \n",
    "cout << \"本地日期和时间：\" << dt << endl;\n",
    " \n",
    "// 把 now 转换为 tm 结构\n",
    "tm *gmtm = gmtime(&now);\n",
    "dt = asctime(gmtm);\n",
    "cout << \"UTC 日期和时间：\"<< dt << endl;\n",
    "\n",
    "\n",
    "\n",
    "cout << \"1970 到目前经过秒数:\" << now << endl;\n",
    " \n",
    "tm *ltm = localtime(&now);\n",
    " \n",
    "// 输出 tm 结构的各个组成部分\n",
    "cout << \"年: \"<< 1900 + ltm->tm_year << endl;\n",
    "cout << \"月: \"<< 1 + ltm->tm_mon<< endl;\n",
    "cout << \"日: \"<<  ltm->tm_mday << endl;\n",
    "cout << \"时间: \"<< ltm->tm_hour << \":\";\n",
    "cout << ltm->tm_min << \":\";\n",
    "cout << ltm->tm_sec << endl;"
   ]
  },
  {
   "cell_type": "code",
   "execution_count": 21,
   "id": "730069e1",
   "metadata": {},
   "outputs": [
    {
     "name": "stdout",
     "output_type": "stream",
     "text": [
      "年: 2022\n",
      "月: 6\n",
      "日: 20\n",
      "时间: 11-15-52\n"
     ]
    }
   ],
   "source": [
    "#include <iostream>\n",
    "#include <ctime>\n",
    " \n",
    "using namespace std;\n",
    " \n",
    "// 基于当前系统的当前日期/时间\n",
    "time_t now = time(0);\n",
    "   \n",
    "tm *ltm = localtime(&now);\n",
    " \n",
    "// 输出 tm 结构的各个组成部分\n",
    "cout << \"年: \"<< 1900 + ltm->tm_year << endl;\n",
    "cout << \"月: \"<< 1 + ltm->tm_mon<< endl;\n",
    "cout << \"日: \"<<  ltm->tm_mday << endl;\n",
    "cout << \"时间: \"<< ltm->tm_hour+8 << \"-\";\n",
    "cout << ltm->tm_min << \"-\";\n",
    "cout << ltm->tm_sec << endl;"
   ]
  },
  {
   "cell_type": "code",
   "execution_count": 20,
   "id": "d9394b38",
   "metadata": {},
   "outputs": [
    {
     "name": "stdout",
     "output_type": "stream",
     "text": [
      "2022-06-20-11-15-37\n"
     ]
    }
   ],
   "source": [
    "#include <iostream>\n",
    "#include <time.h>\n",
    "using namespace std;\n",
    "\n",
    "time_t t = time(0); \n",
    "char tmp[32];\n",
    "strftime(tmp, sizeof(tmp), \"%Y-%m-%d-%H-%M-%S\",localtime(&t)); \n",
    "cout<<tmp<<endl;\n"
   ]
  },
  {
   "cell_type": "code",
   "execution_count": null,
   "id": "51e7a560",
   "metadata": {},
   "outputs": [],
   "source": []
  }
 ],
 "metadata": {
  "kernelspec": {
   "display_name": "C++14",
   "language": "C++14",
   "name": "xcpp14"
  },
  "language_info": {
   "codemirror_mode": "text/x-c++src",
   "file_extension": ".cpp",
   "mimetype": "text/x-c++src",
   "name": "c++",
   "version": "17"
  },
  "toc": {
   "base_numbering": 1,
   "nav_menu": {},
   "number_sections": true,
   "sideBar": true,
   "skip_h1_title": false,
   "title_cell": "Table of Contents",
   "title_sidebar": "Contents",
   "toc_cell": false,
   "toc_position": {},
   "toc_section_display": true,
   "toc_window_display": false
  }
 },
 "nbformat": 4,
 "nbformat_minor": 5
}
