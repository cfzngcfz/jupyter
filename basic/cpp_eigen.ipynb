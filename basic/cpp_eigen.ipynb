{
 "cells": [
  {
   "cell_type": "code",
   "execution_count": 43,
   "id": "10bb5563",
   "metadata": {},
   "outputs": [],
   "source": [
    "// c++14\n",
    "\n",
    "#include <iostream>\n",
    "#pragma cling add_include_path(\"/usr/include/eigen3\")\n",
    "#include<Eigen/Core> // Eigen 核心部分\n",
    "#include<Eigen/Dense> // 稠密矩阵的代数运算（逆，特征值等）\n",
    "#include<Eigen/Geometry> //几何模块（旋转、平移等）\n",
    "\n",
    "using namespace std;"
   ]
  },
  {
   "cell_type": "markdown",
   "id": "7c89016c",
   "metadata": {},
   "source": [
    "# 声明"
   ]
  },
  {
   "cell_type": "markdown",
   "id": "84fe39c8",
   "metadata": {},
   "source": [
    "## 声明矩阵\n",
    "声明一个(数据类型为double，3行3列)矩阵"
   ]
  },
  {
   "cell_type": "code",
   "execution_count": 5,
   "id": "16c786c0",
   "metadata": {},
   "outputs": [
    {
     "name": "stdout",
     "output_type": "stream",
     "text": [
      "0 0 0\n",
      "0 0 0\n",
      "0 0 0\n",
      "\n",
      "0 0 0\n",
      "0 0 0\n",
      "0 0 0\n"
     ]
    }
   ],
   "source": [
    "Eigen::Matrix3d matrix1;\n",
    "cout << matrix1 << endl;\n",
    "\n",
    "Eigen::Matrix<double, 3, 3> matrix2;\n",
    "cout << \"\\n\" << matrix2 << endl;"
   ]
  },
  {
   "cell_type": "markdown",
   "id": "07da9313",
   "metadata": {},
   "source": [
    "声明一个(数据类型为float，2行3列)矩阵"
   ]
  },
  {
   "cell_type": "code",
   "execution_count": 4,
   "id": "27aef95a",
   "metadata": {},
   "outputs": [
    {
     "name": "stdout",
     "output_type": "stream",
     "text": [
      "0 0 0\n",
      "0 0 0\n"
     ]
    }
   ],
   "source": [
    "Eigen::Matrix<float, 2, 3> matrix1;\n",
    "cout << matrix1 << endl;"
   ]
  },
  {
   "cell_type": "markdown",
   "id": "52f9d452",
   "metadata": {},
   "source": [
    "声明一个数据类型为double的动态矩阵"
   ]
  },
  {
   "cell_type": "code",
   "execution_count": 6,
   "id": "aa08363b",
   "metadata": {},
   "outputs": [
    {
     "name": "stdout",
     "output_type": "stream",
     "text": [
      "\n"
     ]
    }
   ],
   "source": [
    "//Eigen::MatrixXd matrix1;\n",
    "Eigen::Matrix<double, Eigen::Dynamic, Eigen::Dynamic> matrix1;\n",
    "cout << matrix1 << endl;"
   ]
  },
  {
   "cell_type": "markdown",
   "id": "7e0df061",
   "metadata": {},
   "source": [
    "## 声明向量\n",
    "通过Vector3d声明数据类型为double三维向量"
   ]
  },
  {
   "cell_type": "code",
   "execution_count": 7,
   "id": "92a228cf",
   "metadata": {},
   "outputs": [
    {
     "name": "stdout",
     "output_type": "stream",
     "text": [
      "0 0 0\n",
      "\n",
      "0 0 0\n"
     ]
    }
   ],
   "source": [
    "Eigen::Vector3d vector1;\n",
    "cout << vector1.transpose() << endl;\n",
    "Eigen::Matrix<double, 3, 1> vector2;\n",
    "cout << \"\\n\" << vector2.transpose() << endl;\n"
   ]
  },
  {
   "cell_type": "code",
   "execution_count": 42,
   "id": "4e72c882",
   "metadata": {},
   "outputs": [
    {
     "name": "stdout",
     "output_type": "stream",
     "text": [
      "0 0\n"
     ]
    }
   ],
   "source": [
    "typedef Eigen::Matrix<int, 1, 2> RowVector;\n",
    "RowVector row1;\n",
    "cout << row1 << endl;"
   ]
  },
  {
   "cell_type": "code",
   "execution_count": null,
   "id": "6cb283d5",
   "metadata": {},
   "outputs": [],
   "source": []
  },
  {
   "cell_type": "markdown",
   "id": "26d220be",
   "metadata": {},
   "source": [
    "# 读写\n",
    "## 矩阵的写入和读取"
   ]
  },
  {
   "cell_type": "code",
   "execution_count": 9,
   "id": "02589786",
   "metadata": {},
   "outputs": [
    {
     "name": "stdout",
     "output_type": "stream",
     "text": [
      "matrix1 =\n",
      "1 2 3\n",
      "4 5 6\n",
      "7 8 9\n",
      "\n",
      "矩阵的第2行第1列元素 = 4\n",
      "\n",
      "遍历矩阵元素: \n",
      "row:0; col:0; value = 1\n",
      "row:0; col:1; value = 2\n",
      "row:0; col:2; value = 3\n",
      "row:1; col:0; value = 4\n",
      "row:1; col:1; value = 5\n",
      "row:1; col:2; value = 6\n",
      "row:2; col:0; value = 7\n",
      "row:2; col:1; value = 8\n",
      "row:2; col:2; value = 9\n"
     ]
    }
   ],
   "source": [
    "Eigen::Matrix3d matrix1;\n",
    "matrix1 << 1, 2, 3, 4, 5, 6, 7, 8, 9;\n",
    "\n",
    "cout << \"matrix1 =\\n\" << matrix1 << endl;\n",
    "\n",
    "cout << \"\\n矩阵的第2行第1列元素 = \" << matrix1(1, 0) << endl;\n",
    "\n",
    "cout << \"\\n遍历矩阵元素: \" << endl;\n",
    "for (int i = 0; i < matrix1.rows(); i++) {\n",
    "    for (int j = 0; j < matrix1.cols(); j++) {\n",
    "        cout << \"row:\" << i << \"; col:\" << j << \"; value = \" << matrix1(i, j) << endl;\n",
    "    }\n",
    "}"
   ]
  },
  {
   "cell_type": "markdown",
   "id": "f4ff78ac",
   "metadata": {},
   "source": [
    "## 向量写入"
   ]
  },
  {
   "cell_type": "code",
   "execution_count": 10,
   "id": "f072cd48",
   "metadata": {},
   "outputs": [
    {
     "name": "stdout",
     "output_type": "stream",
     "text": [
      "vector1 = 1 2 3\n",
      "vector1 = 4 6 5\n",
      "vector1 = 7 8 9\n",
      "vector1 = 13 12 11\n"
     ]
    }
   ],
   "source": [
    "Eigen::Matrix<double, 3, 1> vector1(1, 2, 3);   //优先考虑\n",
    "cout << \"vector1 = \" << vector1.transpose() << endl;\n",
    "\n",
    "vector1(0) = 4; vector1(1) = 6; vector1(2) = 5; //优先考虑\n",
    "cout << \"vector1 = \" << vector1.transpose() << endl;\n",
    "\n",
    "vector1[0] = 7; vector1[1] = 8; vector1[2] = 9;\n",
    "cout << \"vector1 = \" << vector1.transpose() << endl;\n",
    "\n",
    "vector1.x() = 13; vector1.y() = 12; vector1.z() = 11;\n",
    "cout << \"vector1 = \" << vector1.transpose() << endl;"
   ]
  },
  {
   "cell_type": "markdown",
   "id": "698d7ff6",
   "metadata": {},
   "source": [
    "# 初始化"
   ]
  },
  {
   "cell_type": "code",
   "execution_count": 11,
   "id": "43e03bfa",
   "metadata": {},
   "outputs": [
    {
     "name": "stdout",
     "output_type": "stream",
     "text": [
      "全0矩阵: \n",
      "0 0 0\n",
      "0 0 0\n",
      "0 0 0\n",
      "\n",
      "全0矩阵: \n",
      "0 0 0\n",
      "0 0 0\n",
      "0 0 0\n",
      "\n",
      "全1矩阵: \n",
      "1 1 1\n",
      "1 1 1\n",
      "1 1 1\n",
      "\n",
      "单位矩阵: \n",
      "1 0 0\n",
      "0 1 0\n",
      "0 0 1\n",
      "\n",
      "随机矩阵: \n",
      " 0.632308  0.697724 -0.899569\n",
      "-0.991584 -0.657163  -0.48932\n",
      "-0.537575  0.304696  0.829196\n"
     ]
    }
   ],
   "source": [
    "Eigen::Matrix3d matrix1;\n",
    "\n",
    "matrix1 = Eigen::Matrix3d::Zero();\n",
    "cout << \"全0矩阵: \\n\" << matrix1 << endl;\n",
    "\n",
    "matrix1.setZero();\n",
    "cout << \"\\n全0矩阵: \\n\" << matrix1 << endl;\n",
    "\n",
    "matrix1.setOnes();\n",
    "cout << \"\\n全1矩阵: \\n\" << matrix1 << endl;\n",
    "\n",
    "matrix1 = Eigen::Matrix3d::Identity();\n",
    "cout << \"\\n单位矩阵: \\n\" << matrix1 << endl;\n",
    "\n",
    "matrix1 = Eigen::Matrix3d::Random();\n",
    "cout << \"\\n随机矩阵: \\n\" << matrix1 << endl;\n"
   ]
  },
  {
   "cell_type": "markdown",
   "id": "f12ee02c",
   "metadata": {},
   "source": [
    "# 矩阵分块\n",
    "待补充完善，对应后面的变换矩!!!!!!!!!!!!!!!!!!!!!!!!!!!!!!!!!!!!!!!!!!!!!!!!!!!!!!!"
   ]
  },
  {
   "cell_type": "code",
   "execution_count": 12,
   "id": "91738861",
   "metadata": {},
   "outputs": [
    {
     "name": "stderr",
     "output_type": "stream",
     "text": [
      "\u001b[1minput_line_21:2:3: \u001b[0m\u001b[0;1;31merror: \u001b[0m\u001b[1muse of undeclared identifier 'T12'\u001b[0m\n",
      "  T12.block<3, 3>(0, 0) = R12;\n",
      "\u001b[0;1;32m  ^\n",
      "\u001b[0m\u001b[1minput_line_21:2:27: \u001b[0m\u001b[0;1;31merror: \u001b[0m\u001b[1muse of undeclared identifier 'R12'\u001b[0m\n",
      "  T12.block<3, 3>(0, 0) = R12;\n",
      "\u001b[0;1;32m                          ^\n",
      "\u001b[0m\u001b[1minput_line_21:3:1: \u001b[0m\u001b[0;1;31merror: \u001b[0m\u001b[1muse of undeclared identifier 'T12'\u001b[0m\n",
      "T12.block<3, 1>(0, 3) = t12;\n",
      "\u001b[0;1;32m^\n",
      "\u001b[0m\u001b[1minput_line_21:3:25: \u001b[0m\u001b[0;1;31merror: \u001b[0m\u001b[1muse of undeclared identifier 't12'\u001b[0m\n",
      "T12.block<3, 1>(0, 3) = t12;\n",
      "\u001b[0;1;32m                        ^\n",
      "\u001b[0m\u001b[1minput_line_21:4:35: \u001b[0m\u001b[0;1;31merror: \u001b[0m\u001b[1muse of undeclared identifier 'T12'\u001b[0m\n",
      "cout << \"旋转R12：\" << endl << T12.topLeftCorner(3, 3) << endl;\n",
      "\u001b[0;1;32m                               ^\n",
      "\u001b[0m\u001b[1minput_line_21:5:27: \u001b[0m\u001b[0;1;31merror: \u001b[0m\u001b[1muse of undeclared identifier 'T12'\u001b[0m\n",
      "cout << \"平移t12：\" << T12.topRightCorner(3, 1).transpose() << endl;//2系原点在1系下的坐标 \n",
      "\u001b[0;1;32m                       ^\n",
      "\u001b[0m"
     ]
    },
    {
     "ename": "Interpreter Error",
     "evalue": "",
     "output_type": "error",
     "traceback": [
      "Interpreter Error: "
     ]
    }
   ],
   "source": [
    " T12.block<3, 3>(0, 0) = R12;\n",
    "T12.block<3, 1>(0, 3) = t12;\n",
    "cout << \"旋转R12：\" << endl << T12.topLeftCorner(3, 3) << endl;\n",
    "cout << \"平移t12：\" << T12.topRightCorner(3, 1).transpose() << endl;//2系原点在1系下的坐标 \n"
   ]
  },
  {
   "cell_type": "markdown",
   "id": "6dc0f5d7",
   "metadata": {},
   "source": [
    "# 矩阵拼接\n",
    "通过声明矩阵的维度控制矩阵拼接的方向"
   ]
  },
  {
   "cell_type": "code",
   "execution_count": 13,
   "id": "9635d695",
   "metadata": {},
   "outputs": [
    {
     "name": "stdout",
     "output_type": "stream",
     "text": [
      "水平拼接\n",
      "1 0 0 1 0 0\n",
      "0 1 0 0 1 0\n",
      "0 0 1 0 0 1\n",
      "\n",
      "垂直拼接\n",
      "1 0 0\n",
      "0 1 0\n",
      "0 0 1\n",
      "1 0 0\n",
      "0 1 0\n",
      "0 0 1\n"
     ]
    }
   ],
   "source": [
    "Eigen::Matrix<double, 3, 6> matrix36;\n",
    "Eigen::Matrix<double, 6, 3> matrix63;\n",
    "Eigen::Matrix3d matrix1;\n",
    "matrix1 = Eigen::Matrix3d::Identity();\n",
    "\n",
    "matrix36 << matrix1, matrix1;\n",
    "matrix63 << matrix1, matrix1;\n",
    "cout << \"水平拼接\\n\" << matrix36 << endl;\n",
    "cout << \"\\n垂直拼接\\n\" << matrix63 << endl;\n"
   ]
  },
  {
   "cell_type": "markdown",
   "id": "9831c10a",
   "metadata": {},
   "source": [
    "# 基本运算\n",
    "## 矩阵基本运算\n",
    "注释: 暂时没查到计算矩阵的秩的命令"
   ]
  },
  {
   "cell_type": "code",
   "execution_count": 14,
   "id": "ba22083a",
   "metadata": {},
   "outputs": [
    {
     "name": "stdout",
     "output_type": "stream",
     "text": [
      "原矩阵:\n",
      "3 2 0\n",
      "2 1 2\n",
      "2 1 1\n",
      "\n",
      "矩阵的转置: \n",
      "3 2 2\n",
      "2 1 1\n",
      "0 2 1\n",
      "\n",
      "矩阵的逆: \n",
      "-1 -2  4\n",
      " 2  3 -6\n",
      " 0  1 -1\n",
      "\n",
      "矩阵的行列式 = 1\n",
      "\n",
      "矩阵的迹 = 5\n",
      "\n",
      "矩阵的sum = 14\n",
      "\n",
      "矩阵模长/2范数 = 5.2915\n",
      "\n",
      "矩阵单位化:\n",
      "0.566947 0.377964        0\n",
      "0.377964 0.188982 0.377964\n",
      "0.377964 0.188982 0.188982\n"
     ]
    }
   ],
   "source": [
    "Eigen::Matrix3d matrix1;\n",
    "matrix1 << 3, 2, 0, 2, 1, 2, 2, 1, 1;\n",
    "cout << \"原矩阵:\\n\" << matrix1 << endl;\n",
    "\n",
    "cout << \"\\n矩阵的转置: \\n\" << matrix1.transpose() << endl;\n",
    "\n",
    "cout << \"\\n矩阵的逆: \\n\" << matrix1.inverse() << endl;\n",
    "\n",
    "cout << \"\\n矩阵的行列式 = \" << matrix1.determinant() << endl; // 特征值之积 tr(Matrix) = lambda_1 * lambda_2 * ... * lambda_n\n",
    "\n",
    "cout << \"\\n矩阵的迹 = \" << matrix1.trace() << endl;           // 特征值之和 det(Matrix) = lambda_1 + lambda_2 + ... + lambda_n\n",
    "\n",
    "cout << \"\\n矩阵的sum = \" << matrix1.sum() << endl;            // 元素之和\n",
    "\n",
    "cout << \"\\n矩阵2范数 = \" << matrix1.norm() << endl;\n",
    "\n",
    "cout << \"\\n矩阵单位化:\\n\" << matrix1.normalized() << endl;\n"
   ]
  },
  {
   "cell_type": "markdown",
   "id": "841c583e",
   "metadata": {},
   "source": [
    "## 矩阵四则运算"
   ]
  },
  {
   "cell_type": "code",
   "execution_count": 34,
   "id": "f290ae2b",
   "metadata": {},
   "outputs": [
    {
     "name": "stdout",
     "output_type": "stream",
     "text": [
      "matrix1:\n",
      "3 1 1\n",
      "2 1 2\n",
      "1 2 3\n",
      "matrix2:\n",
      " 1  1 -1\n",
      " 2 -1  0\n",
      " 1  0  1\n",
      "\n",
      "矩阵点乘:\n",
      " 3  1 -1\n",
      " 4 -1  0\n",
      " 1  0  3\n",
      "\n",
      "矩阵乘法:\n",
      " 6  2 -2\n",
      " 6  1  0\n",
      " 8 -1  2\n",
      "\n",
      "matrix1 + matrix2 =\n",
      "4 2 0\n",
      "4 0 2\n",
      "2 2 4\n",
      "\n",
      "matrix1 - matrix2 =\n",
      "2 0 2\n",
      "0 2 2\n",
      "0 2 2\n",
      "\n",
      "matrix1数乘(*2) =\n",
      "6 2 2\n",
      "4 2 4\n",
      "2 4 6\n",
      "\n",
      "matrix1数除(/2) =\n",
      "1.5 0.5 0.5\n",
      "  1 0.5   1\n",
      "0.5   1 1.5\n"
     ]
    }
   ],
   "source": [
    "Eigen::Matrix3d matrix1;\n",
    "matrix1 << 3,1,1,2,1,2,1,2,3;\n",
    "Eigen::Matrix3d matrix2;\n",
    "matrix2 << 1,1,-1,2,-1,0,1,0,1;\n",
    "cout << \"matrix1:\\n\" << matrix1 << endl;\n",
    "cout << \"matrix2:\\n\" << matrix2 << endl;\n",
    "\n",
    "cout << \"\\n矩阵点乘:\\n\" << matrix1.cwiseProduct(matrix2) << endl;\n",
    "cout << \"\\n矩阵乘法:\\n\" << matrix1 * matrix2 << endl;\n",
    "\n",
    "cout << \"\\nmatrix1 + matrix2 =\\n\" << matrix1 + matrix2 << endl;\n",
    "cout << \"\\nmatrix1 - matrix2 =\\n\" << matrix1 - matrix2 << endl;\n",
    "cout << \"\\nmatrix1数乘(*2) =\\n\" << 2 * matrix1 << endl;\n",
    "cout << \"\\nmatrix1数除(/2) =\\n\" << matrix1 / 2 << endl;\n"
   ]
  },
  {
   "cell_type": "markdown",
   "id": "cdefe52c",
   "metadata": {},
   "source": [
    "矩阵乘法需要注意\n",
    "1) 等号两侧数据类型一致;\n",
    "2) 等号两侧矩阵维度相同;\n",
    "3) 乘号左右两个矩阵的数据类型一致;\n",
    "4) 乘号左侧矩阵的列数 = 乘号右侧矩阵的行数"
   ]
  },
  {
   "cell_type": "code",
   "execution_count": 24,
   "id": "576c737e",
   "metadata": {},
   "outputs": [
    {
     "name": "stdout",
     "output_type": "stream",
     "text": [
      " 4\n",
      "11\n"
     ]
    },
    {
     "data": {
      "text/plain": [
       "@0x7f46bce7bba0"
      ]
     },
     "execution_count": 24,
     "metadata": {},
     "output_type": "execute_result"
    }
   ],
   "source": [
    "Eigen::Matrix<float, 2, 3> matrix1;\n",
    "matrix1 << 3,2,1,6,4,5;\n",
    "Eigen::Vector3d vector1;\n",
    "vector1 << 1, 0, 1;\n",
    "\n",
    "Eigen::Matrix<double, 2, 1> matrix_output = matrix1.cast<double>() * vector1; //.cast<数据类型>(): 改变数据类型\n",
    "cout << matrix_output << endl;\n",
    "\n"
   ]
  },
  {
   "cell_type": "markdown",
   "id": "ac10aaca",
   "metadata": {},
   "source": [
    "Matrix<double, 2, 1> matrix_wrong = matrix1 * vector1; //报错，因为等号右侧两个矩阵的数据类型不一致，见注意3"
   ]
  },
  {
   "cell_type": "markdown",
   "id": "67c67bc2",
   "metadata": {},
   "source": [
    "Matrix<double, 2, 3> matrix_wrong = matrix1.cast<double>() * vector1; //报错，因为等号左边是2行3列，等号右边是2行1列，维度不一致，见注意2"
   ]
  },
  {
   "cell_type": "code",
   "execution_count": 25,
   "id": "45df3967",
   "metadata": {},
   "outputs": [
    {
     "name": "stderr",
     "output_type": "stream",
     "text": [
      "In file included from input_line_10:1:\n",
      "In file included from /usr/include/eigen3/Eigen/Core:441:\n",
      "\u001b[1m/usr/include/eigen3/Eigen/src/Core/AssignEvaluator.h:834:3: \u001b[0m\u001b[0;1;31merror: \u001b[0m\u001b[1mstatic_assert failed \"YOU_MIXED_DIFFERENT_NUMERIC_TYPES__YOU_NEED_TO_USE_THE_CAST_METHOD_OF_MATRIXBASE_TO_CAST_NUMERIC_TYPES_EXPLICITLY\"\u001b[0m\n",
      "  EIGEN_CHECK_BINARY_COMPATIBILIY(Func,typename ActualDstTypeCleaned::Scalar,typename Src::Scalar);\n",
      "\u001b[0;1;32m  ^~~~~~~~~~~~~~~~~~~~~~~~~~~~~~~~~~~~~~~~~~~~~~~~~~~~~~~~~~~~~~~~~~~~~~~~~~~~~~~~~~~~~~~~~~~~~~~~\n",
      "\u001b[0m\u001b[1m/usr/include/eigen3/Eigen/src/Core/util/XprHelper.h:819:3: \u001b[0m\u001b[0;1;30mnote: \u001b[0mexpanded from macro 'EIGEN_CHECK_BINARY_COMPATIBILIY'\u001b[0m\n",
      "  EIGEN_STATIC_ASSERT((Eigen::internal::has_ReturnType<ScalarBinaryOpTraits<LHS, RHS,BINOP> >::value), \\\n",
      "\u001b[0;1;32m  ^~~~~~~~~~~~~~~~~~~~~~~~~~~~~~~~~~~~~~~~~~~~~~~~~~~~~~~~~~~~~~~~~~~~~~~~~~~~~~~~~~~~~~~~~~~~~~~~~~~~~~\n",
      "\u001b[0m\u001b[1m/usr/include/eigen3/Eigen/src/Core/util/StaticAssert.h:33:40: \u001b[0m\u001b[0;1;30mnote: \u001b[0mexpanded from macro 'EIGEN_STATIC_ASSERT'\u001b[0m\n",
      "    #define EIGEN_STATIC_ASSERT(X,MSG) static_assert(X,#MSG);\n",
      "\u001b[0;1;32m                                       ^             ~\n",
      "\u001b[0m\u001b[1m/usr/include/eigen3/Eigen/src/Core/PlainObjectBase.h:732:17: \u001b[0m\u001b[0;1;30mnote: \u001b[0min instantiation of function template specialization 'Eigen::internal::call_assignment_no_alias<Eigen::Matrix<double, -1, -1, 0, -1, -1>,\n",
      "      Eigen::Product<Eigen::Matrix<float, 2, 3, 0, 2, 3>, Eigen::Transpose<Eigen::Matrix<float, 2, 3, 0, 2, 3> >, 0>, Eigen::internal::assign_op<double,\n",
      "      float> >' requested here\u001b[0m\n",
      "      internal::call_assignment_no_alias(this->derived(), other.derived(), internal::assign_op<Scalar,typename OtherDerived::Scalar>());\n",
      "\u001b[0;1;32m                ^\n",
      "\u001b[0m\u001b[1m/usr/include/eigen3/Eigen/src/Core/PlainObjectBase.h:537:7: \u001b[0m\u001b[0;1;30mnote: \u001b[0min instantiation of function template specialization 'Eigen::PlainObjectBase<Eigen::Matrix<double, -1, -1, 0, -1, -1>\n",
      "      >::_set_noalias<Eigen::Product<Eigen::Matrix<float, 2, 3, 0, 2, 3>, Eigen::Transpose<Eigen::Matrix<float, 2, 3, 0, 2, 3> >, 0> >' requested here\u001b[0m\n",
      "      _set_noalias(other);\n",
      "\u001b[0;1;32m      ^\n",
      "\u001b[0m\u001b[1m/usr/include/eigen3/Eigen/src/Core/Matrix.h:377:9: \u001b[0m\u001b[0;1;30mnote: \u001b[0min instantiation of function template specialization 'Eigen::PlainObjectBase<Eigen::Matrix<double, -1, -1, 0, -1, -1>\n",
      "      >::PlainObjectBase<Eigen::Product<Eigen::Matrix<float, 2, 3, 0, 2, 3>, Eigen::Transpose<Eigen::Matrix<float, 2, 3, 0, 2, 3> >, 0> >' requested here\u001b[0m\n",
      "      : Base(other.derived())\n",
      "\u001b[0;1;32m        ^\n",
      "\u001b[0m\u001b[1minput_line_37:4:71: \u001b[0m\u001b[0;1;30mnote: \u001b[0min instantiation of function template specialization 'Eigen::Matrix<double, -1, -1, 0, -1, -1>::Matrix<Eigen::Product<Eigen::Matrix<float, 2, 3, 0, 2, 3>,\n",
      "      Eigen::Transpose<Eigen::Matrix<float, 2, 3, 0, 2, 3> >, 0> >' requested here\u001b[0m\n",
      "Eigen::Matrix<double, Eigen::Dynamic, Eigen::Dynamic> matrix_output = matrix1 * (matrix1.transpose());\n",
      "\u001b[0;1;32m                                                                      ^\n",
      "\u001b[0m"
     ]
    },
    {
     "ename": "Interpreter Error",
     "evalue": "",
     "output_type": "error",
     "traceback": [
      "Interpreter Error: "
     ]
    }
   ],
   "source": [
    "Eigen::Matrix<float, 2, 3> matrix1;\n",
    "matrix1 << 3,2,1,6,4,5;\n",
    "Eigen::Matrix<double, Eigen::Dynamic, Eigen::Dynamic> matrix_output = matrix1 * (matrix1.transpose());"
   ]
  },
  {
   "cell_type": "markdown",
   "id": "807034bf",
   "metadata": {},
   "source": [
    "Matrix<double, Dynamic, Dynamic> matrix_wrong = matrix1 * matrix1.transpose(); // 报错，因为等号左边的数据类型为double，等号右边的数据类型为float，等号两侧数据类型不一致，见注意1"
   ]
  },
  {
   "cell_type": "markdown",
   "id": "88159ee4",
   "metadata": {},
   "source": [
    "Matrix<float, Dynamic, Dynamic> matrix_wrong = matrix1 * matrix1; //报错，因为等号右侧的两个矩阵维度不符合矩阵乘法要求，见注意4\n"
   ]
  },
  {
   "cell_type": "markdown",
   "id": "a7888fc3",
   "metadata": {},
   "source": [
    "## 向量基本运算"
   ]
  },
  {
   "cell_type": "code",
   "execution_count": 31,
   "id": "4c7c0cdc",
   "metadata": {},
   "outputs": [
    {
     "name": "stdout",
     "output_type": "stream",
     "text": [
      "向量 = \n",
      "4\n",
      "2\n",
      "3\n",
      "\n",
      "向量转置 = 4 2 3\n",
      "\n",
      "第1维分量: 4, 4, 4\n",
      "第2维分量: 2, 2, 2\n",
      "第3维分量: 3, 3, 3\n",
      "\n",
      "向量元素之和 = 9\n",
      "\n",
      "向量模长 = 5.38516\n",
      "\n",
      "向量元素的平方和 = 29, 29, 29\n",
      "\n",
      "向量单位化:\n",
      "0.742781\n",
      "0.371391\n",
      "0.557086\n"
     ]
    }
   ],
   "source": [
    "Eigen::Vector3d vector1(4,2,3);\n",
    "cout << \"向量 = \\n\" << vector1 << endl;\n",
    "\n",
    "cout << \"\\n向量转置 = \" << vector1.transpose() << endl;\n",
    "\n",
    "cout << \"\\n第1维分量: \" \n",
    "    << vector1(0) << \", \" \n",
    "    << vector1[0] << \", \" \n",
    "    << vector1.x() << endl;\n",
    "cout << \"第2维分量: \"\n",
    "    << vector1(1) << \", \" \n",
    "    << vector1[1] << \", \" \n",
    "    << vector1.y() << endl;\n",
    "cout << \"第3维分量: \" \n",
    "    << vector1(2) << \", \" \n",
    "    << vector1[2] << \", \" \n",
    "    << vector1.z() << endl;\n",
    "\n",
    "cout << \"\\n向量元素之和 = \" << vector1.sum() << endl;  // x+y+z\n",
    "\n",
    "cout << \"\\n向量模长 = \" << vector1.norm() << endl;     // (x^2+y^2+z^2)^0.5\n",
    "\n",
    "cout << \"\\n向量元素的平方和 = \" \n",
    "    << vector1.squaredNorm() << \", \" \n",
    "    << vector1.transpose()*vector1 << \", \" \n",
    "    << vector1.dot(vector1) << endl;     // x^2+y^2+z^2\n",
    "\n",
    "cout << \"\\n向量单位化:\\n\" << vector1.normalized() << endl;\n"
   ]
  },
  {
   "cell_type": "markdown",
   "id": "fe4d5bf6",
   "metadata": {},
   "source": [
    "## 向量内外积\n",
    "在二维空间中，|v1×v2|在数值上等于由向量v1和向量v2构成的平行四边形的面积"
   ]
  },
  {
   "cell_type": "code",
   "execution_count": 32,
   "id": "f708ced4",
   "metadata": {},
   "outputs": [
    {
     "name": "stdout",
     "output_type": "stream",
     "text": [
      "vector1 =\n",
      "2 3 1\n",
      "vector2 =\n",
      "1 0 1\n",
      "\n",
      "对应元素相乘 = \n",
      "2\n",
      "0\n",
      "1\n",
      "\n",
      "内积/点乘 = 3\n",
      "内积/点乘 = 3\n",
      "\n",
      "外积/叉乘/法向量 =\n",
      " 3\n",
      "-1\n",
      "-3\n"
     ]
    }
   ],
   "source": [
    "Eigen::Vector3d vector1;\n",
    "vector1 << 2, 3, 1;\n",
    "Eigen::Vector3d vector2;\n",
    "vector2 << 1, 0, 1;\n",
    "\n",
    "\n",
    "cout << \"vector1 =\\n\" << vector1.transpose() << endl;\n",
    "cout << \"vector2 =\\n\" << vector2.transpose() << endl;\n",
    "\n",
    "\n",
    "cout << \"\\n对应元素相乘 = \\n\" << vector1.cwiseProduct(vector2) << endl;\n",
    "\n",
    "\n",
    "cout << \"\\n内积/点乘 = \" << vector1.transpose() * vector2 << endl; \n",
    "cout << \"内积/点乘 = \" << vector1.dot(vector2) << endl; \n",
    "\n",
    "cout << \"\\n外积/叉乘/法向量 =\\n\" << vector1.cross(vector2) << endl;"
   ]
  },
  {
   "cell_type": "code",
   "execution_count": null,
   "id": "01b9d9c6",
   "metadata": {},
   "outputs": [],
   "source": []
  },
  {
   "cell_type": "code",
   "execution_count": null,
   "id": "ab0711ed",
   "metadata": {},
   "outputs": [],
   "source": []
  },
  {
   "cell_type": "code",
   "execution_count": null,
   "id": "cf78c364",
   "metadata": {},
   "outputs": [],
   "source": []
  },
  {
   "cell_type": "code",
   "execution_count": null,
   "id": "027cb41b",
   "metadata": {},
   "outputs": [],
   "source": []
  }
 ],
 "metadata": {
  "kernelspec": {
   "display_name": "C++14",
   "language": "C++14",
   "name": "xcpp14"
  },
  "language_info": {
   "codemirror_mode": "text/x-c++src",
   "file_extension": ".cpp",
   "mimetype": "text/x-c++src",
   "name": "c++",
   "version": "14"
  },
  "toc": {
   "base_numbering": 1,
   "nav_menu": {},
   "number_sections": true,
   "sideBar": true,
   "skip_h1_title": false,
   "title_cell": "Table of Contents",
   "title_sidebar": "Contents",
   "toc_cell": false,
   "toc_position": {
    "height": "calc(100% - 180px)",
    "left": "10px",
    "top": "150px",
    "width": "306.875px"
   },
   "toc_section_display": true,
   "toc_window_display": true
  }
 },
 "nbformat": 4,
 "nbformat_minor": 5
}
