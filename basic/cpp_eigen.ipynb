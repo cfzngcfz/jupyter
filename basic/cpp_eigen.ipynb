{
 "cells": [
  {
   "cell_type": "code",
   "execution_count": null,
   "id": "10bb5563",
   "metadata": {},
   "outputs": [],
   "source": [
    "// c++14\n",
    "#include <iostream>\n",
    "#pragma cling add_include_path(\"/usr/include/eigen3\")\n",
    "#include<Eigen/Core>     // Eigen 核心部分\n",
    "#include<Eigen/Dense>    // 稠密矩阵的代数运算（逆，特征值等）\n",
    "#include<Eigen/Geometry> //几何模块（旋转、平移等）"
   ]
  },
  {
   "cell_type": "markdown",
   "id": "7c89016c",
   "metadata": {},
   "source": [
    "# 声明"
   ]
  },
  {
   "cell_type": "markdown",
   "id": "7e0df061",
   "metadata": {},
   "source": [
    "## 声明向量\n",
    "通过Vector3d声明数据类型为double三维向量"
   ]
  },
  {
   "cell_type": "code",
   "execution_count": null,
   "id": "92a228cf",
   "metadata": {},
   "outputs": [],
   "source": [
    "Eigen::Vector3d vector;\n",
    "std::cout << vector << std::endl;"
   ]
  },
  {
   "cell_type": "code",
   "execution_count": null,
   "id": "83607fde",
   "metadata": {},
   "outputs": [],
   "source": [
    "Eigen::Vector3d vector(1, 2, 3);\n",
    "std::cout << vector << std::endl;"
   ]
  },
  {
   "cell_type": "code",
   "execution_count": null,
   "id": "0b437430",
   "metadata": {},
   "outputs": [],
   "source": [
    "Eigen::Vector3d vector{1, 2, 3};\n",
    "std::cout << vector << std::endl;"
   ]
  },
  {
   "cell_type": "code",
   "execution_count": null,
   "id": "97cd930d",
   "metadata": {},
   "outputs": [],
   "source": [
    "Eigen::Vector3d vector;\n",
    "vector << 1, 2, 3;\n",
    "std::cout << vector << std::endl;"
   ]
  },
  {
   "cell_type": "code",
   "execution_count": null,
   "id": "541486a3",
   "metadata": {},
   "outputs": [],
   "source": [
    "Eigen::Vector3d vector;\n",
    "vector(0) = 1; vector(2) = 3;\n",
    "std::cout << vector << std::endl;"
   ]
  },
  {
   "cell_type": "code",
   "execution_count": null,
   "id": "502cc862",
   "metadata": {},
   "outputs": [],
   "source": [
    "Eigen::Vector3d vector;\n",
    "vector[0] = 1; vector[1] = 2;\n",
    "std::cout << vector << std::endl;"
   ]
  },
  {
   "cell_type": "code",
   "execution_count": null,
   "id": "d0bfe7fa",
   "metadata": {},
   "outputs": [],
   "source": [
    "Eigen::Vector3d vector;\n",
    "vector.x() = 4; vector.y() = 5; vector.z() = 6;\n",
    "std::cout << vector << std::endl;"
   ]
  },
  {
   "cell_type": "code",
   "execution_count": null,
   "id": "bcd3c258",
   "metadata": {},
   "outputs": [],
   "source": [
    "Eigen::VectorXd vector(9);\n",
    "vector << 1, 2, 3, 4, 5, 6, 7, 8, 9;\n",
    "std::cout << vector << std::endl;"
   ]
  },
  {
   "cell_type": "code",
   "execution_count": null,
   "id": "0d6a618f",
   "metadata": {},
   "outputs": [],
   "source": [
    "Eigen::RowVector3d vector_row(1, 2, 3);\n",
    "std::cout << vector_row << std::endl;"
   ]
  },
  {
   "cell_type": "code",
   "execution_count": null,
   "id": "96f1761e",
   "metadata": {},
   "outputs": [],
   "source": [
    "typedef Eigen::Matrix<double, 1, 9> RowVector9d; \n",
    "RowVector9d vector_row;\n",
    "vector_row << 1, 2, 3, 4, 5, 6, 7, 8, 9;\n",
    "std::cout << vector << std::endl;"
   ]
  },
  {
   "cell_type": "markdown",
   "id": "84fe39c8",
   "metadata": {},
   "source": [
    "## 声明矩阵\n",
    "声明一个(数据类型为double，3行3列)矩阵"
   ]
  },
  {
   "cell_type": "code",
   "execution_count": null,
   "id": "16c786c0",
   "metadata": {},
   "outputs": [],
   "source": [
    "Eigen::Matrix3d matrix1;\n",
    "std::cout << matrix1 << std::endl;\n",
    "\n",
    "Eigen::Matrix<double, 3, 3> matrix2;\n",
    "std::cout << \"\\n\" << matrix2 << std::endl;"
   ]
  },
  {
   "cell_type": "markdown",
   "id": "07da9313",
   "metadata": {},
   "source": [
    "声明一个(数据类型为float，2行3列)矩阵"
   ]
  },
  {
   "cell_type": "code",
   "execution_count": null,
   "id": "27aef95a",
   "metadata": {},
   "outputs": [],
   "source": [
    "Eigen::Matrix<float, 2, 3> matrix1;\n",
    "std::cout << matrix1 << std::endl;"
   ]
  },
  {
   "cell_type": "markdown",
   "id": "52f9d452",
   "metadata": {},
   "source": [
    "声明一个数据类型为double的动态矩阵"
   ]
  },
  {
   "cell_type": "code",
   "execution_count": null,
   "id": "aa08363b",
   "metadata": {},
   "outputs": [],
   "source": [
    "//Eigen::MatrixXd matrix1;\n",
    "Eigen::Matrix<double, Eigen::Dynamic, Eigen::Dynamic> matrix1;\n",
    "std::cout << matrix1 << std::endl;"
   ]
  },
  {
   "cell_type": "code",
   "execution_count": null,
   "id": "edd6fa78",
   "metadata": {},
   "outputs": [],
   "source": []
  },
  {
   "cell_type": "code",
   "execution_count": null,
   "id": "6e41bc11",
   "metadata": {},
   "outputs": [],
   "source": []
  },
  {
   "cell_type": "code",
   "execution_count": null,
   "id": "5c436036",
   "metadata": {},
   "outputs": [],
   "source": []
  },
  {
   "cell_type": "code",
   "execution_count": null,
   "id": "2e1e168b",
   "metadata": {},
   "outputs": [],
   "source": []
  },
  {
   "cell_type": "code",
   "execution_count": null,
   "id": "c143ce21",
   "metadata": {},
   "outputs": [],
   "source": [
    "// 待整理"
   ]
  },
  {
   "cell_type": "code",
   "execution_count": null,
   "id": "8a0a1f28",
   "metadata": {},
   "outputs": [],
   "source": [
    "Eigen::Matrix<int, 3, 3, Eigen::RowMajor> matrix;\n",
    "matrix << 1, 2, 3, 4, 5, 6, 7, 8, 9;\n",
    "std::cout << matrix << std::endl;\n",
    "std::cout << \"size = \" << matrix.size() << \", num of rows = \" << matrix.rows() << \", num of cols = \" << matrix.cols() << std::endl;"
   ]
  },
  {
   "cell_type": "code",
   "execution_count": null,
   "id": "1786fb7b",
   "metadata": {},
   "outputs": [],
   "source": [
    "Eigen::Matrix<int, 3, 3, Eigen::RowMajor> matrix_new(matrix);\n",
    "std::cout << matrix_new << std::endl;"
   ]
  },
  {
   "cell_type": "code",
   "execution_count": null,
   "id": "74650b24",
   "metadata": {},
   "outputs": [],
   "source": [
    "Eigen::Matrix<int, 3, 3> matrix3;\n",
    "matrix3 << 1, 2, 3, 4, 5, 6, 7, 8, 9;\n",
    "std::cout << matrix3 << std::endl;"
   ]
  },
  {
   "cell_type": "code",
   "execution_count": null,
   "id": "a5bd606e",
   "metadata": {},
   "outputs": [],
   "source": [
    "Eigen::VectorXd soln(9);\n",
    "for (int ii = 0; ii < 9; ii++) {\n",
    "    soln(ii) = ii + 1;\n",
    "}\n",
    "// soln(0) = 1; soln(1) = 2; soln(2) = 5; soln(3) = 1;\n",
    "// soln(4) = 9; soln(5) = 2; soln(6) = 7; soln(7) = 3;\n",
    "std::cout << \"soln = \" << soln.transpose() << std::endl;"
   ]
  },
  {
   "cell_type": "code",
   "execution_count": null,
   "id": "559c23a1",
   "metadata": {},
   "outputs": [],
   "source": [
    "std::cout << soln.head(3).transpose() << std::endl;"
   ]
  },
  {
   "cell_type": "code",
   "execution_count": null,
   "id": "f3187dbe",
   "metadata": {},
   "outputs": [],
   "source": [
    "std::cout << soln.head(3).data() << std::endl;"
   ]
  },
  {
   "cell_type": "code",
   "execution_count": null,
   "id": "adfa5390",
   "metadata": {},
   "outputs": [],
   "source": [
    "std::cout << soln.segment(4, 3).transpose() << std::endl; // 从第5个位置开始, 取3个元素"
   ]
  },
  {
   "cell_type": "code",
   "execution_count": null,
   "id": "225ce4eb",
   "metadata": {},
   "outputs": [],
   "source": [
    "/* \n",
    "https://wuli.wiki/online/Eigen.html\n",
    "Matrix<>::size() 相当于 Matlab 的 numel(), 另外，rows() 和 cols() 分别是行数和列数。\n",
    "Matrix<>::data() 可以获得 Matrix 数据的指针，用于直接读写矩阵数据。注意 rowwise 需要专门声明。也可以用 & 来获取矩阵元的地址。\n",
    "矩阵转置用 Matrix<>::transpose() 复数矩阵共轭用 conjugate(), 共轭转置用 adjoint()\n",
    "矩阵元求和，Matrix<>::sum(); Matrix<>::colwise().sum(); Matrix<>::rowwise().sum()\n",
    "点乘和叉乘如 v.dot(w), v.cross(w) 类似的有 mean(), prod(), all(), any(), maxCoeff(), minCoeff() 获取子矩阵 对 Vector, 有 Matrix<>::head(n), tail(n), segment(n). 对 Matrix, 有 block(i,j,rows,cols), 有 row(i), col(j), topRows(n), middleRows(i, rows), bottomRows(n), leftCols(n), middleCols(j, cols), rightCols(n), topLeftCorner(rows,cols), bottomRightCorner(rows,cols) 等。\n",
    "\n",
    "Matrix<>::cwiseAbs()\n",
    "类似的有 cwiseInverse(); cwiseMax(); cwiseMin(); cwiseSign(); cwiseSqrt(); Matrix<>::array() 用于把 Matrix 转换为 array, 逐个元素运算，或加减一个常数。如 Matrix<>::array().square()\n",
    "类似的有 round(); pow(); sqrt(); 注意 array 可以直接赋值给 matrix.\n",
    "复制 vector 给矩阵的每一列 mat.colwise() = v; 类似地，+=, -= 等也可以使用。\n",
    "*/"
   ]
  },
  {
   "cell_type": "code",
   "execution_count": null,
   "id": "50c811b1",
   "metadata": {},
   "outputs": [],
   "source": []
  },
  {
   "cell_type": "code",
   "execution_count": null,
   "id": "de25a6b3",
   "metadata": {},
   "outputs": [],
   "source": []
  },
  {
   "cell_type": "code",
   "execution_count": null,
   "id": "400ec18c",
   "metadata": {},
   "outputs": [],
   "source": []
  },
  {
   "cell_type": "markdown",
   "id": "26d220be",
   "metadata": {},
   "source": [
    "# 读写\n",
    "## 矩阵的写入和读取"
   ]
  },
  {
   "cell_type": "code",
   "execution_count": null,
   "id": "02589786",
   "metadata": {},
   "outputs": [],
   "source": [
    "Eigen::Matrix3d matrix1;\n",
    "matrix1 << 1, 2, 3, 4, 5, 6, 7, 8, 9;\n",
    "\n",
    "std::cout << \"matrix1 =\\n\" << matrix1 << std::endl;\n",
    "\n",
    "std::cout << \"\\n矩阵的第2行第1列元素 = \" << matrix1(1, 0) << std::endl;\n",
    "\n",
    "std::cout << \"\\n遍历矩阵元素: \" << std::endl;\n",
    "for (int i = 0; i < matrix1.rows(); i++) {\n",
    "    for (int j = 0; j < matrix1.cols(); j++) {\n",
    "        std::cout << \"row:\" << i << \"; col:\" << j << \"; value = \" << matrix1(i, j) << std::endl;\n",
    "    }\n",
    "}"
   ]
  },
  {
   "cell_type": "markdown",
   "id": "9a3aceab",
   "metadata": {},
   "source": [
    "注意: `matrix << 1, 2, 3, 4, 5, 6, 7, 8, 9;` // 按行顺序, 输入到矩阵之中  \n",
    "但是如果 Matrix3i 没限定 Eigen::RowMajor, 则 matrix 内部的索引顺序是按列排列"
   ]
  },
  {
   "cell_type": "code",
   "execution_count": null,
   "id": "9dc3c26b",
   "metadata": {},
   "outputs": [],
   "source": [
    "Eigen::Matrix3i matrix;\n",
    "matrix << 1, 2, 3, 4, 5, 6, 7, 8, 9;\n",
    "std::cout << \"size of matrix = \" << matrix.size() << std::endl;\n",
    "std::cout << \"matrix =\\n\" << matrix << std::endl;"
   ]
  },
  {
   "cell_type": "code",
   "execution_count": null,
   "id": "ecc2a0fe",
   "metadata": {},
   "outputs": [],
   "source": [
    "for (int index = 0; index < matrix.size(); index++){\n",
    "    std::cout << \"index = \" << index << \", value = \" << *(matrix.data() + index) << std::endl;\n",
    "}"
   ]
  },
  {
   "cell_type": "code",
   "execution_count": null,
   "id": "dc7c5804",
   "metadata": {},
   "outputs": [],
   "source": [
    "Eigen::Matrix<int, 3, 3, Eigen::RowMajor> matrix;\n",
    "matrix << 1, 2, 3, 4, 5, 6, 7, 8, 9;\n",
    "std::cout << \"matrix =\\n\" << matrix << std::endl;"
   ]
  },
  {
   "cell_type": "code",
   "execution_count": null,
   "id": "75abfe4e",
   "metadata": {},
   "outputs": [],
   "source": [
    "for (int index = 0; index < matrix.size(); index++){\n",
    "    std::cout << \"index = \" << index << \", value = \" << *(matrix.data() + index) << std::endl;\n",
    "}"
   ]
  },
  {
   "cell_type": "markdown",
   "id": "698d7ff6",
   "metadata": {},
   "source": [
    "# 特殊矩阵"
   ]
  },
  {
   "cell_type": "code",
   "execution_count": null,
   "id": "bd7a7be5",
   "metadata": {},
   "outputs": [],
   "source": [
    "#include <iostream>\n",
    "#pragma cling add_include_path(\"/usr/include/eigen3\")\n",
    "#include <Eigen/SparseCore>"
   ]
  },
  {
   "cell_type": "code",
   "execution_count": null,
   "id": "4d9268fa",
   "metadata": {},
   "outputs": [],
   "source": [
    "std::cout << Eigen::Vector3i::Zero().transpose() << std::endl;"
   ]
  },
  {
   "cell_type": "code",
   "execution_count": null,
   "id": "1613dd23",
   "metadata": {},
   "outputs": [],
   "source": [
    "std::cout << Eigen::VectorXi::Zero(5).transpose() << std::endl; "
   ]
  },
  {
   "cell_type": "code",
   "execution_count": null,
   "id": "df0b338f",
   "metadata": {
    "scrolled": true
   },
   "outputs": [],
   "source": [
    "std::cout << Eigen::MatrixXd::Constant(3,3,2) << std::endl; // 常数矩阵"
   ]
  },
  {
   "cell_type": "code",
   "execution_count": null,
   "id": "d26678a7",
   "metadata": {},
   "outputs": [],
   "source": [
    "MatrixXd::Identity(line, row);\n",
    "MatrixXd::Zero(rows,cols); \n",
    "MatrixXd::Ones(rows,cols);   \n",
    "MatrixXd::Random(rows,cols); "
   ]
  },
  {
   "cell_type": "code",
   "execution_count": null,
   "id": "43e03bfa",
   "metadata": {},
   "outputs": [],
   "source": [
    "Eigen::Matrix3d matrix1;\n",
    "\n",
    "matrix1 = Eigen::Matrix3d::Zero();\n",
    "cout << \"全0矩阵: \\n\" << matrix1 << endl;\n",
    "\n",
    "matrix1.setZero();\n",
    "cout << \"\\n全0矩阵: \\n\" << matrix1 << endl;\n",
    "\n",
    "matrix1.setOnes();\n",
    "cout << \"\\n全1矩阵: \\n\" << matrix1 << endl;\n",
    "\n",
    "matrix1 = Eigen::Matrix3d::Identity();\n",
    "cout << \"\\n单位矩阵: \\n\" << matrix1 << endl;\n",
    "\n",
    "matrix1 = Eigen::Matrix3d::Random();\n",
    "cout << \"\\n随机矩阵: \\n\" << matrix1 << endl;"
   ]
  },
  {
   "cell_type": "markdown",
   "id": "6eaefe14",
   "metadata": {},
   "source": [
    "MatrixXd::Random(m,n)：创建m×n维double类型的随机数矩阵\n",
    "\n",
    "MatrixXd::Constant(m,n,p)：创建m×n维double类型元素全为p的矩阵\n",
    "\n",
    "MatrixXd::Zero(m,n)：创建m×n维元素全为0的矩阵\n",
    "\n",
    "MatrixXd::Ones(m,n)：创建m×n维元素全为1的矩阵\n",
    "\n",
    "MatrixXd::Identity(m,n)：创建m×n维的单位阵\n",
    "\n",
    "VectorXd::LinSpaced(size,low,high)：创建一个size长度的从low到high的向量或一维矩阵\n",
    "\n",
    "mat.transpose()：转置矩阵。对于矩阵转置，注意不要写成a = a.transpose()，这会导致错误结果(Aliasing Issue)，如果一定需要对原矩阵进行修改，使用a.transposeInPlace()函数。\n",
    "\n",
    "mat.inverse()：逆矩阵\n",
    "\n",
    "mat.conjugate()：共轭矩阵\n",
    "\n",
    "mat.adjoint()：伴随矩阵\n",
    "\n",
    "mat.trace()：矩阵的迹\n",
    "\n",
    "mat.eigenvalues()：矩阵的特征值\n",
    "\n",
    "mat.determinant()：矩阵求行列式的值\n",
    "\n",
    "mat.diagonal()：矩阵对角线元素\n",
    "\n",
    "mat.sum()：矩阵所有元素求和\n",
    "\n",
    "mat.prod()：矩阵所有元素求积\n",
    "\n",
    "mat.mean()：矩阵所有元素求平均\n",
    "\n",
    "mat.minCoeff()：矩阵所有元素最小值\n",
    "\n",
    "mat.minCoeff(&i,&j)：矩阵所有元素最小值的位置，i、j为int类型或为Eigen的Index类型。\n",
    "\n",
    "mat.maxCoeff()：矩阵所有元素最大值\n",
    "\n",
    "mat.maxCoeff(&i,&j)：矩阵所有元素最大值的位置\n",
    "\n",
    "mat.nonZeros()：矩阵中非零元素个数\n",
    "\n",
    "mat.squaredNorm()：矩阵(向量)的平方范数，对向量而言等价于其与自身做点积，数值上等于各分量的平方和。\n",
    "\n",
    "mat.norm()：矩阵(向量)的平方范数开根号(对于向量即求模长)\n",
    "\n",
    "mat.lpNorm<1>()：矩阵(向量)的L1范数\n",
    "\n",
    "mat.lpNorm<2>()：矩阵(向量)的L2范数\n",
    "\n",
    "mat.lpNorm<Infinity>()：矩阵(向量)的L无穷范数\n",
    "\n",
    "mat.lpNorm()：矩阵(向量)的Lp范数\n",
    "\n",
    "mat.normalize()：矩阵(向量)的正则化(归一化)，使所有元素的平方和等于1。\n",
    "\n",
    "(mat>0).all()：矩阵元素条件判断，mat中所有元素是否都大于0，是返回1，否则返回0。\n",
    "\n",
    "(mat>0).any()：矩阵元素条件判断，mat中所有元素是否有大于0的，有返回1，否则返回0。\n",
    "\n",
    "(mat>0).count()：矩阵符合条件的元素计数，返回mat中大于0元素的个数。\n",
    "\n",
    "mat.colwise()：返回矩阵每列的值\n",
    "\n",
    "mat.rowwise()：返回矩阵每行的值"
   ]
  },
  {
   "cell_type": "markdown",
   "id": "5d90c8d8",
   "metadata": {},
   "source": [
    "## 对角矩阵"
   ]
  },
  {
   "cell_type": "markdown",
   "id": "cc90fd0a",
   "metadata": {},
   "source": [
    "## 生成对角矩阵"
   ]
  },
  {
   "cell_type": "code",
   "execution_count": null,
   "id": "67b7cfd6",
   "metadata": {},
   "outputs": [],
   "source": [
    "auto vector = Eigen::VectorXi::Ones(9) * 3;\n",
    "std::cout << vector.transpose() << std::endl;"
   ]
  },
  {
   "cell_type": "code",
   "execution_count": null,
   "id": "7caff416",
   "metadata": {},
   "outputs": [],
   "source": [
    "Eigen::MatrixXi matrix = vector.asDiagonal();\n",
    "std::cout << matrix << std::endl;"
   ]
  },
  {
   "cell_type": "code",
   "execution_count": null,
   "id": "1fabf83d",
   "metadata": {},
   "outputs": [],
   "source": [
    "// Eigen::SparseMatrix<int> matrix(9, 9);"
   ]
  },
  {
   "cell_type": "markdown",
   "id": "201ba5e7",
   "metadata": {},
   "source": [
    "## 取对角元素"
   ]
  },
  {
   "cell_type": "code",
   "execution_count": null,
   "id": "7a4a9e25",
   "metadata": {},
   "outputs": [],
   "source": [
    "std::cout << matrix.diagonal().transpose() << std::endl;"
   ]
  },
  {
   "cell_type": "markdown",
   "id": "4858b24b",
   "metadata": {},
   "source": [
    "## 对角线赋值"
   ]
  },
  {
   "cell_type": "code",
   "execution_count": null,
   "id": "8487bbb1",
   "metadata": {},
   "outputs": [],
   "source": [
    "matrix.diagonal().tail(3) << 1, 1, 1;\n",
    "std::cout << matrix.diagonal().transpose() << std::endl;"
   ]
  },
  {
   "cell_type": "code",
   "execution_count": null,
   "id": "9e8d4e53",
   "metadata": {},
   "outputs": [],
   "source": [
    "matrix.diagonal().tail(3) << vector * 3;\n",
    "std::cout << matrix.diagonal().transpose() << std::endl;"
   ]
  },
  {
   "cell_type": "code",
   "execution_count": null,
   "id": "29baed5e",
   "metadata": {},
   "outputs": [],
   "source": [
    "matrix.diagonal().tail(3) = vector * 4;\n",
    "std::cout << matrix.diagonal().transpose() << std::endl;"
   ]
  },
  {
   "cell_type": "code",
   "execution_count": null,
   "id": "7bd04a4f",
   "metadata": {},
   "outputs": [],
   "source": [
    "matrix.diagonal().tail(6) << vector * 5;\n",
    "std::cout << matrix.diagonal().transpose() << std::endl;"
   ]
  },
  {
   "cell_type": "code",
   "execution_count": null,
   "id": "fb2367cf",
   "metadata": {},
   "outputs": [],
   "source": [
    "matrix.diagonal().tail(6) = vector * 6;\n",
    "std::cout << matrix.diagonal().transpose() << std::endl;"
   ]
  },
  {
   "cell_type": "code",
   "execution_count": null,
   "id": "ea998a6e",
   "metadata": {},
   "outputs": [],
   "source": [
    "matrix.diagonal().tail(4) = vector * 7;\n",
    "std::cout << matrix.diagonal().transpose() << std::endl;"
   ]
  },
  {
   "cell_type": "code",
   "execution_count": null,
   "id": "87a65494",
   "metadata": {
    "scrolled": true
   },
   "outputs": [],
   "source": [
    "Eigen::Vector3i vector1(6, 4, 6);\n",
    "Eigen::Vector3i vector2(12, 10, 12);\n",
    "matrix.diagonal().tail(6) << vector1, vector2;\n",
    "std::cout << matrix.diagonal().transpose() << std::endl;"
   ]
  },
  {
   "cell_type": "markdown",
   "id": "f12ee02c",
   "metadata": {},
   "source": [
    "# 矩阵分块\n",
    "待补充完善，对应后面的变换矩!!!!!!!!!!!!!!!!!!!!!!!!!!!!!!!!!!!!!!!!!!!!!!!!!!!!!!!  \n",
    "\n",
    "todo: https://blog.csdn.net/u012936940/article/details/79811080\n",
    "\n",
    "https://blog.csdn.net/wonengguwozai/article/details/125029383"
   ]
  },
  {
   "cell_type": "code",
   "execution_count": null,
   "id": "5b099633",
   "metadata": {},
   "outputs": [],
   "source": [
    "#include <iostream>\n",
    "#pragma cling add_include_path(\"/usr/include/eigen3\")\n",
    "#include<Eigen/Core> "
   ]
  },
  {
   "cell_type": "code",
   "execution_count": null,
   "id": "8a20e0e0",
   "metadata": {},
   "outputs": [],
   "source": [
    "Eigen::Matrix3d matrix1;\n",
    "matrix1 << 1, 2, 3, 4, 5, 6, 7, 8, 9;\n",
    "std::cout << \"matrix1 =\\n\" << matrix1 << std::endl;\n",
    "\n",
    "Eigen::Matrix<double, 3, 1> matrix2;\n",
    "matrix2 << -1, -2, -3;\n",
    "std::cout << \"matrix2 =\\n\" << matrix2 << std::endl;"
   ]
  },
  {
   "cell_type": "code",
   "execution_count": null,
   "id": "9261404b",
   "metadata": {},
   "outputs": [],
   "source": [
    "Eigen::Matrix4d matrix3;\n",
    "matrix3.block<3, 3>(0, 0) = matrix1;\n",
    "matrix3.block(0, 3, 3, 1) = matrix2;\n",
    "// or matrix3.block<3, 1>(0, 3) = matrix2;\n",
    "cout << \"matrix3 =\\n\" << matrix3 << endl;\n",
    "\n",
    "matrix3.bottomRightCorner(3, 3) = matrix1;\n",
    "// or matrix3.bottomRightCorner(3, 3) << matrix1;\n",
    "cout << \"matrix3 =\\n\" << matrix3 << endl;"
   ]
  },
  {
   "cell_type": "code",
   "execution_count": null,
   "id": "d41c7333",
   "metadata": {},
   "outputs": [],
   "source": [
    "cout << \"左上角矩阵 =\\n\" << matrix3.topLeftCorner(2, 2) << endl;\n",
    "cout << \"右上角矩阵 =\\n\" << matrix3.topRightCorner(2, 2) << endl;\n",
    "cout << \"左下角矩阵 =\\n\" << matrix3.bottomLeftCorner(2, 2) << endl;\n",
    "cout << \"右下角矩阵 =\\n\" << matrix3.bottomRightCorner(2, 2) << endl;\n",
    "\n",
    "cout << \"特定位置矩阵 =\\n\" << matrix3.block<2, 2>(1, 1) << endl;"
   ]
  },
  {
   "cell_type": "code",
   "execution_count": null,
   "id": "7e5ad8b2",
   "metadata": {},
   "outputs": [],
   "source": [
    "std::cout << \"对角线 =\\n\" << matrix3.diagonal() << std::endl;"
   ]
  },
  {
   "cell_type": "code",
   "execution_count": null,
   "id": "c2fb28e0",
   "metadata": {},
   "outputs": [],
   "source": [
    "std::cout << \"对角线 =\\n\" << matrix3.diagonal() << std::endl;"
   ]
  },
  {
   "cell_type": "markdown",
   "id": "6dc0f5d7",
   "metadata": {},
   "source": [
    "# 拼接\n",
    "## 向量"
   ]
  },
  {
   "cell_type": "code",
   "execution_count": null,
   "id": "12af82c1",
   "metadata": {},
   "outputs": [],
   "source": [
    "Eigen::VectorXd vector1(9);\n",
    "vector1 << 1, 2, 3, 4, 5, 6, 7, 8, 9;\n",
    "std::cout << vector1.transpose() << std::endl;"
   ]
  },
  {
   "cell_type": "code",
   "execution_count": null,
   "id": "59c605e6",
   "metadata": {},
   "outputs": [],
   "source": [
    "Eigen::VectorXd vector2(18);\n",
    "vector2 << vector1, vector1;\n",
    "std::cout << vector2.transpose() << std::endl;"
   ]
  },
  {
   "cell_type": "markdown",
   "id": "7cc06fe1",
   "metadata": {},
   "source": [
    "- A.replicate(x,y): 将A横向扩展x次(包含本身),纵向扩展y次(包含本身),共得到x*y个"
   ]
  },
  {
   "cell_type": "code",
   "execution_count": null,
   "id": "33818f82",
   "metadata": {},
   "outputs": [],
   "source": [
    "auto vector3 = vector1.replicate(2, 1);\n",
    "std:: cout << vector3  << std::endl; "
   ]
  },
  {
   "cell_type": "code",
   "execution_count": null,
   "id": "40836bab",
   "metadata": {},
   "outputs": [],
   "source": [
    "vector2.isApprox(vector3)"
   ]
  },
  {
   "cell_type": "markdown",
   "id": "c71b467c",
   "metadata": {},
   "source": [
    "## 矩阵\n",
    "通过声明矩阵的维度控制拼接方向"
   ]
  },
  {
   "cell_type": "code",
   "execution_count": null,
   "id": "9635d695",
   "metadata": {},
   "outputs": [],
   "source": [
    "Eigen::Matrix3d matrix;\n",
    "matrix = Eigen::Matrix3d::Identity();"
   ]
  },
  {
   "cell_type": "code",
   "execution_count": null,
   "id": "8822db59",
   "metadata": {},
   "outputs": [],
   "source": [
    "Eigen::Matrix<double, 3, 6> matrix_3_6;\n",
    "matrix_3_6 << matrix, matrix;\n",
    "std::cout << \"水平拼接\\n\" << matrix_3_6 << std::endl;"
   ]
  },
  {
   "cell_type": "code",
   "execution_count": null,
   "id": "7e118f12",
   "metadata": {},
   "outputs": [],
   "source": [
    "std::cout << matrix.replicate(1, 2) << std::endl;"
   ]
  },
  {
   "cell_type": "code",
   "execution_count": null,
   "id": "3cc12ecb",
   "metadata": {},
   "outputs": [],
   "source": [
    "matrix_3_6.isApprox(matrix.replicate(1, 2))"
   ]
  },
  {
   "cell_type": "code",
   "execution_count": null,
   "id": "687e9e8a",
   "metadata": {},
   "outputs": [],
   "source": [
    "Eigen::Matrix<double, 6, 3> matrix_6_3;\n",
    "matrix_6_3 << matrix, matrix;\n",
    "std::cout << \"\\n垂直拼接\\n\" << matrix_6_3 << std::endl;"
   ]
  },
  {
   "cell_type": "code",
   "execution_count": null,
   "id": "196d864d",
   "metadata": {},
   "outputs": [],
   "source": [
    "std::cout << matrix.replicate(2, 1) << std::endl;"
   ]
  },
  {
   "cell_type": "code",
   "execution_count": null,
   "id": "47d5554c",
   "metadata": {},
   "outputs": [],
   "source": [
    "matrix_6_3.isApprox(matrix.replicate(2, 1))"
   ]
  },
  {
   "cell_type": "markdown",
   "id": "9831c10a",
   "metadata": {},
   "source": [
    "# 基本运算\n",
    "## 矩阵基本运算\n",
    "注释: 暂时没查到计算矩阵的秩的命令"
   ]
  },
  {
   "cell_type": "code",
   "execution_count": null,
   "id": "ba22083a",
   "metadata": {},
   "outputs": [],
   "source": [
    "Eigen::Matrix3d matrix1;\n",
    "matrix1 << 3, 2, 0, 2, 1, 2, 2, 1, 1;\n",
    "cout << \"原矩阵:\\n\" << matrix1 << endl;\n",
    "\n",
    "cout << \"\\n矩阵的转置: \\n\" << matrix1.transpose() << endl;\n",
    "\n",
    "cout << \"\\n矩阵的逆: \\n\" << matrix1.inverse() << endl;\n",
    "\n",
    "cout << \"\\n矩阵的行列式 = \" << matrix1.determinant() << endl; // 特征值之积 tr(Matrix) = lambda_1 * lambda_2 * ... * lambda_n\n",
    "\n",
    "cout << \"\\n矩阵的迹 = \" << matrix1.trace() << endl;           // 特征值之和 det(Matrix) = lambda_1 + lambda_2 + ... + lambda_n\n",
    "\n",
    "cout << \"\\n矩阵的sum = \" << matrix1.sum() << endl;            // 元素之和\n",
    "\n",
    "cout << \"\\n矩阵2范数 = \" << matrix1.norm() << endl;\n",
    "\n",
    "cout << \"\\n矩阵单位化:\\n\" << matrix1.normalized() << endl;\n"
   ]
  },
  {
   "cell_type": "markdown",
   "id": "841c583e",
   "metadata": {},
   "source": [
    "## 矩阵四则运算"
   ]
  },
  {
   "cell_type": "code",
   "execution_count": null,
   "id": "f290ae2b",
   "metadata": {},
   "outputs": [],
   "source": [
    "Eigen::Matrix3d matrix1;\n",
    "matrix1 << 3,1,1,2,1,2,1,2,3;\n",
    "Eigen::Matrix3d matrix2;\n",
    "matrix2 << 1,1,-1,2,-1,0,1,0,1;\n",
    "cout << \"matrix1:\\n\" << matrix1 << endl;\n",
    "cout << \"matrix2:\\n\" << matrix2 << endl;\n",
    "\n",
    "cout << \"\\n矩阵点乘:\\n\" << matrix1.cwiseProduct(matrix2) << endl;\n",
    "cout << \"\\n矩阵乘法:\\n\" << matrix1 * matrix2 << endl;\n",
    "\n",
    "cout << \"\\nmatrix1 + matrix2 =\\n\" << matrix1 + matrix2 << endl;\n",
    "cout << \"\\nmatrix1 - matrix2 =\\n\" << matrix1 - matrix2 << endl;\n",
    "cout << \"\\nmatrix1数乘(*2) =\\n\" << 2 * matrix1 << endl;\n",
    "cout << \"\\nmatrix1数除(/2) =\\n\" << matrix1 / 2 << endl;\n"
   ]
  },
  {
   "cell_type": "markdown",
   "id": "cdefe52c",
   "metadata": {},
   "source": [
    "矩阵乘法需要注意\n",
    "1) 等号两侧数据类型一致;\n",
    "2) 等号两侧矩阵维度相同;\n",
    "3) 乘号左右两个矩阵的数据类型一致;\n",
    "4) 乘号左侧矩阵的列数 = 乘号右侧矩阵的行数"
   ]
  },
  {
   "cell_type": "code",
   "execution_count": null,
   "id": "576c737e",
   "metadata": {},
   "outputs": [],
   "source": [
    "Eigen::Matrix<float, 2, 3> matrix1;\n",
    "matrix1 << 3,2,1,6,4,5;\n",
    "Eigen::Vector3d vector1;\n",
    "vector1 << 1, 0, 1;\n",
    "\n",
    "Eigen::Matrix<double, 2, 1> matrix_output = matrix1.cast<double>() * vector1; //.cast<数据类型>(): 改变数据类型\n",
    "cout << matrix_output << endl;\n",
    "\n"
   ]
  },
  {
   "cell_type": "markdown",
   "id": "ac10aaca",
   "metadata": {},
   "source": [
    "Matrix<double, 2, 1> matrix_wrong = matrix1 * vector1; //报错，因为等号右侧两个矩阵的数据类型不一致，见注意3"
   ]
  },
  {
   "cell_type": "markdown",
   "id": "67c67bc2",
   "metadata": {},
   "source": [
    "Matrix<double, 2, 3> matrix_wrong = matrix1.cast<double>() * vector1; //报错，因为等号左边是2行3列，等号右边是2行1列，维度不一致，见注意2"
   ]
  },
  {
   "cell_type": "code",
   "execution_count": null,
   "id": "45df3967",
   "metadata": {},
   "outputs": [],
   "source": [
    "Eigen::Matrix<float, 2, 3> matrix1;\n",
    "matrix1 << 3,2,1,6,4,5;\n",
    "Eigen::Matrix<double, Eigen::Dynamic, Eigen::Dynamic> matrix_output = matrix1 * (matrix1.transpose());"
   ]
  },
  {
   "cell_type": "markdown",
   "id": "807034bf",
   "metadata": {},
   "source": [
    "Matrix<double, Dynamic, Dynamic> matrix_wrong = matrix1 * matrix1.transpose(); // 报错，因为等号左边的数据类型为double，等号右边的数据类型为float，等号两侧数据类型不一致，见注意1"
   ]
  },
  {
   "cell_type": "markdown",
   "id": "88159ee4",
   "metadata": {},
   "source": [
    "Matrix<float, Dynamic, Dynamic> matrix_wrong = matrix1 * matrix1; //报错，因为等号右侧的两个矩阵维度不符合矩阵乘法要求，见注意4\n"
   ]
  },
  {
   "cell_type": "markdown",
   "id": "a7888fc3",
   "metadata": {},
   "source": [
    "## 向量基本运算"
   ]
  },
  {
   "cell_type": "code",
   "execution_count": null,
   "id": "4c7c0cdc",
   "metadata": {},
   "outputs": [],
   "source": [
    "Eigen::Vector3d vector1(4,2,3);\n",
    "cout << \"向量 = \\n\" << vector1 << endl;\n",
    "\n",
    "cout << \"\\n向量转置 = \" << vector1.transpose() << endl;\n",
    "\n",
    "cout << \"\\n第1维分量: \" \n",
    "    << vector1(0) << \", \" \n",
    "    << vector1[0] << \", \" \n",
    "    << vector1.x() << endl;\n",
    "cout << \"第2维分量: \"\n",
    "    << vector1(1) << \", \" \n",
    "    << vector1[1] << \", \" \n",
    "    << vector1.y() << endl;\n",
    "cout << \"第3维分量: \" \n",
    "    << vector1(2) << \", \" \n",
    "    << vector1[2] << \", \" \n",
    "    << vector1.z() << endl;\n",
    "\n",
    "cout << \"\\n向量元素之和 = \" << vector1.sum() << endl;  // x+y+z\n",
    "\n",
    "cout << \"\\n向量模长 = \" << vector1.norm() << endl;     // (x^2+y^2+z^2)^0.5\n",
    "\n",
    "cout << \"\\n向量元素的平方和 = \" \n",
    "    << vector1.squaredNorm() << \", \" \n",
    "    << vector1.transpose()*vector1 << \", \" \n",
    "    << vector1.dot(vector1) << endl;     // x^2+y^2+z^2\n",
    "\n",
    "cout << \"\\n向量单位化:\\n\" << vector1.normalized() << endl;\n"
   ]
  },
  {
   "cell_type": "markdown",
   "id": "fe4d5bf6",
   "metadata": {},
   "source": [
    "## 向量内外积\n",
    "在二维空间中，|v1×v2|在数值上等于由向量v1和向量v2构成的平行四边形的面积"
   ]
  },
  {
   "cell_type": "code",
   "execution_count": null,
   "id": "f708ced4",
   "metadata": {},
   "outputs": [],
   "source": [
    "Eigen::Vector3d vector1;\n",
    "vector1 << 2, 3, 1;\n",
    "Eigen::Vector3d vector2;\n",
    "vector2 << 1, 0, 1;\n",
    "\n",
    "\n",
    "cout << \"vector1 =\\n\" << vector1.transpose() << endl;\n",
    "cout << \"vector2 =\\n\" << vector2.transpose() << endl;\n",
    "\n",
    "\n",
    "cout << \"\\n对应元素相乘 = \\n\" << vector1.cwiseProduct(vector2) << endl;\n",
    "\n",
    "\n",
    "cout << \"\\n内积/点乘 = \" << vector1.transpose() * vector2 << endl; \n",
    "cout << \"内积/点乘 = \" << vector1.dot(vector2) << endl; \n",
    "\n",
    "cout << \"\\n外积/叉乘/法向量 =\\n\" << vector1.cross(vector2) << endl;"
   ]
  },
  {
   "cell_type": "code",
   "execution_count": null,
   "id": "01b9d9c6",
   "metadata": {},
   "outputs": [],
   "source": []
  },
  {
   "cell_type": "code",
   "execution_count": null,
   "id": "ab0711ed",
   "metadata": {},
   "outputs": [],
   "source": [
    "std::cout << vector1 << std::endl;"
   ]
  },
  {
   "cell_type": "code",
   "execution_count": null,
   "id": "944776e1",
   "metadata": {},
   "outputs": [],
   "source": [
    "std::cout << vector1.size() << std::endl;"
   ]
  },
  {
   "cell_type": "code",
   "execution_count": null,
   "id": "cf78c364",
   "metadata": {},
   "outputs": [],
   "source": [
    "std::cout << vector1.tail(vector1.size()-1) << std::endl;"
   ]
  },
  {
   "cell_type": "code",
   "execution_count": null,
   "id": "027cb41b",
   "metadata": {},
   "outputs": [],
   "source": [
    "std::cout << vector1.head(vector1.size()-1) << std::endl;"
   ]
  },
  {
   "cell_type": "code",
   "execution_count": null,
   "id": "19d27be2",
   "metadata": {},
   "outputs": [],
   "source": [
    "auto vector2 = vector1.cwiseProduct(vector1);"
   ]
  },
  {
   "cell_type": "code",
   "execution_count": null,
   "id": "49ad04bf",
   "metadata": {},
   "outputs": [],
   "source": [
    "std::cout << vector2 << std::endl;"
   ]
  },
  {
   "cell_type": "code",
   "execution_count": null,
   "id": "57516008",
   "metadata": {},
   "outputs": [],
   "source": [
    "std::cout << vector2.cwiseSqrt() << std::endl;"
   ]
  },
  {
   "cell_type": "markdown",
   "id": "7bfaa4af",
   "metadata": {},
   "source": [
    "# Eigen::Map"
   ]
  },
  {
   "cell_type": "code",
   "execution_count": null,
   "id": "ef4826f8",
   "metadata": {},
   "outputs": [],
   "source": [
    "// c++14\n",
    "#include <iostream>\n",
    "#pragma cling add_include_path(\"/usr/include/eigen3\")\n",
    "#include<Eigen/Core>     // Eigen 核心部分"
   ]
  },
  {
   "cell_type": "markdown",
   "id": "6165f9ee",
   "metadata": {},
   "source": [
    "Eigen::Map 的作用是将一个已有的 C 数组映射为一个 Eigen 的向量或者矩阵(https://cwang.me/wiki/eigen/) 。它的优点是：\n",
    "- 可以使用 Eigen 向量和矩阵的各种操作函数；\n",
    "- 不会额外分配空间。即，它并非拷贝，而是依然使用已有数组的空间。  "
   ]
  },
  {
   "cell_type": "markdown",
   "id": "13a7e8b4",
   "metadata": {},
   "source": [
    "**<font color=\"red\">实际上Map类并没有自己申请一片空内存，只是一个引用，所以需要构造时初始化，或者使用Map的指针</font>。**(https://www.zhihu.com/question/43571898)  \n",
    "`vector_std.data()`: 返回一个指向数组中第一个元素的指针  \n",
    "`matrix.data()`: 获得 Matrix 数据的指针，用于直接读写矩阵数据  \n",
    "\n",
    "范围 | 是否支持引用\n",
    ":- | :-:\n",
    "std::vector -> Eigen::Vector | $\\checkmark$\n",
    "std::vector -> Eigen::Matrix | $\\checkmark$\n",
    "Eigen::Matrix -> std::vector | $\\times$\n",
    "Eigen::Vector -> Eigen::Matrix | $\\checkmark$\n",
    "Eigen::Matrix -> Eigen::Vector | $\\checkmark$\n",
    "Eigen::Matrix -> Eigen::Matrix | $\\checkmark$\n",
    "C数组 -> Eigen::Vector | $\\checkmark$\n",
    "C数组 -> Eigen::Matrix | $\\checkmark$\n",
    "Eigen::Vector -> C数组 | $\\times$\n",
    "Eigen::Matrix -> C数组 | $\\times$"
   ]
  },
  {
   "cell_type": "markdown",
   "id": "3b6a767b",
   "metadata": {},
   "source": [
    "## std::vector <-> Eigen\n",
    "### std::vector -> Eigen::Vector"
   ]
  },
  {
   "cell_type": "code",
   "execution_count": null,
   "id": "b21af986",
   "metadata": {},
   "outputs": [],
   "source": [
    "std::vector<int> vector_std = {1, 2, 3, 4, 5, 6, 7, 8, 9};"
   ]
  },
  {
   "cell_type": "code",
   "execution_count": null,
   "id": "ee17feec",
   "metadata": {
    "scrolled": true
   },
   "outputs": [],
   "source": [
    "// 从 vector_std 的第1个位置开始, 依次取(3个)元素填充到 Vector3i, 剩余的丢弃\n",
    "std::cout << \"new vector 1 = \" << Eigen::Map<Eigen::Vector3i>(vector_std.data()).transpose() << std::endl;"
   ]
  },
  {
   "cell_type": "code",
   "execution_count": null,
   "id": "0a27cb78",
   "metadata": {
    "scrolled": true
   },
   "outputs": [],
   "source": [
    "// 同上, Vector3i 已限定 Eigen 向量的元素数量, 再对其赋值已无效\n",
    "std::cout << \"new vector 2 = \" << Eigen::Map<Eigen::Vector3i>(vector_std.data(), 2).transpose() << std::endl;"
   ]
  },
  {
   "cell_type": "code",
   "execution_count": null,
   "id": "3ae61528",
   "metadata": {},
   "outputs": [],
   "source": [
    "// 从 vector_std 的第3个位置开始, 依次取(3个)元素填充到 Vector3i, 剩余的丢弃\n",
    "std::cout << \"new vector 3 = \" << Eigen::Map<Eigen::Vector3i>(vector_std.data() + 2).transpose() << std::endl;"
   ]
  },
  {
   "cell_type": "code",
   "execution_count": null,
   "id": "6bf9d4a7",
   "metadata": {},
   "outputs": [],
   "source": [
    "// 从 vector_std 的第1个位置开始, 取全部元素填充到 VectorXi\n",
    "auto vector_eigen = Eigen::Map<Eigen::VectorXi>(vector_std.data(),  // 从 vector_std 中取数的起始位置\n",
    "                                                 vector_std.size()); // 必须参数, 指定Eigen::VectorXi的元素数量\n",
    "std::cout << \"new vector 4 = \" << vector_eigen.transpose() << std::endl;"
   ]
  },
  {
   "cell_type": "code",
   "execution_count": null,
   "id": "5d9057bf",
   "metadata": {},
   "outputs": [],
   "source": [
    "// vector 4 的另一种写法\n",
    "Eigen::Map<Eigen::VectorXi> vector_eigen(vector_std.data(), vector_std.size());\n",
    "std::cout << \"new vector 4+ = \" << vector_eigen.transpose() << std::endl;"
   ]
  },
  {
   "cell_type": "code",
   "execution_count": null,
   "id": "295caa6d",
   "metadata": {},
   "outputs": [],
   "source": [
    "// 从 vector_std 的第1个位置开始, 取5个元素填充到 VectorXi\n",
    "std::cout << \"new vector 5 = \" << Eigen::Map<Eigen::VectorXi>(vector_std.data(), 5).transpose() << std::endl;"
   ]
  },
  {
   "cell_type": "code",
   "execution_count": null,
   "id": "7d9c7839",
   "metadata": {},
   "outputs": [],
   "source": [
    "// 从 vector_std 的第3个位置开始, 取4个元素填充到 VectorXi\n",
    "std::cout << \"new vector 6 = \" << Eigen::Map<Eigen::VectorXi>(vector_std.data() + 2, 4).transpose() << std::endl;"
   ]
  },
  {
   "cell_type": "markdown",
   "id": "1c2faaa8",
   "metadata": {},
   "source": [
    "- 引用"
   ]
  },
  {
   "cell_type": "code",
   "execution_count": null,
   "id": "e065a2f6",
   "metadata": {},
   "outputs": [],
   "source": [
    "vector_std[0] = -1;\n",
    "vector_std"
   ]
  },
  {
   "cell_type": "code",
   "execution_count": null,
   "id": "5571078f",
   "metadata": {},
   "outputs": [],
   "source": [
    "std::cout << \"new vector 4 = \" << vector_eigen.transpose() << std::endl;"
   ]
  },
  {
   "cell_type": "markdown",
   "id": "b7f551b8",
   "metadata": {},
   "source": [
    "### std::vector -> Eigen::Matrix"
   ]
  },
  {
   "cell_type": "code",
   "execution_count": null,
   "id": "a731851b",
   "metadata": {},
   "outputs": [],
   "source": [
    "std::vector<int> vector_std = {1, 2, 3, 4, 5, 6, 7, 8, 9};"
   ]
  },
  {
   "cell_type": "code",
   "execution_count": null,
   "id": "bd932964",
   "metadata": {},
   "outputs": [],
   "source": [
    "// 从 vector_std 的第1个位置开始, 依次取(9个)元素填充到 3*3 Matrix3i, 剩余丢弃\n",
    "std::cout << \"new matrix 1 (column-major) =\\n\" << Eigen::Map<Eigen::Matrix3i>(vector_std.data()) << std::endl;"
   ]
  },
  {
   "cell_type": "code",
   "execution_count": null,
   "id": "be24e111",
   "metadata": {},
   "outputs": [],
   "source": [
    "// 从 vector_std 的第5个元素开始, 依次取(4个)元素填充到 2*2 Matrix2i, 剩余丢弃\n",
    "std::cout << \"new matrix 2 (column-major) =\\n\" << Eigen::Map<Eigen::Matrix2i>(vector_std.data() + 4, 2, 2) << std::endl;"
   ]
  },
  {
   "cell_type": "markdown",
   "id": "6d60129f",
   "metadata": {},
   "source": [
    "**Notice**: matrix2 从 array 的第5个元素开始, 取4个元素(即\"5, 6, 7, 8\")生成 2$\\times$2 矩阵, 而不是根据右下角位置上的元素(\"5, 6, 8, 9\")生成 2$\\times$2 矩阵"
   ]
  },
  {
   "cell_type": "code",
   "execution_count": null,
   "id": "287619e6",
   "metadata": {},
   "outputs": [],
   "source": [
    "// 从 vector_std 的第1个位置开始, 依次取 3*3 个元素, 按列顺序填充到 MatrixXd\n",
    "std::cout << \"new matrix 3 (column-major) =\\n\" << Eigen::Map<Eigen::MatrixXi>(vector_std.data(), 3, 3) << std::endl;"
   ]
  },
  {
   "cell_type": "code",
   "execution_count": null,
   "id": "1c41c19d",
   "metadata": {},
   "outputs": [],
   "source": [
    "// 从 vector_std 的第4个位置开始, 依次取 3*2 个元素, 按列顺序填充到 MatrixXd\n",
    "std::cout << \"new matrix 4 (column-major) =\\n\" << Eigen::Map<Eigen::MatrixXi>(vector_std.data() + 3, 3, 2) << std::endl;"
   ]
  },
  {
   "cell_type": "code",
   "execution_count": null,
   "id": "b45285ef",
   "metadata": {},
   "outputs": [],
   "source": [
    "// 从 vector_std 的第4个位置开始, 依次取 3*2 个元素, 按行顺序填充到 MatrixXd\n",
    "std::cout << \"new matrix 5 (row-major) =\\n\" \n",
    "    << Eigen::Map<Eigen::Matrix<int, Eigen::Dynamic, Eigen::Dynamic, Eigen::RowMajor>>(vector_std.data() + 3, 3, 2) << std::endl;"
   ]
  },
  {
   "cell_type": "markdown",
   "id": "f6b94ebe",
   "metadata": {},
   "source": [
    "### Eigen::Matrix -> std::vector"
   ]
  },
  {
   "cell_type": "code",
   "execution_count": null,
   "id": "15be9059",
   "metadata": {},
   "outputs": [],
   "source": [
    "Eigen::Matrix<int, 3, 3, Eigen::RowMajor> matrix;\n",
    "matrix << 1, 2, 3, 4, 5, 6, 7, 8, 9;\n",
    "std::cout << \"size of matrix = \" << matrix.size() << std::endl;\n",
    "std::cout << \"matrix =\\n\" << matrix << std::endl;"
   ]
  },
  {
   "cell_type": "markdown",
   "id": "026d7eed",
   "metadata": {},
   "source": [
    "#### 不使用Eigen::Map"
   ]
  },
  {
   "cell_type": "code",
   "execution_count": null,
   "id": "0544f462",
   "metadata": {},
   "outputs": [],
   "source": [
    "// 按 matrix 声明的索引顺序(默认为列顺序), 从矩阵中取全部元素, 填充到 vector_std\n",
    "auto vector_std = std::vector<int>(matrix.data(), matrix.data() + matrix.size());\n",
    "vector_std"
   ]
  },
  {
   "cell_type": "code",
   "execution_count": null,
   "id": "abd0ca5b",
   "metadata": {},
   "outputs": [],
   "source": [
    "// 按 matrix 声明的索引顺序(默认为列顺序), 从矩阵中取第1到(包含)5个元素, 填充到 vector_std\n",
    "auto vector_std = std::vector<int>(matrix.data(), matrix.data() + 5); \n",
    "vector_std"
   ]
  },
  {
   "cell_type": "code",
   "execution_count": null,
   "id": "275aae9f",
   "metadata": {},
   "outputs": [],
   "source": [
    "// 按 matrix 声明的索引顺序(默认为列顺序), 从矩阵中取第3到(包含)5个元素, 填充到 vector_std\n",
    "auto vector_std = std::vector<int>(matrix.data() + 2, matrix.data() + 5);\n",
    "vector_std"
   ]
  },
  {
   "cell_type": "markdown",
   "id": "3c99d406",
   "metadata": {},
   "source": [
    "#### 使用Eigen::Map"
   ]
  },
  {
   "cell_type": "code",
   "execution_count": null,
   "id": "ed3b40ac",
   "metadata": {},
   "outputs": [],
   "source": [
    "std::vector<int> vector_std(matrix.size());\n",
    "// 按行顺序, 将 matrix 中的全部元素, 从 vector_std 的第1个位置开始填充\n",
    "Eigen::Map<Eigen::Matrix<int, 3, 3, Eigen::RowMajor>>(vector_std.data()) = matrix;\n",
    "vector_std"
   ]
  },
  {
   "cell_type": "code",
   "execution_count": null,
   "id": "d65e00b0",
   "metadata": {},
   "outputs": [],
   "source": [
    "std::vector<int> vector_std(matrix.size());\n",
    "// 同上\n",
    "Eigen::Matrix<int, 3, 3, Eigen::RowMajor>::Map(vector_std.data()) = matrix;\n",
    "vector_std"
   ]
  },
  {
   "cell_type": "code",
   "execution_count": null,
   "id": "f47d519c",
   "metadata": {},
   "outputs": [],
   "source": [
    "std::vector<int> vector_std(matrix.size());\n",
    "// 按列顺序, 将 matrix 中的全部元素, 从 vector_std 的第1个位置开始填充\n",
    "Eigen::Map<Eigen::Matrix<int, 3, 3, Eigen::ColMajor>>(vector_std.data()) = matrix;\n",
    "vector_std"
   ]
  },
  {
   "cell_type": "code",
   "execution_count": null,
   "id": "1af05bc9",
   "metadata": {},
   "outputs": [],
   "source": [
    "std::vector<int> vector_std(matrix.size());\n",
    "// 按行顺序, 将 matrix 中的全部元素, 从 vector_std 的第1个位置开始填充, 剩余的丢弃\n",
    "Eigen::Map<Eigen::Matrix<int, 3, 3, Eigen::RowMajor>>(vector_std.data() + 3) = matrix;\n",
    "vector_std"
   ]
  },
  {
   "cell_type": "markdown",
   "id": "10aa83f8",
   "metadata": {},
   "source": [
    "- 引用失效"
   ]
  },
  {
   "cell_type": "code",
   "execution_count": null,
   "id": "5f2fee25",
   "metadata": {},
   "outputs": [],
   "source": [
    "matrix(0, 0) = -2;\n",
    "vector_std"
   ]
  },
  {
   "cell_type": "markdown",
   "id": "7fb97b77",
   "metadata": {},
   "source": [
    "## Eigen -> Eigen\n",
    "相当于 reshape\n",
    "### Eigen::Vector -> Eigen::Matrix"
   ]
  },
  {
   "cell_type": "code",
   "execution_count": null,
   "id": "7256204f",
   "metadata": {},
   "outputs": [],
   "source": [
    "Eigen::VectorXi vector_eigen(9);\n",
    "for (int ii = 0; ii < 9; ii++) {\n",
    "    vector_eigen(ii) = ii + 1;\n",
    "}\n",
    "std::cout << \"vector_eigen = \" << vector_eigen.transpose() << std::endl;"
   ]
  },
  {
   "cell_type": "code",
   "execution_count": null,
   "id": "cad29520",
   "metadata": {},
   "outputs": [],
   "source": [
    "// 从 vector_eigen 的第1个位置开始, 依次取(9个)元素填充到 3*3 Matrix3i, 剩余丢弃\n",
    "std::cout << \"new matrix 1 (column-major) =\\n\" << Eigen::Map<Eigen::Matrix3i>(vector_eigen.data()) << std::endl;"
   ]
  },
  {
   "cell_type": "code",
   "execution_count": null,
   "id": "0b764b70",
   "metadata": {},
   "outputs": [],
   "source": [
    "// 从 vector_eigen 的第5个元素开始, 依次取(4个)元素填充到 2*2 Matrix2i, 剩余丢弃\n",
    "std::cout << \"new matrix 2 (column-major) =\\n\" << Eigen::Map<Eigen::Matrix2i>(vector_eigen.data() + 4, 2, 2) << std::endl;"
   ]
  },
  {
   "cell_type": "code",
   "execution_count": null,
   "id": "52883128",
   "metadata": {},
   "outputs": [],
   "source": [
    "// 从 vector_eigen 的第1个位置开始, 依次取 3*3 个元素, 按列顺序填充到 MatrixXd\n",
    "auto matrix = Eigen::Map<Eigen::MatrixXi>(vector_eigen.data(), 3, 3);\n",
    "std::cout << \"new matrix 3 (column-major) =\\n\" << matrix << std::endl;"
   ]
  },
  {
   "cell_type": "code",
   "execution_count": null,
   "id": "842483dd",
   "metadata": {},
   "outputs": [],
   "source": [
    "// 从 vector_eigen 的第4个位置开始, 依次取 3*2 个元素, 按列顺序填充到 MatrixXd\n",
    "std::cout << \"new matrix 4 (column-major) =\\n\" << Eigen::Map<Eigen::MatrixXi>(vector_eigen.data() + 3, 3, 2) << std::endl;"
   ]
  },
  {
   "cell_type": "code",
   "execution_count": null,
   "id": "615c3b9d",
   "metadata": {},
   "outputs": [],
   "source": [
    "// 从 vector_eigen 的第4个位置开始, 依次取 3*2 个元素, 按行顺序填充到 MatrixXd\n",
    "std::cout << \"new matrix 5 (row-major) =\\n\" \n",
    "    << Eigen::Map<Eigen::Matrix<int, Eigen::Dynamic, Eigen::Dynamic, Eigen::RowMajor>>(vector_eigen.data() + 3, 3, 2) << std::endl;"
   ]
  },
  {
   "cell_type": "markdown",
   "id": "c602e49d",
   "metadata": {},
   "source": [
    "- 引用"
   ]
  },
  {
   "cell_type": "code",
   "execution_count": null,
   "id": "826b9a9d",
   "metadata": {},
   "outputs": [],
   "source": [
    "vector_eigen(0) = -1;\n",
    "std::cout << \"vector_eigen = \" << vector_eigen.transpose() << std::endl;\n",
    "std::cout << \"new matrix 3 (column-major) =\\n\" << matrix << std::endl;"
   ]
  },
  {
   "cell_type": "markdown",
   "id": "3b796d9a",
   "metadata": {},
   "source": [
    "### Eigen::Matrix -> Eigen::Vector"
   ]
  },
  {
   "cell_type": "code",
   "execution_count": null,
   "id": "af2d8919",
   "metadata": {},
   "outputs": [],
   "source": [
    "Eigen::Matrix<int, 3, 3, Eigen::RowMajor> matrix;\n",
    "matrix << 1, 2, 3, 4, 5, 6, 7, 8, 9;\n",
    "std::cout << \"size of matrix = \" << matrix.size() << std::endl;\n",
    "std::cout << \"matrix =\\n\" << matrix << std::endl;"
   ]
  },
  {
   "cell_type": "code",
   "execution_count": null,
   "id": "f99d1238",
   "metadata": {},
   "outputs": [],
   "source": [
    "// 从 matrix 的第1个位置开始, 按行顺序依次取(3个)元素填充到 Vector3i, 剩余的丢弃\n",
    "std::cout << \"new vector 1 = \" << Eigen::Map<Eigen::Vector3i>(matrix.data()).transpose() << std::endl;"
   ]
  },
  {
   "cell_type": "code",
   "execution_count": null,
   "id": "86c83e30",
   "metadata": {},
   "outputs": [],
   "source": [
    "// 从 matrix 的第3个位置开始, 按行顺序依次取(3个)元素填充到 Vector3i, 剩余的丢弃\n",
    "std::cout << \"new vector 3 = \" << Eigen::Map<Eigen::Vector3i>(matrix.data() + 2).transpose() << std::endl;"
   ]
  },
  {
   "cell_type": "code",
   "execution_count": null,
   "id": "282317c7",
   "metadata": {},
   "outputs": [],
   "source": [
    "// 从 matrix 的第1个位置开始, 按行顺序取全部元素填充到 VectorXi\n",
    "auto vector_eigen = Eigen::Map<Eigen::VectorXi>(matrix.data(),  // 从 vector_std 中取数的起始位置\n",
    "                                                 matrix.size()); // 必须参数, 指定Eigen::VectorXi的元素数量\n",
    "std::cout << \"new vector 4 = \" << vector_eigen.transpose() << std::endl;"
   ]
  },
  {
   "cell_type": "code",
   "execution_count": null,
   "id": "0421f0c9",
   "metadata": {},
   "outputs": [],
   "source": [
    "// 从 matrix 的第1个位置开始, 按行顺序取5个元素填充到 VectorXi\n",
    "std::cout << \"new vector 5 = \" << Eigen::Map<Eigen::VectorXi>(matrix.data(), 5).transpose() << std::endl;"
   ]
  },
  {
   "cell_type": "code",
   "execution_count": null,
   "id": "147a98d5",
   "metadata": {},
   "outputs": [],
   "source": [
    "// 从 matrix 的第3个位置开始, 按行顺序取4个元素填充到 VectorXi\n",
    "std::cout << \"new vector 6 = \" << Eigen::Map<Eigen::VectorXi>(matrix.data() + 2, 4).transpose() << std::endl;"
   ]
  },
  {
   "cell_type": "markdown",
   "id": "98387ffa",
   "metadata": {},
   "source": [
    "- 引用"
   ]
  },
  {
   "cell_type": "code",
   "execution_count": null,
   "id": "a8ef4703",
   "metadata": {},
   "outputs": [],
   "source": [
    "matrix(0, 0) = -1;"
   ]
  },
  {
   "cell_type": "code",
   "execution_count": null,
   "id": "7f4a32a1",
   "metadata": {},
   "outputs": [],
   "source": [
    "std::cout << \"matrix =\\n\" << matrix << std::endl;\n",
    "std::cout << \"new vector 4 = \" << vector_eigen.transpose() << std::endl;"
   ]
  },
  {
   "cell_type": "markdown",
   "id": "b976cac4",
   "metadata": {},
   "source": [
    "### Eigen::Matrix -> Eigen::Matrix"
   ]
  },
  {
   "cell_type": "code",
   "execution_count": null,
   "id": "f3c78a9b",
   "metadata": {},
   "outputs": [],
   "source": [
    "Eigen::Matrix<int, 2, 3, Eigen::RowMajor> matrix;\n",
    "matrix << 1, 2, 3, 4, 5, 6;\n",
    "std::cout << \"matrix =\\n\" << matrix << std::endl;"
   ]
  },
  {
   "cell_type": "code",
   "execution_count": null,
   "id": "00e4be2e",
   "metadata": {},
   "outputs": [],
   "source": [
    "auto matrix_new = Eigen::Map<Eigen::MatrixXi>(matrix.data(), 3, 2);\n",
    "std::cout << \"new matrix =\\n\" << matrix_new << std::endl;"
   ]
  },
  {
   "cell_type": "markdown",
   "id": "ea939a77",
   "metadata": {},
   "source": [
    "- 引用"
   ]
  },
  {
   "cell_type": "code",
   "execution_count": null,
   "id": "2e41c1d7",
   "metadata": {},
   "outputs": [],
   "source": [
    "matrix(0, 0) = -1;"
   ]
  },
  {
   "cell_type": "code",
   "execution_count": null,
   "id": "7169d5a4",
   "metadata": {},
   "outputs": [],
   "source": [
    "std::cout << \"matrix =\\n\" << matrix << std::endl;\n",
    "std::cout << \"new matrix =\\n\" << matrix_new << std::endl;"
   ]
  },
  {
   "cell_type": "markdown",
   "id": "ddae0437",
   "metadata": {},
   "source": [
    "## C数组 <-> Eigen\n",
    "### C数组 -> Eigen::Vector"
   ]
  },
  {
   "cell_type": "code",
   "execution_count": null,
   "id": "6cd03a42",
   "metadata": {},
   "outputs": [],
   "source": [
    "int array[9] = {1, 2, 3, 4, 5, 6, 7, 8, 9};\n",
    "std::cout << \"size of array = \" << sizeof(array) << std::endl;\n",
    "std::cout << \"size of double = \" << sizeof(int) << std::endl;\n",
    "int num_array = sizeof(array) / sizeof(int);\n",
    "std::cout << \"num of array = \" << num_array << std::endl;"
   ]
  },
  {
   "cell_type": "code",
   "execution_count": null,
   "id": "dd62836f",
   "metadata": {},
   "outputs": [],
   "source": [
    "// 从 array 的第1个位置开始, 依次取(3个)元素填充到 Vector3i, 剩余的丢弃\n",
    "std::cout << \"new vector 1 = \" << Eigen::Map<Eigen::Vector3i>(&array[0]).transpose() << std::endl;"
   ]
  },
  {
   "cell_type": "code",
   "execution_count": null,
   "id": "e086c449",
   "metadata": {},
   "outputs": [],
   "source": [
    "// 从 array 的第3个位置开始, 依次取(3个)元素填充到 Vector3i, 剩余的丢弃\n",
    "std::cout << \"new vector 2 = \" << Eigen::Map<Eigen::Vector3i>(&array[2]).transpose() << std::endl;"
   ]
  },
  {
   "cell_type": "code",
   "execution_count": null,
   "id": "f38bf1ba",
   "metadata": {},
   "outputs": [],
   "source": [
    "// 从 array 的第1个位置开始, 取全部元素填充到 VectorXi\n",
    "auto vector_eigen = Eigen::Map<Eigen::VectorXi>(&array[0], num_array);\n",
    "std::cout << \"new vector 3 = \" << vector_eigen.transpose() << std::endl;"
   ]
  },
  {
   "cell_type": "code",
   "execution_count": null,
   "id": "aa3c83c1",
   "metadata": {},
   "outputs": [],
   "source": [
    "// 从 array 的第1个位置开始, 取5个元素填充到 VectorXi\n",
    "std::cout << \"new vector 4 = \" << Eigen::Map<Eigen::VectorXi>(&array[0], 5).transpose() << std::endl;"
   ]
  },
  {
   "cell_type": "code",
   "execution_count": null,
   "id": "8ee18e0a",
   "metadata": {},
   "outputs": [],
   "source": [
    "// 从 array 的第3个位置开始, 取4个元素填充到 VectorXi\n",
    "std::cout << \"new vector 5 = \" << Eigen::Map<Eigen::VectorXi>(&array[2], 4).transpose() << std::endl;"
   ]
  },
  {
   "cell_type": "markdown",
   "id": "94cfc6ac",
   "metadata": {},
   "source": [
    "- 引用"
   ]
  },
  {
   "cell_type": "code",
   "execution_count": null,
   "id": "76e5832e",
   "metadata": {},
   "outputs": [],
   "source": [
    "array[0] = -1;\n",
    "array"
   ]
  },
  {
   "cell_type": "code",
   "execution_count": null,
   "id": "28f0de17",
   "metadata": {},
   "outputs": [],
   "source": [
    "std::cout << \"new vector 3 = \" << vector_eigen.transpose() << std::endl;"
   ]
  },
  {
   "cell_type": "markdown",
   "id": "182788ef",
   "metadata": {},
   "source": [
    "### C数组 -> Eigen::Matrix\n",
    "- 一维"
   ]
  },
  {
   "cell_type": "code",
   "execution_count": null,
   "id": "b68062f9",
   "metadata": {},
   "outputs": [],
   "source": [
    "int array[9] = {1, 2, 3, 4, 5, 6, 7, 8, 9};"
   ]
  },
  {
   "cell_type": "code",
   "execution_count": null,
   "id": "8c6e546f",
   "metadata": {},
   "outputs": [],
   "source": [
    "// 从 array 的第1个位置开始, 依次取(9个)元素填充到 3*3 Matrix3i, 剩余丢弃\n",
    "std::cout << \"new matrix 1 (column-major) =\\n\" << Eigen::Map<Eigen::Matrix3i>(&array[0]) << std::endl;"
   ]
  },
  {
   "cell_type": "code",
   "execution_count": null,
   "id": "f5d1aa9e",
   "metadata": {},
   "outputs": [],
   "source": [
    "// 从 array 的第5个位置开始, 依次取(4个)元素填充到 2*2 Matrix2i, 剩余丢弃\n",
    "std::cout << \"new matrix 2 (column-major) =\\n\" << Eigen::Map<Eigen::Matrix2i>(&array[4]) << std::endl;"
   ]
  },
  {
   "cell_type": "code",
   "execution_count": null,
   "id": "efb34f54",
   "metadata": {},
   "outputs": [],
   "source": [
    "// 从 array 的第4个位置开始, 依次取 3*3 个元素, 按列顺序填充到 MatrixXd\n",
    "auto matrix = Eigen::Map<Eigen::MatrixXi>(&array[0], 3, 3);\n",
    "std::cout << \"new matrix 3 (column-major) =\\n\" << matrix << std::endl;"
   ]
  },
  {
   "cell_type": "code",
   "execution_count": null,
   "id": "3c29393f",
   "metadata": {},
   "outputs": [],
   "source": [
    "// 从 array 的第4个位置开始, 依次取 3*2 个元素, 按列顺序填充到 MatrixXd\n",
    "std::cout << \"new matrix 4 (column-major) =\\n\" << Eigen::Map<Eigen::MatrixXi>(&array[3], 3, 2) << std::endl;"
   ]
  },
  {
   "cell_type": "code",
   "execution_count": null,
   "id": "0fc2cdeb",
   "metadata": {},
   "outputs": [],
   "source": [
    "// 从 array 的第4个位置开始, 依次取 3*2 个元素, 按行顺序填充到 MatrixXd\n",
    "std::cout << \"new matrix 5 (row-major) =\\n\" \n",
    "    << Eigen::Map<Eigen::Matrix<int, Eigen::Dynamic, Eigen::Dynamic, Eigen::RowMajor>>(&array[3], 3, 2) << std::endl;"
   ]
  },
  {
   "cell_type": "markdown",
   "id": "c3ba514f",
   "metadata": {},
   "source": [
    "- 引用"
   ]
  },
  {
   "cell_type": "code",
   "execution_count": null,
   "id": "2c05b8c3",
   "metadata": {},
   "outputs": [],
   "source": [
    "array[0] = -1;\n",
    "array"
   ]
  },
  {
   "cell_type": "code",
   "execution_count": null,
   "id": "e56298a4",
   "metadata": {},
   "outputs": [],
   "source": [
    "std::cout << \"new matrix 3 (column-major) =\\n\" << matrix << std::endl;"
   ]
  },
  {
   "cell_type": "markdown",
   "id": "2ccad0d6",
   "metadata": {},
   "source": [
    "- 二维"
   ]
  },
  {
   "cell_type": "code",
   "execution_count": null,
   "id": "133a596f",
   "metadata": {
    "scrolled": true
   },
   "outputs": [],
   "source": [
    "int array[3][3] = {{1, 2, 3}, {4, 5, 6}, {7, 8, 9}};"
   ]
  },
  {
   "cell_type": "code",
   "execution_count": null,
   "id": "cb0a5ada",
   "metadata": {},
   "outputs": [],
   "source": [
    "// 从 array 的第[0, 0]个位置开始, 依次取(9个)元素填充到 Vector3d, 剩余的丢弃\n",
    "std::cout << \"new matrix 1 (column-major) =\\n\" << Eigen::Map<Eigen::Matrix3i>(&array[0][0]) << std::endl;"
   ]
  },
  {
   "cell_type": "code",
   "execution_count": null,
   "id": "e3ff5dca",
   "metadata": {},
   "outputs": [],
   "source": [
    "// 从 array 的第[1, 1]个位置开始, 依次取(4个)元素填充到 Vector3d, 剩余的丢弃\n",
    "std::cout << \"new matrix 2 (column-major) =\\n\" << Eigen::Map<Eigen::Matrix2i>(&array[1][1]) << std::endl;"
   ]
  },
  {
   "cell_type": "code",
   "execution_count": null,
   "id": "281ec466",
   "metadata": {},
   "outputs": [],
   "source": [
    "// 从 array 的第[0, 0]个位置开始, 依次取 3*3 个元素填充到 MatrixXd\n",
    "auto matrix = Eigen::Map<Eigen::MatrixXi>(&array[0][0], 3, 3);\n",
    "std::cout << \"new matrix 3 (column-major) =\\n\" << matrix << std::endl;"
   ]
  },
  {
   "cell_type": "code",
   "execution_count": null,
   "id": "82329de5",
   "metadata": {},
   "outputs": [],
   "source": [
    "// 从 array 的第[1, 0]个位置开始, 依次取 3*2 个元素, 按列顺序填充到 MatrixXd\n",
    "std::cout << \"new matrix 4 (column-major) =\\n\" << Eigen::Map<Eigen::MatrixXi>(&array[1][0], 3, 2) << std::endl;"
   ]
  },
  {
   "cell_type": "code",
   "execution_count": null,
   "id": "600e3a6a",
   "metadata": {},
   "outputs": [],
   "source": [
    "// 从 array 的第[1, 0]个位置开始, 依次取 3*2 个元素, 按行顺序填充到 MatrixXd\n",
    "std::cout << \"new matrix 5 (row-major) =\\n\" \n",
    "    << Eigen::Map<Eigen::Matrix<int, Eigen::Dynamic, Eigen::Dynamic, Eigen::RowMajor>>(&array[1][0], 3, 2) << std::endl;"
   ]
  },
  {
   "cell_type": "markdown",
   "id": "a6e2ebf3",
   "metadata": {},
   "source": [
    "- 引用"
   ]
  },
  {
   "cell_type": "code",
   "execution_count": null,
   "id": "618d6883",
   "metadata": {},
   "outputs": [],
   "source": [
    "array[0][0] = -1;\n",
    "array"
   ]
  },
  {
   "cell_type": "code",
   "execution_count": null,
   "id": "1c666dca",
   "metadata": {},
   "outputs": [],
   "source": [
    "std::cout << \"new matrix 3 (column-major) =\\n\" << matrix << std::endl;"
   ]
  },
  {
   "cell_type": "markdown",
   "id": "1b291106",
   "metadata": {},
   "source": [
    "### Eigen::Vector -> C数组"
   ]
  },
  {
   "cell_type": "code",
   "execution_count": null,
   "id": "ad5069db",
   "metadata": {},
   "outputs": [],
   "source": [
    "Eigen::VectorXi vector_eigen(9);\n",
    "for (int ii = 0; ii < 9; ii++) {\n",
    "    vector_eigen(ii) = ii + 1;\n",
    "}\n",
    "std::cout << \"vector_eigen = \" << vector_eigen.transpose() << std::endl;"
   ]
  },
  {
   "cell_type": "code",
   "execution_count": null,
   "id": "636151a5",
   "metadata": {},
   "outputs": [],
   "source": [
    "int array[9];\n",
    "// 将 vector_eigen 的全部元素, 从 array 的第1个位置开始填充, 只保留3个, 剩余的丢弃\n",
    "Eigen::Map<Eigen::Vector3i>(&array[0], vector_eigen.size()) = vector_eigen;\n",
    "array"
   ]
  },
  {
   "cell_type": "code",
   "execution_count": null,
   "id": "05e6e80f",
   "metadata": {},
   "outputs": [],
   "source": [
    "int array[9];\n",
    "// 将 vector_eigen 的全部元素, 从 array 的第4个位置开始填充, 只保留3个, 剩余的丢弃\n",
    "Eigen::Map<Eigen::Vector3i>(&array[3], vector_eigen.size()) = vector_eigen;\n",
    "array"
   ]
  },
  {
   "cell_type": "code",
   "execution_count": null,
   "id": "6c60a6a6",
   "metadata": {},
   "outputs": [],
   "source": [
    "int array[9];\n",
    "// 将 vector_eigen 的全部元素, 从 array 的第1个位置开始填充\n",
    "Eigen::Map<Eigen::VectorXi>(&array[0], vector_eigen.size()) = vector_eigen;\n",
    "array"
   ]
  },
  {
   "cell_type": "code",
   "execution_count": null,
   "id": "0b08c439",
   "metadata": {},
   "outputs": [],
   "source": [
    "int array[9];\n",
    "// 将 vector_eigen 的前3个元素, 从 array 的第1个位置开始填充\n",
    "Eigen::Map<Eigen::VectorXi>(&array[0], 3) = vector_eigen;\n",
    "array"
   ]
  },
  {
   "cell_type": "code",
   "execution_count": null,
   "id": "8a2cdd22",
   "metadata": {},
   "outputs": [],
   "source": [
    "int array[9];\n",
    "// 将 vector_eigen 的前8个元素, 从 array 的第4个位置开始填充, 多余的丢弃\n",
    "Eigen::Map<Eigen::VectorXi>(&array[3], 8) = vector_eigen;\n",
    "array"
   ]
  },
  {
   "cell_type": "markdown",
   "id": "2ad95cb6",
   "metadata": {},
   "source": [
    "- 引用失效"
   ]
  },
  {
   "cell_type": "code",
   "execution_count": null,
   "id": "06d32626",
   "metadata": {},
   "outputs": [],
   "source": [
    "vector_eigen(0) = -1;\n",
    "array"
   ]
  },
  {
   "cell_type": "markdown",
   "id": "87794fd0",
   "metadata": {},
   "source": [
    "### Eigen::Matrix -> C数组"
   ]
  },
  {
   "cell_type": "code",
   "execution_count": null,
   "id": "c3c7da9c",
   "metadata": {},
   "outputs": [],
   "source": [
    "Eigen::Matrix3i matrix;\n",
    "matrix << 1, 2, 3, 4, 5, 6, 7, 8, 9;\n",
    "std::cout << matrix << std::endl;"
   ]
  },
  {
   "cell_type": "code",
   "execution_count": null,
   "id": "9b6caff9",
   "metadata": {},
   "outputs": [],
   "source": [
    "int array[3][3];\n",
    "// 将 matrix 中的全部元素, 从 array 的[0, 0]位置开始, 按行填充\n",
    "Eigen::Map<Eigen::Matrix<int, 3, 3, Eigen::RowMajor>>(&array[0][0], matrix.rows(), matrix.cols()) = matrix;\n",
    "array"
   ]
  },
  {
   "cell_type": "code",
   "execution_count": null,
   "id": "ff03e65a",
   "metadata": {},
   "outputs": [],
   "source": [
    "int array[3][3];\n",
    "// 将 matrix 中的前3行前2列6个元素, 从 array 的[0, 0]位置开始, 按行填充\n",
    "Eigen::Map<Eigen::Matrix<int, Eigen::Dynamic, Eigen::Dynamic, Eigen::RowMajor>>(&array[0][0], 3, 2) = matrix;\n",
    "array"
   ]
  },
  {
   "cell_type": "markdown",
   "id": "3ceec068",
   "metadata": {},
   "source": [
    "$\\left[ \\begin{array}{cc|c} 1 & 2 & 3 \\\\ 4 & 5 & 6 \\\\ 7 & 8 & 9 \\end{array} \\right] \\longrightarrow\n",
    "\\left[ \\begin{matrix} 1 & 2 & 4 \\\\ 5 & 7 & 8 \\\\ 0 & 0 & 0 \\end{matrix} \\right] $"
   ]
  },
  {
   "cell_type": "code",
   "execution_count": null,
   "id": "39ed5d10",
   "metadata": {},
   "outputs": [],
   "source": [
    "int array[3][3];\n",
    "// 将 matrix 中的前3行前2列元素, 从 array 的[0, 1]位置开始, 按行填充\n",
    "Eigen::Map<Eigen::Matrix<int, Eigen::Dynamic, Eigen::Dynamic, Eigen::RowMajor>>(&array[0][1], 3, 2) = matrix;\n",
    "array"
   ]
  },
  {
   "cell_type": "markdown",
   "id": "02939241",
   "metadata": {},
   "source": [
    "$\\left[ \\begin{array}{cc|c} 1 & 2 & 3 \\\\ 4 & 5 & 6 \\\\ 7 & 8 & 9 \\end{array} \\right] \\longrightarrow\n",
    "\\left[ \\begin{matrix} 0 & 1 & 2 \\\\ 4 & 5 & 7 \\\\ 8 & 0 & 0 \\end{matrix} \\right] $"
   ]
  },
  {
   "cell_type": "markdown",
   "id": "751952f6",
   "metadata": {},
   "source": [
    "- 引用失效"
   ]
  },
  {
   "cell_type": "code",
   "execution_count": null,
   "id": "8c6a3caf",
   "metadata": {},
   "outputs": [],
   "source": [
    "matrix(0, 0) = -1;\n",
    "array"
   ]
  },
  {
   "cell_type": "markdown",
   "id": "ce2e80bd",
   "metadata": {},
   "source": [
    "# 稀疏矩阵"
   ]
  },
  {
   "cell_type": "markdown",
   "id": "067d9a13",
   "metadata": {},
   "source": [
    "数值计算库Eigen：稀疏矩阵运算(https://zhuanlan.zhihu.com/p/536504224)"
   ]
  },
  {
   "cell_type": "code",
   "execution_count": null,
   "id": "e4d2811c",
   "metadata": {},
   "outputs": [],
   "source": [
    "#include <iostream>\n",
    "#pragma cling add_include_path(\"/usr/include/eigen3\")\n",
    "// #include<Eigen/Core>     // Eigen 核心部分\n",
    "// #include<Eigen/Dense>    // 稠密矩阵的代数运算（逆，特征值等）\n",
    "#include <Eigen/SparseCore>\n",
    "#include\"time.h\""
   ]
  },
  {
   "cell_type": "markdown",
   "id": "8cb388ac",
   "metadata": {},
   "source": [
    "## 生成"
   ]
  },
  {
   "cell_type": "code",
   "execution_count": null,
   "id": "6e1c7df2",
   "metadata": {},
   "outputs": [],
   "source": [
    "Eigen::SparseMatrix<double> matrix_sparse1(3,3);\n",
    "matrix_sparse1.diagonal() << 2, 2, 2;\n",
    "std::cout << matrix_sparse1 << std::endl;"
   ]
  },
  {
   "cell_type": "code",
   "execution_count": null,
   "id": "befaac51",
   "metadata": {},
   "outputs": [],
   "source": [
    "typedef Eigen::Triplet<double> T;\n",
    "std::vector<T> tripletList;\n",
    "for (int ii = 0; ii < 3; ii++) {\n",
    "  tripletList.push_back(T(ii, ii, 2));\n",
    "}\n",
    "Eigen::SparseMatrix<double> matrix_sparse2(3,3);\n",
    "matrix_sparse2.setFromTriplets(tripletList.begin(), tripletList.end());\n",
    "std::cout << matrix_sparse2 << std::endl;"
   ]
  },
  {
   "cell_type": "code",
   "execution_count": null,
   "id": "c2e26807",
   "metadata": {},
   "outputs": [],
   "source": [
    "Eigen::SparseMatrix<double> matrix_sparse3(3,3);\n",
    "for (int ii = 0; ii < 3; ii++) {\n",
    "    matrix_sparse3.coeffRef(ii, ii) = 2;\n",
    "}\n",
    "std::cout << matrix_sparse3 << std::endl;"
   ]
  },
  {
   "cell_type": "code",
   "execution_count": null,
   "id": "ebc4043b",
   "metadata": {},
   "outputs": [],
   "source": [
    "std::cout << \"两个稀疏矩阵是否相等? \" << matrix_sparse1.isApprox(matrix_sparse2) << std::endl;"
   ]
  },
  {
   "cell_type": "code",
   "execution_count": null,
   "id": "99ae298e",
   "metadata": {},
   "outputs": [],
   "source": [
    "std::cout << \"两个稀疏矩阵是否相等? \" << matrix_sparse1.isApprox(matrix_sparse3) << std::endl;"
   ]
  },
  {
   "cell_type": "markdown",
   "id": "38946f4b",
   "metadata": {},
   "source": [
    "- 效率测试"
   ]
  },
  {
   "cell_type": "code",
   "execution_count": null,
   "id": "778566a7",
   "metadata": {},
   "outputs": [],
   "source": [
    "int num_loop = 50000;\n",
    "int matrix_size = 1000;\n",
    "int num_insert = 50;"
   ]
  },
  {
   "cell_type": "code",
   "execution_count": null,
   "id": "c0558ca1",
   "metadata": {},
   "outputs": [],
   "source": [
    "clock_t start_timestamp = clock();\n",
    "\n",
    "for (int jj = 0; jj < num_loop; jj++) {\n",
    "    Eigen::SparseMatrix<double> matrix_sparse(matrix_size, matrix_size);\n",
    "    for (int ii = matrix_size - num_insert; ii < matrix_size; ii++) {\n",
    "        matrix_sparse.insert(ii, ii) = 2;\n",
    "    }\n",
    "}\n",
    "\n",
    "clock_t end_timestamp = clock();\n",
    "std::cout << \"run time is: \" <<(double)(end_timestamp - start_timestamp)  << \" ms\" << std::endl;\n",
    "std::cout << \"run time is: \" <<(double)(end_timestamp - start_timestamp) / CLOCKS_PER_SEC << \" s\" << std::endl;"
   ]
  },
  {
   "cell_type": "code",
   "execution_count": null,
   "id": "08018e0c",
   "metadata": {},
   "outputs": [],
   "source": [
    "clock_t start_timestamp = clock();\n",
    "\n",
    "for (int jj = 0; jj < num_loop; jj++) {\n",
    "    Eigen::SparseMatrix<double> matrix_sparse(matrix_size, matrix_size);\n",
    "    for (int ii = matrix_size - num_insert; ii < matrix_size; ii++) {\n",
    "        matrix_sparse.coeffRef(ii, ii) = 2;\n",
    "    }\n",
    "}\n",
    "\n",
    "clock_t end_timestamp = clock();\n",
    "std::cout << \"run time is: \" <<(double)(end_timestamp - start_timestamp)  << \" ms\" << std::endl;\n",
    "std::cout << \"run time is: \" <<(double)(end_timestamp - start_timestamp) / CLOCKS_PER_SEC << \" s\" << std::endl;"
   ]
  },
  {
   "cell_type": "code",
   "execution_count": null,
   "id": "e718b066",
   "metadata": {},
   "outputs": [],
   "source": [
    "clock_t start_timestamp = clock();\n",
    "\n",
    "for (int jj = 0; jj < num_loop; jj++) {\n",
    "    Eigen::SparseMatrix<double> matrix_sparse(matrix_size, matrix_size);\n",
    "    matrix_sparse.diagonal().tail(num_insert) << 2, 2, 2, 2, 2, 2, 2, 2, 2, 2, 2, 2, 2, 2, 2, 2, 2, 2, 2, 2, 2, 2, 2, 2, 2, 2, 2, 2, 2, 2, 2, 2, 2, 2, 2, 2, 2, 2, 2, 2, 2, 2, 2, 2, 2, 2, 2, 2, 2, 2;\n",
    "}\n",
    "\n",
    "clock_t end_timestamp = clock();\n",
    "std::cout << \"run time is: \" <<(double)(end_timestamp - start_timestamp)  << \" ms\" << std::endl;\n",
    "std::cout << \"run time is: \" <<(double)(end_timestamp - start_timestamp) / CLOCKS_PER_SEC << \" s\" << std::endl;"
   ]
  },
  {
   "cell_type": "code",
   "execution_count": null,
   "id": "7e144021",
   "metadata": {},
   "outputs": [],
   "source": [
    "typedef Eigen::Triplet<double> T;\n",
    "\n",
    "clock_t start_timestamp = clock();\n",
    "\n",
    "for (int jj = 0; jj < num_loop; jj++) {\n",
    "    std::vector<T> tripletList;\n",
    "    for (int ii = matrix_size - num_insert; ii < matrix_size; ii++) {\n",
    "      tripletList.push_back(T(ii, ii, 2));\n",
    "    }\n",
    "    Eigen::SparseMatrix<double> matrix_sparse(matrix_size, matrix_size);\n",
    "    matrix_sparse.setFromTriplets(tripletList.begin(), tripletList.end());\n",
    "}\n",
    "\n",
    "clock_t end_timestamp = clock();\n",
    "std::cout << \"run time is: \" <<(double)(end_timestamp - start_timestamp)  << \" ms\" << std::endl;\n",
    "std::cout << \"run time is: \" <<(double)(end_timestamp - start_timestamp) / CLOCKS_PER_SEC << \" s\" << std::endl;"
   ]
  },
  {
   "cell_type": "markdown",
   "id": "2ab49a9c",
   "metadata": {},
   "source": [
    "## Dense <-> Sparse\n",
    "### Dense -> Sparse"
   ]
  },
  {
   "cell_type": "code",
   "execution_count": null,
   "id": "ccc93cef",
   "metadata": {},
   "outputs": [],
   "source": [
    "auto vector = Eigen::VectorXd::Ones(3);\n",
    "Eigen::MatrixXd matrix_dense1 = vector.asDiagonal();\n",
    "std::cout << matrix_dense1 << std::endl;"
   ]
  },
  {
   "cell_type": "code",
   "execution_count": null,
   "id": "9d7411be",
   "metadata": {},
   "outputs": [],
   "source": [
    "Eigen::SparseMatrix<double> matrix_sparse = matrix_dense1.sparseView();"
   ]
  },
  {
   "cell_type": "code",
   "execution_count": null,
   "id": "03d84d5d",
   "metadata": {},
   "outputs": [],
   "source": [
    "std::cout << matrix_sparse << std::endl;"
   ]
  },
  {
   "cell_type": "markdown",
   "id": "c9b1a651",
   "metadata": {},
   "source": [
    "### Sparse -> Dense"
   ]
  },
  {
   "cell_type": "code",
   "execution_count": null,
   "id": "96e2f683",
   "metadata": {},
   "outputs": [],
   "source": [
    "Eigen::MatrixXd matrix_dense2 = Eigen::MatrixXd(matrix_sparse);\n",
    "std::cout << matrix_dense2 << std::endl;"
   ]
  },
  {
   "cell_type": "code",
   "execution_count": null,
   "id": "ae7f3e70",
   "metadata": {},
   "outputs": [],
   "source": [
    "std::cout << \"两个稠密矩阵是否相等? \" << matrix_dense1.isApprox(matrix_dense2) << std::endl;"
   ]
  },
  {
   "cell_type": "markdown",
   "id": "060881ae",
   "metadata": {},
   "source": [
    "## 遍历"
   ]
  },
  {
   "cell_type": "code",
   "execution_count": null,
   "id": "d1040c43",
   "metadata": {},
   "outputs": [],
   "source": [
    "for (int k=0; k<matrix_sparse.outerSize(); ++k){\n",
    "    for (Eigen::SparseMatrix<double>::InnerIterator it(matrix_sparse,k); it; ++it) {\n",
    "        std::cout << \"value = \" << it.value() \n",
    "            << \", row = \" << it.row() \n",
    "            << \", col = \" << it.col() \n",
    "            << \", index = \" <<it.index() << std::endl;\n",
    "    }\n",
    "}"
   ]
  },
  {
   "cell_type": "code",
   "execution_count": null,
   "id": "fc454387",
   "metadata": {},
   "outputs": [],
   "source": [
    "std::cout << matrix_sparse.coeffRef(0, 1) << std::endl;"
   ]
  },
  {
   "cell_type": "code",
   "execution_count": null,
   "id": "de4d05fc",
   "metadata": {},
   "outputs": [],
   "source": [
    "for (int k=0; k<matrix_sparse.outerSize(); ++k){\n",
    "    for (Eigen::SparseMatrix<double>::InnerIterator it(matrix_sparse,k); it; ++it) {\n",
    "        std::cout << \"value = \" << it.value() \n",
    "            << \", row = \" << it.row() \n",
    "            << \", col = \" << it.col() \n",
    "            << \", index = \" <<it.index() << std::endl;\n",
    "    }\n",
    "}"
   ]
  },
  {
   "cell_type": "code",
   "execution_count": null,
   "id": "a4d6c3e4",
   "metadata": {},
   "outputs": [],
   "source": []
  },
  {
   "cell_type": "code",
   "execution_count": null,
   "id": "155cfa9d",
   "metadata": {},
   "outputs": [],
   "source": []
  },
  {
   "cell_type": "code",
   "execution_count": null,
   "id": "0faddfb7",
   "metadata": {},
   "outputs": [],
   "source": []
  },
  {
   "cell_type": "code",
   "execution_count": null,
   "id": "e464087f",
   "metadata": {},
   "outputs": [],
   "source": []
  },
  {
   "cell_type": "code",
   "execution_count": null,
   "id": "257a5f20",
   "metadata": {},
   "outputs": [],
   "source": []
  },
  {
   "cell_type": "code",
   "execution_count": null,
   "id": "9ac2d444",
   "metadata": {},
   "outputs": [],
   "source": []
  },
  {
   "cell_type": "code",
   "execution_count": null,
   "id": "fae24779",
   "metadata": {},
   "outputs": [],
   "source": []
  },
  {
   "cell_type": "code",
   "execution_count": null,
   "id": "7b2ccd81",
   "metadata": {},
   "outputs": [],
   "source": []
  },
  {
   "cell_type": "code",
   "execution_count": null,
   "id": "84aaa77e",
   "metadata": {},
   "outputs": [],
   "source": []
  },
  {
   "cell_type": "markdown",
   "id": "87f265fe",
   "metadata": {},
   "source": [
    "# tuple"
   ]
  },
  {
   "cell_type": "markdown",
   "id": "7b849d37",
   "metadata": {},
   "source": [
    "todo: https://www.geeksforgeeks.org/map-of-tuples-in-c-with-examples/"
   ]
  },
  {
   "cell_type": "code",
   "execution_count": null,
   "id": "5ec7dcb2",
   "metadata": {},
   "outputs": [],
   "source": [
    "// std::tuple<double, double, double> t1 = std::make_tuple(1, 1, 2);\n",
    "// std::cout << std::get<0>(t1) << std::endl;\n",
    "// std::cout << std::get<1>(t1) << std::endl;\n",
    "// std::cout << std::get<2>(t1) << std::endl;"
   ]
  },
  {
   "cell_type": "code",
   "execution_count": null,
   "id": "8a0659b6",
   "metadata": {},
   "outputs": [],
   "source": [
    "// for (auto [i, j, v_ij] : data) { // c++ 17 的用法\n",
    "//     std::cout << i << \", \" << j << \", \" << v_ij;\n",
    "// }"
   ]
  }
 ],
 "metadata": {
  "kernelspec": {
   "display_name": "C++14",
   "language": "C++14",
   "name": "xcpp14"
  },
  "language_info": {
   "codemirror_mode": "text/x-c++src",
   "file_extension": ".cpp",
   "mimetype": "text/x-c++src",
   "name": "c++",
   "version": "14"
  },
  "toc": {
   "base_numbering": 1,
   "nav_menu": {},
   "number_sections": true,
   "sideBar": true,
   "skip_h1_title": false,
   "title_cell": "Table of Contents",
   "title_sidebar": "Contents",
   "toc_cell": false,
   "toc_position": {
    "height": "calc(100% - 180px)",
    "left": "10px",
    "top": "150px",
    "width": "281.275px"
   },
   "toc_section_display": true,
   "toc_window_display": true
  }
 },
 "nbformat": 4,
 "nbformat_minor": 5
}
