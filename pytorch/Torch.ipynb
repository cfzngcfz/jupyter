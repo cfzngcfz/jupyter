{
 "cells": [
  {
   "cell_type": "markdown",
   "id": "bf04e45c",
   "metadata": {},
   "source": [
    "refer to: https://pytorch.org/docs/stable/torch.html  \n",
    "《动手学深度学习》 http://tangshusen.me/Dive-into-DL-PyTorch/#/  "
   ]
  },
  {
   "cell_type": "code",
   "execution_count": 2,
   "id": "afea00e7",
   "metadata": {},
   "outputs": [],
   "source": [
    "import torch\n",
    "import numpy"
   ]
  },
  {
   "cell_type": "markdown",
   "id": "54b3af41",
   "metadata": {},
   "source": [
    "# list, numpy, tensor相互转化"
   ]
  },
  {
   "cell_type": "code",
   "execution_count": null,
   "id": "60c6e76b",
   "metadata": {},
   "outputs": [],
   "source": [
    "\"\"\"\n",
    "                             tensor\n",
    "                         ↗          ↘↖\n",
    "torch.as_tensor(list1) ↗              ↘↖torch.as_tensor(arr1)\n",
    "torch.Tensor(list1)  ↗                  ↘↖torch.from_numpy(arr1)\n",
    "torch.tensor(list1)↗       tensor1.numpy()↘↖torch.Tensor(arr1) \n",
    "                 ↗                          ↘↖torch.tensor(arr1)\n",
    "               ↗       array1.tolist()        ↘↖\n",
    "            list      <-----------------        numpy\n",
    "                      ----------------->\n",
    "                      numpy.array(list1)\n",
    "\"\"\""
   ]
  },
  {
   "cell_type": "markdown",
   "id": "d4cea915",
   "metadata": {},
   "source": [
    "## numpy <-> tensor\n",
    "> Tensors on the CPU and NumPy arrays can share their underlying memory location, and **changing one will change the other**"
   ]
  },
  {
   "cell_type": "code",
   "execution_count": 3,
   "id": "c1672a1b",
   "metadata": {},
   "outputs": [
    {
     "name": "stdout",
     "output_type": "stream",
     "text": [
      "Before modify: tensor([1, 1, 1])\n",
      "Before modify: tensor([1, 1, 1])\n",
      "Before modify: tensor([1, 1, 1])\n",
      "Before modify: tensor([1., 1., 1.])\n",
      "Before modify: [1 1 1]\n",
      "After modify: tensor([2, 2, 2])\n",
      "After modify: tensor([2, 2, 2])\n",
      "After modify: tensor([1, 1, 1])\n",
      "After modify: tensor([1., 1., 1.])\n",
      "After modify: [2 2 2]\n"
     ]
    }
   ],
   "source": [
    "arr_1 = numpy.array([1,1,1])\n",
    "\n",
    "arr2tensor_1 = torch.from_numpy(arr_1)    # 共享内存\n",
    "arr2tensor_2 = torch.as_tensor(arr_1)     # 共享内存\n",
    "arr2tensor_3 = torch.tensor(arr_1)        # 深拷贝\n",
    "arr2tensor_4 = torch.Tensor(arr_1)        # 深拷贝\n",
    "tensor2arr_1 = arr2tensor_1.numpy()      # 共享内存\n",
    "\n",
    "print('Before modify:', arr2tensor_1)\n",
    "print('Before modify:', arr2tensor_2)\n",
    "print('Before modify:', arr2tensor_3)\n",
    "print('Before modify:', arr2tensor_4)\n",
    "print('Before modify:', tensor2arr_1)\n",
    "\n",
    "arr_1 += 1\n",
    "\n",
    "print('After modify:', arr2tensor_1)\n",
    "print('After modify:', arr2tensor_2)\n",
    "print('After modify:', arr2tensor_3)\n",
    "print('After modify:', arr2tensor_4)\n",
    "print('After modify:', tensor2arr_1)"
   ]
  },
  {
   "cell_type": "markdown",
   "id": "ff3f16a4",
   "metadata": {},
   "source": [
    "## list -> tensor"
   ]
  },
  {
   "cell_type": "code",
   "execution_count": 4,
   "id": "c2110ec4",
   "metadata": {},
   "outputs": [
    {
     "name": "stdout",
     "output_type": "stream",
     "text": [
      "Before modify: tensor([1, 1, 1]) torch.int64\n",
      "Before modify: tensor([1, 1, 1]) torch.int64\n",
      "Before modify: tensor([1., 1., 1.]) torch.float32\n",
      "After modify: tensor([1, 1, 1]) torch.int64\n",
      "After modify: tensor([1, 1, 1]) torch.int64\n",
      "After modify: tensor([1., 1., 1.]) torch.float32\n"
     ]
    }
   ],
   "source": [
    "list_1 = [1,1,1]\n",
    "\n",
    "list2tensor_1 = torch.as_tensor(list_1)   # 深拷贝, 保留原数据类型\n",
    "list2tensor_2 = torch.tensor(list_1)      # 深拷贝, 保留原数据类型\n",
    "list2tensor_3 = torch.Tensor(list_1)      # 深拷贝, 保存为float\n",
    "\n",
    "print('Before modify:', list2tensor_1, list2tensor_1.dtype)\n",
    "print('Before modify:', list2tensor_2, list2tensor_2.dtype)\n",
    "print('Before modify:', list2tensor_3, list2tensor_3.dtype)\n",
    "\n",
    "list_1[1] += 1\n",
    "\n",
    "print('After modify:', list2tensor_1, list2tensor_1.dtype)\n",
    "print('After modify:', list2tensor_2, list2tensor_2.dtype)\n",
    "print('After modify:', list2tensor_3, list2tensor_3.dtype)"
   ]
  },
  {
   "cell_type": "markdown",
   "id": "9381bb2a",
   "metadata": {},
   "source": [
    "## torch.tensor(data, *, dtype=None, device=None, requires_grad=False, pin_memory=False)\n",
    "Data type                | dtype                         | Legacy Constructors\n",
    ":- | :- | :-\n",
    "32-bit floating point    | torch.float32 or torch.float  | torch.*.FloatTensor\n",
    "64-bit floating point    | torch.float64 or torch.double | torch.*.DoubleTensor\n",
    "64-bit complex           | torch.complex64 or torch.cfloat\n",
    "128-bit complex          | torch.complex128 or torch.cdouble\n",
    "16-bit floating point 1  | torch.float16 or torch.half   | torch.*.HalfTensor\n",
    "16-bit floating point 2  | torch.bfloat16                | torch.*.BFloat16Tensor\n",
    "8-bit integer (unsigned) | torch.uint8                   | torch.*.ByteTensor\n",
    "8-bit integer (signed)   | torch.int8                    | torch.*.CharTensor\n",
    "16-bit integer (signed)  | torch.int16 or torch.short    | torch.*.ShortTensor\n",
    "32-bit integer (signed)  | torch.int32 or torch.int      | torch.*.IntTensor\n",
    "64-bit integer (signed)  | torch.int64 or torch.long     | torch.*.LongTensor\n",
    "Boolean                  | torch.bool                    | torch.*.BoolTensor"
   ]
  },
  {
   "cell_type": "code",
   "execution_count": 16,
   "id": "27b100ef",
   "metadata": {},
   "outputs": [
    {
     "name": "stdout",
     "output_type": "stream",
     "text": [
      "tensor([[1., 2., 3.],\n",
      "        [4., 5., 6.],\n",
      "        [7., 8., 9.]])\n",
      "<class 'torch.Tensor'>\n",
      "is a tensor? True\n",
      "torch.float32\n",
      "cpu\n"
     ]
    }
   ],
   "source": [
    "tensor_1 = torch.tensor([[1,2,3],[4,5,6],[7,8,9]], dtype=torch.float)\n",
    "print(tensor_1)\n",
    "print( type(tensor_1) )\n",
    "print(\"is a tensor?\", torch.is_tensor(tensor_1) )\n",
    "print( tensor_1.dtype )\n",
    "print( tensor_1.device )"
   ]
  },
  {
   "cell_type": "code",
   "execution_count": 18,
   "id": "2321f7e0",
   "metadata": {},
   "outputs": [
    {
     "name": "stdout",
     "output_type": "stream",
     "text": [
      "tensor([1.+0.j]) \t\t\t is complex? True\n",
      "tensor([1.+0.j], dtype=torch.complex128) is complex? True\n",
      "tensor([1.]) \t\t\t\t is float? True\n",
      "tensor([1.], dtype=torch.float64) \t is float? True\n",
      "tensor([1.], dtype=torch.float16) \t is float? True\n",
      "tensor([1.], dtype=torch.bfloat16) \t is float? True\n"
     ]
    }
   ],
   "source": [
    "print(torch.tensor([1], dtype = torch.complex64),\n",
    "      \"\\t\\t\\t is complex?\", torch.is_complex(torch.tensor([1], dtype = torch.complex64)))\n",
    "print(torch.tensor([1], dtype = torch.complex128),\n",
    "      \"is complex?\", torch.is_complex(torch.tensor([1], dtype = torch.complex128)))\n",
    "print(torch.tensor([1], dtype = torch.float32),\n",
    "      \"\\t\\t\\t\\t is float?\", torch.is_floating_point(torch.tensor([1], dtype = torch.float32)))\n",
    "print(torch.tensor([1], dtype = torch.float64),\n",
    "      \"\\t is float?\", torch.is_floating_point(torch.tensor([1], dtype = torch.float64)))\n",
    "print(torch.tensor([1], dtype = torch.float16),\n",
    "      \"\\t is float?\", torch.is_floating_point(torch.tensor([1], dtype = torch.float16)))\n",
    "print(torch.tensor([1], dtype = torch.bfloat16),\n",
    "      \"\\t is float?\", torch.is_floating_point(torch.tensor([1], dtype = torch.bfloat16)))"
   ]
  },
  {
   "cell_type": "markdown",
   "id": "617a100b",
   "metadata": {},
   "source": [
    "# 生成操作"
   ]
  },
  {
   "cell_type": "code",
   "execution_count": 23,
   "id": "9abf667f",
   "metadata": {},
   "outputs": [],
   "source": [
    "tensor_1 = torch.tensor([[1,2,3],[4,5,6],[7,8,9]], dtype=torch.float)"
   ]
  },
  {
   "cell_type": "markdown",
   "id": "f1f59365",
   "metadata": {},
   "source": [
    "## basic"
   ]
  },
  {
   "cell_type": "markdown",
   "id": "9644cddb",
   "metadata": {},
   "source": [
    "### torch.zeros\n",
    "torch.zeros(*size, *, out=None, dtype=None, layout=torch.strided, device=None, requires_grad=False)"
   ]
  },
  {
   "cell_type": "code",
   "execution_count": 46,
   "id": "68cae5d4",
   "metadata": {},
   "outputs": [
    {
     "data": {
      "text/plain": [
       "tensor([[0., 0., 0.],\n",
       "        [0., 0., 0.]])"
      ]
     },
     "execution_count": 46,
     "metadata": {},
     "output_type": "execute_result"
    }
   ],
   "source": [
    "torch.zeros(2, 3)"
   ]
  },
  {
   "cell_type": "code",
   "execution_count": 50,
   "id": "85e3c348",
   "metadata": {},
   "outputs": [
    {
     "data": {
      "text/plain": [
       "True"
      ]
     },
     "execution_count": 50,
     "metadata": {},
     "output_type": "execute_result"
    }
   ],
   "source": [
    "torch.equal(torch.zeros(2, 3),\n",
    "            torch.zeros((2,3)))"
   ]
  },
  {
   "cell_type": "markdown",
   "id": "9568097f",
   "metadata": {},
   "source": [
    "### torch.zeros_like\n",
    "torch.zeros_like(input, *, dtype=None, layout=None, device=None, requires_grad=False, memory_format=torch.preserve_format)"
   ]
  },
  {
   "cell_type": "code",
   "execution_count": 29,
   "id": "b718b023",
   "metadata": {},
   "outputs": [
    {
     "name": "stdout",
     "output_type": "stream",
     "text": [
      "tensor([[0., 0., 0.],\n",
      "        [0., 0., 0.],\n",
      "        [0., 0., 0.]])\n"
     ]
    }
   ],
   "source": [
    "torch.zeros_like(tensor_1)"
   ]
  },
  {
   "cell_type": "markdown",
   "id": "c1ca54bd",
   "metadata": {},
   "source": [
    "### torch.ones\n",
    "torch.ones(*size, *, out=None, dtype=None, layout=torch.strided, device=None, requires_grad=False)"
   ]
  },
  {
   "cell_type": "code",
   "execution_count": 52,
   "id": "41e9aedd",
   "metadata": {},
   "outputs": [
    {
     "data": {
      "text/plain": [
       "tensor([[1., 1., 1.],\n",
       "        [1., 1., 1.]])"
      ]
     },
     "execution_count": 52,
     "metadata": {},
     "output_type": "execute_result"
    }
   ],
   "source": [
    "torch.ones(2, 3)"
   ]
  },
  {
   "cell_type": "code",
   "execution_count": 51,
   "id": "1b08d323",
   "metadata": {},
   "outputs": [
    {
     "data": {
      "text/plain": [
       "True"
      ]
     },
     "execution_count": 51,
     "metadata": {},
     "output_type": "execute_result"
    }
   ],
   "source": [
    "torch.equal(torch.ones(2, 3),\n",
    "            torch.ones((2,3)))"
   ]
  },
  {
   "cell_type": "markdown",
   "id": "8f415bf9",
   "metadata": {},
   "source": [
    "### torch.ones_like\n",
    "torch.ones_like(input, *, dtype=None, layout=None, device=None, requires_grad=False, memory_format=torch.preserve_format)"
   ]
  },
  {
   "cell_type": "code",
   "execution_count": 54,
   "id": "5d1f3785",
   "metadata": {},
   "outputs": [
    {
     "data": {
      "text/plain": [
       "tensor([[1., 1., 1.],\n",
       "        [1., 1., 1.],\n",
       "        [1., 1., 1.]])"
      ]
     },
     "execution_count": 54,
     "metadata": {},
     "output_type": "execute_result"
    }
   ],
   "source": [
    "torch.ones_like(tensor_1)"
   ]
  },
  {
   "cell_type": "markdown",
   "id": "1555b2e6",
   "metadata": {},
   "source": [
    "### torch.empty\n",
    "torch.empty(*size, *, out=None, dtype=None, layout=torch.strided, device=None, requires_grad=False, pin_memory=False, memory_format=torch.contiguous_format)   \n",
    "生成一个空的tensor(每个元素为随机的极其小的正值)"
   ]
  },
  {
   "cell_type": "code",
   "execution_count": 48,
   "id": "5569a472",
   "metadata": {},
   "outputs": [
    {
     "data": {
      "text/plain": [
       "tensor([[0.0000e+00, 6.7262e-44, 2.1532e+23],\n",
       "        [8.3895e-07, 2.1006e+20, 8.1804e+20]])"
      ]
     },
     "execution_count": 48,
     "metadata": {},
     "output_type": "execute_result"
    }
   ],
   "source": [
    "torch.empty(2, 3)"
   ]
  },
  {
   "cell_type": "markdown",
   "id": "2d351911",
   "metadata": {},
   "source": [
    "### torch.empty_like\n",
    "torch.empty_like(input, *, dtype=None, layout=None, device=None, requires_grad=False, memory_format=torch.preserve_format)"
   ]
  },
  {
   "cell_type": "code",
   "execution_count": 49,
   "id": "86bd5496",
   "metadata": {},
   "outputs": [
    {
     "data": {
      "text/plain": [
       "tensor([[-1.8746e-33,  3.0852e-41, -1.8087e-33],\n",
       "        [ 3.0852e-41,  1.5695e-43,  0.0000e+00],\n",
       "        [ 6.7262e-44,  0.0000e+00, -4.6463e-35]])"
      ]
     },
     "execution_count": 49,
     "metadata": {},
     "output_type": "execute_result"
    }
   ],
   "source": [
    "torch.empty_like(tensor_1)"
   ]
  },
  {
   "cell_type": "markdown",
   "id": "ed79b6a1",
   "metadata": {},
   "source": [
    "### torch.full\n",
    "torch.full(size, fill_value, \\*, out=None, dtype=None, layout=torch.strided, device=None, requires_grad=False)  \n",
    "**用fill_value填充tensor的每个元素**"
   ]
  },
  {
   "cell_type": "code",
   "execution_count": 41,
   "id": "51fa73b8",
   "metadata": {},
   "outputs": [
    {
     "data": {
      "text/plain": [
       "tensor([[3.1416, 3.1416, 3.1416],\n",
       "        [3.1416, 3.1416, 3.1416]])"
      ]
     },
     "execution_count": 41,
     "metadata": {},
     "output_type": "execute_result"
    }
   ],
   "source": [
    "torch.full(size=(2, 3), fill_value=3.141592)"
   ]
  },
  {
   "cell_type": "markdown",
   "id": "60a46068",
   "metadata": {},
   "source": [
    "### torch.full_like\n",
    "torch.full_like(input, fill_value, *, dtype=None, layout=torch.strided, device=None, requires_grad=False, memory_format=torch.preserve_format)"
   ]
  },
  {
   "cell_type": "code",
   "execution_count": 40,
   "id": "d0d08967",
   "metadata": {},
   "outputs": [
    {
     "data": {
      "text/plain": [
       "tensor([[3.1416, 3.1416, 3.1416],\n",
       "        [3.1416, 3.1416, 3.1416],\n",
       "        [3.1416, 3.1416, 3.1416]])"
      ]
     },
     "execution_count": 40,
     "metadata": {},
     "output_type": "execute_result"
    }
   ],
   "source": [
    "torch.full_like(tensor_1, fill_value=3.141592)"
   ]
  },
  {
   "cell_type": "markdown",
   "id": "2e0f0af0",
   "metadata": {},
   "source": [
    "### torch.eye\n",
    "torch.eye(n, m=None, \\*, out=None, dtype=None, layout=torch.strided, device=None, requires_grad=False)  \n",
    "**对角线元素均为1的矩阵**"
   ]
  },
  {
   "cell_type": "code",
   "execution_count": 50,
   "id": "50006b07",
   "metadata": {},
   "outputs": [
    {
     "data": {
      "text/plain": [
       "tensor([[1., 0., 0.],\n",
       "        [0., 1., 0.],\n",
       "        [0., 0., 1.],\n",
       "        [0., 0., 0.]])"
      ]
     },
     "execution_count": 50,
     "metadata": {},
     "output_type": "execute_result"
    }
   ],
   "source": [
    "torch.eye(4, 3)"
   ]
  },
  {
   "cell_type": "code",
   "execution_count": 51,
   "id": "560f5355",
   "metadata": {},
   "outputs": [
    {
     "data": {
      "text/plain": [
       "tensor([[1., 0., 0.],\n",
       "        [0., 1., 0.],\n",
       "        [0., 0., 1.]])"
      ]
     },
     "execution_count": 51,
     "metadata": {},
     "output_type": "execute_result"
    }
   ],
   "source": [
    "torch.eye(3)"
   ]
  },
  {
   "cell_type": "markdown",
   "id": "47b71be5",
   "metadata": {},
   "source": [
    "## sequence\n",
    "todo: https://pytorch.org/docs/stable/generated/torch.logspace.html#torch.logspace"
   ]
  },
  {
   "cell_type": "markdown",
   "id": "e256d14a",
   "metadata": {},
   "source": [
    "### torch.arange\n",
    "torch.arange(start=0, end, step=1, *, out=None, dtype=None, layout=torch.strided, device=None, requires_grad=False)"
   ]
  },
  {
   "cell_type": "code",
   "execution_count": 52,
   "id": "19094bf0",
   "metadata": {},
   "outputs": [
    {
     "data": {
      "text/plain": [
       "tensor([0, 1, 2, 3, 4])"
      ]
     },
     "execution_count": 52,
     "metadata": {},
     "output_type": "execute_result"
    }
   ],
   "source": [
    "torch.arange(5)"
   ]
  },
  {
   "cell_type": "code",
   "execution_count": 53,
   "id": "c5189fd9",
   "metadata": {},
   "outputs": [
    {
     "data": {
      "text/plain": [
       "tensor([1, 2, 3, 4, 5])"
      ]
     },
     "execution_count": 53,
     "metadata": {},
     "output_type": "execute_result"
    }
   ],
   "source": [
    "torch.arange(1, 6)"
   ]
  },
  {
   "cell_type": "code",
   "execution_count": 54,
   "id": "16a79b5c",
   "metadata": {},
   "outputs": [
    {
     "data": {
      "text/plain": [
       "tensor([1.0000, 1.5000, 2.0000])"
      ]
     },
     "execution_count": 54,
     "metadata": {},
     "output_type": "execute_result"
    }
   ],
   "source": [
    "torch.arange(1., 2.5, 0.5)"
   ]
  },
  {
   "cell_type": "code",
   "execution_count": 55,
   "id": "31b66d96",
   "metadata": {},
   "outputs": [
    {
     "data": {
      "text/plain": [
       "tensor([0, 2, 4, 6, 8])"
      ]
     },
     "execution_count": 55,
     "metadata": {},
     "output_type": "execute_result"
    }
   ],
   "source": [
    "torch.arange(0, 10, 2)"
   ]
  },
  {
   "cell_type": "markdown",
   "id": "dc1c28ba",
   "metadata": {},
   "source": [
    "### torch.linspace\n",
    "torch.linspace(start, end, steps, *, out=None, dtype=None, layout=torch.strided, device=None, requires_grad=False)"
   ]
  },
  {
   "cell_type": "code",
   "execution_count": 56,
   "id": "85849395",
   "metadata": {},
   "outputs": [
    {
     "data": {
      "text/plain": [
       "tensor([ 0.,  1.,  2.,  3.,  4.,  5.,  6.,  7.,  8.,  9., 10.])"
      ]
     },
     "execution_count": 56,
     "metadata": {},
     "output_type": "execute_result"
    }
   ],
   "source": [
    "torch.linspace(start=0, end=10, steps=11)"
   ]
  },
  {
   "cell_type": "code",
   "execution_count": 57,
   "id": "5a33d145",
   "metadata": {},
   "outputs": [
    {
     "data": {
      "text/plain": [
       "tensor([-10.,  -5.,   0.,   5.,  10.])"
      ]
     },
     "execution_count": 57,
     "metadata": {},
     "output_type": "execute_result"
    }
   ],
   "source": [
    "torch.linspace(-10, 10, steps=5)"
   ]
  },
  {
   "cell_type": "markdown",
   "id": "3b3c1db6",
   "metadata": {},
   "source": [
    "### torch.logspace\n",
    "torch.logspace(start, end, steps, base=10.0, *, out=None, dtype=None, layout=torch.strided, device=None, requires_grad=False)"
   ]
  },
  {
   "cell_type": "code",
   "execution_count": 58,
   "id": "4f16b3f7",
   "metadata": {},
   "outputs": [
    {
     "data": {
      "text/plain": [
       "tensor([1.0000e+00, 1.0000e+01, 1.0000e+02, 1.0000e+03, 1.0000e+04, 1.0000e+05,\n",
       "        1.0000e+06, 1.0000e+07, 1.0000e+08, 1.0000e+09, 1.0000e+10])"
      ]
     },
     "execution_count": 58,
     "metadata": {},
     "output_type": "execute_result"
    }
   ],
   "source": [
    "torch.logspace(start=0, end=10, steps=11)"
   ]
  },
  {
   "cell_type": "code",
   "execution_count": 59,
   "id": "85c2ee9f",
   "metadata": {},
   "outputs": [
    {
     "data": {
      "text/plain": [
       "tensor([1.0000e+00, 2.0000e+00, 4.0000e+00, 8.0000e+00, 1.6000e+01, 3.2000e+01,\n",
       "        6.4000e+01, 1.2800e+02, 2.5600e+02, 5.1200e+02, 1.0240e+03])"
      ]
     },
     "execution_count": 59,
     "metadata": {},
     "output_type": "execute_result"
    }
   ],
   "source": [
    "torch.logspace(start=0, end=10, steps=11, base=2)"
   ]
  },
  {
   "cell_type": "markdown",
   "id": "85c7ce55",
   "metadata": {},
   "source": [
    "### torch.randperm 随机排列\n",
    "torch.randperm(n, \\*, generator=None, out=None, dtype=torch.int64, layout=torch.strided, device=None, requires_grad=False, pin_memory=False)  \n",
    "**[0, n)之间的一个随机排列**"
   ]
  },
  {
   "cell_type": "code",
   "execution_count": 62,
   "id": "4205ce16",
   "metadata": {},
   "outputs": [
    {
     "data": {
      "text/plain": [
       "tensor([0, 2, 3, 1])"
      ]
     },
     "execution_count": 62,
     "metadata": {},
     "output_type": "execute_result"
    }
   ],
   "source": [
    "torch.randperm(4)"
   ]
  },
  {
   "cell_type": "markdown",
   "id": "16e95c4f",
   "metadata": {},
   "source": [
    "## 均分分布"
   ]
  },
  {
   "cell_type": "markdown",
   "id": "3304906b",
   "metadata": {},
   "source": [
    "### torch.rand 随机整数\n",
    "torch.rand(\\*size, \\*, generator=None, out=None, dtype=None, layout=torch.strided, device=None, requires_grad=False, pin_memory=False)  \n",
    "**[0,1)之间的随机小数**"
   ]
  },
  {
   "cell_type": "code",
   "execution_count": 63,
   "id": "9801c346",
   "metadata": {},
   "outputs": [
    {
     "data": {
      "text/plain": [
       "tensor([[0.1798, 0.9774, 0.7949],\n",
       "        [0.0543, 0.1901, 0.9474]])"
      ]
     },
     "execution_count": 63,
     "metadata": {},
     "output_type": "execute_result"
    }
   ],
   "source": [
    "torch.rand(2, 3)"
   ]
  },
  {
   "cell_type": "markdown",
   "id": "c76f5623",
   "metadata": {},
   "source": [
    "### torch.rand_like\n",
    "torch.rand_like(input, \\*, dtype=None, layout=None, device=None, requires_grad=False, memory_format=torch.preserve_format)  \n",
    "**[0,1)之间的随机小数**"
   ]
  },
  {
   "cell_type": "code",
   "execution_count": 64,
   "id": "663f3d83",
   "metadata": {},
   "outputs": [
    {
     "data": {
      "text/plain": [
       "tensor([[0.7106, 0.6199, 0.9579],\n",
       "        [0.6220, 0.0433, 0.1052],\n",
       "        [0.4421, 0.5232, 0.3296]])"
      ]
     },
     "execution_count": 64,
     "metadata": {},
     "output_type": "execute_result"
    }
   ],
   "source": [
    "torch.rand_like(tensor_1)"
   ]
  },
  {
   "cell_type": "markdown",
   "id": "e9db7a5d",
   "metadata": {},
   "source": [
    "### torch.randint 随机整数\n",
    "torch.randint(low=0, high, size, \\*, generator=None, out=None, dtype=None, layout=torch.strided, device=None, requires_grad=False)  \n",
    "**[low, high)之间的随机整数**"
   ]
  },
  {
   "cell_type": "code",
   "execution_count": 65,
   "id": "9c8d5d3b",
   "metadata": {},
   "outputs": [
    {
     "data": {
      "text/plain": [
       "tensor([[6, 8],\n",
       "        [8, 5]])"
      ]
     },
     "execution_count": 65,
     "metadata": {},
     "output_type": "execute_result"
    }
   ],
   "source": [
    "torch.randint(low=5, high=10, size=(2, 2))"
   ]
  },
  {
   "cell_type": "code",
   "execution_count": 66,
   "id": "8c11f633",
   "metadata": {},
   "outputs": [
    {
     "data": {
      "text/plain": [
       "tensor([[9, 1],\n",
       "        [0, 7]])"
      ]
     },
     "execution_count": 66,
     "metadata": {},
     "output_type": "execute_result"
    }
   ],
   "source": [
    "torch.randint(high=10, size=(2,2))"
   ]
  },
  {
   "cell_type": "markdown",
   "id": "50f0fcea",
   "metadata": {},
   "source": [
    "### torch.randint_like\n",
    "torch.randint_like(input, low=0, high, \\*, dtype=None, layout=torch.strided, device=None, requires_grad=False, memory_format=torch.preserve_format)  \n",
    "**[low, high)之间的随机整数**"
   ]
  },
  {
   "cell_type": "code",
   "execution_count": 69,
   "id": "4b3882b6",
   "metadata": {},
   "outputs": [
    {
     "data": {
      "text/plain": [
       "tensor([[8., 6., 7.],\n",
       "        [9., 7., 8.],\n",
       "        [5., 5., 8.]])"
      ]
     },
     "execution_count": 69,
     "metadata": {},
     "output_type": "execute_result"
    }
   ],
   "source": [
    "torch.randint_like(tensor_1, low=5, high=10)"
   ]
  },
  {
   "cell_type": "code",
   "execution_count": 70,
   "id": "83b76c9e",
   "metadata": {},
   "outputs": [
    {
     "data": {
      "text/plain": [
       "tensor([[3., 9., 6.],\n",
       "        [7., 5., 9.],\n",
       "        [2., 6., 0.]])"
      ]
     },
     "execution_count": 70,
     "metadata": {},
     "output_type": "execute_result"
    }
   ],
   "source": [
    "torch.randint_like(tensor_1, high=10)"
   ]
  },
  {
   "cell_type": "markdown",
   "id": "d691a404",
   "metadata": {},
   "source": [
    "## 正态分布"
   ]
  },
  {
   "cell_type": "markdown",
   "id": "d673b44c",
   "metadata": {},
   "source": [
    "### torch.randn\n",
    "torch.randn(\\*size, \\*, out=None, dtype=None, layout=torch.strided, device=None, requires_grad=False, pin_memory=False)  \n",
    "**标准正态分布, 均值为0, 方差为1**"
   ]
  },
  {
   "cell_type": "code",
   "execution_count": 71,
   "id": "4e59fe83",
   "metadata": {},
   "outputs": [
    {
     "data": {
      "text/plain": [
       "tensor([[-0.3794,  0.6806,  1.0308],\n",
       "        [-0.1291, -0.7029,  0.2652]])"
      ]
     },
     "execution_count": 71,
     "metadata": {},
     "output_type": "execute_result"
    }
   ],
   "source": [
    "torch.randn(2, 3)"
   ]
  },
  {
   "cell_type": "markdown",
   "id": "12c2979c",
   "metadata": {},
   "source": [
    "### torch.randn_like\n",
    "torch.randn_like(input, \\*, dtype=None, layout=None, device=None, requires_grad=False, memory_format=torch.preserve_format)  \n",
    "**标准正态分布, 均值为0, 方差为1**"
   ]
  },
  {
   "cell_type": "code",
   "execution_count": 72,
   "id": "eaaf0598",
   "metadata": {},
   "outputs": [
    {
     "data": {
      "text/plain": [
       "tensor([[0.2268, 0.8732, 0.1223],\n",
       "        [0.0723, 0.3805, 0.8357],\n",
       "        [0.1125, 0.5685, 0.6508]])"
      ]
     },
     "execution_count": 72,
     "metadata": {},
     "output_type": "execute_result"
    }
   ],
   "source": [
    "torch.rand_like(tensor_1)"
   ]
  },
  {
   "cell_type": "markdown",
   "id": "66ec0402",
   "metadata": {},
   "source": [
    "### torch.normal\n",
    "#### mean is float, std is float  \n",
    "torch.normal(mean, std, size, \\*, out=None)  "
   ]
  },
  {
   "cell_type": "code",
   "execution_count": 77,
   "id": "e9d90fa6",
   "metadata": {},
   "outputs": [
    {
     "data": {
      "text/plain": [
       "tensor([[ 3.1106,  0.8640,  6.8128, -1.1986,  8.0743]])"
      ]
     },
     "execution_count": 77,
     "metadata": {},
     "output_type": "execute_result"
    }
   ],
   "source": [
    "torch.normal(mean=2, std=3, size=(1, 5))"
   ]
  },
  {
   "cell_type": "markdown",
   "id": "fc53f373",
   "metadata": {},
   "source": [
    "#### mean is float, std is tensor\n",
    "torch.normal(mean=0.0, std, *, out=None) "
   ]
  },
  {
   "cell_type": "code",
   "execution_count": 76,
   "id": "54146ccb",
   "metadata": {},
   "outputs": [
    {
     "data": {
      "text/plain": [
       "tensor([1.6693, 2.9867, 3.4782, 3.2756, 7.3793])"
      ]
     },
     "execution_count": 76,
     "metadata": {},
     "output_type": "execute_result"
    }
   ],
   "source": [
    "torch.normal(mean=0.5, std=torch.arange(1., 6.))"
   ]
  },
  {
   "cell_type": "markdown",
   "id": "e54ac9a0",
   "metadata": {},
   "source": [
    "#### mean is tensor, std is float  \n",
    "torch.normal(mean, std=1.0, *, out=None)  "
   ]
  },
  {
   "cell_type": "code",
   "execution_count": 79,
   "id": "5b549276",
   "metadata": {},
   "outputs": [
    {
     "data": {
      "text/plain": [
       "tensor([1.9557, 2.6027, 1.4790, 3.5888, 6.8464])"
      ]
     },
     "execution_count": 79,
     "metadata": {},
     "output_type": "execute_result"
    }
   ],
   "source": [
    "torch.normal(mean=torch.arange(1., 6.))"
   ]
  },
  {
   "cell_type": "markdown",
   "id": "19920875",
   "metadata": {},
   "source": [
    "#### mean is tensor, std is tensor, and 两者的元素数量一致\n",
    "torch.normal(mean, std, *, generator=None, out=None)  "
   ]
  },
  {
   "cell_type": "code",
   "execution_count": 83,
   "id": "b2836039",
   "metadata": {},
   "outputs": [
    {
     "data": {
      "text/plain": [
       "tensor([-0.3819,  2.2231,  4.2730,  4.5564,  5.4564])"
      ]
     },
     "execution_count": 83,
     "metadata": {},
     "output_type": "execute_result"
    }
   ],
   "source": [
    "torch.normal(mean=torch.arange(1., 6.), std=torch.arange(1, 0, -0.2))"
   ]
  },
  {
   "cell_type": "markdown",
   "id": "bec6fc09",
   "metadata": {},
   "source": [
    "## 多项式分布"
   ]
  },
  {
   "cell_type": "markdown",
   "id": "17ea2eaa",
   "metadata": {},
   "source": [
    "### torch.multinomial\n",
    "torch.multinomial(input, num_samples, replacement=False, \\*, generator=None, out=None)\n",
    "基于多项式分布，从input中随机抽取num_samples元素，并返回其索引\n",
    "- input的每行之和无需一定为1, 但必须是大于0的有限数\n",
    "- replacement=False 表示无重复抽取, 0 < num_samples <= len(input[0])\n",
    "- replacement=True 表示可重复抽取, num_samples > 0"
   ]
  },
  {
   "cell_type": "code",
   "execution_count": 84,
   "id": "0a1ad1a6",
   "metadata": {},
   "outputs": [
    {
     "data": {
      "text/plain": [
       "tensor([[2, 1],\n",
       "        [2, 1]])"
      ]
     },
     "execution_count": 84,
     "metadata": {},
     "output_type": "execute_result"
    }
   ],
   "source": [
    "torch.multinomial(torch.tensor([[0., 10., 3.],[4., 2., 8.]]), 2)"
   ]
  },
  {
   "cell_type": "code",
   "execution_count": 85,
   "id": "34cb33e4",
   "metadata": {},
   "outputs": [
    {
     "data": {
      "text/plain": [
       "tensor([[1, 2, 0],\n",
       "        [2, 0, 1]])"
      ]
     },
     "execution_count": 85,
     "metadata": {},
     "output_type": "execute_result"
    }
   ],
   "source": [
    "torch.multinomial(torch.tensor([[0., 10., 3.],[4., 2., 8.]]), 3)"
   ]
  },
  {
   "cell_type": "code",
   "execution_count": 87,
   "id": "fe9cea7c",
   "metadata": {},
   "outputs": [
    {
     "data": {
      "text/plain": [
       "tensor([[1, 1, 1, 1],\n",
       "        [0, 2, 0, 2]])"
      ]
     },
     "execution_count": 87,
     "metadata": {},
     "output_type": "execute_result"
    }
   ],
   "source": [
    "torch.multinomial(torch.tensor([[0., 10., 3.],[4., 2., 8.]]), 4, replacement=True)"
   ]
  },
  {
   "cell_type": "markdown",
   "id": "9be885d4",
   "metadata": {},
   "source": [
    "## 0-1分布"
   ]
  },
  {
   "cell_type": "markdown",
   "id": "69d4a443",
   "metadata": {},
   "source": [
    "### torch.bernoulli\n",
    "torch.bernoulli(input, *, generator=None, out=None)  \n",
    "input的每个元素都必须在[0,1]内"
   ]
  },
  {
   "cell_type": "code",
   "execution_count": 90,
   "id": "2134015c",
   "metadata": {},
   "outputs": [
    {
     "data": {
      "text/plain": [
       "tensor([[0., 1., 0.],\n",
       "        [1., 1., 1.]])"
      ]
     },
     "execution_count": 90,
     "metadata": {},
     "output_type": "execute_result"
    }
   ],
   "source": [
    "torch.bernoulli(torch.rand(2, 3))"
   ]
  },
  {
   "cell_type": "markdown",
   "id": "4d2c73b1",
   "metadata": {},
   "source": [
    "## 泊松分布"
   ]
  },
  {
   "cell_type": "markdown",
   "id": "08ddbc26",
   "metadata": {},
   "source": [
    "### torch.poisson\n",
    "torch.poisson(input, generator=None)"
   ]
  },
  {
   "cell_type": "code",
   "execution_count": 92,
   "id": "8e2ba32f",
   "metadata": {},
   "outputs": [
    {
     "data": {
      "text/plain": [
       "tensor([[1., 3., 1.],\n",
       "        [7., 3., 6.]])"
      ]
     },
     "execution_count": 92,
     "metadata": {},
     "output_type": "execute_result"
    }
   ],
   "source": [
    "torch.poisson(torch.rand(2, 3) * 5)"
   ]
  },
  {
   "cell_type": "markdown",
   "id": "337ae29f",
   "metadata": {},
   "source": [
    "# Indexing, Slicing, Joining, Mutating操作"
   ]
  },
  {
   "cell_type": "markdown",
   "id": "f242d3c5",
   "metadata": {},
   "source": [
    "## 形状"
   ]
  },
  {
   "cell_type": "code",
   "execution_count": 6,
   "id": "dcb6fc31",
   "metadata": {},
   "outputs": [
    {
     "name": "stdout",
     "output_type": "stream",
     "text": [
      "tensor([[1., 2., 3., 4.],\n",
      "        [5., 6., 7., 8.]])\n"
     ]
    }
   ],
   "source": [
    "tensor_1 = torch.arange(1, 9, dtype=torch.float).reshape(2, 4)\n",
    "print(tensor_1)"
   ]
  },
  {
   "cell_type": "markdown",
   "id": "c246f897",
   "metadata": {},
   "source": [
    "### torch.numel 元素数量"
   ]
  },
  {
   "cell_type": "code",
   "execution_count": 7,
   "id": "526a3aa2",
   "metadata": {},
   "outputs": [
    {
     "name": "stdout",
     "output_type": "stream",
     "text": [
      "total number of elements = 8\n",
      "total number of elements = 8\n"
     ]
    }
   ],
   "source": [
    "print(\"total number of elements =\", tensor_1.numel() )\n",
    "print(\"total number of elements =\", torch.numel(tensor_1) )"
   ]
  },
  {
   "cell_type": "markdown",
   "id": "7de91cc4",
   "metadata": {},
   "source": [
    "### shape, size, dim"
   ]
  },
  {
   "cell_type": "code",
   "execution_count": 8,
   "id": "31356062",
   "metadata": {
    "scrolled": true
   },
   "outputs": [
    {
     "name": "stdout",
     "output_type": "stream",
     "text": [
      "size: torch.Size([2, 4])\n",
      "size: torch.Size([2, 4])\n",
      "total number of dimensions = 2\n",
      "size of 0-th dim = 2\n",
      "size of 0-th dim = 2\n",
      "size of 0-th dim = 2\n"
     ]
    }
   ],
   "source": [
    "print(\"size:\", tensor_1.shape)\n",
    "print(\"size:\", tensor_1.size())\n",
    "\n",
    "print(\"total number of dimensions =\", tensor_1.dim() )\n",
    "\n",
    "print(\"size of 0-th dim =\", tensor_1.shape[0] )\n",
    "print(\"size of 0-th dim =\", tensor_1.size(0) )\n",
    "print(\"size of 0-th dim =\", tensor_1.size()[0] )"
   ]
  },
  {
   "cell_type": "markdown",
   "id": "532c187a",
   "metadata": {},
   "source": [
    "## 查找/索引 todo\n",
    "不会开辟新内存"
   ]
  },
  {
   "cell_type": "code",
   "execution_count": 9,
   "id": "ab175944",
   "metadata": {},
   "outputs": [
    {
     "name": "stdout",
     "output_type": "stream",
     "text": [
      "tensor([[1., 2., 3., 4.],\n",
      "        [5., 6., 7., 8.]])\n"
     ]
    }
   ],
   "source": [
    "tensor_1 = torch.arange(1, 9, dtype=torch.float).reshape(2, 4)\n",
    "print(tensor_1)"
   ]
  },
  {
   "cell_type": "code",
   "execution_count": 10,
   "id": "b4115708",
   "metadata": {},
   "outputs": [
    {
     "name": "stdout",
     "output_type": "stream",
     "text": [
      "first element: 1.0\n",
      "first element: 1.0\n",
      "first row: tensor([1., 2., 3., 4.])\n",
      "Last column: tensor([4., 8.])\n",
      "Last column: tensor([4., 8.])\n"
     ]
    }
   ],
   "source": [
    "print(\"first element:\", tensor_1[0][0].item() )\n",
    "print(\"first element:\", tensor_1[0,0].item() )\n",
    "print(\"first row:\",     tensor_1[0] )\n",
    "print(\"Last column:\",   tensor_1[:,-1] )\n",
    "print(\"Last column:\",   tensor_1[...,-1] )"
   ]
  },
  {
   "cell_type": "markdown",
   "id": "3ed2fca8",
   "metadata": {},
   "source": [
    ">Notice: 索引返回的结果与原数据共享内存，也即修改一个，另一个会跟着修改"
   ]
  },
  {
   "cell_type": "code",
   "execution_count": 11,
   "id": "97bfc356",
   "metadata": {},
   "outputs": [
    {
     "data": {
      "text/plain": [
       "tensor([[1., 0., 3., 4.],\n",
       "        [5., 0., 7., 8.]])"
      ]
     },
     "execution_count": 11,
     "metadata": {},
     "output_type": "execute_result"
    }
   ],
   "source": [
    "tensor_1[:,1] = 0\n",
    "tensor_1"
   ]
  },
  {
   "cell_type": "markdown",
   "id": "cc33a8fd",
   "metadata": {},
   "source": [
    "### torch.take\n",
    "torch.take(input, index)"
   ]
  },
  {
   "cell_type": "code",
   "execution_count": 120,
   "id": "147b7e6d",
   "metadata": {},
   "outputs": [
    {
     "data": {
      "text/plain": [
       "tensor([1., 3., 0., 8.])"
      ]
     },
     "execution_count": 120,
     "metadata": {},
     "output_type": "execute_result"
    }
   ],
   "source": [
    "torch.take(tensor_1, torch.tensor([0,2,5,7]))"
   ]
  },
  {
   "cell_type": "markdown",
   "id": "ba5a1adf",
   "metadata": {},
   "source": [
    "### torch.take_along_dim\n",
    "torch.take_along_dim(input, indices, dim, \\*, out=None)  \n",
    "input and indices should have the same number of dimensions"
   ]
  },
  {
   "cell_type": "code",
   "execution_count": 159,
   "id": "12e67da9",
   "metadata": {},
   "outputs": [],
   "source": [
    "tensor_1 = torch.tensor([[4,2,3,1],[5,7,6,8]], dtype=torch.float)"
   ]
  },
  {
   "cell_type": "code",
   "execution_count": 160,
   "id": "53c38cda",
   "metadata": {},
   "outputs": [
    {
     "data": {
      "text/plain": [
       "tensor([[4., 2., 3., 1.],\n",
       "        [5., 7., 6., 8.]])"
      ]
     },
     "execution_count": 160,
     "metadata": {},
     "output_type": "execute_result"
    }
   ],
   "source": [
    "tensor_1"
   ]
  },
  {
   "cell_type": "code",
   "execution_count": 161,
   "id": "ead19630",
   "metadata": {},
   "outputs": [],
   "source": [
    "sorted_idx = torch.argsort(tensor_1, dim=1)"
   ]
  },
  {
   "cell_type": "code",
   "execution_count": 162,
   "id": "e16bf2ea",
   "metadata": {},
   "outputs": [
    {
     "data": {
      "text/plain": [
       "tensor([[3, 1, 2, 0],\n",
       "        [0, 2, 1, 3]])"
      ]
     },
     "execution_count": 162,
     "metadata": {},
     "output_type": "execute_result"
    }
   ],
   "source": [
    "sorted_idx"
   ]
  },
  {
   "cell_type": "code",
   "execution_count": 163,
   "id": "9fc4eb9d",
   "metadata": {},
   "outputs": [
    {
     "data": {
      "text/plain": [
       "tensor([[1., 2., 3., 4.],\n",
       "        [5., 6., 7., 8.]])"
      ]
     },
     "execution_count": 163,
     "metadata": {},
     "output_type": "execute_result"
    }
   ],
   "source": [
    "torch.take_along_dim(tensor_1, sorted_idx, dim=1)"
   ]
  },
  {
   "cell_type": "markdown",
   "id": "1022462d",
   "metadata": {},
   "source": [
    "### torch.masked_select\n",
    "torch.masked_select(input, mask, \\*, out=None)  \n",
    "Returns a new 1-D tensor which indexes the input tensor according to the boolean mask mask which is a BoolTensor.  \n",
    "返回mask为真的元素组成的一维张量"
   ]
  },
  {
   "cell_type": "code",
   "execution_count": 164,
   "id": "25b4c057",
   "metadata": {},
   "outputs": [],
   "source": [
    "tensor_1 = torch.tensor([[4,2,3,1],[5,7,6,8]], dtype=torch.float)"
   ]
  },
  {
   "cell_type": "code",
   "execution_count": 165,
   "id": "4aeb3759",
   "metadata": {},
   "outputs": [
    {
     "data": {
      "text/plain": [
       "tensor([[4., 2., 3., 1.],\n",
       "        [5., 7., 6., 8.]])"
      ]
     },
     "execution_count": 165,
     "metadata": {},
     "output_type": "execute_result"
    }
   ],
   "source": [
    "tensor_1"
   ]
  },
  {
   "cell_type": "code",
   "execution_count": 166,
   "id": "d7a69494",
   "metadata": {},
   "outputs": [],
   "source": [
    "mask = torch.tensor([[True,False,True,False],[False,True,False,True]])"
   ]
  },
  {
   "cell_type": "code",
   "execution_count": 167,
   "id": "33beba17",
   "metadata": {},
   "outputs": [
    {
     "data": {
      "text/plain": [
       "tensor([4., 3., 7., 8.])"
      ]
     },
     "execution_count": 167,
     "metadata": {},
     "output_type": "execute_result"
    }
   ],
   "source": [
    "torch.masked_select(tensor_1, mask)"
   ]
  },
  {
   "cell_type": "markdown",
   "id": "563c3703",
   "metadata": {},
   "source": [
    "### torch.nonzero\n",
    "torch.nonzero(input, \\*, out=None, as_tuple=False)  \n",
    "**返回非0位置索引**。 如果as_tuple=False, 索引存成多维数组的形式; 如果as_tuple=True, 每个维度的索引存至不同的tensor中。"
   ]
  },
  {
   "cell_type": "code",
   "execution_count": 169,
   "id": "675c119f",
   "metadata": {},
   "outputs": [
    {
     "data": {
      "text/plain": [
       "tensor([[0],\n",
       "        [1],\n",
       "        [2],\n",
       "        [4]])"
      ]
     },
     "execution_count": 169,
     "metadata": {},
     "output_type": "execute_result"
    }
   ],
   "source": [
    "torch.nonzero(torch.tensor([1, 1, 1, 0, 1]))"
   ]
  },
  {
   "cell_type": "code",
   "execution_count": 172,
   "id": "7fd12f7b",
   "metadata": {},
   "outputs": [
    {
     "data": {
      "text/plain": [
       "(tensor([0, 1, 2, 4]),)"
      ]
     },
     "execution_count": 172,
     "metadata": {},
     "output_type": "execute_result"
    }
   ],
   "source": [
    "torch.nonzero(torch.tensor([1, 1, 1, 0, 1]), as_tuple=True)"
   ]
  },
  {
   "cell_type": "code",
   "execution_count": 173,
   "id": "7162ddea",
   "metadata": {},
   "outputs": [
    {
     "data": {
      "text/plain": [
       "tensor([[0, 0],\n",
       "        [1, 1],\n",
       "        [3, 1]])"
      ]
     },
     "execution_count": 173,
     "metadata": {},
     "output_type": "execute_result"
    }
   ],
   "source": [
    "torch.nonzero(torch.tensor([[0.6, 0.0],[0.0, 0.4],[0.0, 0.0],[0.0, -0.4]]))"
   ]
  },
  {
   "cell_type": "code",
   "execution_count": 174,
   "id": "d9a4e1c2",
   "metadata": {},
   "outputs": [
    {
     "data": {
      "text/plain": [
       "(tensor([0, 1, 3]), tensor([0, 1, 1]))"
      ]
     },
     "execution_count": 174,
     "metadata": {},
     "output_type": "execute_result"
    }
   ],
   "source": [
    "torch.nonzero(torch.tensor([[0.6, 0.0],[0.0, 0.4],[0.0, 0.0],[0.0, -0.4]]), as_tuple=True)"
   ]
  },
  {
   "cell_type": "markdown",
   "id": "c701e7fa",
   "metadata": {},
   "source": [
    "### torch.where\n",
    "torch.where(condition, input, other, *, out=None)  \n",
    "$$ out_i = \\begin{cases} \\begin{array}{l,l}\n",
    "input_i, & condition_i = True \\\\\n",
    "other_i, & otherwise \\\\\n",
    "\\end{array} \\end{cases} $$\n",
    "\n",
    "Parameters:\n",
    "- condition (BoolTensor) – When True (nonzero), yield input, otherwise yield other\n",
    "- input (Tensor or Scalar) – value (if input is a scalar) or values selected at indices where condition is True\n",
    "- other (Tensor or Scalar) – value (if other is a scalar) or values selected at indices where condition is False"
   ]
  },
  {
   "cell_type": "code",
   "execution_count": 178,
   "id": "33ab5659",
   "metadata": {},
   "outputs": [],
   "source": [
    "tensor_1 = torch.tensor([[-0.462, 0.3139],[0.3898, -0.7197]], dtype=torch.float64)\n",
    "tensor_2 = torch.zeros_like(tensor_1)"
   ]
  },
  {
   "cell_type": "code",
   "execution_count": 180,
   "id": "ac685c23",
   "metadata": {},
   "outputs": [
    {
     "data": {
      "text/plain": [
       "tensor([[-0.4620,  0.3139],\n",
       "        [ 0.3898, -0.7197]], dtype=torch.float64)"
      ]
     },
     "execution_count": 180,
     "metadata": {},
     "output_type": "execute_result"
    }
   ],
   "source": [
    "tensor_1"
   ]
  },
  {
   "cell_type": "code",
   "execution_count": 179,
   "id": "e50dc10d",
   "metadata": {},
   "outputs": [
    {
     "data": {
      "text/plain": [
       "tensor([[0., 1.],\n",
       "        [1., 0.]])"
      ]
     },
     "execution_count": 179,
     "metadata": {},
     "output_type": "execute_result"
    }
   ],
   "source": [
    "torch.where(tensor_1 > 0, 1.0, 0.0)"
   ]
  },
  {
   "cell_type": "code",
   "execution_count": 182,
   "id": "d44fc88a",
   "metadata": {},
   "outputs": [
    {
     "data": {
      "text/plain": [
       "tensor([[1.0000, 0.3139],\n",
       "        [0.3898, 1.0000]], dtype=torch.float64)"
      ]
     },
     "execution_count": 182,
     "metadata": {},
     "output_type": "execute_result"
    }
   ],
   "source": [
    "torch.where(tensor_1 > 0, tensor_1, 1.0)"
   ]
  },
  {
   "cell_type": "code",
   "execution_count": 183,
   "id": "bde52d98",
   "metadata": {},
   "outputs": [
    {
     "data": {
      "text/plain": [
       "tensor([[0.0000, 0.3139],\n",
       "        [0.3898, 0.0000]], dtype=torch.float64)"
      ]
     },
     "execution_count": 183,
     "metadata": {},
     "output_type": "execute_result"
    }
   ],
   "source": [
    "torch.where(tensor_1 > 0, tensor_1, tensor_2)"
   ]
  },
  {
   "cell_type": "markdown",
   "id": "314f2813",
   "metadata": {},
   "source": [
    "## 变形"
   ]
  },
  {
   "cell_type": "markdown",
   "id": "f5ef3420",
   "metadata": {},
   "source": [
    "### reshape, view\n",
    "torch.reshape(input, shape)   \n",
    "$\\iff$ tensor_1.reshape(shape)  \n",
    "$\\iff$ tensor_1.view(shape)  "
   ]
  },
  {
   "cell_type": "code",
   "execution_count": 56,
   "id": "1e1b99be",
   "metadata": {},
   "outputs": [
    {
     "name": "stdout",
     "output_type": "stream",
     "text": [
      "tensor([ 1,  2,  3,  4,  5,  6,  7,  8,  9, 10, 11, 12, 13, 14, 15, 16, 17, 18,\n",
      "        19, 20, 21, 22, 23, 24])\n"
     ]
    }
   ],
   "source": [
    "tensor_1 = torch.arange(1, 25)\n",
    "print(tensor_1)"
   ]
  },
  {
   "cell_type": "code",
   "execution_count": null,
   "id": "4a818529",
   "metadata": {},
   "outputs": [],
   "source": [
    "\"\"\"\n",
    "torch.reshape(tensor_1, (2, 3, 4))\n",
    "tensor_1.reshape(2, 3, 4)\n",
    "tensor_1.view(2, 3, 4)\n",
    "\"\"\""
   ]
  },
  {
   "cell_type": "code",
   "execution_count": 463,
   "id": "ad2d2d6d",
   "metadata": {},
   "outputs": [
    {
     "data": {
      "text/plain": [
       "tensor([[[ 1,  2,  3,  4],\n",
       "         [ 5,  6,  7,  8],\n",
       "         [ 9, 10, 11, 12]],\n",
       "\n",
       "        [[13, 14, 15, 16],\n",
       "         [17, 18, 19, 20],\n",
       "         [21, 22, 23, 24]]])"
      ]
     },
     "execution_count": 463,
     "metadata": {},
     "output_type": "execute_result"
    }
   ],
   "source": [
    "torch.reshape(tensor_1, (2, 3, 4))"
   ]
  },
  {
   "cell_type": "code",
   "execution_count": 57,
   "id": "f48e6fb8",
   "metadata": {},
   "outputs": [
    {
     "data": {
      "text/plain": [
       "True"
      ]
     },
     "execution_count": 57,
     "metadata": {},
     "output_type": "execute_result"
    }
   ],
   "source": [
    "torch.equal(torch.reshape(tensor_1, (2, 3, 4)),\n",
    "            tensor_1.reshape(2, 3, 4))"
   ]
  },
  {
   "cell_type": "code",
   "execution_count": 58,
   "id": "2097bf64",
   "metadata": {},
   "outputs": [
    {
     "data": {
      "text/plain": [
       "True"
      ]
     },
     "execution_count": 58,
     "metadata": {},
     "output_type": "execute_result"
    }
   ],
   "source": [
    "torch.equal(torch.reshape(tensor_1, (2, 3, 4)),\n",
    "            tensor_1.view(2, 3, 4))"
   ]
  },
  {
   "cell_type": "code",
   "execution_count": 466,
   "id": "e4e89383",
   "metadata": {},
   "outputs": [
    {
     "data": {
      "text/plain": [
       "tensor([[ 1,  2,  3],\n",
       "        [ 4,  5,  6],\n",
       "        [ 7,  8,  9],\n",
       "        [10, 11, 12],\n",
       "        [13, 14, 15],\n",
       "        [16, 17, 18],\n",
       "        [19, 20, 21],\n",
       "        [22, 23, 24]])"
      ]
     },
     "execution_count": 466,
     "metadata": {},
     "output_type": "execute_result"
    }
   ],
   "source": [
    "tensor_1.reshape((8, -1)) # -1 表示24/8"
   ]
  },
  {
   "cell_type": "code",
   "execution_count": 467,
   "id": "d25e2607",
   "metadata": {},
   "outputs": [
    {
     "data": {
      "text/plain": [
       "tensor([[ 1,  2,  3,  4],\n",
       "        [ 5,  6,  7,  8],\n",
       "        [ 9, 10, 11, 12],\n",
       "        [13, 14, 15, 16],\n",
       "        [17, 18, 19, 20],\n",
       "        [21, 22, 23, 24]])"
      ]
     },
     "execution_count": 467,
     "metadata": {},
     "output_type": "execute_result"
    }
   ],
   "source": [
    "tensor_1.reshape((-1, 4)) # -1 表示24/4"
   ]
  },
  {
   "cell_type": "code",
   "execution_count": 468,
   "id": "deb82b4f",
   "metadata": {},
   "outputs": [
    {
     "data": {
      "text/plain": [
       "tensor([[[ 1,  2,  3,  4],\n",
       "         [ 5,  6,  7,  8],\n",
       "         [ 9, 10, 11, 12]],\n",
       "\n",
       "        [[13, 14, 15, 16],\n",
       "         [17, 18, 19, 20],\n",
       "         [21, 22, 23, 24]]])"
      ]
     },
     "execution_count": 468,
     "metadata": {},
     "output_type": "execute_result"
    }
   ],
   "source": [
    "tensor_1.reshape((2, -1, 4)) # -1 表示24/2/4"
   ]
  },
  {
   "cell_type": "code",
   "execution_count": null,
   "id": "6a636a9d",
   "metadata": {},
   "outputs": [],
   "source": [
    "\"\"\"\n",
    "tensor_1.reshape(tensor_1.numel())\n",
    "tensor_1.reshape((tensor_1.numel()))\n",
    "tensor_1.reshape(-1)\n",
    "tensor_1.reshape((-1))\n",
    "\"\"\""
   ]
  },
  {
   "cell_type": "code",
   "execution_count": 66,
   "id": "a2a707f0",
   "metadata": {},
   "outputs": [
    {
     "data": {
      "text/plain": [
       "tensor([ 1,  2,  3,  4,  5,  6,  7,  8,  9, 10, 11, 12, 13, 14, 15, 16, 17, 18,\n",
       "        19, 20, 21, 22, 23, 24])"
      ]
     },
     "execution_count": 66,
     "metadata": {},
     "output_type": "execute_result"
    }
   ],
   "source": [
    "tensor_1.reshape(tensor_1.numel())"
   ]
  },
  {
   "cell_type": "code",
   "execution_count": 67,
   "id": "9d7f6c4f",
   "metadata": {},
   "outputs": [
    {
     "data": {
      "text/plain": [
       "True"
      ]
     },
     "execution_count": 67,
     "metadata": {},
     "output_type": "execute_result"
    }
   ],
   "source": [
    "torch.equal(tensor_1.reshape(tensor_1.numel()),\n",
    "            tensor_1.reshape((tensor_1.numel())))"
   ]
  },
  {
   "cell_type": "code",
   "execution_count": 68,
   "id": "18e55c7c",
   "metadata": {},
   "outputs": [
    {
     "data": {
      "text/plain": [
       "True"
      ]
     },
     "execution_count": 68,
     "metadata": {},
     "output_type": "execute_result"
    }
   ],
   "source": [
    "torch.equal(tensor_1.reshape(tensor_1.numel()),\n",
    "            tensor_1.reshape(-1))"
   ]
  },
  {
   "cell_type": "code",
   "execution_count": 69,
   "id": "6b75c51c",
   "metadata": {},
   "outputs": [
    {
     "data": {
      "text/plain": [
       "True"
      ]
     },
     "execution_count": 69,
     "metadata": {},
     "output_type": "execute_result"
    }
   ],
   "source": [
    "torch.equal(tensor_1.reshape(tensor_1.numel()),\n",
    "            tensor_1.reshape((-1)))"
   ]
  },
  {
   "cell_type": "markdown",
   "id": "7e2aeb67",
   "metadata": {},
   "source": [
    ">**变形虽然生成新的tensor，但是与源Tensor共享数据<br>即改变一个变形中的数值，所有tensor的数值一起发生变化**"
   ]
  },
  {
   "cell_type": "code",
   "execution_count": 72,
   "id": "5de90ebc",
   "metadata": {},
   "outputs": [
    {
     "name": "stdout",
     "output_type": "stream",
     "text": [
      "tensor([ 1,  2,  3,  4,  5,  6,  7,  8,  9, 10, 11, 12, 13, 14, 15, 16, 17, 18,\n",
      "        19, 20, 21, 22, 23, 24]) \n",
      "id = 140268886521792\n"
     ]
    }
   ],
   "source": [
    "tensor_1 = torch.arange(1, 25)\n",
    "print(tensor_1, \"\\nid =\", id(tensor_1))"
   ]
  },
  {
   "cell_type": "code",
   "execution_count": 73,
   "id": "48b2c310",
   "metadata": {},
   "outputs": [
    {
     "name": "stdout",
     "output_type": "stream",
     "text": [
      "tensor([[[ 1,  2,  3,  4],\n",
      "         [ 5,  6,  7,  8],\n",
      "         [ 9, 10, 11, 12]],\n",
      "\n",
      "        [[13, 14, 15, 16],\n",
      "         [17, 18, 19, 20],\n",
      "         [21, 22, 23, 24]]]) \n",
      "id = 140268886572624\n"
     ]
    }
   ],
   "source": [
    "tensor_2 = torch.reshape(tensor_1, (2, 3, 4))\n",
    "print(tensor_2, \"\\nid =\", id(tensor_2))"
   ]
  },
  {
   "cell_type": "code",
   "execution_count": 74,
   "id": "584e69ea",
   "metadata": {},
   "outputs": [
    {
     "name": "stdout",
     "output_type": "stream",
     "text": [
      "tensor([[ 1,  2,  3,  4,  5,  6],\n",
      "        [ 7,  8,  9, 10, 11, 12],\n",
      "        [13, 14, 15, 16, 17, 18],\n",
      "        [19, 20, 21, 22, 23, 24]]) \n",
      "id = 140268891771184\n"
     ]
    }
   ],
   "source": [
    "tensor_3 = tensor_1.view(4, 6) \n",
    "print(tensor_3, \"\\nid =\", id(tensor_3))"
   ]
  },
  {
   "cell_type": "code",
   "execution_count": 75,
   "id": "70ad0956",
   "metadata": {},
   "outputs": [
    {
     "name": "stdout",
     "output_type": "stream",
     "text": [
      "tensor([-11, -10,  -9,  -8,  -7,  -6,  -5,  -4,  -3,  -2,  -1,   0,   1,   2,\n",
      "          3,   4,   5,   6,   7,   8,   9,  10,  11,  12])\n",
      "tensor([[[-11, -10,  -9,  -8],\n",
      "         [ -7,  -6,  -5,  -4],\n",
      "         [ -3,  -2,  -1,   0]],\n",
      "\n",
      "        [[  1,   2,   3,   4],\n",
      "         [  5,   6,   7,   8],\n",
      "         [  9,  10,  11,  12]]])\n",
      "tensor([[-11, -10,  -9,  -8,  -7,  -6],\n",
      "        [ -5,  -4,  -3,  -2,  -1,   0],\n",
      "        [  1,   2,   3,   4,   5,   6],\n",
      "        [  7,   8,   9,  10,  11,  12]])\n"
     ]
    }
   ],
   "source": [
    "tensor_2 -= 12\n",
    "print(tensor_1)\n",
    "print(tensor_2)\n",
    "print(tensor_3)"
   ]
  },
  {
   "cell_type": "markdown",
   "id": "6fe68682",
   "metadata": {},
   "source": [
    ">**如果不想修改源tensor，需要将源tensor深拷贝后再进行变形<br>即深拷贝后再修改变形的数值，则不会影响源tensor数值**"
   ]
  },
  {
   "cell_type": "code",
   "execution_count": 76,
   "id": "6e922765",
   "metadata": {},
   "outputs": [
    {
     "name": "stdout",
     "output_type": "stream",
     "text": [
      "tensor([-11, -10,  -9,  -8,  -7,  -6,  -5,  -4,  -3,  -2,  -1,   0,   1,   2,\n",
      "          3,   4,   5,   6,   7,   8,   9,  10,  11,  12]) \n",
      "id = 140268886521792\n"
     ]
    }
   ],
   "source": [
    "print(tensor_1, \"\\nid =\", id(tensor_1))"
   ]
  },
  {
   "cell_type": "code",
   "execution_count": 77,
   "id": "b69e5e68",
   "metadata": {},
   "outputs": [
    {
     "name": "stdout",
     "output_type": "stream",
     "text": [
      "tensor([[-11, -10,  -9,  -8,  -7,  -6,  -5,  -4],\n",
      "        [ -3,  -2,  -1,   0,   1,   2,   3,   4],\n",
      "        [  5,   6,   7,   8,   9,  10,  11,  12]]) \n",
      "id = 140268897974688\n"
     ]
    }
   ],
   "source": [
    "tensor_4 = tensor_1.clone().view(3, 8)\n",
    "print(tensor_4, \"\\nid =\", id(tensor_4))"
   ]
  },
  {
   "cell_type": "code",
   "execution_count": 78,
   "id": "9834f3ba",
   "metadata": {},
   "outputs": [
    {
     "name": "stdout",
     "output_type": "stream",
     "text": [
      "tensor([-11, -10,  -9,  -8,  -7,  -6,  -5,  -4,  -3,  -2,  -1,   0,   1,   2,\n",
      "          3,   4,   5,   6,   7,   8,   9,  10,  11,  12])\n",
      "tensor([[ 1,  2,  3,  4,  5,  6,  7,  8],\n",
      "        [ 9, 10, 11, 12, 13, 14, 15, 16],\n",
      "        [17, 18, 19, 20, 21, 22, 23, 24]])\n"
     ]
    }
   ],
   "source": [
    "tensor_4 += 12\n",
    "print(tensor_1)\n",
    "print(tensor_4)"
   ]
  },
  {
   "cell_type": "markdown",
   "id": "3286c993",
   "metadata": {},
   "source": [
    "### torch.clone 深拷贝\n",
    "torch.clone(input, *, memory_format=torch.preserve_format)  "
   ]
  },
  {
   "cell_type": "code",
   "execution_count": 79,
   "id": "8bfa58d6",
   "metadata": {},
   "outputs": [
    {
     "name": "stdout",
     "output_type": "stream",
     "text": [
      "tensor([-11, -10,  -9,  -8,  -7,  -6,  -5,  -4,  -3,  -2,  -1,   0,   1,   2,\n",
      "          3,   4,   5,   6,   7,   8,   9,  10,  11,  12]) \n",
      "id = 140268886521792\n",
      "tensor([-11, -10,  -9,  -8,  -7,  -6,  -5,  -4,  -3,  -2,  -1,   0,   1,   2,\n",
      "          3,   4,   5,   6,   7,   8,   9,  10,  11,  12]) \n",
      "id = 140268885109632\n"
     ]
    }
   ],
   "source": [
    "print(tensor_1, \"\\nid =\", id(tensor_1))\n",
    "tensor_2 = torch.clone(tensor_1)\n",
    "print(tensor_2, \"\\nid =\", id(tensor_2))"
   ]
  },
  {
   "cell_type": "markdown",
   "id": "913de5c4",
   "metadata": {},
   "source": [
    "## 降维/升维"
   ]
  },
  {
   "cell_type": "markdown",
   "id": "1151677f",
   "metadata": {},
   "source": [
    "### torch.squeeze\n",
    "torch.squeeze(input, dim=None)  \n",
    "**删除所有size = 1的维度，或者如果指定维度dim的 size = 1, 则将该维度移除, 否则保持不变**"
   ]
  },
  {
   "cell_type": "code",
   "execution_count": 232,
   "id": "75b7ffad",
   "metadata": {},
   "outputs": [],
   "source": [
    "tensor_1 = torch.zeros(2, 1, 3, 1, 2)"
   ]
  },
  {
   "cell_type": "code",
   "execution_count": 233,
   "id": "52c6bf76",
   "metadata": {},
   "outputs": [
    {
     "data": {
      "text/plain": [
       "torch.Size([2, 1, 3, 1, 2])"
      ]
     },
     "execution_count": 233,
     "metadata": {},
     "output_type": "execute_result"
    }
   ],
   "source": [
    "tensor_1.size()"
   ]
  },
  {
   "cell_type": "code",
   "execution_count": 234,
   "id": "86403ff5",
   "metadata": {},
   "outputs": [
    {
     "data": {
      "text/plain": [
       "torch.Size([2, 3, 2])"
      ]
     },
     "execution_count": 234,
     "metadata": {},
     "output_type": "execute_result"
    }
   ],
   "source": [
    "torch.squeeze(tensor_1).size()"
   ]
  },
  {
   "cell_type": "code",
   "execution_count": 235,
   "id": "08dcd8f8",
   "metadata": {},
   "outputs": [
    {
     "data": {
      "text/plain": [
       "torch.Size([2, 1, 3, 1, 2])"
      ]
     },
     "execution_count": 235,
     "metadata": {},
     "output_type": "execute_result"
    }
   ],
   "source": [
    "torch.squeeze(tensor_1, dim=0).size()"
   ]
  },
  {
   "cell_type": "code",
   "execution_count": 236,
   "id": "810df410",
   "metadata": {},
   "outputs": [
    {
     "data": {
      "text/plain": [
       "torch.Size([2, 3, 1, 2])"
      ]
     },
     "execution_count": 236,
     "metadata": {},
     "output_type": "execute_result"
    }
   ],
   "source": [
    "torch.squeeze(tensor_1, dim=1).size()"
   ]
  },
  {
   "cell_type": "markdown",
   "id": "bd16c697",
   "metadata": {},
   "source": [
    "### torch.unsqueeze\n",
    "torch.unsqueeze(input, dim)   \n",
    "**在指定位置插入大小为1的维度**  \n",
    "A dim value within the range $[-input.dim() - 1, input.dim() + 1)$ can be used. Negative dim will correspond to unsqueeze() applied at dim = dim + input.dim() + 1."
   ]
  },
  {
   "cell_type": "code",
   "execution_count": 242,
   "id": "e894f6e0",
   "metadata": {},
   "outputs": [
    {
     "name": "stdout",
     "output_type": "stream",
     "text": [
      "dim = -6 : torch.Size([1, 2, 1, 3, 1, 2])\n",
      "dim = -5 : torch.Size([2, 1, 1, 3, 1, 2])\n",
      "dim = -4 : torch.Size([2, 1, 1, 3, 1, 2])\n",
      "dim = -3 : torch.Size([2, 1, 3, 1, 1, 2])\n",
      "dim = -2 : torch.Size([2, 1, 3, 1, 1, 2])\n",
      "dim = -1 : torch.Size([2, 1, 3, 1, 2, 1])\n",
      "dim = 0 : torch.Size([1, 2, 1, 3, 1, 2])\n",
      "dim = 1 : torch.Size([2, 1, 1, 3, 1, 2])\n",
      "dim = 2 : torch.Size([2, 1, 1, 3, 1, 2])\n",
      "dim = 3 : torch.Size([2, 1, 3, 1, 1, 2])\n",
      "dim = 4 : torch.Size([2, 1, 3, 1, 1, 2])\n",
      "dim = 5 : torch.Size([2, 1, 3, 1, 2, 1])\n"
     ]
    }
   ],
   "source": [
    "for index in range(-tensor_1.dim()-1, tensor_1.dim()+1):\n",
    "    print(\"dim =\",index, \":\", torch.unsqueeze(tensor_1, dim=index).size() )"
   ]
  },
  {
   "cell_type": "markdown",
   "id": "98d10a8c",
   "metadata": {},
   "source": [
    "## 变形/转置 \n",
    "### transpose, swapaxes, swapdims\n",
    "1. torch.transpose(input, dim0, dim1)\n",
    "2. torch.swapaxes(input, dim0, dim1)\n",
    "3. torch.swapdims(input, dim0, dim1)  \n",
    "**dim0 与 dim1 维度交换**"
   ]
  },
  {
   "cell_type": "code",
   "execution_count": 271,
   "id": "5cfd2eea",
   "metadata": {},
   "outputs": [],
   "source": [
    "tensor_1 = torch.arange(1, 121).reshape(2, 3, 4, 5)"
   ]
  },
  {
   "cell_type": "code",
   "execution_count": null,
   "id": "20980fa1",
   "metadata": {},
   "outputs": [],
   "source": [
    "\"\"\"\n",
    "torch.transpose(tensor_1, dim0=0, dim1=2)\n",
    "torch.transpose(tensor_1, dim0=2, dim1=0)\n",
    "torch.swapaxes(tensor_1, axis0=0, axis1=2)\n",
    "torch.swapdims(tensor_1, dim0=0, dim1=2)\n",
    "\"\"\""
   ]
  },
  {
   "cell_type": "code",
   "execution_count": 272,
   "id": "dd5aa745",
   "metadata": {},
   "outputs": [
    {
     "data": {
      "text/plain": [
       "torch.Size([4, 3, 2, 5])"
      ]
     },
     "execution_count": 272,
     "metadata": {},
     "output_type": "execute_result"
    }
   ],
   "source": [
    "torch.transpose(tensor_1, dim0=0, dim1=2).size()"
   ]
  },
  {
   "cell_type": "code",
   "execution_count": 273,
   "id": "a8b9570e",
   "metadata": {},
   "outputs": [
    {
     "data": {
      "text/plain": [
       "True"
      ]
     },
     "execution_count": 273,
     "metadata": {},
     "output_type": "execute_result"
    }
   ],
   "source": [
    "torch.equal(torch.transpose(tensor_1, dim0=0, dim1=2),\n",
    "            torch.transpose(tensor_1, dim0=2, dim1=0))"
   ]
  },
  {
   "cell_type": "code",
   "execution_count": 274,
   "id": "cd82bde8",
   "metadata": {},
   "outputs": [
    {
     "data": {
      "text/plain": [
       "True"
      ]
     },
     "execution_count": 274,
     "metadata": {},
     "output_type": "execute_result"
    }
   ],
   "source": [
    "torch.equal(torch.transpose(tensor_1, dim0=0, dim1=2),\n",
    "            torch.swapaxes(tensor_1, axis0=0, axis1=2))"
   ]
  },
  {
   "cell_type": "code",
   "execution_count": 275,
   "id": "1acb2875",
   "metadata": {},
   "outputs": [
    {
     "data": {
      "text/plain": [
       "True"
      ]
     },
     "execution_count": 275,
     "metadata": {},
     "output_type": "execute_result"
    }
   ],
   "source": [
    "torch.equal(torch.transpose(tensor_1, dim0=0, dim1=2),\n",
    "            torch.swapdims(tensor_1, dim0=0, dim1=2))"
   ]
  },
  {
   "cell_type": "markdown",
   "id": "339459bc",
   "metadata": {},
   "source": [
    "### movedim, moveaxis\n",
    "1. torch.movedim(input, source, destination)\n",
    "2. torch.moveaxis(input, source, destination)  \n",
    "**move source-th dim to destination-th dim**"
   ]
  },
  {
   "cell_type": "code",
   "execution_count": null,
   "id": "7af60ba0",
   "metadata": {},
   "outputs": [],
   "source": [
    "\"\"\"\n",
    "torch.movedim(tensor_1, 0, 2)\n",
    "torch.moveaxis(tensor_1, 0, 2)\n",
    "\"\"\""
   ]
  },
  {
   "cell_type": "code",
   "execution_count": 277,
   "id": "54bad4bd",
   "metadata": {},
   "outputs": [
    {
     "data": {
      "text/plain": [
       "torch.Size([3, 4, 2, 5])"
      ]
     },
     "execution_count": 277,
     "metadata": {},
     "output_type": "execute_result"
    }
   ],
   "source": [
    "torch.movedim(tensor_1, 0, 2).size()"
   ]
  },
  {
   "cell_type": "code",
   "execution_count": 279,
   "id": "46f36443",
   "metadata": {},
   "outputs": [
    {
     "data": {
      "text/plain": [
       "True"
      ]
     },
     "execution_count": 279,
     "metadata": {},
     "output_type": "execute_result"
    }
   ],
   "source": [
    "torch.equal(torch.movedim(tensor_1, 0, 2),\n",
    "            torch.moveaxis(tensor_1, 0, 2))"
   ]
  },
  {
   "cell_type": "code",
   "execution_count": 278,
   "id": "fd6e4dc5",
   "metadata": {},
   "outputs": [
    {
     "data": {
      "text/plain": [
       "False"
      ]
     },
     "execution_count": 278,
     "metadata": {},
     "output_type": "execute_result"
    }
   ],
   "source": [
    "torch.equal(torch.transpose(tensor_1, dim0=0, dim1=2),\n",
    "            torch.movedim(tensor_1, 0, 2))"
   ]
  },
  {
   "cell_type": "code",
   "execution_count": 45,
   "id": "a6c85c2d",
   "metadata": {
    "scrolled": true
   },
   "outputs": [
    {
     "data": {
      "text/plain": [
       "torch.Size([3, 2, 5, 4])"
      ]
     },
     "execution_count": 45,
     "metadata": {},
     "output_type": "execute_result"
    }
   ],
   "source": [
    "torch.movedim(tensor_1, (1, 2), (0, 3)).size()"
   ]
  },
  {
   "cell_type": "markdown",
   "id": "ae002c37",
   "metadata": {},
   "source": [
    "### torch.t\n",
    "torch.t(input)  \n",
    "1. 0-D and 1-D tensors are returned as is. \n",
    "2. When input is a 2-D tensor this is equivalent to transpose(input, 0, 1)."
   ]
  },
  {
   "cell_type": "markdown",
   "id": "e5c40d5b",
   "metadata": {},
   "source": [
    "* 一维"
   ]
  },
  {
   "cell_type": "code",
   "execution_count": 97,
   "id": "62fcd054",
   "metadata": {},
   "outputs": [
    {
     "data": {
      "text/plain": [
       "tensor([1, 2, 3])"
      ]
     },
     "execution_count": 97,
     "metadata": {},
     "output_type": "execute_result"
    }
   ],
   "source": [
    "torch.t(torch.tensor([1,2,3]))"
   ]
  },
  {
   "cell_type": "markdown",
   "id": "938ea1bf",
   "metadata": {},
   "source": [
    "* 二维"
   ]
  },
  {
   "cell_type": "code",
   "execution_count": null,
   "id": "973585c7",
   "metadata": {},
   "outputs": [],
   "source": [
    "\"\"\"\n",
    "torch.t(torch.tensor([[1,2,3],[4,5,6]]))\n",
    "torch.tensor([[1,2,3],[4,5,6]]).T\n",
    "torch.transpose(torch.tensor([[1,2,3],[4,5,6]]), 0, 1)\n",
    "\"\"\""
   ]
  },
  {
   "cell_type": "code",
   "execution_count": 98,
   "id": "63d0c91e",
   "metadata": {},
   "outputs": [
    {
     "data": {
      "text/plain": [
       "tensor([[1, 4],\n",
       "        [2, 5],\n",
       "        [3, 6]])"
      ]
     },
     "execution_count": 98,
     "metadata": {},
     "output_type": "execute_result"
    }
   ],
   "source": [
    "torch.t(torch.tensor([[1,2,3],[4,5,6]]))"
   ]
  },
  {
   "cell_type": "code",
   "execution_count": 103,
   "id": "5d59b22c",
   "metadata": {},
   "outputs": [
    {
     "data": {
      "text/plain": [
       "True"
      ]
     },
     "execution_count": 103,
     "metadata": {},
     "output_type": "execute_result"
    }
   ],
   "source": [
    "torch.equal(torch.t(torch.tensor([[1,2,3],[4,5,6]])),\n",
    "            torch.tensor([[1,2,3],[4,5,6]]).T)"
   ]
  },
  {
   "cell_type": "code",
   "execution_count": 100,
   "id": "62be122e",
   "metadata": {},
   "outputs": [
    {
     "data": {
      "text/plain": [
       "True"
      ]
     },
     "execution_count": 100,
     "metadata": {},
     "output_type": "execute_result"
    }
   ],
   "source": [
    "torch.equal(torch.t(torch.tensor([[1,2,3],[4,5,6]])),\n",
    "            torch.transpose(torch.tensor([[1,2,3],[4,5,6]]), 0, 1))"
   ]
  },
  {
   "cell_type": "markdown",
   "id": "cfe6cf22",
   "metadata": {},
   "source": [
    "## 拼接"
   ]
  },
  {
   "cell_type": "code",
   "execution_count": 80,
   "id": "01be7abc",
   "metadata": {},
   "outputs": [],
   "source": [
    "tensor_1 = torch.arange(1, 4)\n",
    "tensor_2 = torch.arange(4, 7)\n",
    "tensor_3 = torch.arange(1, 7).reshape(2, 3)\n",
    "tensor_4 = torch.arange(7, 13).reshape(2, 3)"
   ]
  },
  {
   "cell_type": "markdown",
   "id": "d30415bf",
   "metadata": {},
   "source": [
    "### 水平拼接 cat, hstack, column_stack\n",
    "1. torch.cat(tensors, dim=0, \\*, out=None)  \n",
    "2. torch.hstack(tensors, \\*, out=None) 二维或多维张量沿着dim=1拼接，一维张量沿着dim=0拼接  \n",
    "3. torch.column_stack(tensors, \\*, out=None) 二维或多维张量沿着dim=1拼接，一维张量转置成列向量，再沿着dim=1拼接  "
   ]
  },
  {
   "cell_type": "markdown",
   "id": "231a2474",
   "metadata": {},
   "source": [
    "* 一维"
   ]
  },
  {
   "cell_type": "code",
   "execution_count": 81,
   "id": "90830e1c",
   "metadata": {},
   "outputs": [
    {
     "name": "stdout",
     "output_type": "stream",
     "text": [
      "tensor([1, 2, 3])\n",
      "tensor([4, 5, 6])\n"
     ]
    }
   ],
   "source": [
    "print(tensor_1)\n",
    "print(tensor_2)"
   ]
  },
  {
   "cell_type": "code",
   "execution_count": null,
   "id": "b4884bae",
   "metadata": {},
   "outputs": [],
   "source": [
    "\"\"\"\n",
    "torch.cat((tensor_1, tensor_2), dim=0)\n",
    "torch.hstack((tensor_1, tensor_2))\n",
    "\"\"\""
   ]
  },
  {
   "cell_type": "code",
   "execution_count": 398,
   "id": "95549809",
   "metadata": {},
   "outputs": [
    {
     "data": {
      "text/plain": [
       "tensor([1, 2, 3, 4, 5, 6])"
      ]
     },
     "execution_count": 398,
     "metadata": {},
     "output_type": "execute_result"
    }
   ],
   "source": [
    "torch.cat((tensor_1, tensor_2), dim=0)"
   ]
  },
  {
   "cell_type": "code",
   "execution_count": 83,
   "id": "19265926",
   "metadata": {},
   "outputs": [
    {
     "data": {
      "text/plain": [
       "True"
      ]
     },
     "execution_count": 83,
     "metadata": {},
     "output_type": "execute_result"
    }
   ],
   "source": [
    "torch.equal(torch.cat((tensor_1, tensor_2), dim=0),\n",
    "            torch.hstack((tensor_1, tensor_2)))"
   ]
  },
  {
   "cell_type": "code",
   "execution_count": null,
   "id": "bf47f813",
   "metadata": {},
   "outputs": [],
   "source": [
    "\"\"\"\n",
    "torch.column_stack((tensor_1, tensor_2))\n",
    "torch.cat((tensor_1.reshape(tensor_1.numel(),1), tensor_2.reshape(tensor_2.numel(),1)), dim=1)\n",
    "torch.stack((tensor_1, tensor_2), dim=1)\n",
    "\"\"\""
   ]
  },
  {
   "cell_type": "code",
   "execution_count": 400,
   "id": "d35da9c0",
   "metadata": {},
   "outputs": [
    {
     "data": {
      "text/plain": [
       "tensor([[1, 4],\n",
       "        [2, 5],\n",
       "        [3, 6]])"
      ]
     },
     "execution_count": 400,
     "metadata": {},
     "output_type": "execute_result"
    }
   ],
   "source": [
    "torch.column_stack((tensor_1, tensor_2))"
   ]
  },
  {
   "cell_type": "code",
   "execution_count": 86,
   "id": "7453c6dc",
   "metadata": {},
   "outputs": [
    {
     "data": {
      "text/plain": [
       "True"
      ]
     },
     "execution_count": 86,
     "metadata": {},
     "output_type": "execute_result"
    }
   ],
   "source": [
    "torch.equal(torch.column_stack((tensor_1, tensor_2)),\n",
    "            torch.cat((tensor_1.reshape(tensor_1.numel(),1), tensor_2.reshape(tensor_2.numel(),1)), dim=1))"
   ]
  },
  {
   "cell_type": "code",
   "execution_count": 85,
   "id": "ab370b4f",
   "metadata": {},
   "outputs": [
    {
     "data": {
      "text/plain": [
       "True"
      ]
     },
     "execution_count": 85,
     "metadata": {},
     "output_type": "execute_result"
    }
   ],
   "source": [
    "torch.equal(torch.column_stack((tensor_1, tensor_2)),\n",
    "            torch.stack((tensor_1, tensor_2), dim=1))"
   ]
  },
  {
   "cell_type": "markdown",
   "id": "b40cea31",
   "metadata": {},
   "source": [
    "* 二维"
   ]
  },
  {
   "cell_type": "code",
   "execution_count": 403,
   "id": "8f45f696",
   "metadata": {},
   "outputs": [
    {
     "name": "stdout",
     "output_type": "stream",
     "text": [
      "tensor([[1, 2, 3],\n",
      "        [4, 5, 6]])\n",
      "tensor([[ 7,  8,  9],\n",
      "        [10, 11, 12]])\n"
     ]
    }
   ],
   "source": [
    "print(tensor_3)\n",
    "print(tensor_4)"
   ]
  },
  {
   "cell_type": "code",
   "execution_count": null,
   "id": "42ef21a1",
   "metadata": {},
   "outputs": [],
   "source": [
    "\"\"\"\n",
    "torch.cat((tensor_3, tensor_4), dim=1)\n",
    "torch.hstack((tensor_3, tensor_4))\n",
    "torch.column_stack((tensor_3, tensor_4))\n",
    "\"\"\""
   ]
  },
  {
   "cell_type": "code",
   "execution_count": 404,
   "id": "0cc8f586",
   "metadata": {},
   "outputs": [
    {
     "data": {
      "text/plain": [
       "tensor([[ 1,  2,  3,  7,  8,  9],\n",
       "        [ 4,  5,  6, 10, 11, 12]])"
      ]
     },
     "execution_count": 404,
     "metadata": {},
     "output_type": "execute_result"
    }
   ],
   "source": [
    "torch.cat((tensor_3, tensor_4), dim=1)"
   ]
  },
  {
   "cell_type": "code",
   "execution_count": 87,
   "id": "729ed042",
   "metadata": {},
   "outputs": [
    {
     "data": {
      "text/plain": [
       "True"
      ]
     },
     "execution_count": 87,
     "metadata": {},
     "output_type": "execute_result"
    }
   ],
   "source": [
    "torch.equal(torch.cat((tensor_3, tensor_4), dim=1),\n",
    "            torch.hstack((tensor_3, tensor_4)))"
   ]
  },
  {
   "cell_type": "code",
   "execution_count": 88,
   "id": "d0e20975",
   "metadata": {},
   "outputs": [
    {
     "data": {
      "text/plain": [
       "True"
      ]
     },
     "execution_count": 88,
     "metadata": {},
     "output_type": "execute_result"
    }
   ],
   "source": [
    "torch.equal(torch.cat((tensor_3, tensor_4), dim=1),\n",
    "            torch.column_stack((tensor_3, tensor_4)))"
   ]
  },
  {
   "cell_type": "markdown",
   "id": "bb6a1100",
   "metadata": {},
   "source": [
    "### 垂直拼接 cat, vstack, row_stack\n",
    "1. torch.cat(tensors, dim=0, \\*, out=None)  \n",
    "2. torch.vstack(tensors, \\*, out=None) $\\iff$ torch.row_stack(tensors, *, out=None)"
   ]
  },
  {
   "cell_type": "markdown",
   "id": "695c9da0",
   "metadata": {},
   "source": [
    "* 一维"
   ]
  },
  {
   "cell_type": "code",
   "execution_count": 92,
   "id": "51d0f20b",
   "metadata": {},
   "outputs": [
    {
     "name": "stdout",
     "output_type": "stream",
     "text": [
      "tensor([1, 2, 3])\n",
      "tensor([4, 5, 6])\n"
     ]
    }
   ],
   "source": [
    "print(tensor_1)\n",
    "print(tensor_2)"
   ]
  },
  {
   "cell_type": "code",
   "execution_count": null,
   "id": "3e2e49d7",
   "metadata": {},
   "outputs": [],
   "source": [
    "\"\"\"\n",
    "torch.vstack((tensor_1, tensor_2))\n",
    "torch.row_stack((tensor_1, tensor_2))\n",
    "torch.stack((tensor_1, tensor_2), dim=0)\n",
    "\"\"\""
   ]
  },
  {
   "cell_type": "code",
   "execution_count": 93,
   "id": "7d7ebb25",
   "metadata": {},
   "outputs": [
    {
     "data": {
      "text/plain": [
       "tensor([[1, 2, 3],\n",
       "        [4, 5, 6]])"
      ]
     },
     "execution_count": 93,
     "metadata": {},
     "output_type": "execute_result"
    }
   ],
   "source": [
    "torch.vstack((tensor_1, tensor_2))"
   ]
  },
  {
   "cell_type": "code",
   "execution_count": 94,
   "id": "4aeb18b8",
   "metadata": {},
   "outputs": [
    {
     "data": {
      "text/plain": [
       "True"
      ]
     },
     "execution_count": 94,
     "metadata": {},
     "output_type": "execute_result"
    }
   ],
   "source": [
    "torch.equal(torch.vstack((tensor_1, tensor_2)),\n",
    "            torch.row_stack((tensor_1, tensor_2)))"
   ]
  },
  {
   "cell_type": "code",
   "execution_count": 95,
   "id": "c2cc9508",
   "metadata": {},
   "outputs": [
    {
     "data": {
      "text/plain": [
       "True"
      ]
     },
     "execution_count": 95,
     "metadata": {},
     "output_type": "execute_result"
    }
   ],
   "source": [
    "torch.equal(torch.vstack((tensor_1, tensor_2)),\n",
    "            torch.stack((tensor_1, tensor_2), dim=0))"
   ]
  },
  {
   "cell_type": "markdown",
   "id": "6beed4cd",
   "metadata": {},
   "source": [
    "* 二维"
   ]
  },
  {
   "cell_type": "code",
   "execution_count": 411,
   "id": "b1f93bab",
   "metadata": {},
   "outputs": [
    {
     "name": "stdout",
     "output_type": "stream",
     "text": [
      "tensor([[1, 2, 3],\n",
      "        [4, 5, 6]])\n",
      "tensor([[ 7,  8,  9],\n",
      "        [10, 11, 12]])\n"
     ]
    }
   ],
   "source": [
    "print(tensor_3)\n",
    "print(tensor_4)"
   ]
  },
  {
   "cell_type": "code",
   "execution_count": null,
   "id": "42323546",
   "metadata": {},
   "outputs": [],
   "source": [
    "\"\"\"\n",
    "torch.cat((tensor_3, tensor_4), dim=0)\n",
    "torch.vstack((tensor_3, tensor_4))\n",
    "torch.row_stack((tensor_3, tensor_4))\n",
    "\"\"\""
   ]
  },
  {
   "cell_type": "code",
   "execution_count": 96,
   "id": "e10eb8b1",
   "metadata": {},
   "outputs": [
    {
     "data": {
      "text/plain": [
       "tensor([[ 1,  2,  3],\n",
       "        [ 4,  5,  6],\n",
       "        [ 7,  8,  9],\n",
       "        [10, 11, 12]])"
      ]
     },
     "execution_count": 96,
     "metadata": {},
     "output_type": "execute_result"
    }
   ],
   "source": [
    "torch.cat((tensor_3, tensor_4), dim=0)"
   ]
  },
  {
   "cell_type": "code",
   "execution_count": 97,
   "id": "8c12117f",
   "metadata": {},
   "outputs": [
    {
     "data": {
      "text/plain": [
       "True"
      ]
     },
     "execution_count": 97,
     "metadata": {},
     "output_type": "execute_result"
    }
   ],
   "source": [
    "torch.equal(torch.cat((tensor_3, tensor_4), dim=0),\n",
    "            torch.vstack((tensor_3, tensor_4)))"
   ]
  },
  {
   "cell_type": "code",
   "execution_count": 98,
   "id": "228c6143",
   "metadata": {},
   "outputs": [
    {
     "data": {
      "text/plain": [
       "True"
      ]
     },
     "execution_count": 98,
     "metadata": {},
     "output_type": "execute_result"
    }
   ],
   "source": [
    "torch.equal(torch.cat((tensor_3, tensor_4), dim=0),\n",
    "            torch.row_stack((tensor_3, tensor_4)))"
   ]
  },
  {
   "cell_type": "markdown",
   "id": "3751ed5e",
   "metadata": {},
   "source": [
    "### 扩维拼接 stack, dstack\n",
    "1. torch.cat(tensors, dim=0, \\*, out=None) 沿着指定维度拼接，不增加维度\n",
    "2. torch.stack(tensors, dim=0, \\*, out=None) 先增加指定维度，再沿着新的维度拼接\n",
    "3. torch.dstack(tensors, \\*, out=None) 沿第三维(dim=2)拼接"
   ]
  },
  {
   "cell_type": "markdown",
   "id": "028eda2e",
   "metadata": {},
   "source": [
    "* 一维"
   ]
  },
  {
   "cell_type": "code",
   "execution_count": 99,
   "id": "ac618fae",
   "metadata": {},
   "outputs": [
    {
     "name": "stdout",
     "output_type": "stream",
     "text": [
      "tensor([1, 2, 3])\n",
      "tensor([4, 5, 6])\n"
     ]
    }
   ],
   "source": [
    "print(tensor_1)\n",
    "print(tensor_2)"
   ]
  },
  {
   "cell_type": "code",
   "execution_count": 100,
   "id": "13cd7769",
   "metadata": {},
   "outputs": [
    {
     "data": {
      "text/plain": [
       "tensor([[1, 2, 3],\n",
       "        [4, 5, 6]])"
      ]
     },
     "execution_count": 100,
     "metadata": {},
     "output_type": "execute_result"
    }
   ],
   "source": [
    "torch.stack((tensor_1, tensor_2), dim=0)"
   ]
  },
  {
   "cell_type": "code",
   "execution_count": 101,
   "id": "a158d6e6",
   "metadata": {},
   "outputs": [
    {
     "data": {
      "text/plain": [
       "tensor([[1, 4],\n",
       "        [2, 5],\n",
       "        [3, 6]])"
      ]
     },
     "execution_count": 101,
     "metadata": {},
     "output_type": "execute_result"
    }
   ],
   "source": [
    "torch.stack((tensor_1, tensor_2), dim=1)"
   ]
  },
  {
   "cell_type": "code",
   "execution_count": 102,
   "id": "3b84a79c",
   "metadata": {},
   "outputs": [
    {
     "data": {
      "text/plain": [
       "tensor([[[1, 4],\n",
       "         [2, 5],\n",
       "         [3, 6]]])"
      ]
     },
     "execution_count": 102,
     "metadata": {},
     "output_type": "execute_result"
    }
   ],
   "source": [
    "torch.dstack((tensor_1, tensor_2))"
   ]
  },
  {
   "cell_type": "code",
   "execution_count": 103,
   "id": "7f8161d8",
   "metadata": {},
   "outputs": [
    {
     "data": {
      "text/plain": [
       "False"
      ]
     },
     "execution_count": 103,
     "metadata": {},
     "output_type": "execute_result"
    }
   ],
   "source": [
    "torch.equal(torch.stack((tensor_1, tensor_2), dim=1),\n",
    "            torch.dstack((tensor_1, tensor_2)))"
   ]
  },
  {
   "cell_type": "markdown",
   "id": "345914f0",
   "metadata": {},
   "source": [
    "* 二维"
   ]
  },
  {
   "cell_type": "code",
   "execution_count": 419,
   "id": "73e6cf74",
   "metadata": {},
   "outputs": [
    {
     "name": "stdout",
     "output_type": "stream",
     "text": [
      "tensor([[1, 2, 3],\n",
      "        [4, 5, 6]])\n",
      "tensor([[ 7,  8,  9],\n",
      "        [10, 11, 12]])\n"
     ]
    }
   ],
   "source": [
    "print(tensor_3)\n",
    "print(tensor_4)"
   ]
  },
  {
   "cell_type": "code",
   "execution_count": 420,
   "id": "9345e81e",
   "metadata": {},
   "outputs": [
    {
     "data": {
      "text/plain": [
       "tensor([[[ 1,  2,  3],\n",
       "         [ 4,  5,  6]],\n",
       "\n",
       "        [[ 7,  8,  9],\n",
       "         [10, 11, 12]]])"
      ]
     },
     "execution_count": 420,
     "metadata": {},
     "output_type": "execute_result"
    }
   ],
   "source": [
    "torch.stack((tensor_3, tensor_4), dim=0)"
   ]
  },
  {
   "cell_type": "code",
   "execution_count": 421,
   "id": "c67588b7",
   "metadata": {},
   "outputs": [
    {
     "data": {
      "text/plain": [
       "tensor([[[ 1,  2,  3],\n",
       "         [ 7,  8,  9]],\n",
       "\n",
       "        [[ 4,  5,  6],\n",
       "         [10, 11, 12]]])"
      ]
     },
     "execution_count": 421,
     "metadata": {},
     "output_type": "execute_result"
    }
   ],
   "source": [
    "torch.stack((tensor_3, tensor_4), dim=1)"
   ]
  },
  {
   "cell_type": "code",
   "execution_count": 104,
   "id": "1093d71d",
   "metadata": {},
   "outputs": [
    {
     "data": {
      "text/plain": [
       "tensor([[[ 1,  7],\n",
       "         [ 2,  8],\n",
       "         [ 3,  9]],\n",
       "\n",
       "        [[ 4, 10],\n",
       "         [ 5, 11],\n",
       "         [ 6, 12]]])"
      ]
     },
     "execution_count": 104,
     "metadata": {},
     "output_type": "execute_result"
    }
   ],
   "source": [
    "torch.stack((tensor_3, tensor_4), dim=2)"
   ]
  },
  {
   "cell_type": "code",
   "execution_count": 105,
   "id": "ed43039e",
   "metadata": {},
   "outputs": [
    {
     "data": {
      "text/plain": [
       "tensor([[[ 1,  7],\n",
       "         [ 2,  8],\n",
       "         [ 3,  9]],\n",
       "\n",
       "        [[ 4, 10],\n",
       "         [ 5, 11],\n",
       "         [ 6, 12]]])"
      ]
     },
     "execution_count": 105,
     "metadata": {},
     "output_type": "execute_result"
    }
   ],
   "source": [
    "torch.dstack((tensor_3, tensor_4))"
   ]
  },
  {
   "cell_type": "code",
   "execution_count": 106,
   "id": "6d6a2fac",
   "metadata": {},
   "outputs": [
    {
     "data": {
      "text/plain": [
       "True"
      ]
     },
     "execution_count": 106,
     "metadata": {},
     "output_type": "execute_result"
    }
   ],
   "source": [
    "torch.equal(torch.stack((tensor_3, tensor_4), dim=2),\n",
    "            torch.dstack((tensor_3, tensor_4)))"
   ]
  },
  {
   "cell_type": "markdown",
   "id": "daa3085c",
   "metadata": {},
   "source": [
    "### torch.tile(input, dims) 维度复制\n",
    "通过复制输入元素来构造张量。dims指定每个维度中的重复次数。"
   ]
  },
  {
   "cell_type": "markdown",
   "id": "660f3f53",
   "metadata": {},
   "source": [
    "* 一维"
   ]
  },
  {
   "cell_type": "code",
   "execution_count": 424,
   "id": "355c6e64",
   "metadata": {},
   "outputs": [
    {
     "name": "stdout",
     "output_type": "stream",
     "text": [
      "tensor([1, 2, 3])\n"
     ]
    }
   ],
   "source": [
    "print(tensor_1)"
   ]
  },
  {
   "cell_type": "code",
   "execution_count": 425,
   "id": "fcda4a28",
   "metadata": {},
   "outputs": [
    {
     "data": {
      "text/plain": [
       "tensor([1, 2, 3, 1, 2, 3])"
      ]
     },
     "execution_count": 425,
     "metadata": {},
     "output_type": "execute_result"
    }
   ],
   "source": [
    "torch.tile(tensor_1, (2,))"
   ]
  },
  {
   "cell_type": "code",
   "execution_count": 426,
   "id": "af3f1ae5",
   "metadata": {},
   "outputs": [
    {
     "data": {
      "text/plain": [
       "tensor([[1, 2, 3],\n",
       "        [1, 2, 3]])"
      ]
     },
     "execution_count": 426,
     "metadata": {},
     "output_type": "execute_result"
    }
   ],
   "source": [
    "torch.tile(tensor_1, (2, 1))"
   ]
  },
  {
   "cell_type": "code",
   "execution_count": 427,
   "id": "71937c95",
   "metadata": {},
   "outputs": [
    {
     "data": {
      "text/plain": [
       "tensor([[1, 2, 3, 1, 2, 3]])"
      ]
     },
     "execution_count": 427,
     "metadata": {},
     "output_type": "execute_result"
    }
   ],
   "source": [
    "torch.tile(tensor_1, (1, 2))"
   ]
  },
  {
   "cell_type": "code",
   "execution_count": 107,
   "id": "7cdf68c8",
   "metadata": {},
   "outputs": [
    {
     "data": {
      "text/plain": [
       "False"
      ]
     },
     "execution_count": 107,
     "metadata": {},
     "output_type": "execute_result"
    }
   ],
   "source": [
    "torch.equal(torch.tile(tensor_1, (2,)),\n",
    "            torch.tile(tensor_1, (1, 2)))"
   ]
  },
  {
   "cell_type": "code",
   "execution_count": 428,
   "id": "b8f8022e",
   "metadata": {},
   "outputs": [
    {
     "data": {
      "text/plain": [
       "tensor([[1, 2, 3, 1, 2, 3],\n",
       "        [1, 2, 3, 1, 2, 3]])"
      ]
     },
     "execution_count": 428,
     "metadata": {},
     "output_type": "execute_result"
    }
   ],
   "source": [
    "torch.tile(tensor_1, (2, 2))"
   ]
  },
  {
   "cell_type": "markdown",
   "id": "7dfcccfd",
   "metadata": {},
   "source": [
    "* 二维"
   ]
  },
  {
   "cell_type": "code",
   "execution_count": 108,
   "id": "ac8625c3",
   "metadata": {},
   "outputs": [
    {
     "data": {
      "text/plain": [
       "tensor([[1, 2, 3],\n",
       "        [4, 5, 6]])"
      ]
     },
     "execution_count": 108,
     "metadata": {},
     "output_type": "execute_result"
    }
   ],
   "source": [
    "torch.tile(tensor_3, (1, 1))"
   ]
  },
  {
   "cell_type": "code",
   "execution_count": null,
   "id": "f43e9798",
   "metadata": {},
   "outputs": [],
   "source": [
    "\"\"\"\n",
    "torch.tile(tensor_3, (2, 1))\n",
    "torch.vstack((tensor_3, tensor_3))\n",
    "tensor_3.tile((2, 1))\n",
    "\"\"\""
   ]
  },
  {
   "cell_type": "code",
   "execution_count": 109,
   "id": "244297a2",
   "metadata": {},
   "outputs": [
    {
     "data": {
      "text/plain": [
       "tensor([[1, 2, 3],\n",
       "        [4, 5, 6],\n",
       "        [1, 2, 3],\n",
       "        [4, 5, 6]])"
      ]
     },
     "execution_count": 109,
     "metadata": {},
     "output_type": "execute_result"
    }
   ],
   "source": [
    "torch.tile(tensor_3, (2, 1))"
   ]
  },
  {
   "cell_type": "code",
   "execution_count": 110,
   "id": "780ea36f",
   "metadata": {},
   "outputs": [
    {
     "data": {
      "text/plain": [
       "True"
      ]
     },
     "execution_count": 110,
     "metadata": {},
     "output_type": "execute_result"
    }
   ],
   "source": [
    "torch.equal(torch.tile(tensor_3, (2, 1)),\n",
    "            torch.vstack((tensor_3, tensor_3)))"
   ]
  },
  {
   "cell_type": "code",
   "execution_count": 111,
   "id": "ea4a648f",
   "metadata": {},
   "outputs": [
    {
     "data": {
      "text/plain": [
       "True"
      ]
     },
     "execution_count": 111,
     "metadata": {},
     "output_type": "execute_result"
    }
   ],
   "source": [
    "torch.equal(torch.tile(tensor_3, (2, 1)),\n",
    "            tensor_3.tile((2, 1)))"
   ]
  },
  {
   "cell_type": "code",
   "execution_count": null,
   "id": "656e3d04",
   "metadata": {},
   "outputs": [],
   "source": [
    "\"\"\"\n",
    "torch.tile(tensor_3, (1, 2))\n",
    "torch.tile(tensor_3, (2,))\n",
    "torch.hstack((tensor_3, tensor_3))\n",
    "\"\"\""
   ]
  },
  {
   "cell_type": "code",
   "execution_count": 112,
   "id": "be2f204e",
   "metadata": {},
   "outputs": [
    {
     "data": {
      "text/plain": [
       "tensor([[1, 2, 3, 1, 2, 3],\n",
       "        [4, 5, 6, 4, 5, 6]])"
      ]
     },
     "execution_count": 112,
     "metadata": {},
     "output_type": "execute_result"
    }
   ],
   "source": [
    "torch.tile(tensor_3, (1, 2))"
   ]
  },
  {
   "cell_type": "code",
   "execution_count": 113,
   "id": "399df4ef",
   "metadata": {},
   "outputs": [
    {
     "data": {
      "text/plain": [
       "True"
      ]
     },
     "execution_count": 113,
     "metadata": {},
     "output_type": "execute_result"
    }
   ],
   "source": [
    "torch.equal(torch.tile(tensor_3, (1, 2)),\n",
    "            torch.tile(tensor_3, (2,)))"
   ]
  },
  {
   "cell_type": "code",
   "execution_count": 114,
   "id": "d89f675b",
   "metadata": {},
   "outputs": [
    {
     "data": {
      "text/plain": [
       "True"
      ]
     },
     "execution_count": 114,
     "metadata": {},
     "output_type": "execute_result"
    }
   ],
   "source": [
    "torch.equal(torch.tile(tensor_3, (1, 2)),\n",
    "            torch.hstack((tensor_3, tensor_3)))"
   ]
  },
  {
   "cell_type": "code",
   "execution_count": 436,
   "id": "9f248730",
   "metadata": {},
   "outputs": [
    {
     "data": {
      "text/plain": [
       "tensor([[1, 2, 3, 1, 2, 3],\n",
       "        [4, 5, 6, 4, 5, 6],\n",
       "        [1, 2, 3, 1, 2, 3],\n",
       "        [4, 5, 6, 4, 5, 6]])"
      ]
     },
     "execution_count": 436,
     "metadata": {},
     "output_type": "execute_result"
    }
   ],
   "source": [
    "torch.tile(tensor_3, (2, 2))"
   ]
  },
  {
   "cell_type": "markdown",
   "id": "3b330b46",
   "metadata": {},
   "source": [
    "## 切块(chunk)"
   ]
  },
  {
   "cell_type": "markdown",
   "id": "41845f41",
   "metadata": {},
   "source": [
    "### torch.index_select\n",
    "torch.index_select(input, dim, index, \\*, out=None)  \n",
    "**从tensor的dim维中，取指定index的所有元素**"
   ]
  },
  {
   "cell_type": "markdown",
   "id": "d634bda0",
   "metadata": {},
   "source": [
    "* 二维"
   ]
  },
  {
   "cell_type": "code",
   "execution_count": 116,
   "id": "4b45f0a2",
   "metadata": {},
   "outputs": [],
   "source": [
    "tensor_1 = torch.arange(1, 10).reshape(3, 3)"
   ]
  },
  {
   "cell_type": "code",
   "execution_count": 117,
   "id": "c53152f3",
   "metadata": {},
   "outputs": [
    {
     "data": {
      "text/plain": [
       "tensor([[1, 2, 3],\n",
       "        [4, 5, 6],\n",
       "        [7, 8, 9]])"
      ]
     },
     "execution_count": 117,
     "metadata": {},
     "output_type": "execute_result"
    }
   ],
   "source": [
    "tensor_1"
   ]
  },
  {
   "cell_type": "code",
   "execution_count": null,
   "id": "7b0ae2e7",
   "metadata": {},
   "outputs": [],
   "source": [
    "\"\"\"\n",
    "torch.index_select(tensor_1, dim=0, index=torch.tensor(1))\n",
    "torch.index_select(tensor_1, dim=0, index=torch.tensor([1])\n",
    "\"\"\""
   ]
  },
  {
   "cell_type": "code",
   "execution_count": 123,
   "id": "648ac049",
   "metadata": {},
   "outputs": [
    {
     "data": {
      "text/plain": [
       "tensor([[4, 5, 6]])"
      ]
     },
     "execution_count": 123,
     "metadata": {},
     "output_type": "execute_result"
    }
   ],
   "source": [
    "torch.index_select(tensor_1, dim=0, index=torch.tensor(1))"
   ]
  },
  {
   "cell_type": "code",
   "execution_count": 124,
   "id": "23b977f7",
   "metadata": {},
   "outputs": [
    {
     "data": {
      "text/plain": [
       "True"
      ]
     },
     "execution_count": 124,
     "metadata": {},
     "output_type": "execute_result"
    }
   ],
   "source": [
    "torch.equal(torch.index_select(tensor_1, dim=0, index=torch.tensor(1)),\n",
    "            torch.index_select(tensor_1, dim=0, index=torch.tensor([1])))"
   ]
  },
  {
   "cell_type": "code",
   "execution_count": 120,
   "id": "f762ac4e",
   "metadata": {},
   "outputs": [
    {
     "data": {
      "text/plain": [
       "tensor([[7, 8, 9],\n",
       "        [4, 5, 6],\n",
       "        [7, 8, 9]])"
      ]
     },
     "execution_count": 120,
     "metadata": {},
     "output_type": "execute_result"
    }
   ],
   "source": [
    "torch.index_select(tensor_1, dim=0, index=torch.tensor([2, 1, 2]))"
   ]
  },
  {
   "cell_type": "code",
   "execution_count": 121,
   "id": "93d7d545",
   "metadata": {},
   "outputs": [
    {
     "data": {
      "text/plain": [
       "tensor([[2],\n",
       "        [5],\n",
       "        [8]])"
      ]
     },
     "execution_count": 121,
     "metadata": {},
     "output_type": "execute_result"
    }
   ],
   "source": [
    "torch.index_select(tensor_1, dim=1, index=torch.tensor(1))"
   ]
  },
  {
   "cell_type": "code",
   "execution_count": 122,
   "id": "c4e1839b",
   "metadata": {},
   "outputs": [
    {
     "data": {
      "text/plain": [
       "tensor([[3, 2, 3],\n",
       "        [6, 5, 6],\n",
       "        [9, 8, 9]])"
      ]
     },
     "execution_count": 122,
     "metadata": {},
     "output_type": "execute_result"
    }
   ],
   "source": [
    "torch.index_select(tensor_1, dim=1, index=torch.tensor([2, 1, 2]))"
   ]
  },
  {
   "cell_type": "markdown",
   "id": "a54dda29",
   "metadata": {},
   "source": [
    "* 三维"
   ]
  },
  {
   "cell_type": "code",
   "execution_count": 491,
   "id": "3d810826",
   "metadata": {},
   "outputs": [],
   "source": [
    "tensor_2 = torch.arange(1, 25).reshape(2, 3, 4)"
   ]
  },
  {
   "cell_type": "code",
   "execution_count": 492,
   "id": "130dfe9a",
   "metadata": {},
   "outputs": [
    {
     "data": {
      "text/plain": [
       "tensor([[[ 1,  2,  3,  4],\n",
       "         [ 5,  6,  7,  8],\n",
       "         [ 9, 10, 11, 12]],\n",
       "\n",
       "        [[13, 14, 15, 16],\n",
       "         [17, 18, 19, 20],\n",
       "         [21, 22, 23, 24]]])"
      ]
     },
     "execution_count": 492,
     "metadata": {},
     "output_type": "execute_result"
    }
   ],
   "source": [
    "tensor_2"
   ]
  },
  {
   "cell_type": "code",
   "execution_count": 493,
   "id": "0c156457",
   "metadata": {},
   "outputs": [
    {
     "data": {
      "text/plain": [
       "tensor([[[13, 14, 15, 16],\n",
       "         [17, 18, 19, 20],\n",
       "         [21, 22, 23, 24]]])"
      ]
     },
     "execution_count": 493,
     "metadata": {},
     "output_type": "execute_result"
    }
   ],
   "source": [
    "torch.index_select(tensor_2, dim=0, index=torch.tensor(1))"
   ]
  },
  {
   "cell_type": "code",
   "execution_count": 494,
   "id": "c1ecc9c8",
   "metadata": {},
   "outputs": [
    {
     "data": {
      "text/plain": [
       "tensor([[[ 5,  6,  7,  8]],\n",
       "\n",
       "        [[17, 18, 19, 20]]])"
      ]
     },
     "execution_count": 494,
     "metadata": {},
     "output_type": "execute_result"
    }
   ],
   "source": [
    "torch.index_select(tensor_2, dim=1, index=torch.tensor(1))"
   ]
  },
  {
   "cell_type": "code",
   "execution_count": 495,
   "id": "8b7a223f",
   "metadata": {},
   "outputs": [
    {
     "data": {
      "text/plain": [
       "tensor([[[ 2],\n",
       "         [ 6],\n",
       "         [10]],\n",
       "\n",
       "        [[14],\n",
       "         [18],\n",
       "         [22]]])"
      ]
     },
     "execution_count": 495,
     "metadata": {},
     "output_type": "execute_result"
    }
   ],
   "source": [
    "torch.index_select(tensor_2, dim=2, index=torch.tensor(1))"
   ]
  },
  {
   "cell_type": "markdown",
   "id": "8cc2fc8c",
   "metadata": {},
   "source": [
    "### torch.narrow\n",
    "1. torch.narrow(input, dim, start, length)  \n",
    "2. torch.narrow_copy(input, dim, start, length, \\*, out=None)  \n",
    "**从tensor的dim维中，取[start, start + length)的所有元素**"
   ]
  },
  {
   "cell_type": "markdown",
   "id": "21639314",
   "metadata": {},
   "source": [
    "* 二维"
   ]
  },
  {
   "cell_type": "code",
   "execution_count": 496,
   "id": "68e0feb2",
   "metadata": {},
   "outputs": [
    {
     "data": {
      "text/plain": [
       "tensor([[4, 5, 6],\n",
       "        [7, 8, 9]])"
      ]
     },
     "execution_count": 496,
     "metadata": {},
     "output_type": "execute_result"
    }
   ],
   "source": [
    "torch.narrow(tensor_1, dim=0, start=1, length=2)"
   ]
  },
  {
   "cell_type": "code",
   "execution_count": 497,
   "id": "4c825125",
   "metadata": {},
   "outputs": [
    {
     "data": {
      "text/plain": [
       "tensor([[2, 3],\n",
       "        [5, 6],\n",
       "        [8, 9]])"
      ]
     },
     "execution_count": 497,
     "metadata": {},
     "output_type": "execute_result"
    }
   ],
   "source": [
    "torch.narrow(tensor_1, dim=1, start=1, length=2)"
   ]
  },
  {
   "cell_type": "markdown",
   "id": "f595caf8",
   "metadata": {},
   "source": [
    "* 三维"
   ]
  },
  {
   "cell_type": "code",
   "execution_count": 499,
   "id": "7df58a5a",
   "metadata": {},
   "outputs": [
    {
     "data": {
      "text/plain": [
       "tensor([[[ 5,  6,  7,  8],\n",
       "         [ 9, 10, 11, 12]],\n",
       "\n",
       "        [[17, 18, 19, 20],\n",
       "         [21, 22, 23, 24]]])"
      ]
     },
     "execution_count": 499,
     "metadata": {},
     "output_type": "execute_result"
    }
   ],
   "source": [
    "torch.narrow(tensor_2, dim=1, start=1, length=2)"
   ]
  },
  {
   "cell_type": "code",
   "execution_count": 500,
   "id": "760ecb1c",
   "metadata": {},
   "outputs": [
    {
     "data": {
      "text/plain": [
       "tensor([[[ 2,  3],\n",
       "         [ 6,  7],\n",
       "         [10, 11]],\n",
       "\n",
       "        [[14, 15],\n",
       "         [18, 19],\n",
       "         [22, 23]]])"
      ]
     },
     "execution_count": 500,
     "metadata": {},
     "output_type": "execute_result"
    }
   ],
   "source": [
    "torch.narrow(tensor_2, dim=2, start=1, length=2)"
   ]
  },
  {
   "cell_type": "markdown",
   "id": "9c8d4ea0",
   "metadata": {},
   "source": [
    "### torch.unbind\n",
    "torch.unbind(input, dim=0)  \n",
    "**按指定维度dim切块**"
   ]
  },
  {
   "cell_type": "code",
   "execution_count": 250,
   "id": "ec386c62",
   "metadata": {},
   "outputs": [],
   "source": [
    "tensor_1 = torch.tensor([[1,2,3],[4,5,6]])"
   ]
  },
  {
   "cell_type": "code",
   "execution_count": 251,
   "id": "bafd1b47",
   "metadata": {},
   "outputs": [
    {
     "data": {
      "text/plain": [
       "(tensor([1, 2, 3]), tensor([4, 5, 6]))"
      ]
     },
     "execution_count": 251,
     "metadata": {},
     "output_type": "execute_result"
    }
   ],
   "source": [
    "torch.unbind(tensor_1, dim=0)"
   ]
  },
  {
   "cell_type": "code",
   "execution_count": 252,
   "id": "86a5c7a5",
   "metadata": {
    "scrolled": true
   },
   "outputs": [
    {
     "data": {
      "text/plain": [
       "(tensor([1, 4]), tensor([2, 5]), tensor([3, 6]))"
      ]
     },
     "execution_count": 252,
     "metadata": {},
     "output_type": "execute_result"
    }
   ],
   "source": [
    "torch.unbind(tensor_1, dim=1)"
   ]
  },
  {
   "cell_type": "markdown",
   "id": "5e084aff",
   "metadata": {},
   "source": [
    "### torch.split\n",
    "torch.split(tensor, split_size_or_sections, dim=0)  \n",
    "**按size切块**  \n",
    "let split_size_or_sections = $x$,  \n",
    "* if $x$ is int, 将tensor的dim维切分成若干块(chunk), 每块包含$x$个, 不足的放在最后一块;  \n",
    "* if $x = [x_1, x_2, \\dots, x_n]$, 将tensor的dim维切分成n个块(chunk), 第$i$个块包含$x_i$个"
   ]
  },
  {
   "cell_type": "code",
   "execution_count": 501,
   "id": "3dc4a948",
   "metadata": {},
   "outputs": [
    {
     "data": {
      "text/plain": [
       "tensor([[0, 1],\n",
       "        [2, 3],\n",
       "        [4, 5],\n",
       "        [6, 7],\n",
       "        [8, 9]])"
      ]
     },
     "execution_count": 501,
     "metadata": {},
     "output_type": "execute_result"
    }
   ],
   "source": [
    "tensor_1 = torch.arange(10).reshape(-1, 2)\n",
    "tensor_1"
   ]
  },
  {
   "cell_type": "code",
   "execution_count": 502,
   "id": "67328a8b",
   "metadata": {},
   "outputs": [
    {
     "data": {
      "text/plain": [
       "(tensor([[0, 1],\n",
       "         [2, 3]]),\n",
       " tensor([[4, 5],\n",
       "         [6, 7]]),\n",
       " tensor([[8, 9]]))"
      ]
     },
     "execution_count": 502,
     "metadata": {},
     "output_type": "execute_result"
    }
   ],
   "source": [
    "torch.split(tensor_1, 2, dim=0)"
   ]
  },
  {
   "cell_type": "code",
   "execution_count": 504,
   "id": "2d295628",
   "metadata": {},
   "outputs": [
    {
     "data": {
      "text/plain": [
       "(tensor([[0, 1]]),\n",
       " tensor([[2, 3],\n",
       "         [4, 5]]),\n",
       " tensor([[6, 7],\n",
       "         [8, 9]]))"
      ]
     },
     "execution_count": 504,
     "metadata": {},
     "output_type": "execute_result"
    }
   ],
   "source": [
    "torch.split(tensor_1, [1,2,2], dim=0)"
   ]
  },
  {
   "cell_type": "markdown",
   "id": "55e5bd31",
   "metadata": {},
   "source": [
    "### torch.tensor_split(input, indices_or_sections, dim=0)\n",
    "**按索引切块**"
   ]
  },
  {
   "cell_type": "code",
   "execution_count": 130,
   "id": "5372f689",
   "metadata": {},
   "outputs": [
    {
     "data": {
      "text/plain": [
       "tensor([[ 0,  1],\n",
       "        [ 2,  3],\n",
       "        [ 4,  5],\n",
       "        [ 6,  7],\n",
       "        [ 8,  9],\n",
       "        [10, 11],\n",
       "        [12, 13],\n",
       "        [14, 15]])"
      ]
     },
     "execution_count": 130,
     "metadata": {},
     "output_type": "execute_result"
    }
   ],
   "source": [
    "tensor_1 = torch.arange(16).reshape(-1, 2)\n",
    "tensor_1"
   ]
  },
  {
   "cell_type": "markdown",
   "id": "4ccf6410",
   "metadata": {},
   "source": [
    "let split_size_or_sections = $x$,<br>\n",
    "* if $x$ is int or torch.tensor(int), 将tensor的dim维切分成$x$块"
   ]
  },
  {
   "cell_type": "code",
   "execution_count": 133,
   "id": "2f94be00",
   "metadata": {},
   "outputs": [
    {
     "data": {
      "text/plain": [
       "(tensor([[0, 1],\n",
       "         [2, 3],\n",
       "         [4, 5]]),\n",
       " tensor([[ 6,  7],\n",
       "         [ 8,  9],\n",
       "         [10, 11]]),\n",
       " tensor([[12, 13],\n",
       "         [14, 15]]))"
      ]
     },
     "execution_count": 133,
     "metadata": {},
     "output_type": "execute_result"
    }
   ],
   "source": [
    "torch.tensor_split(tensor_1, 3, dim=0)"
   ]
  },
  {
   "cell_type": "code",
   "execution_count": 134,
   "id": "3b735f7b",
   "metadata": {},
   "outputs": [
    {
     "data": {
      "text/plain": [
       "(tensor([[0, 1],\n",
       "         [2, 3],\n",
       "         [4, 5]]),\n",
       " tensor([[ 6,  7],\n",
       "         [ 8,  9],\n",
       "         [10, 11]]),\n",
       " tensor([[12, 13],\n",
       "         [14, 15]]))"
      ]
     },
     "execution_count": 134,
     "metadata": {},
     "output_type": "execute_result"
    }
   ],
   "source": [
    "torch.tensor_split(tensor_1, torch.tensor(3), dim=0)"
   ]
  },
  {
   "cell_type": "markdown",
   "id": "dd0c3904",
   "metadata": {},
   "source": [
    "* if $x$ is list(int), tuple(int) or torch.tensor(list(int)), 将tensor的dim维按照int的索引切分成若干块"
   ]
  },
  {
   "cell_type": "code",
   "execution_count": 534,
   "id": "be6266a6",
   "metadata": {},
   "outputs": [
    {
     "data": {
      "text/plain": [
       "(tensor([[0, 1],\n",
       "         [2, 3],\n",
       "         [4, 5]]),\n",
       " tensor([[ 6,  7],\n",
       "         [ 8,  9],\n",
       "         [10, 11],\n",
       "         [12, 13],\n",
       "         [14, 15]]))"
      ]
     },
     "execution_count": 534,
     "metadata": {},
     "output_type": "execute_result"
    }
   ],
   "source": [
    "torch.tensor_split(tensor_1, [3], dim=0)"
   ]
  },
  {
   "cell_type": "code",
   "execution_count": 535,
   "id": "a859d151",
   "metadata": {},
   "outputs": [
    {
     "data": {
      "text/plain": [
       "(tensor([[0, 1],\n",
       "         [2, 3],\n",
       "         [4, 5]]),\n",
       " tensor([[ 6,  7],\n",
       "         [ 8,  9],\n",
       "         [10, 11]]),\n",
       " tensor([[12, 13],\n",
       "         [14, 15]]))"
      ]
     },
     "execution_count": 535,
     "metadata": {},
     "output_type": "execute_result"
    }
   ],
   "source": [
    "torch.tensor_split(tensor_1, (3), dim=0)"
   ]
  },
  {
   "cell_type": "code",
   "execution_count": 536,
   "id": "269e0f27",
   "metadata": {},
   "outputs": [
    {
     "data": {
      "text/plain": [
       "(tensor([[0, 1],\n",
       "         [2, 3],\n",
       "         [4, 5]]),\n",
       " tensor([[ 6,  7],\n",
       "         [ 8,  9],\n",
       "         [10, 11],\n",
       "         [12, 13],\n",
       "         [14, 15]]))"
      ]
     },
     "execution_count": 536,
     "metadata": {},
     "output_type": "execute_result"
    }
   ],
   "source": [
    "torch.tensor_split(tensor_1, torch.tensor([3]), dim=0)"
   ]
  },
  {
   "cell_type": "code",
   "execution_count": 537,
   "id": "58ccaf85",
   "metadata": {},
   "outputs": [
    {
     "data": {
      "text/plain": [
       "(tensor([], size=(0, 2), dtype=torch.int64),\n",
       " tensor([[0, 1],\n",
       "         [2, 3],\n",
       "         [4, 5]]),\n",
       " tensor([[ 6,  7],\n",
       "         [ 8,  9],\n",
       "         [10, 11],\n",
       "         [12, 13],\n",
       "         [14, 15]]))"
      ]
     },
     "execution_count": 537,
     "metadata": {},
     "output_type": "execute_result"
    }
   ],
   "source": [
    "torch.tensor_split(tensor_1, [0, 3], dim=0)"
   ]
  },
  {
   "cell_type": "code",
   "execution_count": 538,
   "id": "d2364846",
   "metadata": {},
   "outputs": [
    {
     "data": {
      "text/plain": [
       "(tensor([], size=(0, 2), dtype=torch.int64),\n",
       " tensor([[0, 1],\n",
       "         [2, 3],\n",
       "         [4, 5]]),\n",
       " tensor([[ 6,  7],\n",
       "         [ 8,  9],\n",
       "         [10, 11],\n",
       "         [12, 13],\n",
       "         [14, 15]]))"
      ]
     },
     "execution_count": 538,
     "metadata": {},
     "output_type": "execute_result"
    }
   ],
   "source": [
    "torch.tensor_split(tensor_1, (0, 3), dim=0)"
   ]
  },
  {
   "cell_type": "code",
   "execution_count": 539,
   "id": "85e27ff4",
   "metadata": {},
   "outputs": [
    {
     "data": {
      "text/plain": [
       "(tensor([], size=(0, 2), dtype=torch.int64),\n",
       " tensor([[0, 1],\n",
       "         [2, 3],\n",
       "         [4, 5]]),\n",
       " tensor([[ 6,  7],\n",
       "         [ 8,  9],\n",
       "         [10, 11],\n",
       "         [12, 13],\n",
       "         [14, 15]]))"
      ]
     },
     "execution_count": 539,
     "metadata": {},
     "output_type": "execute_result"
    }
   ],
   "source": [
    "torch.tensor_split(tensor_1, torch.tensor([0, 3]), dim=0)"
   ]
  },
  {
   "cell_type": "markdown",
   "id": "879b3fdd",
   "metadata": {},
   "source": [
    "### torch.chunk\n",
    "torch.chunk(input, chunks, dim=0)  \n",
    "let chunks = $x$, $x$ is int, **将tensor的dim维切成$x$块**\n",
    "1. 如果沿着给定维度dim的张量大小可以被块整除，那么所有返回的块都将是相同的大小。\n",
    "2. 如果沿着给定维度dim的张量大小不能被块整除，那么除了最后一个块之外，所有返回的块都将是相同的大小。\n",
    "3. 如果不能进行这样的划分，则此函数可能返回少于指定数量的块。"
   ]
  },
  {
   "cell_type": "code",
   "execution_count": 541,
   "id": "3f592d45",
   "metadata": {},
   "outputs": [
    {
     "data": {
      "text/plain": [
       "tensor([[ 0,  1],\n",
       "        [ 2,  3],\n",
       "        [ 4,  5],\n",
       "        [ 6,  7],\n",
       "        [ 8,  9],\n",
       "        [10, 11],\n",
       "        [12, 13],\n",
       "        [14, 15]])"
      ]
     },
     "execution_count": 541,
     "metadata": {},
     "output_type": "execute_result"
    }
   ],
   "source": [
    "tensor_1 = torch.arange(16).reshape(-1, 2)\n",
    "tensor_1"
   ]
  },
  {
   "cell_type": "code",
   "execution_count": 547,
   "id": "59b0573b",
   "metadata": {},
   "outputs": [
    {
     "name": "stdout",
     "output_type": "stream",
     "text": [
      "\n",
      "chunks = 1\n",
      "tensor([[ 0,  1],\n",
      "        [ 2,  3],\n",
      "        [ 4,  5],\n",
      "        [ 6,  7],\n",
      "        [ 8,  9],\n",
      "        [10, 11],\n",
      "        [12, 13],\n",
      "        [14, 15]])\n",
      "\n",
      "chunks = 2\n",
      "tensor([[0, 1],\n",
      "        [2, 3],\n",
      "        [4, 5],\n",
      "        [6, 7]])\n",
      "tensor([[ 8,  9],\n",
      "        [10, 11],\n",
      "        [12, 13],\n",
      "        [14, 15]])\n",
      "\n",
      "chunks = 3\n",
      "tensor([[0, 1],\n",
      "        [2, 3],\n",
      "        [4, 5]])\n",
      "tensor([[ 6,  7],\n",
      "        [ 8,  9],\n",
      "        [10, 11]])\n",
      "tensor([[12, 13],\n",
      "        [14, 15]])\n",
      "\n",
      "chunks = 4\n",
      "tensor([[0, 1],\n",
      "        [2, 3]])\n",
      "tensor([[4, 5],\n",
      "        [6, 7]])\n",
      "tensor([[ 8,  9],\n",
      "        [10, 11]])\n",
      "tensor([[12, 13],\n",
      "        [14, 15]])\n",
      "\n",
      "chunks = 5\n",
      "tensor([[0, 1],\n",
      "        [2, 3]])\n",
      "tensor([[4, 5],\n",
      "        [6, 7]])\n",
      "tensor([[ 8,  9],\n",
      "        [10, 11]])\n",
      "tensor([[12, 13],\n",
      "        [14, 15]])\n",
      "\n",
      "chunks = 6\n",
      "tensor([[0, 1],\n",
      "        [2, 3]])\n",
      "tensor([[4, 5],\n",
      "        [6, 7]])\n",
      "tensor([[ 8,  9],\n",
      "        [10, 11]])\n",
      "tensor([[12, 13],\n",
      "        [14, 15]])\n",
      "\n",
      "chunks = 7\n",
      "tensor([[0, 1],\n",
      "        [2, 3]])\n",
      "tensor([[4, 5],\n",
      "        [6, 7]])\n",
      "tensor([[ 8,  9],\n",
      "        [10, 11]])\n",
      "tensor([[12, 13],\n",
      "        [14, 15]])\n",
      "\n",
      "chunks = 8\n",
      "tensor([[0, 1]])\n",
      "tensor([[2, 3]])\n",
      "tensor([[4, 5]])\n",
      "tensor([[6, 7]])\n",
      "tensor([[8, 9]])\n",
      "tensor([[10, 11]])\n",
      "tensor([[12, 13]])\n",
      "tensor([[14, 15]])\n"
     ]
    }
   ],
   "source": [
    "for chunks in range(1,tensor_1.size(0)+1):\n",
    "    print(\"\\nchunks =\", chunks)\n",
    "    for elem in torch.chunk(tensor_1, chunks, dim=0):\n",
    "        print(elem)"
   ]
  },
  {
   "cell_type": "markdown",
   "id": "9489b16d",
   "metadata": {},
   "source": [
    "# 数学运算"
   ]
  },
  {
   "cell_type": "markdown",
   "id": "c6938efa",
   "metadata": {},
   "source": [
    "## torch.add 加法\n",
    "torch.add(input, other, \\*, alpha=1, out=None)\n",
    "$$out_i = input_i + alpha \\times other_i$$"
   ]
  },
  {
   "cell_type": "code",
   "execution_count": 66,
   "id": "d49ac50a",
   "metadata": {},
   "outputs": [
    {
     "name": "stdout",
     "output_type": "stream",
     "text": [
      "tensor([[1, 2, 3],\n",
      "        [4, 5, 6]])\n",
      "tensor([[1, 1, 1],\n",
      "        [1, 1, 1]])\n"
     ]
    }
   ],
   "source": [
    "tensorX = torch.arange(1, 7).reshape(2, 3)\n",
    "tensorY = torch.ones_like(tensorX)\n",
    "print(tensorX)\n",
    "print(tensorY)"
   ]
  },
  {
   "cell_type": "code",
   "execution_count": 67,
   "id": "f94bfd01",
   "metadata": {},
   "outputs": [
    {
     "data": {
      "text/plain": [
       "tensor([[3, 4, 5],\n",
       "        [6, 7, 8]])"
      ]
     },
     "execution_count": 67,
     "metadata": {},
     "output_type": "execute_result"
    }
   ],
   "source": [
    "torch.add(tensorX, tensorY, alpha=2)"
   ]
  },
  {
   "cell_type": "markdown",
   "id": "d2c510b6",
   "metadata": {},
   "source": [
    "### X数值不变, 内存不变, 开辟新的内存地址存储结果"
   ]
  },
  {
   "cell_type": "code",
   "execution_count": 68,
   "id": "3b47cb17",
   "metadata": {},
   "outputs": [
    {
     "name": "stdout",
     "output_type": "stream",
     "text": [
      "tensor([[1, 2, 3],\n",
      "        [4, 5, 6]])\n",
      "tensor([[1, 1, 1],\n",
      "        [1, 1, 1]])\n"
     ]
    }
   ],
   "source": [
    "tensorX = torch.arange(1, 7).reshape(2, 3)\n",
    "tensorY = torch.ones_like(tensorX)\n",
    "print(tensorX)\n",
    "print(tensorY)"
   ]
  },
  {
   "cell_type": "code",
   "execution_count": 69,
   "id": "f4128787",
   "metadata": {},
   "outputs": [
    {
     "name": "stdout",
     "output_type": "stream",
     "text": [
      "before add: X =\n",
      " tensor([[1, 2, 3],\n",
      "        [4, 5, 6]]) \n",
      "id= 140415026638576\n",
      "\n",
      "after add: X =\n",
      " tensor([[1, 2, 3],\n",
      "        [4, 5, 6]]) \n",
      "id= 140415026638576\n",
      "\n",
      "after add: Z =\n",
      " tensor([[2, 3, 4],\n",
      "        [5, 6, 7]]) \n",
      "id= 140415026230992\n"
     ]
    }
   ],
   "source": [
    "print(\"before add: X =\\n\", tensorX, \"\\nid=\", id(tensorX))\n",
    "tensorZ = tensorX + tensorY\n",
    "print(\"\\nafter add: X =\\n\", tensorX, \"\\nid=\", id(tensorX))\n",
    "print('\\nafter add: Z =\\n', tensorZ, \"\\nid=\", id(tensorZ))"
   ]
  },
  {
   "cell_type": "code",
   "execution_count": 70,
   "id": "81c202b3",
   "metadata": {},
   "outputs": [
    {
     "name": "stdout",
     "output_type": "stream",
     "text": [
      "before add: X =\n",
      " tensor([[1, 2, 3],\n",
      "        [4, 5, 6]]) \n",
      "id= 140415026638576\n",
      "\n",
      "after add: X =\n",
      " tensor([[1, 2, 3],\n",
      "        [4, 5, 6]]) \n",
      "id= 140415026638576\n",
      "\n",
      "after add: Z =\n",
      " tensor([[2, 3, 4],\n",
      "        [5, 6, 7]]) \n",
      "id= 140415026377488\n"
     ]
    }
   ],
   "source": [
    "print(\"before add: X =\\n\", tensorX, \"\\nid=\", id(tensorX))\n",
    "tensorZ = torch.add(tensorX, tensorY)\n",
    "print(\"\\nafter add: X =\\n\", tensorX, \"\\nid=\", id(tensorX))\n",
    "print('\\nafter add: Z =\\n', tensorZ, \"\\nid=\", id(tensorZ))"
   ]
  },
  {
   "cell_type": "code",
   "execution_count": 71,
   "id": "aeb72fbf",
   "metadata": {},
   "outputs": [
    {
     "name": "stdout",
     "output_type": "stream",
     "text": [
      "before add: X =\n",
      " tensor([[1, 2, 3],\n",
      "        [4, 5, 6]]) \n",
      "id= 140415026638576\n",
      "\n",
      "after add: X =\n",
      " tensor([[1, 2, 3],\n",
      "        [4, 5, 6]]) \n",
      "id= 140415026638576\n",
      "\n",
      "after add: Z =\n",
      " tensor([[2, 3, 4],\n",
      "        [5, 6, 7]]) \n",
      "id= 140415026616576\n"
     ]
    }
   ],
   "source": [
    "print(\"before add: X =\\n\", tensorX, \"\\nid=\", id(tensorX))\n",
    "tensorZ = tensorX.add(tensorY)\n",
    "print(\"\\nafter add: X =\\n\", tensorX, \"\\nid=\", id(tensorX))\n",
    "print('\\nafter add: Z =\\n', tensorZ, \"\\nid=\", id(tensorZ))"
   ]
  },
  {
   "cell_type": "markdown",
   "id": "de8e07fa",
   "metadata": {},
   "source": [
    "### X数值改变, 内存改变 "
   ]
  },
  {
   "cell_type": "code",
   "execution_count": 72,
   "id": "bbb610ff",
   "metadata": {},
   "outputs": [
    {
     "name": "stdout",
     "output_type": "stream",
     "text": [
      "tensor([[1, 2, 3],\n",
      "        [4, 5, 6]])\n",
      "tensor([[1, 1, 1],\n",
      "        [1, 1, 1]])\n"
     ]
    }
   ],
   "source": [
    "tensorX = torch.arange(1, 7).reshape(2, 3)\n",
    "tensorY = torch.ones_like(tensorX)\n",
    "print(tensorX)\n",
    "print(tensorY)"
   ]
  },
  {
   "cell_type": "code",
   "execution_count": 73,
   "id": "4c6495be",
   "metadata": {
    "scrolled": true
   },
   "outputs": [
    {
     "name": "stdout",
     "output_type": "stream",
     "text": [
      "before add: X =\n",
      " tensor([[1, 2, 3],\n",
      "        [4, 5, 6]]) \n",
      "id= 140415026637776\n",
      "\n",
      "after add: X =\n",
      " tensor([[2, 3, 4],\n",
      "        [5, 6, 7]]) \n",
      "id= 140415026230592\n"
     ]
    }
   ],
   "source": [
    "print(\"before add: X =\\n\", tensorX, \"\\nid=\", id(tensorX))\n",
    "tensorX = tensorX + tensorY\n",
    "print(\"\\nafter add: X =\\n\", tensorX, \"\\nid=\", id(tensorX))"
   ]
  },
  {
   "cell_type": "markdown",
   "id": "b48a0a9e",
   "metadata": {},
   "source": [
    "### X数值改变, 内存不变, 节约内存开销"
   ]
  },
  {
   "cell_type": "code",
   "execution_count": 74,
   "id": "07b65a15",
   "metadata": {},
   "outputs": [
    {
     "name": "stdout",
     "output_type": "stream",
     "text": [
      "tensor([[1, 2, 3],\n",
      "        [4, 5, 6]])\n",
      "tensor([[1, 1, 1],\n",
      "        [1, 1, 1]])\n"
     ]
    }
   ],
   "source": [
    "tensorX = torch.arange(1, 7).reshape(2, 3)\n",
    "tensorY = torch.ones_like(tensorX)\n",
    "print(tensorX)\n",
    "print(tensorY)"
   ]
  },
  {
   "cell_type": "code",
   "execution_count": 75,
   "id": "44299f5c",
   "metadata": {},
   "outputs": [
    {
     "name": "stdout",
     "output_type": "stream",
     "text": [
      "before add: X =\n",
      " tensor([[1, 2, 3],\n",
      "        [4, 5, 6]]) \n",
      "id= 140415026638736\n",
      "\n",
      "after add: X =\n",
      " tensor([[2, 3, 4],\n",
      "        [5, 6, 7]]) \n",
      "id= 140415026638736\n"
     ]
    }
   ],
   "source": [
    "print(\"before add: X =\\n\", tensorX, \"\\nid=\", id(tensorX))\n",
    "tensorX[:] = tensorX + tensorY\n",
    "print(\"\\nafter add: X =\\n\", tensorX, \"\\nid=\", id(tensorX))"
   ]
  },
  {
   "cell_type": "code",
   "execution_count": 76,
   "id": "c84a8e58",
   "metadata": {},
   "outputs": [
    {
     "name": "stdout",
     "output_type": "stream",
     "text": [
      "before add: X =\n",
      " tensor([[2, 3, 4],\n",
      "        [5, 6, 7]]) \n",
      "id= 140415026638736\n",
      "\n",
      "after add: X =\n",
      " tensor([[3, 4, 5],\n",
      "        [6, 7, 8]]) \n",
      "id= 140415026638736\n"
     ]
    }
   ],
   "source": [
    "print(\"before add: X =\\n\", tensorX, \"\\nid=\", id(tensorX))\n",
    "torch.add(tensorX, tensorY, out=tensorX)\n",
    "print(\"\\nafter add: X =\\n\", tensorX, \"\\nid=\", id(tensorX))"
   ]
  },
  {
   "cell_type": "code",
   "execution_count": 77,
   "id": "2264981c",
   "metadata": {},
   "outputs": [
    {
     "name": "stdout",
     "output_type": "stream",
     "text": [
      "before add: X =\n",
      " tensor([[3, 4, 5],\n",
      "        [6, 7, 8]]) \n",
      "id= 140415026638736\n",
      "\n",
      "after add: X =\n",
      " tensor([[4, 5, 6],\n",
      "        [7, 8, 9]]) \n",
      "id= 140415026638736\n"
     ]
    }
   ],
   "source": [
    "print(\"before add: X =\\n\", tensorX, \"\\nid=\", id(tensorX))\n",
    "tensorX.add_(tensorY)\n",
    "print(\"\\nafter add: X =\\n\", tensorX, \"\\nid=\", id(tensorX))"
   ]
  },
  {
   "cell_type": "code",
   "execution_count": 78,
   "id": "bd62a634",
   "metadata": {},
   "outputs": [
    {
     "name": "stdout",
     "output_type": "stream",
     "text": [
      "before add: X =\n",
      " tensor([[4, 5, 6],\n",
      "        [7, 8, 9]]) \n",
      "id= 140415026638736\n",
      "\n",
      "after add: X =\n",
      " tensor([[ 5,  6,  7],\n",
      "        [ 8,  9, 10]]) \n",
      "id= 140415026638736\n"
     ]
    }
   ],
   "source": [
    "print(\"before add: X =\\n\", tensorX, \"\\nid=\", id(tensorX))\n",
    "tensorX += tensorY\n",
    "print(\"\\nafter add: X =\\n\", tensorX, \"\\nid=\", id(tensorX))"
   ]
  },
  {
   "cell_type": "markdown",
   "id": "cdddec8e",
   "metadata": {},
   "source": [
    "### broadcasting\n",
    "todo: https://pytorch.org/docs/stable/notes/broadcasting.html#broadcasting-semantics  \n",
    "先适当复制元素使这两个Tensor形状相同后再按元素运算"
   ]
  },
  {
   "cell_type": "code",
   "execution_count": 83,
   "id": "887730be",
   "metadata": {},
   "outputs": [
    {
     "name": "stdout",
     "output_type": "stream",
     "text": [
      "X: tensor([[1],\n",
      "        [2],\n",
      "        [3]])\n",
      "Y: tensor([1, 2, 3])\n",
      "X + Y = tensor([[2, 3, 4],\n",
      "        [3, 4, 5],\n",
      "        [4, 5, 6]])\n"
     ]
    }
   ],
   "source": [
    "print(\"X:\", torch.arange(1, 4).reshape(3, 1))\n",
    "print(\"Y:\", torch.arange(1, 4))\n",
    "print(\"X + Y =\", torch.tensor([[1], [2], [3]]) + torch.tensor([1, 2, 3]))"
   ]
  },
  {
   "cell_type": "code",
   "execution_count": 84,
   "id": "e729f3eb",
   "metadata": {},
   "outputs": [
    {
     "data": {
      "text/plain": [
       "True"
      ]
     },
     "execution_count": 84,
     "metadata": {},
     "output_type": "execute_result"
    }
   ],
   "source": [
    "torch.equal(torch.tensor([[1], [2], [3]]) + torch.tensor([1, 2, 3]),\n",
    "            torch.tensor([1, 2, 3]) + torch.tensor([[1], [2], [3]]))"
   ]
  },
  {
   "cell_type": "markdown",
   "id": "3873a81a",
   "metadata": {},
   "source": [
    "## 乘法"
   ]
  },
  {
   "cell_type": "markdown",
   "id": "61fe296c",
   "metadata": {},
   "source": [
    "### torch.mul 点乘\n",
    "1. torch.mul(input, other, *, out=None)\n",
    "2. torch.multiply(input, other, *, out=None)"
   ]
  },
  {
   "cell_type": "markdown",
   "id": "1a5de042",
   "metadata": {},
   "source": [
    "* tensor_1 is int"
   ]
  },
  {
   "cell_type": "code",
   "execution_count": 87,
   "id": "66a77258",
   "metadata": {},
   "outputs": [
    {
     "name": "stdout",
     "output_type": "stream",
     "text": [
      "tensor([[1, 2, 3],\n",
      "        [4, 5, 6]])\n"
     ]
    }
   ],
   "source": [
    "tensor_1 = torch.arange(1, 7).reshape(2, 3)\n",
    "print(tensor_1)"
   ]
  },
  {
   "cell_type": "code",
   "execution_count": null,
   "id": "6660bc02",
   "metadata": {},
   "outputs": [],
   "source": [
    "\"\"\"\n",
    "tensor_1 * 3\n",
    "tensor_1.mul(3)\n",
    "torch.mul(tensor_1, 3)\n",
    "torch.multiply(tensor_1, 3)\n",
    "\"\"\""
   ]
  },
  {
   "cell_type": "code",
   "execution_count": 248,
   "id": "bdc66a47",
   "metadata": {},
   "outputs": [
    {
     "data": {
      "text/plain": [
       "tensor([[ 3,  6,  9],\n",
       "        [12, 15, 18]])"
      ]
     },
     "execution_count": 248,
     "metadata": {},
     "output_type": "execute_result"
    }
   ],
   "source": [
    "tensor_1 * 3"
   ]
  },
  {
   "cell_type": "code",
   "execution_count": 249,
   "id": "f23f5934",
   "metadata": {},
   "outputs": [
    {
     "data": {
      "text/plain": [
       "True"
      ]
     },
     "execution_count": 249,
     "metadata": {},
     "output_type": "execute_result"
    }
   ],
   "source": [
    "torch.equal(tensor_1 * 3,\n",
    "            tensor_1.mul(3))"
   ]
  },
  {
   "cell_type": "code",
   "execution_count": 250,
   "id": "7fc6a382",
   "metadata": {},
   "outputs": [
    {
     "data": {
      "text/plain": [
       "True"
      ]
     },
     "execution_count": 250,
     "metadata": {},
     "output_type": "execute_result"
    }
   ],
   "source": [
    "torch.equal(tensor_1 * 3,\n",
    "            torch.mul(tensor_1, 3))"
   ]
  },
  {
   "cell_type": "code",
   "execution_count": 251,
   "id": "905606ae",
   "metadata": {},
   "outputs": [
    {
     "data": {
      "text/plain": [
       "True"
      ]
     },
     "execution_count": 251,
     "metadata": {},
     "output_type": "execute_result"
    }
   ],
   "source": [
    "torch.equal(tensor_1 * 3,\n",
    "            torch.multiply(tensor_1, 3))"
   ]
  },
  {
   "cell_type": "markdown",
   "id": "98064ba1",
   "metadata": {},
   "source": [
    "* other is Tensor"
   ]
  },
  {
   "cell_type": "code",
   "execution_count": null,
   "id": "8eff084a",
   "metadata": {},
   "outputs": [],
   "source": [
    "\"\"\"\n",
    "tensor_1 * tensor_1\n",
    "tensor_1.mul(tensor_1)\n",
    "torch.mul(tensor_1, tensor_1)\n",
    "torch.multiply(tensor_1, tensor_1)\n",
    "torch.mul(tensor_1, tensor_1, out=torch.zeros((tensor_1.shape[0], tensor_1.shape[1]), dtype=tensor_1.dtype))\n",
    "\"\"\""
   ]
  },
  {
   "cell_type": "code",
   "execution_count": 88,
   "id": "af4d430c",
   "metadata": {},
   "outputs": [
    {
     "data": {
      "text/plain": [
       "tensor([[ 1,  4,  9],\n",
       "        [16, 25, 36]])"
      ]
     },
     "execution_count": 88,
     "metadata": {},
     "output_type": "execute_result"
    }
   ],
   "source": [
    "tensor_1 * tensor_1"
   ]
  },
  {
   "cell_type": "code",
   "execution_count": 89,
   "id": "e375fe2b",
   "metadata": {},
   "outputs": [
    {
     "data": {
      "text/plain": [
       "True"
      ]
     },
     "execution_count": 89,
     "metadata": {},
     "output_type": "execute_result"
    }
   ],
   "source": [
    "torch.equal(tensor_1 * tensor_1,\n",
    "            tensor_1.mul(tensor_1))"
   ]
  },
  {
   "cell_type": "code",
   "execution_count": 90,
   "id": "eb435cce",
   "metadata": {},
   "outputs": [
    {
     "data": {
      "text/plain": [
       "True"
      ]
     },
     "execution_count": 90,
     "metadata": {},
     "output_type": "execute_result"
    }
   ],
   "source": [
    "torch.equal(tensor_1 * tensor_1,\n",
    "            torch.mul(tensor_1, tensor_1))"
   ]
  },
  {
   "cell_type": "code",
   "execution_count": 91,
   "id": "652682c1",
   "metadata": {},
   "outputs": [
    {
     "data": {
      "text/plain": [
       "True"
      ]
     },
     "execution_count": 91,
     "metadata": {},
     "output_type": "execute_result"
    }
   ],
   "source": [
    "torch.equal(tensor_1 * tensor_1,\n",
    "            torch.multiply(tensor_1, tensor_1))"
   ]
  },
  {
   "cell_type": "code",
   "execution_count": 92,
   "id": "61b36f9e",
   "metadata": {},
   "outputs": [
    {
     "data": {
      "text/plain": [
       "True"
      ]
     },
     "execution_count": 92,
     "metadata": {},
     "output_type": "execute_result"
    }
   ],
   "source": [
    "torch.equal(tensor_1 * tensor_1,\n",
    "            torch.mul(tensor_1, tensor_1, out=torch.zeros((tensor_1.shape[0], tensor_1.shape[1]), dtype=tensor_1.dtype)))"
   ]
  },
  {
   "cell_type": "markdown",
   "id": "685d7cc7",
   "metadata": {},
   "source": [
    "#### broadcasting"
   ]
  },
  {
   "cell_type": "code",
   "execution_count": 93,
   "id": "71368c45",
   "metadata": {},
   "outputs": [
    {
     "name": "stdout",
     "output_type": "stream",
     "text": [
      "X: tensor([[1],\n",
      "        [2],\n",
      "        [3]])\n",
      "Y: tensor([1, 2, 3])\n",
      "X * Y = tensor([[1, 2, 3],\n",
      "        [2, 4, 6],\n",
      "        [3, 6, 9]])\n"
     ]
    }
   ],
   "source": [
    "print(\"X:\", torch.arange(1, 4).reshape(3, 1))\n",
    "print(\"Y:\", torch.arange(1, 4))\n",
    "print(\"X * Y =\", torch.tensor([[1], [2], [3]]) * torch.tensor([1, 2, 3]))"
   ]
  },
  {
   "cell_type": "code",
   "execution_count": 94,
   "id": "b5403339",
   "metadata": {},
   "outputs": [
    {
     "data": {
      "text/plain": [
       "True"
      ]
     },
     "execution_count": 94,
     "metadata": {},
     "output_type": "execute_result"
    }
   ],
   "source": [
    "torch.equal(torch.tensor([[1], [2], [3]]) * torch.tensor([1, 2, 3]),\n",
    "            torch.tensor([1, 2, 3]) * torch.tensor([[1], [2], [3]]))"
   ]
  },
  {
   "cell_type": "markdown",
   "id": "3ca5967a",
   "metadata": {},
   "source": [
    "### torch.matmul 矩阵乘法\n",
    "torch.matmul(input, other, \\*, out=None)"
   ]
  },
  {
   "cell_type": "markdown",
   "id": "103c178d",
   "metadata": {},
   "source": [
    "#### vector × vector\n",
    "返回点乘之和"
   ]
  },
  {
   "cell_type": "code",
   "execution_count": 158,
   "id": "9e54a43a",
   "metadata": {},
   "outputs": [
    {
     "data": {
      "text/plain": [
       "tensor([1, 2, 3])"
      ]
     },
     "execution_count": 158,
     "metadata": {},
     "output_type": "execute_result"
    }
   ],
   "source": [
    "tensor_1 = torch.tensor([1, 2, 3])\n",
    "tensor_1"
   ]
  },
  {
   "cell_type": "code",
   "execution_count": 159,
   "id": "e12a8f9f",
   "metadata": {},
   "outputs": [
    {
     "data": {
      "text/plain": [
       "tensor(14)"
      ]
     },
     "execution_count": 159,
     "metadata": {},
     "output_type": "execute_result"
    }
   ],
   "source": [
    "torch.matmul(tensor_1, tensor_1)"
   ]
  },
  {
   "cell_type": "code",
   "execution_count": 160,
   "id": "7a9cb98a",
   "metadata": {},
   "outputs": [
    {
     "data": {
      "text/plain": [
       "tensor([1, 4, 9])"
      ]
     },
     "execution_count": 160,
     "metadata": {},
     "output_type": "execute_result"
    }
   ],
   "source": [
    "torch.mul(tensor_1, tensor_1)"
   ]
  },
  {
   "cell_type": "code",
   "execution_count": 161,
   "id": "2109c52e",
   "metadata": {},
   "outputs": [
    {
     "data": {
      "text/plain": [
       "tensor(14)"
      ]
     },
     "execution_count": 161,
     "metadata": {},
     "output_type": "execute_result"
    }
   ],
   "source": [
    "torch.sum(torch.mul(tensor_1, tensor_1))"
   ]
  },
  {
   "cell_type": "markdown",
   "id": "1f10ac0b",
   "metadata": {},
   "source": [
    "#### matrix × vector\n",
    "multiple vector $\\times$ vector"
   ]
  },
  {
   "cell_type": "code",
   "execution_count": 245,
   "id": "0b847cef",
   "metadata": {},
   "outputs": [
    {
     "name": "stdout",
     "output_type": "stream",
     "text": [
      "size of tensor_1 = torch.Size([2, 3])\n",
      "size of tensor_2 = torch.Size([3])\n",
      "size of tensor_1 @ tensor_2 = torch.Size([2])\n"
     ]
    }
   ],
   "source": [
    "tensor_1 = torch.arange(1, 7).reshape(2, 3)\n",
    "tensor_2 = torch.tensor([1, 2, 3])\n",
    "print(\"size of tensor_1 =\", tensor_1.size())\n",
    "print(\"size of tensor_2 =\", tensor_2.size())\n",
    "print(\"size of tensor_1 @ tensor_2 =\", torch.matmul(tensor_1, tensor_2).size())"
   ]
  },
  {
   "cell_type": "code",
   "execution_count": 163,
   "id": "d8070ff5",
   "metadata": {},
   "outputs": [
    {
     "data": {
      "text/plain": [
       "tensor([14, 32])"
      ]
     },
     "execution_count": 163,
     "metadata": {},
     "output_type": "execute_result"
    }
   ],
   "source": [
    "torch.matmul(tensor_1, tensor_2)"
   ]
  },
  {
   "cell_type": "code",
   "execution_count": 165,
   "id": "a361f2d2",
   "metadata": {},
   "outputs": [
    {
     "name": "stdout",
     "output_type": "stream",
     "text": [
      "tensor(14)\n",
      "tensor(32)\n"
     ]
    }
   ],
   "source": [
    "for ii in range(tensor_1.size(0)):\n",
    "    print(tensor_1[ii] @ tensor_2)"
   ]
  },
  {
   "cell_type": "markdown",
   "id": "000716e5",
   "metadata": {},
   "source": [
    "#### matrix × matrix"
   ]
  },
  {
   "cell_type": "code",
   "execution_count": 166,
   "id": "29bc1c1f",
   "metadata": {},
   "outputs": [
    {
     "name": "stdout",
     "output_type": "stream",
     "text": [
      "tensor([[1, 2, 3],\n",
      "        [4, 5, 6]])\n"
     ]
    }
   ],
   "source": [
    "tensor_1 = torch.arange(1, 7).reshape(2, 3)\n",
    "print(tensor_1)"
   ]
  },
  {
   "cell_type": "code",
   "execution_count": null,
   "id": "778c1e94",
   "metadata": {},
   "outputs": [],
   "source": [
    "\"\"\"\n",
    "tensor_1 @ tensor_1.T\n",
    "tensor_1.matmul(tensor_1.T)\n",
    "torch.matmul(tensor_1, tensor_1.T)\n",
    "\"\"\""
   ]
  },
  {
   "cell_type": "code",
   "execution_count": 167,
   "id": "ec7ef3ab",
   "metadata": {},
   "outputs": [
    {
     "data": {
      "text/plain": [
       "tensor([[14, 32],\n",
       "        [32, 77]])"
      ]
     },
     "execution_count": 167,
     "metadata": {},
     "output_type": "execute_result"
    }
   ],
   "source": [
    "tensor_1 @ tensor_1.T"
   ]
  },
  {
   "cell_type": "code",
   "execution_count": 168,
   "id": "5be3cc28",
   "metadata": {},
   "outputs": [
    {
     "data": {
      "text/plain": [
       "True"
      ]
     },
     "execution_count": 168,
     "metadata": {},
     "output_type": "execute_result"
    }
   ],
   "source": [
    "torch.equal(tensor_1 @ tensor_1.T,\n",
    "            tensor_1.matmul(tensor_1.T))"
   ]
  },
  {
   "cell_type": "code",
   "execution_count": 169,
   "id": "ff99e478",
   "metadata": {},
   "outputs": [
    {
     "data": {
      "text/plain": [
       "True"
      ]
     },
     "execution_count": 169,
     "metadata": {},
     "output_type": "execute_result"
    }
   ],
   "source": [
    "torch.equal(tensor_1 @ tensor_1.T,\n",
    "            torch.matmul(tensor_1, tensor_1.T))"
   ]
  },
  {
   "cell_type": "markdown",
   "id": "f1f14e5d",
   "metadata": {},
   "source": [
    "#### batched matrix × broadcasted vector"
   ]
  },
  {
   "cell_type": "code",
   "execution_count": 244,
   "id": "5ff6ab02",
   "metadata": {},
   "outputs": [
    {
     "name": "stdout",
     "output_type": "stream",
     "text": [
      "size of tensor_1 = torch.Size([2, 3, 4])\n",
      "size of tensor_2 = torch.Size([4])\n",
      "size of tensor_1 @ tensor_2 = torch.Size([2, 3])\n"
     ]
    }
   ],
   "source": [
    "tensor_1 = torch.arange(1, 25).reshape(2, 3, 4)\n",
    "tensor_2 = torch.arange(1, 5)\n",
    "print(\"size of tensor_1 =\", tensor_1.size())\n",
    "print(\"size of tensor_2 =\", tensor_2.size())\n",
    "print(\"size of tensor_1 @ tensor_2 =\", torch.matmul(tensor_1, tensor_2).size())"
   ]
  },
  {
   "cell_type": "code",
   "execution_count": 171,
   "id": "3f4f1105",
   "metadata": {},
   "outputs": [
    {
     "data": {
      "text/plain": [
       "tensor([[ 30,  70, 110],\n",
       "        [150, 190, 230]])"
      ]
     },
     "execution_count": 171,
     "metadata": {},
     "output_type": "execute_result"
    }
   ],
   "source": [
    "torch.matmul(tensor_1, tensor_2)"
   ]
  },
  {
   "cell_type": "code",
   "execution_count": 172,
   "id": "b7aa9363",
   "metadata": {},
   "outputs": [
    {
     "name": "stdout",
     "output_type": "stream",
     "text": [
      "[tensor(30), tensor(70), tensor(110)]\n",
      "[tensor(150), tensor(190), tensor(230)]\n"
     ]
    }
   ],
   "source": [
    "for ii in range(tensor_1.size(0)):\n",
    "    vec = []\n",
    "    for jj in range(tensor_1[ii].size(0)):\n",
    "        vec.append(tensor_1[ii][jj] @ tensor_2)\n",
    "    print(vec)"
   ]
  },
  {
   "cell_type": "markdown",
   "id": "36934732",
   "metadata": {},
   "source": [
    "#### batched matrix × broadcasted matrix"
   ]
  },
  {
   "cell_type": "code",
   "execution_count": 243,
   "id": "ba07e60c",
   "metadata": {},
   "outputs": [
    {
     "name": "stdout",
     "output_type": "stream",
     "text": [
      "size of tensor_1 = torch.Size([2, 3, 4])\n",
      "size of tensor_2 = torch.Size([4, 5])\n",
      "size of tensor_1 @ tensor_2 = torch.Size([2, 3, 5])\n"
     ]
    }
   ],
   "source": [
    "tensor_1 = torch.arange(1, 25).reshape(2, 3, 4)\n",
    "tensor_2 = torch.arange(1, 21).reshape(4, 5)\n",
    "print(\"size of tensor_1 =\", tensor_1.size())\n",
    "print(\"size of tensor_2 =\", tensor_2.size())\n",
    "print(\"size of tensor_1 @ tensor_2 =\", torch.matmul(tensor_1, tensor_2).size())"
   ]
  },
  {
   "cell_type": "code",
   "execution_count": 202,
   "id": "fad1e0c8",
   "metadata": {},
   "outputs": [
    {
     "data": {
      "text/plain": [
       "tensor([[[ 110,  120,  130,  140,  150],\n",
       "         [ 246,  272,  298,  324,  350],\n",
       "         [ 382,  424,  466,  508,  550]],\n",
       "\n",
       "        [[ 518,  576,  634,  692,  750],\n",
       "         [ 654,  728,  802,  876,  950],\n",
       "         [ 790,  880,  970, 1060, 1150]]])"
      ]
     },
     "execution_count": 202,
     "metadata": {},
     "output_type": "execute_result"
    }
   ],
   "source": [
    "torch.matmul(tensor_1, tensor_2)"
   ]
  },
  {
   "cell_type": "code",
   "execution_count": 203,
   "id": "b18d4fdf",
   "metadata": {},
   "outputs": [
    {
     "name": "stdout",
     "output_type": "stream",
     "text": [
      "tensor([[110, 120, 130, 140, 150],\n",
      "        [246, 272, 298, 324, 350],\n",
      "        [382, 424, 466, 508, 550]])\n",
      "tensor([[ 518,  576,  634,  692,  750],\n",
      "        [ 654,  728,  802,  876,  950],\n",
      "        [ 790,  880,  970, 1060, 1150]])\n"
     ]
    }
   ],
   "source": [
    "for ii in range(tensor_1.size(0)):\n",
    "    print(tensor_1[ii] @ tensor_2)"
   ]
  },
  {
   "cell_type": "markdown",
   "id": "92e7a828",
   "metadata": {},
   "source": [
    "#### batched matrix × batched matrix"
   ]
  },
  {
   "cell_type": "code",
   "execution_count": 242,
   "id": "4aecfa22",
   "metadata": {},
   "outputs": [
    {
     "name": "stdout",
     "output_type": "stream",
     "text": [
      "size of tensor_1 = torch.Size([2, 3, 4])\n",
      "size of tensor_2 = torch.Size([2, 4, 5])\n",
      "size of tensor_1 @ tensor_2 = torch.Size([2, 3, 5])\n"
     ]
    }
   ],
   "source": [
    "tensor_1 = torch.arange(1, 25).reshape(2, 3, 4)\n",
    "tensor_2 = torch.arange(1, 41).reshape(2, 4, 5)\n",
    "print(\"size of tensor_1 =\", tensor_1.size())\n",
    "print(\"size of tensor_2 =\", tensor_2.size())\n",
    "print(\"size of tensor_1 @ tensor_2 =\", torch.matmul(tensor_1, tensor_2).size())"
   ]
  },
  {
   "cell_type": "code",
   "execution_count": 225,
   "id": "0524574c",
   "metadata": {},
   "outputs": [
    {
     "data": {
      "text/plain": [
       "tensor([[[ 110,  120,  130,  140,  150],\n",
       "         [ 246,  272,  298,  324,  350],\n",
       "         [ 382,  424,  466,  508,  550]],\n",
       "\n",
       "        [[1678, 1736, 1794, 1852, 1910],\n",
       "         [2134, 2208, 2282, 2356, 2430],\n",
       "         [2590, 2680, 2770, 2860, 2950]]])"
      ]
     },
     "execution_count": 225,
     "metadata": {},
     "output_type": "execute_result"
    }
   ],
   "source": [
    "torch.matmul(tensor_1, tensor_2)"
   ]
  },
  {
   "cell_type": "code",
   "execution_count": 226,
   "id": "c1b8a4a5",
   "metadata": {},
   "outputs": [
    {
     "name": "stdout",
     "output_type": "stream",
     "text": [
      "tensor([[110, 120, 130, 140, 150],\n",
      "        [246, 272, 298, 324, 350],\n",
      "        [382, 424, 466, 508, 550]])\n",
      "tensor([[1678, 1736, 1794, 1852, 1910],\n",
      "        [2134, 2208, 2282, 2356, 2430],\n",
      "        [2590, 2680, 2770, 2860, 2950]])\n"
     ]
    }
   ],
   "source": [
    "for ii in range(tensor_1.size(0)):\n",
    "    print(tensor_1[ii] @ tensor_2[ii])"
   ]
  },
  {
   "cell_type": "markdown",
   "id": "6e82bc33",
   "metadata": {},
   "source": [
    "#### broadcasting\n",
    "* case 1<br>\n",
    "if input is a $(j×1×n×n)$ tensor and other is a $(k×n×n)$ tensor, out will be a $(j×k×n×n)$ tensor."
   ]
  },
  {
   "cell_type": "code",
   "execution_count": 236,
   "id": "a5c73ad9",
   "metadata": {},
   "outputs": [
    {
     "name": "stdout",
     "output_type": "stream",
     "text": [
      "size of tensor_1 = torch.Size([3, 1, 4, 4])\n",
      "size of tensor_2 = torch.Size([2, 4, 4])\n",
      "size of tensor_1 @ tensor_2 = torch.Size([3, 2, 4, 4])\n"
     ]
    }
   ],
   "source": [
    "tensor_1 = torch.arange(1, 3*4*4+1).reshape(3, 1, 4, 4)\n",
    "tensor_2 = torch.arange(1, 2*4*4+1).reshape(2, 4, 4)\n",
    "print(\"size of tensor_1 =\", tensor_1.size())\n",
    "print(\"size of tensor_2 =\", tensor_2.size())\n",
    "print(\"size of tensor_1 @ tensor_2 =\", torch.matmul(tensor_1, tensor_2).size())"
   ]
  },
  {
   "cell_type": "code",
   "execution_count": 237,
   "id": "18a0f567",
   "metadata": {},
   "outputs": [
    {
     "data": {
      "text/plain": [
       "tensor([[[[  90,  100,  110,  120],\n",
       "          [ 202,  228,  254,  280],\n",
       "          [ 314,  356,  398,  440],\n",
       "          [ 426,  484,  542,  600]],\n",
       "\n",
       "         [[ 250,  260,  270,  280],\n",
       "          [ 618,  644,  670,  696],\n",
       "          [ 986, 1028, 1070, 1112],\n",
       "          [1354, 1412, 1470, 1528]]],\n",
       "\n",
       "\n",
       "        [[[ 538,  612,  686,  760],\n",
       "          [ 650,  740,  830,  920],\n",
       "          [ 762,  868,  974, 1080],\n",
       "          [ 874,  996, 1118, 1240]],\n",
       "\n",
       "         [[1722, 1796, 1870, 1944],\n",
       "          [2090, 2180, 2270, 2360],\n",
       "          [2458, 2564, 2670, 2776],\n",
       "          [2826, 2948, 3070, 3192]]],\n",
       "\n",
       "\n",
       "        [[[ 986, 1124, 1262, 1400],\n",
       "          [1098, 1252, 1406, 1560],\n",
       "          [1210, 1380, 1550, 1720],\n",
       "          [1322, 1508, 1694, 1880]],\n",
       "\n",
       "         [[3194, 3332, 3470, 3608],\n",
       "          [3562, 3716, 3870, 4024],\n",
       "          [3930, 4100, 4270, 4440],\n",
       "          [4298, 4484, 4670, 4856]]]])"
      ]
     },
     "execution_count": 237,
     "metadata": {},
     "output_type": "execute_result"
    }
   ],
   "source": [
    "torch.matmul(tensor_1, tensor_2)"
   ]
  },
  {
   "cell_type": "code",
   "execution_count": 238,
   "id": "418985ad",
   "metadata": {},
   "outputs": [
    {
     "name": "stdout",
     "output_type": "stream",
     "text": [
      "tensor([[ 90, 100, 110, 120],\n",
      "        [202, 228, 254, 280],\n",
      "        [314, 356, 398, 440],\n",
      "        [426, 484, 542, 600]])\n",
      "tensor([[ 250,  260,  270,  280],\n",
      "        [ 618,  644,  670,  696],\n",
      "        [ 986, 1028, 1070, 1112],\n",
      "        [1354, 1412, 1470, 1528]])\n",
      "tensor([[ 538,  612,  686,  760],\n",
      "        [ 650,  740,  830,  920],\n",
      "        [ 762,  868,  974, 1080],\n",
      "        [ 874,  996, 1118, 1240]])\n",
      "tensor([[1722, 1796, 1870, 1944],\n",
      "        [2090, 2180, 2270, 2360],\n",
      "        [2458, 2564, 2670, 2776],\n",
      "        [2826, 2948, 3070, 3192]])\n",
      "tensor([[ 986, 1124, 1262, 1400],\n",
      "        [1098, 1252, 1406, 1560],\n",
      "        [1210, 1380, 1550, 1720],\n",
      "        [1322, 1508, 1694, 1880]])\n",
      "tensor([[3194, 3332, 3470, 3608],\n",
      "        [3562, 3716, 3870, 4024],\n",
      "        [3930, 4100, 4270, 4440],\n",
      "        [4298, 4484, 4670, 4856]])\n"
     ]
    }
   ],
   "source": [
    "for ii in range(tensor_1.size(0)):\n",
    "    for jj in range(tensor_2.size(0)):\n",
    "        print(tensor_1[ii][0] @ tensor_2[jj])"
   ]
  },
  {
   "cell_type": "markdown",
   "id": "80138c40",
   "metadata": {},
   "source": [
    "* case 2<br>\n",
    "if input is a $(j×1×n×m)$ tensor and other is a $(k×m×p)$ tensor, out will be a $(j×k×n×p)$ tensor."
   ]
  },
  {
   "cell_type": "code",
   "execution_count": 239,
   "id": "8358b6b8",
   "metadata": {},
   "outputs": [
    {
     "name": "stdout",
     "output_type": "stream",
     "text": [
      "size of tensor_1 = torch.Size([3, 1, 4, 5])\n",
      "size of tensor_2 = torch.Size([2, 5, 6])\n",
      "size of tensor_1 @ tensor_2 = torch.Size([3, 2, 4, 6])\n"
     ]
    }
   ],
   "source": [
    "tensor_1 = torch.arange(1, 3*4*5+1).reshape(3, 1, 4, 5)\n",
    "tensor_2 = torch.arange(1, 2*5*6+1).reshape(2, 5, 6)\n",
    "print(\"size of tensor_1 =\", tensor_1.size())\n",
    "print(\"size of tensor_2 =\", tensor_2.size())\n",
    "print(\"size of tensor_1 @ tensor_2 =\", torch.matmul(tensor_1, tensor_2).size())"
   ]
  },
  {
   "cell_type": "code",
   "execution_count": 232,
   "id": "c5605707",
   "metadata": {},
   "outputs": [
    {
     "data": {
      "text/plain": [
       "tensor([[[[  255,   270,   285,   300,   315,   330],\n",
       "          [  580,   620,   660,   700,   740,   780],\n",
       "          [  905,   970,  1035,  1100,  1165,  1230],\n",
       "          [ 1230,  1320,  1410,  1500,  1590,  1680]],\n",
       "\n",
       "         [[  705,   720,   735,   750,   765,   780],\n",
       "          [ 1780,  1820,  1860,  1900,  1940,  1980],\n",
       "          [ 2855,  2920,  2985,  3050,  3115,  3180],\n",
       "          [ 3930,  4020,  4110,  4200,  4290,  4380]]],\n",
       "\n",
       "\n",
       "        [[[ 1555,  1670,  1785,  1900,  2015,  2130],\n",
       "          [ 1880,  2020,  2160,  2300,  2440,  2580],\n",
       "          [ 2205,  2370,  2535,  2700,  2865,  3030],\n",
       "          [ 2530,  2720,  2910,  3100,  3290,  3480]],\n",
       "\n",
       "         [[ 5005,  5120,  5235,  5350,  5465,  5580],\n",
       "          [ 6080,  6220,  6360,  6500,  6640,  6780],\n",
       "          [ 7155,  7320,  7485,  7650,  7815,  7980],\n",
       "          [ 8230,  8420,  8610,  8800,  8990,  9180]]],\n",
       "\n",
       "\n",
       "        [[[ 2855,  3070,  3285,  3500,  3715,  3930],\n",
       "          [ 3180,  3420,  3660,  3900,  4140,  4380],\n",
       "          [ 3505,  3770,  4035,  4300,  4565,  4830],\n",
       "          [ 3830,  4120,  4410,  4700,  4990,  5280]],\n",
       "\n",
       "         [[ 9305,  9520,  9735,  9950, 10165, 10380],\n",
       "          [10380, 10620, 10860, 11100, 11340, 11580],\n",
       "          [11455, 11720, 11985, 12250, 12515, 12780],\n",
       "          [12530, 12820, 13110, 13400, 13690, 13980]]]])"
      ]
     },
     "execution_count": 232,
     "metadata": {},
     "output_type": "execute_result"
    }
   ],
   "source": [
    "torch.matmul(tensor_1, tensor_2)"
   ]
  },
  {
   "cell_type": "code",
   "execution_count": 233,
   "id": "421fb252",
   "metadata": {},
   "outputs": [
    {
     "name": "stdout",
     "output_type": "stream",
     "text": [
      "tensor([[ 255,  270,  285,  300,  315,  330],\n",
      "        [ 580,  620,  660,  700,  740,  780],\n",
      "        [ 905,  970, 1035, 1100, 1165, 1230],\n",
      "        [1230, 1320, 1410, 1500, 1590, 1680]])\n",
      "tensor([[ 705,  720,  735,  750,  765,  780],\n",
      "        [1780, 1820, 1860, 1900, 1940, 1980],\n",
      "        [2855, 2920, 2985, 3050, 3115, 3180],\n",
      "        [3930, 4020, 4110, 4200, 4290, 4380]])\n",
      "tensor([[1555, 1670, 1785, 1900, 2015, 2130],\n",
      "        [1880, 2020, 2160, 2300, 2440, 2580],\n",
      "        [2205, 2370, 2535, 2700, 2865, 3030],\n",
      "        [2530, 2720, 2910, 3100, 3290, 3480]])\n",
      "tensor([[5005, 5120, 5235, 5350, 5465, 5580],\n",
      "        [6080, 6220, 6360, 6500, 6640, 6780],\n",
      "        [7155, 7320, 7485, 7650, 7815, 7980],\n",
      "        [8230, 8420, 8610, 8800, 8990, 9180]])\n",
      "tensor([[2855, 3070, 3285, 3500, 3715, 3930],\n",
      "        [3180, 3420, 3660, 3900, 4140, 4380],\n",
      "        [3505, 3770, 4035, 4300, 4565, 4830],\n",
      "        [3830, 4120, 4410, 4700, 4990, 5280]])\n",
      "tensor([[ 9305,  9520,  9735,  9950, 10165, 10380],\n",
      "        [10380, 10620, 10860, 11100, 11340, 11580],\n",
      "        [11455, 11720, 11985, 12250, 12515, 12780],\n",
      "        [12530, 12820, 13110, 13400, 13690, 13980]])\n"
     ]
    }
   ],
   "source": [
    "for ii in range(tensor_1.size(0)):\n",
    "    for jj in range(tensor_2.size(0)):\n",
    "        print(tensor_1[ii][0] @ tensor_2[jj])"
   ]
  },
  {
   "cell_type": "markdown",
   "id": "60276d5b",
   "metadata": {},
   "source": [
    "* case 3"
   ]
  },
  {
   "cell_type": "code",
   "execution_count": 240,
   "id": "867697ee",
   "metadata": {},
   "outputs": [
    {
     "name": "stdout",
     "output_type": "stream",
     "text": [
      "size of tensor_1 = torch.Size([3, 4, 4])\n",
      "size of tensor_2 = torch.Size([2, 4, 4])\n"
     ]
    },
    {
     "ename": "RuntimeError",
     "evalue": "The size of tensor a (3) must match the size of tensor b (2) at non-singleton dimension 0",
     "output_type": "error",
     "traceback": [
      "\u001b[0;31m---------------------------------------------------------------------------\u001b[0m",
      "\u001b[0;31mRuntimeError\u001b[0m                              Traceback (most recent call last)",
      "Input \u001b[0;32mIn [240]\u001b[0m, in \u001b[0;36m<cell line: 5>\u001b[0;34m()\u001b[0m\n\u001b[1;32m      3\u001b[0m \u001b[38;5;28mprint\u001b[39m(\u001b[38;5;124m\"\u001b[39m\u001b[38;5;124msize of tensor_1 =\u001b[39m\u001b[38;5;124m\"\u001b[39m, tensor_1\u001b[38;5;241m.\u001b[39msize())\n\u001b[1;32m      4\u001b[0m \u001b[38;5;28mprint\u001b[39m(\u001b[38;5;124m\"\u001b[39m\u001b[38;5;124msize of tensor_2 =\u001b[39m\u001b[38;5;124m\"\u001b[39m, tensor_2\u001b[38;5;241m.\u001b[39msize())\n\u001b[0;32m----> 5\u001b[0m \u001b[38;5;28mprint\u001b[39m(\u001b[38;5;124m\"\u001b[39m\u001b[38;5;124msize of tensor_1 @ tensor_2 =\u001b[39m\u001b[38;5;124m\"\u001b[39m, \u001b[43mtorch\u001b[49m\u001b[38;5;241;43m.\u001b[39;49m\u001b[43mmatmul\u001b[49m\u001b[43m(\u001b[49m\u001b[43mtensor_1\u001b[49m\u001b[43m,\u001b[49m\u001b[43m \u001b[49m\u001b[43mtensor_2\u001b[49m\u001b[43m)\u001b[49m\u001b[38;5;241m.\u001b[39msize())\n",
      "\u001b[0;31mRuntimeError\u001b[0m: The size of tensor a (3) must match the size of tensor b (2) at non-singleton dimension 0"
     ]
    }
   ],
   "source": [
    "tensor_1 = torch.arange(1, 3*4*4+1).reshape(3, 4, 4)\n",
    "tensor_2 = torch.arange(1, 2*4*4+1).reshape(2, 4, 4)\n",
    "print(\"size of tensor_1 =\", tensor_1.size())\n",
    "print(\"size of tensor_2 =\", tensor_2.size())\n",
    "print(\"size of tensor_1 @ tensor_2 =\", torch.matmul(tensor_1, tensor_2).size())"
   ]
  },
  {
   "cell_type": "code",
   "execution_count": 241,
   "id": "d82475fd",
   "metadata": {},
   "outputs": [
    {
     "name": "stdout",
     "output_type": "stream",
     "text": [
      "size of tensor_1 = torch.Size([3, 1, 4, 4])\n",
      "size of tensor_2 = torch.Size([2, 4, 4])\n",
      "size of tensor_1 @ tensor_2 = torch.Size([3, 2, 4, 4])\n"
     ]
    }
   ],
   "source": [
    "tensor_1 = torch.unsqueeze(torch.arange(1, 3*4*4+1).reshape(3, 4, 4), dim = 1)\n",
    "tensor_2 = torch.arange(1, 2*4*4+1).reshape(2, 4, 4)\n",
    "print(\"size of tensor_1 =\", tensor_1.size())\n",
    "print(\"size of tensor_2 =\", tensor_2.size())\n",
    "print(\"size of tensor_1 @ tensor_2 =\", torch.matmul(tensor_1, tensor_2).size())"
   ]
  },
  {
   "cell_type": "markdown",
   "id": "a19a5ab9",
   "metadata": {},
   "source": [
    "### torch.addcmul\n",
    "torch.addcmul(input, tensor1, tensor2, *, value=1, out=None)\n",
    "$$ out_i = input_i + value \\times tensor1_i \\times tensor2_i $$"
   ]
  },
  {
   "cell_type": "code",
   "execution_count": 350,
   "id": "5bbadb19",
   "metadata": {},
   "outputs": [
    {
     "data": {
      "text/plain": [
       "tensor([10., 13.])"
      ]
     },
     "execution_count": 350,
     "metadata": {},
     "output_type": "execute_result"
    }
   ],
   "source": [
    "torch.addcmul(input=torch.tensor([4.,5.]),\n",
    "              tensor1=torch.tensor([1.,2.]),\n",
    "              tensor2=torch.tensor([3.,2.]),\n",
    "              value=2)"
   ]
  },
  {
   "cell_type": "code",
   "execution_count": 351,
   "id": "1b039845",
   "metadata": {},
   "outputs": [
    {
     "data": {
      "text/plain": [
       "tensor([10., 13.])"
      ]
     },
     "execution_count": 351,
     "metadata": {},
     "output_type": "execute_result"
    }
   ],
   "source": [
    "torch.tensor([4.,5.]).addcmul(tensor1=torch.tensor([1.,2.]),\n",
    "                              tensor2=torch.tensor([3.,2.]),\n",
    "                              value=2)"
   ]
  },
  {
   "cell_type": "markdown",
   "id": "18db6247",
   "metadata": {},
   "source": [
    "## 除法"
   ]
  },
  {
   "cell_type": "markdown",
   "id": "628f16d6",
   "metadata": {},
   "source": [
    "### torch.div 除法\n",
    "torch.div(input, other, \\*, rounding_mode=None, out=None)  \n",
    "$\\iff$ torch.divide(input, other, *, rounding_mode=None, out=None)\n",
    "1. rounding_mode=None: 四舍五入 $\\iff$ torch.true_divide(dividend, divisor, *, out) \n",
    "2. rounding_mode=\"trunc\": 向0取整\n",
    "3. rounding_mode=\"floor\": 向下取整"
   ]
  },
  {
   "cell_type": "markdown",
   "id": "55298325",
   "metadata": {},
   "source": [
    "* other is int, rounding_mode=None"
   ]
  },
  {
   "cell_type": "code",
   "execution_count": null,
   "id": "2deff585",
   "metadata": {},
   "outputs": [],
   "source": [
    "\"\"\"\n",
    "torch.div(torch.tensor([-4., 1., 4.]), 3)\n",
    "torch.divide(torch.tensor([-4., 1., 4.]), 3)\n",
    "torch.true_divide(torch.tensor([-4., 1., 4.]), 3)\n",
    "torch.tensor([-4., 1., 4.]).div(3)\n",
    "torch.tensor([-4., 1., 4.]).divide(3)\n",
    "torch.tensor([-4., 1., 4.]).true_divide(3)\n",
    "\"\"\""
   ]
  },
  {
   "cell_type": "code",
   "execution_count": 312,
   "id": "393adb82",
   "metadata": {},
   "outputs": [
    {
     "data": {
      "text/plain": [
       "tensor([-1.3333,  0.3333,  1.3333])"
      ]
     },
     "execution_count": 312,
     "metadata": {},
     "output_type": "execute_result"
    }
   ],
   "source": [
    "torch.div(torch.tensor([-4., 1., 4.]), 3)"
   ]
  },
  {
   "cell_type": "code",
   "execution_count": 313,
   "id": "b16f23dc",
   "metadata": {},
   "outputs": [
    {
     "data": {
      "text/plain": [
       "tensor([-1.3333,  0.3333,  1.3333])"
      ]
     },
     "execution_count": 313,
     "metadata": {},
     "output_type": "execute_result"
    }
   ],
   "source": [
    "torch.divide(torch.tensor([-4., 1., 4.]), 3)"
   ]
  },
  {
   "cell_type": "code",
   "execution_count": 314,
   "id": "5924d3c5",
   "metadata": {},
   "outputs": [
    {
     "data": {
      "text/plain": [
       "tensor([-1.3333,  0.3333,  1.3333])"
      ]
     },
     "execution_count": 314,
     "metadata": {},
     "output_type": "execute_result"
    }
   ],
   "source": [
    "torch.true_divide(torch.tensor([-4., 1., 4.]), 3)"
   ]
  },
  {
   "cell_type": "code",
   "execution_count": 315,
   "id": "8200c333",
   "metadata": {},
   "outputs": [
    {
     "data": {
      "text/plain": [
       "tensor([-1.3333,  0.3333,  1.3333])"
      ]
     },
     "execution_count": 315,
     "metadata": {},
     "output_type": "execute_result"
    }
   ],
   "source": [
    "torch.tensor([-4., 1., 4.]).div(3)"
   ]
  },
  {
   "cell_type": "code",
   "execution_count": 316,
   "id": "60cc30cd",
   "metadata": {},
   "outputs": [
    {
     "data": {
      "text/plain": [
       "tensor([-1.3333,  0.3333,  1.3333])"
      ]
     },
     "execution_count": 316,
     "metadata": {},
     "output_type": "execute_result"
    }
   ],
   "source": [
    "torch.tensor([-4., 1., 4.]).divide(3)"
   ]
  },
  {
   "cell_type": "code",
   "execution_count": 317,
   "id": "ba85907b",
   "metadata": {},
   "outputs": [
    {
     "data": {
      "text/plain": [
       "tensor([-1.3333,  0.3333,  1.3333])"
      ]
     },
     "execution_count": 317,
     "metadata": {},
     "output_type": "execute_result"
    }
   ],
   "source": [
    "torch.tensor([-4., 1., 4.]).true_divide(3)"
   ]
  },
  {
   "cell_type": "markdown",
   "id": "8288e721",
   "metadata": {},
   "source": [
    "* other is int, rounding_mode=\"trunc\""
   ]
  },
  {
   "cell_type": "code",
   "execution_count": 306,
   "id": "58bd29fd",
   "metadata": {},
   "outputs": [
    {
     "data": {
      "text/plain": [
       "tensor([-1.,  0.,  1.])"
      ]
     },
     "execution_count": 306,
     "metadata": {},
     "output_type": "execute_result"
    }
   ],
   "source": [
    "torch.div(torch.tensor([-4., 1., 4.]), 3, rounding_mode=\"trunc\")"
   ]
  },
  {
   "cell_type": "markdown",
   "id": "e7be75c9",
   "metadata": {},
   "source": [
    "* other is int, rounding_mode=\"floor\""
   ]
  },
  {
   "cell_type": "code",
   "execution_count": 307,
   "id": "cb005481",
   "metadata": {},
   "outputs": [
    {
     "data": {
      "text/plain": [
       "tensor([-2.,  0.,  1.])"
      ]
     },
     "execution_count": 307,
     "metadata": {},
     "output_type": "execute_result"
    }
   ],
   "source": [
    "torch.div(torch.tensor([-4., 1., 4.]), 3, rounding_mode=\"floor\")"
   ]
  },
  {
   "cell_type": "markdown",
   "id": "31471f0f",
   "metadata": {},
   "source": [
    "* other is Tensor"
   ]
  },
  {
   "cell_type": "code",
   "execution_count": 261,
   "id": "4fffae4d",
   "metadata": {},
   "outputs": [],
   "source": [
    "tensor_1 = torch.arange(-6, 6).reshape(4, 3)\n",
    "tensor_2 = torch.ones(3, dtype=torch.int) * 3"
   ]
  },
  {
   "cell_type": "code",
   "execution_count": 265,
   "id": "f69fafa9",
   "metadata": {},
   "outputs": [
    {
     "data": {
      "text/plain": [
       "tensor([[-2.0000, -1.6667, -1.3333],\n",
       "        [-1.0000, -0.6667, -0.3333],\n",
       "        [ 0.0000,  0.3333,  0.6667],\n",
       "        [ 1.0000,  1.3333,  1.6667]])"
      ]
     },
     "execution_count": 265,
     "metadata": {},
     "output_type": "execute_result"
    }
   ],
   "source": [
    "torch.div(tensor_1, tensor_2)"
   ]
  },
  {
   "cell_type": "code",
   "execution_count": 267,
   "id": "8a67ef70",
   "metadata": {},
   "outputs": [
    {
     "name": "stdout",
     "output_type": "stream",
     "text": [
      "tensor([-2.0000, -1.6667, -1.3333])\n",
      "tensor([-1.0000, -0.6667, -0.3333])\n",
      "tensor([0.0000, 0.3333, 0.6667])\n",
      "tensor([1.0000, 1.3333, 1.6667])\n"
     ]
    }
   ],
   "source": [
    "for ii in range(tensor_1.size(0)):\n",
    "    print(tensor_1[ii].div(tensor_2))"
   ]
  },
  {
   "cell_type": "markdown",
   "id": "3b283ff9",
   "metadata": {},
   "source": [
    "### torch.addcdiv\n",
    "torch.addcdiv(input, tensor1, tensor2, *, value=1, out=None)\n",
    "$$ out_i = input_i + value \\times \\frac{tensor1_i}{tensor2_i} $$"
   ]
  },
  {
   "cell_type": "code",
   "execution_count": 353,
   "id": "febedbb9",
   "metadata": {},
   "outputs": [
    {
     "data": {
      "text/plain": [
       "tensor([7.0000, 7.6667])"
      ]
     },
     "execution_count": 353,
     "metadata": {},
     "output_type": "execute_result"
    }
   ],
   "source": [
    "torch.addcdiv(input=torch.tensor([4.,5.]),\n",
    "              tensor1=torch.tensor([3.,4.]),\n",
    "              tensor2=torch.tensor([2.,3.]),\n",
    "              value=2)"
   ]
  },
  {
   "cell_type": "code",
   "execution_count": 354,
   "id": "6e765395",
   "metadata": {},
   "outputs": [
    {
     "data": {
      "text/plain": [
       "tensor([7.0000, 7.6667])"
      ]
     },
     "execution_count": 354,
     "metadata": {},
     "output_type": "execute_result"
    }
   ],
   "source": [
    "torch.tensor([4.,5.]).addcdiv(tensor1=torch.tensor([3.,4.]),\n",
    "                              tensor2=torch.tensor([2.,3.]),\n",
    "                              value=2)"
   ]
  },
  {
   "cell_type": "markdown",
   "id": "d57723f2",
   "metadata": {},
   "source": [
    "## 绝对值/近似"
   ]
  },
  {
   "cell_type": "code",
   "execution_count": 280,
   "id": "0ac3346e",
   "metadata": {},
   "outputs": [],
   "source": [
    "tensor_1 = torch.tensor([-4.2, -0.1, 0.2, 4.6])"
   ]
  },
  {
   "cell_type": "markdown",
   "id": "a43f3461",
   "metadata": {},
   "source": [
    "### torch.abs 绝对值\n",
    "torch.abs(input, \\*, out=None)  \n",
    "$\\iff$ torch.absolute(input, \\*, out=None)"
   ]
  },
  {
   "cell_type": "code",
   "execution_count": null,
   "id": "c8ddcb5b",
   "metadata": {},
   "outputs": [],
   "source": [
    "\"\"\"\n",
    "torch.abs(tensor_1)\n",
    "tensor_1.abs()\n",
    "torch.absolute(tensor_1)\n",
    "tensor_1.absolute()\n",
    "\"\"\""
   ]
  },
  {
   "cell_type": "code",
   "execution_count": 281,
   "id": "b072bd5f",
   "metadata": {},
   "outputs": [
    {
     "data": {
      "text/plain": [
       "tensor([4.2000, 0.1000, 0.2000, 4.6000])"
      ]
     },
     "execution_count": 281,
     "metadata": {},
     "output_type": "execute_result"
    }
   ],
   "source": [
    "torch.abs(tensor_1)"
   ]
  },
  {
   "cell_type": "code",
   "execution_count": 282,
   "id": "b336895a",
   "metadata": {},
   "outputs": [
    {
     "data": {
      "text/plain": [
       "tensor([4.2000, 0.1000, 0.2000, 4.6000])"
      ]
     },
     "execution_count": 282,
     "metadata": {},
     "output_type": "execute_result"
    }
   ],
   "source": [
    "tensor_1.abs()"
   ]
  },
  {
   "cell_type": "code",
   "execution_count": 283,
   "id": "129dce84",
   "metadata": {},
   "outputs": [
    {
     "data": {
      "text/plain": [
       "tensor([4.2000, 0.1000, 0.2000, 4.6000])"
      ]
     },
     "execution_count": 283,
     "metadata": {},
     "output_type": "execute_result"
    }
   ],
   "source": [
    "torch.absolute(tensor_1)"
   ]
  },
  {
   "cell_type": "code",
   "execution_count": 284,
   "id": "99b175e1",
   "metadata": {},
   "outputs": [
    {
     "data": {
      "text/plain": [
       "tensor([4.2000, 0.1000, 0.2000, 4.6000])"
      ]
     },
     "execution_count": 284,
     "metadata": {},
     "output_type": "execute_result"
    }
   ],
   "source": [
    "tensor_1.absolute()"
   ]
  },
  {
   "cell_type": "markdown",
   "id": "97dcd90e",
   "metadata": {},
   "source": [
    "### torch.round 四舍五入\n",
    "torch.round(input, \\*, decimals=0, out=None)  "
   ]
  },
  {
   "cell_type": "code",
   "execution_count": 319,
   "id": "602ae22f",
   "metadata": {},
   "outputs": [
    {
     "data": {
      "text/plain": [
       "tensor([-4., -0.,  0.,  5.])"
      ]
     },
     "execution_count": 319,
     "metadata": {},
     "output_type": "execute_result"
    }
   ],
   "source": [
    "torch.round(tensor_1)"
   ]
  },
  {
   "cell_type": "markdown",
   "id": "f457876a",
   "metadata": {},
   "source": [
    ">**notice**: 与两个整数等距的值, 四舍五入到最近的偶数值<br>\n",
    "Values equidistant from two integers are rounded towards the nearest even value "
   ]
  },
  {
   "cell_type": "code",
   "execution_count": 323,
   "id": "3c1b26bd",
   "metadata": {},
   "outputs": [
    {
     "name": "stdout",
     "output_type": "stream",
     "text": [
      "tensor([-2.5000, -1.5000, -0.5000,  0.5000,  1.5000,  2.5000])\n"
     ]
    }
   ],
   "source": [
    "tensor_2 = torch.arange(-2.5, 3.0, step=1)\n",
    "print(tensor_2)"
   ]
  },
  {
   "cell_type": "code",
   "execution_count": 324,
   "id": "657976b2",
   "metadata": {},
   "outputs": [
    {
     "data": {
      "text/plain": [
       "tensor([-2., -2., -0.,  0.,  2.,  2.])"
      ]
     },
     "execution_count": 324,
     "metadata": {},
     "output_type": "execute_result"
    }
   ],
   "source": [
    "torch.round(tensor_2)"
   ]
  },
  {
   "cell_type": "code",
   "execution_count": 320,
   "id": "2f867a63",
   "metadata": {},
   "outputs": [
    {
     "data": {
      "text/plain": [
       "tensor([0.1230])"
      ]
     },
     "execution_count": 320,
     "metadata": {},
     "output_type": "execute_result"
    }
   ],
   "source": [
    "torch.round(torch.tensor([0.1234567]), decimals=3)"
   ]
  },
  {
   "cell_type": "code",
   "execution_count": 321,
   "id": "186839dc",
   "metadata": {},
   "outputs": [
    {
     "data": {
      "text/plain": [
       "tensor([1000.])"
      ]
     },
     "execution_count": 321,
     "metadata": {},
     "output_type": "execute_result"
    }
   ],
   "source": [
    "torch.round(torch.tensor([1200.1234567]), decimals=-3)"
   ]
  },
  {
   "cell_type": "markdown",
   "id": "a7966fea",
   "metadata": {},
   "source": [
    "### torch.ceil 向上取整\n",
    "torch.ceil(input, *, out=None)"
   ]
  },
  {
   "cell_type": "code",
   "execution_count": 286,
   "id": "6982af6a",
   "metadata": {},
   "outputs": [
    {
     "name": "stdout",
     "output_type": "stream",
     "text": [
      "tensor([-4.2000, -0.1000,  0.2000,  4.6000])\n"
     ]
    }
   ],
   "source": [
    "print(tensor_1)"
   ]
  },
  {
   "cell_type": "code",
   "execution_count": 285,
   "id": "a9cef0c2",
   "metadata": {},
   "outputs": [
    {
     "data": {
      "text/plain": [
       "tensor([-4., -0.,  1.,  5.])"
      ]
     },
     "execution_count": 285,
     "metadata": {},
     "output_type": "execute_result"
    }
   ],
   "source": [
    "torch.ceil(tensor_1)"
   ]
  },
  {
   "cell_type": "code",
   "execution_count": 287,
   "id": "8737d7ae",
   "metadata": {},
   "outputs": [
    {
     "data": {
      "text/plain": [
       "tensor([-4., -0.,  1.,  5.])"
      ]
     },
     "execution_count": 287,
     "metadata": {},
     "output_type": "execute_result"
    }
   ],
   "source": [
    "tensor_1.ceil()"
   ]
  },
  {
   "cell_type": "markdown",
   "id": "1ad94e28",
   "metadata": {},
   "source": [
    "### torch.floor 向下取整\n",
    "torch.floor(input, *, out=None)"
   ]
  },
  {
   "cell_type": "code",
   "execution_count": 288,
   "id": "f2addca2",
   "metadata": {},
   "outputs": [
    {
     "data": {
      "text/plain": [
       "tensor([-5., -1.,  0.,  4.])"
      ]
     },
     "execution_count": 288,
     "metadata": {},
     "output_type": "execute_result"
    }
   ],
   "source": [
    "torch.floor(tensor_1)"
   ]
  },
  {
   "cell_type": "code",
   "execution_count": 289,
   "id": "60a56b73",
   "metadata": {},
   "outputs": [
    {
     "data": {
      "text/plain": [
       "tensor([-5., -1.,  0.,  4.])"
      ]
     },
     "execution_count": 289,
     "metadata": {},
     "output_type": "execute_result"
    }
   ],
   "source": [
    "tensor_1.floor()"
   ]
  },
  {
   "cell_type": "markdown",
   "id": "09932916",
   "metadata": {},
   "source": [
    "### torch.trunc 向0取整\n",
    "torch.trunc(input, \\*, out=None)  \n",
    "$\\iff$ torch.fix(input, \\*, out=None)"
   ]
  },
  {
   "cell_type": "code",
   "execution_count": 290,
   "id": "354ebcec",
   "metadata": {},
   "outputs": [
    {
     "name": "stdout",
     "output_type": "stream",
     "text": [
      "tensor([-4.2000, -0.1000,  0.2000,  4.6000])\n"
     ]
    }
   ],
   "source": [
    "print(tensor_1)"
   ]
  },
  {
   "cell_type": "code",
   "execution_count": null,
   "id": "1692f735",
   "metadata": {},
   "outputs": [],
   "source": [
    "\"\"\"\n",
    "torch.trunc(tensor_1)\n",
    "tensor_1.trunc()\n",
    "torch.fix(tensor_1)\n",
    "tensor_1.fix()\n",
    "\"\"\""
   ]
  },
  {
   "cell_type": "code",
   "execution_count": 291,
   "id": "15714040",
   "metadata": {},
   "outputs": [
    {
     "data": {
      "text/plain": [
       "tensor([-4., -0.,  0.,  4.])"
      ]
     },
     "execution_count": 291,
     "metadata": {},
     "output_type": "execute_result"
    }
   ],
   "source": [
    "torch.trunc(tensor_1)"
   ]
  },
  {
   "cell_type": "code",
   "execution_count": 292,
   "id": "d581e16e",
   "metadata": {},
   "outputs": [
    {
     "data": {
      "text/plain": [
       "tensor([-4., -0.,  0.,  4.])"
      ]
     },
     "execution_count": 292,
     "metadata": {},
     "output_type": "execute_result"
    }
   ],
   "source": [
    "tensor_1.trunc()"
   ]
  },
  {
   "cell_type": "code",
   "execution_count": 293,
   "id": "104478ea",
   "metadata": {},
   "outputs": [
    {
     "data": {
      "text/plain": [
       "tensor([-4., -0.,  0.,  4.])"
      ]
     },
     "execution_count": 293,
     "metadata": {},
     "output_type": "execute_result"
    }
   ],
   "source": [
    "torch.fix(tensor_1)"
   ]
  },
  {
   "cell_type": "code",
   "execution_count": 294,
   "id": "015a91c2",
   "metadata": {},
   "outputs": [
    {
     "data": {
      "text/plain": [
       "tensor([-4., -0.,  0.,  4.])"
      ]
     },
     "execution_count": 294,
     "metadata": {},
     "output_type": "execute_result"
    }
   ],
   "source": [
    "tensor_1.fix()"
   ]
  },
  {
   "cell_type": "markdown",
   "id": "fa5bf246",
   "metadata": {},
   "source": [
    "## sum"
   ]
  },
  {
   "cell_type": "markdown",
   "id": "acfb794a",
   "metadata": {},
   "source": [
    "### torch.sum\n",
    "torch.sum(input, *, dtype=None)  \n",
    "torch.sum(input, dim, keepdim=False, *, dtype=None)"
   ]
  },
  {
   "cell_type": "code",
   "execution_count": 11,
   "id": "ee77ee57",
   "metadata": {},
   "outputs": [
    {
     "name": "stdout",
     "output_type": "stream",
     "text": [
      "tensor([[[ 1.,  2.,  3.,  4.],\n",
      "         [ 5.,  6.,  7.,  8.],\n",
      "         [ 9., 10., 11., 12.]],\n",
      "\n",
      "        [[13., 14., 15., 16.],\n",
      "         [17., 18., 19., 20.],\n",
      "         [21., 22., 23., 24.]]])\n"
     ]
    }
   ],
   "source": [
    "tensor_1 = torch.arange(1, 2 * 3 * 4 + 1, dtype=torch.float).view(2, 3, 4)\n",
    "print(tensor_1)"
   ]
  },
  {
   "cell_type": "code",
   "execution_count": 12,
   "id": "a373dd6f",
   "metadata": {},
   "outputs": [
    {
     "data": {
      "text/plain": [
       "tensor(300.)"
      ]
     },
     "execution_count": 12,
     "metadata": {},
     "output_type": "execute_result"
    }
   ],
   "source": [
    "torch.sum(tensor_1)"
   ]
  },
  {
   "cell_type": "code",
   "execution_count": 13,
   "id": "2d6b0ef8",
   "metadata": {},
   "outputs": [
    {
     "data": {
      "text/plain": [
       "tensor(300.)"
      ]
     },
     "execution_count": 13,
     "metadata": {},
     "output_type": "execute_result"
    }
   ],
   "source": [
    "tensor_1.sum()"
   ]
  },
  {
   "cell_type": "code",
   "execution_count": 14,
   "id": "59d427ad",
   "metadata": {},
   "outputs": [
    {
     "data": {
      "text/plain": [
       "tensor([ 78., 222.])"
      ]
     },
     "execution_count": 14,
     "metadata": {},
     "output_type": "execute_result"
    }
   ],
   "source": [
    "torch.sum(tensor_1, (1, 2)) # 对dim=1和dim=2求和"
   ]
  },
  {
   "cell_type": "code",
   "execution_count": 15,
   "id": "3e733f3c",
   "metadata": {},
   "outputs": [
    {
     "name": "stdout",
     "output_type": "stream",
     "text": [
      "78 , 222\n"
     ]
    }
   ],
   "source": [
    "print((1 + 12) * 6, \",\", (13 + 24) * 6)"
   ]
  },
  {
   "cell_type": "code",
   "execution_count": 16,
   "id": "21e6f96f",
   "metadata": {},
   "outputs": [
    {
     "data": {
      "text/plain": [
       "tensor([ 68., 100., 132.])"
      ]
     },
     "execution_count": 16,
     "metadata": {},
     "output_type": "execute_result"
    }
   ],
   "source": [
    "torch.sum(tensor_1, (2, 0)) # 对dim=0和dim=2求和"
   ]
  },
  {
   "cell_type": "code",
   "execution_count": 17,
   "id": "a8fa2100",
   "metadata": {},
   "outputs": [
    {
     "name": "stdout",
     "output_type": "stream",
     "text": [
      "68 , 100 , 132\n"
     ]
    }
   ],
   "source": [
    "print((1 + 2 + 3 + 4) + (13 + 14 + 15 + 16), \",\",\n",
    "      (5 + 6 + 7 + 8) + (17 + 18 + 19 + 20), \",\",\n",
    "      (9 + 10 + 11 + 12) + (21 + 22 + 23 + 24))"
   ]
  },
  {
   "cell_type": "code",
   "execution_count": 18,
   "id": "d8811c42",
   "metadata": {},
   "outputs": [
    {
     "data": {
      "text/plain": [
       "tensor([[[ 78.]],\n",
       "\n",
       "        [[222.]]])"
      ]
     },
     "execution_count": 18,
     "metadata": {},
     "output_type": "execute_result"
    }
   ],
   "source": [
    "torch.sum(tensor_1, (1, 2), keepdim=True)"
   ]
  },
  {
   "cell_type": "markdown",
   "id": "578c3285",
   "metadata": {},
   "source": [
    "### torch.nansum\n",
    "torch.nansum(input, *, dtype=None)  \n",
    "torch.nansum(input, dim, keepdim=False, *, dtype=None)"
   ]
  },
  {
   "cell_type": "code",
   "execution_count": 19,
   "id": "bc93f99d",
   "metadata": {},
   "outputs": [],
   "source": [
    "tensor_2 = torch.tensor([[1., 2., float('nan'), 4.], [5., float('nan'), 7., 8.]])"
   ]
  },
  {
   "cell_type": "code",
   "execution_count": 20,
   "id": "8081fd5d",
   "metadata": {},
   "outputs": [
    {
     "data": {
      "text/plain": [
       "tensor(27.)"
      ]
     },
     "execution_count": 20,
     "metadata": {},
     "output_type": "execute_result"
    }
   ],
   "source": [
    "torch.nansum(tensor_2)"
   ]
  },
  {
   "cell_type": "code",
   "execution_count": 21,
   "id": "1f3a890e",
   "metadata": {},
   "outputs": [
    {
     "data": {
      "text/plain": [
       "tensor(27.)"
      ]
     },
     "execution_count": 21,
     "metadata": {},
     "output_type": "execute_result"
    }
   ],
   "source": [
    "tensor_2.nansum()"
   ]
  },
  {
   "cell_type": "code",
   "execution_count": 22,
   "id": "b7a71a27",
   "metadata": {},
   "outputs": [
    {
     "data": {
      "text/plain": [
       "tensor(27.)"
      ]
     },
     "execution_count": 22,
     "metadata": {},
     "output_type": "execute_result"
    }
   ],
   "source": [
    "torch.nansum(tensor_2, dim=(0, 1))"
   ]
  },
  {
   "cell_type": "code",
   "execution_count": 23,
   "id": "02b45693",
   "metadata": {},
   "outputs": [
    {
     "data": {
      "text/plain": [
       "tensor(nan)"
      ]
     },
     "execution_count": 23,
     "metadata": {},
     "output_type": "execute_result"
    }
   ],
   "source": [
    "torch.sum(tensor_2)"
   ]
  },
  {
   "cell_type": "code",
   "execution_count": 24,
   "id": "063bd23b",
   "metadata": {},
   "outputs": [
    {
     "data": {
      "text/plain": [
       "tensor([ 6.,  2.,  7., 12.])"
      ]
     },
     "execution_count": 24,
     "metadata": {},
     "output_type": "execute_result"
    }
   ],
   "source": [
    "torch.nansum(tensor_2, dim=0)"
   ]
  },
  {
   "cell_type": "code",
   "execution_count": 25,
   "id": "d5794db0",
   "metadata": {},
   "outputs": [
    {
     "data": {
      "text/plain": [
       "tensor([ 7., 20.])"
      ]
     },
     "execution_count": 25,
     "metadata": {},
     "output_type": "execute_result"
    }
   ],
   "source": [
    "torch.nansum(tensor_2, dim=1)"
   ]
  },
  {
   "cell_type": "markdown",
   "id": "cd399097",
   "metadata": {},
   "source": [
    "### torch.cumsum\n",
    "torch.cumsum(input, dim, *, dtype=None, out=None)\n",
    "$$y_i = x_1 + x_2 + x_3 + \\cdots + x_i $$"
   ]
  },
  {
   "cell_type": "code",
   "execution_count": 26,
   "id": "6d2404ac",
   "metadata": {},
   "outputs": [
    {
     "name": "stdout",
     "output_type": "stream",
     "text": [
      "tensor([[[ 1.,  2.,  3.,  4.],\n",
      "         [ 5.,  6.,  7.,  8.],\n",
      "         [ 9., 10., 11., 12.]],\n",
      "\n",
      "        [[13., 14., 15., 16.],\n",
      "         [17., 18., 19., 20.],\n",
      "         [21., 22., 23., 24.]]])\n"
     ]
    }
   ],
   "source": [
    "print(tensor_1)"
   ]
  },
  {
   "cell_type": "code",
   "execution_count": 27,
   "id": "901689a5",
   "metadata": {},
   "outputs": [
    {
     "data": {
      "text/plain": [
       "tensor([[[ 1.,  2.,  3.,  4.],\n",
       "         [ 5.,  6.,  7.,  8.],\n",
       "         [ 9., 10., 11., 12.]],\n",
       "\n",
       "        [[14., 16., 18., 20.],\n",
       "         [22., 24., 26., 28.],\n",
       "         [30., 32., 34., 36.]]])"
      ]
     },
     "execution_count": 27,
     "metadata": {},
     "output_type": "execute_result"
    }
   ],
   "source": [
    "torch.cumsum(tensor_1, dim=0)"
   ]
  },
  {
   "cell_type": "code",
   "execution_count": 28,
   "id": "4be4c0d2",
   "metadata": {},
   "outputs": [
    {
     "data": {
      "text/plain": [
       "tensor([[[ 1.,  3.,  6., 10.],\n",
       "         [ 5., 11., 18., 26.],\n",
       "         [ 9., 19., 30., 42.]],\n",
       "\n",
       "        [[13., 27., 42., 58.],\n",
       "         [17., 35., 54., 74.],\n",
       "         [21., 43., 66., 90.]]])"
      ]
     },
     "execution_count": 28,
     "metadata": {},
     "output_type": "execute_result"
    }
   ],
   "source": [
    "torch.cumsum(tensor_1, dim=2)"
   ]
  },
  {
   "cell_type": "markdown",
   "id": "44ba85c8",
   "metadata": {},
   "source": [
    "### torch.logsumexp\n",
    "torch.logsumexp(input, dim, keepdim=False, *, out=None)\n",
    "$$logcumsumexp(x)_i = log\\sum_j \\exp(x_{ij}) $$ "
   ]
  },
  {
   "cell_type": "code",
   "execution_count": 29,
   "id": "75f221f4",
   "metadata": {},
   "outputs": [
    {
     "data": {
      "text/plain": [
       "tensor([[1.4114, 1.4514, 1.4914],\n",
       "        [1.5314, 1.5714, 1.6114]])"
      ]
     },
     "execution_count": 29,
     "metadata": {},
     "output_type": "execute_result"
    }
   ],
   "source": [
    "torch.logsumexp(tensor_1/100, dim=2)"
   ]
  },
  {
   "cell_type": "code",
   "execution_count": 30,
   "id": "94c1c94b",
   "metadata": {},
   "outputs": [
    {
     "name": "stdout",
     "output_type": "stream",
     "text": [
      "上式的[0, 0]元素 = 1.4113568602344964\n"
     ]
    }
   ],
   "source": [
    "import math\n",
    "print(\"上式的[0, 0]元素 =\", math.log(math.exp(0.0100) + math.exp(0.0200) + math.exp(0.0300) + math.exp(0.0400)))"
   ]
  },
  {
   "cell_type": "markdown",
   "id": "ba304291",
   "metadata": {},
   "source": [
    "### torch.logcumsumexp\n",
    "torch.logcumsumexp(input, dim, *, out=None)\n",
    "$$logcumsumexp(x)_{ij} = log\\sum_{j=0}^i \\exp(x_{ij}) $$ "
   ]
  },
  {
   "cell_type": "code",
   "execution_count": 31,
   "id": "758606b4",
   "metadata": {},
   "outputs": [
    {
     "data": {
      "text/plain": [
       "tensor([[[0.0100, 0.7082, 1.1186, 1.4114],\n",
       "         [0.0500, 0.7482, 1.1586, 1.4514],\n",
       "         [0.0900, 0.7882, 1.1986, 1.4914]],\n",
       "\n",
       "        [[0.1300, 0.8282, 1.2386, 1.5314],\n",
       "         [0.1700, 0.8682, 1.2786, 1.5714],\n",
       "         [0.2100, 0.9082, 1.3186, 1.6114]]])"
      ]
     },
     "execution_count": 31,
     "metadata": {},
     "output_type": "execute_result"
    }
   ],
   "source": [
    "torch.logcumsumexp(tensor_1/100, dim=2)"
   ]
  },
  {
   "cell_type": "code",
   "execution_count": 32,
   "id": "1f4d97e7",
   "metadata": {},
   "outputs": [
    {
     "name": "stdout",
     "output_type": "stream",
     "text": [
      "上式的[0, 0, 2]元素 = 0.7081596805078623\n",
      "上式的[0, 0, 3]元素 = 1.118645621723669\n"
     ]
    }
   ],
   "source": [
    "print(\"上式的[0, 0, 2]元素 =\", math.log(math.exp(0.0100) + math.exp(0.0200)))\n",
    "print(\"上式的[0, 0, 3]元素 =\", math.log(math.exp(0.0100) + math.exp(0.0200) + math.exp(0.0300)))"
   ]
  },
  {
   "cell_type": "markdown",
   "id": "0096678c",
   "metadata": {},
   "source": [
    "### torch.trace(input) 迹\n",
    "**迹**: 二维矩阵对角线上元素的总和"
   ]
  },
  {
   "cell_type": "code",
   "execution_count": 33,
   "id": "1e58c0d6",
   "metadata": {},
   "outputs": [
    {
     "data": {
      "text/plain": [
       "tensor([[1., 2., 3.],\n",
       "        [4., 5., 6.],\n",
       "        [7., 8., 9.]])"
      ]
     },
     "execution_count": 33,
     "metadata": {},
     "output_type": "execute_result"
    }
   ],
   "source": [
    "torch.arange(1., 10.).view(3, 3)"
   ]
  },
  {
   "cell_type": "code",
   "execution_count": 34,
   "id": "028962e9",
   "metadata": {},
   "outputs": [
    {
     "data": {
      "text/plain": [
       "tensor(15.)"
      ]
     },
     "execution_count": 34,
     "metadata": {},
     "output_type": "execute_result"
    }
   ],
   "source": [
    "torch.trace(torch.arange(1., 10.).view(3, 3))"
   ]
  },
  {
   "cell_type": "code",
   "execution_count": 35,
   "id": "2030eb59",
   "metadata": {},
   "outputs": [
    {
     "data": {
      "text/plain": [
       "15"
      ]
     },
     "execution_count": 35,
     "metadata": {},
     "output_type": "execute_result"
    }
   ],
   "source": [
    "1 + 5 + 9"
   ]
  },
  {
   "cell_type": "markdown",
   "id": "dbda2561",
   "metadata": {},
   "source": [
    "## mean"
   ]
  },
  {
   "cell_type": "markdown",
   "id": "cc07643c",
   "metadata": {},
   "source": [
    "### torch.mean\n",
    "torch.mean(input, *, dtype=None)  \n",
    "torch.mean(input, dim, keepdim=False, *, dtype=None, out=None)"
   ]
  },
  {
   "cell_type": "code",
   "execution_count": 36,
   "id": "c0094680",
   "metadata": {},
   "outputs": [
    {
     "name": "stdout",
     "output_type": "stream",
     "text": [
      "tensor([[[ 1.,  2.,  3.,  4.],\n",
      "         [ 5.,  6.,  7.,  8.],\n",
      "         [ 9., 10., 11., 12.]],\n",
      "\n",
      "        [[13., 14., 15., 16.],\n",
      "         [17., 18., 19., 20.],\n",
      "         [21., 22., 23., 24.]]])\n"
     ]
    }
   ],
   "source": [
    "print(tensor_1)"
   ]
  },
  {
   "cell_type": "code",
   "execution_count": 37,
   "id": "5bc94e73",
   "metadata": {},
   "outputs": [
    {
     "data": {
      "text/plain": [
       "tensor(12.5000)"
      ]
     },
     "execution_count": 37,
     "metadata": {},
     "output_type": "execute_result"
    }
   ],
   "source": [
    "torch.mean(tensor_1)"
   ]
  },
  {
   "cell_type": "code",
   "execution_count": 38,
   "id": "1a35637e",
   "metadata": {},
   "outputs": [
    {
     "data": {
      "text/plain": [
       "tensor(12.5000)"
      ]
     },
     "execution_count": 38,
     "metadata": {},
     "output_type": "execute_result"
    }
   ],
   "source": [
    "tensor_1.mean()"
   ]
  },
  {
   "cell_type": "code",
   "execution_count": 39,
   "id": "d2a7d202",
   "metadata": {},
   "outputs": [
    {
     "data": {
      "text/plain": [
       "tensor([ 6.5000, 18.5000])"
      ]
     },
     "execution_count": 39,
     "metadata": {},
     "output_type": "execute_result"
    }
   ],
   "source": [
    "torch.mean(tensor_1, (1, 2)) # 对dim=1和dim=2求平均"
   ]
  },
  {
   "cell_type": "code",
   "execution_count": 40,
   "id": "f345fedf",
   "metadata": {},
   "outputs": [
    {
     "name": "stdout",
     "output_type": "stream",
     "text": [
      "6.5 , 18.5\n"
     ]
    }
   ],
   "source": [
    "print((1 + 12) * 6 / 12, \",\", (13 + 24) * 6 / 12)"
   ]
  },
  {
   "cell_type": "code",
   "execution_count": 41,
   "id": "7c3811d0",
   "metadata": {},
   "outputs": [
    {
     "data": {
      "text/plain": [
       "tensor([ 8.5000, 12.5000, 16.5000])"
      ]
     },
     "execution_count": 41,
     "metadata": {},
     "output_type": "execute_result"
    }
   ],
   "source": [
    "torch.mean(tensor_1, (2, 0)) # 对dim=0和dim=2求和"
   ]
  },
  {
   "cell_type": "code",
   "execution_count": 42,
   "id": "5a105b8b",
   "metadata": {},
   "outputs": [
    {
     "name": "stdout",
     "output_type": "stream",
     "text": [
      "8.5 , 12.5 , 16.5\n"
     ]
    }
   ],
   "source": [
    "print(((1 + 2 + 3 + 4) + (13 + 14 + 15 + 16)) / 8, \",\",\n",
    "      ((5 + 6 + 7 + 8) + (17 + 18 + 19 + 20)) / 8, \",\",\n",
    "      ((9 + 10 + 11 + 12) + (21 + 22 + 23 + 24)) / 8)"
   ]
  },
  {
   "cell_type": "markdown",
   "id": "13bcb87c",
   "metadata": {},
   "source": [
    "### torch.nanmean\n",
    "torch.nanmean(input, dim=None, keepdim=False, *, dtype=None, out=None)"
   ]
  },
  {
   "cell_type": "code",
   "execution_count": 43,
   "id": "4a955e5b",
   "metadata": {},
   "outputs": [
    {
     "name": "stdout",
     "output_type": "stream",
     "text": [
      "tensor([[1., 2., nan, 4.],\n",
      "        [5., nan, 7., 8.]])\n"
     ]
    }
   ],
   "source": [
    "print(tensor_2)"
   ]
  },
  {
   "cell_type": "code",
   "execution_count": 44,
   "id": "d16e202b",
   "metadata": {},
   "outputs": [
    {
     "data": {
      "text/plain": [
       "tensor(4.5000)"
      ]
     },
     "execution_count": 44,
     "metadata": {},
     "output_type": "execute_result"
    }
   ],
   "source": [
    "torch.nanmean(tensor_2)"
   ]
  },
  {
   "cell_type": "code",
   "execution_count": 45,
   "id": "0aa63853",
   "metadata": {},
   "outputs": [
    {
     "data": {
      "text/plain": [
       "tensor(4.5000)"
      ]
     },
     "execution_count": 45,
     "metadata": {},
     "output_type": "execute_result"
    }
   ],
   "source": [
    "tensor_2.nanmean()"
   ]
  },
  {
   "cell_type": "code",
   "execution_count": 46,
   "id": "f24a40cb",
   "metadata": {},
   "outputs": [
    {
     "data": {
      "text/plain": [
       "tensor(4.5000)"
      ]
     },
     "execution_count": 46,
     "metadata": {},
     "output_type": "execute_result"
    }
   ],
   "source": [
    "torch.nanmean(tensor_2, dim=(0, 1))"
   ]
  },
  {
   "cell_type": "code",
   "execution_count": 47,
   "id": "d6679781",
   "metadata": {},
   "outputs": [
    {
     "data": {
      "text/plain": [
       "4.5"
      ]
     },
     "execution_count": 47,
     "metadata": {},
     "output_type": "execute_result"
    }
   ],
   "source": [
    "(1 + 2 + 4 + 5 + 7 + 8) / 6"
   ]
  },
  {
   "cell_type": "code",
   "execution_count": 48,
   "id": "7f585191",
   "metadata": {},
   "outputs": [
    {
     "data": {
      "text/plain": [
       "tensor(nan)"
      ]
     },
     "execution_count": 48,
     "metadata": {},
     "output_type": "execute_result"
    }
   ],
   "source": [
    "torch.mean(tensor_2)"
   ]
  },
  {
   "cell_type": "code",
   "execution_count": 49,
   "id": "b140bcd0",
   "metadata": {},
   "outputs": [
    {
     "data": {
      "text/plain": [
       "tensor([3., 2., 7., 6.])"
      ]
     },
     "execution_count": 49,
     "metadata": {},
     "output_type": "execute_result"
    }
   ],
   "source": [
    "torch.nanmean(tensor_2, dim=0)"
   ]
  },
  {
   "cell_type": "code",
   "execution_count": 50,
   "id": "605d1f26",
   "metadata": {},
   "outputs": [
    {
     "data": {
      "text/plain": [
       "tensor([2.3333, 6.6667])"
      ]
     },
     "execution_count": 50,
     "metadata": {},
     "output_type": "execute_result"
    }
   ],
   "source": [
    "torch.nanmean(tensor_2, dim=1)"
   ]
  },
  {
   "cell_type": "markdown",
   "id": "149ddc3a",
   "metadata": {},
   "source": [
    "### torch.var_mean 方差和均值\n",
    "torch.var_mean(input, dim=None, \\*, correction=1, keepdim=False, out=None)\n",
    "$$\\sigma^2 = \\frac{1}{N-\\delta N}\\sum_{i=1}^{N-1} (x_i-\\bar{x})^2$$\n",
    "where $x_i$ is the sample set of elements, $\\bar{x}$ is the sample mean, $N$ is the number of samples, $\\delta N$ is the correction.\n",
    "\n",
    "Returns: A tuple (var, mean) containing the variance and mean."
   ]
  },
  {
   "cell_type": "code",
   "execution_count": 51,
   "id": "2d7a168e",
   "metadata": {
    "scrolled": true
   },
   "outputs": [
    {
     "name": "stdout",
     "output_type": "stream",
     "text": [
      "tensor([[[ 1.,  2.,  3.,  4.],\n",
      "         [ 5.,  6.,  7.,  8.],\n",
      "         [ 9., 10., 11., 12.]],\n",
      "\n",
      "        [[13., 14., 15., 16.],\n",
      "         [17., 18., 19., 20.],\n",
      "         [21., 22., 23., 24.]]])\n"
     ]
    }
   ],
   "source": [
    "print(tensor_1)"
   ]
  },
  {
   "cell_type": "code",
   "execution_count": 52,
   "id": "fdf3e47f",
   "metadata": {},
   "outputs": [],
   "source": [
    "variance, mean = torch.var_mean(tensor_1, dim=2, correction=1)"
   ]
  },
  {
   "cell_type": "code",
   "execution_count": 53,
   "id": "f51ef32e",
   "metadata": {},
   "outputs": [
    {
     "data": {
      "text/plain": [
       "tensor([[1.6667, 1.6667, 1.6667],\n",
       "        [1.6667, 1.6667, 1.6667]])"
      ]
     },
     "execution_count": 53,
     "metadata": {},
     "output_type": "execute_result"
    }
   ],
   "source": [
    "variance"
   ]
  },
  {
   "cell_type": "code",
   "execution_count": 54,
   "id": "75ebe58c",
   "metadata": {},
   "outputs": [
    {
     "name": "stdout",
     "output_type": "stream",
     "text": [
      "上式的[0, 0]元素 = 1.6666666666666667\n"
     ]
    }
   ],
   "source": [
    "count = 0\n",
    "for ii in range(1, 5):\n",
    "    count += (ii - 2.5)**2\n",
    "print(\"上式的[0, 0]元素 =\", count / (4 - 1))"
   ]
  },
  {
   "cell_type": "code",
   "execution_count": 55,
   "id": "6b9fca1a",
   "metadata": {},
   "outputs": [
    {
     "data": {
      "text/plain": [
       "tensor([[ 2.5000,  6.5000, 10.5000],\n",
       "        [14.5000, 18.5000, 22.5000]])"
      ]
     },
     "execution_count": 55,
     "metadata": {},
     "output_type": "execute_result"
    }
   ],
   "source": [
    "mean"
   ]
  },
  {
   "cell_type": "code",
   "execution_count": 56,
   "id": "5bd6f8a3",
   "metadata": {},
   "outputs": [
    {
     "data": {
      "text/plain": [
       "tensor([[ 2.5000,  6.5000, 10.5000],\n",
       "        [14.5000, 18.5000, 22.5000]])"
      ]
     },
     "execution_count": 56,
     "metadata": {},
     "output_type": "execute_result"
    }
   ],
   "source": [
    "torch.mean(tensor_1, dim=2)"
   ]
  },
  {
   "cell_type": "code",
   "execution_count": 57,
   "id": "95a27ab5",
   "metadata": {},
   "outputs": [
    {
     "data": {
      "text/plain": [
       "(tensor([13., 13.]), tensor([ 6.5000, 18.5000]))"
      ]
     },
     "execution_count": 57,
     "metadata": {},
     "output_type": "execute_result"
    }
   ],
   "source": [
    "torch.var_mean(tensor_1, dim=(1, 2), correction=1)"
   ]
  },
  {
   "cell_type": "code",
   "execution_count": 58,
   "id": "2fe861e7",
   "metadata": {},
   "outputs": [
    {
     "name": "stdout",
     "output_type": "stream",
     "text": [
      "方差的第一元素 = 13.0\n"
     ]
    }
   ],
   "source": [
    "count = 0\n",
    "for ii in range(1, 13):\n",
    "    count += (ii - 6.5)**2\n",
    "print(\"方差的第一元素 =\", count / (12 - 1))"
   ]
  },
  {
   "cell_type": "markdown",
   "id": "62ca864d",
   "metadata": {},
   "source": [
    "### torch.std_mean 标准差和均值\n",
    "torch.std_mean(input, dim=None, *, correction=1, keepdim=False, out=None)\n",
    "$$\\sigma = \\sqrt{\\frac{1}{N-\\delta N}\\sum_{i=1}^{N-1} (x_i-\\bar{x})^2}$$\n",
    "where $x_i$ is the sample set of elements, $\\bar{x}$ is the sample mean, $N$ is the number of samples, $\\delta N$ is the correction.\n",
    "\n",
    "Returns: A tuple (std, mean) containing the standard deviation and mean."
   ]
  },
  {
   "cell_type": "code",
   "execution_count": 59,
   "id": "7a03d53c",
   "metadata": {},
   "outputs": [],
   "source": [
    "std, mean = torch.std_mean(tensor_1, dim=2, correction=1)"
   ]
  },
  {
   "cell_type": "code",
   "execution_count": 60,
   "id": "e52f3a97",
   "metadata": {},
   "outputs": [
    {
     "data": {
      "text/plain": [
       "tensor([[1.2910, 1.2910, 1.2910],\n",
       "        [1.2910, 1.2910, 1.2910]])"
      ]
     },
     "execution_count": 60,
     "metadata": {},
     "output_type": "execute_result"
    }
   ],
   "source": [
    "std"
   ]
  },
  {
   "cell_type": "code",
   "execution_count": 61,
   "id": "6f715eb7",
   "metadata": {},
   "outputs": [
    {
     "name": "stdout",
     "output_type": "stream",
     "text": [
      "上式的[0, 0]元素 = 1.2909944487358056\n"
     ]
    }
   ],
   "source": [
    "count = 0\n",
    "for ii in range(1, 5):\n",
    "    count += (ii - 2.5)**2\n",
    "print(\"上式的[0, 0]元素 =\", (count / (4 - 1))**0.5)"
   ]
  },
  {
   "cell_type": "code",
   "execution_count": 62,
   "id": "87504f09",
   "metadata": {},
   "outputs": [
    {
     "data": {
      "text/plain": [
       "tensor([[ 2.5000,  6.5000, 10.5000],\n",
       "        [14.5000, 18.5000, 22.5000]])"
      ]
     },
     "execution_count": 62,
     "metadata": {},
     "output_type": "execute_result"
    }
   ],
   "source": [
    "mean"
   ]
  },
  {
   "cell_type": "code",
   "execution_count": 63,
   "id": "5b4cf619",
   "metadata": {},
   "outputs": [
    {
     "data": {
      "text/plain": [
       "tensor([[ 2.5000,  6.5000, 10.5000],\n",
       "        [14.5000, 18.5000, 22.5000]])"
      ]
     },
     "execution_count": 63,
     "metadata": {},
     "output_type": "execute_result"
    }
   ],
   "source": [
    "torch.mean(tensor_1, dim=2)"
   ]
  },
  {
   "cell_type": "code",
   "execution_count": 64,
   "id": "f50c6c28",
   "metadata": {},
   "outputs": [
    {
     "data": {
      "text/plain": [
       "(tensor([3.6056, 3.6056]), tensor([ 6.5000, 18.5000]))"
      ]
     },
     "execution_count": 64,
     "metadata": {},
     "output_type": "execute_result"
    }
   ],
   "source": [
    "torch.std_mean(tensor_1, dim=(1, 2), correction=1)"
   ]
  },
  {
   "cell_type": "code",
   "execution_count": 65,
   "id": "33c03e6f",
   "metadata": {},
   "outputs": [
    {
     "name": "stdout",
     "output_type": "stream",
     "text": [
      "方差的第一元素 = 3.605551275463989\n"
     ]
    }
   ],
   "source": [
    "count = 0\n",
    "for ii in range(1, 13):\n",
    "    count += (ii - 6.5)**2\n",
    "print(\"方差的第一元素 =\", (count / (12 - 1))**0.5)"
   ]
  },
  {
   "cell_type": "markdown",
   "id": "5cafecd3",
   "metadata": {},
   "source": [
    "## max/min"
   ]
  },
  {
   "cell_type": "markdown",
   "id": "113b083e",
   "metadata": {},
   "source": [
    "### torch.max\n",
    "- [torch.max(input)](https://pytorch.org/docs/stable/generated/torch.max.html)<br>\n",
    "returns the maximum value \n",
    "- [torch.max(input, dim, keepdim=False, \\*, out=None)](https://pytorch.org/docs/stable/generated/torch.max.html)<br>\n",
    "returns tuple of two output tensors (max, max_indices)"
   ]
  },
  {
   "cell_type": "code",
   "execution_count": 66,
   "id": "53f27e09",
   "metadata": {},
   "outputs": [
    {
     "name": "stdout",
     "output_type": "stream",
     "text": [
      "tensor([[[ 1.,  2.,  3.,  4.],\n",
      "         [ 5.,  6.,  7.,  8.],\n",
      "         [ 9., 10., 11., 12.]],\n",
      "\n",
      "        [[13., 14., 15., 16.],\n",
      "         [17., 18., 19., 20.],\n",
      "         [21., 22., 23., 24.]]])\n"
     ]
    }
   ],
   "source": [
    "print(tensor_1)"
   ]
  },
  {
   "cell_type": "code",
   "execution_count": 67,
   "id": "dcfd84ea",
   "metadata": {},
   "outputs": [
    {
     "data": {
      "text/plain": [
       "tensor(24.)"
      ]
     },
     "execution_count": 67,
     "metadata": {},
     "output_type": "execute_result"
    }
   ],
   "source": [
    "torch.max(tensor_1)"
   ]
  },
  {
   "cell_type": "code",
   "execution_count": 68,
   "id": "21ea1bb5",
   "metadata": {},
   "outputs": [
    {
     "data": {
      "text/plain": [
       "torch.return_types.max(\n",
       "values=tensor([[ 4.,  8., 12.],\n",
       "        [16., 20., 24.]]),\n",
       "indices=tensor([[3, 3, 3],\n",
       "        [3, 3, 3]]))"
      ]
     },
     "execution_count": 68,
     "metadata": {},
     "output_type": "execute_result"
    }
   ],
   "source": [
    "torch.max(tensor_1, dim=2)"
   ]
  },
  {
   "cell_type": "markdown",
   "id": "eb8c4d6a",
   "metadata": {},
   "source": [
    "### torch.amax\n",
    "[torch.amax(input, dim, keepdim=False, *, out=None)](https://pytorch.org/docs/stable/generated/torch.amax.html)"
   ]
  },
  {
   "cell_type": "code",
   "execution_count": 69,
   "id": "be59869a",
   "metadata": {},
   "outputs": [
    {
     "data": {
      "text/plain": [
       "tensor(24.)"
      ]
     },
     "execution_count": 69,
     "metadata": {},
     "output_type": "execute_result"
    }
   ],
   "source": [
    "torch.amax(tensor_1)"
   ]
  },
  {
   "cell_type": "code",
   "execution_count": 70,
   "id": "1bd71a05",
   "metadata": {},
   "outputs": [
    {
     "data": {
      "text/plain": [
       "tensor([[ 4.,  8., 12.],\n",
       "        [16., 20., 24.]])"
      ]
     },
     "execution_count": 70,
     "metadata": {},
     "output_type": "execute_result"
    }
   ],
   "source": [
    "torch.amax(tensor_1, dim=2)"
   ]
  },
  {
   "cell_type": "code",
   "execution_count": 71,
   "id": "335813b0",
   "metadata": {},
   "outputs": [
    {
     "data": {
      "text/plain": [
       "tensor([12., 24.])"
      ]
     },
     "execution_count": 71,
     "metadata": {},
     "output_type": "execute_result"
    }
   ],
   "source": [
    "torch.amax(tensor_1, dim=(1, 2))"
   ]
  },
  {
   "cell_type": "markdown",
   "id": "a9808ca3",
   "metadata": {},
   "source": [
    "### torch.min\n",
    "- [torch.min(input)](https://pytorch.org/docs/stable/generated/torch.min.html)<br>\n",
    "returns the minimum value \n",
    "- [torch.min(input, dim, keepdim=False, \\*, out=None)](https://pytorch.org/docs/stable/generated/torch.min.html)<br>\n",
    "returns tuple of two output tensors (min, min_indices)"
   ]
  },
  {
   "cell_type": "code",
   "execution_count": 72,
   "id": "86d25287",
   "metadata": {},
   "outputs": [
    {
     "data": {
      "text/plain": [
       "tensor(1.)"
      ]
     },
     "execution_count": 72,
     "metadata": {},
     "output_type": "execute_result"
    }
   ],
   "source": [
    "torch.min(tensor_1)"
   ]
  },
  {
   "cell_type": "code",
   "execution_count": 73,
   "id": "415532e0",
   "metadata": {},
   "outputs": [
    {
     "data": {
      "text/plain": [
       "torch.return_types.min(\n",
       "values=tensor([[ 1.,  5.,  9.],\n",
       "        [13., 17., 21.]]),\n",
       "indices=tensor([[0, 0, 0],\n",
       "        [0, 0, 0]]))"
      ]
     },
     "execution_count": 73,
     "metadata": {},
     "output_type": "execute_result"
    }
   ],
   "source": [
    "torch.min(tensor_1, dim=2)"
   ]
  },
  {
   "cell_type": "markdown",
   "id": "79554147",
   "metadata": {},
   "source": [
    "### torch.amin\n",
    "[torch.amin(input, dim, keepdim=False, *, out=None)](https://pytorch.org/docs/stable/generated/torch.amin.html)"
   ]
  },
  {
   "cell_type": "code",
   "execution_count": 74,
   "id": "709dd683",
   "metadata": {},
   "outputs": [
    {
     "data": {
      "text/plain": [
       "tensor(1.)"
      ]
     },
     "execution_count": 74,
     "metadata": {},
     "output_type": "execute_result"
    }
   ],
   "source": [
    "torch.amin(tensor_1)"
   ]
  },
  {
   "cell_type": "code",
   "execution_count": 75,
   "id": "d2b9451a",
   "metadata": {},
   "outputs": [
    {
     "data": {
      "text/plain": [
       "tensor([[ 1.,  5.,  9.],\n",
       "        [13., 17., 21.]])"
      ]
     },
     "execution_count": 75,
     "metadata": {},
     "output_type": "execute_result"
    }
   ],
   "source": [
    "torch.amin(tensor_1, dim=2)"
   ]
  },
  {
   "cell_type": "code",
   "execution_count": 76,
   "id": "af9cd096",
   "metadata": {},
   "outputs": [
    {
     "data": {
      "text/plain": [
       "tensor([ 1., 13.])"
      ]
     },
     "execution_count": 76,
     "metadata": {},
     "output_type": "execute_result"
    }
   ],
   "source": [
    "torch.amin(tensor_1, dim=(1, 2))"
   ]
  },
  {
   "cell_type": "markdown",
   "id": "a60e2f4b",
   "metadata": {},
   "source": [
    "### torch.aminmax\n",
    "[torch.aminmax(input, *, dim=None, keepdim=False, out=None)](https://pytorch.org/docs/stable/generated/torch.aminmax.html)\n",
    "\n",
    "returns minimum and maximum values"
   ]
  },
  {
   "cell_type": "code",
   "execution_count": 77,
   "id": "de51506c",
   "metadata": {},
   "outputs": [
    {
     "data": {
      "text/plain": [
       "torch.return_types.aminmax(\n",
       "min=tensor(1.),\n",
       "max=tensor(24.))"
      ]
     },
     "execution_count": 77,
     "metadata": {},
     "output_type": "execute_result"
    }
   ],
   "source": [
    "torch.aminmax(tensor_1)"
   ]
  },
  {
   "cell_type": "code",
   "execution_count": 78,
   "id": "b032793e",
   "metadata": {},
   "outputs": [
    {
     "data": {
      "text/plain": [
       "torch.return_types.aminmax(\n",
       "min=tensor([[ 1.,  5.,  9.],\n",
       "        [13., 17., 21.]]),\n",
       "max=tensor([[ 4.,  8., 12.],\n",
       "        [16., 20., 24.]]))"
      ]
     },
     "execution_count": 78,
     "metadata": {},
     "output_type": "execute_result"
    }
   ],
   "source": [
    "torch.aminmax(tensor_1, dim=2)"
   ]
  },
  {
   "cell_type": "markdown",
   "id": "15a4e1d9",
   "metadata": {},
   "source": [
    "### torch.argmax 最大值的索引\n",
    "[torch.argmax(input, dim, keepdim=False)](https://pytorch.org/docs/stable/generated/torch.argmax.html)"
   ]
  },
  {
   "cell_type": "code",
   "execution_count": 79,
   "id": "f3c87c01",
   "metadata": {},
   "outputs": [
    {
     "data": {
      "text/plain": [
       "tensor(23)"
      ]
     },
     "execution_count": 79,
     "metadata": {},
     "output_type": "execute_result"
    }
   ],
   "source": [
    "torch.argmax(tensor_1)"
   ]
  },
  {
   "cell_type": "code",
   "execution_count": 80,
   "id": "61135b24",
   "metadata": {},
   "outputs": [
    {
     "data": {
      "text/plain": [
       "tensor([[3, 3, 3],\n",
       "        [3, 3, 3]])"
      ]
     },
     "execution_count": 80,
     "metadata": {},
     "output_type": "execute_result"
    }
   ],
   "source": [
    "torch.argmax(tensor_1, dim=2)"
   ]
  },
  {
   "cell_type": "markdown",
   "id": "eeb93029",
   "metadata": {},
   "source": [
    "### torch.argmin 最小值的索引\n",
    "[torch.argmin(input, dim=None, keepdim=False)](https://pytorch.org/docs/stable/generated/torch.argmin.html)"
   ]
  },
  {
   "cell_type": "code",
   "execution_count": 81,
   "id": "2871ecf4",
   "metadata": {},
   "outputs": [
    {
     "data": {
      "text/plain": [
       "tensor(0)"
      ]
     },
     "execution_count": 81,
     "metadata": {},
     "output_type": "execute_result"
    }
   ],
   "source": [
    "torch.argmin(tensor_1)"
   ]
  },
  {
   "cell_type": "code",
   "execution_count": 82,
   "id": "307b4384",
   "metadata": {},
   "outputs": [
    {
     "data": {
      "text/plain": [
       "tensor([[0, 0, 0],\n",
       "        [0, 0, 0]])"
      ]
     },
     "execution_count": 82,
     "metadata": {},
     "output_type": "execute_result"
    }
   ],
   "source": [
    "torch.argmin(tensor_1, dim=2)"
   ]
  },
  {
   "cell_type": "markdown",
   "id": "4392b8be",
   "metadata": {},
   "source": [
    "### 取大/取小\n",
    "1. [torch.maximum(input, other, *, out=None)](https://pytorch.org/docs/stable/generated/torch.maximum.html) $\\iff$ [torch.max(input, other, *, out=None)](https://pytorch.org/docs/stable/generated/torch.max.html)\n",
    "2. [torch.minimum(input, other, *, out=None)](https://pytorch.org/docs/stable/generated/torch.minimum.html) $\\iff$ [torch.min(input, other, *, out=None)](https://pytorch.org/docs/stable/generated/torch.min.html)\n",
    "3. [torch.fmax(input, other, *, out=None)](https://pytorch.org/docs/stable/generated/torch.fmax.html)\n",
    "4. [torch.fmin(input, other, *, out=None)](https://pytorch.org/docs/stable/generated/torch.fmin.html)"
   ]
  },
  {
   "cell_type": "code",
   "execution_count": 83,
   "id": "fd660931",
   "metadata": {},
   "outputs": [
    {
     "data": {
      "text/plain": [
       "tensor([3, 2, 4])"
      ]
     },
     "execution_count": 83,
     "metadata": {},
     "output_type": "execute_result"
    }
   ],
   "source": [
    "torch.maximum(torch.tensor((1, 2, -1)),\n",
    "              torch.tensor((3, 0, 4)))"
   ]
  },
  {
   "cell_type": "code",
   "execution_count": 84,
   "id": "f8361857",
   "metadata": {},
   "outputs": [
    {
     "data": {
      "text/plain": [
       "tensor([3, 2, 4])"
      ]
     },
     "execution_count": 84,
     "metadata": {},
     "output_type": "execute_result"
    }
   ],
   "source": [
    "torch.max(torch.tensor((1, 2, -1)),\n",
    "          torch.tensor((3, 0, 4)))"
   ]
  },
  {
   "cell_type": "code",
   "execution_count": 85,
   "id": "a98df950",
   "metadata": {},
   "outputs": [
    {
     "data": {
      "text/plain": [
       "tensor([ 1,  0, -1])"
      ]
     },
     "execution_count": 85,
     "metadata": {},
     "output_type": "execute_result"
    }
   ],
   "source": [
    "torch.minimum(torch.tensor((1, 2, -1)),\n",
    "              torch.tensor((3, 0, 4)))"
   ]
  },
  {
   "cell_type": "code",
   "execution_count": 86,
   "id": "59cbba2f",
   "metadata": {},
   "outputs": [
    {
     "data": {
      "text/plain": [
       "tensor([ 1,  0, -1])"
      ]
     },
     "execution_count": 86,
     "metadata": {},
     "output_type": "execute_result"
    }
   ],
   "source": [
    "torch.min(torch.tensor((1, 2, -1)),\n",
    "          torch.tensor((3, 0, 4)))"
   ]
  },
  {
   "cell_type": "code",
   "execution_count": 87,
   "id": "8f68896b",
   "metadata": {},
   "outputs": [
    {
     "data": {
      "text/plain": [
       "tensor([9.7000, 0.5000, 3.1000,    nan])"
      ]
     },
     "execution_count": 87,
     "metadata": {},
     "output_type": "execute_result"
    }
   ],
   "source": [
    "torch.fmax(torch.tensor([9.7, float('nan'), 3.1, float('nan')]),\n",
    "           torch.tensor([-2.2, 0.5, float('nan'), float('nan')]))"
   ]
  },
  {
   "cell_type": "code",
   "execution_count": 88,
   "id": "7d896848",
   "metadata": {},
   "outputs": [
    {
     "data": {
      "text/plain": [
       "tensor([-2.2000,  0.5000,  3.1000,     nan])"
      ]
     },
     "execution_count": 88,
     "metadata": {},
     "output_type": "execute_result"
    }
   ],
   "source": [
    "torch.fmin(torch.tensor([9.7, float('nan'), 3.1, float('nan')]),\n",
    "           torch.tensor([-2.2, 0.5, float('nan'), float('nan')]))"
   ]
  },
  {
   "cell_type": "markdown",
   "id": "fdb91e3b",
   "metadata": {},
   "source": [
    "### torch.cummax\n",
    "[torch.cummax(input, dim, *, out=None)](https://pytorch.org/docs/stable/generated/torch.cummax.html)\n",
    "$$y_i=max(x_1, x_2, x_3, \\dots, x_i)$$ "
   ]
  },
  {
   "cell_type": "code",
   "execution_count": 89,
   "id": "dc6c94a7",
   "metadata": {},
   "outputs": [
    {
     "name": "stdout",
     "output_type": "stream",
     "text": [
      "tensor([[[ 1.,  2.,  3.,  4.],\n",
      "         [ 5.,  6.,  7.,  8.],\n",
      "         [ 9., 10., 11., 12.]],\n",
      "\n",
      "        [[13., 14., 15., 16.],\n",
      "         [17., 18., 19., 20.],\n",
      "         [21., 22., 23., 24.]]])\n"
     ]
    }
   ],
   "source": [
    "print(tensor_1)"
   ]
  },
  {
   "cell_type": "code",
   "execution_count": 93,
   "id": "0fcf2170",
   "metadata": {},
   "outputs": [
    {
     "data": {
      "text/plain": [
       "torch.return_types.cummax(\n",
       "values=tensor([[[ 1.,  2.,  3.,  4.],\n",
       "         [ 5.,  6.,  7.,  8.],\n",
       "         [ 9., 10., 11., 12.]],\n",
       "\n",
       "        [[13., 14., 15., 16.],\n",
       "         [17., 18., 19., 20.],\n",
       "         [21., 22., 23., 24.]]]),\n",
       "indices=tensor([[[0, 1, 2, 3],\n",
       "         [0, 1, 2, 3],\n",
       "         [0, 1, 2, 3]],\n",
       "\n",
       "        [[0, 1, 2, 3],\n",
       "         [0, 1, 2, 3],\n",
       "         [0, 1, 2, 3]]]))"
      ]
     },
     "execution_count": 93,
     "metadata": {},
     "output_type": "execute_result"
    }
   ],
   "source": [
    "torch.cummax(tensor_1, dim=2)"
   ]
  },
  {
   "cell_type": "markdown",
   "id": "3bffc8a1",
   "metadata": {},
   "source": [
    "### torch.cummin\n",
    "[torch.cummin(input, dim, *, out=None)](https://pytorch.org/docs/stable/generated/torch.cummin.html)\n",
    "$$y_i=min(x_1, x_2, x_3, \\dots, x_i)$$ "
   ]
  },
  {
   "cell_type": "code",
   "execution_count": 95,
   "id": "2ab3bbc0",
   "metadata": {},
   "outputs": [
    {
     "data": {
      "text/plain": [
       "torch.return_types.cummin(\n",
       "values=tensor([[[ 1.,  1.,  1.,  1.],\n",
       "         [ 5.,  5.,  5.,  5.],\n",
       "         [ 9.,  9.,  9.,  9.]],\n",
       "\n",
       "        [[13., 13., 13., 13.],\n",
       "         [17., 17., 17., 17.],\n",
       "         [21., 21., 21., 21.]]]),\n",
       "indices=tensor([[[0, 0, 0, 0],\n",
       "         [0, 0, 0, 0],\n",
       "         [0, 0, 0, 0]],\n",
       "\n",
       "        [[0, 0, 0, 0],\n",
       "         [0, 0, 0, 0],\n",
       "         [0, 0, 0, 0]]]))"
      ]
     },
     "execution_count": 95,
     "metadata": {},
     "output_type": "execute_result"
    }
   ],
   "source": [
    "torch.cummin(tensor_1, dim=2)"
   ]
  },
  {
   "cell_type": "markdown",
   "id": "abc7d192",
   "metadata": {},
   "source": [
    "## 角度(degree)与弧度(radian)"
   ]
  },
  {
   "cell_type": "markdown",
   "id": "d42adf8c",
   "metadata": {},
   "source": [
    "### torch.deg2rad\n",
    "[torch.deg2rad(input, *, out=None)](https://pytorch.org/docs/stable/generated/torch.deg2rad.html) 角度$\\to$弧度\n",
    "### torch.rad2deg\n",
    "[torch.rad2deg(input, *, out=None)](https://pytorch.org/docs/stable/generated/torch.rad2deg.html#torch.rad2deg) 弧度$\\to$角度"
   ]
  },
  {
   "cell_type": "code",
   "execution_count": 66,
   "id": "f3564cee",
   "metadata": {},
   "outputs": [
    {
     "data": {
      "text/plain": [
       "3.141592653589793"
      ]
     },
     "execution_count": 66,
     "metadata": {},
     "output_type": "execute_result"
    }
   ],
   "source": [
    "torch.pi"
   ]
  },
  {
   "cell_type": "code",
   "execution_count": 67,
   "id": "8b59da30",
   "metadata": {},
   "outputs": [],
   "source": [
    "degrees = torch.tensor([0., 30., 45., 60., 90.])"
   ]
  },
  {
   "cell_type": "code",
   "execution_count": 68,
   "id": "26491902",
   "metadata": {},
   "outputs": [
    {
     "data": {
      "text/plain": [
       "tensor([0.0000, 0.5236, 0.7854, 1.0472, 1.5708])"
      ]
     },
     "execution_count": 68,
     "metadata": {},
     "output_type": "execute_result"
    }
   ],
   "source": [
    "torch.deg2rad(degrees)"
   ]
  },
  {
   "cell_type": "code",
   "execution_count": 69,
   "id": "5887b2c6",
   "metadata": {},
   "outputs": [
    {
     "name": "stdout",
     "output_type": "stream",
     "text": [
      "tensor([0.0000, 0.5236, 0.7854, 1.0472, 1.5708])\n"
     ]
    }
   ],
   "source": [
    "radians = torch.tensor([0., torch.pi/6., torch.pi/4., torch.pi/3., torch.pi/2.])\n",
    "print(radians)"
   ]
  },
  {
   "cell_type": "code",
   "execution_count": 70,
   "id": "16b491b5",
   "metadata": {},
   "outputs": [
    {
     "data": {
      "text/plain": [
       "tensor([ 0., 30., 45., 60., 90.])"
      ]
     },
     "execution_count": 70,
     "metadata": {},
     "output_type": "execute_result"
    }
   ],
   "source": [
    "radians / torch.pi * 180"
   ]
  },
  {
   "cell_type": "code",
   "execution_count": 71,
   "id": "b6f47f5b",
   "metadata": {},
   "outputs": [
    {
     "data": {
      "text/plain": [
       "tensor([ 0.0000, 30.0000, 45.0000, 60.0000, 90.0000])"
      ]
     },
     "execution_count": 71,
     "metadata": {},
     "output_type": "execute_result"
    }
   ],
   "source": [
    "torch.rad2deg(torch.tensor([0., torch.pi/6., torch.pi/4., torch.pi/3., torch.pi/2.]))"
   ]
  },
  {
   "cell_type": "markdown",
   "id": "1d479d7c",
   "metadata": {},
   "source": [
    "## 初等函数"
   ]
  },
  {
   "cell_type": "markdown",
   "id": "c9af6453",
   "metadata": {},
   "source": [
    "命令 | 用法 | 公式\n",
    ":- | :- | :-:\n",
    "torch.sin | [torch.sin(input, \\*, out=None)](https://pytorch.org/docs/stable/generated/torch.sin.html) |  $$out_i = \\sin(input_i)$$\n",
    "torch.asin | [torch.asin(input, \\*, out=None)](https://pytorch.org/docs/stable/generated/torch.asin.html)<br>$\\iff$ [torch.arcsin(input, \\*, out=None)](https://pytorch.org/docs/stable/generated/torch.arcsin.html) | $$out_i = \\sin^{-1}(input_i)$$\n",
    "torch.cos | [torch.cos(input, \\*, out=None)](https://pytorch.org/docs/stable/generated/torch.cos.html) |  $$out_i = \\cos(input_i)$$\n",
    "torch.acos | [torch.acos(input, \\*, out=None)](https://pytorch.org/docs/stable/generated/torch.acos.html)<br>$\\iff$ [torch.arccos(input, \\*, out=None)](https://pytorch.org/docs/stable/generated/torch.arccos.html) | $$out_i = \\cos^{-1}(input_i)$$\n",
    "torch.tan | [torch.tan(input, \\*, out=None)](https://pytorch.org/docs/stable/generated/torch.tan.html) |  $$out_i = \\tan(input_i)$$\n",
    "torch.atan<span id='id_atan'></span> | [torch.atan(input, \\*, out=None)](https://pytorch.org/docs/stable/generated/torch.atan.html)<br>$\\iff$ [torch.arctan(input, \\*, out=None)](https://pytorch.org/docs/stable/generated/torch.arctan.html) | $$out_i = \\tan^{-1}(input_i), input_i = \\frac{y_i}{x_i} = \\frac{\\sin(out_i)}{\\cos(out_i)}$$\n",
    "torch.atan2<span id='id_atan2'></span> | [torch.atan2(input, other, \\*, out=None)](https://pytorch.org/docs/stable/generated/torch.atan2.html)<br>$\\iff$[torch.arctan2(input, other, \\*, out=None)](https://pytorch.org/docs/stable/generated/torch.arctan2.html) | $$out_i = \\tan^{-1}(\\frac{input_i}{other_i})$$ $$input_i = y_i = \\sin(out_i), other_i = x_i = \\cos(out_i)$$\n",
    "torch.angle<span id='id_angle'></span> | [torch.angle(input, \\*, out=None)](https://pytorch.org/docs/stable/generated/torch.angle.html) | $$ out_i = angle(input_i) \\iff out_i = tan^{-1}\\frac{y_i}{x_i}, input_i = x_i + y_i*j$$ $$x_i = \\cos(out_i), y_i = \\sin(out_i)$$\n",
    "---- | ---- | ---- \n",
    "torch.sinh | [torch.sinh(input, \\*, out=None)](https://pytorch.org/docs/stable/generated/torch.sinh.html) |  $$out_i = \\sinh(input_i)$$\n",
    "torch.asinh | [torch.asinh(input, \\*, out=None)](https://pytorch.org/docs/stable/generated/torch.asinh.html)<br>$\\iff$ [torch.arcsinh(input, \\*, out=None)](https://pytorch.org/docs/stable/generated/torch.arcsinh.html) | $$out_i = \\sinh^{-1}(input_i)$$\n",
    "torch.cosh | [torch.cosh(input, \\*, out=None)](https://pytorch.org/docs/stable/generated/torch.cosh.html) |  $$out_i = \\cosh(input_i)$$\n",
    "torch.acosh | [torch.acosh(input, \\*, out=None)](https://pytorch.org/docs/stable/generated/torch.acosh.html)<br>$\\iff$ [torch.arccosh(input, \\*, out=None)](https://pytorch.org/docs/stable/generated/torch.arccosh.html) | $$out_i = \\cosh^{-1}(input_i)$$\n",
    "torch.tanh | [torch.tanh(input, \\*, out=None)](https://pytorch.org/docs/stable/generated/torch.tanh.html) |  $$out_i = \\tanh(input_i)$$\n",
    "torch.atanh | [torch.atanh(input, \\*, out=None)](https://pytorch.org/docs/stable/generated/torch.atanh.html)<br>$\\iff$ [torch.arctanh(input, \\*, out=None)](https://pytorch.org/docs/stable/generated/torch.arctanh.html) | $$out_i = \\tanh^{-1}(input_i)$$\n",
    "---- | ---- | ---- \n",
    "torch.sqrt | [torch.sqrt(input, \\*, out=None)](https://pytorch.org/docs/stable/generated/torch.sqrt.html) | $$out_i = \\sqrt{input_i} = {input_i}^{\\frac{1}{2}}$$\n",
    "torch.rsqrt | [torch.rsqrt(input, \\*, out=None)](https://pytorch.org/docs/stable/generated/torch.rsqrt.html) | $$out_i = \\frac{1}{\\sqrt{input_i}} = {input_i}^{-\\frac{1}{2}}$$\n",
    "torch.square | [torch.square(input, \\*, out=None)](https://pytorch.org/docs/stable/generated/torch.square.html) | $$out_i = input_i^2$$\n",
    "torch.pow<span id='id_pow'></span> | [torch.pow(input, exponent, \\*, out=None)](https://pytorch.org/docs/stable/generated/torch.pow.html) | $$out_i = {input_i}^{exponent},\\ \\ i.e., y = x^a$$\n",
    "torch.float_power<span id='id_float_power'></span> | [torch.float_power(input, exponent, \\*, out=None)](https://pytorch.org/docs/stable/generated/torch.float_power.html) | 如果两个输入都不是复数, 则返回torch.foat64张量;<br>如果一个或多个输入是复数, 则会返回torch.complex128张量\n",
    "---- | ---- | ---- \n",
    "torch.exp | [torch.exp(input, \\*, out=None)](https://pytorch.org/docs/stable/generated/torch.exp.html) | $$out_i = e^{input_i}$$\n",
    "torch.exp2 | [torch.exp2(input, \\*, out=None)](https://pytorch.org/docs/stable/generated/torch.exp2.html)<br>$\\iff$ [torch.special.exp2(input, \\*, out=None)](https://pytorch.org/docs/stable/special.html#torch.special.exp2) | $$out_i = 2^{input_i}$$\n",
    "torch.ldexp | [torch.ldexp(input, other, \\*, out=None)](https://pytorch.org/docs/stable/generated/torch.ldexp.html) | $$out_i = input_i * 2^{other_i}$$\n",
    "torch.frexp<span id='id_frexp'></span> | [torch.frexp(input, \\*, out=None)](https://pytorch.org/docs/stable/generated/torch.frexp.html) | 将输入分解为mantissa和exponent张量, 即 $$input_i=mantissa_i * 2^{exponent_i}$$\n",
    "torch.logaddexp | [torch.logaddexp(input, other, \\*, out=None)](https://pytorch.org/docs/stable/generated/torch.logaddexp.html) | $$out_i = \\log_e(e^{input_i} + e^{other_i})$$\n",
    "torch.logaddexp2 | [torch.logaddexp2(input, other, \\*, out=None)](https://pytorch.org/docs/stable/generated/torch.logaddexp2.html) | $$out_i = \\log_2(2^{input_i} + 2^{other_i})$$\n",
    "torch.expm1 | [torch.expm1(input, \\*, out=None)](https://pytorch.org/docs/stable/generated/torch.expm1.html)<br>$\\iff$ [torch.special.expm1(input, \\*, out=None)](https://pytorch.org/docs/stable/special.html#torch.special.expm1) | $$out_i = e^{input_i} - 1$$\n",
    "torch.sigmoid | [torch.sigmoid(input, \\*, out=None)](https://pytorch.org/docs/stable/generated/torch.sigmoid.html)<br>$\\iff$ [torch.special.expit(input, \\*, out=None)](https://pytorch.org/docs/stable/special.html#torch.special.expit) | $$out_i = \\frac{1}{1+e^{-input_i}}$$\n",
    "---- | ---- | ---- \n",
    "torch.log | [torch.log(input, \\*, out=None)](https://pytorch.org/docs/stable/generated/torch.log.html) | $$out_i = \\log_e(input_i)$$\n",
    "torch.log2 | [torch.log2(input, \\*, out=None)](https://pytorch.org/docs/stable/generated/torch.log2.html) | $$out_i = \\log_2(input_i)$$\n",
    "torch.log10 | [torch.log10(input, \\*, out=None)](https://pytorch.org/docs/stable/generated/torch.log10.html) | $$out_i = \\log_{10}(input_i)$$\n",
    "torch.log1p | [torch.log1p(input, \\*, out=None)](https://pytorch.org/docs/stable/generated/torch.log1p.html) | $$out_i = \\log_e(input_i+1)$$\n",
    "torch.logit | [torch.logit(input, eps=None, \\*, out=None)](https://pytorch.org/docs/stable/generated/torch.logit.html)<br>$\\iff$ [torch.special.logit(input, eps=None, \\*, out=None)](https://pytorch.org/docs/stable/special.html#torch.special.logit) | $$out_i = \\log_e(\\frac{z_i}{1-z_i})$$, $$z_i = \\begin{cases} \\begin{array}{l,l}\n",
    "input_i, & if\\ \\ eps=NaN \\\\\n",
    "eps, & if\\ \\ input_i<eps \\\\\n",
    "input_i, & if\\ \\ eps\\leq input_i\\leq 1-eps \\\\\n",
    "1-eps, & if\\ \\ input_i>1-eps \\\\\n",
    "\\end{array} \\end{cases}$$\n",
    "torch.xlogy | [torch.xlogy(input, other, \\*, out=None)](https://pytorch.org/docs/stable/generated/torch.xlogy.html)<br>$\\iff$ [torch.special.xlogy(input, other, \\*, out=None)](https://pytorch.org/docs/stable/special.html#torch.special.xlogy) | $$out_i = \\begin{cases} \\begin{array}{l,l}\n",
    "NaN, & if\\ \\ other_i=NaN \\\\\n",
    "0, & if\\ \\ input_i=0.0 \\\\\n",
    "input_i * \\log(other_i), & otherwise \\\\\n",
    "\\end{array} \\end{cases}$$\n",
    "note: | $\\log_e(x) = \\ln(x)$, $\\log_{10}(x) = \\lg(x)$"
   ]
  },
  {
   "cell_type": "markdown",
   "id": "c176d06b",
   "metadata": {},
   "source": [
    "* [torch.atan](#id_atan) vs [torch.atan2](#id_atan2) vs [torch.angle](#id_angle)"
   ]
  },
  {
   "cell_type": "code",
   "execution_count": 80,
   "id": "0f2a6e57",
   "metadata": {},
   "outputs": [
    {
     "name": "stdout",
     "output_type": "stream",
     "text": [
      "radians = tensor([0.0000, 0.5236, 0.7854, 1.0472, 1.5708])\n"
     ]
    }
   ],
   "source": [
    "print(\"radians =\", radians)"
   ]
  },
  {
   "cell_type": "code",
   "execution_count": 90,
   "id": "cccf02ff",
   "metadata": {
    "scrolled": true
   },
   "outputs": [],
   "source": [
    "x = torch.cos(radians)"
   ]
  },
  {
   "cell_type": "code",
   "execution_count": 91,
   "id": "6000b56e",
   "metadata": {},
   "outputs": [],
   "source": [
    "y = torch.sin(radians)"
   ]
  },
  {
   "cell_type": "code",
   "execution_count": 92,
   "id": "dd683cc0",
   "metadata": {},
   "outputs": [
    {
     "data": {
      "text/plain": [
       "tensor([ 0.0000, 30.0000, 45.0000, 60.0000, 90.0000])"
      ]
     },
     "execution_count": 92,
     "metadata": {},
     "output_type": "execute_result"
    }
   ],
   "source": [
    "torch.atan(torch.abs(y/x)) / torch.pi * 180"
   ]
  },
  {
   "cell_type": "code",
   "execution_count": 93,
   "id": "45786800",
   "metadata": {},
   "outputs": [
    {
     "data": {
      "text/plain": [
       "tensor([ 0., 30., 45., 60., 90.])"
      ]
     },
     "execution_count": 93,
     "metadata": {},
     "output_type": "execute_result"
    }
   ],
   "source": [
    "torch.atan2(y, x) / torch.pi * 180"
   ]
  },
  {
   "cell_type": "code",
   "execution_count": 95,
   "id": "d7640232",
   "metadata": {},
   "outputs": [
    {
     "data": {
      "text/plain": [
       "tensor([ 0., 30., 45., 60., 90.])"
      ]
     },
     "execution_count": 95,
     "metadata": {},
     "output_type": "execute_result"
    }
   ],
   "source": [
    "torch.angle(torch.complex(x, y)) / torch.pi * 180"
   ]
  },
  {
   "cell_type": "markdown",
   "id": "c537b360",
   "metadata": {},
   "source": [
    "* [torch.pow](#id_pow) vs [torch.float_power](#id_float_power)"
   ]
  },
  {
   "cell_type": "code",
   "execution_count": 15,
   "id": "f6bf3cd8",
   "metadata": {},
   "outputs": [],
   "source": [
    "tensor_1 = torch.arange(1., 9.)"
   ]
  },
  {
   "cell_type": "code",
   "execution_count": 16,
   "id": "3cdd00e6",
   "metadata": {},
   "outputs": [
    {
     "data": {
      "text/plain": [
       "tensor([1., 2., 3., 4., 5., 6., 7., 8.])"
      ]
     },
     "execution_count": 16,
     "metadata": {},
     "output_type": "execute_result"
    }
   ],
   "source": [
    "tensor_1"
   ]
  },
  {
   "cell_type": "code",
   "execution_count": 17,
   "id": "d0c55321",
   "metadata": {},
   "outputs": [
    {
     "data": {
      "text/plain": [
       "tensor([1.0000e+00, 4.0000e+00, 2.7000e+01, 2.5600e+02, 3.1250e+03, 4.6656e+04,\n",
       "        8.2354e+05, 1.6777e+07])"
      ]
     },
     "execution_count": 17,
     "metadata": {},
     "output_type": "execute_result"
    }
   ],
   "source": [
    "torch.pow(tensor_1, tensor_1)"
   ]
  },
  {
   "cell_type": "code",
   "execution_count": 18,
   "id": "b995d207",
   "metadata": {},
   "outputs": [
    {
     "data": {
      "text/plain": [
       "tensor([1.0000e+00, 4.0000e+00, 2.7000e+01, 2.5600e+02, 3.1250e+03, 4.6656e+04,\n",
       "        8.2354e+05, 1.6777e+07], dtype=torch.float64)"
      ]
     },
     "execution_count": 18,
     "metadata": {},
     "output_type": "execute_result"
    }
   ],
   "source": [
    "torch.float_power(tensor_1, tensor_1)"
   ]
  },
  {
   "cell_type": "markdown",
   "id": "08755186",
   "metadata": {},
   "source": [
    "* [torch.frexp](#id_frexp)"
   ]
  },
  {
   "cell_type": "code",
   "execution_count": 19,
   "id": "fbad2aae",
   "metadata": {},
   "outputs": [
    {
     "data": {
      "text/plain": [
       "torch.return_types.frexp(\n",
       "mantissa=tensor([0.5000, 0.5000, 0.7500, 0.5000, 0.6250, 0.7500, 0.8750, 0.5000]),\n",
       "exponent=tensor([1, 2, 2, 3, 3, 3, 3, 4], dtype=torch.int32))"
      ]
     },
     "execution_count": 19,
     "metadata": {},
     "output_type": "execute_result"
    }
   ],
   "source": [
    "torch.frexp(tensor_1)"
   ]
  },
  {
   "cell_type": "markdown",
   "id": "6ff443f8",
   "metadata": {},
   "source": [
    "## 阶跃函数"
   ]
  },
  {
   "cell_type": "markdown",
   "id": "d698feaf",
   "metadata": {},
   "source": [
    "### torch.heaviside\n",
    "torch.heaviside(input, values, *, out=None)\n",
    "$$ heaviside(input,values) = \\begin{cases} \\begin{array}{l,l}\n",
    "0, & input < 0 \\\\\n",
    "values, & input = 0\\\\\n",
    "1, & input > 0 \\\\\n",
    "\\end{array} \\end{cases} $$"
   ]
  },
  {
   "cell_type": "code",
   "execution_count": 329,
   "id": "b02a2d77",
   "metadata": {},
   "outputs": [
    {
     "data": {
      "text/plain": [
       "tensor([0., 3., 1.])"
      ]
     },
     "execution_count": 329,
     "metadata": {},
     "output_type": "execute_result"
    }
   ],
   "source": [
    "torch.heaviside(input=torch.tensor([-1.5, 0, 2.0]), values=torch.tensor([3.]))"
   ]
  },
  {
   "cell_type": "code",
   "execution_count": 330,
   "id": "69b9a709",
   "metadata": {},
   "outputs": [
    {
     "data": {
      "text/plain": [
       "tensor([ 0., -2.,  1.])"
      ]
     },
     "execution_count": 330,
     "metadata": {},
     "output_type": "execute_result"
    }
   ],
   "source": [
    "torch.heaviside(input=torch.tensor([-1.5, 0, 2.0]), values=torch.tensor([1.2, -2.0, 3.5]))"
   ]
  },
  {
   "cell_type": "markdown",
   "id": "8f9804e8",
   "metadata": {},
   "source": [
    "### torch.clamp\n",
    "torch.clamp(input, min=None, max=None, *, out=None)  \n",
    "$\\iff$ torch.clip(input, min=None, max=None, *, out=None)  \n",
    "$$ out_i = \\begin{cases} \\begin{array}{l,l}\n",
    "min_i, & input_i <= min_i \\\\\n",
    "input_i, &  min_i < input_i < max_i \\\\\n",
    "max_i, & input_i >= max_i \\\\\n",
    "\\end{array} \\end{cases} $$"
   ]
  },
  {
   "cell_type": "code",
   "execution_count": 332,
   "id": "8ca4c69c",
   "metadata": {},
   "outputs": [
    {
     "data": {
      "text/plain": [
       "tensor([-0.5000,  0.0000,  0.5000])"
      ]
     },
     "execution_count": 332,
     "metadata": {},
     "output_type": "execute_result"
    }
   ],
   "source": [
    "torch.clamp(input=torch.tensor([-1.5, 0, 2.0]), min=-0.5, max=0.5)"
   ]
  },
  {
   "cell_type": "code",
   "execution_count": 347,
   "id": "5c88895c",
   "metadata": {},
   "outputs": [
    {
     "data": {
      "text/plain": [
       "tensor([-0.5000,  0.0000,  1.0000])"
      ]
     },
     "execution_count": 347,
     "metadata": {},
     "output_type": "execute_result"
    }
   ],
   "source": [
    "torch.clamp(input=torch.tensor([-1.5, 0, 2.0]), min=torch.tensor([-0.5, -1.0, 0.0]), max=torch.tensor([0.5, 1.0, 1.0]))"
   ]
  },
  {
   "cell_type": "markdown",
   "id": "bd1d5f6f",
   "metadata": {},
   "source": [
    "### torch.sign\n",
    "torch.sign(input, *, out=None)\n",
    "$$ out_i = \\begin{cases} \\begin{array}{l,l}\n",
    "-1, & input_i < 0 \\\\\n",
    "0, & input_i = 0\\\\\n",
    "1, & input_i > 0 \\\\\n",
    "\\end{array} \\end{cases} $$"
   ]
  },
  {
   "cell_type": "code",
   "execution_count": 348,
   "id": "5f644235",
   "metadata": {
    "scrolled": true
   },
   "outputs": [
    {
     "data": {
      "text/plain": [
       "tensor([-1.,  0.,  0.,  1.])"
      ]
     },
     "execution_count": 348,
     "metadata": {},
     "output_type": "execute_result"
    }
   ],
   "source": [
    "torch.sign(input=torch.tensor([-1.5, -0.0, 0.0, 2.0]))"
   ]
  },
  {
   "cell_type": "markdown",
   "id": "ddedee84",
   "metadata": {},
   "source": [
    "### torch.signbit\n",
    "torch.signbit(input, *, out=None)\n",
    "$$ out_i = \\begin{cases} \\begin{array}{l,l}\n",
    "True, & input_i < 0 \\\\\n",
    "False, & input_i >= 0 \\\\\n",
    "\\end{array} \\end{cases} $$"
   ]
  },
  {
   "cell_type": "code",
   "execution_count": 340,
   "id": "7f3b789c",
   "metadata": {},
   "outputs": [
    {
     "data": {
      "text/plain": [
       "tensor([ True, False, False, False])"
      ]
     },
     "execution_count": 340,
     "metadata": {},
     "output_type": "execute_result"
    }
   ],
   "source": [
    "torch.signbit(input=torch.tensor([-1.5, -0.0, 0.0, 2.0]))"
   ]
  },
  {
   "cell_type": "markdown",
   "id": "ce014f21",
   "metadata": {},
   "source": [
    "### torch.copysign\n",
    "torch.copysign(input, other, *, out=None)\n",
    "$$ out_i = \\begin{cases} \\begin{array}{l,l}\n",
    "-\\left| input_i \\right|, & other_i<= -0.0 \\\\\n",
    "\\left| input_i \\right|, & other_i >= 0.0\\\\\n",
    "\\end{array} \\end{cases} $$"
   ]
  },
  {
   "cell_type": "code",
   "execution_count": 349,
   "id": "36b979cc",
   "metadata": {},
   "outputs": [
    {
     "data": {
      "text/plain": [
       "tensor([1.5000, 1.5000])"
      ]
     },
     "execution_count": 349,
     "metadata": {},
     "output_type": "execute_result"
    }
   ],
   "source": [
    "torch.copysign(input=torch.tensor([-1.5, 1.5]), other=1.0)"
   ]
  },
  {
   "cell_type": "code",
   "execution_count": 345,
   "id": "e2895e7c",
   "metadata": {},
   "outputs": [
    {
     "data": {
      "text/plain": [
       "tensor([-1.5000, -1.5000,  1.5000,  1.5000])"
      ]
     },
     "execution_count": 345,
     "metadata": {},
     "output_type": "execute_result"
    }
   ],
   "source": [
    "torch.copysign(input=torch.tensor([-1.5, -1.5, -1.5, -1.5]),\n",
    "               other=torch.tensor([-1.5, -0.0, 0.0, 2.0]))"
   ]
  },
  {
   "cell_type": "code",
   "execution_count": 346,
   "id": "cf7bfe86",
   "metadata": {},
   "outputs": [
    {
     "data": {
      "text/plain": [
       "tensor([-2., -2.,  2.,  2.])"
      ]
     },
     "execution_count": 346,
     "metadata": {},
     "output_type": "execute_result"
    }
   ],
   "source": [
    "torch.copysign(input=torch.tensor([2.0, 2.0, 2.0, 2.0]),\n",
    "               other=torch.tensor([-1.5, -0.0, 0.0, 2.0]))"
   ]
  },
  {
   "cell_type": "markdown",
   "id": "dc368d61",
   "metadata": {},
   "source": [
    "## todo: 复数\n",
    "- https://pytorch.org/docs/stable/generated/torch.sgn.html\n",
    "- https://pytorch.org/docs/stable/generated/torch.view_as_complex.html\n",
    "- https://pytorch.org/docs/stable/generated/torch.is_complex.html\n",
    "- https://pytorch.org/docs/stable/generated/torch.complex.html\n",
    "- https://pytorch.org/docs/stable/generated/torch.polar.html\n",
    "- \n",
    "- https://pytorch.org/docs/stable/generated/torch.is_conj.html\n",
    "- https://pytorch.org/docs/stable/generated/torch.conj.html\n",
    "- https://pytorch.org/docs/stable/generated/torch.adjoint.html\n",
    "- https://pytorch.org/docs/stable/generated/torch.conj_physical.html\n",
    "- https://pytorch.org/docs/stable/generated/torch.resolve_conj.html\n",
    "- \n",
    "- https://pytorch.org/docs/stable/generated/torch.rot90.html\n",
    "-\n",
    "- https://pytorch.org/docs/stable/torch.html"
   ]
  },
  {
   "cell_type": "code",
   "execution_count": null,
   "id": "4e2bf9e6",
   "metadata": {},
   "outputs": [],
   "source": [
    "\"\"\"\n",
    "torch.complex(real, imag, *, out=None)  'out = real + imag*j'\n",
    "\"\"\"\n",
    "real = torch.tensor([1, 2], dtype=torch.float32)\n",
    "imag = torch.tensor([3, 4], dtype=torch.float32)\n",
    "print( torch.complex(real, imag) )\n",
    "\"\"\"\n",
    "torch.polar(abs, angle, *, out=None)  'out = abs*cos(angle)+abs*sin(angle)*j\n",
    "\"\"\"\n",
    "abs = torch.tensor([1, 2], dtype=torch.float64)\n",
    "angle = torch.tensor([3.1415926/2, 5*3.1415926/4], dtype=torch.float64)\n",
    "print( torch.polar(abs, angle) ) \n",
    "\"\"\"\n",
    "torch.conj(input, *, out=None)\n",
    "共轭复数，两个实部相等，虚部互为相反数\n",
    "\"\"\"\n",
    "torch.conj(torch.tensor([-1 + 1j, -2 + 2j, 3 - 3j]))"
   ]
  },
  {
   "cell_type": "markdown",
   "id": "72544ea3",
   "metadata": {},
   "source": [
    "## todo: 位运算"
   ]
  },
  {
   "cell_type": "code",
   "execution_count": null,
   "id": "d600a654",
   "metadata": {},
   "outputs": [],
   "source": [
    "\"\"\"\n",
    "torch.bitwise_and(input, other, *, out=None)\n",
    "按位与\n",
    "\"\"\"\n",
    "print( torch.bitwise_and(torch.tensor([-1, -2, 3]), torch.tensor([1, 0, 3])) )\n",
    "print( torch.bitwise_and(torch.tensor([True, True, False]), torch.tensor([False, True, False])) )\n",
    "\"\"\"\n",
    "torch.bitwise_or(input, other, *, out=None)\n",
    "按位或\n",
    "\"\"\"\n",
    "print( torch.bitwise_or(torch.tensor([-1, -2, 3]), torch.tensor([1, 0, 3])) )\n",
    "print( torch.bitwise_or(torch.tensor([True, True, False]), torch.tensor([False, True, False])) )\n",
    "\"\"\"\n",
    "torch.bitwise_xor(input, other, *, out=None)\n",
    "按位异或\n",
    "\"\"\"\n",
    "print( torch.bitwise_xor(torch.tensor([-1, -2, 3]), torch.tensor([1, 0, 3])) )\n",
    "print( torch.bitwise_xor(torch.tensor([True, True, False]), torch.tensor([False, True, False])) )\n",
    "\"\"\"\n",
    "torch.bitwise_not(input, *, out=None)\n",
    "按位取反，即 ~x = -（x+1）\n",
    "\"\"\"\n",
    "print( torch.bitwise_not(torch.tensor([-1, -2, 3])) )\n",
    "\n",
    "\n",
    "todo:\n",
    "https://pytorch.org/docs/stable/generated/torch.logical_and.html#torch.logical_and\n",
    "https://pytorch.org/docs/stable/generated/torch.logical_or.html#torch.logical_or\n",
    "https://pytorch.org/docs/stable/generated/torch.logical_not.html#torch.logical_not\n",
    "https://pytorch.org/docs/stable/generated/torch.logical_xor.html#torch.logical_xor"
   ]
  }
 ],
 "metadata": {
  "kernelspec": {
   "display_name": "Python 3 (ipykernel)",
   "language": "python",
   "name": "python3"
  },
  "language_info": {
   "codemirror_mode": {
    "name": "ipython",
    "version": 3
   },
   "file_extension": ".py",
   "mimetype": "text/x-python",
   "name": "python",
   "nbconvert_exporter": "python",
   "pygments_lexer": "ipython3",
   "version": "3.9.7"
  },
  "toc": {
   "base_numbering": 1,
   "nav_menu": {},
   "number_sections": true,
   "sideBar": true,
   "skip_h1_title": false,
   "title_cell": "Table of Contents",
   "title_sidebar": "Contents",
   "toc_cell": false,
   "toc_position": {
    "height": "calc(100% - 180px)",
    "left": "10px",
    "top": "150px",
    "width": "286.45px"
   },
   "toc_section_display": true,
   "toc_window_display": true
  }
 },
 "nbformat": 4,
 "nbformat_minor": 5
}
